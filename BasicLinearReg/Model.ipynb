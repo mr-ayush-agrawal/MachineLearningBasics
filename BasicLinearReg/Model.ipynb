{
 "cells": [
  {
   "attachments": {},
   "cell_type": "markdown",
   "metadata": {},
   "source": [
    "## Sales vs Ad\n",
    "\n",
    "Show a Linear relation between the Amount spent by a company on Advertisment and Sales generted from it."
   ]
  },
  {
   "cell_type": "code",
   "execution_count": null,
   "metadata": {},
   "outputs": [],
   "source": [
    "# Imporing important Packages\n",
    "import os\n",
    "import numpy as np\n",
    "import pandas as pd\n",
    "import matplotlib.pyplot as plt\n",
    "import requests as r\n"
   ]
  },
  {
   "attachments": {},
   "cell_type": "markdown",
   "metadata": {},
   "source": [
    "1. **OS** -> For Getting the stuffs related to the operating system.\n",
    "1. **NumPy** -> For Dealing with numberical data and work fast in matrices form\n",
    "1. **Pandas** -> Working with dataframes to orginise the data\n",
    "1. **Matplotlib** -> For Plotting the Graphs and for visulisation purpose\n",
    "1. **Request** -> Get the data form the site"
   ]
  },
  {
   "cell_type": "code",
   "execution_count": null,
   "metadata": {},
   "outputs": [],
   "source": [
    "os.getcwd()"
   ]
  },
  {
   "cell_type": "code",
   "execution_count": null,
   "metadata": {},
   "outputs": [],
   "source": [
    "# Getting the data from the site using request module\n",
    "try :\n",
    "    Response_Data = r.get('http://www.econometrics.com/intro/SALES.txt').text\n",
    "except :\n",
    "    print(\"Check Your Internet Connectivity.....\")\n",
    "    exit()\n",
    "print(Response_Data)"
   ]
  },
  {
   "cell_type": "code",
   "execution_count": null,
   "metadata": {},
   "outputs": [],
   "source": [
    "# Creating the DataFrame\n",
    "lst = Response_Data.split('\\n')\n",
    "df = pd.DataFrame([x.strip().split(\"   \") for x in lst if len(x)!=0 ])\n",
    "df\n",
    "\n",
    "# Here we are seprating using \"SPACES\" we can use seprater when reading as a csv There we can put sep=\"\\s+\" -> One or more space"
   ]
  },
  {
   "cell_type": "code",
   "execution_count": null,
   "metadata": {},
   "outputs": [],
   "source": [
    "# Coverting the dataframe Type\n",
    "print(df.dtypes)\n",
    "df = df.astype({ 0:float,  1:float })\n",
    "print(df.dtypes)\n",
    "print(df.shape)\n",
    "df.head(4)"
   ]
  },
  {
   "cell_type": "code",
   "execution_count": null,
   "metadata": {},
   "outputs": [],
   "source": [
    "# Renaming the Columns\n",
    "df.columns = [\"Sales\", \"Ad\"]\n",
    "df.head()"
   ]
  },
  {
   "cell_type": "code",
   "execution_count": null,
   "metadata": {},
   "outputs": [],
   "source": [
    "df.describe()"
   ]
  },
  {
   "attachments": {},
   "cell_type": "markdown",
   "metadata": {},
   "source": [
    "### Plotting a Scatter Plot "
   ]
  },
  {
   "attachments": {},
   "cell_type": "markdown",
   "metadata": {},
   "source": [
    "Now we will plot the Ad vs Sales Graph to check how much Advertising is required for getting a sale\n",
    "\n",
    "X - axis -> Sales<br>\n",
    "Y - axis -> Ad"
   ]
  },
  {
   "cell_type": "code",
   "execution_count": null,
   "metadata": {},
   "outputs": [],
   "source": [
    "X_axis = df[\"Sales\"].values\n",
    "y_axis = df[\"Ad\"].values"
   ]
  },
  {
   "cell_type": "code",
   "execution_count": null,
   "metadata": {},
   "outputs": [],
   "source": [
    "# Reshapping the axes\n",
    "print(X_axis.shape)\n",
    "print(y_axis.shape)\n",
    "\n",
    "# -1 -> Any number of Rows, 1 -> Only 1 Column\n",
    "X_axis = X_axis.reshape(-1,1)\n",
    "y_axis = y_axis.reshape(-1,1)\n",
    "\n",
    "print(X_axis.shape)\n",
    "print(y_axis.shape)"
   ]
  },
  {
   "attachments": {},
   "cell_type": "markdown",
   "metadata": {},
   "source": [
    "Here we are using reshape as the 1D Array is not Accepted by the Fit function it need 2D Array"
   ]
  },
  {
   "cell_type": "code",
   "execution_count": null,
   "metadata": {},
   "outputs": [],
   "source": [
    "plt.scatter(X_axis, y_axis , color='b', label='Scatter Plot')\n",
    "plt.title(\"Ad Vs Sales\")\n",
    "# Labeling the axes\n",
    "plt.xlabel(\"Sales\")\n",
    "plt.ylabel(\"Ad\")\n",
    "plt.show()  # This is used to popup the graph but in jupyter it directly shows it"
   ]
  },
  {
   "attachments": {},
   "cell_type": "markdown",
   "metadata": {},
   "source": [
    "### Now Training Testing and predecting"
   ]
  },
  {
   "attachments": {},
   "cell_type": "markdown",
   "metadata": {},
   "source": [
    "#### Splitting the Dataset\n",
    "\n",
    "Now we are splitting the data set to test and train portion"
   ]
  },
  {
   "cell_type": "code",
   "execution_count": 147,
   "metadata": {},
   "outputs": [],
   "source": [
    "from sklearn.model_selection import train_test_split\n",
    "import random\n",
    "\n",
    "# Splitting the dataset\n",
    "X_train , X_test, Y_train, Y_test = train_test_split(X_axis,y_axis, test_size=.3, random_state=random.randint(0,100))\n",
    "# print(X_train , X_train.shape)\n",
    "# print(X_test , X_test.shape)\n",
    "# print(Y_train , Y_train.shape)\n",
    "# print(Y_test , Y_test.shape)\n"
   ]
  },
  {
   "attachments": {},
   "cell_type": "markdown",
   "metadata": {},
   "source": [
    "Till here we have created the data for training purpose and now we have to crate a ML model and fit the data into it"
   ]
  },
  {
   "attachments": {},
   "cell_type": "markdown",
   "metadata": {},
   "source": [
    "#### Model Creation and Training\n",
    "\n",
    "Here we will be going with the Linear Regression Model"
   ]
  },
  {
   "cell_type": "code",
   "execution_count": 148,
   "metadata": {},
   "outputs": [],
   "source": [
    "from sklearn.linear_model import LinearRegression\n",
    "\n",
    "model = LinearRegression()\n",
    "\n",
    "# Fitting the model\n",
    "model.fit(X_train, Y_train)\n",
    "\n",
    "y_prediction = model.predict(X_test)"
   ]
  },
  {
   "cell_type": "code",
   "execution_count": 149,
   "metadata": {},
   "outputs": [
    {
     "data": {
      "text/plain": [
       "32.54683517824457"
      ]
     },
     "execution_count": 149,
     "metadata": {},
     "output_type": "execute_result"
    }
   ],
   "source": [
    "# Checking the predictied Values\n",
    "y_prediction\n",
    "\n",
    "# Next are some random stuffs\n",
    "type(y_prediction)\n",
    "y_prediction.mean()"
   ]
  },
  {
   "attachments": {},
   "cell_type": "markdown",
   "metadata": {},
   "source": [
    "#### Creating Line graph for showing the predictied values"
   ]
  },
  {
   "cell_type": "code",
   "execution_count": 150,
   "metadata": {},
   "outputs": [
    {
     "data": {
      "text/plain": [
       "Text(0.5, 1.0, 'Ad Vs Sales')"
      ]
     },
     "execution_count": 150,
     "metadata": {},
     "output_type": "execute_result"
    },
    {
     "data": {
      "image/png": "[encoded data removed]",
      "text/plain": [
       "<Figure size 640x480 with 1 Axes>"
      ]
     },
     "metadata": {},
     "output_type": "display_data"
    }
   ],
   "source": [
    "plt.scatter(X_axis,y_axis, color= 'b', label= 'Scatter Plot')\n",
    "plt.plot(X_test,y_prediction, color='r', linewidth = 2.1, label = \"Model Line\")\n",
    "plt.xlabel(\"Sales\")\n",
    "plt.ylabel(\"Ad\")\n",
    "plt.title(\"Ad Vs Sales\")"
   ]
  }
 ],
 "metadata": {
  "kernelspec": {
   "display_name": "Python 3",
   "language": "python",
   "name": "python3"
  },
  "language_info": {
   "codemirror_mode": {
    "name": "ipython",
    "version": 3
   },
   "file_extension": ".py",
   "mimetype": "text/x-python",
   "name": "python",
   "nbconvert_exporter": "python",
   "pygments_lexer": "ipython3",
   "version": "3.11.1"
  },
  "orig_nbformat": 4
 },
 "nbformat": 4,
 "nbformat_minor": 2
}
