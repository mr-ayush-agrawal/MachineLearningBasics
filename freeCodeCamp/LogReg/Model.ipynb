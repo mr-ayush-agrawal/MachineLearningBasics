{
 "cells": [
  {
   "cell_type": "markdown",
   "metadata": {},
   "source": [
    "## Loading the data"
   ]
  },
  {
   "cell_type": "code",
   "execution_count": 19,
   "metadata": {},
   "outputs": [],
   "source": [
    "import pandas as pd"
   ]
  },
  {
   "cell_type": "code",
   "execution_count": 20,
   "metadata": {},
   "outputs": [
    {
     "data": {
      "text/plain": [
       "((97988, 117), (97988, 1))"
      ]
     },
     "execution_count": 20,
     "metadata": {},
     "output_type": "execute_result"
    }
   ],
   "source": [
    "x_train = pd.read_parquet('x_train.parquet')\n",
    "y_train = pd.read_parquet('y_train.parquet')\n",
    "\n",
    "x_train.shape, y_train.shape"
   ]
  },
  {
   "cell_type": "code",
   "execution_count": 21,
   "metadata": {},
   "outputs": [
    {
     "data": {
      "text/plain": [
       "0"
      ]
     },
     "execution_count": 21,
     "metadata": {},
     "output_type": "execute_result"
    }
   ],
   "source": [
    "x_train.isna().sum().sum()"
   ]
  },
  {
   "cell_type": "code",
   "execution_count": 24,
   "metadata": {},
   "outputs": [
    {
     "data": {
      "text/html": [
       "<div>\n",
       "<style scoped>\n",
       "    .dataframe tbody tr th:only-of-type {\n",
       "        vertical-align: middle;\n",
       "    }\n",
       "\n",
       "    .dataframe tbody tr th {\n",
       "        vertical-align: top;\n",
       "    }\n",
       "\n",
       "    .dataframe thead th {\n",
       "        text-align: right;\n",
       "    }\n",
       "</style>\n",
       "<table border=\"1\" class=\"dataframe\">\n",
       "  <thead>\n",
       "    <tr style=\"text-align: right;\">\n",
       "      <th></th>\n",
       "      <th>RainTomorrow</th>\n",
       "    </tr>\n",
       "  </thead>\n",
       "  <tbody>\n",
       "    <tr>\n",
       "      <th>0</th>\n",
       "      <td>No</td>\n",
       "    </tr>\n",
       "    <tr>\n",
       "      <th>1</th>\n",
       "      <td>No</td>\n",
       "    </tr>\n",
       "    <tr>\n",
       "      <th>2</th>\n",
       "      <td>No</td>\n",
       "    </tr>\n",
       "    <tr>\n",
       "      <th>3</th>\n",
       "      <td>No</td>\n",
       "    </tr>\n",
       "    <tr>\n",
       "      <th>4</th>\n",
       "      <td>No</td>\n",
       "    </tr>\n",
       "    <tr>\n",
       "      <th>...</th>\n",
       "      <td>...</td>\n",
       "    </tr>\n",
       "    <tr>\n",
       "      <th>144548</th>\n",
       "      <td>No</td>\n",
       "    </tr>\n",
       "    <tr>\n",
       "      <th>144549</th>\n",
       "      <td>No</td>\n",
       "    </tr>\n",
       "    <tr>\n",
       "      <th>144550</th>\n",
       "      <td>No</td>\n",
       "    </tr>\n",
       "    <tr>\n",
       "      <th>144551</th>\n",
       "      <td>No</td>\n",
       "    </tr>\n",
       "    <tr>\n",
       "      <th>144552</th>\n",
       "      <td>No</td>\n",
       "    </tr>\n",
       "  </tbody>\n",
       "</table>\n",
       "<p>97988 rows × 1 columns</p>\n",
       "</div>"
      ],
      "text/plain": [
       "       RainTomorrow\n",
       "0                No\n",
       "1                No\n",
       "2                No\n",
       "3                No\n",
       "4                No\n",
       "...             ...\n",
       "144548           No\n",
       "144549           No\n",
       "144550           No\n",
       "144551           No\n",
       "144552           No\n",
       "\n",
       "[97988 rows x 1 columns]"
      ]
     },
     "execution_count": 24,
     "metadata": {},
     "output_type": "execute_result"
    }
   ],
   "source": [
    "y_train"
   ]
  },
  {
   "cell_type": "markdown",
   "metadata": {},
   "source": [
    "## Training The Model"
   ]
  },
  {
   "cell_type": "code",
   "execution_count": 22,
   "metadata": {},
   "outputs": [],
   "source": [
    "from sklearn.linear_model import LogisticRegression"
   ]
  },
  {
   "cell_type": "code",
   "execution_count": 23,
   "metadata": {},
   "outputs": [
    {
     "name": "stderr",
     "output_type": "stream",
     "text": [
      "c:\\Python312\\Lib\\site-packages\\sklearn\\utils\\validation.py:1183: DataConversionWarning: A column-vector y was passed when a 1d array was expected. Please change the shape of y to (n_samples, ), for example using ravel().\n",
      "  y = column_or_1d(y, warn=True)\n"
     ]
    },
    {
     "data": {
      "text/html": [
       "<style>#sk-container-id-1 {color: black;}#sk-container-id-1 pre{padding: 0;}#sk-container-id-1 div.sk-toggleable {background-color: white;}#sk-container-id-1 label.sk-toggleable__label {cursor: pointer;display: block;width: 100%;margin-bottom: 0;padding: 0.3em;box-sizing: border-box;text-align: center;}#sk-container-id-1 label.sk-toggleable__label-arrow:before {content: \"▸\";float: left;margin-right: 0.25em;color: #696969;}#sk-container-id-1 label.sk-toggleable__label-arrow:hover:before {color: black;}#sk-container-id-1 div.sk-estimator:hover label.sk-toggleable__label-arrow:before {color: black;}#sk-container-id-1 div.sk-toggleable__content {max-height: 0;max-width: 0;overflow: hidden;text-align: left;background-color: #f0f8ff;}#sk-container-id-1 div.sk-toggleable__content pre {margin: 0.2em;color: black;border-radius: 0.25em;background-color: #f0f8ff;}#sk-container-id-1 input.sk-toggleable__control:checked~div.sk-toggleable__content {max-height: 200px;max-width: 100%;overflow: auto;}#sk-container-id-1 input.sk-toggleable__control:checked~label.sk-toggleable__label-arrow:before {content: \"▾\";}#sk-container-id-1 div.sk-estimator input.sk-toggleable__control:checked~label.sk-toggleable__label {background-color: #d4ebff;}#sk-container-id-1 div.sk-label input.sk-toggleable__control:checked~label.sk-toggleable__label {background-color: #d4ebff;}#sk-container-id-1 input.sk-hidden--visually {border: 0;clip: rect(1px 1px 1px 1px);clip: rect(1px, 1px, 1px, 1px);height: 1px;margin: -1px;overflow: hidden;padding: 0;position: absolute;width: 1px;}#sk-container-id-1 div.sk-estimator {font-family: monospace;background-color: #f0f8ff;border: 1px dotted black;border-radius: 0.25em;box-sizing: border-box;margin-bottom: 0.5em;}#sk-container-id-1 div.sk-estimator:hover {background-color: #d4ebff;}#sk-container-id-1 div.sk-parallel-item::after {content: \"\";width: 100%;border-bottom: 1px solid gray;flex-grow: 1;}#sk-container-id-1 div.sk-label:hover label.sk-toggleable__label {background-color: #d4ebff;}#sk-container-id-1 div.sk-serial::before {content: \"\";position: absolute;border-left: 1px solid gray;box-sizing: border-box;top: 0;bottom: 0;left: 50%;z-index: 0;}#sk-container-id-1 div.sk-serial {display: flex;flex-direction: column;align-items: center;background-color: white;padding-right: 0.2em;padding-left: 0.2em;position: relative;}#sk-container-id-1 div.sk-item {position: relative;z-index: 1;}#sk-container-id-1 div.sk-parallel {display: flex;align-items: stretch;justify-content: center;background-color: white;position: relative;}#sk-container-id-1 div.sk-item::before, #sk-container-id-1 div.sk-parallel-item::before {content: \"\";position: absolute;border-left: 1px solid gray;box-sizing: border-box;top: 0;bottom: 0;left: 50%;z-index: -1;}#sk-container-id-1 div.sk-parallel-item {display: flex;flex-direction: column;z-index: 1;position: relative;background-color: white;}#sk-container-id-1 div.sk-parallel-item:first-child::after {align-self: flex-end;width: 50%;}#sk-container-id-1 div.sk-parallel-item:last-child::after {align-self: flex-start;width: 50%;}#sk-container-id-1 div.sk-parallel-item:only-child::after {width: 0;}#sk-container-id-1 div.sk-dashed-wrapped {border: 1px dashed gray;margin: 0 0.4em 0.5em 0.4em;box-sizing: border-box;padding-bottom: 0.4em;background-color: white;}#sk-container-id-1 div.sk-label label {font-family: monospace;font-weight: bold;display: inline-block;line-height: 1.2em;}#sk-container-id-1 div.sk-label-container {text-align: center;}#sk-container-id-1 div.sk-container {/* jupyter's `normalize.less` sets `[hidden] { display: none; }` but bootstrap.min.css set `[hidden] { display: none !important; }` so we also need the `!important` here to be able to override the default hidden behavior on the sphinx rendered scikit-learn.org. See: https://github.com/scikit-learn/scikit-learn/issues/21755 */display: inline-block !important;position: relative;}#sk-container-id-1 div.sk-text-repr-fallback {display: none;}</style><div id=\"sk-container-id-1\" class=\"sk-top-container\"><div class=\"sk-text-repr-fallback\"><pre>LogisticRegression(solver=&#x27;liblinear&#x27;)</pre><b>In a Jupyter environment, please rerun this cell to show the HTML representation or trust the notebook. <br />On GitHub, the HTML representation is unable to render, please try loading this page with nbviewer.org.</b></div><div class=\"sk-container\" hidden><div class=\"sk-item\"><div class=\"sk-estimator sk-toggleable\"><input class=\"sk-toggleable__control sk-hidden--visually\" id=\"sk-estimator-id-1\" type=\"checkbox\" checked><label for=\"sk-estimator-id-1\" class=\"sk-toggleable__label sk-toggleable__label-arrow\">LogisticRegression</label><div class=\"sk-toggleable__content\"><pre>LogisticRegression(solver=&#x27;liblinear&#x27;)</pre></div></div></div></div></div>"
      ],
      "text/plain": [
       "LogisticRegression(solver='liblinear')"
      ]
     },
     "execution_count": 23,
     "metadata": {},
     "output_type": "execute_result"
    }
   ],
   "source": [
    "model = LogisticRegression(solver= 'liblinear')\n",
    "model.fit(x_train, y_train)"
   ]
  },
  {
   "cell_type": "code",
   "execution_count": 28,
   "metadata": {},
   "outputs": [
    {
     "data": {
      "text/plain": [
       "117"
      ]
     },
     "execution_count": 28,
     "metadata": {},
     "output_type": "execute_result"
    }
   ],
   "source": [
    "len(x_train.columns.tolist())"
   ]
  },
  {
   "cell_type": "code",
   "execution_count": 36,
   "metadata": {},
   "outputs": [
    {
     "data": {
      "text/plain": [
       "array([ 9.82884425e-01, -1.61386213e+00,  3.25678117e+00,  7.39513806e-01,\n",
       "       -1.66573173e+00,  6.71276394e+00, -8.94635484e-01, -1.47861531e+00,\n",
       "        5.08637269e-01,  5.66897459e+00,  5.75141487e+00, -9.44242351e+00,\n",
       "       -1.54227331e-01,  1.26926780e+00,  9.61125779e-01,  5.96816971e-01,\n",
       "       -5.43356879e-01,  4.84106548e-01,  1.26906968e-02,  3.42099959e-01,\n",
       "       -3.50293529e-01,  1.81450918e-01,  4.25850805e-01, -4.91223966e-03,\n",
       "        1.54232555e-02,  2.53770131e-01, -1.84029726e-02, -3.04681658e-02,\n",
       "       -4.67292366e-01, -1.44188577e-01, -5.90816013e-01, -7.44573281e-01,\n",
       "       -2.49883336e-01, -3.28667138e-01, -5.70917370e-01,  8.01690013e-02,\n",
       "        1.40349870e-02,  5.99526572e-02, -8.77145236e-01, -4.41486169e-01,\n",
       "        1.18256767e-02, -4.59478698e-01, -4.60181039e-01, -7.46910804e-02,\n",
       "        1.94557025e-01,  4.45677291e-01,  6.07370249e-01,  4.30394676e-01,\n",
       "       -2.08871559e-02,  2.53153843e-01, -3.19395226e-01,  4.06662854e-01,\n",
       "       -5.79831615e-02, -1.11410306e-01, -7.15541653e-01,  3.58709325e-01,\n",
       "        1.96023585e-01,  1.82366389e-01,  1.81923973e-01, -2.52509545e-01,\n",
       "        2.16731984e-02,  6.91543359e-01, -7.93562795e-01, -1.84152659e-01,\n",
       "       -1.53100597e-01, -1.51387322e-01, -5.55080150e-02, -2.17594032e-01,\n",
       "       -2.25162005e-01, -3.14965816e-01, -1.60591421e-01, -1.53155848e-01,\n",
       "       -1.02294656e-01, -2.69264303e-02, -4.35569386e-02, -8.85040974e-02,\n",
       "       -8.75393077e-02, -2.22395867e-01, -2.58469694e-01, -1.99655652e-01,\n",
       "        9.68584843e-02, -3.09340371e-01, -2.16586513e-02, -3.20631831e-01,\n",
       "        3.04563062e-02, -1.75841711e-02,  1.48343310e-01, -6.36023647e-02,\n",
       "       -5.75730332e-02, -4.02592398e-01, -3.00914879e-01, -3.98946527e-01,\n",
       "       -1.87417519e-01, -5.34834155e-02, -8.16041243e-02, -5.46229458e-02,\n",
       "       -1.02798129e-02, -2.62496788e-01, -2.33622826e-01, -1.43299999e-01,\n",
       "       -2.32037010e-01,  5.01763714e-02, -2.99290867e-01, -6.87402465e-02,\n",
       "        2.97909035e-01,  2.31588141e-01, -2.67759353e-01, -2.39791609e-01,\n",
       "       -3.67650891e-01, -3.21599580e-01, -3.76219514e-01, -1.81048471e-01,\n",
       "       -2.77011179e-02, -2.81540468e-01,  9.66791873e-02, -1.43015821e+00,\n",
       "       -9.33791010e-01])"
      ]
     },
     "execution_count": 36,
     "metadata": {},
     "output_type": "execute_result"
    }
   ],
   "source": [
    "model.coef_"
   ]
  },
  {
   "cell_type": "code",
   "execution_count": 38,
   "metadata": {},
   "outputs": [
    {
     "data": {
      "text/html": [
       "<div>\n",
       "<style scoped>\n",
       "    .dataframe tbody tr th:only-of-type {\n",
       "        vertical-align: middle;\n",
       "    }\n",
       "\n",
       "    .dataframe tbody tr th {\n",
       "        vertical-align: top;\n",
       "    }\n",
       "\n",
       "    .dataframe thead th {\n",
       "        text-align: right;\n",
       "    }\n",
       "</style>\n",
       "<table border=\"1\" class=\"dataframe\">\n",
       "  <thead>\n",
       "    <tr style=\"text-align: right;\">\n",
       "      <th></th>\n",
       "      <th>0</th>\n",
       "      <th>1</th>\n",
       "      <th>2</th>\n",
       "      <th>3</th>\n",
       "      <th>4</th>\n",
       "      <th>5</th>\n",
       "      <th>6</th>\n",
       "      <th>7</th>\n",
       "      <th>8</th>\n",
       "      <th>9</th>\n",
       "      <th>...</th>\n",
       "      <th>107</th>\n",
       "      <th>108</th>\n",
       "      <th>109</th>\n",
       "      <th>110</th>\n",
       "      <th>111</th>\n",
       "      <th>112</th>\n",
       "      <th>113</th>\n",
       "      <th>114</th>\n",
       "      <th>115</th>\n",
       "      <th>116</th>\n",
       "    </tr>\n",
       "  </thead>\n",
       "  <tbody>\n",
       "    <tr>\n",
       "      <th>Feature</th>\n",
       "      <td>MinTemp</td>\n",
       "      <td>MaxTemp</td>\n",
       "      <td>Rainfall</td>\n",
       "      <td>Evaporation</td>\n",
       "      <td>Sunshine</td>\n",
       "      <td>WindGustSpeed</td>\n",
       "      <td>WindSpeed9am</td>\n",
       "      <td>WindSpeed3pm</td>\n",
       "      <td>Humidity9am</td>\n",
       "      <td>Humidity3pm</td>\n",
       "      <td>...</td>\n",
       "      <td>WindDir3pm_SE</td>\n",
       "      <td>WindDir3pm_SSE</td>\n",
       "      <td>WindDir3pm_SSW</td>\n",
       "      <td>WindDir3pm_SW</td>\n",
       "      <td>WindDir3pm_W</td>\n",
       "      <td>WindDir3pm_WNW</td>\n",
       "      <td>WindDir3pm_WSW</td>\n",
       "      <td>WindDir3pm_nan</td>\n",
       "      <td>RainToday_No</td>\n",
       "      <td>RainToday_Yes</td>\n",
       "    </tr>\n",
       "    <tr>\n",
       "      <th>Weights</th>\n",
       "      <td>0.982884</td>\n",
       "      <td>-1.613862</td>\n",
       "      <td>3.256781</td>\n",
       "      <td>0.739514</td>\n",
       "      <td>-1.665732</td>\n",
       "      <td>6.712764</td>\n",
       "      <td>-0.894635</td>\n",
       "      <td>-1.478615</td>\n",
       "      <td>0.508637</td>\n",
       "      <td>5.668975</td>\n",
       "      <td>...</td>\n",
       "      <td>-0.239792</td>\n",
       "      <td>-0.367651</td>\n",
       "      <td>-0.3216</td>\n",
       "      <td>-0.37622</td>\n",
       "      <td>-0.181048</td>\n",
       "      <td>-0.027701</td>\n",
       "      <td>-0.28154</td>\n",
       "      <td>0.096679</td>\n",
       "      <td>-1.430158</td>\n",
       "      <td>-0.933791</td>\n",
       "    </tr>\n",
       "  </tbody>\n",
       "</table>\n",
       "<p>2 rows × 117 columns</p>\n",
       "</div>"
      ],
      "text/plain": [
       "              0         1         2            3         4              5    \\\n",
       "Feature   MinTemp   MaxTemp  Rainfall  Evaporation  Sunshine  WindGustSpeed   \n",
       "Weights  0.982884 -1.613862  3.256781     0.739514 -1.665732       6.712764   \n",
       "\n",
       "                  6             7            8            9    ...  \\\n",
       "Feature  WindSpeed9am  WindSpeed3pm  Humidity9am  Humidity3pm  ...   \n",
       "Weights     -0.894635     -1.478615     0.508637     5.668975  ...   \n",
       "\n",
       "                   107             108             109            110  \\\n",
       "Feature  WindDir3pm_SE  WindDir3pm_SSE  WindDir3pm_SSW  WindDir3pm_SW   \n",
       "Weights      -0.239792       -0.367651         -0.3216       -0.37622   \n",
       "\n",
       "                  111             112             113             114  \\\n",
       "Feature  WindDir3pm_W  WindDir3pm_WNW  WindDir3pm_WSW  WindDir3pm_nan   \n",
       "Weights     -0.181048       -0.027701        -0.28154        0.096679   \n",
       "\n",
       "                  115            116  \n",
       "Feature  RainToday_No  RainToday_Yes  \n",
       "Weights     -1.430158      -0.933791  \n",
       "\n",
       "[2 rows x 117 columns]"
      ]
     },
     "execution_count": 38,
     "metadata": {},
     "output_type": "execute_result"
    }
   ],
   "source": [
    "pd.DataFrame({\n",
    "    \"Feature\" :  x_train.columns.tolist(),\n",
    "    \"Weights\" :  model.coef_[0].tolist()\n",
    "}).T"
   ]
  },
  {
   "cell_type": "markdown",
   "metadata": {},
   "source": [
    "## Making Predection\n",
    "\n",
    "We will check the outputs of the model in both training, validation and test sets"
   ]
  },
  {
   "cell_type": "code",
   "execution_count": 39,
   "metadata": {},
   "outputs": [
    {
     "data": {
      "text/plain": [
       "(array(['No', 'No', 'No', ..., 'No', 'No', 'No'], dtype=object),\n",
       "        RainTomorrow\n",
       " 0                No\n",
       " 1                No\n",
       " 2                No\n",
       " 3                No\n",
       " 4                No\n",
       " ...             ...\n",
       " 144548           No\n",
       " 144549           No\n",
       " 144550           No\n",
       " 144551           No\n",
       " 144552           No\n",
       " \n",
       " [97988 rows x 1 columns])"
      ]
     },
     "execution_count": 39,
     "metadata": {},
     "output_type": "execute_result"
    }
   ],
   "source": [
    "train_pre = model.predict(x_train)\n",
    "train_pre, y_train"
   ]
  },
  {
   "cell_type": "markdown",
   "metadata": {},
   "source": [
    "For validation we are using accuracy score"
   ]
  },
  {
   "cell_type": "code",
   "execution_count": 41,
   "metadata": {},
   "outputs": [],
   "source": [
    "from sklearn.metrics import accuracy_score\n",
    "from sklearn.metrics import confusion_matrix"
   ]
  },
  {
   "cell_type": "code",
   "execution_count": 42,
   "metadata": {},
   "outputs": [
    {
     "data": {
      "text/plain": [
       "0.8519002326815528"
      ]
     },
     "execution_count": 42,
     "metadata": {},
     "output_type": "execute_result"
    }
   ],
   "source": [
    "accuracy_score(y_train, train_pre)"
   ]
  },
  {
   "cell_type": "markdown",
   "metadata": {},
   "source": [
    "Checking the training Probablity of the model"
   ]
  },
  {
   "cell_type": "code",
   "execution_count": 44,
   "metadata": {},
   "outputs": [
    {
     "data": {
      "text/plain": [
       "array([[0.93950629, 0.06049371],\n",
       "       [0.94333091, 0.05666909],\n",
       "       [0.95980434, 0.04019566],\n",
       "       ...,\n",
       "       [0.98730094, 0.01269906],\n",
       "       [0.983581  , 0.016419  ],\n",
       "       [0.87599703, 0.12400297]])"
      ]
     },
     "execution_count": 44,
     "metadata": {},
     "output_type": "execute_result"
    }
   ],
   "source": [
    "train_probs = model.predict_proba(x_train)\n",
    "train_probs"
   ]
  },
  {
   "cell_type": "code",
   "execution_count": 52,
   "metadata": {},
   "outputs": [
    {
     "data": {
      "text/plain": [
       "array([[94.61346633,  5.38653367],\n",
       "       [47.74749977, 52.25250023]])"
      ]
     },
     "execution_count": 52,
     "metadata": {},
     "output_type": "execute_result"
    }
   ],
   "source": [
    "confusion_matrix(y_train, train_pre, normalize='true') * 100"
   ]
  },
  {
   "cell_type": "markdown",
   "metadata": {},
   "source": [
    "### Checking the model in validation set"
   ]
  },
  {
   "cell_type": "code",
   "execution_count": 55,
   "metadata": {},
   "outputs": [
    {
     "data": {
      "text/plain": [
       "((17089, 117), (17089, 1))"
      ]
     },
     "execution_count": 55,
     "metadata": {},
     "output_type": "execute_result"
    }
   ],
   "source": [
    "x_val = pd.read_parquet('x_val.parquet')\n",
    "y_val = pd.read_parquet('y_val.parquet')\n",
    "\n",
    "x_val.shape, y_val.shape"
   ]
  },
  {
   "cell_type": "code",
   "execution_count": 58,
   "metadata": {},
   "outputs": [
    {
     "data": {
      "text/plain": [
       "(array(['No', 'No', 'No', ..., 'No', 'No', 'No'], dtype=object),\n",
       "        RainTomorrow\n",
       " 2133             No\n",
       " 2134             No\n",
       " 2135             No\n",
       " 2136             No\n",
       " 2137             No\n",
       " ...             ...\n",
       " 144913           No\n",
       " 144914           No\n",
       " 144915           No\n",
       " 144916           No\n",
       " 144917           No\n",
       " \n",
       " [17089 rows x 1 columns])"
      ]
     },
     "execution_count": 58,
     "metadata": {},
     "output_type": "execute_result"
    }
   ],
   "source": [
    "val_pre = model.predict(x_val)\n",
    "val_pre, y_val"
   ]
  },
  {
   "cell_type": "code",
   "execution_count": 59,
   "metadata": {},
   "outputs": [
    {
     "data": {
      "text/plain": [
       "0.854058166071742"
      ]
     },
     "execution_count": 59,
     "metadata": {},
     "output_type": "execute_result"
    }
   ],
   "source": [
    "accuracy_score(y_val, val_pre)"
   ]
  },
  {
   "cell_type": "code",
   "execution_count": 60,
   "metadata": {},
   "outputs": [
    {
     "data": {
      "text/plain": [
       "array([[0.95810821, 0.04189179],\n",
       "       [0.53884852, 0.46115148]])"
      ]
     },
     "execution_count": 60,
     "metadata": {},
     "output_type": "execute_result"
    }
   ],
   "source": [
    "confusion_matrix(y_val, val_pre, normalize='true')"
   ]
  },
  {
   "cell_type": "markdown",
   "metadata": {},
   "source": [
    "### Test Set"
   ]
  },
  {
   "cell_type": "code",
   "execution_count": 61,
   "metadata": {},
   "outputs": [
    {
     "data": {
      "text/plain": [
       "((25710, 117), (25710, 1))"
      ]
     },
     "execution_count": 61,
     "metadata": {},
     "output_type": "execute_result"
    }
   ],
   "source": [
    "x_test = pd.read_parquet('x_test.parquet')\n",
    "y_test = pd.read_parquet('y_test.parquet')\n",
    "\n",
    "x_test.shape, y_test.shape"
   ]
  },
  {
   "cell_type": "code",
   "execution_count": 63,
   "metadata": {},
   "outputs": [],
   "source": [
    "test_pre = model.predict(x_test)"
   ]
  },
  {
   "cell_type": "code",
   "execution_count": 64,
   "metadata": {},
   "outputs": [
    {
     "data": {
      "text/plain": [
       "0.8424737456242707"
      ]
     },
     "execution_count": 64,
     "metadata": {},
     "output_type": "execute_result"
    }
   ],
   "source": [
    "accuracy_score(y_test, test_pre)"
   ]
  },
  {
   "cell_type": "code",
   "execution_count": 66,
   "metadata": {},
   "outputs": [
    {
     "data": {
      "text/plain": [
       "array([[94.7447825 ,  5.2552175 ],\n",
       "       [51.58798283, 48.41201717]])"
      ]
     },
     "execution_count": 66,
     "metadata": {},
     "output_type": "execute_result"
    }
   ],
   "source": [
    "confusion_matrix(y_test, test_pre, normalize='true') * 100"
   ]
  },
  {
   "cell_type": "markdown",
   "metadata": {},
   "source": [
    "## Making Random Model "
   ]
  },
  {
   "cell_type": "code",
   "execution_count": 75,
   "metadata": {},
   "outputs": [],
   "source": [
    "import numpy as np\n",
    "def rand_moldel(inp):\n",
    "    return np.random.choice(['Yes', 'No'], len(inp))\n",
    "def say_no(inp):\n",
    "    return np.full(len(inp), 'No')"
   ]
  },
  {
   "cell_type": "code",
   "execution_count": 76,
   "metadata": {},
   "outputs": [
    {
     "data": {
      "text/plain": [
       "(0.5006223259432128, 0.7734344612991054)"
      ]
     },
     "execution_count": 76,
     "metadata": {},
     "output_type": "execute_result"
    }
   ],
   "source": [
    "accuracy_score(y_test,  rand_moldel(x_test)), accuracy_score(y_test, say_no(x_test))"
   ]
  },
  {
   "cell_type": "markdown",
   "metadata": {},
   "source": [
    "## Skipping Exporting Model\n",
    "This is done as this is not at all required at this point of time."
   ]
  }
 ],
 "metadata": {
  "kernelspec": {
   "display_name": "Python 3",
   "language": "python",
   "name": "python3"
  },
  "language_info": {
   "codemirror_mode": {
    "name": "ipython",
    "version": 3
   },
   "file_extension": ".py",
   "mimetype": "text/x-python",
   "name": "python",
   "nbconvert_exporter": "python",
   "pygments_lexer": "ipython3",
   "version": "3.12.0"
  }
 },
 "nbformat": 4,
 "nbformat_minor": 2
}
