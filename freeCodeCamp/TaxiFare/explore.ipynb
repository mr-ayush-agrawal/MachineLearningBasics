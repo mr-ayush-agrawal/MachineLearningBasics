{
 "cells": [
  {
   "cell_type": "code",
   "execution_count": 1,
   "id": "08134ebe",
   "metadata": {
    "_cell_guid": "b1076dfc-b9ad-4769-8c92-a6c4dae69d19",
    "_uuid": "8f2839f25d086af736a60e9eeb907d3b93b6e0e5",
    "execution": {
     "iopub.execute_input": "2024-04-05T22:24:58.295366Z",
     "iopub.status.busy": "2024-04-05T22:24:58.294834Z",
     "iopub.status.idle": "2024-04-05T22:24:58.312824Z",
     "shell.execute_reply": "2024-04-05T22:24:58.311234Z"
    },
    "papermill": {
     "duration": 0.058014,
     "end_time": "2024-04-05T22:24:58.315984",
     "exception": false,
     "start_time": "2024-04-05T22:24:58.257970",
     "status": "completed"
    },
    "tags": []
   },
   "outputs": [
    {
     "name": "stdout",
     "output_type": "stream",
     "text": [
      "/kaggle/input/new-york-city-taxi-fare-prediction/sample_submission.csv\n",
      "/kaggle/input/new-york-city-taxi-fare-prediction/GCP-Coupons-Instructions.rtf\n",
      "/kaggle/input/new-york-city-taxi-fare-prediction/train.csv\n",
      "/kaggle/input/new-york-city-taxi-fare-prediction/test.csv\n"
     ]
    }
   ],
   "source": [
    "# Input data files are available in the read-only \"../input/\" directory\n",
    "# For example, running this (by clicking run or pressing Shift+Enter) will list all files under the input directory\n",
    "\n",
    "import os\n",
    "for dirname, _, filenames in os.walk('/kaggle/input'):\n",
    "    for filename in filenames:\n",
    "        print(os.path.join(dirname, filename))\n",
    "\n",
    "# You can write up to 20GB to the current directory (/kaggle/working/) that gets preserved as output when you create a version using \"Save & Run All\" \n",
    "# You can also write temporary files to /kaggle/temp/, but they won't be saved outside of the current session"
   ]
  },
  {
   "cell_type": "markdown",
   "id": "3c2adf43",
   "metadata": {
    "papermill": {
     "duration": 0.033699,
     "end_time": "2024-04-05T22:24:58.387099",
     "exception": false,
     "start_time": "2024-04-05T22:24:58.353400",
     "status": "completed"
    },
    "tags": []
   },
   "source": [
    "### Setp 1\n",
    "- Install req libs and Load the datas"
   ]
  },
  {
   "cell_type": "code",
   "execution_count": 2,
   "id": "b30eb53b",
   "metadata": {
    "execution": {
     "iopub.execute_input": "2024-04-05T22:24:58.457082Z",
     "iopub.status.busy": "2024-04-05T22:24:58.456599Z",
     "iopub.status.idle": "2024-04-05T22:24:59.588573Z",
     "shell.execute_reply": "2024-04-05T22:24:59.587428Z"
    },
    "papermill": {
     "duration": 1.170967,
     "end_time": "2024-04-05T22:24:59.592027",
     "exception": false,
     "start_time": "2024-04-05T22:24:58.421060",
     "status": "completed"
    },
    "tags": []
   },
   "outputs": [],
   "source": [
    "import numpy as np\n",
    "import pandas as pd"
   ]
  },
  {
   "cell_type": "code",
   "execution_count": 3,
   "id": "c9c1c856",
   "metadata": {
    "execution": {
     "iopub.execute_input": "2024-04-05T22:24:59.664936Z",
     "iopub.status.busy": "2024-04-05T22:24:59.663696Z",
     "iopub.status.idle": "2024-04-05T22:24:59.669762Z",
     "shell.execute_reply": "2024-04-05T22:24:59.668592Z"
    },
    "papermill": {
     "duration": 0.045791,
     "end_time": "2024-04-05T22:24:59.672528",
     "exception": false,
     "start_time": "2024-04-05T22:24:59.626737",
     "status": "completed"
    },
    "tags": []
   },
   "outputs": [],
   "source": [
    "data_dir = '/kaggle/input/new-york-city-taxi-fare-prediction/'"
   ]
  },
  {
   "cell_type": "code",
   "execution_count": 4,
   "id": "09c38af7",
   "metadata": {
    "execution": {
     "iopub.execute_input": "2024-04-05T22:24:59.742245Z",
     "iopub.status.busy": "2024-04-05T22:24:59.741747Z",
     "iopub.status.idle": "2024-04-05T22:25:00.841742Z",
     "shell.execute_reply": "2024-04-05T22:25:00.840223Z"
    },
    "papermill": {
     "duration": 1.138582,
     "end_time": "2024-04-05T22:25:00.844785",
     "exception": false,
     "start_time": "2024-04-05T22:24:59.706203",
     "status": "completed"
    },
    "tags": []
   },
   "outputs": [
    {
     "name": "stdout",
     "output_type": "stream",
     "text": [
      "total 5.4G\r\n",
      "-rw-r--r-- 1 nobody nogroup  486 Mar 31 07:05 GCP-Coupons-Instructions.rtf\r\n",
      "-rw-r--r-- 1 nobody nogroup 336K Mar 31 07:05 sample_submission.csv\r\n",
      "-rw-r--r-- 1 nobody nogroup 960K Mar 31 07:05 test.csv\r\n",
      "-rw-r--r-- 1 nobody nogroup 5.4G Mar 31 07:07 train.csv\r\n"
     ]
    }
   ],
   "source": [
    "!ls -lh {data_dir}"
   ]
  },
  {
   "cell_type": "markdown",
   "id": "1ffa564f",
   "metadata": {
    "papermill": {
     "duration": 0.033701,
     "end_time": "2024-04-05T22:25:00.914004",
     "exception": false,
     "start_time": "2024-04-05T22:25:00.880303",
     "status": "completed"
    },
    "tags": []
   },
   "source": [
    "All the data is in the **train.csv** file"
   ]
  },
  {
   "cell_type": "code",
   "execution_count": 5,
   "id": "7f033fcd",
   "metadata": {
    "execution": {
     "iopub.execute_input": "2024-04-05T22:25:00.986061Z",
     "iopub.status.busy": "2024-04-05T22:25:00.984574Z",
     "iopub.status.idle": "2024-04-05T22:25:00.990295Z",
     "shell.execute_reply": "2024-04-05T22:25:00.989320Z"
    },
    "papermill": {
     "duration": 0.04443,
     "end_time": "2024-04-05T22:25:00.992816",
     "exception": false,
     "start_time": "2024-04-05T22:25:00.948386",
     "status": "completed"
    },
    "tags": []
   },
   "outputs": [],
   "source": [
    "# this will take too much tine\n",
    "# !wc -l {data_dir}/train.csv"
   ]
  },
  {
   "cell_type": "code",
   "execution_count": 6,
   "id": "7d72ff53",
   "metadata": {
    "execution": {
     "iopub.execute_input": "2024-04-05T22:25:01.064852Z",
     "iopub.status.busy": "2024-04-05T22:25:01.064009Z",
     "iopub.status.idle": "2024-04-05T22:25:02.182937Z",
     "shell.execute_reply": "2024-04-05T22:25:02.181634Z"
    },
    "papermill": {
     "duration": 1.158601,
     "end_time": "2024-04-05T22:25:02.186360",
     "exception": false,
     "start_time": "2024-04-05T22:25:01.027759",
     "status": "completed"
    },
    "tags": []
   },
   "outputs": [
    {
     "name": "stdout",
     "output_type": "stream",
     "text": [
      "9914 /kaggle/input/new-york-city-taxi-fare-prediction//test.csv\r\n"
     ]
    }
   ],
   "source": [
    "!wc -l {data_dir}/test.csv"
   ]
  },
  {
   "cell_type": "markdown",
   "id": "a40bd299",
   "metadata": {
    "papermill": {
     "duration": 0.03387,
     "end_time": "2024-04-05T22:25:02.254707",
     "exception": false,
     "start_time": "2024-04-05T22:25:02.220837",
     "status": "completed"
    },
    "tags": []
   },
   "source": [
    "Getting the first line of the dataset using the _shell_ command"
   ]
  },
  {
   "cell_type": "code",
   "execution_count": 7,
   "id": "64d04f1f",
   "metadata": {
    "execution": {
     "iopub.execute_input": "2024-04-05T22:25:02.422874Z",
     "iopub.status.busy": "2024-04-05T22:25:02.422299Z",
     "iopub.status.idle": "2024-04-05T22:25:03.588280Z",
     "shell.execute_reply": "2024-04-05T22:25:03.586352Z"
    },
    "papermill": {
     "duration": 1.302714,
     "end_time": "2024-04-05T22:25:03.591656",
     "exception": false,
     "start_time": "2024-04-05T22:25:02.288942",
     "status": "completed"
    },
    "tags": []
   },
   "outputs": [
    {
     "name": "stdout",
     "output_type": "stream",
     "text": [
      "\r\n",
      "\r\n",
      "\r\n",
      "\r\n",
      "\r\n",
      "\r\n",
      "\r\n",
      "\r\n",
      "\r\n",
      "\r\n"
     ]
    }
   ],
   "source": [
    "!head {data_dir}/train.csv"
   ]
  },
  {
   "cell_type": "code",
   "execution_count": 8,
   "id": "81db222e",
   "metadata": {
    "execution": {
     "iopub.execute_input": "2024-04-05T22:25:03.665502Z",
     "iopub.status.busy": "2024-04-05T22:25:03.664963Z",
     "iopub.status.idle": "2024-04-05T22:25:04.760339Z",
     "shell.execute_reply": "2024-04-05T22:25:04.758699Z"
    },
    "papermill": {
     "duration": 1.138124,
     "end_time": "2024-04-05T22:25:04.764933",
     "exception": false,
     "start_time": "2024-04-05T22:25:03.626809",
     "status": "completed"
    },
    "tags": []
   },
   "outputs": [
    {
     "name": "stdout",
     "output_type": "stream",
     "text": [
      "\r\n",
      "\r\n",
      "\r\n",
      "\r\n",
      "\r\n",
      "\r\n",
      "\r\n",
      "\r\n",
      "\r\n",
      "\r\n"
     ]
    }
   ],
   "source": [
    "!head {data_dir}/test.csv"
   ]
  },
  {
   "cell_type": "markdown",
   "id": "5e75e390",
   "metadata": {
    "papermill": {
     "duration": 0.03485,
     "end_time": "2024-04-05T22:25:04.835192",
     "exception": false,
     "start_time": "2024-04-05T22:25:04.800342",
     "status": "completed"
    },
    "tags": []
   },
   "source": [
    "fare amount is missingw which is the pratical Target column for our analysis"
   ]
  },
  {
   "cell_type": "markdown",
   "id": "58371c2f",
   "metadata": {
    "papermill": {
     "duration": 0.034807,
     "end_time": "2024-04-05T22:25:04.906580",
     "exception": false,
     "start_time": "2024-04-05T22:25:04.871773",
     "status": "completed"
    },
    "tags": []
   },
   "source": [
    "#### Loading\n",
    "Loading the entire dataset into Pandas is going to be slow, so we can use the following optimizations:\n",
    "\n",
    "- Ignore the key column\n",
    "- Parse pickup datetime while loading data\n",
    "- Specify data types for other columns\n",
    "    - float32 for geo coordinates\n",
    "    - float32 for fare amount\n",
    "    - uint8 for passenger count\n",
    "- Work with a 1% sample of the data (~500k rows)"
   ]
  },
  {
   "cell_type": "code",
   "execution_count": 9,
   "id": "b994b33f",
   "metadata": {
    "execution": {
     "iopub.execute_input": "2024-04-05T22:25:04.979716Z",
     "iopub.status.busy": "2024-04-05T22:25:04.979202Z",
     "iopub.status.idle": "2024-04-05T22:25:04.989485Z",
     "shell.execute_reply": "2024-04-05T22:25:04.988405Z"
    },
    "papermill": {
     "duration": 0.050513,
     "end_time": "2024-04-05T22:25:04.991979",
     "exception": false,
     "start_time": "2024-04-05T22:25:04.941466",
     "status": "completed"
    },
    "tags": []
   },
   "outputs": [
    {
     "data": {
      "text/plain": [
       "['fare_amount',\n",
       " 'pickup_datetime',\n",
       " 'pickup_longitude',\n",
       " 'pickup_latitude',\n",
       " 'dropoff_longitude',\n",
       " 'dropoff_latitude',\n",
       " 'passenger_count']"
      ]
     },
     "execution_count": 9,
     "metadata": {},
     "output_type": "execute_result"
    }
   ],
   "source": [
    "# Taking all the columns except the keys\n",
    "selected_cols = 'fare_amount,pickup_datetime,pickup_longitude,pickup_latitude,dropoff_longitude,dropoff_latitude,passenger_count'.split(',')\n",
    "selected_cols"
   ]
  },
  {
   "cell_type": "code",
   "execution_count": 10,
   "id": "3d3ba6ad",
   "metadata": {
    "execution": {
     "iopub.execute_input": "2024-04-05T22:25:05.066169Z",
     "iopub.status.busy": "2024-04-05T22:25:05.065585Z",
     "iopub.status.idle": "2024-04-05T22:25:05.074987Z",
     "shell.execute_reply": "2024-04-05T22:25:05.073625Z"
    },
    "papermill": {
     "duration": 0.050754,
     "end_time": "2024-04-05T22:25:05.077762",
     "exception": false,
     "start_time": "2024-04-05T22:25:05.027008",
     "status": "completed"
    },
    "tags": []
   },
   "outputs": [
    {
     "data": {
      "text/plain": [
       "{'fare_amount': 'float32',\n",
       " 'pickup_longitude': 'float32',\n",
       " 'pickup_latitude': 'float32',\n",
       " 'dropoff_longitude': 'float32',\n",
       " 'dropoff_latitude': 'float32',\n",
       " 'passenger_count': 'uint8'}"
      ]
     },
     "execution_count": 10,
     "metadata": {},
     "output_type": "execute_result"
    }
   ],
   "source": [
    "d_types = {\n",
    "    'fare_amount' : 'float32',\n",
    "    'pickup_longitude': 'float32',\n",
    "    'pickup_latitude': 'float32',\n",
    "    'dropoff_longitude': 'float32',\n",
    "    'dropoff_latitude' : 'float32',\n",
    "    'passenger_count' : 'uint8',\n",
    "}\n",
    "d_types"
   ]
  },
  {
   "cell_type": "code",
   "execution_count": 11,
   "id": "6ce19bfc",
   "metadata": {
    "execution": {
     "iopub.execute_input": "2024-04-05T22:25:05.151368Z",
     "iopub.status.busy": "2024-04-05T22:25:05.150800Z",
     "iopub.status.idle": "2024-04-05T22:25:05.158752Z",
     "shell.execute_reply": "2024-04-05T22:25:05.157037Z"
    },
    "papermill": {
     "duration": 0.048755,
     "end_time": "2024-04-05T22:25:05.161790",
     "exception": false,
     "start_time": "2024-04-05T22:25:05.113035",
     "status": "completed"
    },
    "tags": []
   },
   "outputs": [],
   "source": [
    "import random as rnd\n",
    "sample_fraction = 0.03\n",
    "rnd.seed(42)\n",
    "\n",
    "def skip_row(row_idx) :\n",
    "#     If this functon retrun false then the number is going to be in data\n",
    "    if row_idx == 0 :\n",
    "        return False\n",
    "    return rnd.random() >= sample_fraction"
   ]
  },
  {
   "cell_type": "code",
   "execution_count": 12,
   "id": "453c1c4c",
   "metadata": {
    "execution": {
     "iopub.execute_input": "2024-04-05T22:25:05.234664Z",
     "iopub.status.busy": "2024-04-05T22:25:05.234204Z",
     "iopub.status.idle": "2024-04-05T22:27:58.035810Z",
     "shell.execute_reply": "2024-04-05T22:27:58.030122Z"
    },
    "papermill": {
     "duration": 172.968382,
     "end_time": "2024-04-05T22:27:58.165400",
     "exception": false,
     "start_time": "2024-04-05T22:25:05.197018",
     "status": "completed"
    },
    "tags": []
   },
   "outputs": [
    {
     "name": "stdout",
     "output_type": "stream",
     "text": [
      "CPU times: user 2min, sys: 5.56 s, total: 2min 5s\n",
      "Wall time: 2min 52s\n"
     ]
    }
   ],
   "source": [
    "%%time\n",
    "data = pd.read_csv(data_dir + '/train.csv', \n",
    "                   usecols = selected_cols, \n",
    "                   dtype = d_types, \n",
    "                   parse_dates= ['pickup_datetime'], \n",
    "                   skiprows = skip_row) # A function is passed as a prameter"
   ]
  },
  {
   "cell_type": "code",
   "execution_count": 13,
   "id": "a671eae6",
   "metadata": {
    "execution": {
     "iopub.execute_input": "2024-04-05T22:27:58.259295Z",
     "iopub.status.busy": "2024-04-05T22:27:58.258324Z",
     "iopub.status.idle": "2024-04-05T22:27:58.404367Z",
     "shell.execute_reply": "2024-04-05T22:27:58.402903Z"
    },
    "papermill": {
     "duration": 0.194557,
     "end_time": "2024-04-05T22:27:58.408329",
     "exception": false,
     "start_time": "2024-04-05T22:27:58.213772",
     "status": "completed"
    },
    "tags": []
   },
   "outputs": [
    {
     "data": {
      "text/html": [
       "<div>\n",
       "<style scoped>\n",
       "    .dataframe tbody tr th:only-of-type {\n",
       "        vertical-align: middle;\n",
       "    }\n",
       "\n",
       "    .dataframe tbody tr th {\n",
       "        vertical-align: top;\n",
       "    }\n",
       "\n",
       "    .dataframe thead th {\n",
       "        text-align: right;\n",
       "    }\n",
       "</style>\n",
       "<table border=\"1\" class=\"dataframe\">\n",
       "  <thead>\n",
       "    <tr style=\"text-align: right;\">\n",
       "      <th></th>\n",
       "      <th>fare_amount</th>\n",
       "      <th>pickup_datetime</th>\n",
       "      <th>pickup_longitude</th>\n",
       "      <th>pickup_latitude</th>\n",
       "      <th>dropoff_longitude</th>\n",
       "      <th>dropoff_latitude</th>\n",
       "      <th>passenger_count</th>\n",
       "    </tr>\n",
       "  </thead>\n",
       "  <tbody>\n",
       "    <tr>\n",
       "      <th>304580</th>\n",
       "      <td>5.7</td>\n",
       "      <td>2012-06-12 13:28:11+00:00</td>\n",
       "      <td>-73.968346</td>\n",
       "      <td>40.755043</td>\n",
       "      <td>-73.978638</td>\n",
       "      <td>40.741177</td>\n",
       "      <td>2</td>\n",
       "    </tr>\n",
       "    <tr>\n",
       "      <th>666328</th>\n",
       "      <td>8.5</td>\n",
       "      <td>2014-08-03 22:43:00+00:00</td>\n",
       "      <td>-73.964485</td>\n",
       "      <td>40.764507</td>\n",
       "      <td>-73.982224</td>\n",
       "      <td>40.764454</td>\n",
       "      <td>1</td>\n",
       "    </tr>\n",
       "    <tr>\n",
       "      <th>904519</th>\n",
       "      <td>8.1</td>\n",
       "      <td>2010-04-12 11:04:00+00:00</td>\n",
       "      <td>-73.981400</td>\n",
       "      <td>40.767948</td>\n",
       "      <td>-73.961098</td>\n",
       "      <td>40.777576</td>\n",
       "      <td>1</td>\n",
       "    </tr>\n",
       "    <tr>\n",
       "      <th>1547619</th>\n",
       "      <td>7.0</td>\n",
       "      <td>2013-10-25 08:53:30+00:00</td>\n",
       "      <td>-73.953934</td>\n",
       "      <td>40.766937</td>\n",
       "      <td>-73.963173</td>\n",
       "      <td>40.775150</td>\n",
       "      <td>1</td>\n",
       "    </tr>\n",
       "    <tr>\n",
       "      <th>35453</th>\n",
       "      <td>16.5</td>\n",
       "      <td>2013-03-06 19:42:06+00:00</td>\n",
       "      <td>-73.963799</td>\n",
       "      <td>40.768436</td>\n",
       "      <td>-74.002052</td>\n",
       "      <td>40.725754</td>\n",
       "      <td>2</td>\n",
       "    </tr>\n",
       "    <tr>\n",
       "      <th>268939</th>\n",
       "      <td>8.1</td>\n",
       "      <td>2012-07-04 13:58:00+00:00</td>\n",
       "      <td>-73.984772</td>\n",
       "      <td>40.764439</td>\n",
       "      <td>-73.951553</td>\n",
       "      <td>40.772903</td>\n",
       "      <td>1</td>\n",
       "    </tr>\n",
       "    <tr>\n",
       "      <th>1194175</th>\n",
       "      <td>15.5</td>\n",
       "      <td>2012-09-20 03:01:00+00:00</td>\n",
       "      <td>-74.008377</td>\n",
       "      <td>40.704796</td>\n",
       "      <td>-73.994766</td>\n",
       "      <td>40.755188</td>\n",
       "      <td>1</td>\n",
       "    </tr>\n",
       "    <tr>\n",
       "      <th>1323576</th>\n",
       "      <td>5.7</td>\n",
       "      <td>2010-09-28 20:26:00+00:00</td>\n",
       "      <td>-73.987419</td>\n",
       "      <td>40.750629</td>\n",
       "      <td>-73.995934</td>\n",
       "      <td>40.759060</td>\n",
       "      <td>1</td>\n",
       "    </tr>\n",
       "    <tr>\n",
       "      <th>919648</th>\n",
       "      <td>7.7</td>\n",
       "      <td>2010-04-17 19:07:03+00:00</td>\n",
       "      <td>-73.973274</td>\n",
       "      <td>40.757526</td>\n",
       "      <td>-73.983742</td>\n",
       "      <td>40.757526</td>\n",
       "      <td>2</td>\n",
       "    </tr>\n",
       "    <tr>\n",
       "      <th>865873</th>\n",
       "      <td>14.0</td>\n",
       "      <td>2013-01-24 09:10:17+00:00</td>\n",
       "      <td>-73.975243</td>\n",
       "      <td>40.752380</td>\n",
       "      <td>-74.007088</td>\n",
       "      <td>40.727108</td>\n",
       "      <td>1</td>\n",
       "    </tr>\n",
       "  </tbody>\n",
       "</table>\n",
       "</div>"
      ],
      "text/plain": [
       "         fare_amount           pickup_datetime  pickup_longitude  \\\n",
       "304580           5.7 2012-06-12 13:28:11+00:00        -73.968346   \n",
       "666328           8.5 2014-08-03 22:43:00+00:00        -73.964485   \n",
       "904519           8.1 2010-04-12 11:04:00+00:00        -73.981400   \n",
       "1547619          7.0 2013-10-25 08:53:30+00:00        -73.953934   \n",
       "35453           16.5 2013-03-06 19:42:06+00:00        -73.963799   \n",
       "268939           8.1 2012-07-04 13:58:00+00:00        -73.984772   \n",
       "1194175         15.5 2012-09-20 03:01:00+00:00        -74.008377   \n",
       "1323576          5.7 2010-09-28 20:26:00+00:00        -73.987419   \n",
       "919648           7.7 2010-04-17 19:07:03+00:00        -73.973274   \n",
       "865873          14.0 2013-01-24 09:10:17+00:00        -73.975243   \n",
       "\n",
       "         pickup_latitude  dropoff_longitude  dropoff_latitude  passenger_count  \n",
       "304580         40.755043         -73.978638         40.741177                2  \n",
       "666328         40.764507         -73.982224         40.764454                1  \n",
       "904519         40.767948         -73.961098         40.777576                1  \n",
       "1547619        40.766937         -73.963173         40.775150                1  \n",
       "35453          40.768436         -74.002052         40.725754                2  \n",
       "268939         40.764439         -73.951553         40.772903                1  \n",
       "1194175        40.704796         -73.994766         40.755188                1  \n",
       "1323576        40.750629         -73.995934         40.759060                1  \n",
       "919648         40.757526         -73.983742         40.757526                2  \n",
       "865873         40.752380         -74.007088         40.727108                1  "
      ]
     },
     "execution_count": 13,
     "metadata": {},
     "output_type": "execute_result"
    }
   ],
   "source": [
    "data.sample(10)"
   ]
  },
  {
   "cell_type": "markdown",
   "id": "14f6eb69",
   "metadata": {
    "papermill": {
     "duration": 0.039997,
     "end_time": "2024-04-05T22:27:58.488786",
     "exception": false,
     "start_time": "2024-04-05T22:27:58.448789",
     "status": "completed"
    },
    "tags": []
   },
   "source": [
    "Here I am trying with 1% if the data, We can also try this using _3%, 10%, 50% and even 100%_ of the data"
   ]
  },
  {
   "cell_type": "code",
   "execution_count": 14,
   "id": "4bf7c0c5",
   "metadata": {
    "execution": {
     "iopub.execute_input": "2024-04-05T22:27:58.574519Z",
     "iopub.status.busy": "2024-04-05T22:27:58.572907Z",
     "iopub.status.idle": "2024-04-05T22:27:58.777184Z",
     "shell.execute_reply": "2024-04-05T22:27:58.775840Z"
    },
    "papermill": {
     "duration": 0.251459,
     "end_time": "2024-04-05T22:27:58.780546",
     "exception": false,
     "start_time": "2024-04-05T22:27:58.529087",
     "status": "completed"
    },
    "tags": []
   },
   "outputs": [
    {
     "data": {
      "text/html": [
       "<div>\n",
       "<style scoped>\n",
       "    .dataframe tbody tr th:only-of-type {\n",
       "        vertical-align: middle;\n",
       "    }\n",
       "\n",
       "    .dataframe tbody tr th {\n",
       "        vertical-align: top;\n",
       "    }\n",
       "\n",
       "    .dataframe thead th {\n",
       "        text-align: right;\n",
       "    }\n",
       "</style>\n",
       "<table border=\"1\" class=\"dataframe\">\n",
       "  <thead>\n",
       "    <tr style=\"text-align: right;\">\n",
       "      <th></th>\n",
       "      <th>key</th>\n",
       "      <th>pickup_datetime</th>\n",
       "      <th>pickup_longitude</th>\n",
       "      <th>pickup_latitude</th>\n",
       "      <th>dropoff_longitude</th>\n",
       "      <th>dropoff_latitude</th>\n",
       "      <th>passenger_count</th>\n",
       "    </tr>\n",
       "  </thead>\n",
       "  <tbody>\n",
       "    <tr>\n",
       "      <th>0</th>\n",
       "      <td>2015-01-27 13:08:24.0000002</td>\n",
       "      <td>2015-01-27 13:08:24+00:00</td>\n",
       "      <td>-73.973320</td>\n",
       "      <td>40.763805</td>\n",
       "      <td>-73.981430</td>\n",
       "      <td>40.743835</td>\n",
       "      <td>1</td>\n",
       "    </tr>\n",
       "    <tr>\n",
       "      <th>1</th>\n",
       "      <td>2015-01-27 13:08:24.0000003</td>\n",
       "      <td>2015-01-27 13:08:24+00:00</td>\n",
       "      <td>-73.986862</td>\n",
       "      <td>40.719383</td>\n",
       "      <td>-73.998886</td>\n",
       "      <td>40.739201</td>\n",
       "      <td>1</td>\n",
       "    </tr>\n",
       "    <tr>\n",
       "      <th>2</th>\n",
       "      <td>2011-10-08 11:53:44.0000002</td>\n",
       "      <td>2011-10-08 11:53:44+00:00</td>\n",
       "      <td>-73.982521</td>\n",
       "      <td>40.751259</td>\n",
       "      <td>-73.979652</td>\n",
       "      <td>40.746140</td>\n",
       "      <td>1</td>\n",
       "    </tr>\n",
       "    <tr>\n",
       "      <th>3</th>\n",
       "      <td>2012-12-01 21:12:12.0000002</td>\n",
       "      <td>2012-12-01 21:12:12+00:00</td>\n",
       "      <td>-73.981163</td>\n",
       "      <td>40.767807</td>\n",
       "      <td>-73.990448</td>\n",
       "      <td>40.751637</td>\n",
       "      <td>1</td>\n",
       "    </tr>\n",
       "    <tr>\n",
       "      <th>4</th>\n",
       "      <td>2012-12-01 21:12:12.0000003</td>\n",
       "      <td>2012-12-01 21:12:12+00:00</td>\n",
       "      <td>-73.966049</td>\n",
       "      <td>40.789776</td>\n",
       "      <td>-73.988564</td>\n",
       "      <td>40.744427</td>\n",
       "      <td>1</td>\n",
       "    </tr>\n",
       "  </tbody>\n",
       "</table>\n",
       "</div>"
      ],
      "text/plain": [
       "                           key           pickup_datetime  pickup_longitude  \\\n",
       "0  2015-01-27 13:08:24.0000002 2015-01-27 13:08:24+00:00        -73.973320   \n",
       "1  2015-01-27 13:08:24.0000003 2015-01-27 13:08:24+00:00        -73.986862   \n",
       "2  2011-10-08 11:53:44.0000002 2011-10-08 11:53:44+00:00        -73.982521   \n",
       "3  2012-12-01 21:12:12.0000002 2012-12-01 21:12:12+00:00        -73.981163   \n",
       "4  2012-12-01 21:12:12.0000003 2012-12-01 21:12:12+00:00        -73.966049   \n",
       "\n",
       "   pickup_latitude  dropoff_longitude  dropoff_latitude  passenger_count  \n",
       "0        40.763805         -73.981430         40.743835                1  \n",
       "1        40.719383         -73.998886         40.739201                1  \n",
       "2        40.751259         -73.979652         40.746140                1  \n",
       "3        40.767807         -73.990448         40.751637                1  \n",
       "4        40.789776         -73.988564         40.744427                1  "
      ]
     },
     "execution_count": 14,
     "metadata": {},
     "output_type": "execute_result"
    }
   ],
   "source": [
    "test_data = pd.read_csv(data_dir + '/test.csv', dtype= d_types, parse_dates = ['pickup_datetime'])\n",
    "test_data.head()"
   ]
  },
  {
   "cell_type": "code",
   "execution_count": 15,
   "id": "fd1f2391",
   "metadata": {
    "execution": {
     "iopub.execute_input": "2024-04-05T22:27:58.867447Z",
     "iopub.status.busy": "2024-04-05T22:27:58.866935Z",
     "iopub.status.idle": "2024-04-05T22:27:58.895088Z",
     "shell.execute_reply": "2024-04-05T22:27:58.893632Z"
    },
    "papermill": {
     "duration": 0.076064,
     "end_time": "2024-04-05T22:27:58.898669",
     "exception": false,
     "start_time": "2024-04-05T22:27:58.822605",
     "status": "completed"
    },
    "tags": []
   },
   "outputs": [
    {
     "name": "stdout",
     "output_type": "stream",
     "text": [
      "<class 'pandas.core.frame.DataFrame'>\n",
      "RangeIndex: 9914 entries, 0 to 9913\n",
      "Data columns (total 7 columns):\n",
      " #   Column             Non-Null Count  Dtype              \n",
      "---  ------             --------------  -----              \n",
      " 0   key                9914 non-null   object             \n",
      " 1   pickup_datetime    9914 non-null   datetime64[ns, UTC]\n",
      " 2   pickup_longitude   9914 non-null   float32            \n",
      " 3   pickup_latitude    9914 non-null   float32            \n",
      " 4   dropoff_longitude  9914 non-null   float32            \n",
      " 5   dropoff_latitude   9914 non-null   float32            \n",
      " 6   passenger_count    9914 non-null   uint8              \n",
      "dtypes: datetime64[ns, UTC](1), float32(4), object(1), uint8(1)\n",
      "memory usage: 319.6+ KB\n"
     ]
    }
   ],
   "source": [
    "test_data.info()"
   ]
  },
  {
   "cell_type": "markdown",
   "id": "b1b2d590",
   "metadata": {
    "papermill": {
     "duration": 0.042092,
     "end_time": "2024-04-05T22:27:58.982915",
     "exception": false,
     "start_time": "2024-04-05T22:27:58.940823",
     "status": "completed"
    },
    "tags": []
   },
   "source": [
    "### Exploring the data\n",
    "\n",
    "- basic info about training and test set\n",
    "- EDA and viz\n",
    "- Ask and Answer the questions"
   ]
  },
  {
   "cell_type": "code",
   "execution_count": 16,
   "id": "8edb5ec0",
   "metadata": {
    "execution": {
     "iopub.execute_input": "2024-04-05T22:27:59.071867Z",
     "iopub.status.busy": "2024-04-05T22:27:59.070472Z",
     "iopub.status.idle": "2024-04-05T22:27:59.158858Z",
     "shell.execute_reply": "2024-04-05T22:27:59.157379Z"
    },
    "papermill": {
     "duration": 0.136751,
     "end_time": "2024-04-05T22:27:59.163158",
     "exception": false,
     "start_time": "2024-04-05T22:27:59.026407",
     "status": "completed"
    },
    "tags": []
   },
   "outputs": [
    {
     "name": "stdout",
     "output_type": "stream",
     "text": [
      "<class 'pandas.core.frame.DataFrame'>\n",
      "RangeIndex: 1661731 entries, 0 to 1661730\n",
      "Data columns (total 7 columns):\n",
      " #   Column             Non-Null Count    Dtype              \n",
      "---  ------             --------------    -----              \n",
      " 0   fare_amount        1661731 non-null  float32            \n",
      " 1   pickup_datetime    1661731 non-null  datetime64[ns, UTC]\n",
      " 2   pickup_longitude   1661731 non-null  float32            \n",
      " 3   pickup_latitude    1661731 non-null  float32            \n",
      " 4   dropoff_longitude  1661717 non-null  float32            \n",
      " 5   dropoff_latitude   1661717 non-null  float32            \n",
      " 6   passenger_count    1661731 non-null  uint8              \n",
      "dtypes: datetime64[ns, UTC](1), float32(5), uint8(1)\n",
      "memory usage: 46.0 MB\n"
     ]
    }
   ],
   "source": [
    "data.info()"
   ]
  },
  {
   "cell_type": "code",
   "execution_count": 17,
   "id": "655ec821",
   "metadata": {
    "execution": {
     "iopub.execute_input": "2024-04-05T22:27:59.251109Z",
     "iopub.status.busy": "2024-04-05T22:27:59.250234Z",
     "iopub.status.idle": "2024-04-05T22:27:59.257460Z",
     "shell.execute_reply": "2024-04-05T22:27:59.256253Z"
    },
    "papermill": {
     "duration": 0.054633,
     "end_time": "2024-04-05T22:27:59.260113",
     "exception": false,
     "start_time": "2024-04-05T22:27:59.205480",
     "status": "completed"
    },
    "tags": []
   },
   "outputs": [
    {
     "data": {
      "text/plain": [
       "(1661731, 7)"
      ]
     },
     "execution_count": 17,
     "metadata": {},
     "output_type": "execute_result"
    }
   ],
   "source": [
    "data.shape"
   ]
  },
  {
   "cell_type": "code",
   "execution_count": 18,
   "id": "71bdefca",
   "metadata": {
    "execution": {
     "iopub.execute_input": "2024-04-05T22:27:59.346473Z",
     "iopub.status.busy": "2024-04-05T22:27:59.345717Z",
     "iopub.status.idle": "2024-04-05T22:27:59.821804Z",
     "shell.execute_reply": "2024-04-05T22:27:59.820490Z"
    },
    "papermill": {
     "duration": 0.523266,
     "end_time": "2024-04-05T22:27:59.825359",
     "exception": false,
     "start_time": "2024-04-05T22:27:59.302093",
     "status": "completed"
    },
    "tags": []
   },
   "outputs": [
    {
     "data": {
      "text/html": [
       "<div>\n",
       "<style scoped>\n",
       "    .dataframe tbody tr th:only-of-type {\n",
       "        vertical-align: middle;\n",
       "    }\n",
       "\n",
       "    .dataframe tbody tr th {\n",
       "        vertical-align: top;\n",
       "    }\n",
       "\n",
       "    .dataframe thead th {\n",
       "        text-align: right;\n",
       "    }\n",
       "</style>\n",
       "<table border=\"1\" class=\"dataframe\">\n",
       "  <thead>\n",
       "    <tr style=\"text-align: right;\">\n",
       "      <th></th>\n",
       "      <th>fare_amount</th>\n",
       "      <th>pickup_longitude</th>\n",
       "      <th>pickup_latitude</th>\n",
       "      <th>dropoff_longitude</th>\n",
       "      <th>dropoff_latitude</th>\n",
       "      <th>passenger_count</th>\n",
       "    </tr>\n",
       "  </thead>\n",
       "  <tbody>\n",
       "    <tr>\n",
       "      <th>count</th>\n",
       "      <td>1.661731e+06</td>\n",
       "      <td>1.661731e+06</td>\n",
       "      <td>1.661731e+06</td>\n",
       "      <td>1.661717e+06</td>\n",
       "      <td>1.661717e+06</td>\n",
       "      <td>1.661731e+06</td>\n",
       "    </tr>\n",
       "    <tr>\n",
       "      <th>mean</th>\n",
       "      <td>1.135368e+01</td>\n",
       "      <td>-7.250970e+01</td>\n",
       "      <td>3.991889e+01</td>\n",
       "      <td>-7.251003e+01</td>\n",
       "      <td>3.991955e+01</td>\n",
       "      <td>1.685489e+00</td>\n",
       "    </tr>\n",
       "    <tr>\n",
       "      <th>std</th>\n",
       "      <td>9.836679e+00</td>\n",
       "      <td>1.282921e+01</td>\n",
       "      <td>1.052012e+01</td>\n",
       "      <td>1.306792e+01</td>\n",
       "      <td>1.029647e+01</td>\n",
       "      <td>1.328315e+00</td>\n",
       "    </tr>\n",
       "    <tr>\n",
       "      <th>min</th>\n",
       "      <td>-3.000000e+02</td>\n",
       "      <td>-3.439245e+03</td>\n",
       "      <td>-3.474112e+03</td>\n",
       "      <td>-3.367929e+03</td>\n",
       "      <td>-3.474112e+03</td>\n",
       "      <td>0.000000e+00</td>\n",
       "    </tr>\n",
       "    <tr>\n",
       "      <th>25%</th>\n",
       "      <td>6.000000e+00</td>\n",
       "      <td>-7.399203e+01</td>\n",
       "      <td>4.073491e+01</td>\n",
       "      <td>-7.399140e+01</td>\n",
       "      <td>4.073399e+01</td>\n",
       "      <td>1.000000e+00</td>\n",
       "    </tr>\n",
       "    <tr>\n",
       "      <th>50%</th>\n",
       "      <td>8.500000e+00</td>\n",
       "      <td>-7.398180e+01</td>\n",
       "      <td>4.075266e+01</td>\n",
       "      <td>-7.398017e+01</td>\n",
       "      <td>4.075313e+01</td>\n",
       "      <td>1.000000e+00</td>\n",
       "    </tr>\n",
       "    <tr>\n",
       "      <th>75%</th>\n",
       "      <td>1.250000e+01</td>\n",
       "      <td>-7.396710e+01</td>\n",
       "      <td>4.076711e+01</td>\n",
       "      <td>-7.396368e+01</td>\n",
       "      <td>4.076806e+01</td>\n",
       "      <td>2.000000e+00</td>\n",
       "    </tr>\n",
       "    <tr>\n",
       "      <th>max</th>\n",
       "      <td>1.097480e+03</td>\n",
       "      <td>3.442185e+03</td>\n",
       "      <td>3.347260e+03</td>\n",
       "      <td>3.442185e+03</td>\n",
       "      <td>3.351403e+03</td>\n",
       "      <td>2.080000e+02</td>\n",
       "    </tr>\n",
       "  </tbody>\n",
       "</table>\n",
       "</div>"
      ],
      "text/plain": [
       "        fare_amount  pickup_longitude  pickup_latitude  dropoff_longitude  \\\n",
       "count  1.661731e+06      1.661731e+06     1.661731e+06       1.661717e+06   \n",
       "mean   1.135368e+01     -7.250970e+01     3.991889e+01      -7.251003e+01   \n",
       "std    9.836679e+00      1.282921e+01     1.052012e+01       1.306792e+01   \n",
       "min   -3.000000e+02     -3.439245e+03    -3.474112e+03      -3.367929e+03   \n",
       "25%    6.000000e+00     -7.399203e+01     4.073491e+01      -7.399140e+01   \n",
       "50%    8.500000e+00     -7.398180e+01     4.075266e+01      -7.398017e+01   \n",
       "75%    1.250000e+01     -7.396710e+01     4.076711e+01      -7.396368e+01   \n",
       "max    1.097480e+03      3.442185e+03     3.347260e+03       3.442185e+03   \n",
       "\n",
       "       dropoff_latitude  passenger_count  \n",
       "count      1.661717e+06     1.661731e+06  \n",
       "mean       3.991955e+01     1.685489e+00  \n",
       "std        1.029647e+01     1.328315e+00  \n",
       "min       -3.474112e+03     0.000000e+00  \n",
       "25%        4.073399e+01     1.000000e+00  \n",
       "50%        4.075313e+01     1.000000e+00  \n",
       "75%        4.076806e+01     2.000000e+00  \n",
       "max        3.351403e+03     2.080000e+02  "
      ]
     },
     "execution_count": 18,
     "metadata": {},
     "output_type": "execute_result"
    }
   ],
   "source": [
    "data.describe()"
   ]
  },
  {
   "cell_type": "code",
   "execution_count": 19,
   "id": "11c497cb",
   "metadata": {
    "execution": {
     "iopub.execute_input": "2024-04-05T22:27:59.913200Z",
     "iopub.status.busy": "2024-04-05T22:27:59.912325Z",
     "iopub.status.idle": "2024-04-05T22:27:59.931847Z",
     "shell.execute_reply": "2024-04-05T22:27:59.930875Z"
    },
    "papermill": {
     "duration": 0.066819,
     "end_time": "2024-04-05T22:27:59.934978",
     "exception": false,
     "start_time": "2024-04-05T22:27:59.868159",
     "status": "completed"
    },
    "tags": []
   },
   "outputs": [
    {
     "data": {
      "text/plain": [
       "(Timestamp('2009-01-01 00:11:46+0000', tz='UTC'),\n",
       " Timestamp('2015-06-30 23:59:54+0000', tz='UTC'))"
      ]
     },
     "execution_count": 19,
     "metadata": {},
     "output_type": "execute_result"
    }
   ],
   "source": [
    "data.pickup_datetime.min(), data.pickup_datetime.max()"
   ]
  },
  {
   "cell_type": "code",
   "execution_count": 20,
   "id": "36e906a8",
   "metadata": {
    "execution": {
     "iopub.execute_input": "2024-04-05T22:28:00.024853Z",
     "iopub.status.busy": "2024-04-05T22:28:00.023396Z",
     "iopub.status.idle": "2024-04-05T22:28:00.039063Z",
     "shell.execute_reply": "2024-04-05T22:28:00.037669Z"
    },
    "papermill": {
     "duration": 0.064744,
     "end_time": "2024-04-05T22:28:00.042194",
     "exception": false,
     "start_time": "2024-04-05T22:27:59.977450",
     "status": "completed"
    },
    "tags": []
   },
   "outputs": [
    {
     "name": "stdout",
     "output_type": "stream",
     "text": [
      "<class 'pandas.core.frame.DataFrame'>\n",
      "RangeIndex: 9914 entries, 0 to 9913\n",
      "Data columns (total 7 columns):\n",
      " #   Column             Non-Null Count  Dtype              \n",
      "---  ------             --------------  -----              \n",
      " 0   key                9914 non-null   object             \n",
      " 1   pickup_datetime    9914 non-null   datetime64[ns, UTC]\n",
      " 2   pickup_longitude   9914 non-null   float32            \n",
      " 3   pickup_latitude    9914 non-null   float32            \n",
      " 4   dropoff_longitude  9914 non-null   float32            \n",
      " 5   dropoff_latitude   9914 non-null   float32            \n",
      " 6   passenger_count    9914 non-null   uint8              \n",
      "dtypes: datetime64[ns, UTC](1), float32(4), object(1), uint8(1)\n",
      "memory usage: 319.6+ KB\n"
     ]
    }
   ],
   "source": [
    "test_data.info() "
   ]
  },
  {
   "cell_type": "markdown",
   "id": "c4b1f03e",
   "metadata": {
    "papermill": {
     "duration": 0.038009,
     "end_time": "2024-04-05T22:28:00.117701",
     "exception": false,
     "start_time": "2024-04-05T22:28:00.079692",
     "status": "completed"
    },
    "tags": []
   },
   "source": [
    "The data is not cleaned as -1000 Latitude does not exist and also _208_ pasengers are can't ride a Taxi"
   ]
  },
  {
   "cell_type": "markdown",
   "id": "4b4b8c16",
   "metadata": {
    "papermill": {
     "duration": 0.039413,
     "end_time": "2024-04-05T22:28:00.195383",
     "exception": false,
     "start_time": "2024-04-05T22:28:00.155970",
     "status": "completed"
    },
    "tags": []
   },
   "source": [
    "#### Observations\n",
    "- 550K+ data\n",
    "- No missing data (in sample)\n",
    "- Fare ranges from -52 to 499\n",
    "- Pasengers from 0 to 208\n",
    "- Seems to be error in the latitue and logitude\n",
    "- Dates Ranges from 1st Jan 2009 to 30th June 2015\n",
    "\n",
    "Need to deal with the outliares and preproces the data."
   ]
  },
  {
   "cell_type": "code",
   "execution_count": 21,
   "id": "df98da30",
   "metadata": {
    "execution": {
     "iopub.execute_input": "2024-04-05T22:28:00.274967Z",
     "iopub.status.busy": "2024-04-05T22:28:00.274024Z",
     "iopub.status.idle": "2024-04-05T22:28:00.289797Z",
     "shell.execute_reply": "2024-04-05T22:28:00.287983Z"
    },
    "papermill": {
     "duration": 0.05865,
     "end_time": "2024-04-05T22:28:00.292493",
     "exception": false,
     "start_time": "2024-04-05T22:28:00.233843",
     "status": "completed"
    },
    "tags": []
   },
   "outputs": [
    {
     "name": "stdout",
     "output_type": "stream",
     "text": [
      "<class 'pandas.core.frame.DataFrame'>\n",
      "RangeIndex: 9914 entries, 0 to 9913\n",
      "Data columns (total 7 columns):\n",
      " #   Column             Non-Null Count  Dtype              \n",
      "---  ------             --------------  -----              \n",
      " 0   key                9914 non-null   object             \n",
      " 1   pickup_datetime    9914 non-null   datetime64[ns, UTC]\n",
      " 2   pickup_longitude   9914 non-null   float32            \n",
      " 3   pickup_latitude    9914 non-null   float32            \n",
      " 4   dropoff_longitude  9914 non-null   float32            \n",
      " 5   dropoff_latitude   9914 non-null   float32            \n",
      " 6   passenger_count    9914 non-null   uint8              \n",
      "dtypes: datetime64[ns, UTC](1), float32(4), object(1), uint8(1)\n",
      "memory usage: 319.6+ KB\n"
     ]
    }
   ],
   "source": [
    "test_data.info()"
   ]
  },
  {
   "cell_type": "code",
   "execution_count": 22,
   "id": "746af935",
   "metadata": {
    "execution": {
     "iopub.execute_input": "2024-04-05T22:28:00.371359Z",
     "iopub.status.busy": "2024-04-05T22:28:00.370342Z",
     "iopub.status.idle": "2024-04-05T22:28:00.403151Z",
     "shell.execute_reply": "2024-04-05T22:28:00.402164Z"
    },
    "papermill": {
     "duration": 0.075405,
     "end_time": "2024-04-05T22:28:00.405802",
     "exception": false,
     "start_time": "2024-04-05T22:28:00.330397",
     "status": "completed"
    },
    "tags": []
   },
   "outputs": [
    {
     "data": {
      "text/html": [
       "<div>\n",
       "<style scoped>\n",
       "    .dataframe tbody tr th:only-of-type {\n",
       "        vertical-align: middle;\n",
       "    }\n",
       "\n",
       "    .dataframe tbody tr th {\n",
       "        vertical-align: top;\n",
       "    }\n",
       "\n",
       "    .dataframe thead th {\n",
       "        text-align: right;\n",
       "    }\n",
       "</style>\n",
       "<table border=\"1\" class=\"dataframe\">\n",
       "  <thead>\n",
       "    <tr style=\"text-align: right;\">\n",
       "      <th></th>\n",
       "      <th>pickup_longitude</th>\n",
       "      <th>pickup_latitude</th>\n",
       "      <th>dropoff_longitude</th>\n",
       "      <th>dropoff_latitude</th>\n",
       "      <th>passenger_count</th>\n",
       "    </tr>\n",
       "  </thead>\n",
       "  <tbody>\n",
       "    <tr>\n",
       "      <th>count</th>\n",
       "      <td>9914.000000</td>\n",
       "      <td>9914.000000</td>\n",
       "      <td>9914.000000</td>\n",
       "      <td>9914.000000</td>\n",
       "      <td>9914.000000</td>\n",
       "    </tr>\n",
       "    <tr>\n",
       "      <th>mean</th>\n",
       "      <td>-73.974716</td>\n",
       "      <td>40.751041</td>\n",
       "      <td>-73.973656</td>\n",
       "      <td>40.751740</td>\n",
       "      <td>1.671273</td>\n",
       "    </tr>\n",
       "    <tr>\n",
       "      <th>std</th>\n",
       "      <td>0.042774</td>\n",
       "      <td>0.033541</td>\n",
       "      <td>0.039072</td>\n",
       "      <td>0.035435</td>\n",
       "      <td>1.278747</td>\n",
       "    </tr>\n",
       "    <tr>\n",
       "      <th>min</th>\n",
       "      <td>-74.252190</td>\n",
       "      <td>40.573143</td>\n",
       "      <td>-74.263245</td>\n",
       "      <td>40.568974</td>\n",
       "      <td>1.000000</td>\n",
       "    </tr>\n",
       "    <tr>\n",
       "      <th>25%</th>\n",
       "      <td>-73.992500</td>\n",
       "      <td>40.736125</td>\n",
       "      <td>-73.991249</td>\n",
       "      <td>40.735253</td>\n",
       "      <td>1.000000</td>\n",
       "    </tr>\n",
       "    <tr>\n",
       "      <th>50%</th>\n",
       "      <td>-73.982327</td>\n",
       "      <td>40.753052</td>\n",
       "      <td>-73.980015</td>\n",
       "      <td>40.754065</td>\n",
       "      <td>1.000000</td>\n",
       "    </tr>\n",
       "    <tr>\n",
       "      <th>75%</th>\n",
       "      <td>-73.968012</td>\n",
       "      <td>40.767113</td>\n",
       "      <td>-73.964062</td>\n",
       "      <td>40.768757</td>\n",
       "      <td>2.000000</td>\n",
       "    </tr>\n",
       "    <tr>\n",
       "      <th>max</th>\n",
       "      <td>-72.986534</td>\n",
       "      <td>41.709557</td>\n",
       "      <td>-72.990967</td>\n",
       "      <td>41.696682</td>\n",
       "      <td>6.000000</td>\n",
       "    </tr>\n",
       "  </tbody>\n",
       "</table>\n",
       "</div>"
      ],
      "text/plain": [
       "       pickup_longitude  pickup_latitude  dropoff_longitude  dropoff_latitude  \\\n",
       "count       9914.000000      9914.000000        9914.000000       9914.000000   \n",
       "mean         -73.974716        40.751041         -73.973656         40.751740   \n",
       "std            0.042774         0.033541           0.039072          0.035435   \n",
       "min          -74.252190        40.573143         -74.263245         40.568974   \n",
       "25%          -73.992500        40.736125         -73.991249         40.735253   \n",
       "50%          -73.982327        40.753052         -73.980015         40.754065   \n",
       "75%          -73.968012        40.767113         -73.964062         40.768757   \n",
       "max          -72.986534        41.709557         -72.990967         41.696682   \n",
       "\n",
       "       passenger_count  \n",
       "count      9914.000000  \n",
       "mean          1.671273  \n",
       "std           1.278747  \n",
       "min           1.000000  \n",
       "25%           1.000000  \n",
       "50%           1.000000  \n",
       "75%           2.000000  \n",
       "max           6.000000  "
      ]
     },
     "execution_count": 22,
     "metadata": {},
     "output_type": "execute_result"
    }
   ],
   "source": [
    "test_data.describe()"
   ]
  },
  {
   "cell_type": "code",
   "execution_count": 23,
   "id": "bfbc478e",
   "metadata": {
    "execution": {
     "iopub.execute_input": "2024-04-05T22:28:00.485271Z",
     "iopub.status.busy": "2024-04-05T22:28:00.484274Z",
     "iopub.status.idle": "2024-04-05T22:28:00.493172Z",
     "shell.execute_reply": "2024-04-05T22:28:00.491999Z"
    },
    "papermill": {
     "duration": 0.051796,
     "end_time": "2024-04-05T22:28:00.495684",
     "exception": false,
     "start_time": "2024-04-05T22:28:00.443888",
     "status": "completed"
    },
    "tags": []
   },
   "outputs": [
    {
     "data": {
      "text/plain": [
       "(Timestamp('2009-01-01 11:04:24+0000', tz='UTC'),\n",
       " Timestamp('2015-06-30 20:03:50+0000', tz='UTC'))"
      ]
     },
     "execution_count": 23,
     "metadata": {},
     "output_type": "execute_result"
    }
   ],
   "source": [
    "test_data.pickup_datetime.min(), test_data.pickup_datetime.max()"
   ]
  },
  {
   "cell_type": "markdown",
   "id": "b17b96e3",
   "metadata": {
    "papermill": {
     "duration": 0.038113,
     "end_time": "2024-04-05T22:28:00.572679",
     "exception": false,
     "start_time": "2024-04-05T22:28:00.534566",
     "status": "completed"
    },
    "tags": []
   },
   "source": [
    "Training data is Clean we can refer to the taining data for the purpost of clenaing the data.\n",
    "\n",
    "Like we can remove the columns whose values lies outside the Training data."
   ]
  },
  {
   "cell_type": "markdown",
   "id": "b5be1af2",
   "metadata": {
    "papermill": {
     "duration": 0.037943,
     "end_time": "2024-04-05T22:28:00.649094",
     "exception": false,
     "start_time": "2024-04-05T22:28:00.611151",
     "status": "completed"
    },
    "tags": []
   },
   "source": [
    "## Exploratory Data Analysis"
   ]
  },
  {
   "cell_type": "code",
   "execution_count": 24,
   "id": "fef524a9",
   "metadata": {
    "execution": {
     "iopub.execute_input": "2024-04-05T22:28:00.732017Z",
     "iopub.status.busy": "2024-04-05T22:28:00.731245Z",
     "iopub.status.idle": "2024-04-05T22:28:02.688669Z",
     "shell.execute_reply": "2024-04-05T22:28:02.687215Z"
    },
    "papermill": {
     "duration": 2.001731,
     "end_time": "2024-04-05T22:28:02.692094",
     "exception": false,
     "start_time": "2024-04-05T22:28:00.690363",
     "status": "completed"
    },
    "tags": []
   },
   "outputs": [],
   "source": [
    "import matplotlib.pyplot as plt\n",
    "import seaborn as sns"
   ]
  },
  {
   "cell_type": "markdown",
   "id": "dbd93fde",
   "metadata": {
    "papermill": {
     "duration": 0.03946,
     "end_time": "2024-04-05T22:28:02.774067",
     "exception": false,
     "start_time": "2024-04-05T22:28:02.734607",
     "status": "completed"
    },
    "tags": []
   },
   "source": [
    "Skipping for Now -> Following the content of the Video This will be done a bit later when working properly"
   ]
  },
  {
   "cell_type": "code",
   "execution_count": 25,
   "id": "fba229f5",
   "metadata": {
    "execution": {
     "iopub.execute_input": "2024-04-05T22:28:02.865171Z",
     "iopub.status.busy": "2024-04-05T22:28:02.864673Z",
     "iopub.status.idle": "2024-04-05T22:28:03.324927Z",
     "shell.execute_reply": "2024-04-05T22:28:03.323804Z"
    },
    "papermill": {
     "duration": 0.505595,
     "end_time": "2024-04-05T22:28:03.329322",
     "exception": false,
     "start_time": "2024-04-05T22:28:02.823727",
     "status": "completed"
    },
    "tags": []
   },
   "outputs": [
    {
     "data": {
      "text/html": [
       "<div>\n",
       "<style scoped>\n",
       "    .dataframe tbody tr th:only-of-type {\n",
       "        vertical-align: middle;\n",
       "    }\n",
       "\n",
       "    .dataframe tbody tr th {\n",
       "        vertical-align: top;\n",
       "    }\n",
       "\n",
       "    .dataframe thead th {\n",
       "        text-align: right;\n",
       "    }\n",
       "</style>\n",
       "<table border=\"1\" class=\"dataframe\">\n",
       "  <thead>\n",
       "    <tr style=\"text-align: right;\">\n",
       "      <th></th>\n",
       "      <th>fare_amount</th>\n",
       "      <th>pickup_longitude</th>\n",
       "      <th>pickup_latitude</th>\n",
       "      <th>dropoff_longitude</th>\n",
       "      <th>dropoff_latitude</th>\n",
       "      <th>passenger_count</th>\n",
       "    </tr>\n",
       "  </thead>\n",
       "  <tbody>\n",
       "    <tr>\n",
       "      <th>count</th>\n",
       "      <td>1.661731e+06</td>\n",
       "      <td>1.661731e+06</td>\n",
       "      <td>1.661731e+06</td>\n",
       "      <td>1.661717e+06</td>\n",
       "      <td>1.661717e+06</td>\n",
       "      <td>1.661731e+06</td>\n",
       "    </tr>\n",
       "    <tr>\n",
       "      <th>mean</th>\n",
       "      <td>1.135368e+01</td>\n",
       "      <td>-7.250970e+01</td>\n",
       "      <td>3.991889e+01</td>\n",
       "      <td>-7.251003e+01</td>\n",
       "      <td>3.991955e+01</td>\n",
       "      <td>1.685489e+00</td>\n",
       "    </tr>\n",
       "    <tr>\n",
       "      <th>std</th>\n",
       "      <td>9.836679e+00</td>\n",
       "      <td>1.282921e+01</td>\n",
       "      <td>1.052012e+01</td>\n",
       "      <td>1.306792e+01</td>\n",
       "      <td>1.029647e+01</td>\n",
       "      <td>1.328315e+00</td>\n",
       "    </tr>\n",
       "    <tr>\n",
       "      <th>min</th>\n",
       "      <td>-3.000000e+02</td>\n",
       "      <td>-3.439245e+03</td>\n",
       "      <td>-3.474112e+03</td>\n",
       "      <td>-3.367929e+03</td>\n",
       "      <td>-3.474112e+03</td>\n",
       "      <td>0.000000e+00</td>\n",
       "    </tr>\n",
       "    <tr>\n",
       "      <th>25%</th>\n",
       "      <td>6.000000e+00</td>\n",
       "      <td>-7.399203e+01</td>\n",
       "      <td>4.073491e+01</td>\n",
       "      <td>-7.399140e+01</td>\n",
       "      <td>4.073399e+01</td>\n",
       "      <td>1.000000e+00</td>\n",
       "    </tr>\n",
       "    <tr>\n",
       "      <th>50%</th>\n",
       "      <td>8.500000e+00</td>\n",
       "      <td>-7.398180e+01</td>\n",
       "      <td>4.075266e+01</td>\n",
       "      <td>-7.398017e+01</td>\n",
       "      <td>4.075313e+01</td>\n",
       "      <td>1.000000e+00</td>\n",
       "    </tr>\n",
       "    <tr>\n",
       "      <th>75%</th>\n",
       "      <td>1.250000e+01</td>\n",
       "      <td>-7.396710e+01</td>\n",
       "      <td>4.076711e+01</td>\n",
       "      <td>-7.396368e+01</td>\n",
       "      <td>4.076806e+01</td>\n",
       "      <td>2.000000e+00</td>\n",
       "    </tr>\n",
       "    <tr>\n",
       "      <th>max</th>\n",
       "      <td>1.097480e+03</td>\n",
       "      <td>3.442185e+03</td>\n",
       "      <td>3.347260e+03</td>\n",
       "      <td>3.442185e+03</td>\n",
       "      <td>3.351403e+03</td>\n",
       "      <td>2.080000e+02</td>\n",
       "    </tr>\n",
       "  </tbody>\n",
       "</table>\n",
       "</div>"
      ],
      "text/plain": [
       "        fare_amount  pickup_longitude  pickup_latitude  dropoff_longitude  \\\n",
       "count  1.661731e+06      1.661731e+06     1.661731e+06       1.661717e+06   \n",
       "mean   1.135368e+01     -7.250970e+01     3.991889e+01      -7.251003e+01   \n",
       "std    9.836679e+00      1.282921e+01     1.052012e+01       1.306792e+01   \n",
       "min   -3.000000e+02     -3.439245e+03    -3.474112e+03      -3.367929e+03   \n",
       "25%    6.000000e+00     -7.399203e+01     4.073491e+01      -7.399140e+01   \n",
       "50%    8.500000e+00     -7.398180e+01     4.075266e+01      -7.398017e+01   \n",
       "75%    1.250000e+01     -7.396710e+01     4.076711e+01      -7.396368e+01   \n",
       "max    1.097480e+03      3.442185e+03     3.347260e+03       3.442185e+03   \n",
       "\n",
       "       dropoff_latitude  passenger_count  \n",
       "count      1.661717e+06     1.661731e+06  \n",
       "mean       3.991955e+01     1.685489e+00  \n",
       "std        1.029647e+01     1.328315e+00  \n",
       "min       -3.474112e+03     0.000000e+00  \n",
       "25%        4.073399e+01     1.000000e+00  \n",
       "50%        4.075313e+01     1.000000e+00  \n",
       "75%        4.076806e+01     2.000000e+00  \n",
       "max        3.351403e+03     2.080000e+02  "
      ]
     },
     "execution_count": 25,
     "metadata": {},
     "output_type": "execute_result"
    }
   ],
   "source": [
    "data.describe()"
   ]
  },
  {
   "cell_type": "code",
   "execution_count": 26,
   "id": "59b0bf52",
   "metadata": {
    "execution": {
     "iopub.execute_input": "2024-04-05T22:28:03.423311Z",
     "iopub.status.busy": "2024-04-05T22:28:03.422429Z",
     "iopub.status.idle": "2024-04-05T22:28:04.442458Z",
     "shell.execute_reply": "2024-04-05T22:28:04.441024Z"
    },
    "papermill": {
     "duration": 1.06997,
     "end_time": "2024-04-05T22:28:04.446275",
     "exception": false,
     "start_time": "2024-04-05T22:28:03.376305",
     "status": "completed"
    },
    "tags": []
   },
   "outputs": [
    {
     "data": {
      "text/plain": [
       "<Axes: >"
      ]
     },
     "execution_count": 26,
     "metadata": {},
     "output_type": "execute_result"
    },
    {
     "data": {
      "image/png": "[encoded data removed]",
      "text/plain": [
       "<Figure size 800x400 with 2 Axes>"
      ]
     },
     "metadata": {},
     "output_type": "display_data"
    }
   ],
   "source": [
    "plt.figure(figsize=(8,4))\n",
    "sns.heatmap(data.corr(), cmap = 'RdBu', annot= True, fmt = '.2f', center = 0)"
   ]
  },
  {
   "cell_type": "markdown",
   "id": "b3256254",
   "metadata": {
    "papermill": {
     "duration": 0.041282,
     "end_time": "2024-04-05T22:28:04.528160",
     "exception": false,
     "start_time": "2024-04-05T22:28:04.486878",
     "status": "completed"
    },
    "tags": []
   },
   "source": [
    "This is going to be a bad model if we diretly use the columns without fearure Engineering"
   ]
  },
  {
   "cell_type": "markdown",
   "id": "7e10aa18",
   "metadata": {
    "papermill": {
     "duration": 0.039866,
     "end_time": "2024-04-05T22:28:04.608389",
     "exception": false,
     "start_time": "2024-04-05T22:28:04.568523",
     "status": "completed"
    },
    "tags": []
   },
   "source": [
    "### Preparing the Dataset for training\n",
    "- Split it into the training and validation set\n",
    "- Fill/Remove Missing values\n",
    "- Extrarct Input and Output\n",
    "    - Training\n",
    "    - Validation\n",
    "    - Test"
   ]
  },
  {
   "cell_type": "markdown",
   "id": "52ff814e",
   "metadata": {
    "papermill": {
     "duration": 0.039938,
     "end_time": "2024-04-05T22:28:04.689195",
     "exception": false,
     "start_time": "2024-04-05T22:28:04.649257",
     "status": "completed"
    },
    "tags": []
   },
   "source": [
    "#### Splitting the dataset"
   ]
  },
  {
   "cell_type": "code",
   "execution_count": 27,
   "id": "7a775045",
   "metadata": {
    "execution": {
     "iopub.execute_input": "2024-04-05T22:28:04.779127Z",
     "iopub.status.busy": "2024-04-05T22:28:04.777749Z",
     "iopub.status.idle": "2024-04-05T22:28:05.163692Z",
     "shell.execute_reply": "2024-04-05T22:28:05.162191Z"
    },
    "papermill": {
     "duration": 0.432707,
     "end_time": "2024-04-05T22:28:05.166983",
     "exception": false,
     "start_time": "2024-04-05T22:28:04.734276",
     "status": "completed"
    },
    "tags": []
   },
   "outputs": [],
   "source": [
    "from sklearn.model_selection import train_test_split"
   ]
  },
  {
   "cell_type": "code",
   "execution_count": 28,
   "id": "df2ee56d",
   "metadata": {
    "execution": {
     "iopub.execute_input": "2024-04-05T22:28:05.254804Z",
     "iopub.status.busy": "2024-04-05T22:28:05.254289Z",
     "iopub.status.idle": "2024-04-05T22:28:05.566454Z",
     "shell.execute_reply": "2024-04-05T22:28:05.565403Z"
    },
    "papermill": {
     "duration": 0.358825,
     "end_time": "2024-04-05T22:28:05.569130",
     "exception": false,
     "start_time": "2024-04-05T22:28:05.210305",
     "status": "completed"
    },
    "tags": []
   },
   "outputs": [
    {
     "data": {
      "text/plain": [
       "(1329384, 332347)"
      ]
     },
     "execution_count": 28,
     "metadata": {},
     "output_type": "execute_result"
    }
   ],
   "source": [
    "train, val = train_test_split(data, test_size = 0.2, random_state = len(data))\n",
    "len(train), len(val)"
   ]
  },
  {
   "cell_type": "code",
   "execution_count": 29,
   "id": "7ad6f4b1",
   "metadata": {
    "execution": {
     "iopub.execute_input": "2024-04-05T22:28:05.663448Z",
     "iopub.status.busy": "2024-04-05T22:28:05.662622Z",
     "iopub.status.idle": "2024-04-05T22:28:05.669016Z",
     "shell.execute_reply": "2024-04-05T22:28:05.668157Z"
    },
    "papermill": {
     "duration": 0.056463,
     "end_time": "2024-04-05T22:28:05.671568",
     "exception": false,
     "start_time": "2024-04-05T22:28:05.615105",
     "status": "completed"
    },
    "tags": []
   },
   "outputs": [
    {
     "data": {
      "text/plain": [
       "(1329384, 7)"
      ]
     },
     "execution_count": 29,
     "metadata": {},
     "output_type": "execute_result"
    }
   ],
   "source": [
    "train.shape"
   ]
  },
  {
   "cell_type": "code",
   "execution_count": 30,
   "id": "4327cdfd",
   "metadata": {
    "execution": {
     "iopub.execute_input": "2024-04-05T22:28:05.765841Z",
     "iopub.status.busy": "2024-04-05T22:28:05.764951Z",
     "iopub.status.idle": "2024-04-05T22:28:05.896237Z",
     "shell.execute_reply": "2024-04-05T22:28:05.894562Z"
    },
    "papermill": {
     "duration": 0.182778,
     "end_time": "2024-04-05T22:28:05.900269",
     "exception": false,
     "start_time": "2024-04-05T22:28:05.717491",
     "status": "completed"
    },
    "tags": []
   },
   "outputs": [
    {
     "data": {
      "text/plain": [
       "((1329373, 7), (332344, 7))"
      ]
     },
     "execution_count": 30,
     "metadata": {},
     "output_type": "execute_result"
    }
   ],
   "source": [
    "# Dropping the missing values\n",
    "train = train.dropna()\n",
    "val = val.dropna()\n",
    "\n",
    "train.shape, val.shape"
   ]
  },
  {
   "cell_type": "markdown",
   "id": "169a3237",
   "metadata": {
    "papermill": {
     "duration": 0.06223,
     "end_time": "2024-04-05T22:28:06.008991",
     "exception": false,
     "start_time": "2024-04-05T22:28:05.946761",
     "status": "completed"
    },
    "tags": []
   },
   "source": [
    "Sepraing the inputs and output cols"
   ]
  },
  {
   "cell_type": "code",
   "execution_count": 31,
   "id": "e73836e6",
   "metadata": {
    "execution": {
     "iopub.execute_input": "2024-04-05T22:28:06.106050Z",
     "iopub.status.busy": "2024-04-05T22:28:06.105571Z",
     "iopub.status.idle": "2024-04-05T22:28:06.113152Z",
     "shell.execute_reply": "2024-04-05T22:28:06.112215Z"
    },
    "papermill": {
     "duration": 0.058483,
     "end_time": "2024-04-05T22:28:06.115739",
     "exception": false,
     "start_time": "2024-04-05T22:28:06.057256",
     "status": "completed"
    },
    "tags": []
   },
   "outputs": [
    {
     "data": {
      "text/plain": [
       "Index(['fare_amount', 'pickup_datetime', 'pickup_longitude', 'pickup_latitude',\n",
       "       'dropoff_longitude', 'dropoff_latitude', 'passenger_count'],\n",
       "      dtype='object')"
      ]
     },
     "execution_count": 31,
     "metadata": {},
     "output_type": "execute_result"
    }
   ],
   "source": [
    "train.columns"
   ]
  },
  {
   "cell_type": "markdown",
   "id": "e28b6dae",
   "metadata": {
    "papermill": {
     "duration": 0.047137,
     "end_time": "2024-04-05T22:28:06.209477",
     "exception": false,
     "start_time": "2024-04-05T22:28:06.162340",
     "status": "completed"
    },
    "tags": []
   },
   "source": [
    "We can't Train a a model on date time column we need to convert the date time to multiple columns by extraicting the values"
   ]
  },
  {
   "cell_type": "code",
   "execution_count": 32,
   "id": "24b82f60",
   "metadata": {
    "execution": {
     "iopub.execute_input": "2024-04-05T22:28:06.308995Z",
     "iopub.status.busy": "2024-04-05T22:28:06.307965Z",
     "iopub.status.idle": "2024-04-05T22:28:06.313627Z",
     "shell.execute_reply": "2024-04-05T22:28:06.312399Z"
    },
    "papermill": {
     "duration": 0.058085,
     "end_time": "2024-04-05T22:28:06.316527",
     "exception": false,
     "start_time": "2024-04-05T22:28:06.258442",
     "status": "completed"
    },
    "tags": []
   },
   "outputs": [],
   "source": [
    "input_col = ['pickup_longitude', 'pickup_latitude', 'dropoff_longitude', 'dropoff_latitude', 'passenger_count']\n",
    "tar_col = 'fare_amount'"
   ]
  },
  {
   "cell_type": "code",
   "execution_count": 33,
   "id": "93848a15",
   "metadata": {
    "execution": {
     "iopub.execute_input": "2024-04-05T22:28:06.412066Z",
     "iopub.status.busy": "2024-04-05T22:28:06.411163Z",
     "iopub.status.idle": "2024-04-05T22:28:06.474199Z",
     "shell.execute_reply": "2024-04-05T22:28:06.472600Z"
    },
    "papermill": {
     "duration": 0.115201,
     "end_time": "2024-04-05T22:28:06.477590",
     "exception": false,
     "start_time": "2024-04-05T22:28:06.362389",
     "status": "completed"
    },
    "tags": []
   },
   "outputs": [
    {
     "data": {
      "text/plain": [
       "((1329373, 5), (332344,))"
      ]
     },
     "execution_count": 33,
     "metadata": {},
     "output_type": "execute_result"
    }
   ],
   "source": [
    "x_train = train[input_col].copy()\n",
    "y_train = train[tar_col].copy()\n",
    "\n",
    "x_val = val[input_col].copy()\n",
    "y_val = val[tar_col].copy()\n",
    "\n",
    "x_train.shape, y_val.shape"
   ]
  },
  {
   "cell_type": "markdown",
   "id": "7711ad60",
   "metadata": {
    "papermill": {
     "duration": 0.043051,
     "end_time": "2024-04-05T22:28:06.563708",
     "exception": false,
     "start_time": "2024-04-05T22:28:06.520657",
     "status": "completed"
    },
    "tags": []
   },
   "source": [
    "## Hardcoded and baseline Models\n",
    "\n",
    "Making some of the very simple models which produce very dumb results and compare the models to the This to know the status\n",
    "and perfoming efficieny of the modle"
   ]
  },
  {
   "cell_type": "code",
   "execution_count": 34,
   "id": "7c808bd6",
   "metadata": {
    "execution": {
     "iopub.execute_input": "2024-04-05T22:28:06.650777Z",
     "iopub.status.busy": "2024-04-05T22:28:06.649704Z",
     "iopub.status.idle": "2024-04-05T22:28:06.658172Z",
     "shell.execute_reply": "2024-04-05T22:28:06.656725Z"
    },
    "papermill": {
     "duration": 0.055809,
     "end_time": "2024-04-05T22:28:06.661447",
     "exception": false,
     "start_time": "2024-04-05T22:28:06.605638",
     "status": "completed"
    },
    "tags": []
   },
   "outputs": [],
   "source": [
    "# Using Classes to make it similar to the SK-learn models\n",
    "\n",
    "class MeanRegressor:\n",
    "    def fit(self, inputs, targets):\n",
    "        self.mean = targets.mean()\n",
    "        return self\n",
    "    \n",
    "    def predict(self, inputs):\n",
    "        return np.full(inputs.shape[0], self.mean)\n",
    "    "
   ]
  },
  {
   "cell_type": "code",
   "execution_count": 35,
   "id": "01ac6d02",
   "metadata": {
    "execution": {
     "iopub.execute_input": "2024-04-05T22:28:06.752749Z",
     "iopub.status.busy": "2024-04-05T22:28:06.752228Z",
     "iopub.status.idle": "2024-04-05T22:28:06.761230Z",
     "shell.execute_reply": "2024-04-05T22:28:06.760213Z"
    },
    "papermill": {
     "duration": 0.058485,
     "end_time": "2024-04-05T22:28:06.764057",
     "exception": false,
     "start_time": "2024-04-05T22:28:06.705572",
     "status": "completed"
    },
    "tags": []
   },
   "outputs": [],
   "source": [
    "model = MeanRegressor().fit(x_train, y_train)"
   ]
  },
  {
   "cell_type": "code",
   "execution_count": 36,
   "id": "326d5336",
   "metadata": {
    "execution": {
     "iopub.execute_input": "2024-04-05T22:28:06.852187Z",
     "iopub.status.busy": "2024-04-05T22:28:06.851054Z",
     "iopub.status.idle": "2024-04-05T22:28:06.860069Z",
     "shell.execute_reply": "2024-04-05T22:28:06.858650Z"
    },
    "papermill": {
     "duration": 0.056636,
     "end_time": "2024-04-05T22:28:06.862955",
     "exception": false,
     "start_time": "2024-04-05T22:28:06.806319",
     "status": "completed"
    },
    "tags": []
   },
   "outputs": [
    {
     "data": {
      "text/plain": [
       "11.34721"
      ]
     },
     "execution_count": 36,
     "metadata": {},
     "output_type": "execute_result"
    }
   ],
   "source": [
    "model.mean"
   ]
  },
  {
   "cell_type": "code",
   "execution_count": 37,
   "id": "9388d38d",
   "metadata": {
    "execution": {
     "iopub.execute_input": "2024-04-05T22:28:06.952912Z",
     "iopub.status.busy": "2024-04-05T22:28:06.952405Z",
     "iopub.status.idle": "2024-04-05T22:28:06.958678Z",
     "shell.execute_reply": "2024-04-05T22:28:06.957170Z"
    },
    "papermill": {
     "duration": 0.054732,
     "end_time": "2024-04-05T22:28:06.961479",
     "exception": false,
     "start_time": "2024-04-05T22:28:06.906747",
     "status": "completed"
    },
    "tags": []
   },
   "outputs": [],
   "source": [
    "train_pre = model.predict(x_train)"
   ]
  },
  {
   "cell_type": "markdown",
   "id": "8866dfee",
   "metadata": {
    "papermill": {
     "duration": 0.041952,
     "end_time": "2024-04-05T22:28:07.046690",
     "exception": false,
     "start_time": "2024-04-05T22:28:07.004738",
     "status": "completed"
    },
    "tags": []
   },
   "source": [
    "### Evaluating \n",
    "using RMSE for the evaluating the error"
   ]
  },
  {
   "cell_type": "code",
   "execution_count": 38,
   "id": "10f4f5a8",
   "metadata": {
    "execution": {
     "iopub.execute_input": "2024-04-05T22:28:07.138591Z",
     "iopub.status.busy": "2024-04-05T22:28:07.137642Z",
     "iopub.status.idle": "2024-04-05T22:28:07.143349Z",
     "shell.execute_reply": "2024-04-05T22:28:07.142269Z"
    },
    "papermill": {
     "duration": 0.052301,
     "end_time": "2024-04-05T22:28:07.145847",
     "exception": false,
     "start_time": "2024-04-05T22:28:07.093546",
     "status": "completed"
    },
    "tags": []
   },
   "outputs": [],
   "source": [
    "from sklearn.metrics import mean_squared_error\n",
    "\n",
    "def rmse(inp, tar):\n",
    "    return mean_squared_error(inp, tar, squared=False)"
   ]
  },
  {
   "cell_type": "code",
   "execution_count": 39,
   "id": "a50bb653",
   "metadata": {
    "execution": {
     "iopub.execute_input": "2024-04-05T22:28:07.247375Z",
     "iopub.status.busy": "2024-04-05T22:28:07.246063Z",
     "iopub.status.idle": "2024-04-05T22:28:07.262321Z",
     "shell.execute_reply": "2024-04-05T22:28:07.260872Z"
    },
    "papermill": {
     "duration": 0.072505,
     "end_time": "2024-04-05T22:28:07.265377",
     "exception": false,
     "start_time": "2024-04-05T22:28:07.192872",
     "status": "completed"
    },
    "tags": []
   },
   "outputs": [
    {
     "data": {
      "text/plain": [
       "9.772153"
      ]
     },
     "execution_count": 39,
     "metadata": {},
     "output_type": "execute_result"
    }
   ],
   "source": [
    "train_rmse = rmse(train_pre, y_train)\n",
    "train_rmse"
   ]
  },
  {
   "cell_type": "markdown",
   "id": "31f598bf",
   "metadata": {
    "papermill": {
     "duration": 0.042249,
     "end_time": "2024-04-05T22:28:07.351628",
     "exception": false,
     "start_time": "2024-04-05T22:28:07.309379",
     "status": "completed"
    },
    "tags": []
   },
   "source": [
    "A very high error in predicting the rate"
   ]
  },
  {
   "cell_type": "code",
   "execution_count": 40,
   "id": "3105b146",
   "metadata": {
    "execution": {
     "iopub.execute_input": "2024-04-05T22:28:07.438615Z",
     "iopub.status.busy": "2024-04-05T22:28:07.437605Z",
     "iopub.status.idle": "2024-04-05T22:28:07.449250Z",
     "shell.execute_reply": "2024-04-05T22:28:07.447919Z"
    },
    "papermill": {
     "duration": 0.058158,
     "end_time": "2024-04-05T22:28:07.451989",
     "exception": false,
     "start_time": "2024-04-05T22:28:07.393831",
     "status": "completed"
    },
    "tags": []
   },
   "outputs": [
    {
     "data": {
      "text/plain": [
       "10.090788"
      ]
     },
     "execution_count": 40,
     "metadata": {},
     "output_type": "execute_result"
    }
   ],
   "source": [
    "val_rmse = rmse(model.predict(x_val), y_val)\n",
    "val_rmse"
   ]
  },
  {
   "cell_type": "markdown",
   "id": "aecbcb4f",
   "metadata": {
    "papermill": {
     "duration": 0.043529,
     "end_time": "2024-04-05T22:28:07.537915",
     "exception": false,
     "start_time": "2024-04-05T22:28:07.494386",
     "status": "completed"
    },
    "tags": []
   },
   "source": [
    "### Train and Evaluate Base line Models"
   ]
  },
  {
   "cell_type": "code",
   "execution_count": 41,
   "id": "c3a64fd1",
   "metadata": {
    "execution": {
     "iopub.execute_input": "2024-04-05T22:28:07.626484Z",
     "iopub.status.busy": "2024-04-05T22:28:07.625434Z",
     "iopub.status.idle": "2024-04-05T22:28:07.771396Z",
     "shell.execute_reply": "2024-04-05T22:28:07.769784Z"
    },
    "papermill": {
     "duration": 0.19404,
     "end_time": "2024-04-05T22:28:07.774891",
     "exception": false,
     "start_time": "2024-04-05T22:28:07.580851",
     "status": "completed"
    },
    "tags": []
   },
   "outputs": [],
   "source": [
    "from sklearn.linear_model import LinearRegression"
   ]
  },
  {
   "cell_type": "code",
   "execution_count": 42,
   "id": "dc6ca117",
   "metadata": {
    "execution": {
     "iopub.execute_input": "2024-04-05T22:28:07.862791Z",
     "iopub.status.busy": "2024-04-05T22:28:07.861819Z",
     "iopub.status.idle": "2024-04-05T22:28:08.385693Z",
     "shell.execute_reply": "2024-04-05T22:28:08.377647Z"
    },
    "papermill": {
     "duration": 0.583113,
     "end_time": "2024-04-05T22:28:08.401061",
     "exception": false,
     "start_time": "2024-04-05T22:28:07.817948",
     "status": "completed"
    },
    "tags": []
   },
   "outputs": [],
   "source": [
    "model = LinearRegression().fit(x_train, y_train)"
   ]
  },
  {
   "cell_type": "code",
   "execution_count": 43,
   "id": "32c34573",
   "metadata": {
    "execution": {
     "iopub.execute_input": "2024-04-05T22:28:08.527853Z",
     "iopub.status.busy": "2024-04-05T22:28:08.527336Z",
     "iopub.status.idle": "2024-04-05T22:28:08.556538Z",
     "shell.execute_reply": "2024-04-05T22:28:08.554674Z"
    },
    "papermill": {
     "duration": 0.087034,
     "end_time": "2024-04-05T22:28:08.561549",
     "exception": false,
     "start_time": "2024-04-05T22:28:08.474515",
     "status": "completed"
    },
    "tags": []
   },
   "outputs": [
    {
     "data": {
      "text/plain": [
       "array([11.461119, 11.274023, 11.367463, ..., 11.273888, 11.273955,\n",
       "       11.461076], dtype=float32)"
      ]
     },
     "execution_count": 43,
     "metadata": {},
     "output_type": "execute_result"
    }
   ],
   "source": [
    "train_pre = model.predict(x_train)\n",
    "train_pre"
   ]
  },
  {
   "cell_type": "code",
   "execution_count": 44,
   "id": "b3d3455e",
   "metadata": {
    "execution": {
     "iopub.execute_input": "2024-04-05T22:28:08.705832Z",
     "iopub.status.busy": "2024-04-05T22:28:08.704693Z",
     "iopub.status.idle": "2024-04-05T22:28:08.721370Z",
     "shell.execute_reply": "2024-04-05T22:28:08.719856Z"
    },
    "papermill": {
     "duration": 0.080069,
     "end_time": "2024-04-05T22:28:08.724110",
     "exception": false,
     "start_time": "2024-04-05T22:28:08.644041",
     "status": "completed"
    },
    "tags": []
   },
   "outputs": [
    {
     "data": {
      "text/plain": [
       "9.77105"
      ]
     },
     "execution_count": 44,
     "metadata": {},
     "output_type": "execute_result"
    }
   ],
   "source": [
    "train_rmse = rmse(train_pre, y_train)\n",
    "train_rmse"
   ]
  },
  {
   "cell_type": "code",
   "execution_count": 45,
   "id": "014a21b8",
   "metadata": {
    "execution": {
     "iopub.execute_input": "2024-04-05T22:28:08.816432Z",
     "iopub.status.busy": "2024-04-05T22:28:08.815920Z",
     "iopub.status.idle": "2024-04-05T22:28:08.824258Z",
     "shell.execute_reply": "2024-04-05T22:28:08.823129Z"
    },
    "papermill": {
     "duration": 0.056236,
     "end_time": "2024-04-05T22:28:08.826693",
     "exception": false,
     "start_time": "2024-04-05T22:28:08.770457",
     "status": "completed"
    },
    "tags": []
   },
   "outputs": [
    {
     "data": {
      "text/plain": [
       "array([-0.00091909, -0.00328569,  0.00589195,  0.00096536,  0.09349196],\n",
       "      dtype=float32)"
      ]
     },
     "execution_count": 45,
     "metadata": {},
     "output_type": "execute_result"
    }
   ],
   "source": [
    "model.coef_"
   ]
  },
  {
   "cell_type": "code",
   "execution_count": 46,
   "id": "eb9868e9",
   "metadata": {
    "execution": {
     "iopub.execute_input": "2024-04-05T22:28:08.918827Z",
     "iopub.status.busy": "2024-04-05T22:28:08.917738Z",
     "iopub.status.idle": "2024-04-05T22:28:08.938943Z",
     "shell.execute_reply": "2024-04-05T22:28:08.937445Z"
    },
    "papermill": {
     "duration": 0.073781,
     "end_time": "2024-04-05T22:28:08.943381",
     "exception": false,
     "start_time": "2024-04-05T22:28:08.869600",
     "status": "completed"
    },
    "tags": []
   },
   "outputs": [
    {
     "data": {
      "text/plain": [
       "10.089108"
      ]
     },
     "execution_count": 46,
     "metadata": {},
     "output_type": "execute_result"
    }
   ],
   "source": [
    "val_pre = model.predict(x_val)\n",
    "val_rmse = rmse(val_pre, y_val)\n",
    "val_rmse"
   ]
  },
  {
   "cell_type": "markdown",
   "id": "b0ccc5f8",
   "metadata": {
    "papermill": {
     "duration": 0.049939,
     "end_time": "2024-04-05T22:28:09.085215",
     "exception": false,
     "start_time": "2024-04-05T22:28:09.035276",
     "status": "completed"
    },
    "tags": []
   },
   "source": [
    "Not at all a good model -> almost equal to the hardcoded model\n",
    "\n",
    "The main reason for this is Taining data have geo-coordinates, which is not in a format useful for the model and we are not using the one of the most imp column : pickup date and time"
   ]
  },
  {
   "cell_type": "code",
   "execution_count": 47,
   "id": "7d983601",
   "metadata": {
    "execution": {
     "iopub.execute_input": "2024-04-05T22:28:09.176561Z",
     "iopub.status.busy": "2024-04-05T22:28:09.175081Z",
     "iopub.status.idle": "2024-04-05T22:28:09.202305Z",
     "shell.execute_reply": "2024-04-05T22:28:09.201156Z"
    },
    "papermill": {
     "duration": 0.077162,
     "end_time": "2024-04-05T22:28:09.205151",
     "exception": false,
     "start_time": "2024-04-05T22:28:09.127989",
     "status": "completed"
    },
    "tags": []
   },
   "outputs": [
    {
     "data": {
      "text/html": [
       "<div>\n",
       "<style scoped>\n",
       "    .dataframe tbody tr th:only-of-type {\n",
       "        vertical-align: middle;\n",
       "    }\n",
       "\n",
       "    .dataframe tbody tr th {\n",
       "        vertical-align: top;\n",
       "    }\n",
       "\n",
       "    .dataframe thead th {\n",
       "        text-align: right;\n",
       "    }\n",
       "</style>\n",
       "<table border=\"1\" class=\"dataframe\">\n",
       "  <thead>\n",
       "    <tr style=\"text-align: right;\">\n",
       "      <th></th>\n",
       "      <th>key</th>\n",
       "      <th>pickup_datetime</th>\n",
       "      <th>pickup_longitude</th>\n",
       "      <th>pickup_latitude</th>\n",
       "      <th>dropoff_longitude</th>\n",
       "      <th>dropoff_latitude</th>\n",
       "      <th>passenger_count</th>\n",
       "    </tr>\n",
       "  </thead>\n",
       "  <tbody>\n",
       "    <tr>\n",
       "      <th>0</th>\n",
       "      <td>2015-01-27 13:08:24.0000002</td>\n",
       "      <td>2015-01-27 13:08:24+00:00</td>\n",
       "      <td>-73.973320</td>\n",
       "      <td>40.763805</td>\n",
       "      <td>-73.981430</td>\n",
       "      <td>40.743835</td>\n",
       "      <td>1</td>\n",
       "    </tr>\n",
       "    <tr>\n",
       "      <th>1</th>\n",
       "      <td>2015-01-27 13:08:24.0000003</td>\n",
       "      <td>2015-01-27 13:08:24+00:00</td>\n",
       "      <td>-73.986862</td>\n",
       "      <td>40.719383</td>\n",
       "      <td>-73.998886</td>\n",
       "      <td>40.739201</td>\n",
       "      <td>1</td>\n",
       "    </tr>\n",
       "    <tr>\n",
       "      <th>2</th>\n",
       "      <td>2011-10-08 11:53:44.0000002</td>\n",
       "      <td>2011-10-08 11:53:44+00:00</td>\n",
       "      <td>-73.982521</td>\n",
       "      <td>40.751259</td>\n",
       "      <td>-73.979652</td>\n",
       "      <td>40.746140</td>\n",
       "      <td>1</td>\n",
       "    </tr>\n",
       "    <tr>\n",
       "      <th>3</th>\n",
       "      <td>2012-12-01 21:12:12.0000002</td>\n",
       "      <td>2012-12-01 21:12:12+00:00</td>\n",
       "      <td>-73.981163</td>\n",
       "      <td>40.767807</td>\n",
       "      <td>-73.990448</td>\n",
       "      <td>40.751637</td>\n",
       "      <td>1</td>\n",
       "    </tr>\n",
       "    <tr>\n",
       "      <th>4</th>\n",
       "      <td>2012-12-01 21:12:12.0000003</td>\n",
       "      <td>2012-12-01 21:12:12+00:00</td>\n",
       "      <td>-73.966049</td>\n",
       "      <td>40.789776</td>\n",
       "      <td>-73.988564</td>\n",
       "      <td>40.744427</td>\n",
       "      <td>1</td>\n",
       "    </tr>\n",
       "    <tr>\n",
       "      <th>...</th>\n",
       "      <td>...</td>\n",
       "      <td>...</td>\n",
       "      <td>...</td>\n",
       "      <td>...</td>\n",
       "      <td>...</td>\n",
       "      <td>...</td>\n",
       "      <td>...</td>\n",
       "    </tr>\n",
       "    <tr>\n",
       "      <th>9909</th>\n",
       "      <td>2015-05-10 12:37:51.0000002</td>\n",
       "      <td>2015-05-10 12:37:51+00:00</td>\n",
       "      <td>-73.968124</td>\n",
       "      <td>40.796997</td>\n",
       "      <td>-73.955643</td>\n",
       "      <td>40.780388</td>\n",
       "      <td>6</td>\n",
       "    </tr>\n",
       "    <tr>\n",
       "      <th>9910</th>\n",
       "      <td>2015-01-12 17:05:51.0000001</td>\n",
       "      <td>2015-01-12 17:05:51+00:00</td>\n",
       "      <td>-73.945511</td>\n",
       "      <td>40.803600</td>\n",
       "      <td>-73.960213</td>\n",
       "      <td>40.776371</td>\n",
       "      <td>6</td>\n",
       "    </tr>\n",
       "    <tr>\n",
       "      <th>9911</th>\n",
       "      <td>2015-04-19 20:44:15.0000001</td>\n",
       "      <td>2015-04-19 20:44:15+00:00</td>\n",
       "      <td>-73.991600</td>\n",
       "      <td>40.726608</td>\n",
       "      <td>-73.789742</td>\n",
       "      <td>40.647011</td>\n",
       "      <td>6</td>\n",
       "    </tr>\n",
       "    <tr>\n",
       "      <th>9912</th>\n",
       "      <td>2015-01-31 01:05:19.0000005</td>\n",
       "      <td>2015-01-31 01:05:19+00:00</td>\n",
       "      <td>-73.985573</td>\n",
       "      <td>40.735432</td>\n",
       "      <td>-73.939178</td>\n",
       "      <td>40.801731</td>\n",
       "      <td>6</td>\n",
       "    </tr>\n",
       "    <tr>\n",
       "      <th>9913</th>\n",
       "      <td>2015-01-18 14:06:23.0000006</td>\n",
       "      <td>2015-01-18 14:06:23+00:00</td>\n",
       "      <td>-73.988022</td>\n",
       "      <td>40.754070</td>\n",
       "      <td>-74.000282</td>\n",
       "      <td>40.759220</td>\n",
       "      <td>6</td>\n",
       "    </tr>\n",
       "  </tbody>\n",
       "</table>\n",
       "<p>9914 rows × 7 columns</p>\n",
       "</div>"
      ],
      "text/plain": [
       "                              key           pickup_datetime  pickup_longitude  \\\n",
       "0     2015-01-27 13:08:24.0000002 2015-01-27 13:08:24+00:00        -73.973320   \n",
       "1     2015-01-27 13:08:24.0000003 2015-01-27 13:08:24+00:00        -73.986862   \n",
       "2     2011-10-08 11:53:44.0000002 2011-10-08 11:53:44+00:00        -73.982521   \n",
       "3     2012-12-01 21:12:12.0000002 2012-12-01 21:12:12+00:00        -73.981163   \n",
       "4     2012-12-01 21:12:12.0000003 2012-12-01 21:12:12+00:00        -73.966049   \n",
       "...                           ...                       ...               ...   \n",
       "9909  2015-05-10 12:37:51.0000002 2015-05-10 12:37:51+00:00        -73.968124   \n",
       "9910  2015-01-12 17:05:51.0000001 2015-01-12 17:05:51+00:00        -73.945511   \n",
       "9911  2015-04-19 20:44:15.0000001 2015-04-19 20:44:15+00:00        -73.991600   \n",
       "9912  2015-01-31 01:05:19.0000005 2015-01-31 01:05:19+00:00        -73.985573   \n",
       "9913  2015-01-18 14:06:23.0000006 2015-01-18 14:06:23+00:00        -73.988022   \n",
       "\n",
       "      pickup_latitude  dropoff_longitude  dropoff_latitude  passenger_count  \n",
       "0           40.763805         -73.981430         40.743835                1  \n",
       "1           40.719383         -73.998886         40.739201                1  \n",
       "2           40.751259         -73.979652         40.746140                1  \n",
       "3           40.767807         -73.990448         40.751637                1  \n",
       "4           40.789776         -73.988564         40.744427                1  \n",
       "...               ...                ...               ...              ...  \n",
       "9909        40.796997         -73.955643         40.780388                6  \n",
       "9910        40.803600         -73.960213         40.776371                6  \n",
       "9911        40.726608         -73.789742         40.647011                6  \n",
       "9912        40.735432         -73.939178         40.801731                6  \n",
       "9913        40.754070         -74.000282         40.759220                6  \n",
       "\n",
       "[9914 rows x 7 columns]"
      ]
     },
     "execution_count": 47,
     "metadata": {},
     "output_type": "execute_result"
    }
   ],
   "source": [
    "test_data"
   ]
  },
  {
   "cell_type": "code",
   "execution_count": 48,
   "id": "6e0bc605",
   "metadata": {
    "execution": {
     "iopub.execute_input": "2024-04-05T22:28:09.298337Z",
     "iopub.status.busy": "2024-04-05T22:28:09.296982Z",
     "iopub.status.idle": "2024-04-05T22:28:09.340451Z",
     "shell.execute_reply": "2024-04-05T22:28:09.339250Z"
    },
    "papermill": {
     "duration": 0.092166,
     "end_time": "2024-04-05T22:28:09.343264",
     "exception": false,
     "start_time": "2024-04-05T22:28:09.251098",
     "status": "completed"
    },
    "tags": []
   },
   "outputs": [
    {
     "data": {
      "text/html": [
       "<div>\n",
       "<style scoped>\n",
       "    .dataframe tbody tr th:only-of-type {\n",
       "        vertical-align: middle;\n",
       "    }\n",
       "\n",
       "    .dataframe tbody tr th {\n",
       "        vertical-align: top;\n",
       "    }\n",
       "\n",
       "    .dataframe thead th {\n",
       "        text-align: right;\n",
       "    }\n",
       "</style>\n",
       "<table border=\"1\" class=\"dataframe\">\n",
       "  <thead>\n",
       "    <tr style=\"text-align: right;\">\n",
       "      <th></th>\n",
       "      <th>key</th>\n",
       "      <th>fare_amount</th>\n",
       "    </tr>\n",
       "  </thead>\n",
       "  <tbody>\n",
       "    <tr>\n",
       "      <th>0</th>\n",
       "      <td>2015-01-27 13:08:24.0000002</td>\n",
       "      <td>11.35</td>\n",
       "    </tr>\n",
       "    <tr>\n",
       "      <th>1</th>\n",
       "      <td>2015-01-27 13:08:24.0000003</td>\n",
       "      <td>11.35</td>\n",
       "    </tr>\n",
       "    <tr>\n",
       "      <th>2</th>\n",
       "      <td>2011-10-08 11:53:44.0000002</td>\n",
       "      <td>11.35</td>\n",
       "    </tr>\n",
       "    <tr>\n",
       "      <th>3</th>\n",
       "      <td>2012-12-01 21:12:12.0000002</td>\n",
       "      <td>11.35</td>\n",
       "    </tr>\n",
       "    <tr>\n",
       "      <th>4</th>\n",
       "      <td>2012-12-01 21:12:12.0000003</td>\n",
       "      <td>11.35</td>\n",
       "    </tr>\n",
       "  </tbody>\n",
       "</table>\n",
       "</div>"
      ],
      "text/plain": [
       "                           key  fare_amount\n",
       "0  2015-01-27 13:08:24.0000002        11.35\n",
       "1  2015-01-27 13:08:24.0000003        11.35\n",
       "2  2011-10-08 11:53:44.0000002        11.35\n",
       "3  2012-12-01 21:12:12.0000002        11.35\n",
       "4  2012-12-01 21:12:12.0000003        11.35"
      ]
     },
     "execution_count": 48,
     "metadata": {},
     "output_type": "execute_result"
    }
   ],
   "source": [
    "sub_df = pd.read_csv(data_dir + '/sample_submission.csv')\n",
    "sub_df.head()"
   ]
  },
  {
   "cell_type": "code",
   "execution_count": 49,
   "id": "1717fc88",
   "metadata": {
    "execution": {
     "iopub.execute_input": "2024-04-05T22:28:09.434778Z",
     "iopub.status.busy": "2024-04-05T22:28:09.433908Z",
     "iopub.status.idle": "2024-04-05T22:28:09.440470Z",
     "shell.execute_reply": "2024-04-05T22:28:09.439226Z"
    },
    "papermill": {
     "duration": 0.056156,
     "end_time": "2024-04-05T22:28:09.443568",
     "exception": false,
     "start_time": "2024-04-05T22:28:09.387412",
     "status": "completed"
    },
    "tags": []
   },
   "outputs": [],
   "source": [
    "def submission(model, test_data, filename):\n",
    "    pre_test = model.predict(test_data)\n",
    "    print(pre_test)\n",
    "    sub_df.fare_amount = pre_test\n",
    "    sub_df.to_csv(filename, index = None)\n",
    "#     print(sub_df)"
   ]
  },
  {
   "cell_type": "code",
   "execution_count": 50,
   "id": "982e0cf7",
   "metadata": {
    "execution": {
     "iopub.execute_input": "2024-04-05T22:28:09.535305Z",
     "iopub.status.busy": "2024-04-05T22:28:09.533991Z",
     "iopub.status.idle": "2024-04-05T22:28:09.539566Z",
     "shell.execute_reply": "2024-04-05T22:28:09.538604Z"
    },
    "papermill": {
     "duration": 0.054784,
     "end_time": "2024-04-05T22:28:09.542197",
     "exception": false,
     "start_time": "2024-04-05T22:28:09.487413",
     "status": "completed"
    },
    "tags": []
   },
   "outputs": [],
   "source": [
    "# Skipping downloading the file for now\n",
    "# submission(model, test_data[input_col], \"LinReg_predection.csv\")"
   ]
  },
  {
   "cell_type": "markdown",
   "id": "52aae768",
   "metadata": {
    "papermill": {
     "duration": 0.043503,
     "end_time": "2024-04-05T22:28:09.629870",
     "exception": false,
     "start_time": "2024-04-05T22:28:09.586367",
     "status": "completed"
    },
    "tags": []
   },
   "source": [
    "#### Removing the outliares\n",
    "\n",
    "- fare_amount : 1 to 500\n",
    "- long : -75 to -72\n",
    "- lat : 40 to 42\n",
    "- passenger : 1 to 6"
   ]
  },
  {
   "cell_type": "code",
   "execution_count": 51,
   "id": "cf87a998",
   "metadata": {
    "execution": {
     "iopub.execute_input": "2024-04-05T22:28:09.720601Z",
     "iopub.status.busy": "2024-04-05T22:28:09.720066Z",
     "iopub.status.idle": "2024-04-05T22:28:09.728377Z",
     "shell.execute_reply": "2024-04-05T22:28:09.726963Z"
    },
    "papermill": {
     "duration": 0.057378,
     "end_time": "2024-04-05T22:28:09.731510",
     "exception": false,
     "start_time": "2024-04-05T22:28:09.674132",
     "status": "completed"
    },
    "tags": []
   },
   "outputs": [
    {
     "data": {
      "text/plain": [
       "Index(['fare_amount', 'pickup_datetime', 'pickup_longitude', 'pickup_latitude',\n",
       "       'dropoff_longitude', 'dropoff_latitude', 'passenger_count'],\n",
       "      dtype='object')"
      ]
     },
     "execution_count": 51,
     "metadata": {},
     "output_type": "execute_result"
    }
   ],
   "source": [
    "train.columns"
   ]
  },
  {
   "cell_type": "code",
   "execution_count": 52,
   "id": "1abdc3ec",
   "metadata": {
    "execution": {
     "iopub.execute_input": "2024-04-05T22:28:09.824483Z",
     "iopub.status.busy": "2024-04-05T22:28:09.823931Z",
     "iopub.status.idle": "2024-04-05T22:28:09.832195Z",
     "shell.execute_reply": "2024-04-05T22:28:09.830912Z"
    },
    "papermill": {
     "duration": 0.056372,
     "end_time": "2024-04-05T22:28:09.835000",
     "exception": false,
     "start_time": "2024-04-05T22:28:09.778628",
     "status": "completed"
    },
    "tags": []
   },
   "outputs": [
    {
     "data": {
      "text/plain": [
       "((1329373, 7), (332344, 7), (9914, 7))"
      ]
     },
     "execution_count": 52,
     "metadata": {},
     "output_type": "execute_result"
    }
   ],
   "source": [
    "train.shape, val.shape, test_data.shape"
   ]
  },
  {
   "cell_type": "code",
   "execution_count": 53,
   "id": "2bb71c63",
   "metadata": {
    "execution": {
     "iopub.execute_input": "2024-04-05T22:28:09.924504Z",
     "iopub.status.busy": "2024-04-05T22:28:09.923681Z",
     "iopub.status.idle": "2024-04-05T22:28:09.932722Z",
     "shell.execute_reply": "2024-04-05T22:28:09.931482Z"
    },
    "papermill": {
     "duration": 0.057622,
     "end_time": "2024-04-05T22:28:09.935729",
     "exception": false,
     "start_time": "2024-04-05T22:28:09.878107",
     "status": "completed"
    },
    "tags": []
   },
   "outputs": [],
   "source": [
    "def remove_out(df):\n",
    "    return df[(df['fare_amount'] >= 1.) & \n",
    "              (df['fare_amount'] <= 500.) &\n",
    "              (df['pickup_longitude'] >= -75) & \n",
    "              (df['pickup_longitude'] <= -72) & \n",
    "              (df['dropoff_longitude'] >= -75) & \n",
    "              (df['dropoff_longitude'] <= -72) & \n",
    "              (df['pickup_latitude'] >= 40) & \n",
    "              (df['pickup_latitude'] <= 42) & \n",
    "              (df['dropoff_latitude'] >=40) & \n",
    "              (df['dropoff_latitude'] <= 42) & \n",
    "              (df['passenger_count'] >= 1) & \n",
    "              (df['passenger_count'] <= 6)]"
   ]
  },
  {
   "cell_type": "code",
   "execution_count": 54,
   "id": "eeef15f5",
   "metadata": {
    "execution": {
     "iopub.execute_input": "2024-04-05T22:28:10.036917Z",
     "iopub.status.busy": "2024-04-05T22:28:10.035671Z",
     "iopub.status.idle": "2024-04-05T22:28:10.181672Z",
     "shell.execute_reply": "2024-04-05T22:28:10.180274Z"
    },
    "papermill": {
     "duration": 0.195241,
     "end_time": "2024-04-05T22:28:10.184836",
     "exception": false,
     "start_time": "2024-04-05T22:28:09.989595",
     "status": "completed"
    },
    "tags": []
   },
   "outputs": [
    {
     "data": {
      "text/plain": [
       "((1296679, 7), (324204, 7), (9914, 7))"
      ]
     },
     "execution_count": 54,
     "metadata": {},
     "output_type": "execute_result"
    }
   ],
   "source": [
    "train = remove_out(train)\n",
    "val = remove_out(val)\n",
    "\n",
    "train.shape, val.shape, test_data.shape"
   ]
  },
  {
   "cell_type": "markdown",
   "id": "a020b40c",
   "metadata": {
    "papermill": {
     "duration": 0.044505,
     "end_time": "2024-04-05T22:28:10.273043",
     "exception": false,
     "start_time": "2024-04-05T22:28:10.228538",
     "status": "completed"
    },
    "tags": []
   },
   "source": [
    "### Feature Engineering\n",
    "\n",
    "- Extract parts of date\n",
    "- Remove outliares\n",
    "- Add dist b/w Pickup and drop\n",
    "- Add dist from landmarks"
   ]
  },
  {
   "cell_type": "markdown",
   "id": "228f83d0",
   "metadata": {
    "papermill": {
     "duration": 0.045154,
     "end_time": "2024-04-05T22:28:10.362675",
     "exception": false,
     "start_time": "2024-04-05T22:28:10.317521",
     "status": "completed"
    },
    "tags": []
   },
   "source": [
    "#### Extracting parts form date"
   ]
  },
  {
   "cell_type": "code",
   "execution_count": 55,
   "id": "e290d9a0",
   "metadata": {
    "execution": {
     "iopub.execute_input": "2024-04-05T22:28:10.452782Z",
     "iopub.status.busy": "2024-04-05T22:28:10.452309Z",
     "iopub.status.idle": "2024-04-05T22:28:10.460011Z",
     "shell.execute_reply": "2024-04-05T22:28:10.458525Z"
    },
    "papermill": {
     "duration": 0.055932,
     "end_time": "2024-04-05T22:28:10.462690",
     "exception": false,
     "start_time": "2024-04-05T22:28:10.406758",
     "status": "completed"
    },
    "tags": []
   },
   "outputs": [],
   "source": [
    "def add_date_parts (df, col) :\n",
    "    df[col + '_year'] = df[col].dt.year\n",
    "    df[col + '_month'] = df[col].dt.month\n",
    "    df[col + '_day'] = df[col].dt.day\n",
    "    df[col + '_weekday'] = df[col].dt.weekday\n",
    "    df[col + '_hour'] = df[col].dt.hour"
   ]
  },
  {
   "cell_type": "code",
   "execution_count": 56,
   "id": "76f3694b",
   "metadata": {
    "execution": {
     "iopub.execute_input": "2024-04-05T22:28:10.552890Z",
     "iopub.status.busy": "2024-04-05T22:28:10.551925Z",
     "iopub.status.idle": "2024-04-05T22:28:10.560469Z",
     "shell.execute_reply": "2024-04-05T22:28:10.559170Z"
    },
    "papermill": {
     "duration": 0.056662,
     "end_time": "2024-04-05T22:28:10.563204",
     "exception": false,
     "start_time": "2024-04-05T22:28:10.506542",
     "status": "completed"
    },
    "tags": []
   },
   "outputs": [
    {
     "data": {
      "text/plain": [
       "['pickup_longitude',\n",
       " 'pickup_latitude',\n",
       " 'dropoff_longitude',\n",
       " 'dropoff_latitude',\n",
       " 'passenger_count']"
      ]
     },
     "execution_count": 56,
     "metadata": {},
     "output_type": "execute_result"
    }
   ],
   "source": [
    "input_col"
   ]
  },
  {
   "cell_type": "code",
   "execution_count": 57,
   "id": "ccd128b5",
   "metadata": {
    "execution": {
     "iopub.execute_input": "2024-04-05T22:28:10.657298Z",
     "iopub.status.busy": "2024-04-05T22:28:10.656486Z",
     "iopub.status.idle": "2024-04-05T22:28:10.684117Z",
     "shell.execute_reply": "2024-04-05T22:28:10.682699Z"
    },
    "papermill": {
     "duration": 0.081639,
     "end_time": "2024-04-05T22:28:10.688721",
     "exception": false,
     "start_time": "2024-04-05T22:28:10.607082",
     "status": "completed"
    },
    "tags": []
   },
   "outputs": [
    {
     "data": {
      "text/html": [
       "<div>\n",
       "<style scoped>\n",
       "    .dataframe tbody tr th:only-of-type {\n",
       "        vertical-align: middle;\n",
       "    }\n",
       "\n",
       "    .dataframe tbody tr th {\n",
       "        vertical-align: top;\n",
       "    }\n",
       "\n",
       "    .dataframe thead th {\n",
       "        text-align: right;\n",
       "    }\n",
       "</style>\n",
       "<table border=\"1\" class=\"dataframe\">\n",
       "  <thead>\n",
       "    <tr style=\"text-align: right;\">\n",
       "      <th></th>\n",
       "      <th>fare_amount</th>\n",
       "      <th>pickup_datetime</th>\n",
       "      <th>pickup_longitude</th>\n",
       "      <th>pickup_latitude</th>\n",
       "      <th>dropoff_longitude</th>\n",
       "      <th>dropoff_latitude</th>\n",
       "      <th>passenger_count</th>\n",
       "    </tr>\n",
       "  </thead>\n",
       "  <tbody>\n",
       "    <tr>\n",
       "      <th>325026</th>\n",
       "      <td>8.5</td>\n",
       "      <td>2012-12-17 21:49:00+00:00</td>\n",
       "      <td>-73.991852</td>\n",
       "      <td>40.684742</td>\n",
       "      <td>-73.972855</td>\n",
       "      <td>40.677658</td>\n",
       "      <td>3</td>\n",
       "    </tr>\n",
       "    <tr>\n",
       "      <th>1193429</th>\n",
       "      <td>5.0</td>\n",
       "      <td>2014-06-06 21:47:00+00:00</td>\n",
       "      <td>-73.972366</td>\n",
       "      <td>40.745384</td>\n",
       "      <td>-73.967659</td>\n",
       "      <td>40.755035</td>\n",
       "      <td>1</td>\n",
       "    </tr>\n",
       "    <tr>\n",
       "      <th>1351064</th>\n",
       "      <td>7.3</td>\n",
       "      <td>2010-05-06 14:51:50+00:00</td>\n",
       "      <td>-73.947533</td>\n",
       "      <td>40.808662</td>\n",
       "      <td>-73.947540</td>\n",
       "      <td>40.817768</td>\n",
       "      <td>2</td>\n",
       "    </tr>\n",
       "    <tr>\n",
       "      <th>162480</th>\n",
       "      <td>10.0</td>\n",
       "      <td>2013-03-06 22:40:32+00:00</td>\n",
       "      <td>-73.983925</td>\n",
       "      <td>40.773552</td>\n",
       "      <td>-73.964882</td>\n",
       "      <td>40.753300</td>\n",
       "      <td>2</td>\n",
       "    </tr>\n",
       "    <tr>\n",
       "      <th>1032173</th>\n",
       "      <td>4.9</td>\n",
       "      <td>2010-10-23 10:33:20+00:00</td>\n",
       "      <td>-73.998161</td>\n",
       "      <td>40.728954</td>\n",
       "      <td>-74.006630</td>\n",
       "      <td>40.729092</td>\n",
       "      <td>2</td>\n",
       "    </tr>\n",
       "  </tbody>\n",
       "</table>\n",
       "</div>"
      ],
      "text/plain": [
       "         fare_amount           pickup_datetime  pickup_longitude  \\\n",
       "325026           8.5 2012-12-17 21:49:00+00:00        -73.991852   \n",
       "1193429          5.0 2014-06-06 21:47:00+00:00        -73.972366   \n",
       "1351064          7.3 2010-05-06 14:51:50+00:00        -73.947533   \n",
       "162480          10.0 2013-03-06 22:40:32+00:00        -73.983925   \n",
       "1032173          4.9 2010-10-23 10:33:20+00:00        -73.998161   \n",
       "\n",
       "         pickup_latitude  dropoff_longitude  dropoff_latitude  passenger_count  \n",
       "325026         40.684742         -73.972855         40.677658                3  \n",
       "1193429        40.745384         -73.967659         40.755035                1  \n",
       "1351064        40.808662         -73.947540         40.817768                2  \n",
       "162480         40.773552         -73.964882         40.753300                2  \n",
       "1032173        40.728954         -74.006630         40.729092                2  "
      ]
     },
     "execution_count": 57,
     "metadata": {},
     "output_type": "execute_result"
    }
   ],
   "source": [
    "train.head()"
   ]
  },
  {
   "cell_type": "code",
   "execution_count": 58,
   "id": "f7df0628",
   "metadata": {
    "execution": {
     "iopub.execute_input": "2024-04-05T22:28:10.824520Z",
     "iopub.status.busy": "2024-04-05T22:28:10.823112Z",
     "iopub.status.idle": "2024-04-05T22:28:11.243943Z",
     "shell.execute_reply": "2024-04-05T22:28:11.241333Z"
    },
    "papermill": {
     "duration": 0.495622,
     "end_time": "2024-04-05T22:28:11.248084",
     "exception": false,
     "start_time": "2024-04-05T22:28:10.752462",
     "status": "completed"
    },
    "tags": []
   },
   "outputs": [
    {
     "data": {
      "text/html": [
       "<div>\n",
       "<style scoped>\n",
       "    .dataframe tbody tr th:only-of-type {\n",
       "        vertical-align: middle;\n",
       "    }\n",
       "\n",
       "    .dataframe tbody tr th {\n",
       "        vertical-align: top;\n",
       "    }\n",
       "\n",
       "    .dataframe thead th {\n",
       "        text-align: right;\n",
       "    }\n",
       "</style>\n",
       "<table border=\"1\" class=\"dataframe\">\n",
       "  <thead>\n",
       "    <tr style=\"text-align: right;\">\n",
       "      <th></th>\n",
       "      <th>fare_amount</th>\n",
       "      <th>pickup_datetime</th>\n",
       "      <th>pickup_longitude</th>\n",
       "      <th>pickup_latitude</th>\n",
       "      <th>dropoff_longitude</th>\n",
       "      <th>dropoff_latitude</th>\n",
       "      <th>passenger_count</th>\n",
       "      <th>pickup_datetime_year</th>\n",
       "      <th>pickup_datetime_month</th>\n",
       "      <th>pickup_datetime_day</th>\n",
       "      <th>pickup_datetime_weekday</th>\n",
       "      <th>pickup_datetime_hour</th>\n",
       "    </tr>\n",
       "  </thead>\n",
       "  <tbody>\n",
       "    <tr>\n",
       "      <th>325026</th>\n",
       "      <td>8.5</td>\n",
       "      <td>2012-12-17 21:49:00+00:00</td>\n",
       "      <td>-73.991852</td>\n",
       "      <td>40.684742</td>\n",
       "      <td>-73.972855</td>\n",
       "      <td>40.677658</td>\n",
       "      <td>3</td>\n",
       "      <td>2012</td>\n",
       "      <td>12</td>\n",
       "      <td>17</td>\n",
       "      <td>0</td>\n",
       "      <td>21</td>\n",
       "    </tr>\n",
       "    <tr>\n",
       "      <th>1193429</th>\n",
       "      <td>5.0</td>\n",
       "      <td>2014-06-06 21:47:00+00:00</td>\n",
       "      <td>-73.972366</td>\n",
       "      <td>40.745384</td>\n",
       "      <td>-73.967659</td>\n",
       "      <td>40.755035</td>\n",
       "      <td>1</td>\n",
       "      <td>2014</td>\n",
       "      <td>6</td>\n",
       "      <td>6</td>\n",
       "      <td>4</td>\n",
       "      <td>21</td>\n",
       "    </tr>\n",
       "    <tr>\n",
       "      <th>1351064</th>\n",
       "      <td>7.3</td>\n",
       "      <td>2010-05-06 14:51:50+00:00</td>\n",
       "      <td>-73.947533</td>\n",
       "      <td>40.808662</td>\n",
       "      <td>-73.947540</td>\n",
       "      <td>40.817768</td>\n",
       "      <td>2</td>\n",
       "      <td>2010</td>\n",
       "      <td>5</td>\n",
       "      <td>6</td>\n",
       "      <td>3</td>\n",
       "      <td>14</td>\n",
       "    </tr>\n",
       "    <tr>\n",
       "      <th>162480</th>\n",
       "      <td>10.0</td>\n",
       "      <td>2013-03-06 22:40:32+00:00</td>\n",
       "      <td>-73.983925</td>\n",
       "      <td>40.773552</td>\n",
       "      <td>-73.964882</td>\n",
       "      <td>40.753300</td>\n",
       "      <td>2</td>\n",
       "      <td>2013</td>\n",
       "      <td>3</td>\n",
       "      <td>6</td>\n",
       "      <td>2</td>\n",
       "      <td>22</td>\n",
       "    </tr>\n",
       "    <tr>\n",
       "      <th>1032173</th>\n",
       "      <td>4.9</td>\n",
       "      <td>2010-10-23 10:33:20+00:00</td>\n",
       "      <td>-73.998161</td>\n",
       "      <td>40.728954</td>\n",
       "      <td>-74.006630</td>\n",
       "      <td>40.729092</td>\n",
       "      <td>2</td>\n",
       "      <td>2010</td>\n",
       "      <td>10</td>\n",
       "      <td>23</td>\n",
       "      <td>5</td>\n",
       "      <td>10</td>\n",
       "    </tr>\n",
       "  </tbody>\n",
       "</table>\n",
       "</div>"
      ],
      "text/plain": [
       "         fare_amount           pickup_datetime  pickup_longitude  \\\n",
       "325026           8.5 2012-12-17 21:49:00+00:00        -73.991852   \n",
       "1193429          5.0 2014-06-06 21:47:00+00:00        -73.972366   \n",
       "1351064          7.3 2010-05-06 14:51:50+00:00        -73.947533   \n",
       "162480          10.0 2013-03-06 22:40:32+00:00        -73.983925   \n",
       "1032173          4.9 2010-10-23 10:33:20+00:00        -73.998161   \n",
       "\n",
       "         pickup_latitude  dropoff_longitude  dropoff_latitude  \\\n",
       "325026         40.684742         -73.972855         40.677658   \n",
       "1193429        40.745384         -73.967659         40.755035   \n",
       "1351064        40.808662         -73.947540         40.817768   \n",
       "162480         40.773552         -73.964882         40.753300   \n",
       "1032173        40.728954         -74.006630         40.729092   \n",
       "\n",
       "         passenger_count  pickup_datetime_year  pickup_datetime_month  \\\n",
       "325026                 3                  2012                     12   \n",
       "1193429                1                  2014                      6   \n",
       "1351064                2                  2010                      5   \n",
       "162480                 2                  2013                      3   \n",
       "1032173                2                  2010                     10   \n",
       "\n",
       "         pickup_datetime_day  pickup_datetime_weekday  pickup_datetime_hour  \n",
       "325026                    17                        0                    21  \n",
       "1193429                    6                        4                    21  \n",
       "1351064                    6                        3                    14  \n",
       "162480                     6                        2                    22  \n",
       "1032173                   23                        5                    10  "
      ]
     },
     "execution_count": 58,
     "metadata": {},
     "output_type": "execute_result"
    }
   ],
   "source": [
    "add_date_parts(train,'pickup_datetime')\n",
    "train.head()"
   ]
  },
  {
   "cell_type": "code",
   "execution_count": 59,
   "id": "46893f94",
   "metadata": {
    "execution": {
     "iopub.execute_input": "2024-04-05T22:28:11.347591Z",
     "iopub.status.busy": "2024-04-05T22:28:11.346404Z",
     "iopub.status.idle": "2024-04-05T22:28:11.467630Z",
     "shell.execute_reply": "2024-04-05T22:28:11.466208Z"
    },
    "papermill": {
     "duration": 0.172796,
     "end_time": "2024-04-05T22:28:11.470767",
     "exception": false,
     "start_time": "2024-04-05T22:28:11.297971",
     "status": "completed"
    },
    "tags": []
   },
   "outputs": [
    {
     "data": {
      "text/html": [
       "<div>\n",
       "<style scoped>\n",
       "    .dataframe tbody tr th:only-of-type {\n",
       "        vertical-align: middle;\n",
       "    }\n",
       "\n",
       "    .dataframe tbody tr th {\n",
       "        vertical-align: top;\n",
       "    }\n",
       "\n",
       "    .dataframe thead th {\n",
       "        text-align: right;\n",
       "    }\n",
       "</style>\n",
       "<table border=\"1\" class=\"dataframe\">\n",
       "  <thead>\n",
       "    <tr style=\"text-align: right;\">\n",
       "      <th></th>\n",
       "      <th>fare_amount</th>\n",
       "      <th>pickup_datetime</th>\n",
       "      <th>pickup_longitude</th>\n",
       "      <th>pickup_latitude</th>\n",
       "      <th>dropoff_longitude</th>\n",
       "      <th>dropoff_latitude</th>\n",
       "      <th>passenger_count</th>\n",
       "      <th>pickup_datetime_year</th>\n",
       "      <th>pickup_datetime_month</th>\n",
       "      <th>pickup_datetime_day</th>\n",
       "      <th>pickup_datetime_weekday</th>\n",
       "      <th>pickup_datetime_hour</th>\n",
       "    </tr>\n",
       "  </thead>\n",
       "  <tbody>\n",
       "    <tr>\n",
       "      <th>445623</th>\n",
       "      <td>15.7</td>\n",
       "      <td>2011-03-18 20:05:00+00:00</td>\n",
       "      <td>-73.955383</td>\n",
       "      <td>40.764061</td>\n",
       "      <td>-73.996735</td>\n",
       "      <td>40.723850</td>\n",
       "      <td>2</td>\n",
       "      <td>2011</td>\n",
       "      <td>3</td>\n",
       "      <td>18</td>\n",
       "      <td>4</td>\n",
       "      <td>20</td>\n",
       "    </tr>\n",
       "    <tr>\n",
       "      <th>1458920</th>\n",
       "      <td>7.5</td>\n",
       "      <td>2015-05-19 06:58:07+00:00</td>\n",
       "      <td>-73.989815</td>\n",
       "      <td>40.756699</td>\n",
       "      <td>-73.984100</td>\n",
       "      <td>40.769711</td>\n",
       "      <td>1</td>\n",
       "      <td>2015</td>\n",
       "      <td>5</td>\n",
       "      <td>19</td>\n",
       "      <td>1</td>\n",
       "      <td>6</td>\n",
       "    </tr>\n",
       "    <tr>\n",
       "      <th>889073</th>\n",
       "      <td>4.5</td>\n",
       "      <td>2012-02-08 17:54:00+00:00</td>\n",
       "      <td>-73.959480</td>\n",
       "      <td>40.767353</td>\n",
       "      <td>-73.964714</td>\n",
       "      <td>40.759151</td>\n",
       "      <td>1</td>\n",
       "      <td>2012</td>\n",
       "      <td>2</td>\n",
       "      <td>8</td>\n",
       "      <td>2</td>\n",
       "      <td>17</td>\n",
       "    </tr>\n",
       "    <tr>\n",
       "      <th>1305343</th>\n",
       "      <td>8.1</td>\n",
       "      <td>2012-08-11 19:20:00+00:00</td>\n",
       "      <td>-73.959465</td>\n",
       "      <td>40.809738</td>\n",
       "      <td>-73.980309</td>\n",
       "      <td>40.782291</td>\n",
       "      <td>4</td>\n",
       "      <td>2012</td>\n",
       "      <td>8</td>\n",
       "      <td>11</td>\n",
       "      <td>5</td>\n",
       "      <td>19</td>\n",
       "    </tr>\n",
       "    <tr>\n",
       "      <th>1153554</th>\n",
       "      <td>7.3</td>\n",
       "      <td>2009-07-04 12:51:00+00:00</td>\n",
       "      <td>-73.964905</td>\n",
       "      <td>40.755657</td>\n",
       "      <td>-73.978409</td>\n",
       "      <td>40.772228</td>\n",
       "      <td>1</td>\n",
       "      <td>2009</td>\n",
       "      <td>7</td>\n",
       "      <td>4</td>\n",
       "      <td>5</td>\n",
       "      <td>12</td>\n",
       "    </tr>\n",
       "  </tbody>\n",
       "</table>\n",
       "</div>"
      ],
      "text/plain": [
       "         fare_amount           pickup_datetime  pickup_longitude  \\\n",
       "445623          15.7 2011-03-18 20:05:00+00:00        -73.955383   \n",
       "1458920          7.5 2015-05-19 06:58:07+00:00        -73.989815   \n",
       "889073           4.5 2012-02-08 17:54:00+00:00        -73.959480   \n",
       "1305343          8.1 2012-08-11 19:20:00+00:00        -73.959465   \n",
       "1153554          7.3 2009-07-04 12:51:00+00:00        -73.964905   \n",
       "\n",
       "         pickup_latitude  dropoff_longitude  dropoff_latitude  \\\n",
       "445623         40.764061         -73.996735         40.723850   \n",
       "1458920        40.756699         -73.984100         40.769711   \n",
       "889073         40.767353         -73.964714         40.759151   \n",
       "1305343        40.809738         -73.980309         40.782291   \n",
       "1153554        40.755657         -73.978409         40.772228   \n",
       "\n",
       "         passenger_count  pickup_datetime_year  pickup_datetime_month  \\\n",
       "445623                 2                  2011                      3   \n",
       "1458920                1                  2015                      5   \n",
       "889073                 1                  2012                      2   \n",
       "1305343                4                  2012                      8   \n",
       "1153554                1                  2009                      7   \n",
       "\n",
       "         pickup_datetime_day  pickup_datetime_weekday  pickup_datetime_hour  \n",
       "445623                    18                        4                    20  \n",
       "1458920                   19                        1                     6  \n",
       "889073                     8                        2                    17  \n",
       "1305343                   11                        5                    19  \n",
       "1153554                    4                        5                    12  "
      ]
     },
     "execution_count": 59,
     "metadata": {},
     "output_type": "execute_result"
    }
   ],
   "source": [
    "add_date_parts(val, 'pickup_datetime')\n",
    "val.head()"
   ]
  },
  {
   "cell_type": "code",
   "execution_count": 60,
   "id": "5d85073a",
   "metadata": {
    "execution": {
     "iopub.execute_input": "2024-04-05T22:28:11.567250Z",
     "iopub.status.busy": "2024-04-05T22:28:11.566695Z",
     "iopub.status.idle": "2024-04-05T22:28:11.594480Z",
     "shell.execute_reply": "2024-04-05T22:28:11.593189Z"
    },
    "papermill": {
     "duration": 0.078671,
     "end_time": "2024-04-05T22:28:11.596958",
     "exception": false,
     "start_time": "2024-04-05T22:28:11.518287",
     "status": "completed"
    },
    "tags": []
   },
   "outputs": [
    {
     "data": {
      "text/html": [
       "<div>\n",
       "<style scoped>\n",
       "    .dataframe tbody tr th:only-of-type {\n",
       "        vertical-align: middle;\n",
       "    }\n",
       "\n",
       "    .dataframe tbody tr th {\n",
       "        vertical-align: top;\n",
       "    }\n",
       "\n",
       "    .dataframe thead th {\n",
       "        text-align: right;\n",
       "    }\n",
       "</style>\n",
       "<table border=\"1\" class=\"dataframe\">\n",
       "  <thead>\n",
       "    <tr style=\"text-align: right;\">\n",
       "      <th></th>\n",
       "      <th>key</th>\n",
       "      <th>pickup_datetime</th>\n",
       "      <th>pickup_longitude</th>\n",
       "      <th>pickup_latitude</th>\n",
       "      <th>dropoff_longitude</th>\n",
       "      <th>dropoff_latitude</th>\n",
       "      <th>passenger_count</th>\n",
       "      <th>pickup_datetime_year</th>\n",
       "      <th>pickup_datetime_month</th>\n",
       "      <th>pickup_datetime_day</th>\n",
       "      <th>pickup_datetime_weekday</th>\n",
       "      <th>pickup_datetime_hour</th>\n",
       "    </tr>\n",
       "  </thead>\n",
       "  <tbody>\n",
       "    <tr>\n",
       "      <th>0</th>\n",
       "      <td>2015-01-27 13:08:24.0000002</td>\n",
       "      <td>2015-01-27 13:08:24+00:00</td>\n",
       "      <td>-73.973320</td>\n",
       "      <td>40.763805</td>\n",
       "      <td>-73.981430</td>\n",
       "      <td>40.743835</td>\n",
       "      <td>1</td>\n",
       "      <td>2015</td>\n",
       "      <td>1</td>\n",
       "      <td>27</td>\n",
       "      <td>1</td>\n",
       "      <td>13</td>\n",
       "    </tr>\n",
       "    <tr>\n",
       "      <th>1</th>\n",
       "      <td>2015-01-27 13:08:24.0000003</td>\n",
       "      <td>2015-01-27 13:08:24+00:00</td>\n",
       "      <td>-73.986862</td>\n",
       "      <td>40.719383</td>\n",
       "      <td>-73.998886</td>\n",
       "      <td>40.739201</td>\n",
       "      <td>1</td>\n",
       "      <td>2015</td>\n",
       "      <td>1</td>\n",
       "      <td>27</td>\n",
       "      <td>1</td>\n",
       "      <td>13</td>\n",
       "    </tr>\n",
       "    <tr>\n",
       "      <th>2</th>\n",
       "      <td>2011-10-08 11:53:44.0000002</td>\n",
       "      <td>2011-10-08 11:53:44+00:00</td>\n",
       "      <td>-73.982521</td>\n",
       "      <td>40.751259</td>\n",
       "      <td>-73.979652</td>\n",
       "      <td>40.746140</td>\n",
       "      <td>1</td>\n",
       "      <td>2011</td>\n",
       "      <td>10</td>\n",
       "      <td>8</td>\n",
       "      <td>5</td>\n",
       "      <td>11</td>\n",
       "    </tr>\n",
       "    <tr>\n",
       "      <th>3</th>\n",
       "      <td>2012-12-01 21:12:12.0000002</td>\n",
       "      <td>2012-12-01 21:12:12+00:00</td>\n",
       "      <td>-73.981163</td>\n",
       "      <td>40.767807</td>\n",
       "      <td>-73.990448</td>\n",
       "      <td>40.751637</td>\n",
       "      <td>1</td>\n",
       "      <td>2012</td>\n",
       "      <td>12</td>\n",
       "      <td>1</td>\n",
       "      <td>5</td>\n",
       "      <td>21</td>\n",
       "    </tr>\n",
       "    <tr>\n",
       "      <th>4</th>\n",
       "      <td>2012-12-01 21:12:12.0000003</td>\n",
       "      <td>2012-12-01 21:12:12+00:00</td>\n",
       "      <td>-73.966049</td>\n",
       "      <td>40.789776</td>\n",
       "      <td>-73.988564</td>\n",
       "      <td>40.744427</td>\n",
       "      <td>1</td>\n",
       "      <td>2012</td>\n",
       "      <td>12</td>\n",
       "      <td>1</td>\n",
       "      <td>5</td>\n",
       "      <td>21</td>\n",
       "    </tr>\n",
       "  </tbody>\n",
       "</table>\n",
       "</div>"
      ],
      "text/plain": [
       "                           key           pickup_datetime  pickup_longitude  \\\n",
       "0  2015-01-27 13:08:24.0000002 2015-01-27 13:08:24+00:00        -73.973320   \n",
       "1  2015-01-27 13:08:24.0000003 2015-01-27 13:08:24+00:00        -73.986862   \n",
       "2  2011-10-08 11:53:44.0000002 2011-10-08 11:53:44+00:00        -73.982521   \n",
       "3  2012-12-01 21:12:12.0000002 2012-12-01 21:12:12+00:00        -73.981163   \n",
       "4  2012-12-01 21:12:12.0000003 2012-12-01 21:12:12+00:00        -73.966049   \n",
       "\n",
       "   pickup_latitude  dropoff_longitude  dropoff_latitude  passenger_count  \\\n",
       "0        40.763805         -73.981430         40.743835                1   \n",
       "1        40.719383         -73.998886         40.739201                1   \n",
       "2        40.751259         -73.979652         40.746140                1   \n",
       "3        40.767807         -73.990448         40.751637                1   \n",
       "4        40.789776         -73.988564         40.744427                1   \n",
       "\n",
       "   pickup_datetime_year  pickup_datetime_month  pickup_datetime_day  \\\n",
       "0                  2015                      1                   27   \n",
       "1                  2015                      1                   27   \n",
       "2                  2011                     10                    8   \n",
       "3                  2012                     12                    1   \n",
       "4                  2012                     12                    1   \n",
       "\n",
       "   pickup_datetime_weekday  pickup_datetime_hour  \n",
       "0                        1                    13  \n",
       "1                        1                    13  \n",
       "2                        5                    11  \n",
       "3                        5                    21  \n",
       "4                        5                    21  "
      ]
     },
     "execution_count": 60,
     "metadata": {},
     "output_type": "execute_result"
    }
   ],
   "source": [
    "add_date_parts(test_data, 'pickup_datetime')\n",
    "test_data.head()"
   ]
  },
  {
   "cell_type": "markdown",
   "id": "0787c204",
   "metadata": {
    "papermill": {
     "duration": 0.046453,
     "end_time": "2024-04-05T22:28:11.690725",
     "exception": false,
     "start_time": "2024-04-05T22:28:11.644272",
     "status": "completed"
    },
    "tags": []
   },
   "source": [
    "#### Distance b/w pickup and drop locations\n",
    "\n",
    "We are going to use the [Haversine formula](https://en.wikipedia.org/wiki/Haversine_formula) for the Calculation of the Distance between 2 coordinate in the map\n",
    "\n",
    "Directly taking the function and copying it online."
   ]
  },
  {
   "cell_type": "code",
   "execution_count": 61,
   "id": "325db358",
   "metadata": {
    "execution": {
     "iopub.execute_input": "2024-04-05T22:28:11.791437Z",
     "iopub.status.busy": "2024-04-05T22:28:11.790443Z",
     "iopub.status.idle": "2024-04-05T22:28:11.800383Z",
     "shell.execute_reply": "2024-04-05T22:28:11.799321Z"
    },
    "papermill": {
     "duration": 0.065737,
     "end_time": "2024-04-05T22:28:11.803318",
     "exception": false,
     "start_time": "2024-04-05T22:28:11.737581",
     "status": "completed"
    },
    "tags": []
   },
   "outputs": [],
   "source": [
    "import numpy as np\n",
    "\n",
    "def haversine_np(lon1, lat1, lon2, lat2):\n",
    "    \"\"\"\n",
    "    Calculate the great circle distance between two points\n",
    "    on the earth (specified in decimal degrees)\n",
    "\n",
    "    All args must be of equal length.    \n",
    "\n",
    "    \"\"\"\n",
    "    lon1, lat1, lon2, lat2 = map(np.radians, [lon1, lat1, lon2, lat2])\n",
    "\n",
    "    dlon = lon2 - lon1\n",
    "    dlat = lat2 - lat1\n",
    "\n",
    "    a = np.sin(dlat/2.0)**2 + np.cos(lat1) * np.cos(lat2) * np.sin(dlon/2.0)**2\n",
    "\n",
    "    c = 2 * np.arcsin(np.sqrt(a))\n",
    "    return c\n",
    "#     km = 6367 * c\n",
    "#     return km\n"
   ]
  },
  {
   "cell_type": "code",
   "execution_count": 62,
   "id": "1a2f83bb",
   "metadata": {
    "execution": {
     "iopub.execute_input": "2024-04-05T22:28:11.901453Z",
     "iopub.status.busy": "2024-04-05T22:28:11.900442Z",
     "iopub.status.idle": "2024-04-05T22:28:11.907274Z",
     "shell.execute_reply": "2024-04-05T22:28:11.906214Z"
    },
    "papermill": {
     "duration": 0.060204,
     "end_time": "2024-04-05T22:28:11.909934",
     "exception": false,
     "start_time": "2024-04-05T22:28:11.849730",
     "status": "completed"
    },
    "tags": []
   },
   "outputs": [],
   "source": [
    "def add_dist(df) :\n",
    "    df['distance'] = haversine_np(df.pickup_longitude, df.pickup_latitude, df.dropoff_longitude, df.dropoff_longitude)"
   ]
  },
  {
   "cell_type": "code",
   "execution_count": 63,
   "id": "210c0a4d",
   "metadata": {
    "execution": {
     "iopub.execute_input": "2024-04-05T22:28:12.009321Z",
     "iopub.status.busy": "2024-04-05T22:28:12.008410Z",
     "iopub.status.idle": "2024-04-05T22:28:12.258042Z",
     "shell.execute_reply": "2024-04-05T22:28:12.256968Z"
    },
    "papermill": {
     "duration": 0.304935,
     "end_time": "2024-04-05T22:28:12.262229",
     "exception": false,
     "start_time": "2024-04-05T22:28:11.957294",
     "status": "completed"
    },
    "tags": []
   },
   "outputs": [],
   "source": [
    "add_dist(train)\n",
    "add_dist(val)\n",
    "add_dist(test_data)"
   ]
  },
  {
   "cell_type": "code",
   "execution_count": 64,
   "id": "be15a21a",
   "metadata": {
    "execution": {
     "iopub.execute_input": "2024-04-05T22:28:12.359096Z",
     "iopub.status.busy": "2024-04-05T22:28:12.358615Z",
     "iopub.status.idle": "2024-04-05T22:28:12.384459Z",
     "shell.execute_reply": "2024-04-05T22:28:12.382710Z"
    },
    "papermill": {
     "duration": 0.078585,
     "end_time": "2024-04-05T22:28:12.387944",
     "exception": false,
     "start_time": "2024-04-05T22:28:12.309359",
     "status": "completed"
    },
    "tags": []
   },
   "outputs": [
    {
     "data": {
      "text/html": [
       "<div>\n",
       "<style scoped>\n",
       "    .dataframe tbody tr th:only-of-type {\n",
       "        vertical-align: middle;\n",
       "    }\n",
       "\n",
       "    .dataframe tbody tr th {\n",
       "        vertical-align: top;\n",
       "    }\n",
       "\n",
       "    .dataframe thead th {\n",
       "        text-align: right;\n",
       "    }\n",
       "</style>\n",
       "<table border=\"1\" class=\"dataframe\">\n",
       "  <thead>\n",
       "    <tr style=\"text-align: right;\">\n",
       "      <th></th>\n",
       "      <th>fare_amount</th>\n",
       "      <th>pickup_datetime</th>\n",
       "      <th>pickup_longitude</th>\n",
       "      <th>pickup_latitude</th>\n",
       "      <th>dropoff_longitude</th>\n",
       "      <th>dropoff_latitude</th>\n",
       "      <th>passenger_count</th>\n",
       "      <th>pickup_datetime_year</th>\n",
       "      <th>pickup_datetime_month</th>\n",
       "      <th>pickup_datetime_day</th>\n",
       "      <th>pickup_datetime_weekday</th>\n",
       "      <th>pickup_datetime_hour</th>\n",
       "      <th>distance</th>\n",
       "    </tr>\n",
       "  </thead>\n",
       "  <tbody>\n",
       "    <tr>\n",
       "      <th>325026</th>\n",
       "      <td>8.5</td>\n",
       "      <td>2012-12-17 21:49:00+00:00</td>\n",
       "      <td>-73.991852</td>\n",
       "      <td>40.684742</td>\n",
       "      <td>-73.972855</td>\n",
       "      <td>40.677658</td>\n",
       "      <td>3</td>\n",
       "      <td>2012</td>\n",
       "      <td>12</td>\n",
       "      <td>17</td>\n",
       "      <td>0</td>\n",
       "      <td>21</td>\n",
       "      <td>2.001153</td>\n",
       "    </tr>\n",
       "    <tr>\n",
       "      <th>1193429</th>\n",
       "      <td>5.0</td>\n",
       "      <td>2014-06-06 21:47:00+00:00</td>\n",
       "      <td>-73.972366</td>\n",
       "      <td>40.745384</td>\n",
       "      <td>-73.967659</td>\n",
       "      <td>40.755035</td>\n",
       "      <td>1</td>\n",
       "      <td>2014</td>\n",
       "      <td>6</td>\n",
       "      <td>6</td>\n",
       "      <td>4</td>\n",
       "      <td>21</td>\n",
       "      <td>2.002120</td>\n",
       "    </tr>\n",
       "    <tr>\n",
       "      <th>1351064</th>\n",
       "      <td>7.3</td>\n",
       "      <td>2010-05-06 14:51:50+00:00</td>\n",
       "      <td>-73.947533</td>\n",
       "      <td>40.808662</td>\n",
       "      <td>-73.947540</td>\n",
       "      <td>40.817768</td>\n",
       "      <td>2</td>\n",
       "      <td>2010</td>\n",
       "      <td>5</td>\n",
       "      <td>6</td>\n",
       "      <td>3</td>\n",
       "      <td>14</td>\n",
       "      <td>2.002874</td>\n",
       "    </tr>\n",
       "    <tr>\n",
       "      <th>162480</th>\n",
       "      <td>10.0</td>\n",
       "      <td>2013-03-06 22:40:32+00:00</td>\n",
       "      <td>-73.983925</td>\n",
       "      <td>40.773552</td>\n",
       "      <td>-73.964882</td>\n",
       "      <td>40.753300</td>\n",
       "      <td>2</td>\n",
       "      <td>2013</td>\n",
       "      <td>3</td>\n",
       "      <td>6</td>\n",
       "      <td>2</td>\n",
       "      <td>22</td>\n",
       "      <td>2.002563</td>\n",
       "    </tr>\n",
       "    <tr>\n",
       "      <th>1032173</th>\n",
       "      <td>4.9</td>\n",
       "      <td>2010-10-23 10:33:20+00:00</td>\n",
       "      <td>-73.998161</td>\n",
       "      <td>40.728954</td>\n",
       "      <td>-74.006630</td>\n",
       "      <td>40.729092</td>\n",
       "      <td>2</td>\n",
       "      <td>2010</td>\n",
       "      <td>10</td>\n",
       "      <td>23</td>\n",
       "      <td>5</td>\n",
       "      <td>10</td>\n",
       "      <td>2.002514</td>\n",
       "    </tr>\n",
       "  </tbody>\n",
       "</table>\n",
       "</div>"
      ],
      "text/plain": [
       "         fare_amount           pickup_datetime  pickup_longitude  \\\n",
       "325026           8.5 2012-12-17 21:49:00+00:00        -73.991852   \n",
       "1193429          5.0 2014-06-06 21:47:00+00:00        -73.972366   \n",
       "1351064          7.3 2010-05-06 14:51:50+00:00        -73.947533   \n",
       "162480          10.0 2013-03-06 22:40:32+00:00        -73.983925   \n",
       "1032173          4.9 2010-10-23 10:33:20+00:00        -73.998161   \n",
       "\n",
       "         pickup_latitude  dropoff_longitude  dropoff_latitude  \\\n",
       "325026         40.684742         -73.972855         40.677658   \n",
       "1193429        40.745384         -73.967659         40.755035   \n",
       "1351064        40.808662         -73.947540         40.817768   \n",
       "162480         40.773552         -73.964882         40.753300   \n",
       "1032173        40.728954         -74.006630         40.729092   \n",
       "\n",
       "         passenger_count  pickup_datetime_year  pickup_datetime_month  \\\n",
       "325026                 3                  2012                     12   \n",
       "1193429                1                  2014                      6   \n",
       "1351064                2                  2010                      5   \n",
       "162480                 2                  2013                      3   \n",
       "1032173                2                  2010                     10   \n",
       "\n",
       "         pickup_datetime_day  pickup_datetime_weekday  pickup_datetime_hour  \\\n",
       "325026                    17                        0                    21   \n",
       "1193429                    6                        4                    21   \n",
       "1351064                    6                        3                    14   \n",
       "162480                     6                        2                    22   \n",
       "1032173                   23                        5                    10   \n",
       "\n",
       "         distance  \n",
       "325026   2.001153  \n",
       "1193429  2.002120  \n",
       "1351064  2.002874  \n",
       "162480   2.002563  \n",
       "1032173  2.002514  "
      ]
     },
     "execution_count": 64,
     "metadata": {},
     "output_type": "execute_result"
    }
   ],
   "source": [
    "train.head(5)"
   ]
  },
  {
   "cell_type": "markdown",
   "id": "eed583ae",
   "metadata": {
    "papermill": {
     "duration": 0.046245,
     "end_time": "2024-04-05T22:28:12.482104",
     "exception": false,
     "start_time": "2024-04-05T22:28:12.435859",
     "status": "completed"
    },
    "tags": []
   },
   "source": [
    "#### Distance form popular landmarks\n",
    "\n",
    "popular land marks : \n",
    "- JFK airport\n",
    "- LGA Airport\n",
    "- EWR Airport\n",
    "- Times Square\n",
    "- Met Meuseum\n",
    "- WTC\n",
    "- Statue of Liberty\n",
    "- Empire state"
   ]
  },
  {
   "cell_type": "code",
   "execution_count": 65,
   "id": "74d85acb",
   "metadata": {
    "execution": {
     "iopub.execute_input": "2024-04-05T22:28:12.578001Z",
     "iopub.status.busy": "2024-04-05T22:28:12.577505Z",
     "iopub.status.idle": "2024-04-05T22:28:12.584598Z",
     "shell.execute_reply": "2024-04-05T22:28:12.583226Z"
    },
    "papermill": {
     "duration": 0.058209,
     "end_time": "2024-04-05T22:28:12.587224",
     "exception": false,
     "start_time": "2024-04-05T22:28:12.529015",
     "status": "completed"
    },
    "tags": []
   },
   "outputs": [],
   "source": [
    "jfk_longlat = -73.7797, 40.6446\n",
    "lga_longlat = -73.8718, 40.7733\n",
    "ewa_longlat = -74.1745, 40.6895\n",
    "\n",
    "times_longlat = -73.985130, 40.758896\n",
    "met_longlat = -73.9632, 40.7794\n",
    "wtc_longlat = -74.013382, 40.712742\n",
    "\n",
    "liberty_longlat = -74.0445, 40.6892\n",
    "esb_longlat = -73.9857, 40.7484"
   ]
  },
  {
   "cell_type": "code",
   "execution_count": 66,
   "id": "97f32f36",
   "metadata": {
    "execution": {
     "iopub.execute_input": "2024-04-05T22:28:12.683385Z",
     "iopub.status.busy": "2024-04-05T22:28:12.682461Z",
     "iopub.status.idle": "2024-04-05T22:28:12.690497Z",
     "shell.execute_reply": "2024-04-05T22:28:12.689520Z"
    },
    "papermill": {
     "duration": 0.059476,
     "end_time": "2024-04-05T22:28:12.693275",
     "exception": false,
     "start_time": "2024-04-05T22:28:12.633799",
     "status": "completed"
    },
    "tags": []
   },
   "outputs": [],
   "source": [
    "def add_landmark_drop_dist(df, landmark, landmark_longlat):\n",
    "    lon, lat = landmark_longlat\n",
    "    df[landmark + '_drop_dist'] = haversine_np(lon, lat, df.dropoff_longitude, df.dropoff_latitude)\n",
    "    \n",
    "def add_landmark_pick_dist(df, landmark, landmark_longlat):\n",
    "    lon, lat = landmark_longlat\n",
    "    df[landmark + '_pick_dist'] = haversine_np(lon, lat, df.dropoff_longitude, df.dropoff_latitude)"
   ]
  },
  {
   "cell_type": "code",
   "execution_count": 67,
   "id": "ce98bb7b",
   "metadata": {
    "execution": {
     "iopub.execute_input": "2024-04-05T22:28:12.821675Z",
     "iopub.status.busy": "2024-04-05T22:28:12.819780Z",
     "iopub.status.idle": "2024-04-05T22:28:12.831332Z",
     "shell.execute_reply": "2024-04-05T22:28:12.829583Z"
    },
    "papermill": {
     "duration": 0.088713,
     "end_time": "2024-04-05T22:28:12.835779",
     "exception": false,
     "start_time": "2024-04-05T22:28:12.747066",
     "status": "completed"
    },
    "tags": []
   },
   "outputs": [],
   "source": [
    "def add_landmark(df):\n",
    "    landmarks = [('jfk', jfk_longlat),\n",
    "                 ('lga', lga_longlat),\n",
    "                 ('ewa', ewa_longlat),\n",
    "                 ('times_square', times_longlat),\n",
    "                 ('met', met_longlat),\n",
    "                 ('wtc', wtc_longlat),\n",
    "                 ('esb', esb_longlat),\n",
    "                 ('liberty', liberty_longlat)]\n",
    "    for name, longlat in landmarks:\n",
    "        add_landmark_drop_dist(df, name, longlat)\n",
    "        # add_landmark_pick_dist(df, name, longlat)"
   ]
  },
  {
   "cell_type": "code",
   "execution_count": 68,
   "id": "177939e0",
   "metadata": {
    "execution": {
     "iopub.execute_input": "2024-04-05T22:28:12.943355Z",
     "iopub.status.busy": "2024-04-05T22:28:12.942254Z",
     "iopub.status.idle": "2024-04-05T22:28:12.951755Z",
     "shell.execute_reply": "2024-04-05T22:28:12.950512Z"
    },
    "papermill": {
     "duration": 0.064418,
     "end_time": "2024-04-05T22:28:12.954468",
     "exception": false,
     "start_time": "2024-04-05T22:28:12.890050",
     "status": "completed"
    },
    "tags": []
   },
   "outputs": [
    {
     "data": {
      "text/plain": [
       "Index(['fare_amount', 'pickup_datetime', 'pickup_longitude', 'pickup_latitude',\n",
       "       'dropoff_longitude', 'dropoff_latitude', 'passenger_count',\n",
       "       'pickup_datetime_year', 'pickup_datetime_month', 'pickup_datetime_day',\n",
       "       'pickup_datetime_weekday', 'pickup_datetime_hour', 'distance'],\n",
       "      dtype='object')"
      ]
     },
     "execution_count": 68,
     "metadata": {},
     "output_type": "execute_result"
    }
   ],
   "source": [
    "train.columns"
   ]
  },
  {
   "cell_type": "code",
   "execution_count": 69,
   "id": "a64ac67c",
   "metadata": {
    "execution": {
     "iopub.execute_input": "2024-04-05T22:28:13.080643Z",
     "iopub.status.busy": "2024-04-05T22:28:13.078814Z",
     "iopub.status.idle": "2024-04-05T22:28:14.865180Z",
     "shell.execute_reply": "2024-04-05T22:28:14.863530Z"
    },
    "papermill": {
     "duration": 1.855821,
     "end_time": "2024-04-05T22:28:14.869637",
     "exception": false,
     "start_time": "2024-04-05T22:28:13.013816",
     "status": "completed"
    },
    "tags": []
   },
   "outputs": [],
   "source": [
    "add_landmark(train)\n",
    "add_landmark(val)\n",
    "add_landmark(test_data)"
   ]
  },
  {
   "cell_type": "code",
   "execution_count": 70,
   "id": "e543189f",
   "metadata": {
    "execution": {
     "iopub.execute_input": "2024-04-05T22:28:15.027641Z",
     "iopub.status.busy": "2024-04-05T22:28:15.027036Z",
     "iopub.status.idle": "2024-04-05T22:28:15.036192Z",
     "shell.execute_reply": "2024-04-05T22:28:15.034717Z"
    },
    "papermill": {
     "duration": 0.091827,
     "end_time": "2024-04-05T22:28:15.040349",
     "exception": false,
     "start_time": "2024-04-05T22:28:14.948522",
     "status": "completed"
    },
    "tags": []
   },
   "outputs": [
    {
     "data": {
      "text/plain": [
       "['fare_amount',\n",
       " 'pickup_datetime',\n",
       " 'pickup_longitude',\n",
       " 'pickup_latitude',\n",
       " 'dropoff_longitude',\n",
       " 'dropoff_latitude',\n",
       " 'passenger_count',\n",
       " 'pickup_datetime_year',\n",
       " 'pickup_datetime_month',\n",
       " 'pickup_datetime_day',\n",
       " 'pickup_datetime_weekday',\n",
       " 'pickup_datetime_hour',\n",
       " 'distance',\n",
       " 'jfk_drop_dist',\n",
       " 'lga_drop_dist',\n",
       " 'ewa_drop_dist',\n",
       " 'times_square_drop_dist',\n",
       " 'met_drop_dist',\n",
       " 'wtc_drop_dist',\n",
       " 'esb_drop_dist',\n",
       " 'liberty_drop_dist']"
      ]
     },
     "execution_count": 70,
     "metadata": {},
     "output_type": "execute_result"
    }
   ],
   "source": [
    "train.columns.tolist()"
   ]
  },
  {
   "cell_type": "code",
   "execution_count": 71,
   "id": "bd3562cd",
   "metadata": {
    "execution": {
     "iopub.execute_input": "2024-04-05T22:28:15.198711Z",
     "iopub.status.busy": "2024-04-05T22:28:15.196891Z",
     "iopub.status.idle": "2024-04-05T22:28:16.242789Z",
     "shell.execute_reply": "2024-04-05T22:28:16.241012Z"
    },
    "papermill": {
     "duration": 1.126995,
     "end_time": "2024-04-05T22:28:16.249258",
     "exception": false,
     "start_time": "2024-04-05T22:28:15.122263",
     "status": "completed"
    },
    "tags": []
   },
   "outputs": [
    {
     "data": {
      "text/html": [
       "<div>\n",
       "<style scoped>\n",
       "    .dataframe tbody tr th:only-of-type {\n",
       "        vertical-align: middle;\n",
       "    }\n",
       "\n",
       "    .dataframe tbody tr th {\n",
       "        vertical-align: top;\n",
       "    }\n",
       "\n",
       "    .dataframe thead th {\n",
       "        text-align: right;\n",
       "    }\n",
       "</style>\n",
       "<table border=\"1\" class=\"dataframe\">\n",
       "  <thead>\n",
       "    <tr style=\"text-align: right;\">\n",
       "      <th></th>\n",
       "      <th>fare_amount</th>\n",
       "      <th>pickup_datetime</th>\n",
       "      <th>pickup_longitude</th>\n",
       "      <th>pickup_latitude</th>\n",
       "      <th>dropoff_longitude</th>\n",
       "      <th>dropoff_latitude</th>\n",
       "      <th>passenger_count</th>\n",
       "      <th>pickup_datetime_year</th>\n",
       "      <th>pickup_datetime_month</th>\n",
       "      <th>pickup_datetime_day</th>\n",
       "      <th>...</th>\n",
       "      <th>pickup_datetime_hour</th>\n",
       "      <th>distance</th>\n",
       "      <th>jfk_drop_dist</th>\n",
       "      <th>lga_drop_dist</th>\n",
       "      <th>ewa_drop_dist</th>\n",
       "      <th>times_square_drop_dist</th>\n",
       "      <th>met_drop_dist</th>\n",
       "      <th>wtc_drop_dist</th>\n",
       "      <th>esb_drop_dist</th>\n",
       "      <th>liberty_drop_dist</th>\n",
       "    </tr>\n",
       "  </thead>\n",
       "  <tbody>\n",
       "    <tr>\n",
       "      <th>325026</th>\n",
       "      <td>8.5</td>\n",
       "      <td>2012-12-17 21:49:00+00:00</td>\n",
       "      <td>-73.991852</td>\n",
       "      <td>40.684742</td>\n",
       "      <td>-73.972855</td>\n",
       "      <td>40.677658</td>\n",
       "      <td>3</td>\n",
       "      <td>2012</td>\n",
       "      <td>12</td>\n",
       "      <td>17</td>\n",
       "      <td>...</td>\n",
       "      <td>21</td>\n",
       "      <td>2.001153</td>\n",
       "      <td>0.002622</td>\n",
       "      <td>0.002138</td>\n",
       "      <td>0.002677</td>\n",
       "      <td>0.001427</td>\n",
       "      <td>0.001780</td>\n",
       "      <td>0.000814</td>\n",
       "      <td>0.001246</td>\n",
       "      <td>0.000969</td>\n",
       "    </tr>\n",
       "    <tr>\n",
       "      <th>1193429</th>\n",
       "      <td>5.0</td>\n",
       "      <td>2014-06-06 21:47:00+00:00</td>\n",
       "      <td>-73.972366</td>\n",
       "      <td>40.745384</td>\n",
       "      <td>-73.967659</td>\n",
       "      <td>40.755035</td>\n",
       "      <td>1</td>\n",
       "      <td>2014</td>\n",
       "      <td>6</td>\n",
       "      <td>6</td>\n",
       "      <td>...</td>\n",
       "      <td>21</td>\n",
       "      <td>2.002120</td>\n",
       "      <td>0.003146</td>\n",
       "      <td>0.001307</td>\n",
       "      <td>0.002965</td>\n",
       "      <td>0.000241</td>\n",
       "      <td>0.000429</td>\n",
       "      <td>0.000954</td>\n",
       "      <td>0.000265</td>\n",
       "      <td>0.001534</td>\n",
       "    </tr>\n",
       "    <tr>\n",
       "      <th>1351064</th>\n",
       "      <td>7.3</td>\n",
       "      <td>2010-05-06 14:51:50+00:00</td>\n",
       "      <td>-73.947533</td>\n",
       "      <td>40.808662</td>\n",
       "      <td>-73.947540</td>\n",
       "      <td>40.817768</td>\n",
       "      <td>2</td>\n",
       "      <td>2010</td>\n",
       "      <td>5</td>\n",
       "      <td>6</td>\n",
       "      <td>...</td>\n",
       "      <td>14</td>\n",
       "      <td>2.002874</td>\n",
       "      <td>0.003750</td>\n",
       "      <td>0.001266</td>\n",
       "      <td>0.003744</td>\n",
       "      <td>0.001141</td>\n",
       "      <td>0.000701</td>\n",
       "      <td>0.002029</td>\n",
       "      <td>0.001312</td>\n",
       "      <td>0.002584</td>\n",
       "    </tr>\n",
       "    <tr>\n",
       "      <th>162480</th>\n",
       "      <td>10.0</td>\n",
       "      <td>2013-03-06 22:40:32+00:00</td>\n",
       "      <td>-73.983925</td>\n",
       "      <td>40.773552</td>\n",
       "      <td>-73.964882</td>\n",
       "      <td>40.753300</td>\n",
       "      <td>2</td>\n",
       "      <td>2013</td>\n",
       "      <td>3</td>\n",
       "      <td>6</td>\n",
       "      <td>...</td>\n",
       "      <td>22</td>\n",
       "      <td>2.002563</td>\n",
       "      <td>0.003099</td>\n",
       "      <td>0.001279</td>\n",
       "      <td>0.002988</td>\n",
       "      <td>0.000285</td>\n",
       "      <td>0.000456</td>\n",
       "      <td>0.000955</td>\n",
       "      <td>0.000288</td>\n",
       "      <td>0.001536</td>\n",
       "    </tr>\n",
       "    <tr>\n",
       "      <th>1032173</th>\n",
       "      <td>4.9</td>\n",
       "      <td>2010-10-23 10:33:20+00:00</td>\n",
       "      <td>-73.998161</td>\n",
       "      <td>40.728954</td>\n",
       "      <td>-74.006630</td>\n",
       "      <td>40.729092</td>\n",
       "      <td>2</td>\n",
       "      <td>2010</td>\n",
       "      <td>10</td>\n",
       "      <td>23</td>\n",
       "      <td>...</td>\n",
       "      <td>10</td>\n",
       "      <td>2.002514</td>\n",
       "      <td>0.003346</td>\n",
       "      <td>0.001943</td>\n",
       "      <td>0.002326</td>\n",
       "      <td>0.000593</td>\n",
       "      <td>0.001049</td>\n",
       "      <td>0.000299</td>\n",
       "      <td>0.000436</td>\n",
       "      <td>0.000858</td>\n",
       "    </tr>\n",
       "    <tr>\n",
       "      <th>...</th>\n",
       "      <td>...</td>\n",
       "      <td>...</td>\n",
       "      <td>...</td>\n",
       "      <td>...</td>\n",
       "      <td>...</td>\n",
       "      <td>...</td>\n",
       "      <td>...</td>\n",
       "      <td>...</td>\n",
       "      <td>...</td>\n",
       "      <td>...</td>\n",
       "      <td>...</td>\n",
       "      <td>...</td>\n",
       "      <td>...</td>\n",
       "      <td>...</td>\n",
       "      <td>...</td>\n",
       "      <td>...</td>\n",
       "      <td>...</td>\n",
       "      <td>...</td>\n",
       "      <td>...</td>\n",
       "      <td>...</td>\n",
       "      <td>...</td>\n",
       "    </tr>\n",
       "    <tr>\n",
       "      <th>901112</th>\n",
       "      <td>12.9</td>\n",
       "      <td>2011-02-06 01:52:22+00:00</td>\n",
       "      <td>-73.958893</td>\n",
       "      <td>40.764137</td>\n",
       "      <td>-73.913765</td>\n",
       "      <td>40.778343</td>\n",
       "      <td>2</td>\n",
       "      <td>2011</td>\n",
       "      <td>2</td>\n",
       "      <td>6</td>\n",
       "      <td>...</td>\n",
       "      <td>1</td>\n",
       "      <td>2.001507</td>\n",
       "      <td>0.002932</td>\n",
       "      <td>0.000562</td>\n",
       "      <td>0.003781</td>\n",
       "      <td>0.001003</td>\n",
       "      <td>0.000654</td>\n",
       "      <td>0.001745</td>\n",
       "      <td>0.001085</td>\n",
       "      <td>0.002326</td>\n",
       "    </tr>\n",
       "    <tr>\n",
       "      <th>76956</th>\n",
       "      <td>6.5</td>\n",
       "      <td>2012-06-12 07:56:58+00:00</td>\n",
       "      <td>-73.967865</td>\n",
       "      <td>40.755081</td>\n",
       "      <td>-73.979919</td>\n",
       "      <td>40.739037</td>\n",
       "      <td>1</td>\n",
       "      <td>2012</td>\n",
       "      <td>6</td>\n",
       "      <td>12</td>\n",
       "      <td>...</td>\n",
       "      <td>7</td>\n",
       "      <td>2.002503</td>\n",
       "      <td>0.003120</td>\n",
       "      <td>0.001549</td>\n",
       "      <td>0.002715</td>\n",
       "      <td>0.000353</td>\n",
       "      <td>0.000738</td>\n",
       "      <td>0.000638</td>\n",
       "      <td>0.000180</td>\n",
       "      <td>0.001219</td>\n",
       "    </tr>\n",
       "    <tr>\n",
       "      <th>27856</th>\n",
       "      <td>9.3</td>\n",
       "      <td>2012-02-19 22:04:47+00:00</td>\n",
       "      <td>-73.965851</td>\n",
       "      <td>40.800301</td>\n",
       "      <td>-73.961670</td>\n",
       "      <td>40.771187</td>\n",
       "      <td>1</td>\n",
       "      <td>2012</td>\n",
       "      <td>2</td>\n",
       "      <td>19</td>\n",
       "      <td>...</td>\n",
       "      <td>22</td>\n",
       "      <td>2.002974</td>\n",
       "      <td>0.003268</td>\n",
       "      <td>0.001188</td>\n",
       "      <td>0.003155</td>\n",
       "      <td>0.000377</td>\n",
       "      <td>0.000145</td>\n",
       "      <td>0.001228</td>\n",
       "      <td>0.000509</td>\n",
       "      <td>0.001802</td>\n",
       "    </tr>\n",
       "    <tr>\n",
       "      <th>801095</th>\n",
       "      <td>5.7</td>\n",
       "      <td>2009-09-05 11:22:00+00:00</td>\n",
       "      <td>-73.987434</td>\n",
       "      <td>40.770462</td>\n",
       "      <td>-73.968651</td>\n",
       "      <td>40.762646</td>\n",
       "      <td>1</td>\n",
       "      <td>2009</td>\n",
       "      <td>9</td>\n",
       "      <td>5</td>\n",
       "      <td>...</td>\n",
       "      <td>11</td>\n",
       "      <td>2.002575</td>\n",
       "      <td>0.003240</td>\n",
       "      <td>0.001294</td>\n",
       "      <td>0.003007</td>\n",
       "      <td>0.000228</td>\n",
       "      <td>0.000301</td>\n",
       "      <td>0.001053</td>\n",
       "      <td>0.000336</td>\n",
       "      <td>0.001628</td>\n",
       "    </tr>\n",
       "    <tr>\n",
       "      <th>1203850</th>\n",
       "      <td>16.0</td>\n",
       "      <td>2012-11-23 22:16:33+00:00</td>\n",
       "      <td>-73.985481</td>\n",
       "      <td>40.739849</td>\n",
       "      <td>-73.966995</td>\n",
       "      <td>40.791691</td>\n",
       "      <td>3</td>\n",
       "      <td>2012</td>\n",
       "      <td>11</td>\n",
       "      <td>23</td>\n",
       "      <td>...</td>\n",
       "      <td>22</td>\n",
       "      <td>2.002012</td>\n",
       "      <td>0.003568</td>\n",
       "      <td>0.001298</td>\n",
       "      <td>0.003273</td>\n",
       "      <td>0.000621</td>\n",
       "      <td>0.000220</td>\n",
       "      <td>0.001508</td>\n",
       "      <td>0.000795</td>\n",
       "      <td>0.002062</td>\n",
       "    </tr>\n",
       "  </tbody>\n",
       "</table>\n",
       "<p>1296679 rows × 21 columns</p>\n",
       "</div>"
      ],
      "text/plain": [
       "         fare_amount           pickup_datetime  pickup_longitude  \\\n",
       "325026           8.5 2012-12-17 21:49:00+00:00        -73.991852   \n",
       "1193429          5.0 2014-06-06 21:47:00+00:00        -73.972366   \n",
       "1351064          7.3 2010-05-06 14:51:50+00:00        -73.947533   \n",
       "162480          10.0 2013-03-06 22:40:32+00:00        -73.983925   \n",
       "1032173          4.9 2010-10-23 10:33:20+00:00        -73.998161   \n",
       "...              ...                       ...               ...   \n",
       "901112          12.9 2011-02-06 01:52:22+00:00        -73.958893   \n",
       "76956            6.5 2012-06-12 07:56:58+00:00        -73.967865   \n",
       "27856            9.3 2012-02-19 22:04:47+00:00        -73.965851   \n",
       "801095           5.7 2009-09-05 11:22:00+00:00        -73.987434   \n",
       "1203850         16.0 2012-11-23 22:16:33+00:00        -73.985481   \n",
       "\n",
       "         pickup_latitude  dropoff_longitude  dropoff_latitude  \\\n",
       "325026         40.684742         -73.972855         40.677658   \n",
       "1193429        40.745384         -73.967659         40.755035   \n",
       "1351064        40.808662         -73.947540         40.817768   \n",
       "162480         40.773552         -73.964882         40.753300   \n",
       "1032173        40.728954         -74.006630         40.729092   \n",
       "...                  ...                ...               ...   \n",
       "901112         40.764137         -73.913765         40.778343   \n",
       "76956          40.755081         -73.979919         40.739037   \n",
       "27856          40.800301         -73.961670         40.771187   \n",
       "801095         40.770462         -73.968651         40.762646   \n",
       "1203850        40.739849         -73.966995         40.791691   \n",
       "\n",
       "         passenger_count  pickup_datetime_year  pickup_datetime_month  \\\n",
       "325026                 3                  2012                     12   \n",
       "1193429                1                  2014                      6   \n",
       "1351064                2                  2010                      5   \n",
       "162480                 2                  2013                      3   \n",
       "1032173                2                  2010                     10   \n",
       "...                  ...                   ...                    ...   \n",
       "901112                 2                  2011                      2   \n",
       "76956                  1                  2012                      6   \n",
       "27856                  1                  2012                      2   \n",
       "801095                 1                  2009                      9   \n",
       "1203850                3                  2012                     11   \n",
       "\n",
       "         pickup_datetime_day  ...  pickup_datetime_hour  distance  \\\n",
       "325026                    17  ...                    21  2.001153   \n",
       "1193429                    6  ...                    21  2.002120   \n",
       "1351064                    6  ...                    14  2.002874   \n",
       "162480                     6  ...                    22  2.002563   \n",
       "1032173                   23  ...                    10  2.002514   \n",
       "...                      ...  ...                   ...       ...   \n",
       "901112                     6  ...                     1  2.001507   \n",
       "76956                     12  ...                     7  2.002503   \n",
       "27856                     19  ...                    22  2.002974   \n",
       "801095                     5  ...                    11  2.002575   \n",
       "1203850                   23  ...                    22  2.002012   \n",
       "\n",
       "         jfk_drop_dist  lga_drop_dist  ewa_drop_dist  times_square_drop_dist  \\\n",
       "325026        0.002622       0.002138       0.002677                0.001427   \n",
       "1193429       0.003146       0.001307       0.002965                0.000241   \n",
       "1351064       0.003750       0.001266       0.003744                0.001141   \n",
       "162480        0.003099       0.001279       0.002988                0.000285   \n",
       "1032173       0.003346       0.001943       0.002326                0.000593   \n",
       "...                ...            ...            ...                     ...   \n",
       "901112        0.002932       0.000562       0.003781                0.001003   \n",
       "76956         0.003120       0.001549       0.002715                0.000353   \n",
       "27856         0.003268       0.001188       0.003155                0.000377   \n",
       "801095        0.003240       0.001294       0.003007                0.000228   \n",
       "1203850       0.003568       0.001298       0.003273                0.000621   \n",
       "\n",
       "         met_drop_dist  wtc_drop_dist  esb_drop_dist  liberty_drop_dist  \n",
       "325026        0.001780       0.000814       0.001246           0.000969  \n",
       "1193429       0.000429       0.000954       0.000265           0.001534  \n",
       "1351064       0.000701       0.002029       0.001312           0.002584  \n",
       "162480        0.000456       0.000955       0.000288           0.001536  \n",
       "1032173       0.001049       0.000299       0.000436           0.000858  \n",
       "...                ...            ...            ...                ...  \n",
       "901112        0.000654       0.001745       0.001085           0.002326  \n",
       "76956         0.000738       0.000638       0.000180           0.001219  \n",
       "27856         0.000145       0.001228       0.000509           0.001802  \n",
       "801095        0.000301       0.001053       0.000336           0.001628  \n",
       "1203850       0.000220       0.001508       0.000795           0.002062  \n",
       "\n",
       "[1296679 rows x 21 columns]"
      ]
     },
     "execution_count": 71,
     "metadata": {},
     "output_type": "execute_result"
    }
   ],
   "source": [
    "train"
   ]
  },
  {
   "cell_type": "code",
   "execution_count": 72,
   "id": "cf079b39",
   "metadata": {
    "execution": {
     "iopub.execute_input": "2024-04-05T22:28:16.413197Z",
     "iopub.status.busy": "2024-04-05T22:28:16.412071Z",
     "iopub.status.idle": "2024-04-05T22:28:17.850177Z",
     "shell.execute_reply": "2024-04-05T22:28:17.848553Z"
    },
    "papermill": {
     "duration": 1.522402,
     "end_time": "2024-04-05T22:28:17.853296",
     "exception": false,
     "start_time": "2024-04-05T22:28:16.330894",
     "status": "completed"
    },
    "tags": []
   },
   "outputs": [
    {
     "data": {
      "text/html": [
       "<div>\n",
       "<style scoped>\n",
       "    .dataframe tbody tr th:only-of-type {\n",
       "        vertical-align: middle;\n",
       "    }\n",
       "\n",
       "    .dataframe tbody tr th {\n",
       "        vertical-align: top;\n",
       "    }\n",
       "\n",
       "    .dataframe thead th {\n",
       "        text-align: right;\n",
       "    }\n",
       "</style>\n",
       "<table border=\"1\" class=\"dataframe\">\n",
       "  <thead>\n",
       "    <tr style=\"text-align: right;\">\n",
       "      <th></th>\n",
       "      <th>count</th>\n",
       "      <th>mean</th>\n",
       "      <th>std</th>\n",
       "      <th>min</th>\n",
       "      <th>25%</th>\n",
       "      <th>50%</th>\n",
       "      <th>75%</th>\n",
       "      <th>max</th>\n",
       "    </tr>\n",
       "  </thead>\n",
       "  <tbody>\n",
       "    <tr>\n",
       "      <th>fare_amount</th>\n",
       "      <td>1296679.0</td>\n",
       "      <td>11.339486</td>\n",
       "      <td>9.694160</td>\n",
       "      <td>1.000000e+00</td>\n",
       "      <td>6.000000</td>\n",
       "      <td>8.500000</td>\n",
       "      <td>12.500000</td>\n",
       "      <td>499.000000</td>\n",
       "    </tr>\n",
       "    <tr>\n",
       "      <th>pickup_longitude</th>\n",
       "      <td>1296679.0</td>\n",
       "      <td>-73.975113</td>\n",
       "      <td>0.039111</td>\n",
       "      <td>-7.497809e+01</td>\n",
       "      <td>-73.992249</td>\n",
       "      <td>-73.982094</td>\n",
       "      <td>-73.968338</td>\n",
       "      <td>-72.471581</td>\n",
       "    </tr>\n",
       "    <tr>\n",
       "      <th>pickup_latitude</th>\n",
       "      <td>1296679.0</td>\n",
       "      <td>40.751026</td>\n",
       "      <td>0.029987</td>\n",
       "      <td>4.006390e+01</td>\n",
       "      <td>40.736553</td>\n",
       "      <td>40.753365</td>\n",
       "      <td>40.767494</td>\n",
       "      <td>41.787712</td>\n",
       "    </tr>\n",
       "    <tr>\n",
       "      <th>dropoff_longitude</th>\n",
       "      <td>1296679.0</td>\n",
       "      <td>-73.974297</td>\n",
       "      <td>0.038416</td>\n",
       "      <td>-7.484308e+01</td>\n",
       "      <td>-73.991608</td>\n",
       "      <td>-73.980629</td>\n",
       "      <td>-73.965347</td>\n",
       "      <td>-72.506775</td>\n",
       "    </tr>\n",
       "    <tr>\n",
       "      <th>dropoff_latitude</th>\n",
       "      <td>1296679.0</td>\n",
       "      <td>40.751324</td>\n",
       "      <td>0.033202</td>\n",
       "      <td>4.005421e+01</td>\n",
       "      <td>40.735493</td>\n",
       "      <td>40.753815</td>\n",
       "      <td>40.768341</td>\n",
       "      <td>41.806301</td>\n",
       "    </tr>\n",
       "    <tr>\n",
       "      <th>passenger_count</th>\n",
       "      <td>1296679.0</td>\n",
       "      <td>1.690998</td>\n",
       "      <td>1.306651</td>\n",
       "      <td>1.000000e+00</td>\n",
       "      <td>1.000000</td>\n",
       "      <td>1.000000</td>\n",
       "      <td>2.000000</td>\n",
       "      <td>6.000000</td>\n",
       "    </tr>\n",
       "    <tr>\n",
       "      <th>pickup_datetime_year</th>\n",
       "      <td>1296679.0</td>\n",
       "      <td>2011.736164</td>\n",
       "      <td>1.865233</td>\n",
       "      <td>2.009000e+03</td>\n",
       "      <td>2010.000000</td>\n",
       "      <td>2012.000000</td>\n",
       "      <td>2013.000000</td>\n",
       "      <td>2015.000000</td>\n",
       "    </tr>\n",
       "    <tr>\n",
       "      <th>pickup_datetime_month</th>\n",
       "      <td>1296679.0</td>\n",
       "      <td>6.270983</td>\n",
       "      <td>3.435958</td>\n",
       "      <td>1.000000e+00</td>\n",
       "      <td>3.000000</td>\n",
       "      <td>6.000000</td>\n",
       "      <td>9.000000</td>\n",
       "      <td>12.000000</td>\n",
       "    </tr>\n",
       "    <tr>\n",
       "      <th>pickup_datetime_day</th>\n",
       "      <td>1296679.0</td>\n",
       "      <td>15.723326</td>\n",
       "      <td>8.687338</td>\n",
       "      <td>1.000000e+00</td>\n",
       "      <td>8.000000</td>\n",
       "      <td>16.000000</td>\n",
       "      <td>23.000000</td>\n",
       "      <td>31.000000</td>\n",
       "    </tr>\n",
       "    <tr>\n",
       "      <th>pickup_datetime_weekday</th>\n",
       "      <td>1296679.0</td>\n",
       "      <td>3.039458</td>\n",
       "      <td>1.950245</td>\n",
       "      <td>0.000000e+00</td>\n",
       "      <td>1.000000</td>\n",
       "      <td>3.000000</td>\n",
       "      <td>5.000000</td>\n",
       "      <td>6.000000</td>\n",
       "    </tr>\n",
       "    <tr>\n",
       "      <th>pickup_datetime_hour</th>\n",
       "      <td>1296679.0</td>\n",
       "      <td>13.507187</td>\n",
       "      <td>6.519302</td>\n",
       "      <td>0.000000e+00</td>\n",
       "      <td>9.000000</td>\n",
       "      <td>14.000000</td>\n",
       "      <td>19.000000</td>\n",
       "      <td>23.000000</td>\n",
       "    </tr>\n",
       "    <tr>\n",
       "      <th>distance</th>\n",
       "      <td>1296679.0</td>\n",
       "      <td>2.002335</td>\n",
       "      <td>0.000778</td>\n",
       "      <td>1.971880e+00</td>\n",
       "      <td>2.002144</td>\n",
       "      <td>2.002456</td>\n",
       "      <td>2.002726</td>\n",
       "      <td>2.029906</td>\n",
       "    </tr>\n",
       "    <tr>\n",
       "      <th>jfk_drop_dist</th>\n",
       "      <td>1296679.0</td>\n",
       "      <td>0.003234</td>\n",
       "      <td>0.000488</td>\n",
       "      <td>1.002841e-05</td>\n",
       "      <td>0.003173</td>\n",
       "      <td>0.003275</td>\n",
       "      <td>0.003389</td>\n",
       "      <td>0.022204</td>\n",
       "    </tr>\n",
       "    <tr>\n",
       "      <th>lga_drop_dist</th>\n",
       "      <td>1296679.0</td>\n",
       "      <td>0.001532</td>\n",
       "      <td>0.000477</td>\n",
       "      <td>1.968340e-06</td>\n",
       "      <td>0.001331</td>\n",
       "      <td>0.001509</td>\n",
       "      <td>0.001729</td>\n",
       "      <td>0.020874</td>\n",
       "    </tr>\n",
       "    <tr>\n",
       "      <th>ewa_drop_dist</th>\n",
       "      <td>1296679.0</td>\n",
       "      <td>0.002902</td>\n",
       "      <td>0.000591</td>\n",
       "      <td>2.031457e-05</td>\n",
       "      <td>0.002588</td>\n",
       "      <td>0.002820</td>\n",
       "      <td>0.003108</td>\n",
       "      <td>0.024414</td>\n",
       "    </tr>\n",
       "    <tr>\n",
       "      <th>times_square_drop_dist</th>\n",
       "      <td>1296679.0</td>\n",
       "      <td>0.000532</td>\n",
       "      <td>0.000590</td>\n",
       "      <td>3.466478e-07</td>\n",
       "      <td>0.000202</td>\n",
       "      <td>0.000396</td>\n",
       "      <td>0.000636</td>\n",
       "      <td>0.021929</td>\n",
       "    </tr>\n",
       "    <tr>\n",
       "      <th>met_drop_dist</th>\n",
       "      <td>1296679.0</td>\n",
       "      <td>0.000706</td>\n",
       "      <td>0.000597</td>\n",
       "      <td>3.588460e-06</td>\n",
       "      <td>0.000336</td>\n",
       "      <td>0.000584</td>\n",
       "      <td>0.000927</td>\n",
       "      <td>0.021469</td>\n",
       "    </tr>\n",
       "    <tr>\n",
       "      <th>wtc_drop_dist</th>\n",
       "      <td>1296679.0</td>\n",
       "      <td>0.000958</td>\n",
       "      <td>0.000630</td>\n",
       "      <td>2.614649e-06</td>\n",
       "      <td>0.000584</td>\n",
       "      <td>0.000882</td>\n",
       "      <td>0.001221</td>\n",
       "      <td>0.022802</td>\n",
       "    </tr>\n",
       "    <tr>\n",
       "      <th>esb_drop_dist</th>\n",
       "      <td>1296679.0</td>\n",
       "      <td>0.000526</td>\n",
       "      <td>0.000585</td>\n",
       "      <td>6.429035e-07</td>\n",
       "      <td>0.000212</td>\n",
       "      <td>0.000368</td>\n",
       "      <td>0.000660</td>\n",
       "      <td>0.022082</td>\n",
       "    </tr>\n",
       "    <tr>\n",
       "      <th>liberty_drop_dist</th>\n",
       "      <td>1296679.0</td>\n",
       "      <td>0.001498</td>\n",
       "      <td>0.000624</td>\n",
       "      <td>4.832986e-05</td>\n",
       "      <td>0.001124</td>\n",
       "      <td>0.001432</td>\n",
       "      <td>0.001774</td>\n",
       "      <td>0.023375</td>\n",
       "    </tr>\n",
       "  </tbody>\n",
       "</table>\n",
       "</div>"
      ],
      "text/plain": [
       "                             count         mean       std           min  \\\n",
       "fare_amount              1296679.0    11.339486  9.694160  1.000000e+00   \n",
       "pickup_longitude         1296679.0   -73.975113  0.039111 -7.497809e+01   \n",
       "pickup_latitude          1296679.0    40.751026  0.029987  4.006390e+01   \n",
       "dropoff_longitude        1296679.0   -73.974297  0.038416 -7.484308e+01   \n",
       "dropoff_latitude         1296679.0    40.751324  0.033202  4.005421e+01   \n",
       "passenger_count          1296679.0     1.690998  1.306651  1.000000e+00   \n",
       "pickup_datetime_year     1296679.0  2011.736164  1.865233  2.009000e+03   \n",
       "pickup_datetime_month    1296679.0     6.270983  3.435958  1.000000e+00   \n",
       "pickup_datetime_day      1296679.0    15.723326  8.687338  1.000000e+00   \n",
       "pickup_datetime_weekday  1296679.0     3.039458  1.950245  0.000000e+00   \n",
       "pickup_datetime_hour     1296679.0    13.507187  6.519302  0.000000e+00   \n",
       "distance                 1296679.0     2.002335  0.000778  1.971880e+00   \n",
       "jfk_drop_dist            1296679.0     0.003234  0.000488  1.002841e-05   \n",
       "lga_drop_dist            1296679.0     0.001532  0.000477  1.968340e-06   \n",
       "ewa_drop_dist            1296679.0     0.002902  0.000591  2.031457e-05   \n",
       "times_square_drop_dist   1296679.0     0.000532  0.000590  3.466478e-07   \n",
       "met_drop_dist            1296679.0     0.000706  0.000597  3.588460e-06   \n",
       "wtc_drop_dist            1296679.0     0.000958  0.000630  2.614649e-06   \n",
       "esb_drop_dist            1296679.0     0.000526  0.000585  6.429035e-07   \n",
       "liberty_drop_dist        1296679.0     0.001498  0.000624  4.832986e-05   \n",
       "\n",
       "                                 25%          50%          75%          max  \n",
       "fare_amount                 6.000000     8.500000    12.500000   499.000000  \n",
       "pickup_longitude          -73.992249   -73.982094   -73.968338   -72.471581  \n",
       "pickup_latitude            40.736553    40.753365    40.767494    41.787712  \n",
       "dropoff_longitude         -73.991608   -73.980629   -73.965347   -72.506775  \n",
       "dropoff_latitude           40.735493    40.753815    40.768341    41.806301  \n",
       "passenger_count             1.000000     1.000000     2.000000     6.000000  \n",
       "pickup_datetime_year     2010.000000  2012.000000  2013.000000  2015.000000  \n",
       "pickup_datetime_month       3.000000     6.000000     9.000000    12.000000  \n",
       "pickup_datetime_day         8.000000    16.000000    23.000000    31.000000  \n",
       "pickup_datetime_weekday     1.000000     3.000000     5.000000     6.000000  \n",
       "pickup_datetime_hour        9.000000    14.000000    19.000000    23.000000  \n",
       "distance                    2.002144     2.002456     2.002726     2.029906  \n",
       "jfk_drop_dist               0.003173     0.003275     0.003389     0.022204  \n",
       "lga_drop_dist               0.001331     0.001509     0.001729     0.020874  \n",
       "ewa_drop_dist               0.002588     0.002820     0.003108     0.024414  \n",
       "times_square_drop_dist      0.000202     0.000396     0.000636     0.021929  \n",
       "met_drop_dist               0.000336     0.000584     0.000927     0.021469  \n",
       "wtc_drop_dist               0.000584     0.000882     0.001221     0.022802  \n",
       "esb_drop_dist               0.000212     0.000368     0.000660     0.022082  \n",
       "liberty_drop_dist           0.001124     0.001432     0.001774     0.023375  "
      ]
     },
     "execution_count": 72,
     "metadata": {},
     "output_type": "execute_result"
    }
   ],
   "source": [
    "train.describe().T"
   ]
  },
  {
   "cell_type": "code",
   "execution_count": 73,
   "id": "1e88bdf0",
   "metadata": {
    "execution": {
     "iopub.execute_input": "2024-04-05T22:28:18.019810Z",
     "iopub.status.busy": "2024-04-05T22:28:18.019201Z",
     "iopub.status.idle": "2024-04-05T22:28:18.138427Z",
     "shell.execute_reply": "2024-04-05T22:28:18.137220Z"
    },
    "papermill": {
     "duration": 0.205853,
     "end_time": "2024-04-05T22:28:18.142095",
     "exception": false,
     "start_time": "2024-04-05T22:28:17.936242",
     "status": "completed"
    },
    "tags": []
   },
   "outputs": [
    {
     "data": {
      "text/html": [
       "<div>\n",
       "<style scoped>\n",
       "    .dataframe tbody tr th:only-of-type {\n",
       "        vertical-align: middle;\n",
       "    }\n",
       "\n",
       "    .dataframe tbody tr th {\n",
       "        vertical-align: top;\n",
       "    }\n",
       "\n",
       "    .dataframe thead th {\n",
       "        text-align: right;\n",
       "    }\n",
       "</style>\n",
       "<table border=\"1\" class=\"dataframe\">\n",
       "  <thead>\n",
       "    <tr style=\"text-align: right;\">\n",
       "      <th></th>\n",
       "      <th>count</th>\n",
       "      <th>mean</th>\n",
       "      <th>std</th>\n",
       "      <th>min</th>\n",
       "      <th>25%</th>\n",
       "      <th>50%</th>\n",
       "      <th>75%</th>\n",
       "      <th>max</th>\n",
       "    </tr>\n",
       "  </thead>\n",
       "  <tbody>\n",
       "    <tr>\n",
       "      <th>pickup_longitude</th>\n",
       "      <td>9914.0</td>\n",
       "      <td>-73.974716</td>\n",
       "      <td>0.042774</td>\n",
       "      <td>-74.252190</td>\n",
       "      <td>-73.992500</td>\n",
       "      <td>-73.982327</td>\n",
       "      <td>-73.968012</td>\n",
       "      <td>-72.986534</td>\n",
       "    </tr>\n",
       "    <tr>\n",
       "      <th>pickup_latitude</th>\n",
       "      <td>9914.0</td>\n",
       "      <td>40.751041</td>\n",
       "      <td>0.033541</td>\n",
       "      <td>40.573143</td>\n",
       "      <td>40.736125</td>\n",
       "      <td>40.753052</td>\n",
       "      <td>40.767113</td>\n",
       "      <td>41.709557</td>\n",
       "    </tr>\n",
       "    <tr>\n",
       "      <th>dropoff_longitude</th>\n",
       "      <td>9914.0</td>\n",
       "      <td>-73.973656</td>\n",
       "      <td>0.039072</td>\n",
       "      <td>-74.263245</td>\n",
       "      <td>-73.991249</td>\n",
       "      <td>-73.980015</td>\n",
       "      <td>-73.964062</td>\n",
       "      <td>-72.990967</td>\n",
       "    </tr>\n",
       "    <tr>\n",
       "      <th>dropoff_latitude</th>\n",
       "      <td>9914.0</td>\n",
       "      <td>40.751740</td>\n",
       "      <td>0.035435</td>\n",
       "      <td>40.568974</td>\n",
       "      <td>40.735253</td>\n",
       "      <td>40.754065</td>\n",
       "      <td>40.768757</td>\n",
       "      <td>41.696682</td>\n",
       "    </tr>\n",
       "    <tr>\n",
       "      <th>passenger_count</th>\n",
       "      <td>9914.0</td>\n",
       "      <td>1.671273</td>\n",
       "      <td>1.278747</td>\n",
       "      <td>1.000000</td>\n",
       "      <td>1.000000</td>\n",
       "      <td>1.000000</td>\n",
       "      <td>2.000000</td>\n",
       "      <td>6.000000</td>\n",
       "    </tr>\n",
       "    <tr>\n",
       "      <th>pickup_datetime_year</th>\n",
       "      <td>9914.0</td>\n",
       "      <td>2011.815816</td>\n",
       "      <td>1.803347</td>\n",
       "      <td>2009.000000</td>\n",
       "      <td>2010.000000</td>\n",
       "      <td>2012.000000</td>\n",
       "      <td>2014.000000</td>\n",
       "      <td>2015.000000</td>\n",
       "    </tr>\n",
       "    <tr>\n",
       "      <th>pickup_datetime_month</th>\n",
       "      <td>9914.0</td>\n",
       "      <td>6.857979</td>\n",
       "      <td>3.353272</td>\n",
       "      <td>1.000000</td>\n",
       "      <td>4.000000</td>\n",
       "      <td>7.000000</td>\n",
       "      <td>10.000000</td>\n",
       "      <td>12.000000</td>\n",
       "    </tr>\n",
       "    <tr>\n",
       "      <th>pickup_datetime_day</th>\n",
       "      <td>9914.0</td>\n",
       "      <td>16.194170</td>\n",
       "      <td>8.838482</td>\n",
       "      <td>1.000000</td>\n",
       "      <td>9.000000</td>\n",
       "      <td>16.000000</td>\n",
       "      <td>25.000000</td>\n",
       "      <td>31.000000</td>\n",
       "    </tr>\n",
       "    <tr>\n",
       "      <th>pickup_datetime_weekday</th>\n",
       "      <td>9914.0</td>\n",
       "      <td>2.852834</td>\n",
       "      <td>1.994451</td>\n",
       "      <td>0.000000</td>\n",
       "      <td>1.000000</td>\n",
       "      <td>3.000000</td>\n",
       "      <td>5.000000</td>\n",
       "      <td>6.000000</td>\n",
       "    </tr>\n",
       "    <tr>\n",
       "      <th>pickup_datetime_hour</th>\n",
       "      <td>9914.0</td>\n",
       "      <td>13.467420</td>\n",
       "      <td>6.868584</td>\n",
       "      <td>0.000000</td>\n",
       "      <td>8.000000</td>\n",
       "      <td>15.000000</td>\n",
       "      <td>19.000000</td>\n",
       "      <td>23.000000</td>\n",
       "    </tr>\n",
       "    <tr>\n",
       "      <th>distance</th>\n",
       "      <td>9914.0</td>\n",
       "      <td>2.002324</td>\n",
       "      <td>0.000767</td>\n",
       "      <td>1.995723</td>\n",
       "      <td>2.002120</td>\n",
       "      <td>2.002442</td>\n",
       "      <td>2.002721</td>\n",
       "      <td>2.013310</td>\n",
       "    </tr>\n",
       "    <tr>\n",
       "      <th>jfk_drop_dist</th>\n",
       "      <td>9914.0</td>\n",
       "      <td>0.003235</td>\n",
       "      <td>0.000517</td>\n",
       "      <td>0.000022</td>\n",
       "      <td>0.003172</td>\n",
       "      <td>0.003276</td>\n",
       "      <td>0.003391</td>\n",
       "      <td>0.021084</td>\n",
       "    </tr>\n",
       "    <tr>\n",
       "      <th>lga_drop_dist</th>\n",
       "      <td>9914.0</td>\n",
       "      <td>0.001530</td>\n",
       "      <td>0.000511</td>\n",
       "      <td>0.000016</td>\n",
       "      <td>0.001328</td>\n",
       "      <td>0.001502</td>\n",
       "      <td>0.001725</td>\n",
       "      <td>0.019834</td>\n",
       "    </tr>\n",
       "    <tr>\n",
       "      <th>ewa_drop_dist</th>\n",
       "      <td>9914.0</td>\n",
       "      <td>0.002913</td>\n",
       "      <td>0.000634</td>\n",
       "      <td>0.000045</td>\n",
       "      <td>0.002595</td>\n",
       "      <td>0.002831</td>\n",
       "      <td>0.003122</td>\n",
       "      <td>0.023465</td>\n",
       "    </tr>\n",
       "    <tr>\n",
       "      <th>times_square_drop_dist</th>\n",
       "      <td>9914.0</td>\n",
       "      <td>0.000541</td>\n",
       "      <td>0.000628</td>\n",
       "      <td>0.000003</td>\n",
       "      <td>0.000201</td>\n",
       "      <td>0.000404</td>\n",
       "      <td>0.000648</td>\n",
       "      <td>0.020933</td>\n",
       "    </tr>\n",
       "    <tr>\n",
       "      <th>met_drop_dist</th>\n",
       "      <td>9914.0</td>\n",
       "      <td>0.000709</td>\n",
       "      <td>0.000631</td>\n",
       "      <td>0.000013</td>\n",
       "      <td>0.000334</td>\n",
       "      <td>0.000581</td>\n",
       "      <td>0.000930</td>\n",
       "      <td>0.020472</td>\n",
       "    </tr>\n",
       "    <tr>\n",
       "      <th>wtc_drop_dist</th>\n",
       "      <td>9914.0</td>\n",
       "      <td>0.000969</td>\n",
       "      <td>0.000670</td>\n",
       "      <td>0.000016</td>\n",
       "      <td>0.000597</td>\n",
       "      <td>0.000892</td>\n",
       "      <td>0.001240</td>\n",
       "      <td>0.021798</td>\n",
       "    </tr>\n",
       "    <tr>\n",
       "      <th>esb_drop_dist</th>\n",
       "      <td>9914.0</td>\n",
       "      <td>0.000538</td>\n",
       "      <td>0.000623</td>\n",
       "      <td>0.000003</td>\n",
       "      <td>0.000214</td>\n",
       "      <td>0.000380</td>\n",
       "      <td>0.000674</td>\n",
       "      <td>0.021082</td>\n",
       "    </tr>\n",
       "    <tr>\n",
       "      <th>liberty_drop_dist</th>\n",
       "      <td>9914.0</td>\n",
       "      <td>0.001508</td>\n",
       "      <td>0.000667</td>\n",
       "      <td>0.000408</td>\n",
       "      <td>0.001132</td>\n",
       "      <td>0.001438</td>\n",
       "      <td>0.001788</td>\n",
       "      <td>0.022375</td>\n",
       "    </tr>\n",
       "  </tbody>\n",
       "</table>\n",
       "</div>"
      ],
      "text/plain": [
       "                          count         mean       std          min  \\\n",
       "pickup_longitude         9914.0   -73.974716  0.042774   -74.252190   \n",
       "pickup_latitude          9914.0    40.751041  0.033541    40.573143   \n",
       "dropoff_longitude        9914.0   -73.973656  0.039072   -74.263245   \n",
       "dropoff_latitude         9914.0    40.751740  0.035435    40.568974   \n",
       "passenger_count          9914.0     1.671273  1.278747     1.000000   \n",
       "pickup_datetime_year     9914.0  2011.815816  1.803347  2009.000000   \n",
       "pickup_datetime_month    9914.0     6.857979  3.353272     1.000000   \n",
       "pickup_datetime_day      9914.0    16.194170  8.838482     1.000000   \n",
       "pickup_datetime_weekday  9914.0     2.852834  1.994451     0.000000   \n",
       "pickup_datetime_hour     9914.0    13.467420  6.868584     0.000000   \n",
       "distance                 9914.0     2.002324  0.000767     1.995723   \n",
       "jfk_drop_dist            9914.0     0.003235  0.000517     0.000022   \n",
       "lga_drop_dist            9914.0     0.001530  0.000511     0.000016   \n",
       "ewa_drop_dist            9914.0     0.002913  0.000634     0.000045   \n",
       "times_square_drop_dist   9914.0     0.000541  0.000628     0.000003   \n",
       "met_drop_dist            9914.0     0.000709  0.000631     0.000013   \n",
       "wtc_drop_dist            9914.0     0.000969  0.000670     0.000016   \n",
       "esb_drop_dist            9914.0     0.000538  0.000623     0.000003   \n",
       "liberty_drop_dist        9914.0     0.001508  0.000667     0.000408   \n",
       "\n",
       "                                 25%          50%          75%          max  \n",
       "pickup_longitude          -73.992500   -73.982327   -73.968012   -72.986534  \n",
       "pickup_latitude            40.736125    40.753052    40.767113    41.709557  \n",
       "dropoff_longitude         -73.991249   -73.980015   -73.964062   -72.990967  \n",
       "dropoff_latitude           40.735253    40.754065    40.768757    41.696682  \n",
       "passenger_count             1.000000     1.000000     2.000000     6.000000  \n",
       "pickup_datetime_year     2010.000000  2012.000000  2014.000000  2015.000000  \n",
       "pickup_datetime_month       4.000000     7.000000    10.000000    12.000000  \n",
       "pickup_datetime_day         9.000000    16.000000    25.000000    31.000000  \n",
       "pickup_datetime_weekday     1.000000     3.000000     5.000000     6.000000  \n",
       "pickup_datetime_hour        8.000000    15.000000    19.000000    23.000000  \n",
       "distance                    2.002120     2.002442     2.002721     2.013310  \n",
       "jfk_drop_dist               0.003172     0.003276     0.003391     0.021084  \n",
       "lga_drop_dist               0.001328     0.001502     0.001725     0.019834  \n",
       "ewa_drop_dist               0.002595     0.002831     0.003122     0.023465  \n",
       "times_square_drop_dist      0.000201     0.000404     0.000648     0.020933  \n",
       "met_drop_dist               0.000334     0.000581     0.000930     0.020472  \n",
       "wtc_drop_dist               0.000597     0.000892     0.001240     0.021798  \n",
       "esb_drop_dist               0.000214     0.000380     0.000674     0.021082  \n",
       "liberty_drop_dist           0.001132     0.001438     0.001788     0.022375  "
      ]
     },
     "execution_count": 73,
     "metadata": {},
     "output_type": "execute_result"
    }
   ],
   "source": [
    "test_data.describe().T"
   ]
  },
  {
   "cell_type": "markdown",
   "id": "d70a1379",
   "metadata": {
    "papermill": {
     "duration": 0.047503,
     "end_time": "2024-04-05T22:28:18.269261",
     "exception": false,
     "start_time": "2024-04-05T22:28:18.221758",
     "status": "completed"
    },
    "tags": []
   },
   "source": [
    "### Exploring the relaion between the newly created data"
   ]
  },
  {
   "cell_type": "code",
   "execution_count": 74,
   "id": "8b04c0ec",
   "metadata": {
    "execution": {
     "iopub.execute_input": "2024-04-05T22:28:18.368058Z",
     "iopub.status.busy": "2024-04-05T22:28:18.367241Z",
     "iopub.status.idle": "2024-04-05T22:28:22.229084Z",
     "shell.execute_reply": "2024-04-05T22:28:22.227629Z"
    },
    "papermill": {
     "duration": 3.918193,
     "end_time": "2024-04-05T22:28:22.236176",
     "exception": false,
     "start_time": "2024-04-05T22:28:18.317983",
     "status": "completed"
    },
    "tags": []
   },
   "outputs": [
    {
     "data": {
      "text/plain": [
       "<Axes: >"
      ]
     },
     "execution_count": 74,
     "metadata": {},
     "output_type": "execute_result"
    },
    {
     "data": {
      "image/png": "[encoded data removed]",
      "text/plain": [
       "<Figure size 1300x800 with 2 Axes>"
      ]
     },
     "metadata": {},
     "output_type": "display_data"
    }
   ],
   "source": [
    "plt.figure(figsize=(13,8))\n",
    "sns.heatmap(train.corr(), cmap='RdBu', center = 0, annot = True, fmt = '.2f')"
   ]
  },
  {
   "cell_type": "markdown",
   "id": "55302040",
   "metadata": {
    "papermill": {
     "duration": 0.053527,
     "end_time": "2024-04-05T22:28:22.344203",
     "exception": false,
     "start_time": "2024-04-05T22:28:22.290676",
     "status": "completed"
    },
    "tags": []
   },
   "source": [
    "Many data like Months, Weekdays can be converted to Categorical Columns for better model, but as of now"
   ]
  },
  {
   "cell_type": "markdown",
   "id": "3d4d61e4",
   "metadata": {
    "papermill": {
     "duration": 0.053684,
     "end_time": "2024-04-05T22:28:22.451434",
     "exception": false,
     "start_time": "2024-04-05T22:28:22.397750",
     "status": "completed"
    },
    "tags": []
   },
   "source": [
    "### Scaling and One Hot encoding\n",
    "\n",
    "**Encoding**<br>\n",
    "skipping this for now as there are no columns treated as Categoricals"
   ]
  },
  {
   "cell_type": "code",
   "execution_count": 75,
   "id": "28e71131",
   "metadata": {
    "execution": {
     "iopub.execute_input": "2024-04-05T22:28:22.560412Z",
     "iopub.status.busy": "2024-04-05T22:28:22.558982Z",
     "iopub.status.idle": "2024-04-05T22:28:22.564756Z",
     "shell.execute_reply": "2024-04-05T22:28:22.563748Z"
    },
    "papermill": {
     "duration": 0.062896,
     "end_time": "2024-04-05T22:28:22.567505",
     "exception": false,
     "start_time": "2024-04-05T22:28:22.504609",
     "status": "completed"
    },
    "tags": []
   },
   "outputs": [],
   "source": [
    "from sklearn.preprocessing import StandardScaler"
   ]
  },
  {
   "cell_type": "markdown",
   "id": "b8e78c33",
   "metadata": {
    "papermill": {
     "duration": 0.053133,
     "end_time": "2024-04-05T22:28:22.673127",
     "exception": false,
     "start_time": "2024-04-05T22:28:22.619994",
     "status": "completed"
    },
    "tags": []
   },
   "source": [
    "Only considering the recently created columns for the predection"
   ]
  },
  {
   "cell_type": "code",
   "execution_count": 76,
   "id": "c4103bfc",
   "metadata": {
    "execution": {
     "iopub.execute_input": "2024-04-05T22:28:22.783373Z",
     "iopub.status.busy": "2024-04-05T22:28:22.782330Z",
     "iopub.status.idle": "2024-04-05T22:28:22.789647Z",
     "shell.execute_reply": "2024-04-05T22:28:22.788172Z"
    },
    "papermill": {
     "duration": 0.06687,
     "end_time": "2024-04-05T22:28:22.793557",
     "exception": false,
     "start_time": "2024-04-05T22:28:22.726687",
     "status": "completed"
    },
    "tags": []
   },
   "outputs": [],
   "source": [
    "input_col = ['passenger_count', 'pickup_datetime_year', 'pickup_datetime_month', 'pickup_datetime_day', 'pickup_datetime_weekday', 'pickup_datetime_hour', 'distance', 'jfk_drop_dist', 'lga_drop_dist', 'ewa_drop_dist', 'times_square_drop_dist', 'met_drop_dist', 'wtc_drop_dist', 'esb_drop_dist', 'liberty_drop_dist']\n",
    "tar_col = 'fare_amount'"
   ]
  },
  {
   "cell_type": "code",
   "execution_count": 77,
   "id": "7fd9c591",
   "metadata": {
    "execution": {
     "iopub.execute_input": "2024-04-05T22:28:22.906086Z",
     "iopub.status.busy": "2024-04-05T22:28:22.904918Z",
     "iopub.status.idle": "2024-04-05T22:28:22.910300Z",
     "shell.execute_reply": "2024-04-05T22:28:22.909263Z"
    },
    "papermill": {
     "duration": 0.062883,
     "end_time": "2024-04-05T22:28:22.912931",
     "exception": false,
     "start_time": "2024-04-05T22:28:22.850048",
     "status": "completed"
    },
    "tags": []
   },
   "outputs": [],
   "source": [
    "# scaler = StandardScaler().fit(train[input_col])"
   ]
  },
  {
   "cell_type": "code",
   "execution_count": 78,
   "id": "e5b184f7",
   "metadata": {
    "execution": {
     "iopub.execute_input": "2024-04-05T22:28:23.033051Z",
     "iopub.status.busy": "2024-04-05T22:28:23.032355Z",
     "iopub.status.idle": "2024-04-05T22:28:23.038744Z",
     "shell.execute_reply": "2024-04-05T22:28:23.037043Z"
    },
    "papermill": {
     "duration": 0.077376,
     "end_time": "2024-04-05T22:28:23.042602",
     "exception": false,
     "start_time": "2024-04-05T22:28:22.965226",
     "status": "completed"
    },
    "tags": []
   },
   "outputs": [],
   "source": [
    "# train[input_col] = scaler.transform(train[input_col])\n",
    "# val[input_col] = scaler.transform(val[input_col])\n",
    "# test_data[input_col] = scaler.transform(test_data[input_col])"
   ]
  },
  {
   "cell_type": "markdown",
   "id": "97b04860",
   "metadata": {
    "papermill": {
     "duration": 0.052425,
     "end_time": "2024-04-05T22:28:23.156300",
     "exception": false,
     "start_time": "2024-04-05T22:28:23.103875",
     "status": "completed"
    },
    "tags": []
   },
   "source": [
    "## Train and evaluate the models\n",
    "\n",
    "- Linear regression\n",
    "- Random Forest\n",
    "- Gradient Boost\n",
    "- Ridge Regression"
   ]
  },
  {
   "cell_type": "code",
   "execution_count": 79,
   "id": "58d37e02",
   "metadata": {
    "execution": {
     "iopub.execute_input": "2024-04-05T22:28:23.265709Z",
     "iopub.status.busy": "2024-04-05T22:28:23.264774Z",
     "iopub.status.idle": "2024-04-05T22:28:23.272298Z",
     "shell.execute_reply": "2024-04-05T22:28:23.271194Z"
    },
    "papermill": {
     "duration": 0.064564,
     "end_time": "2024-04-05T22:28:23.274687",
     "exception": false,
     "start_time": "2024-04-05T22:28:23.210123",
     "status": "completed"
    },
    "tags": []
   },
   "outputs": [
    {
     "data": {
      "text/plain": [
       "Index(['fare_amount', 'pickup_datetime', 'pickup_longitude', 'pickup_latitude',\n",
       "       'dropoff_longitude', 'dropoff_latitude', 'passenger_count',\n",
       "       'pickup_datetime_year', 'pickup_datetime_month', 'pickup_datetime_day',\n",
       "       'pickup_datetime_weekday', 'pickup_datetime_hour', 'distance',\n",
       "       'jfk_drop_dist', 'lga_drop_dist', 'ewa_drop_dist',\n",
       "       'times_square_drop_dist', 'met_drop_dist', 'wtc_drop_dist',\n",
       "       'esb_drop_dist', 'liberty_drop_dist'],\n",
       "      dtype='object')"
      ]
     },
     "execution_count": 79,
     "metadata": {},
     "output_type": "execute_result"
    }
   ],
   "source": [
    "train.columns"
   ]
  },
  {
   "cell_type": "code",
   "execution_count": 80,
   "id": "3f01affa",
   "metadata": {
    "execution": {
     "iopub.execute_input": "2024-04-05T22:28:23.383844Z",
     "iopub.status.busy": "2024-04-05T22:28:23.383293Z",
     "iopub.status.idle": "2024-04-05T22:28:23.509105Z",
     "shell.execute_reply": "2024-04-05T22:28:23.507633Z"
    },
    "papermill": {
     "duration": 0.184224,
     "end_time": "2024-04-05T22:28:23.512589",
     "exception": false,
     "start_time": "2024-04-05T22:28:23.328365",
     "status": "completed"
    },
    "tags": []
   },
   "outputs": [],
   "source": [
    "x_train = train[input_col]\n",
    "y_train = train[tar_col]\n",
    "\n",
    "x_val = val[input_col]\n",
    "y_val = val[tar_col]"
   ]
  },
  {
   "cell_type": "code",
   "execution_count": 81,
   "id": "ec79d991",
   "metadata": {
    "execution": {
     "iopub.execute_input": "2024-04-05T22:28:23.620829Z",
     "iopub.status.busy": "2024-04-05T22:28:23.620297Z",
     "iopub.status.idle": "2024-04-05T22:28:23.626883Z",
     "shell.execute_reply": "2024-04-05T22:28:23.625734Z"
    },
    "papermill": {
     "duration": 0.063829,
     "end_time": "2024-04-05T22:28:23.629414",
     "exception": false,
     "start_time": "2024-04-05T22:28:23.565585",
     "status": "completed"
    },
    "tags": []
   },
   "outputs": [],
   "source": [
    "def evaluate(model):\n",
    "    train_pre = model.predict(x_train)\n",
    "    train_rmse = rmse(train_pre, y_train)\n",
    "    val_pre = model.predict(x_val)\n",
    "    val_rmse = rmse(val_pre, y_val)\n",
    "    \n",
    "    return train_rmse, val_rmse"
   ]
  },
  {
   "cell_type": "code",
   "execution_count": 82,
   "id": "7bad083f",
   "metadata": {
    "execution": {
     "iopub.execute_input": "2024-04-05T22:28:23.739397Z",
     "iopub.status.busy": "2024-04-05T22:28:23.738463Z",
     "iopub.status.idle": "2024-04-05T22:28:25.814176Z",
     "shell.execute_reply": "2024-04-05T22:28:25.812327Z"
    },
    "papermill": {
     "duration": 2.136849,
     "end_time": "2024-04-05T22:28:25.820189",
     "exception": false,
     "start_time": "2024-04-05T22:28:23.683340",
     "status": "completed"
    },
    "tags": []
   },
   "outputs": [
    {
     "data": {
      "text/plain": [
       "(7.765262376004273, 7.822492129730574)"
      ]
     },
     "execution_count": 82,
     "metadata": {},
     "output_type": "execute_result"
    }
   ],
   "source": [
    "# .Using Linear Regression\n",
    "model = LinearRegression().fit(x_train, y_train)\n",
    "evaluate(model)"
   ]
  },
  {
   "cell_type": "code",
   "execution_count": 83,
   "id": "5bb88ba9",
   "metadata": {
    "execution": {
     "iopub.execute_input": "2024-04-05T22:28:25.982205Z",
     "iopub.status.busy": "2024-04-05T22:28:25.981669Z",
     "iopub.status.idle": "2024-04-05T22:28:29.191185Z",
     "shell.execute_reply": "2024-04-05T22:28:29.188956Z"
    },
    "papermill": {
     "duration": 3.270748,
     "end_time": "2024-04-05T22:28:29.197405",
     "exception": false,
     "start_time": "2024-04-05T22:28:25.926657",
     "status": "completed"
    },
    "tags": []
   },
   "outputs": [
    {
     "name": "stdout",
     "output_type": "stream",
     "text": [
      "LinReg \t:\t (7.765262376004273, 7.822492129730574)\n",
      "Ridge \t:\t (8.507106660253534, 8.590810801591186)\n",
      "Lasso \t:\t (9.64360746904017, 9.734711661355728)\n"
     ]
    }
   ],
   "source": [
    "from sklearn.linear_model import LinearRegression, Ridge, Lasso\n",
    "\n",
    "m_name = ['LinReg', 'Ridge', 'Lasso']\n",
    "models_list = [LinearRegression, Ridge, Lasso]\n",
    "\n",
    "for i in range(len(models_list)):\n",
    "    model = models_list[i]().fit(x_train, y_train)\n",
    "    print(m_name[i], \"\\t:\\t\", evaluate(model))"
   ]
  },
  {
   "cell_type": "code",
   "execution_count": 84,
   "id": "1123cf59",
   "metadata": {
    "execution": {
     "iopub.execute_input": "2024-04-05T22:28:29.363160Z",
     "iopub.status.busy": "2024-04-05T22:28:29.362637Z",
     "iopub.status.idle": "2024-04-05T22:37:34.825386Z",
     "shell.execute_reply": "2024-04-05T22:37:34.824016Z"
    },
    "papermill": {
     "duration": 545.576949,
     "end_time": "2024-04-05T22:37:34.882041",
     "exception": false,
     "start_time": "2024-04-05T22:28:29.305092",
     "status": "completed"
    },
    "tags": []
   },
   "outputs": [
    {
     "name": "stdout",
     "output_type": "stream",
     "text": [
      "Random Forest \t:\t (5.278678833241363, 5.497261294756899)\n"
     ]
    }
   ],
   "source": [
    "# Uaing Radnom Foresr\n",
    "# %%time\n",
    "from sklearn.ensemble import RandomForestRegressor\n",
    "model  = RandomForestRegressor(random_state = len(x_train), n_jobs = -1, max_depth = 10, n_estimators = 100, max_leaf_nodes = 500).fit(x_train, y_train)\n",
    "print(\"Random Forest \\t:\\t\", evaluate(model))"
   ]
  },
  {
   "cell_type": "markdown",
   "id": "4d46de95",
   "metadata": {
    "papermill": {
     "duration": 0.052377,
     "end_time": "2024-04-05T22:37:34.987271",
     "exception": false,
     "start_time": "2024-04-05T22:37:34.934894",
     "status": "completed"
    },
    "tags": []
   },
   "source": [
    "## Results\n",
    "\n",
    "### 1% Data\n",
    "\n",
    "All the results are in above cell result\n",
    "<!-- | Model | Training | Val |\n",
    "|-------|----------|-----|\n",
    "|LinReg | 8.845480007470051 | 8.843641841809712 |\n",
    "|Ridge | 8.845480007470051 | 8.843641841809712 | -->"
   ]
  },
  {
   "cell_type": "markdown",
   "id": "324a5122",
   "metadata": {
    "papermill": {
     "duration": 0.052746,
     "end_time": "2024-04-05T22:37:35.092732",
     "exception": false,
     "start_time": "2024-04-05T22:37:35.039986",
     "status": "completed"
    },
    "tags": []
   },
   "source": [
    "Now Lets submit the results obtained from LinReg model"
   ]
  },
  {
   "cell_type": "code",
   "execution_count": 85,
   "id": "91d3cade",
   "metadata": {
    "execution": {
     "iopub.execute_input": "2024-04-05T22:37:35.203946Z",
     "iopub.status.busy": "2024-04-05T22:37:35.202979Z",
     "iopub.status.idle": "2024-04-05T22:37:35.208658Z",
     "shell.execute_reply": "2024-04-05T22:37:35.207446Z"
    },
    "papermill": {
     "duration": 0.064499,
     "end_time": "2024-04-05T22:37:35.211102",
     "exception": false,
     "start_time": "2024-04-05T22:37:35.146603",
     "status": "completed"
    },
    "tags": []
   },
   "outputs": [],
   "source": [
    "# model = LinearRegression().fit(x_train, y_train)\n",
    "\n",
    "# submission(model, test_data[input_col], \"LinReg_predection.csv\")"
   ]
  },
  {
   "cell_type": "code",
   "execution_count": 86,
   "id": "744f8d25",
   "metadata": {
    "execution": {
     "iopub.execute_input": "2024-04-05T22:37:35.317293Z",
     "iopub.status.busy": "2024-04-05T22:37:35.316796Z",
     "iopub.status.idle": "2024-04-05T22:37:35.442963Z",
     "shell.execute_reply": "2024-04-05T22:37:35.441915Z"
    },
    "papermill": {
     "duration": 0.182156,
     "end_time": "2024-04-05T22:37:35.445390",
     "exception": false,
     "start_time": "2024-04-05T22:37:35.263234",
     "status": "completed"
    },
    "tags": []
   },
   "outputs": [
    {
     "name": "stdout",
     "output_type": "stream",
     "text": [
      "[ 8.3624673   8.3624673   7.16208178 ... 54.63440589 21.73879994\n",
      "  8.49944191]\n"
     ]
    }
   ],
   "source": [
    "# For same Random Forest -> Not tunign the hyper params\n",
    "submission(model, test_data[input_col], \"RandFor.csv\")"
   ]
  },
  {
   "cell_type": "code",
   "execution_count": 87,
   "id": "e394e7da",
   "metadata": {
    "execution": {
     "iopub.execute_input": "2024-04-05T22:37:35.556102Z",
     "iopub.status.busy": "2024-04-05T22:37:35.554720Z",
     "iopub.status.idle": "2024-04-05T22:37:48.755432Z",
     "shell.execute_reply": "2024-04-05T22:37:48.754296Z"
    },
    "papermill": {
     "duration": 13.259765,
     "end_time": "2024-04-05T22:37:48.758715",
     "exception": false,
     "start_time": "2024-04-05T22:37:35.498950",
     "status": "completed"
    },
    "tags": []
   },
   "outputs": [
    {
     "data": {
      "text/plain": [
       "(4.9649816, 5.191476)"
      ]
     },
     "execution_count": 87,
     "metadata": {},
     "output_type": "execute_result"
    }
   ],
   "source": [
    "# Using XGBoost\n",
    "from xgboost import XGBRegressor\n",
    "model = XGBRegressor(max_depth = 5, objective = 'reg:squarederror', n_estimators = 150, random_state = len(x_train), n_jobs = -1).fit(x_train, y_train)\n",
    "evaluate(model)"
   ]
  },
  {
   "cell_type": "code",
   "execution_count": 88,
   "id": "ba405610",
   "metadata": {
    "execution": {
     "iopub.execute_input": "2024-04-05T22:37:48.871354Z",
     "iopub.status.busy": "2024-04-05T22:37:48.869985Z",
     "iopub.status.idle": "2024-04-05T22:37:48.938353Z",
     "shell.execute_reply": "2024-04-05T22:37:48.937454Z"
    },
    "papermill": {
     "duration": 0.126277,
     "end_time": "2024-04-05T22:37:48.940919",
     "exception": false,
     "start_time": "2024-04-05T22:37:48.814642",
     "status": "completed"
    },
    "tags": []
   },
   "outputs": [
    {
     "name": "stdout",
     "output_type": "stream",
     "text": [
      "[12.799829  10.04661    5.3265276 ... 56.304264  21.302332   7.5759735]\n"
     ]
    }
   ],
   "source": [
    "submission(model, test_data[input_col], \"XGB.csv\")"
   ]
  },
  {
   "cell_type": "code",
   "execution_count": 89,
   "id": "56ba47ca",
   "metadata": {
    "execution": {
     "iopub.execute_input": "2024-04-05T22:37:49.051946Z",
     "iopub.status.busy": "2024-04-05T22:37:49.051124Z",
     "iopub.status.idle": "2024-04-05T22:38:56.874470Z",
     "shell.execute_reply": "2024-04-05T22:38:56.873051Z"
    },
    "papermill": {
     "duration": 67.926815,
     "end_time": "2024-04-05T22:38:56.922111",
     "exception": false,
     "start_time": "2024-04-05T22:37:48.995296",
     "status": "completed"
    },
    "tags": []
   },
   "outputs": [
    {
     "data": {
      "text/plain": [
       "(4.3952003, 5.087749)"
      ]
     },
     "execution_count": 89,
     "metadata": {},
     "output_type": "execute_result"
    }
   ],
   "source": [
    "# Final tuened model -> Taking directly form the video\n",
    "\n",
    "model = XGBRegressor(objective = 'reg:squarederror',\n",
    "                     n_jobs = -1, \n",
    "                     n_estimators = 500,\n",
    "                     max_depth = 8,\n",
    "                     learning_rate = 0.08,\n",
    "                     subsample = 0.7,\n",
    "                     colsample_bytree = 0.8). fit(x_train, y_train)\n",
    "\n",
    "evaluate(model)"
   ]
  },
  {
   "cell_type": "code",
   "execution_count": 90,
   "id": "6c35409b",
   "metadata": {
    "execution": {
     "iopub.execute_input": "2024-04-05T22:38:57.030914Z",
     "iopub.status.busy": "2024-04-05T22:38:57.030388Z",
     "iopub.status.idle": "2024-04-05T22:38:57.158105Z",
     "shell.execute_reply": "2024-04-05T22:38:57.156782Z"
    },
    "papermill": {
     "duration": 0.186719,
     "end_time": "2024-04-05T22:38:57.161654",
     "exception": false,
     "start_time": "2024-04-05T22:38:56.974935",
     "status": "completed"
    },
    "tags": []
   },
   "outputs": [
    {
     "name": "stdout",
     "output_type": "stream",
     "text": [
      "[10.96812    8.84257    5.4944186 ... 57.092163  23.416632   6.9302   ]\n"
     ]
    }
   ],
   "source": [
    "submission(model, test_data[input_col], \"XGB_tuned.csv\")"
   ]
  }
 ],
 "metadata": {
  "kaggle": {
   "accelerator": "none",
   "dataSources": [
    {
     "databundleVersionId": 61318,
     "sourceId": 10170,
     "sourceType": "competition"
    }
   ],
   "dockerImageVersionId": 30673,
   "isGpuEnabled": false,
   "isInternetEnabled": true,
   "language": "python",
   "sourceType": "notebook"
  },
  "kernelspec": {
   "display_name": "Python 3",
   "language": "python",
   "name": "python3"
  },
  "language_info": {
   "codemirror_mode": {
    "name": "ipython",
    "version": 3
   },
   "file_extension": ".py",
   "mimetype": "text/x-python",
   "name": "python",
   "nbconvert_exporter": "python",
   "pygments_lexer": "ipython3",
   "version": "3.10.13"
  },
  "papermill": {
   "default_parameters": {},
   "duration": 843.689741,
   "end_time": "2024-04-05T22:38:58.347633",
   "environment_variables": {},
   "exception": null,
   "input_path": "__notebook__.ipynb",
   "output_path": "__notebook__.ipynb",
   "parameters": {},
   "start_time": "2024-04-05T22:24:54.657892",
   "version": "2.5.0"
  }
 },
 "nbformat": 4,
 "nbformat_minor": 5
}
