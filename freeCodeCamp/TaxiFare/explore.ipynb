{
 "cells": [
  {
   "cell_type": "code",
   "execution_count": 1,
   "id": "4a66fc3c",
   "metadata": {
    "_cell_guid": "b1076dfc-b9ad-4769-8c92-a6c4dae69d19",
    "_uuid": "8f2839f25d086af736a60e9eeb907d3b93b6e0e5",
    "execution": {
     "iopub.execute_input": "2024-04-05T16:06:54.428484Z",
     "iopub.status.busy": "2024-04-05T16:06:54.427653Z",
     "iopub.status.idle": "2024-04-05T16:06:54.445024Z",
     "shell.execute_reply": "2024-04-05T16:06:54.442797Z"
    },
    "papermill": {
     "duration": 0.043524,
     "end_time": "2024-04-05T16:06:54.447739",
     "exception": false,
     "start_time": "2024-04-05T16:06:54.404215",
     "status": "completed"
    },
    "tags": []
   },
   "outputs": [
    {
     "name": "stdout",
     "output_type": "stream",
     "text": [
      "/kaggle/input/new-york-city-taxi-fare-prediction/sample_submission.csv\n",
      "/kaggle/input/new-york-city-taxi-fare-prediction/GCP-Coupons-Instructions.rtf\n",
      "/kaggle/input/new-york-city-taxi-fare-prediction/train.csv\n",
      "/kaggle/input/new-york-city-taxi-fare-prediction/test.csv\n"
     ]
    }
   ],
   "source": [
    "# Input data files are available in the read-only \"../input/\" directory\n",
    "# For example, running this (by clicking run or pressing Shift+Enter) will list all files under the input directory\n",
    "\n",
    "import os\n",
    "for dirname, _, filenames in os.walk('/kaggle/input'):\n",
    "    for filename in filenames:\n",
    "        print(os.path.join(dirname, filename))\n",
    "\n",
    "# You can write up to 20GB to the current directory (/kaggle/working/) that gets preserved as output when you create a version using \"Save & Run All\" \n",
    "# You can also write temporary files to /kaggle/temp/, but they won't be saved outside of the current session"
   ]
  },
  {
   "cell_type": "markdown",
   "id": "30ad29ba",
   "metadata": {
    "papermill": {
     "duration": 0.019492,
     "end_time": "2024-04-05T16:06:54.489477",
     "exception": false,
     "start_time": "2024-04-05T16:06:54.469985",
     "status": "completed"
    },
    "tags": []
   },
   "source": [
    "### Setp 1\n",
    "- Install req libs and Load the datas"
   ]
  },
  {
   "cell_type": "code",
   "execution_count": 2,
   "id": "325f3a66",
   "metadata": {
    "execution": {
     "iopub.execute_input": "2024-04-05T16:06:54.531434Z",
     "iopub.status.busy": "2024-04-05T16:06:54.530996Z",
     "iopub.status.idle": "2024-04-05T16:06:55.551964Z",
     "shell.execute_reply": "2024-04-05T16:06:55.550382Z"
    },
    "papermill": {
     "duration": 1.045882,
     "end_time": "2024-04-05T16:06:55.555256",
     "exception": false,
     "start_time": "2024-04-05T16:06:54.509374",
     "status": "completed"
    },
    "tags": []
   },
   "outputs": [],
   "source": [
    "import numpy as np\n",
    "import pandas as pd"
   ]
  },
  {
   "cell_type": "code",
   "execution_count": 3,
   "id": "c232d6f8",
   "metadata": {
    "execution": {
     "iopub.execute_input": "2024-04-05T16:06:55.598544Z",
     "iopub.status.busy": "2024-04-05T16:06:55.597946Z",
     "iopub.status.idle": "2024-04-05T16:06:55.604018Z",
     "shell.execute_reply": "2024-04-05T16:06:55.602781Z"
    },
    "papermill": {
     "duration": 0.03019,
     "end_time": "2024-04-05T16:06:55.606299",
     "exception": false,
     "start_time": "2024-04-05T16:06:55.576109",
     "status": "completed"
    },
    "tags": []
   },
   "outputs": [],
   "source": [
    "data_dir = '/kaggle/input/new-york-city-taxi-fare-prediction/'"
   ]
  },
  {
   "cell_type": "code",
   "execution_count": 4,
   "id": "aee3d5d2",
   "metadata": {
    "execution": {
     "iopub.execute_input": "2024-04-05T16:06:55.649107Z",
     "iopub.status.busy": "2024-04-05T16:06:55.648191Z",
     "iopub.status.idle": "2024-04-05T16:06:56.669886Z",
     "shell.execute_reply": "2024-04-05T16:06:56.668518Z"
    },
    "papermill": {
     "duration": 1.046049,
     "end_time": "2024-04-05T16:06:56.672531",
     "exception": false,
     "start_time": "2024-04-05T16:06:55.626482",
     "status": "completed"
    },
    "tags": []
   },
   "outputs": [
    {
     "name": "stdout",
     "output_type": "stream",
     "text": [
      "total 5.4G\r\n",
      "-rw-r--r-- 1 nobody nogroup  486 Mar 12 04:56 GCP-Coupons-Instructions.rtf\r\n",
      "-rw-r--r-- 1 nobody nogroup 336K Mar 12 04:56 sample_submission.csv\r\n",
      "-rw-r--r-- 1 nobody nogroup 960K Mar 12 04:56 test.csv\r\n",
      "-rw-r--r-- 1 nobody nogroup 5.4G Mar 12 04:56 train.csv\r\n"
     ]
    }
   ],
   "source": [
    "!ls -lh {data_dir}"
   ]
  },
  {
   "cell_type": "markdown",
   "id": "ee7a465e",
   "metadata": {
    "papermill": {
     "duration": 0.019892,
     "end_time": "2024-04-05T16:06:56.712605",
     "exception": false,
     "start_time": "2024-04-05T16:06:56.692713",
     "status": "completed"
    },
    "tags": []
   },
   "source": [
    "All the data is in the **train.csv** file"
   ]
  },
  {
   "cell_type": "code",
   "execution_count": 5,
   "id": "aa126a54",
   "metadata": {
    "execution": {
     "iopub.execute_input": "2024-04-05T16:06:56.756494Z",
     "iopub.status.busy": "2024-04-05T16:06:56.755195Z",
     "iopub.status.idle": "2024-04-05T16:06:56.760539Z",
     "shell.execute_reply": "2024-04-05T16:06:56.759621Z"
    },
    "papermill": {
     "duration": 0.029615,
     "end_time": "2024-04-05T16:06:56.762888",
     "exception": false,
     "start_time": "2024-04-05T16:06:56.733273",
     "status": "completed"
    },
    "tags": []
   },
   "outputs": [],
   "source": [
    "# this will take too much tine\n",
    "# !wc -l {data_dir}/train.csv"
   ]
  },
  {
   "cell_type": "code",
   "execution_count": 6,
   "id": "b7937a9f",
   "metadata": {
    "execution": {
     "iopub.execute_input": "2024-04-05T16:06:56.806629Z",
     "iopub.status.busy": "2024-04-05T16:06:56.805419Z",
     "iopub.status.idle": "2024-04-05T16:06:57.839429Z",
     "shell.execute_reply": "2024-04-05T16:06:57.837801Z"
    },
    "papermill": {
     "duration": 1.058811,
     "end_time": "2024-04-05T16:06:57.842460",
     "exception": false,
     "start_time": "2024-04-05T16:06:56.783649",
     "status": "completed"
    },
    "tags": []
   },
   "outputs": [
    {
     "name": "stdout",
     "output_type": "stream",
     "text": [
      "9914 /kaggle/input/new-york-city-taxi-fare-prediction//test.csv\r\n"
     ]
    }
   ],
   "source": [
    "!wc -l {data_dir}/test.csv"
   ]
  },
  {
   "cell_type": "markdown",
   "id": "f0f98b48",
   "metadata": {
    "papermill": {
     "duration": 0.02015,
     "end_time": "2024-04-05T16:06:57.882995",
     "exception": false,
     "start_time": "2024-04-05T16:06:57.862845",
     "status": "completed"
    },
    "tags": []
   },
   "source": [
    "Getting the first line of the dataset using the _shell_ command"
   ]
  },
  {
   "cell_type": "code",
   "execution_count": 7,
   "id": "33c1af85",
   "metadata": {
    "execution": {
     "iopub.execute_input": "2024-04-05T16:06:57.927031Z",
     "iopub.status.busy": "2024-04-05T16:06:57.926550Z",
     "iopub.status.idle": "2024-04-05T16:06:58.947200Z",
     "shell.execute_reply": "2024-04-05T16:06:58.945258Z"
    },
    "papermill": {
     "duration": 1.046062,
     "end_time": "2024-04-05T16:06:58.950130",
     "exception": false,
     "start_time": "2024-04-05T16:06:57.904068",
     "status": "completed"
    },
    "tags": []
   },
   "outputs": [
    {
     "name": "stdout",
     "output_type": "stream",
     "text": [
      "\r\n",
      "\r\n",
      "\r\n",
      "\r\n",
      "\r\n",
      "\r\n",
      "\r\n",
      "\r\n",
      "\r\n",
      "\r\n"
     ]
    }
   ],
   "source": [
    "!head {data_dir}/train.csv"
   ]
  },
  {
   "cell_type": "code",
   "execution_count": 8,
   "id": "0263c8f8",
   "metadata": {
    "execution": {
     "iopub.execute_input": "2024-04-05T16:06:59.055425Z",
     "iopub.status.busy": "2024-04-05T16:06:59.054070Z",
     "iopub.status.idle": "2024-04-05T16:07:00.107191Z",
     "shell.execute_reply": "2024-04-05T16:07:00.105137Z"
    },
    "papermill": {
     "duration": 1.078964,
     "end_time": "2024-04-05T16:07:00.110678",
     "exception": false,
     "start_time": "2024-04-05T16:06:59.031714",
     "status": "completed"
    },
    "tags": []
   },
   "outputs": [
    {
     "name": "stdout",
     "output_type": "stream",
     "text": [
      "\r\n",
      "\r\n",
      "\r\n",
      "\r\n",
      "\r\n",
      "\r\n",
      "\r\n",
      "\r\n",
      "\r\n",
      "\r\n"
     ]
    }
   ],
   "source": [
    "!head {data_dir}/test.csv"
   ]
  },
  {
   "cell_type": "markdown",
   "id": "4aad87ec",
   "metadata": {
    "papermill": {
     "duration": 0.021385,
     "end_time": "2024-04-05T16:07:00.153793",
     "exception": false,
     "start_time": "2024-04-05T16:07:00.132408",
     "status": "completed"
    },
    "tags": []
   },
   "source": [
    "fare amount is missingw which is the pratical Target column for our analysis"
   ]
  },
  {
   "cell_type": "markdown",
   "id": "1e0214d7",
   "metadata": {
    "papermill": {
     "duration": 0.021567,
     "end_time": "2024-04-05T16:07:00.196952",
     "exception": false,
     "start_time": "2024-04-05T16:07:00.175385",
     "status": "completed"
    },
    "tags": []
   },
   "source": [
    "#### Loading\n",
    "Loading the entire dataset into Pandas is going to be slow, so we can use the following optimizations:\n",
    "\n",
    "- Ignore the key column\n",
    "- Parse pickup datetime while loading data\n",
    "- Specify data types for other columns\n",
    "    - float32 for geo coordinates\n",
    "    - float32 for fare amount\n",
    "    - uint8 for passenger count\n",
    "- Work with a 1% sample of the data (~500k rows)"
   ]
  },
  {
   "cell_type": "code",
   "execution_count": 9,
   "id": "0077af8d",
   "metadata": {
    "execution": {
     "iopub.execute_input": "2024-04-05T16:07:00.249491Z",
     "iopub.status.busy": "2024-04-05T16:07:00.249028Z",
     "iopub.status.idle": "2024-04-05T16:07:00.259165Z",
     "shell.execute_reply": "2024-04-05T16:07:00.257881Z"
    },
    "papermill": {
     "duration": 0.040097,
     "end_time": "2024-04-05T16:07:00.261675",
     "exception": false,
     "start_time": "2024-04-05T16:07:00.221578",
     "status": "completed"
    },
    "tags": []
   },
   "outputs": [
    {
     "data": {
      "text/plain": [
       "['fare_amount',\n",
       " 'pickup_datetime',\n",
       " 'pickup_longitude',\n",
       " 'pickup_latitude',\n",
       " 'dropoff_longitude',\n",
       " 'dropoff_latitude',\n",
       " 'passenger_count']"
      ]
     },
     "execution_count": 9,
     "metadata": {},
     "output_type": "execute_result"
    }
   ],
   "source": [
    "# Taking all the columns except the keys\n",
    "selected_cols = 'fare_amount,pickup_datetime,pickup_longitude,pickup_latitude,dropoff_longitude,dropoff_latitude,passenger_count'.split(',')\n",
    "selected_cols"
   ]
  },
  {
   "cell_type": "code",
   "execution_count": 10,
   "id": "bbfd0dd5",
   "metadata": {
    "execution": {
     "iopub.execute_input": "2024-04-05T16:07:00.308286Z",
     "iopub.status.busy": "2024-04-05T16:07:00.307861Z",
     "iopub.status.idle": "2024-04-05T16:07:00.318017Z",
     "shell.execute_reply": "2024-04-05T16:07:00.316315Z"
    },
    "papermill": {
     "duration": 0.037787,
     "end_time": "2024-04-05T16:07:00.320801",
     "exception": false,
     "start_time": "2024-04-05T16:07:00.283014",
     "status": "completed"
    },
    "tags": []
   },
   "outputs": [
    {
     "data": {
      "text/plain": [
       "{'fare_amount': 'float32',\n",
       " 'pickup_longitude': 'float32',\n",
       " 'pickup_latitude': 'float32',\n",
       " 'dropoff_longitude': 'float32',\n",
       " 'dropoff_latitude': 'float32',\n",
       " 'passenger_count': 'uint8'}"
      ]
     },
     "execution_count": 10,
     "metadata": {},
     "output_type": "execute_result"
    }
   ],
   "source": [
    "d_types = {\n",
    "    'fare_amount' : 'float32',\n",
    "    'pickup_longitude': 'float32',\n",
    "    'pickup_latitude': 'float32',\n",
    "    'dropoff_longitude': 'float32',\n",
    "    'dropoff_latitude' : 'float32',\n",
    "    'passenger_count' : 'uint8',\n",
    "}\n",
    "d_types"
   ]
  },
  {
   "cell_type": "code",
   "execution_count": 11,
   "id": "8f70c2a1",
   "metadata": {
    "execution": {
     "iopub.execute_input": "2024-04-05T16:07:00.365416Z",
     "iopub.status.busy": "2024-04-05T16:07:00.364890Z",
     "iopub.status.idle": "2024-04-05T16:07:00.371736Z",
     "shell.execute_reply": "2024-04-05T16:07:00.370348Z"
    },
    "papermill": {
     "duration": 0.033217,
     "end_time": "2024-04-05T16:07:00.375397",
     "exception": false,
     "start_time": "2024-04-05T16:07:00.342180",
     "status": "completed"
    },
    "tags": []
   },
   "outputs": [],
   "source": [
    "import random as rnd\n",
    "sample_fraction = 0.01\n",
    "rnd.seed(42)\n",
    "\n",
    "def skip_row(row_idx) :\n",
    "#     If this functon retrun false then the number is going to be in data\n",
    "    if row_idx == 0 :\n",
    "        return False\n",
    "    return rnd.random() > sample_fraction"
   ]
  },
  {
   "cell_type": "code",
   "execution_count": 12,
   "id": "de540cdd",
   "metadata": {
    "execution": {
     "iopub.execute_input": "2024-04-05T16:07:00.421187Z",
     "iopub.status.busy": "2024-04-05T16:07:00.420738Z",
     "iopub.status.idle": "2024-04-05T16:09:03.387150Z",
     "shell.execute_reply": "2024-04-05T16:09:03.385542Z"
    },
    "papermill": {
     "duration": 123.009606,
     "end_time": "2024-04-05T16:09:03.407696",
     "exception": false,
     "start_time": "2024-04-05T16:07:00.398090",
     "status": "completed"
    },
    "tags": []
   },
   "outputs": [
    {
     "name": "stdout",
     "output_type": "stream",
     "text": [
      "CPU times: user 56.9 s, sys: 5.08 s, total: 1min 1s\n",
      "Wall time: 2min 2s\n"
     ]
    }
   ],
   "source": [
    "%%time\n",
    "data = pd.read_csv(data_dir + '/train.csv', \n",
    "                   usecols = selected_cols, \n",
    "                   dtype = d_types, \n",
    "                   parse_dates= ['pickup_datetime'], \n",
    "                   skiprows = skip_row) # A function is passed as a prameter"
   ]
  },
  {
   "cell_type": "code",
   "execution_count": 13,
   "id": "a72e83e2",
   "metadata": {
    "execution": {
     "iopub.execute_input": "2024-04-05T16:09:03.452282Z",
     "iopub.status.busy": "2024-04-05T16:09:03.451818Z",
     "iopub.status.idle": "2024-04-05T16:09:03.508145Z",
     "shell.execute_reply": "2024-04-05T16:09:03.506932Z"
    },
    "papermill": {
     "duration": 0.08137,
     "end_time": "2024-04-05T16:09:03.510627",
     "exception": false,
     "start_time": "2024-04-05T16:09:03.429257",
     "status": "completed"
    },
    "tags": []
   },
   "outputs": [
    {
     "data": {
      "text/html": [
       "<div>\n",
       "<style scoped>\n",
       "    .dataframe tbody tr th:only-of-type {\n",
       "        vertical-align: middle;\n",
       "    }\n",
       "\n",
       "    .dataframe tbody tr th {\n",
       "        vertical-align: top;\n",
       "    }\n",
       "\n",
       "    .dataframe thead th {\n",
       "        text-align: right;\n",
       "    }\n",
       "</style>\n",
       "<table border=\"1\" class=\"dataframe\">\n",
       "  <thead>\n",
       "    <tr style=\"text-align: right;\">\n",
       "      <th></th>\n",
       "      <th>fare_amount</th>\n",
       "      <th>pickup_datetime</th>\n",
       "      <th>pickup_longitude</th>\n",
       "      <th>pickup_latitude</th>\n",
       "      <th>dropoff_longitude</th>\n",
       "      <th>dropoff_latitude</th>\n",
       "      <th>passenger_count</th>\n",
       "    </tr>\n",
       "  </thead>\n",
       "  <tbody>\n",
       "    <tr>\n",
       "      <th>255534</th>\n",
       "      <td>10.3</td>\n",
       "      <td>2009-01-12 17:20:52+00:00</td>\n",
       "      <td>-73.962357</td>\n",
       "      <td>40.779045</td>\n",
       "      <td>-73.964554</td>\n",
       "      <td>40.755711</td>\n",
       "      <td>1</td>\n",
       "    </tr>\n",
       "    <tr>\n",
       "      <th>412223</th>\n",
       "      <td>45.0</td>\n",
       "      <td>2011-05-10 00:55:44+00:00</td>\n",
       "      <td>-73.789818</td>\n",
       "      <td>40.646721</td>\n",
       "      <td>-73.989075</td>\n",
       "      <td>40.720520</td>\n",
       "      <td>1</td>\n",
       "    </tr>\n",
       "    <tr>\n",
       "      <th>26424</th>\n",
       "      <td>12.9</td>\n",
       "      <td>2009-01-16 16:48:00+00:00</td>\n",
       "      <td>-74.004707</td>\n",
       "      <td>40.711697</td>\n",
       "      <td>-73.975113</td>\n",
       "      <td>40.752010</td>\n",
       "      <td>1</td>\n",
       "    </tr>\n",
       "    <tr>\n",
       "      <th>217815</th>\n",
       "      <td>11.3</td>\n",
       "      <td>2012-08-12 18:47:07+00:00</td>\n",
       "      <td>-73.990776</td>\n",
       "      <td>40.745975</td>\n",
       "      <td>-73.950394</td>\n",
       "      <td>40.783581</td>\n",
       "      <td>1</td>\n",
       "    </tr>\n",
       "    <tr>\n",
       "      <th>5191</th>\n",
       "      <td>7.5</td>\n",
       "      <td>2013-09-11 09:36:48+00:00</td>\n",
       "      <td>-73.954697</td>\n",
       "      <td>40.783508</td>\n",
       "      <td>-73.960495</td>\n",
       "      <td>40.772987</td>\n",
       "      <td>1</td>\n",
       "    </tr>\n",
       "    <tr>\n",
       "      <th>449921</th>\n",
       "      <td>11.0</td>\n",
       "      <td>2015-01-29 11:28:12+00:00</td>\n",
       "      <td>-73.988892</td>\n",
       "      <td>40.748386</td>\n",
       "      <td>-73.966858</td>\n",
       "      <td>40.772430</td>\n",
       "      <td>1</td>\n",
       "    </tr>\n",
       "    <tr>\n",
       "      <th>249860</th>\n",
       "      <td>4.9</td>\n",
       "      <td>2011-08-15 05:52:00+00:00</td>\n",
       "      <td>-73.992393</td>\n",
       "      <td>40.734596</td>\n",
       "      <td>-73.988098</td>\n",
       "      <td>40.743328</td>\n",
       "      <td>5</td>\n",
       "    </tr>\n",
       "    <tr>\n",
       "      <th>252437</th>\n",
       "      <td>6.0</td>\n",
       "      <td>2012-12-08 18:56:00+00:00</td>\n",
       "      <td>-73.999901</td>\n",
       "      <td>40.718094</td>\n",
       "      <td>-74.006622</td>\n",
       "      <td>40.713715</td>\n",
       "      <td>1</td>\n",
       "    </tr>\n",
       "    <tr>\n",
       "      <th>318667</th>\n",
       "      <td>6.0</td>\n",
       "      <td>2014-01-06 23:08:35+00:00</td>\n",
       "      <td>-73.974129</td>\n",
       "      <td>40.751579</td>\n",
       "      <td>-73.989990</td>\n",
       "      <td>40.745026</td>\n",
       "      <td>1</td>\n",
       "    </tr>\n",
       "    <tr>\n",
       "      <th>54901</th>\n",
       "      <td>8.1</td>\n",
       "      <td>2009-05-06 08:02:33+00:00</td>\n",
       "      <td>-73.989372</td>\n",
       "      <td>40.752949</td>\n",
       "      <td>-73.987175</td>\n",
       "      <td>40.759850</td>\n",
       "      <td>2</td>\n",
       "    </tr>\n",
       "  </tbody>\n",
       "</table>\n",
       "</div>"
      ],
      "text/plain": [
       "        fare_amount           pickup_datetime  pickup_longitude  \\\n",
       "255534         10.3 2009-01-12 17:20:52+00:00        -73.962357   \n",
       "412223         45.0 2011-05-10 00:55:44+00:00        -73.789818   \n",
       "26424          12.9 2009-01-16 16:48:00+00:00        -74.004707   \n",
       "217815         11.3 2012-08-12 18:47:07+00:00        -73.990776   \n",
       "5191            7.5 2013-09-11 09:36:48+00:00        -73.954697   \n",
       "449921         11.0 2015-01-29 11:28:12+00:00        -73.988892   \n",
       "249860          4.9 2011-08-15 05:52:00+00:00        -73.992393   \n",
       "252437          6.0 2012-12-08 18:56:00+00:00        -73.999901   \n",
       "318667          6.0 2014-01-06 23:08:35+00:00        -73.974129   \n",
       "54901           8.1 2009-05-06 08:02:33+00:00        -73.989372   \n",
       "\n",
       "        pickup_latitude  dropoff_longitude  dropoff_latitude  passenger_count  \n",
       "255534        40.779045         -73.964554         40.755711                1  \n",
       "412223        40.646721         -73.989075         40.720520                1  \n",
       "26424         40.711697         -73.975113         40.752010                1  \n",
       "217815        40.745975         -73.950394         40.783581                1  \n",
       "5191          40.783508         -73.960495         40.772987                1  \n",
       "449921        40.748386         -73.966858         40.772430                1  \n",
       "249860        40.734596         -73.988098         40.743328                5  \n",
       "252437        40.718094         -74.006622         40.713715                1  \n",
       "318667        40.751579         -73.989990         40.745026                1  \n",
       "54901         40.752949         -73.987175         40.759850                2  "
      ]
     },
     "execution_count": 13,
     "metadata": {},
     "output_type": "execute_result"
    }
   ],
   "source": [
    "data.sample(10)"
   ]
  },
  {
   "cell_type": "markdown",
   "id": "f17e74f1",
   "metadata": {
    "papermill": {
     "duration": 0.02101,
     "end_time": "2024-04-05T16:09:03.553216",
     "exception": false,
     "start_time": "2024-04-05T16:09:03.532206",
     "status": "completed"
    },
    "tags": []
   },
   "source": [
    "Here I am trying with 1% if the data, We can also try this using _3%, 10%, 50% and even 100%_ of the data"
   ]
  },
  {
   "cell_type": "code",
   "execution_count": 14,
   "id": "dc8bc1c8",
   "metadata": {
    "execution": {
     "iopub.execute_input": "2024-04-05T16:09:03.599594Z",
     "iopub.status.busy": "2024-04-05T16:09:03.599158Z",
     "iopub.status.idle": "2024-04-05T16:09:03.718371Z",
     "shell.execute_reply": "2024-04-05T16:09:03.717182Z"
    },
    "papermill": {
     "duration": 0.145618,
     "end_time": "2024-04-05T16:09:03.720747",
     "exception": false,
     "start_time": "2024-04-05T16:09:03.575129",
     "status": "completed"
    },
    "tags": []
   },
   "outputs": [
    {
     "data": {
      "text/html": [
       "<div>\n",
       "<style scoped>\n",
       "    .dataframe tbody tr th:only-of-type {\n",
       "        vertical-align: middle;\n",
       "    }\n",
       "\n",
       "    .dataframe tbody tr th {\n",
       "        vertical-align: top;\n",
       "    }\n",
       "\n",
       "    .dataframe thead th {\n",
       "        text-align: right;\n",
       "    }\n",
       "</style>\n",
       "<table border=\"1\" class=\"dataframe\">\n",
       "  <thead>\n",
       "    <tr style=\"text-align: right;\">\n",
       "      <th></th>\n",
       "      <th>key</th>\n",
       "      <th>pickup_datetime</th>\n",
       "      <th>pickup_longitude</th>\n",
       "      <th>pickup_latitude</th>\n",
       "      <th>dropoff_longitude</th>\n",
       "      <th>dropoff_latitude</th>\n",
       "      <th>passenger_count</th>\n",
       "    </tr>\n",
       "  </thead>\n",
       "  <tbody>\n",
       "    <tr>\n",
       "      <th>0</th>\n",
       "      <td>2015-01-27 13:08:24.0000002</td>\n",
       "      <td>2015-01-27 13:08:24+00:00</td>\n",
       "      <td>-73.973320</td>\n",
       "      <td>40.763805</td>\n",
       "      <td>-73.981430</td>\n",
       "      <td>40.743835</td>\n",
       "      <td>1</td>\n",
       "    </tr>\n",
       "    <tr>\n",
       "      <th>1</th>\n",
       "      <td>2015-01-27 13:08:24.0000003</td>\n",
       "      <td>2015-01-27 13:08:24+00:00</td>\n",
       "      <td>-73.986862</td>\n",
       "      <td>40.719383</td>\n",
       "      <td>-73.998886</td>\n",
       "      <td>40.739201</td>\n",
       "      <td>1</td>\n",
       "    </tr>\n",
       "    <tr>\n",
       "      <th>2</th>\n",
       "      <td>2011-10-08 11:53:44.0000002</td>\n",
       "      <td>2011-10-08 11:53:44+00:00</td>\n",
       "      <td>-73.982521</td>\n",
       "      <td>40.751259</td>\n",
       "      <td>-73.979652</td>\n",
       "      <td>40.746140</td>\n",
       "      <td>1</td>\n",
       "    </tr>\n",
       "    <tr>\n",
       "      <th>3</th>\n",
       "      <td>2012-12-01 21:12:12.0000002</td>\n",
       "      <td>2012-12-01 21:12:12+00:00</td>\n",
       "      <td>-73.981163</td>\n",
       "      <td>40.767807</td>\n",
       "      <td>-73.990448</td>\n",
       "      <td>40.751637</td>\n",
       "      <td>1</td>\n",
       "    </tr>\n",
       "    <tr>\n",
       "      <th>4</th>\n",
       "      <td>2012-12-01 21:12:12.0000003</td>\n",
       "      <td>2012-12-01 21:12:12+00:00</td>\n",
       "      <td>-73.966049</td>\n",
       "      <td>40.789776</td>\n",
       "      <td>-73.988564</td>\n",
       "      <td>40.744427</td>\n",
       "      <td>1</td>\n",
       "    </tr>\n",
       "  </tbody>\n",
       "</table>\n",
       "</div>"
      ],
      "text/plain": [
       "                           key           pickup_datetime  pickup_longitude  \\\n",
       "0  2015-01-27 13:08:24.0000002 2015-01-27 13:08:24+00:00        -73.973320   \n",
       "1  2015-01-27 13:08:24.0000003 2015-01-27 13:08:24+00:00        -73.986862   \n",
       "2  2011-10-08 11:53:44.0000002 2011-10-08 11:53:44+00:00        -73.982521   \n",
       "3  2012-12-01 21:12:12.0000002 2012-12-01 21:12:12+00:00        -73.981163   \n",
       "4  2012-12-01 21:12:12.0000003 2012-12-01 21:12:12+00:00        -73.966049   \n",
       "\n",
       "   pickup_latitude  dropoff_longitude  dropoff_latitude  passenger_count  \n",
       "0        40.763805         -73.981430         40.743835                1  \n",
       "1        40.719383         -73.998886         40.739201                1  \n",
       "2        40.751259         -73.979652         40.746140                1  \n",
       "3        40.767807         -73.990448         40.751637                1  \n",
       "4        40.789776         -73.988564         40.744427                1  "
      ]
     },
     "execution_count": 14,
     "metadata": {},
     "output_type": "execute_result"
    }
   ],
   "source": [
    "test_data = pd.read_csv(data_dir + '/test.csv', dtype= d_types, parse_dates = ['pickup_datetime'])\n",
    "test_data.head()"
   ]
  },
  {
   "cell_type": "code",
   "execution_count": 15,
   "id": "ee090fe6",
   "metadata": {
    "execution": {
     "iopub.execute_input": "2024-04-05T16:09:03.765992Z",
     "iopub.status.busy": "2024-04-05T16:09:03.765281Z",
     "iopub.status.idle": "2024-04-05T16:09:03.790411Z",
     "shell.execute_reply": "2024-04-05T16:09:03.789213Z"
    },
    "papermill": {
     "duration": 0.050482,
     "end_time": "2024-04-05T16:09:03.792683",
     "exception": false,
     "start_time": "2024-04-05T16:09:03.742201",
     "status": "completed"
    },
    "tags": []
   },
   "outputs": [
    {
     "name": "stdout",
     "output_type": "stream",
     "text": [
      "<class 'pandas.core.frame.DataFrame'>\n",
      "RangeIndex: 9914 entries, 0 to 9913\n",
      "Data columns (total 7 columns):\n",
      " #   Column             Non-Null Count  Dtype              \n",
      "---  ------             --------------  -----              \n",
      " 0   key                9914 non-null   object             \n",
      " 1   pickup_datetime    9914 non-null   datetime64[ns, UTC]\n",
      " 2   pickup_longitude   9914 non-null   float32            \n",
      " 3   pickup_latitude    9914 non-null   float32            \n",
      " 4   dropoff_longitude  9914 non-null   float32            \n",
      " 5   dropoff_latitude   9914 non-null   float32            \n",
      " 6   passenger_count    9914 non-null   uint8              \n",
      "dtypes: datetime64[ns, UTC](1), float32(4), object(1), uint8(1)\n",
      "memory usage: 319.6+ KB\n"
     ]
    }
   ],
   "source": [
    "test_data.info()"
   ]
  },
  {
   "cell_type": "markdown",
   "id": "afda2685",
   "metadata": {
    "papermill": {
     "duration": 0.020946,
     "end_time": "2024-04-05T16:09:03.835474",
     "exception": false,
     "start_time": "2024-04-05T16:09:03.814528",
     "status": "completed"
    },
    "tags": []
   },
   "source": [
    "### Exploring the data\n",
    "\n",
    "- basic info about training and test set\n",
    "- EDA and viz\n",
    "- Ask and Answer the questions"
   ]
  },
  {
   "cell_type": "code",
   "execution_count": 16,
   "id": "864ab681",
   "metadata": {
    "execution": {
     "iopub.execute_input": "2024-04-05T16:09:03.880825Z",
     "iopub.status.busy": "2024-04-05T16:09:03.880089Z",
     "iopub.status.idle": "2024-04-05T16:09:03.898529Z",
     "shell.execute_reply": "2024-04-05T16:09:03.897299Z"
    },
    "papermill": {
     "duration": 0.043684,
     "end_time": "2024-04-05T16:09:03.900751",
     "exception": false,
     "start_time": "2024-04-05T16:09:03.857067",
     "status": "completed"
    },
    "tags": []
   },
   "outputs": [
    {
     "name": "stdout",
     "output_type": "stream",
     "text": [
      "<class 'pandas.core.frame.DataFrame'>\n",
      "RangeIndex: 552450 entries, 0 to 552449\n",
      "Data columns (total 7 columns):\n",
      " #   Column             Non-Null Count   Dtype              \n",
      "---  ------             --------------   -----              \n",
      " 0   fare_amount        552450 non-null  float32            \n",
      " 1   pickup_datetime    552450 non-null  datetime64[ns, UTC]\n",
      " 2   pickup_longitude   552450 non-null  float32            \n",
      " 3   pickup_latitude    552450 non-null  float32            \n",
      " 4   dropoff_longitude  552450 non-null  float32            \n",
      " 5   dropoff_latitude   552450 non-null  float32            \n",
      " 6   passenger_count    552450 non-null  uint8              \n",
      "dtypes: datetime64[ns, UTC](1), float32(5), uint8(1)\n",
      "memory usage: 15.3 MB\n"
     ]
    }
   ],
   "source": [
    "data.info()"
   ]
  },
  {
   "cell_type": "code",
   "execution_count": 17,
   "id": "46679f37",
   "metadata": {
    "execution": {
     "iopub.execute_input": "2024-04-05T16:09:03.946257Z",
     "iopub.status.busy": "2024-04-05T16:09:03.945425Z",
     "iopub.status.idle": "2024-04-05T16:09:03.952652Z",
     "shell.execute_reply": "2024-04-05T16:09:03.951637Z"
    },
    "papermill": {
     "duration": 0.032415,
     "end_time": "2024-04-05T16:09:03.954625",
     "exception": false,
     "start_time": "2024-04-05T16:09:03.922210",
     "status": "completed"
    },
    "tags": []
   },
   "outputs": [
    {
     "data": {
      "text/plain": [
       "(552450, 7)"
      ]
     },
     "execution_count": 17,
     "metadata": {},
     "output_type": "execute_result"
    }
   ],
   "source": [
    "data.shape"
   ]
  },
  {
   "cell_type": "code",
   "execution_count": 18,
   "id": "3de9a465",
   "metadata": {
    "execution": {
     "iopub.execute_input": "2024-04-05T16:09:04.000834Z",
     "iopub.status.busy": "2024-04-05T16:09:03.999631Z",
     "iopub.status.idle": "2024-04-05T16:09:04.148002Z",
     "shell.execute_reply": "2024-04-05T16:09:04.146653Z"
    },
    "papermill": {
     "duration": 0.17408,
     "end_time": "2024-04-05T16:09:04.150477",
     "exception": false,
     "start_time": "2024-04-05T16:09:03.976397",
     "status": "completed"
    },
    "tags": []
   },
   "outputs": [
    {
     "data": {
      "text/html": [
       "<div>\n",
       "<style scoped>\n",
       "    .dataframe tbody tr th:only-of-type {\n",
       "        vertical-align: middle;\n",
       "    }\n",
       "\n",
       "    .dataframe tbody tr th {\n",
       "        vertical-align: top;\n",
       "    }\n",
       "\n",
       "    .dataframe thead th {\n",
       "        text-align: right;\n",
       "    }\n",
       "</style>\n",
       "<table border=\"1\" class=\"dataframe\">\n",
       "  <thead>\n",
       "    <tr style=\"text-align: right;\">\n",
       "      <th></th>\n",
       "      <th>fare_amount</th>\n",
       "      <th>pickup_longitude</th>\n",
       "      <th>pickup_latitude</th>\n",
       "      <th>dropoff_longitude</th>\n",
       "      <th>dropoff_latitude</th>\n",
       "      <th>passenger_count</th>\n",
       "    </tr>\n",
       "  </thead>\n",
       "  <tbody>\n",
       "    <tr>\n",
       "      <th>count</th>\n",
       "      <td>552450.000000</td>\n",
       "      <td>552450.000000</td>\n",
       "      <td>552450.000000</td>\n",
       "      <td>552450.000000</td>\n",
       "      <td>552450.000000</td>\n",
       "      <td>552450.000000</td>\n",
       "    </tr>\n",
       "    <tr>\n",
       "      <th>mean</th>\n",
       "      <td>11.354059</td>\n",
       "      <td>-72.497063</td>\n",
       "      <td>39.910500</td>\n",
       "      <td>-72.504326</td>\n",
       "      <td>39.934265</td>\n",
       "      <td>1.684983</td>\n",
       "    </tr>\n",
       "    <tr>\n",
       "      <th>std</th>\n",
       "      <td>9.811924</td>\n",
       "      <td>11.618246</td>\n",
       "      <td>8.061114</td>\n",
       "      <td>12.074346</td>\n",
       "      <td>9.255057</td>\n",
       "      <td>1.337664</td>\n",
       "    </tr>\n",
       "    <tr>\n",
       "      <th>min</th>\n",
       "      <td>-52.000000</td>\n",
       "      <td>-1183.362793</td>\n",
       "      <td>-3084.490234</td>\n",
       "      <td>-3356.729736</td>\n",
       "      <td>-2073.150635</td>\n",
       "      <td>0.000000</td>\n",
       "    </tr>\n",
       "    <tr>\n",
       "      <th>25%</th>\n",
       "      <td>6.000000</td>\n",
       "      <td>-73.992020</td>\n",
       "      <td>40.734875</td>\n",
       "      <td>-73.991425</td>\n",
       "      <td>40.733990</td>\n",
       "      <td>1.000000</td>\n",
       "    </tr>\n",
       "    <tr>\n",
       "      <th>50%</th>\n",
       "      <td>8.500000</td>\n",
       "      <td>-73.981819</td>\n",
       "      <td>40.752621</td>\n",
       "      <td>-73.980179</td>\n",
       "      <td>40.753101</td>\n",
       "      <td>1.000000</td>\n",
       "    </tr>\n",
       "    <tr>\n",
       "      <th>75%</th>\n",
       "      <td>12.500000</td>\n",
       "      <td>-73.967155</td>\n",
       "      <td>40.767036</td>\n",
       "      <td>-73.963737</td>\n",
       "      <td>40.768059</td>\n",
       "      <td>2.000000</td>\n",
       "    </tr>\n",
       "    <tr>\n",
       "      <th>max</th>\n",
       "      <td>499.000000</td>\n",
       "      <td>2420.209473</td>\n",
       "      <td>404.983337</td>\n",
       "      <td>2467.752686</td>\n",
       "      <td>3351.403076</td>\n",
       "      <td>208.000000</td>\n",
       "    </tr>\n",
       "  </tbody>\n",
       "</table>\n",
       "</div>"
      ],
      "text/plain": [
       "         fare_amount  pickup_longitude  pickup_latitude  dropoff_longitude  \\\n",
       "count  552450.000000     552450.000000    552450.000000      552450.000000   \n",
       "mean       11.354059        -72.497063        39.910500         -72.504326   \n",
       "std         9.811924         11.618246         8.061114          12.074346   \n",
       "min       -52.000000      -1183.362793     -3084.490234       -3356.729736   \n",
       "25%         6.000000        -73.992020        40.734875         -73.991425   \n",
       "50%         8.500000        -73.981819        40.752621         -73.980179   \n",
       "75%        12.500000        -73.967155        40.767036         -73.963737   \n",
       "max       499.000000       2420.209473       404.983337        2467.752686   \n",
       "\n",
       "       dropoff_latitude  passenger_count  \n",
       "count     552450.000000    552450.000000  \n",
       "mean          39.934265         1.684983  \n",
       "std            9.255057         1.337664  \n",
       "min        -2073.150635         0.000000  \n",
       "25%           40.733990         1.000000  \n",
       "50%           40.753101         1.000000  \n",
       "75%           40.768059         2.000000  \n",
       "max         3351.403076       208.000000  "
      ]
     },
     "execution_count": 18,
     "metadata": {},
     "output_type": "execute_result"
    }
   ],
   "source": [
    "data.describe()"
   ]
  },
  {
   "cell_type": "code",
   "execution_count": 19,
   "id": "b6787bd1",
   "metadata": {
    "execution": {
     "iopub.execute_input": "2024-04-05T16:09:04.197314Z",
     "iopub.status.busy": "2024-04-05T16:09:04.196889Z",
     "iopub.status.idle": "2024-04-05T16:09:04.208907Z",
     "shell.execute_reply": "2024-04-05T16:09:04.207646Z"
    },
    "papermill": {
     "duration": 0.03873,
     "end_time": "2024-04-05T16:09:04.211469",
     "exception": false,
     "start_time": "2024-04-05T16:09:04.172739",
     "status": "completed"
    },
    "tags": []
   },
   "outputs": [
    {
     "data": {
      "text/plain": [
       "(Timestamp('2009-01-01 00:11:46+0000', tz='UTC'),\n",
       " Timestamp('2015-06-30 23:59:54+0000', tz='UTC'))"
      ]
     },
     "execution_count": 19,
     "metadata": {},
     "output_type": "execute_result"
    }
   ],
   "source": [
    "data.pickup_datetime.min(), data.pickup_datetime.max()"
   ]
  },
  {
   "cell_type": "code",
   "execution_count": 20,
   "id": "fb15e27b",
   "metadata": {
    "execution": {
     "iopub.execute_input": "2024-04-05T16:09:04.258293Z",
     "iopub.status.busy": "2024-04-05T16:09:04.257426Z",
     "iopub.status.idle": "2024-04-05T16:09:04.271344Z",
     "shell.execute_reply": "2024-04-05T16:09:04.269793Z"
    },
    "papermill": {
     "duration": 0.039528,
     "end_time": "2024-04-05T16:09:04.273535",
     "exception": false,
     "start_time": "2024-04-05T16:09:04.234007",
     "status": "completed"
    },
    "tags": []
   },
   "outputs": [
    {
     "name": "stdout",
     "output_type": "stream",
     "text": [
      "<class 'pandas.core.frame.DataFrame'>\n",
      "RangeIndex: 9914 entries, 0 to 9913\n",
      "Data columns (total 7 columns):\n",
      " #   Column             Non-Null Count  Dtype              \n",
      "---  ------             --------------  -----              \n",
      " 0   key                9914 non-null   object             \n",
      " 1   pickup_datetime    9914 non-null   datetime64[ns, UTC]\n",
      " 2   pickup_longitude   9914 non-null   float32            \n",
      " 3   pickup_latitude    9914 non-null   float32            \n",
      " 4   dropoff_longitude  9914 non-null   float32            \n",
      " 5   dropoff_latitude   9914 non-null   float32            \n",
      " 6   passenger_count    9914 non-null   uint8              \n",
      "dtypes: datetime64[ns, UTC](1), float32(4), object(1), uint8(1)\n",
      "memory usage: 319.6+ KB\n"
     ]
    }
   ],
   "source": [
    "test_data.info() "
   ]
  },
  {
   "cell_type": "markdown",
   "id": "cfd77f34",
   "metadata": {
    "papermill": {
     "duration": 0.021749,
     "end_time": "2024-04-05T16:09:04.317588",
     "exception": false,
     "start_time": "2024-04-05T16:09:04.295839",
     "status": "completed"
    },
    "tags": []
   },
   "source": [
    "The data is not cleaned as -1000 Latitude does not exist and also _208_ pasengers are can't ride a Taxi"
   ]
  },
  {
   "cell_type": "markdown",
   "id": "008b9fc0",
   "metadata": {
    "papermill": {
     "duration": 0.021723,
     "end_time": "2024-04-05T16:09:04.361304",
     "exception": false,
     "start_time": "2024-04-05T16:09:04.339581",
     "status": "completed"
    },
    "tags": []
   },
   "source": [
    "#### Observations\n",
    "- 550K+ data\n",
    "- No missing data (in sample)\n",
    "- Fare ranges from -52 to 499\n",
    "- Pasengers from 0 to 208\n",
    "- Seems to be error in the latitue and logitude\n",
    "- Dates Ranges from 1st Jan 2009 to 30th June 2015\n",
    "\n",
    "Need to deal with the outliares and preproces the data."
   ]
  },
  {
   "cell_type": "code",
   "execution_count": 21,
   "id": "2c6c4ab7",
   "metadata": {
    "execution": {
     "iopub.execute_input": "2024-04-05T16:09:04.407441Z",
     "iopub.status.busy": "2024-04-05T16:09:04.406970Z",
     "iopub.status.idle": "2024-04-05T16:09:04.420132Z",
     "shell.execute_reply": "2024-04-05T16:09:04.419044Z"
    },
    "papermill": {
     "duration": 0.039069,
     "end_time": "2024-04-05T16:09:04.422450",
     "exception": false,
     "start_time": "2024-04-05T16:09:04.383381",
     "status": "completed"
    },
    "tags": []
   },
   "outputs": [
    {
     "name": "stdout",
     "output_type": "stream",
     "text": [
      "<class 'pandas.core.frame.DataFrame'>\n",
      "RangeIndex: 9914 entries, 0 to 9913\n",
      "Data columns (total 7 columns):\n",
      " #   Column             Non-Null Count  Dtype              \n",
      "---  ------             --------------  -----              \n",
      " 0   key                9914 non-null   object             \n",
      " 1   pickup_datetime    9914 non-null   datetime64[ns, UTC]\n",
      " 2   pickup_longitude   9914 non-null   float32            \n",
      " 3   pickup_latitude    9914 non-null   float32            \n",
      " 4   dropoff_longitude  9914 non-null   float32            \n",
      " 5   dropoff_latitude   9914 non-null   float32            \n",
      " 6   passenger_count    9914 non-null   uint8              \n",
      "dtypes: datetime64[ns, UTC](1), float32(4), object(1), uint8(1)\n",
      "memory usage: 319.6+ KB\n"
     ]
    }
   ],
   "source": [
    "test_data.info()"
   ]
  },
  {
   "cell_type": "code",
   "execution_count": 22,
   "id": "721fad9d",
   "metadata": {
    "execution": {
     "iopub.execute_input": "2024-04-05T16:09:04.470347Z",
     "iopub.status.busy": "2024-04-05T16:09:04.469547Z",
     "iopub.status.idle": "2024-04-05T16:09:04.498089Z",
     "shell.execute_reply": "2024-04-05T16:09:04.496840Z"
    },
    "papermill": {
     "duration": 0.05596,
     "end_time": "2024-04-05T16:09:04.500950",
     "exception": false,
     "start_time": "2024-04-05T16:09:04.444990",
     "status": "completed"
    },
    "tags": []
   },
   "outputs": [
    {
     "data": {
      "text/html": [
       "<div>\n",
       "<style scoped>\n",
       "    .dataframe tbody tr th:only-of-type {\n",
       "        vertical-align: middle;\n",
       "    }\n",
       "\n",
       "    .dataframe tbody tr th {\n",
       "        vertical-align: top;\n",
       "    }\n",
       "\n",
       "    .dataframe thead th {\n",
       "        text-align: right;\n",
       "    }\n",
       "</style>\n",
       "<table border=\"1\" class=\"dataframe\">\n",
       "  <thead>\n",
       "    <tr style=\"text-align: right;\">\n",
       "      <th></th>\n",
       "      <th>pickup_longitude</th>\n",
       "      <th>pickup_latitude</th>\n",
       "      <th>dropoff_longitude</th>\n",
       "      <th>dropoff_latitude</th>\n",
       "      <th>passenger_count</th>\n",
       "    </tr>\n",
       "  </thead>\n",
       "  <tbody>\n",
       "    <tr>\n",
       "      <th>count</th>\n",
       "      <td>9914.000000</td>\n",
       "      <td>9914.000000</td>\n",
       "      <td>9914.000000</td>\n",
       "      <td>9914.000000</td>\n",
       "      <td>9914.000000</td>\n",
       "    </tr>\n",
       "    <tr>\n",
       "      <th>mean</th>\n",
       "      <td>-73.974716</td>\n",
       "      <td>40.751041</td>\n",
       "      <td>-73.973656</td>\n",
       "      <td>40.751740</td>\n",
       "      <td>1.671273</td>\n",
       "    </tr>\n",
       "    <tr>\n",
       "      <th>std</th>\n",
       "      <td>0.042774</td>\n",
       "      <td>0.033541</td>\n",
       "      <td>0.039072</td>\n",
       "      <td>0.035435</td>\n",
       "      <td>1.278747</td>\n",
       "    </tr>\n",
       "    <tr>\n",
       "      <th>min</th>\n",
       "      <td>-74.252190</td>\n",
       "      <td>40.573143</td>\n",
       "      <td>-74.263245</td>\n",
       "      <td>40.568974</td>\n",
       "      <td>1.000000</td>\n",
       "    </tr>\n",
       "    <tr>\n",
       "      <th>25%</th>\n",
       "      <td>-73.992500</td>\n",
       "      <td>40.736125</td>\n",
       "      <td>-73.991249</td>\n",
       "      <td>40.735253</td>\n",
       "      <td>1.000000</td>\n",
       "    </tr>\n",
       "    <tr>\n",
       "      <th>50%</th>\n",
       "      <td>-73.982327</td>\n",
       "      <td>40.753052</td>\n",
       "      <td>-73.980015</td>\n",
       "      <td>40.754065</td>\n",
       "      <td>1.000000</td>\n",
       "    </tr>\n",
       "    <tr>\n",
       "      <th>75%</th>\n",
       "      <td>-73.968012</td>\n",
       "      <td>40.767113</td>\n",
       "      <td>-73.964062</td>\n",
       "      <td>40.768757</td>\n",
       "      <td>2.000000</td>\n",
       "    </tr>\n",
       "    <tr>\n",
       "      <th>max</th>\n",
       "      <td>-72.986534</td>\n",
       "      <td>41.709557</td>\n",
       "      <td>-72.990967</td>\n",
       "      <td>41.696682</td>\n",
       "      <td>6.000000</td>\n",
       "    </tr>\n",
       "  </tbody>\n",
       "</table>\n",
       "</div>"
      ],
      "text/plain": [
       "       pickup_longitude  pickup_latitude  dropoff_longitude  dropoff_latitude  \\\n",
       "count       9914.000000      9914.000000        9914.000000       9914.000000   \n",
       "mean         -73.974716        40.751041         -73.973656         40.751740   \n",
       "std            0.042774         0.033541           0.039072          0.035435   \n",
       "min          -74.252190        40.573143         -74.263245         40.568974   \n",
       "25%          -73.992500        40.736125         -73.991249         40.735253   \n",
       "50%          -73.982327        40.753052         -73.980015         40.754065   \n",
       "75%          -73.968012        40.767113         -73.964062         40.768757   \n",
       "max          -72.986534        41.709557         -72.990967         41.696682   \n",
       "\n",
       "       passenger_count  \n",
       "count      9914.000000  \n",
       "mean          1.671273  \n",
       "std           1.278747  \n",
       "min           1.000000  \n",
       "25%           1.000000  \n",
       "50%           1.000000  \n",
       "75%           2.000000  \n",
       "max           6.000000  "
      ]
     },
     "execution_count": 22,
     "metadata": {},
     "output_type": "execute_result"
    }
   ],
   "source": [
    "test_data.describe()"
   ]
  },
  {
   "cell_type": "code",
   "execution_count": 23,
   "id": "342c5063",
   "metadata": {
    "execution": {
     "iopub.execute_input": "2024-04-05T16:09:04.549294Z",
     "iopub.status.busy": "2024-04-05T16:09:04.548879Z",
     "iopub.status.idle": "2024-04-05T16:09:04.557398Z",
     "shell.execute_reply": "2024-04-05T16:09:04.556312Z"
    },
    "papermill": {
     "duration": 0.035972,
     "end_time": "2024-04-05T16:09:04.559624",
     "exception": false,
     "start_time": "2024-04-05T16:09:04.523652",
     "status": "completed"
    },
    "tags": []
   },
   "outputs": [
    {
     "data": {
      "text/plain": [
       "(Timestamp('2009-01-01 11:04:24+0000', tz='UTC'),\n",
       " Timestamp('2015-06-30 20:03:50+0000', tz='UTC'))"
      ]
     },
     "execution_count": 23,
     "metadata": {},
     "output_type": "execute_result"
    }
   ],
   "source": [
    "test_data.pickup_datetime.min(), test_data.pickup_datetime.max()"
   ]
  },
  {
   "cell_type": "markdown",
   "id": "0940c640",
   "metadata": {
    "papermill": {
     "duration": 0.023277,
     "end_time": "2024-04-05T16:09:04.605974",
     "exception": false,
     "start_time": "2024-04-05T16:09:04.582697",
     "status": "completed"
    },
    "tags": []
   },
   "source": [
    "Training data is Clean we can refer to the taining data for the purpost of clenaing the data.\n",
    "\n",
    "Like we can remove the columns whose values lies outside the Training data."
   ]
  },
  {
   "cell_type": "markdown",
   "id": "3d1f5117",
   "metadata": {
    "papermill": {
     "duration": 0.023768,
     "end_time": "2024-04-05T16:09:04.654309",
     "exception": false,
     "start_time": "2024-04-05T16:09:04.630541",
     "status": "completed"
    },
    "tags": []
   },
   "source": [
    "## Exploratory Data Analysis"
   ]
  },
  {
   "cell_type": "code",
   "execution_count": 24,
   "id": "ffd4795a",
   "metadata": {
    "execution": {
     "iopub.execute_input": "2024-04-05T16:09:04.702518Z",
     "iopub.status.busy": "2024-04-05T16:09:04.702110Z",
     "iopub.status.idle": "2024-04-05T16:09:06.336018Z",
     "shell.execute_reply": "2024-04-05T16:09:06.334839Z"
    },
    "papermill": {
     "duration": 1.661464,
     "end_time": "2024-04-05T16:09:06.338643",
     "exception": false,
     "start_time": "2024-04-05T16:09:04.677179",
     "status": "completed"
    },
    "tags": []
   },
   "outputs": [],
   "source": [
    "import matplotlib.pyplot as plt\n",
    "import seaborn as sns"
   ]
  },
  {
   "cell_type": "markdown",
   "id": "2839209b",
   "metadata": {
    "papermill": {
     "duration": 0.022794,
     "end_time": "2024-04-05T16:09:06.384954",
     "exception": false,
     "start_time": "2024-04-05T16:09:06.362160",
     "status": "completed"
    },
    "tags": []
   },
   "source": [
    "Skipping for Now -> Following the content of the Video This will be done a bit later when working properly"
   ]
  },
  {
   "cell_type": "code",
   "execution_count": 25,
   "id": "26eea1c0",
   "metadata": {
    "execution": {
     "iopub.execute_input": "2024-04-05T16:09:06.434808Z",
     "iopub.status.busy": "2024-04-05T16:09:06.433592Z",
     "iopub.status.idle": "2024-04-05T16:09:06.583297Z",
     "shell.execute_reply": "2024-04-05T16:09:06.582043Z"
    },
    "papermill": {
     "duration": 0.17687,
     "end_time": "2024-04-05T16:09:06.585973",
     "exception": false,
     "start_time": "2024-04-05T16:09:06.409103",
     "status": "completed"
    },
    "tags": []
   },
   "outputs": [
    {
     "data": {
      "text/html": [
       "<div>\n",
       "<style scoped>\n",
       "    .dataframe tbody tr th:only-of-type {\n",
       "        vertical-align: middle;\n",
       "    }\n",
       "\n",
       "    .dataframe tbody tr th {\n",
       "        vertical-align: top;\n",
       "    }\n",
       "\n",
       "    .dataframe thead th {\n",
       "        text-align: right;\n",
       "    }\n",
       "</style>\n",
       "<table border=\"1\" class=\"dataframe\">\n",
       "  <thead>\n",
       "    <tr style=\"text-align: right;\">\n",
       "      <th></th>\n",
       "      <th>fare_amount</th>\n",
       "      <th>pickup_longitude</th>\n",
       "      <th>pickup_latitude</th>\n",
       "      <th>dropoff_longitude</th>\n",
       "      <th>dropoff_latitude</th>\n",
       "      <th>passenger_count</th>\n",
       "    </tr>\n",
       "  </thead>\n",
       "  <tbody>\n",
       "    <tr>\n",
       "      <th>count</th>\n",
       "      <td>552450.000000</td>\n",
       "      <td>552450.000000</td>\n",
       "      <td>552450.000000</td>\n",
       "      <td>552450.000000</td>\n",
       "      <td>552450.000000</td>\n",
       "      <td>552450.000000</td>\n",
       "    </tr>\n",
       "    <tr>\n",
       "      <th>mean</th>\n",
       "      <td>11.354059</td>\n",
       "      <td>-72.497063</td>\n",
       "      <td>39.910500</td>\n",
       "      <td>-72.504326</td>\n",
       "      <td>39.934265</td>\n",
       "      <td>1.684983</td>\n",
       "    </tr>\n",
       "    <tr>\n",
       "      <th>std</th>\n",
       "      <td>9.811924</td>\n",
       "      <td>11.618246</td>\n",
       "      <td>8.061114</td>\n",
       "      <td>12.074346</td>\n",
       "      <td>9.255057</td>\n",
       "      <td>1.337664</td>\n",
       "    </tr>\n",
       "    <tr>\n",
       "      <th>min</th>\n",
       "      <td>-52.000000</td>\n",
       "      <td>-1183.362793</td>\n",
       "      <td>-3084.490234</td>\n",
       "      <td>-3356.729736</td>\n",
       "      <td>-2073.150635</td>\n",
       "      <td>0.000000</td>\n",
       "    </tr>\n",
       "    <tr>\n",
       "      <th>25%</th>\n",
       "      <td>6.000000</td>\n",
       "      <td>-73.992020</td>\n",
       "      <td>40.734875</td>\n",
       "      <td>-73.991425</td>\n",
       "      <td>40.733990</td>\n",
       "      <td>1.000000</td>\n",
       "    </tr>\n",
       "    <tr>\n",
       "      <th>50%</th>\n",
       "      <td>8.500000</td>\n",
       "      <td>-73.981819</td>\n",
       "      <td>40.752621</td>\n",
       "      <td>-73.980179</td>\n",
       "      <td>40.753101</td>\n",
       "      <td>1.000000</td>\n",
       "    </tr>\n",
       "    <tr>\n",
       "      <th>75%</th>\n",
       "      <td>12.500000</td>\n",
       "      <td>-73.967155</td>\n",
       "      <td>40.767036</td>\n",
       "      <td>-73.963737</td>\n",
       "      <td>40.768059</td>\n",
       "      <td>2.000000</td>\n",
       "    </tr>\n",
       "    <tr>\n",
       "      <th>max</th>\n",
       "      <td>499.000000</td>\n",
       "      <td>2420.209473</td>\n",
       "      <td>404.983337</td>\n",
       "      <td>2467.752686</td>\n",
       "      <td>3351.403076</td>\n",
       "      <td>208.000000</td>\n",
       "    </tr>\n",
       "  </tbody>\n",
       "</table>\n",
       "</div>"
      ],
      "text/plain": [
       "         fare_amount  pickup_longitude  pickup_latitude  dropoff_longitude  \\\n",
       "count  552450.000000     552450.000000    552450.000000      552450.000000   \n",
       "mean       11.354059        -72.497063        39.910500         -72.504326   \n",
       "std         9.811924         11.618246         8.061114          12.074346   \n",
       "min       -52.000000      -1183.362793     -3084.490234       -3356.729736   \n",
       "25%         6.000000        -73.992020        40.734875         -73.991425   \n",
       "50%         8.500000        -73.981819        40.752621         -73.980179   \n",
       "75%        12.500000        -73.967155        40.767036         -73.963737   \n",
       "max       499.000000       2420.209473       404.983337        2467.752686   \n",
       "\n",
       "       dropoff_latitude  passenger_count  \n",
       "count     552450.000000    552450.000000  \n",
       "mean          39.934265         1.684983  \n",
       "std            9.255057         1.337664  \n",
       "min        -2073.150635         0.000000  \n",
       "25%           40.733990         1.000000  \n",
       "50%           40.753101         1.000000  \n",
       "75%           40.768059         2.000000  \n",
       "max         3351.403076       208.000000  "
      ]
     },
     "execution_count": 25,
     "metadata": {},
     "output_type": "execute_result"
    }
   ],
   "source": [
    "data.describe()"
   ]
  },
  {
   "cell_type": "code",
   "execution_count": 26,
   "id": "d372073e",
   "metadata": {
    "execution": {
     "iopub.execute_input": "2024-04-05T16:09:06.634713Z",
     "iopub.status.busy": "2024-04-05T16:09:06.634233Z",
     "iopub.status.idle": "2024-04-05T16:09:07.294998Z",
     "shell.execute_reply": "2024-04-05T16:09:07.293534Z"
    },
    "papermill": {
     "duration": 0.687936,
     "end_time": "2024-04-05T16:09:07.297631",
     "exception": false,
     "start_time": "2024-04-05T16:09:06.609695",
     "status": "completed"
    },
    "tags": []
   },
   "outputs": [
    {
     "data": {
      "text/plain": [
       "<Axes: >"
      ]
     },
     "execution_count": 26,
     "metadata": {},
     "output_type": "execute_result"
    },
    {
     "data": {
      "image/png": "[encoded data removed]",
      "text/plain": [
       "<Figure size 800x400 with 2 Axes>"
      ]
     },
     "metadata": {},
     "output_type": "display_data"
    }
   ],
   "source": [
    "plt.figure(figsize=(8,4))\n",
    "sns.heatmap(data.corr(), cmap = 'RdBu', annot= True, fmt = '.2f', center = 0)"
   ]
  },
  {
   "cell_type": "markdown",
   "id": "dae98f73",
   "metadata": {
    "papermill": {
     "duration": 0.024803,
     "end_time": "2024-04-05T16:09:07.347108",
     "exception": false,
     "start_time": "2024-04-05T16:09:07.322305",
     "status": "completed"
    },
    "tags": []
   },
   "source": [
    "This is going to be a bad model if we diretly use the columns without fearure Engineering"
   ]
  },
  {
   "cell_type": "markdown",
   "id": "c85e4982",
   "metadata": {
    "papermill": {
     "duration": 0.024306,
     "end_time": "2024-04-05T16:09:07.396272",
     "exception": false,
     "start_time": "2024-04-05T16:09:07.371966",
     "status": "completed"
    },
    "tags": []
   },
   "source": [
    "### Preparing the Dataset for training\n",
    "- Split it into the training and validation set\n",
    "- Fill/Remove Missing values\n",
    "- Extrarct Input and Output\n",
    "    - Training\n",
    "    - Validation\n",
    "    - Test"
   ]
  },
  {
   "cell_type": "markdown",
   "id": "be920d5d",
   "metadata": {
    "papermill": {
     "duration": 0.02423,
     "end_time": "2024-04-05T16:09:07.445038",
     "exception": false,
     "start_time": "2024-04-05T16:09:07.420808",
     "status": "completed"
    },
    "tags": []
   },
   "source": [
    "#### Splitting the dataset"
   ]
  },
  {
   "cell_type": "code",
   "execution_count": 27,
   "id": "566f379c",
   "metadata": {
    "execution": {
     "iopub.execute_input": "2024-04-05T16:09:07.497160Z",
     "iopub.status.busy": "2024-04-05T16:09:07.496692Z",
     "iopub.status.idle": "2024-04-05T16:09:07.777374Z",
     "shell.execute_reply": "2024-04-05T16:09:07.776172Z"
    },
    "papermill": {
     "duration": 0.309417,
     "end_time": "2024-04-05T16:09:07.779912",
     "exception": false,
     "start_time": "2024-04-05T16:09:07.470495",
     "status": "completed"
    },
    "tags": []
   },
   "outputs": [],
   "source": [
    "from sklearn.model_selection import train_test_split"
   ]
  },
  {
   "cell_type": "code",
   "execution_count": 28,
   "id": "97a633e1",
   "metadata": {
    "execution": {
     "iopub.execute_input": "2024-04-05T16:09:07.831572Z",
     "iopub.status.busy": "2024-04-05T16:09:07.831144Z",
     "iopub.status.idle": "2024-04-05T16:09:07.894751Z",
     "shell.execute_reply": "2024-04-05T16:09:07.893669Z"
    },
    "papermill": {
     "duration": 0.0915,
     "end_time": "2024-04-05T16:09:07.897027",
     "exception": false,
     "start_time": "2024-04-05T16:09:07.805527",
     "status": "completed"
    },
    "tags": []
   },
   "outputs": [
    {
     "data": {
      "text/plain": [
       "(441960, 110490)"
      ]
     },
     "execution_count": 28,
     "metadata": {},
     "output_type": "execute_result"
    }
   ],
   "source": [
    "train, val = train_test_split(data, test_size = 0.2, random_state = len(data))\n",
    "len(train), len(val)"
   ]
  },
  {
   "cell_type": "code",
   "execution_count": 29,
   "id": "64020955",
   "metadata": {
    "execution": {
     "iopub.execute_input": "2024-04-05T16:09:07.950039Z",
     "iopub.status.busy": "2024-04-05T16:09:07.948995Z",
     "iopub.status.idle": "2024-04-05T16:09:07.956144Z",
     "shell.execute_reply": "2024-04-05T16:09:07.955010Z"
    },
    "papermill": {
     "duration": 0.036398,
     "end_time": "2024-04-05T16:09:07.958663",
     "exception": false,
     "start_time": "2024-04-05T16:09:07.922265",
     "status": "completed"
    },
    "tags": []
   },
   "outputs": [
    {
     "data": {
      "text/plain": [
       "(441960, 7)"
      ]
     },
     "execution_count": 29,
     "metadata": {},
     "output_type": "execute_result"
    }
   ],
   "source": [
    "train.shape"
   ]
  },
  {
   "cell_type": "code",
   "execution_count": 30,
   "id": "da3ca690",
   "metadata": {
    "execution": {
     "iopub.execute_input": "2024-04-05T16:09:08.009204Z",
     "iopub.status.busy": "2024-04-05T16:09:08.008783Z",
     "iopub.status.idle": "2024-04-05T16:09:08.030503Z",
     "shell.execute_reply": "2024-04-05T16:09:08.029370Z"
    },
    "papermill": {
     "duration": 0.049717,
     "end_time": "2024-04-05T16:09:08.032749",
     "exception": false,
     "start_time": "2024-04-05T16:09:07.983032",
     "status": "completed"
    },
    "tags": []
   },
   "outputs": [
    {
     "data": {
      "text/plain": [
       "((441960, 7), (110490, 7))"
      ]
     },
     "execution_count": 30,
     "metadata": {},
     "output_type": "execute_result"
    }
   ],
   "source": [
    "# Dropping the missing values\n",
    "trian = train.dropna()\n",
    "val = val.dropna()\n",
    "\n",
    "train.shape, val.shape"
   ]
  },
  {
   "cell_type": "markdown",
   "id": "82e12627",
   "metadata": {
    "papermill": {
     "duration": 0.024113,
     "end_time": "2024-04-05T16:09:08.081643",
     "exception": false,
     "start_time": "2024-04-05T16:09:08.057530",
     "status": "completed"
    },
    "tags": []
   },
   "source": [
    "Sepraing the inputs and output cols"
   ]
  },
  {
   "cell_type": "code",
   "execution_count": 31,
   "id": "afed241f",
   "metadata": {
    "execution": {
     "iopub.execute_input": "2024-04-05T16:09:08.132172Z",
     "iopub.status.busy": "2024-04-05T16:09:08.131728Z",
     "iopub.status.idle": "2024-04-05T16:09:08.139185Z",
     "shell.execute_reply": "2024-04-05T16:09:08.137998Z"
    },
    "papermill": {
     "duration": 0.035463,
     "end_time": "2024-04-05T16:09:08.141372",
     "exception": false,
     "start_time": "2024-04-05T16:09:08.105909",
     "status": "completed"
    },
    "tags": []
   },
   "outputs": [
    {
     "data": {
      "text/plain": [
       "Index(['fare_amount', 'pickup_datetime', 'pickup_longitude', 'pickup_latitude',\n",
       "       'dropoff_longitude', 'dropoff_latitude', 'passenger_count'],\n",
       "      dtype='object')"
      ]
     },
     "execution_count": 31,
     "metadata": {},
     "output_type": "execute_result"
    }
   ],
   "source": [
    "train.columns"
   ]
  },
  {
   "cell_type": "markdown",
   "id": "33ce0929",
   "metadata": {
    "papermill": {
     "duration": 0.024156,
     "end_time": "2024-04-05T16:09:08.189903",
     "exception": false,
     "start_time": "2024-04-05T16:09:08.165747",
     "status": "completed"
    },
    "tags": []
   },
   "source": [
    "We can't Train a a model on date time column we need to convert the date time to multiple columns by extraicting the values"
   ]
  },
  {
   "cell_type": "code",
   "execution_count": 32,
   "id": "2ee73483",
   "metadata": {
    "execution": {
     "iopub.execute_input": "2024-04-05T16:09:08.242049Z",
     "iopub.status.busy": "2024-04-05T16:09:08.241581Z",
     "iopub.status.idle": "2024-04-05T16:09:08.247216Z",
     "shell.execute_reply": "2024-04-05T16:09:08.246166Z"
    },
    "papermill": {
     "duration": 0.034316,
     "end_time": "2024-04-05T16:09:08.249445",
     "exception": false,
     "start_time": "2024-04-05T16:09:08.215129",
     "status": "completed"
    },
    "tags": []
   },
   "outputs": [],
   "source": [
    "input_col = ['pickup_longitude', 'pickup_latitude', 'dropoff_longitude', 'dropoff_latitude', 'passenger_count']\n",
    "tar_col = 'fare_amount'"
   ]
  },
  {
   "cell_type": "code",
   "execution_count": 33,
   "id": "e9de4101",
   "metadata": {
    "execution": {
     "iopub.execute_input": "2024-04-05T16:09:08.300268Z",
     "iopub.status.busy": "2024-04-05T16:09:08.299851Z",
     "iopub.status.idle": "2024-04-05T16:09:08.320724Z",
     "shell.execute_reply": "2024-04-05T16:09:08.319530Z"
    },
    "papermill": {
     "duration": 0.04908,
     "end_time": "2024-04-05T16:09:08.323056",
     "exception": false,
     "start_time": "2024-04-05T16:09:08.273976",
     "status": "completed"
    },
    "tags": []
   },
   "outputs": [
    {
     "data": {
      "text/plain": [
       "((441960, 5), (110490,))"
      ]
     },
     "execution_count": 33,
     "metadata": {},
     "output_type": "execute_result"
    }
   ],
   "source": [
    "x_train = train[input_col].copy()\n",
    "y_train = train[tar_col].copy()\n",
    "\n",
    "x_val = val[input_col].copy()\n",
    "y_val = val[tar_col].copy()\n",
    "\n",
    "x_train.shape, y_val.shape"
   ]
  },
  {
   "cell_type": "markdown",
   "id": "358ec7e1",
   "metadata": {
    "papermill": {
     "duration": 0.024261,
     "end_time": "2024-04-05T16:09:08.372420",
     "exception": false,
     "start_time": "2024-04-05T16:09:08.348159",
     "status": "completed"
    },
    "tags": []
   },
   "source": [
    "## Hardcoded and baseline Models\n",
    "\n",
    "Making some of the very simple models which produce very dumb results and compare the models to the This to know the status\n",
    "and perfoming efficieny of the modle"
   ]
  },
  {
   "cell_type": "code",
   "execution_count": 34,
   "id": "617659ec",
   "metadata": {
    "execution": {
     "iopub.execute_input": "2024-04-05T16:09:08.425227Z",
     "iopub.status.busy": "2024-04-05T16:09:08.424468Z",
     "iopub.status.idle": "2024-04-05T16:09:08.430891Z",
     "shell.execute_reply": "2024-04-05T16:09:08.429464Z"
    },
    "papermill": {
     "duration": 0.03593,
     "end_time": "2024-04-05T16:09:08.432940",
     "exception": false,
     "start_time": "2024-04-05T16:09:08.397010",
     "status": "completed"
    },
    "tags": []
   },
   "outputs": [],
   "source": [
    "# Using Classes to make it similar to the SK-learn models\n",
    "\n",
    "class MeanRegressor:\n",
    "    def fit(self, inputs, targets):\n",
    "        self.mean = targets.mean()\n",
    "        return self\n",
    "    \n",
    "    def predict(self, inputs):\n",
    "        return np.full(inputs.shape[0], self.mean)\n",
    "    "
   ]
  },
  {
   "cell_type": "code",
   "execution_count": 35,
   "id": "1bb43cc3",
   "metadata": {
    "execution": {
     "iopub.execute_input": "2024-04-05T16:09:08.484180Z",
     "iopub.status.busy": "2024-04-05T16:09:08.483742Z",
     "iopub.status.idle": "2024-04-05T16:09:08.489550Z",
     "shell.execute_reply": "2024-04-05T16:09:08.488590Z"
    },
    "papermill": {
     "duration": 0.034141,
     "end_time": "2024-04-05T16:09:08.491787",
     "exception": false,
     "start_time": "2024-04-05T16:09:08.457646",
     "status": "completed"
    },
    "tags": []
   },
   "outputs": [],
   "source": [
    "model = MeanRegressor().fit(x_train, y_train)"
   ]
  },
  {
   "cell_type": "code",
   "execution_count": 36,
   "id": "28e34e5a",
   "metadata": {
    "execution": {
     "iopub.execute_input": "2024-04-05T16:09:08.544130Z",
     "iopub.status.busy": "2024-04-05T16:09:08.543687Z",
     "iopub.status.idle": "2024-04-05T16:09:08.550902Z",
     "shell.execute_reply": "2024-04-05T16:09:08.549779Z"
    },
    "papermill": {
     "duration": 0.035629,
     "end_time": "2024-04-05T16:09:08.553130",
     "exception": false,
     "start_time": "2024-04-05T16:09:08.517501",
     "status": "completed"
    },
    "tags": []
   },
   "outputs": [
    {
     "data": {
      "text/plain": [
       "11.351758"
      ]
     },
     "execution_count": 36,
     "metadata": {},
     "output_type": "execute_result"
    }
   ],
   "source": [
    "model.mean"
   ]
  },
  {
   "cell_type": "code",
   "execution_count": 37,
   "id": "722f56da",
   "metadata": {
    "execution": {
     "iopub.execute_input": "2024-04-05T16:09:08.604520Z",
     "iopub.status.busy": "2024-04-05T16:09:08.604113Z",
     "iopub.status.idle": "2024-04-05T16:09:08.609725Z",
     "shell.execute_reply": "2024-04-05T16:09:08.608605Z"
    },
    "papermill": {
     "duration": 0.034127,
     "end_time": "2024-04-05T16:09:08.611741",
     "exception": false,
     "start_time": "2024-04-05T16:09:08.577614",
     "status": "completed"
    },
    "tags": []
   },
   "outputs": [],
   "source": [
    "train_pre = model.predict(x_train)"
   ]
  },
  {
   "cell_type": "markdown",
   "id": "99a8b4fb",
   "metadata": {
    "papermill": {
     "duration": 0.024505,
     "end_time": "2024-04-05T16:09:08.660916",
     "exception": false,
     "start_time": "2024-04-05T16:09:08.636411",
     "status": "completed"
    },
    "tags": []
   },
   "source": [
    "### Evaluating \n",
    "using RMSE for the evaluating the error"
   ]
  },
  {
   "cell_type": "code",
   "execution_count": 38,
   "id": "d06f8446",
   "metadata": {
    "execution": {
     "iopub.execute_input": "2024-04-05T16:09:08.713623Z",
     "iopub.status.busy": "2024-04-05T16:09:08.712391Z",
     "iopub.status.idle": "2024-04-05T16:09:08.718255Z",
     "shell.execute_reply": "2024-04-05T16:09:08.717178Z"
    },
    "papermill": {
     "duration": 0.034673,
     "end_time": "2024-04-05T16:09:08.720742",
     "exception": false,
     "start_time": "2024-04-05T16:09:08.686069",
     "status": "completed"
    },
    "tags": []
   },
   "outputs": [],
   "source": [
    "from sklearn.metrics import mean_squared_error\n",
    "\n",
    "def rmse(inp, tar):\n",
    "    return mean_squared_error(inp, tar, squared=False)"
   ]
  },
  {
   "cell_type": "code",
   "execution_count": 39,
   "id": "2e2ed2be",
   "metadata": {
    "execution": {
     "iopub.execute_input": "2024-04-05T16:09:08.773544Z",
     "iopub.status.busy": "2024-04-05T16:09:08.772969Z",
     "iopub.status.idle": "2024-04-05T16:09:08.782060Z",
     "shell.execute_reply": "2024-04-05T16:09:08.780911Z"
    },
    "papermill": {
     "duration": 0.03841,
     "end_time": "2024-04-05T16:09:08.784478",
     "exception": false,
     "start_time": "2024-04-05T16:09:08.746068",
     "status": "completed"
    },
    "tags": []
   },
   "outputs": [
    {
     "data": {
      "text/plain": [
       "9.809799"
      ]
     },
     "execution_count": 39,
     "metadata": {},
     "output_type": "execute_result"
    }
   ],
   "source": [
    "train_rmse = rmse(train_pre, y_train)\n",
    "train_rmse"
   ]
  },
  {
   "cell_type": "markdown",
   "id": "7c61508e",
   "metadata": {
    "papermill": {
     "duration": 0.024606,
     "end_time": "2024-04-05T16:09:08.834015",
     "exception": false,
     "start_time": "2024-04-05T16:09:08.809409",
     "status": "completed"
    },
    "tags": []
   },
   "source": [
    "A very high error in predicting the rate"
   ]
  },
  {
   "cell_type": "code",
   "execution_count": 40,
   "id": "4b9f503b",
   "metadata": {
    "execution": {
     "iopub.execute_input": "2024-04-05T16:09:08.886526Z",
     "iopub.status.busy": "2024-04-05T16:09:08.886059Z",
     "iopub.status.idle": "2024-04-05T16:09:08.895274Z",
     "shell.execute_reply": "2024-04-05T16:09:08.894143Z"
    },
    "papermill": {
     "duration": 0.038093,
     "end_time": "2024-04-05T16:09:08.897624",
     "exception": false,
     "start_time": "2024-04-05T16:09:08.859531",
     "status": "completed"
    },
    "tags": []
   },
   "outputs": [
    {
     "data": {
      "text/plain": [
       "9.820382"
      ]
     },
     "execution_count": 40,
     "metadata": {},
     "output_type": "execute_result"
    }
   ],
   "source": [
    "val_rmse = rmse(model.predict(x_val), y_val)\n",
    "val_rmse"
   ]
  },
  {
   "cell_type": "markdown",
   "id": "923db77f",
   "metadata": {
    "papermill": {
     "duration": 0.025148,
     "end_time": "2024-04-05T16:09:08.948357",
     "exception": false,
     "start_time": "2024-04-05T16:09:08.923209",
     "status": "completed"
    },
    "tags": []
   },
   "source": [
    "### Train and Evaluate Base line Models"
   ]
  },
  {
   "cell_type": "code",
   "execution_count": 41,
   "id": "0ed393f6",
   "metadata": {
    "execution": {
     "iopub.execute_input": "2024-04-05T16:09:09.001501Z",
     "iopub.status.busy": "2024-04-05T16:09:09.001034Z",
     "iopub.status.idle": "2024-04-05T16:09:09.115357Z",
     "shell.execute_reply": "2024-04-05T16:09:09.114143Z"
    },
    "papermill": {
     "duration": 0.144398,
     "end_time": "2024-04-05T16:09:09.118450",
     "exception": false,
     "start_time": "2024-04-05T16:09:08.974052",
     "status": "completed"
    },
    "tags": []
   },
   "outputs": [],
   "source": [
    "from sklearn.linear_model import LinearRegression"
   ]
  },
  {
   "cell_type": "code",
   "execution_count": 42,
   "id": "f408343d",
   "metadata": {
    "execution": {
     "iopub.execute_input": "2024-04-05T16:09:09.173314Z",
     "iopub.status.busy": "2024-04-05T16:09:09.172542Z",
     "iopub.status.idle": "2024-04-05T16:09:09.283325Z",
     "shell.execute_reply": "2024-04-05T16:09:09.282280Z"
    },
    "papermill": {
     "duration": 0.14025,
     "end_time": "2024-04-05T16:09:09.285880",
     "exception": false,
     "start_time": "2024-04-05T16:09:09.145630",
     "status": "completed"
    },
    "tags": []
   },
   "outputs": [],
   "source": [
    "model = LinearRegression().fit(x_train, y_train)"
   ]
  },
  {
   "cell_type": "code",
   "execution_count": 43,
   "id": "b6eaad87",
   "metadata": {
    "execution": {
     "iopub.execute_input": "2024-04-05T16:09:09.340931Z",
     "iopub.status.busy": "2024-04-05T16:09:09.340008Z",
     "iopub.status.idle": "2024-04-05T16:09:09.357224Z",
     "shell.execute_reply": "2024-04-05T16:09:09.355844Z"
    },
    "papermill": {
     "duration": 0.04805,
     "end_time": "2024-04-05T16:09:09.360519",
     "exception": false,
     "start_time": "2024-04-05T16:09:09.312469",
     "status": "completed"
    },
    "tags": []
   },
   "outputs": [
    {
     "data": {
      "text/plain": [
       "array([11.27413 , 11.274368, 11.654195, ..., 11.274407, 11.654392,\n",
       "       11.654364], dtype=float32)"
      ]
     },
     "execution_count": 43,
     "metadata": {},
     "output_type": "execute_result"
    }
   ],
   "source": [
    "train_pre = model.predict(x_train)\n",
    "train_pre"
   ]
  },
  {
   "cell_type": "code",
   "execution_count": 44,
   "id": "a3450d59",
   "metadata": {
    "execution": {
     "iopub.execute_input": "2024-04-05T16:09:09.453894Z",
     "iopub.status.busy": "2024-04-05T16:09:09.453224Z",
     "iopub.status.idle": "2024-04-05T16:09:09.467139Z",
     "shell.execute_reply": "2024-04-05T16:09:09.465956Z"
    },
    "papermill": {
     "duration": 0.066264,
     "end_time": "2024-04-05T16:09:09.470193",
     "exception": false,
     "start_time": "2024-04-05T16:09:09.403929",
     "status": "completed"
    },
    "tags": []
   },
   "outputs": [
    {
     "data": {
      "text/plain": [
       "9.808442"
      ]
     },
     "execution_count": 44,
     "metadata": {},
     "output_type": "execute_result"
    }
   ],
   "source": [
    "train_rmse = rmse(train_pre, y_train)\n",
    "train_rmse"
   ]
  },
  {
   "cell_type": "code",
   "execution_count": 45,
   "id": "1017a9ac",
   "metadata": {
    "execution": {
     "iopub.execute_input": "2024-04-05T16:09:09.526015Z",
     "iopub.status.busy": "2024-04-05T16:09:09.525219Z",
     "iopub.status.idle": "2024-04-05T16:09:09.532804Z",
     "shell.execute_reply": "2024-04-05T16:09:09.531423Z"
    },
    "papermill": {
     "duration": 0.037934,
     "end_time": "2024-04-05T16:09:09.535064",
     "exception": false,
     "start_time": "2024-04-05T16:09:09.497130",
     "status": "completed"
    },
    "tags": []
   },
   "outputs": [
    {
     "data": {
      "text/plain": [
       "array([ 0.00041984, -0.00824938,  0.00203213, -0.00225181,  0.09508976],\n",
       "      dtype=float32)"
      ]
     },
     "execution_count": 45,
     "metadata": {},
     "output_type": "execute_result"
    }
   ],
   "source": [
    "model.coef_"
   ]
  },
  {
   "cell_type": "code",
   "execution_count": 46,
   "id": "074000ba",
   "metadata": {
    "execution": {
     "iopub.execute_input": "2024-04-05T16:09:09.588489Z",
     "iopub.status.busy": "2024-04-05T16:09:09.587630Z",
     "iopub.status.idle": "2024-04-05T16:09:09.603573Z",
     "shell.execute_reply": "2024-04-05T16:09:09.602063Z"
    },
    "papermill": {
     "duration": 0.046298,
     "end_time": "2024-04-05T16:09:09.606750",
     "exception": false,
     "start_time": "2024-04-05T16:09:09.560452",
     "status": "completed"
    },
    "tags": []
   },
   "outputs": [
    {
     "data": {
      "text/plain": [
       "9.819258"
      ]
     },
     "execution_count": 46,
     "metadata": {},
     "output_type": "execute_result"
    }
   ],
   "source": [
    "val_pre = model.predict(x_val)\n",
    "val_rmse = rmse(val_pre, y_val)\n",
    "val_rmse"
   ]
  },
  {
   "cell_type": "markdown",
   "id": "b0793a23",
   "metadata": {
    "papermill": {
     "duration": 0.044877,
     "end_time": "2024-04-05T16:09:09.695807",
     "exception": false,
     "start_time": "2024-04-05T16:09:09.650930",
     "status": "completed"
    },
    "tags": []
   },
   "source": [
    "Not at all a good model -> almost equal to the hardcoded model\n",
    "\n",
    "The main reason for this is Taining data have geo-coordinates, which is not in a format useful for the model and we are not using the one of the most imp column : pickup date and time"
   ]
  },
  {
   "cell_type": "code",
   "execution_count": 47,
   "id": "f9730cf4",
   "metadata": {
    "execution": {
     "iopub.execute_input": "2024-04-05T16:09:09.762403Z",
     "iopub.status.busy": "2024-04-05T16:09:09.761061Z",
     "iopub.status.idle": "2024-04-05T16:09:09.779013Z",
     "shell.execute_reply": "2024-04-05T16:09:09.778087Z"
    },
    "papermill": {
     "duration": 0.047992,
     "end_time": "2024-04-05T16:09:09.781072",
     "exception": false,
     "start_time": "2024-04-05T16:09:09.733080",
     "status": "completed"
    },
    "tags": []
   },
   "outputs": [
    {
     "data": {
      "text/html": [
       "<div>\n",
       "<style scoped>\n",
       "    .dataframe tbody tr th:only-of-type {\n",
       "        vertical-align: middle;\n",
       "    }\n",
       "\n",
       "    .dataframe tbody tr th {\n",
       "        vertical-align: top;\n",
       "    }\n",
       "\n",
       "    .dataframe thead th {\n",
       "        text-align: right;\n",
       "    }\n",
       "</style>\n",
       "<table border=\"1\" class=\"dataframe\">\n",
       "  <thead>\n",
       "    <tr style=\"text-align: right;\">\n",
       "      <th></th>\n",
       "      <th>key</th>\n",
       "      <th>pickup_datetime</th>\n",
       "      <th>pickup_longitude</th>\n",
       "      <th>pickup_latitude</th>\n",
       "      <th>dropoff_longitude</th>\n",
       "      <th>dropoff_latitude</th>\n",
       "      <th>passenger_count</th>\n",
       "    </tr>\n",
       "  </thead>\n",
       "  <tbody>\n",
       "    <tr>\n",
       "      <th>0</th>\n",
       "      <td>2015-01-27 13:08:24.0000002</td>\n",
       "      <td>2015-01-27 13:08:24+00:00</td>\n",
       "      <td>-73.973320</td>\n",
       "      <td>40.763805</td>\n",
       "      <td>-73.981430</td>\n",
       "      <td>40.743835</td>\n",
       "      <td>1</td>\n",
       "    </tr>\n",
       "    <tr>\n",
       "      <th>1</th>\n",
       "      <td>2015-01-27 13:08:24.0000003</td>\n",
       "      <td>2015-01-27 13:08:24+00:00</td>\n",
       "      <td>-73.986862</td>\n",
       "      <td>40.719383</td>\n",
       "      <td>-73.998886</td>\n",
       "      <td>40.739201</td>\n",
       "      <td>1</td>\n",
       "    </tr>\n",
       "    <tr>\n",
       "      <th>2</th>\n",
       "      <td>2011-10-08 11:53:44.0000002</td>\n",
       "      <td>2011-10-08 11:53:44+00:00</td>\n",
       "      <td>-73.982521</td>\n",
       "      <td>40.751259</td>\n",
       "      <td>-73.979652</td>\n",
       "      <td>40.746140</td>\n",
       "      <td>1</td>\n",
       "    </tr>\n",
       "    <tr>\n",
       "      <th>3</th>\n",
       "      <td>2012-12-01 21:12:12.0000002</td>\n",
       "      <td>2012-12-01 21:12:12+00:00</td>\n",
       "      <td>-73.981163</td>\n",
       "      <td>40.767807</td>\n",
       "      <td>-73.990448</td>\n",
       "      <td>40.751637</td>\n",
       "      <td>1</td>\n",
       "    </tr>\n",
       "    <tr>\n",
       "      <th>4</th>\n",
       "      <td>2012-12-01 21:12:12.0000003</td>\n",
       "      <td>2012-12-01 21:12:12+00:00</td>\n",
       "      <td>-73.966049</td>\n",
       "      <td>40.789776</td>\n",
       "      <td>-73.988564</td>\n",
       "      <td>40.744427</td>\n",
       "      <td>1</td>\n",
       "    </tr>\n",
       "    <tr>\n",
       "      <th>...</th>\n",
       "      <td>...</td>\n",
       "      <td>...</td>\n",
       "      <td>...</td>\n",
       "      <td>...</td>\n",
       "      <td>...</td>\n",
       "      <td>...</td>\n",
       "      <td>...</td>\n",
       "    </tr>\n",
       "    <tr>\n",
       "      <th>9909</th>\n",
       "      <td>2015-05-10 12:37:51.0000002</td>\n",
       "      <td>2015-05-10 12:37:51+00:00</td>\n",
       "      <td>-73.968124</td>\n",
       "      <td>40.796997</td>\n",
       "      <td>-73.955643</td>\n",
       "      <td>40.780388</td>\n",
       "      <td>6</td>\n",
       "    </tr>\n",
       "    <tr>\n",
       "      <th>9910</th>\n",
       "      <td>2015-01-12 17:05:51.0000001</td>\n",
       "      <td>2015-01-12 17:05:51+00:00</td>\n",
       "      <td>-73.945511</td>\n",
       "      <td>40.803600</td>\n",
       "      <td>-73.960213</td>\n",
       "      <td>40.776371</td>\n",
       "      <td>6</td>\n",
       "    </tr>\n",
       "    <tr>\n",
       "      <th>9911</th>\n",
       "      <td>2015-04-19 20:44:15.0000001</td>\n",
       "      <td>2015-04-19 20:44:15+00:00</td>\n",
       "      <td>-73.991600</td>\n",
       "      <td>40.726608</td>\n",
       "      <td>-73.789742</td>\n",
       "      <td>40.647011</td>\n",
       "      <td>6</td>\n",
       "    </tr>\n",
       "    <tr>\n",
       "      <th>9912</th>\n",
       "      <td>2015-01-31 01:05:19.0000005</td>\n",
       "      <td>2015-01-31 01:05:19+00:00</td>\n",
       "      <td>-73.985573</td>\n",
       "      <td>40.735432</td>\n",
       "      <td>-73.939178</td>\n",
       "      <td>40.801731</td>\n",
       "      <td>6</td>\n",
       "    </tr>\n",
       "    <tr>\n",
       "      <th>9913</th>\n",
       "      <td>2015-01-18 14:06:23.0000006</td>\n",
       "      <td>2015-01-18 14:06:23+00:00</td>\n",
       "      <td>-73.988022</td>\n",
       "      <td>40.754070</td>\n",
       "      <td>-74.000282</td>\n",
       "      <td>40.759220</td>\n",
       "      <td>6</td>\n",
       "    </tr>\n",
       "  </tbody>\n",
       "</table>\n",
       "<p>9914 rows × 7 columns</p>\n",
       "</div>"
      ],
      "text/plain": [
       "                              key           pickup_datetime  pickup_longitude  \\\n",
       "0     2015-01-27 13:08:24.0000002 2015-01-27 13:08:24+00:00        -73.973320   \n",
       "1     2015-01-27 13:08:24.0000003 2015-01-27 13:08:24+00:00        -73.986862   \n",
       "2     2011-10-08 11:53:44.0000002 2011-10-08 11:53:44+00:00        -73.982521   \n",
       "3     2012-12-01 21:12:12.0000002 2012-12-01 21:12:12+00:00        -73.981163   \n",
       "4     2012-12-01 21:12:12.0000003 2012-12-01 21:12:12+00:00        -73.966049   \n",
       "...                           ...                       ...               ...   \n",
       "9909  2015-05-10 12:37:51.0000002 2015-05-10 12:37:51+00:00        -73.968124   \n",
       "9910  2015-01-12 17:05:51.0000001 2015-01-12 17:05:51+00:00        -73.945511   \n",
       "9911  2015-04-19 20:44:15.0000001 2015-04-19 20:44:15+00:00        -73.991600   \n",
       "9912  2015-01-31 01:05:19.0000005 2015-01-31 01:05:19+00:00        -73.985573   \n",
       "9913  2015-01-18 14:06:23.0000006 2015-01-18 14:06:23+00:00        -73.988022   \n",
       "\n",
       "      pickup_latitude  dropoff_longitude  dropoff_latitude  passenger_count  \n",
       "0           40.763805         -73.981430         40.743835                1  \n",
       "1           40.719383         -73.998886         40.739201                1  \n",
       "2           40.751259         -73.979652         40.746140                1  \n",
       "3           40.767807         -73.990448         40.751637                1  \n",
       "4           40.789776         -73.988564         40.744427                1  \n",
       "...               ...                ...               ...              ...  \n",
       "9909        40.796997         -73.955643         40.780388                6  \n",
       "9910        40.803600         -73.960213         40.776371                6  \n",
       "9911        40.726608         -73.789742         40.647011                6  \n",
       "9912        40.735432         -73.939178         40.801731                6  \n",
       "9913        40.754070         -74.000282         40.759220                6  \n",
       "\n",
       "[9914 rows x 7 columns]"
      ]
     },
     "execution_count": 47,
     "metadata": {},
     "output_type": "execute_result"
    }
   ],
   "source": [
    "test_data"
   ]
  },
  {
   "cell_type": "code",
   "execution_count": 48,
   "id": "ad77136f",
   "metadata": {
    "execution": {
     "iopub.execute_input": "2024-04-05T16:09:09.836727Z",
     "iopub.status.busy": "2024-04-05T16:09:09.835871Z",
     "iopub.status.idle": "2024-04-05T16:09:09.864727Z",
     "shell.execute_reply": "2024-04-05T16:09:09.863555Z"
    },
    "papermill": {
     "duration": 0.05943,
     "end_time": "2024-04-05T16:09:09.867006",
     "exception": false,
     "start_time": "2024-04-05T16:09:09.807576",
     "status": "completed"
    },
    "tags": []
   },
   "outputs": [
    {
     "data": {
      "text/html": [
       "<div>\n",
       "<style scoped>\n",
       "    .dataframe tbody tr th:only-of-type {\n",
       "        vertical-align: middle;\n",
       "    }\n",
       "\n",
       "    .dataframe tbody tr th {\n",
       "        vertical-align: top;\n",
       "    }\n",
       "\n",
       "    .dataframe thead th {\n",
       "        text-align: right;\n",
       "    }\n",
       "</style>\n",
       "<table border=\"1\" class=\"dataframe\">\n",
       "  <thead>\n",
       "    <tr style=\"text-align: right;\">\n",
       "      <th></th>\n",
       "      <th>key</th>\n",
       "      <th>fare_amount</th>\n",
       "    </tr>\n",
       "  </thead>\n",
       "  <tbody>\n",
       "    <tr>\n",
       "      <th>0</th>\n",
       "      <td>2015-01-27 13:08:24.0000002</td>\n",
       "      <td>11.35</td>\n",
       "    </tr>\n",
       "    <tr>\n",
       "      <th>1</th>\n",
       "      <td>2015-01-27 13:08:24.0000003</td>\n",
       "      <td>11.35</td>\n",
       "    </tr>\n",
       "    <tr>\n",
       "      <th>2</th>\n",
       "      <td>2011-10-08 11:53:44.0000002</td>\n",
       "      <td>11.35</td>\n",
       "    </tr>\n",
       "    <tr>\n",
       "      <th>3</th>\n",
       "      <td>2012-12-01 21:12:12.0000002</td>\n",
       "      <td>11.35</td>\n",
       "    </tr>\n",
       "    <tr>\n",
       "      <th>4</th>\n",
       "      <td>2012-12-01 21:12:12.0000003</td>\n",
       "      <td>11.35</td>\n",
       "    </tr>\n",
       "  </tbody>\n",
       "</table>\n",
       "</div>"
      ],
      "text/plain": [
       "                           key  fare_amount\n",
       "0  2015-01-27 13:08:24.0000002        11.35\n",
       "1  2015-01-27 13:08:24.0000003        11.35\n",
       "2  2011-10-08 11:53:44.0000002        11.35\n",
       "3  2012-12-01 21:12:12.0000002        11.35\n",
       "4  2012-12-01 21:12:12.0000003        11.35"
      ]
     },
     "execution_count": 48,
     "metadata": {},
     "output_type": "execute_result"
    }
   ],
   "source": [
    "sub_df = pd.read_csv(data_dir + '/sample_submission.csv')\n",
    "sub_df.head()"
   ]
  },
  {
   "cell_type": "code",
   "execution_count": 49,
   "id": "768d67d4",
   "metadata": {
    "execution": {
     "iopub.execute_input": "2024-04-05T16:09:09.939716Z",
     "iopub.status.busy": "2024-04-05T16:09:09.939153Z",
     "iopub.status.idle": "2024-04-05T16:09:09.946135Z",
     "shell.execute_reply": "2024-04-05T16:09:09.944917Z"
    },
    "papermill": {
     "duration": 0.048887,
     "end_time": "2024-04-05T16:09:09.949228",
     "exception": false,
     "start_time": "2024-04-05T16:09:09.900341",
     "status": "completed"
    },
    "tags": []
   },
   "outputs": [],
   "source": [
    "def submission(model, test_data, filename):\n",
    "    pre_test = model.predict(test_data)\n",
    "    print(pre_test)\n",
    "    sub_df.fare_amount = pre_test\n",
    "    sub_df.to_csv(filename, index = None)\n",
    "    print(sub_df)"
   ]
  },
  {
   "cell_type": "code",
   "execution_count": 50,
   "id": "38c7a4a5",
   "metadata": {
    "execution": {
     "iopub.execute_input": "2024-04-05T16:09:10.008252Z",
     "iopub.status.busy": "2024-04-05T16:09:10.007788Z",
     "iopub.status.idle": "2024-04-05T16:09:10.072989Z",
     "shell.execute_reply": "2024-04-05T16:09:10.071660Z"
    },
    "papermill": {
     "duration": 0.096391,
     "end_time": "2024-04-05T16:09:10.076416",
     "exception": false,
     "start_time": "2024-04-05T16:09:09.980025",
     "status": "completed"
    },
    "tags": []
   },
   "outputs": [
    {
     "name": "stdout",
     "output_type": "stream",
     "text": [
      "[11.274001 11.274337 11.274099 ... 11.750357 11.749635 11.749452]\n",
      "                              key  fare_amount\n",
      "0     2015-01-27 13:08:24.0000002    11.274001\n",
      "1     2015-01-27 13:08:24.0000003    11.274337\n",
      "2     2011-10-08 11:53:44.0000002    11.274099\n",
      "3     2012-12-01 21:12:12.0000002    11.273930\n",
      "4     2012-12-01 21:12:12.0000003    11.273774\n",
      "...                           ...          ...\n",
      "9909  2015-05-10 12:37:51.0000002    11.749148\n",
      "9910  2015-01-12 17:05:51.0000001    11.749104\n",
      "9911  2015-04-19 20:44:15.0000001    11.750357\n",
      "9912  2015-01-31 01:05:19.0000005    11.749635\n",
      "9913  2015-01-18 14:06:23.0000006    11.749452\n",
      "\n",
      "[9914 rows x 2 columns]\n"
     ]
    }
   ],
   "source": [
    "submission(model, test_data[input_col], \"LinReg_predection.csv\")"
   ]
  },
  {
   "cell_type": "markdown",
   "id": "3586544e",
   "metadata": {
    "papermill": {
     "duration": 0.03173,
     "end_time": "2024-04-05T16:09:10.153431",
     "exception": false,
     "start_time": "2024-04-05T16:09:10.121701",
     "status": "completed"
    },
    "tags": []
   },
   "source": [
    "#### Removing the outliares\n",
    "\n",
    "- fare_amount : 1 to 500\n",
    "- long : -75 to -72\n",
    "- lat : 40 to 42\n",
    "- passenger : 1 to 6"
   ]
  },
  {
   "cell_type": "code",
   "execution_count": 51,
   "id": "188d7efc",
   "metadata": {
    "execution": {
     "iopub.execute_input": "2024-04-05T16:09:10.208071Z",
     "iopub.status.busy": "2024-04-05T16:09:10.207632Z",
     "iopub.status.idle": "2024-04-05T16:09:10.214550Z",
     "shell.execute_reply": "2024-04-05T16:09:10.213745Z"
    },
    "papermill": {
     "duration": 0.03682,
     "end_time": "2024-04-05T16:09:10.216624",
     "exception": false,
     "start_time": "2024-04-05T16:09:10.179804",
     "status": "completed"
    },
    "tags": []
   },
   "outputs": [
    {
     "data": {
      "text/plain": [
       "Index(['fare_amount', 'pickup_datetime', 'pickup_longitude', 'pickup_latitude',\n",
       "       'dropoff_longitude', 'dropoff_latitude', 'passenger_count'],\n",
       "      dtype='object')"
      ]
     },
     "execution_count": 51,
     "metadata": {},
     "output_type": "execute_result"
    }
   ],
   "source": [
    "train.columns"
   ]
  },
  {
   "cell_type": "code",
   "execution_count": 52,
   "id": "55d0170e",
   "metadata": {
    "execution": {
     "iopub.execute_input": "2024-04-05T16:09:10.276814Z",
     "iopub.status.busy": "2024-04-05T16:09:10.275338Z",
     "iopub.status.idle": "2024-04-05T16:09:10.285155Z",
     "shell.execute_reply": "2024-04-05T16:09:10.283651Z"
    },
    "papermill": {
     "duration": 0.043541,
     "end_time": "2024-04-05T16:09:10.288150",
     "exception": false,
     "start_time": "2024-04-05T16:09:10.244609",
     "status": "completed"
    },
    "tags": []
   },
   "outputs": [
    {
     "data": {
      "text/plain": [
       "((441960, 7), (110490, 7), (9914, 7))"
      ]
     },
     "execution_count": 52,
     "metadata": {},
     "output_type": "execute_result"
    }
   ],
   "source": [
    "train.shape, val.shape, test_data.shape"
   ]
  },
  {
   "cell_type": "code",
   "execution_count": 53,
   "id": "4a927703",
   "metadata": {
    "execution": {
     "iopub.execute_input": "2024-04-05T16:09:10.349403Z",
     "iopub.status.busy": "2024-04-05T16:09:10.348403Z",
     "iopub.status.idle": "2024-04-05T16:09:10.357236Z",
     "shell.execute_reply": "2024-04-05T16:09:10.356021Z"
    },
    "papermill": {
     "duration": 0.040328,
     "end_time": "2024-04-05T16:09:10.359865",
     "exception": false,
     "start_time": "2024-04-05T16:09:10.319537",
     "status": "completed"
    },
    "tags": []
   },
   "outputs": [],
   "source": [
    "def remove_out(df):\n",
    "    return df[(df['fare_amount'] >= 1.) & \n",
    "              (df['fare_amount'] <= 500.) &\n",
    "              (df['pickup_longitude'] >= -75) & \n",
    "              (df['pickup_longitude'] <= -72) & \n",
    "              (df['dropoff_longitude'] >= -75) & \n",
    "              (df['dropoff_longitude'] <= -72) & \n",
    "              (df['pickup_latitude'] >= 40) & \n",
    "              (df['pickup_latitude'] <= 42) & \n",
    "              (df['dropoff_latitude'] >=40) & \n",
    "              (df['dropoff_latitude'] <= 42) & \n",
    "              (df['passenger_count'] >= 1) & \n",
    "              (df['passenger_count'] <= 6)]"
   ]
  },
  {
   "cell_type": "code",
   "execution_count": 54,
   "id": "a8af20ee",
   "metadata": {
    "execution": {
     "iopub.execute_input": "2024-04-05T16:09:10.423673Z",
     "iopub.status.busy": "2024-04-05T16:09:10.422585Z",
     "iopub.status.idle": "2024-04-05T16:09:10.460674Z",
     "shell.execute_reply": "2024-04-05T16:09:10.459372Z"
    },
    "papermill": {
     "duration": 0.070587,
     "end_time": "2024-04-05T16:09:10.463836",
     "exception": false,
     "start_time": "2024-04-05T16:09:10.393249",
     "status": "completed"
    },
    "tags": []
   },
   "outputs": [
    {
     "data": {
      "text/plain": [
       "((430990, 7), (107850, 7), (9914, 7))"
      ]
     },
     "execution_count": 54,
     "metadata": {},
     "output_type": "execute_result"
    }
   ],
   "source": [
    "train = remove_out(train)\n",
    "val = remove_out(val)\n",
    "\n",
    "train.shape, val.shape, test_data.shape"
   ]
  },
  {
   "cell_type": "markdown",
   "id": "ee7617ba",
   "metadata": {
    "papermill": {
     "duration": 0.036147,
     "end_time": "2024-04-05T16:09:10.532066",
     "exception": false,
     "start_time": "2024-04-05T16:09:10.495919",
     "status": "completed"
    },
    "tags": []
   },
   "source": [
    "### Feature Engineering\n",
    "\n",
    "- Extract parts of date\n",
    "- Remove outliares\n",
    "- Add dist b/w Pickup and drop\n",
    "- Add dist from landmarks"
   ]
  },
  {
   "cell_type": "markdown",
   "id": "185a34eb",
   "metadata": {
    "papermill": {
     "duration": 0.027848,
     "end_time": "2024-04-05T16:09:10.596317",
     "exception": false,
     "start_time": "2024-04-05T16:09:10.568469",
     "status": "completed"
    },
    "tags": []
   },
   "source": [
    "#### Extracting parts form date"
   ]
  },
  {
   "cell_type": "code",
   "execution_count": 55,
   "id": "48330f5a",
   "metadata": {
    "execution": {
     "iopub.execute_input": "2024-04-05T16:09:10.653614Z",
     "iopub.status.busy": "2024-04-05T16:09:10.652633Z",
     "iopub.status.idle": "2024-04-05T16:09:10.660383Z",
     "shell.execute_reply": "2024-04-05T16:09:10.659062Z"
    },
    "papermill": {
     "duration": 0.039507,
     "end_time": "2024-04-05T16:09:10.663210",
     "exception": false,
     "start_time": "2024-04-05T16:09:10.623703",
     "status": "completed"
    },
    "tags": []
   },
   "outputs": [],
   "source": [
    "def add_date_parts (df, col) :\n",
    "    df[col + '_year'] = df[col].dt.year\n",
    "    df[col + '_month'] = df[col].dt.month\n",
    "    df[col + '_day'] = df[col].dt.day\n",
    "    df[col + '_weekday'] = df[col].dt.weekday\n",
    "    df[col + '_hour'] = df[col].dt.hour"
   ]
  },
  {
   "cell_type": "code",
   "execution_count": 56,
   "id": "c305aa6b",
   "metadata": {
    "execution": {
     "iopub.execute_input": "2024-04-05T16:09:10.733800Z",
     "iopub.status.busy": "2024-04-05T16:09:10.733361Z",
     "iopub.status.idle": "2024-04-05T16:09:10.740618Z",
     "shell.execute_reply": "2024-04-05T16:09:10.739453Z"
    },
    "papermill": {
     "duration": 0.042306,
     "end_time": "2024-04-05T16:09:10.742747",
     "exception": false,
     "start_time": "2024-04-05T16:09:10.700441",
     "status": "completed"
    },
    "tags": []
   },
   "outputs": [
    {
     "data": {
      "text/plain": [
       "['pickup_longitude',\n",
       " 'pickup_latitude',\n",
       " 'dropoff_longitude',\n",
       " 'dropoff_latitude',\n",
       " 'passenger_count']"
      ]
     },
     "execution_count": 56,
     "metadata": {},
     "output_type": "execute_result"
    }
   ],
   "source": [
    "input_col"
   ]
  },
  {
   "cell_type": "code",
   "execution_count": 57,
   "id": "74bc77e5",
   "metadata": {
    "execution": {
     "iopub.execute_input": "2024-04-05T16:09:10.805138Z",
     "iopub.status.busy": "2024-04-05T16:09:10.804564Z",
     "iopub.status.idle": "2024-04-05T16:09:10.820302Z",
     "shell.execute_reply": "2024-04-05T16:09:10.819126Z"
    },
    "papermill": {
     "duration": 0.048432,
     "end_time": "2024-04-05T16:09:10.822415",
     "exception": false,
     "start_time": "2024-04-05T16:09:10.773983",
     "status": "completed"
    },
    "tags": []
   },
   "outputs": [
    {
     "data": {
      "text/html": [
       "<div>\n",
       "<style scoped>\n",
       "    .dataframe tbody tr th:only-of-type {\n",
       "        vertical-align: middle;\n",
       "    }\n",
       "\n",
       "    .dataframe tbody tr th {\n",
       "        vertical-align: top;\n",
       "    }\n",
       "\n",
       "    .dataframe thead th {\n",
       "        text-align: right;\n",
       "    }\n",
       "</style>\n",
       "<table border=\"1\" class=\"dataframe\">\n",
       "  <thead>\n",
       "    <tr style=\"text-align: right;\">\n",
       "      <th></th>\n",
       "      <th>fare_amount</th>\n",
       "      <th>pickup_datetime</th>\n",
       "      <th>pickup_longitude</th>\n",
       "      <th>pickup_latitude</th>\n",
       "      <th>dropoff_longitude</th>\n",
       "      <th>dropoff_latitude</th>\n",
       "      <th>passenger_count</th>\n",
       "    </tr>\n",
       "  </thead>\n",
       "  <tbody>\n",
       "    <tr>\n",
       "      <th>90475</th>\n",
       "      <td>8.100000</td>\n",
       "      <td>2009-11-21 01:29:00+00:00</td>\n",
       "      <td>-73.995415</td>\n",
       "      <td>40.745533</td>\n",
       "      <td>-73.969963</td>\n",
       "      <td>40.759899</td>\n",
       "      <td>1</td>\n",
       "    </tr>\n",
       "    <tr>\n",
       "      <th>320476</th>\n",
       "      <td>6.500000</td>\n",
       "      <td>2012-03-31 22:15:00+00:00</td>\n",
       "      <td>-73.996178</td>\n",
       "      <td>40.724167</td>\n",
       "      <td>-73.980553</td>\n",
       "      <td>40.722466</td>\n",
       "      <td>1</td>\n",
       "    </tr>\n",
       "    <tr>\n",
       "      <th>189863</th>\n",
       "      <td>23.299999</td>\n",
       "      <td>2009-10-31 22:04:00+00:00</td>\n",
       "      <td>-73.968178</td>\n",
       "      <td>40.786976</td>\n",
       "      <td>-73.996086</td>\n",
       "      <td>40.720158</td>\n",
       "      <td>5</td>\n",
       "    </tr>\n",
       "    <tr>\n",
       "      <th>25954</th>\n",
       "      <td>8.900000</td>\n",
       "      <td>2010-04-18 00:28:00+00:00</td>\n",
       "      <td>-73.982391</td>\n",
       "      <td>40.774143</td>\n",
       "      <td>-73.967094</td>\n",
       "      <td>40.806057</td>\n",
       "      <td>1</td>\n",
       "    </tr>\n",
       "    <tr>\n",
       "      <th>195808</th>\n",
       "      <td>7.000000</td>\n",
       "      <td>2015-01-08 10:03:13+00:00</td>\n",
       "      <td>-74.008781</td>\n",
       "      <td>40.714054</td>\n",
       "      <td>-73.997429</td>\n",
       "      <td>40.723392</td>\n",
       "      <td>1</td>\n",
       "    </tr>\n",
       "  </tbody>\n",
       "</table>\n",
       "</div>"
      ],
      "text/plain": [
       "        fare_amount           pickup_datetime  pickup_longitude  \\\n",
       "90475      8.100000 2009-11-21 01:29:00+00:00        -73.995415   \n",
       "320476     6.500000 2012-03-31 22:15:00+00:00        -73.996178   \n",
       "189863    23.299999 2009-10-31 22:04:00+00:00        -73.968178   \n",
       "25954      8.900000 2010-04-18 00:28:00+00:00        -73.982391   \n",
       "195808     7.000000 2015-01-08 10:03:13+00:00        -74.008781   \n",
       "\n",
       "        pickup_latitude  dropoff_longitude  dropoff_latitude  passenger_count  \n",
       "90475         40.745533         -73.969963         40.759899                1  \n",
       "320476        40.724167         -73.980553         40.722466                1  \n",
       "189863        40.786976         -73.996086         40.720158                5  \n",
       "25954         40.774143         -73.967094         40.806057                1  \n",
       "195808        40.714054         -73.997429         40.723392                1  "
      ]
     },
     "execution_count": 57,
     "metadata": {},
     "output_type": "execute_result"
    }
   ],
   "source": [
    "train.head()"
   ]
  },
  {
   "cell_type": "code",
   "execution_count": 58,
   "id": "1f40c328",
   "metadata": {
    "execution": {
     "iopub.execute_input": "2024-04-05T16:09:10.879586Z",
     "iopub.status.busy": "2024-04-05T16:09:10.879157Z",
     "iopub.status.idle": "2024-04-05T16:09:11.011743Z",
     "shell.execute_reply": "2024-04-05T16:09:11.010538Z"
    },
    "papermill": {
     "duration": 0.163954,
     "end_time": "2024-04-05T16:09:11.014281",
     "exception": false,
     "start_time": "2024-04-05T16:09:10.850327",
     "status": "completed"
    },
    "tags": []
   },
   "outputs": [
    {
     "data": {
      "text/html": [
       "<div>\n",
       "<style scoped>\n",
       "    .dataframe tbody tr th:only-of-type {\n",
       "        vertical-align: middle;\n",
       "    }\n",
       "\n",
       "    .dataframe tbody tr th {\n",
       "        vertical-align: top;\n",
       "    }\n",
       "\n",
       "    .dataframe thead th {\n",
       "        text-align: right;\n",
       "    }\n",
       "</style>\n",
       "<table border=\"1\" class=\"dataframe\">\n",
       "  <thead>\n",
       "    <tr style=\"text-align: right;\">\n",
       "      <th></th>\n",
       "      <th>fare_amount</th>\n",
       "      <th>pickup_datetime</th>\n",
       "      <th>pickup_longitude</th>\n",
       "      <th>pickup_latitude</th>\n",
       "      <th>dropoff_longitude</th>\n",
       "      <th>dropoff_latitude</th>\n",
       "      <th>passenger_count</th>\n",
       "      <th>pickup_datetime_year</th>\n",
       "      <th>pickup_datetime_month</th>\n",
       "      <th>pickup_datetime_day</th>\n",
       "      <th>pickup_datetime_weekday</th>\n",
       "      <th>pickup_datetime_hour</th>\n",
       "    </tr>\n",
       "  </thead>\n",
       "  <tbody>\n",
       "    <tr>\n",
       "      <th>90475</th>\n",
       "      <td>8.100000</td>\n",
       "      <td>2009-11-21 01:29:00+00:00</td>\n",
       "      <td>-73.995415</td>\n",
       "      <td>40.745533</td>\n",
       "      <td>-73.969963</td>\n",
       "      <td>40.759899</td>\n",
       "      <td>1</td>\n",
       "      <td>2009</td>\n",
       "      <td>11</td>\n",
       "      <td>21</td>\n",
       "      <td>5</td>\n",
       "      <td>1</td>\n",
       "    </tr>\n",
       "    <tr>\n",
       "      <th>320476</th>\n",
       "      <td>6.500000</td>\n",
       "      <td>2012-03-31 22:15:00+00:00</td>\n",
       "      <td>-73.996178</td>\n",
       "      <td>40.724167</td>\n",
       "      <td>-73.980553</td>\n",
       "      <td>40.722466</td>\n",
       "      <td>1</td>\n",
       "      <td>2012</td>\n",
       "      <td>3</td>\n",
       "      <td>31</td>\n",
       "      <td>5</td>\n",
       "      <td>22</td>\n",
       "    </tr>\n",
       "    <tr>\n",
       "      <th>189863</th>\n",
       "      <td>23.299999</td>\n",
       "      <td>2009-10-31 22:04:00+00:00</td>\n",
       "      <td>-73.968178</td>\n",
       "      <td>40.786976</td>\n",
       "      <td>-73.996086</td>\n",
       "      <td>40.720158</td>\n",
       "      <td>5</td>\n",
       "      <td>2009</td>\n",
       "      <td>10</td>\n",
       "      <td>31</td>\n",
       "      <td>5</td>\n",
       "      <td>22</td>\n",
       "    </tr>\n",
       "    <tr>\n",
       "      <th>25954</th>\n",
       "      <td>8.900000</td>\n",
       "      <td>2010-04-18 00:28:00+00:00</td>\n",
       "      <td>-73.982391</td>\n",
       "      <td>40.774143</td>\n",
       "      <td>-73.967094</td>\n",
       "      <td>40.806057</td>\n",
       "      <td>1</td>\n",
       "      <td>2010</td>\n",
       "      <td>4</td>\n",
       "      <td>18</td>\n",
       "      <td>6</td>\n",
       "      <td>0</td>\n",
       "    </tr>\n",
       "    <tr>\n",
       "      <th>195808</th>\n",
       "      <td>7.000000</td>\n",
       "      <td>2015-01-08 10:03:13+00:00</td>\n",
       "      <td>-74.008781</td>\n",
       "      <td>40.714054</td>\n",
       "      <td>-73.997429</td>\n",
       "      <td>40.723392</td>\n",
       "      <td>1</td>\n",
       "      <td>2015</td>\n",
       "      <td>1</td>\n",
       "      <td>8</td>\n",
       "      <td>3</td>\n",
       "      <td>10</td>\n",
       "    </tr>\n",
       "  </tbody>\n",
       "</table>\n",
       "</div>"
      ],
      "text/plain": [
       "        fare_amount           pickup_datetime  pickup_longitude  \\\n",
       "90475      8.100000 2009-11-21 01:29:00+00:00        -73.995415   \n",
       "320476     6.500000 2012-03-31 22:15:00+00:00        -73.996178   \n",
       "189863    23.299999 2009-10-31 22:04:00+00:00        -73.968178   \n",
       "25954      8.900000 2010-04-18 00:28:00+00:00        -73.982391   \n",
       "195808     7.000000 2015-01-08 10:03:13+00:00        -74.008781   \n",
       "\n",
       "        pickup_latitude  dropoff_longitude  dropoff_latitude  passenger_count  \\\n",
       "90475         40.745533         -73.969963         40.759899                1   \n",
       "320476        40.724167         -73.980553         40.722466                1   \n",
       "189863        40.786976         -73.996086         40.720158                5   \n",
       "25954         40.774143         -73.967094         40.806057                1   \n",
       "195808        40.714054         -73.997429         40.723392                1   \n",
       "\n",
       "        pickup_datetime_year  pickup_datetime_month  pickup_datetime_day  \\\n",
       "90475                   2009                     11                   21   \n",
       "320476                  2012                      3                   31   \n",
       "189863                  2009                     10                   31   \n",
       "25954                   2010                      4                   18   \n",
       "195808                  2015                      1                    8   \n",
       "\n",
       "        pickup_datetime_weekday  pickup_datetime_hour  \n",
       "90475                         5                     1  \n",
       "320476                        5                    22  \n",
       "189863                        5                    22  \n",
       "25954                         6                     0  \n",
       "195808                        3                    10  "
      ]
     },
     "execution_count": 58,
     "metadata": {},
     "output_type": "execute_result"
    }
   ],
   "source": [
    "add_date_parts(train,'pickup_datetime')\n",
    "train.head()"
   ]
  },
  {
   "cell_type": "code",
   "execution_count": 59,
   "id": "53138b24",
   "metadata": {
    "execution": {
     "iopub.execute_input": "2024-04-05T16:09:11.072656Z",
     "iopub.status.busy": "2024-04-05T16:09:11.071413Z",
     "iopub.status.idle": "2024-04-05T16:09:11.122418Z",
     "shell.execute_reply": "2024-04-05T16:09:11.121096Z"
    },
    "papermill": {
     "duration": 0.082963,
     "end_time": "2024-04-05T16:09:11.124754",
     "exception": false,
     "start_time": "2024-04-05T16:09:11.041791",
     "status": "completed"
    },
    "tags": []
   },
   "outputs": [
    {
     "data": {
      "text/html": [
       "<div>\n",
       "<style scoped>\n",
       "    .dataframe tbody tr th:only-of-type {\n",
       "        vertical-align: middle;\n",
       "    }\n",
       "\n",
       "    .dataframe tbody tr th {\n",
       "        vertical-align: top;\n",
       "    }\n",
       "\n",
       "    .dataframe thead th {\n",
       "        text-align: right;\n",
       "    }\n",
       "</style>\n",
       "<table border=\"1\" class=\"dataframe\">\n",
       "  <thead>\n",
       "    <tr style=\"text-align: right;\">\n",
       "      <th></th>\n",
       "      <th>fare_amount</th>\n",
       "      <th>pickup_datetime</th>\n",
       "      <th>pickup_longitude</th>\n",
       "      <th>pickup_latitude</th>\n",
       "      <th>dropoff_longitude</th>\n",
       "      <th>dropoff_latitude</th>\n",
       "      <th>passenger_count</th>\n",
       "      <th>pickup_datetime_year</th>\n",
       "      <th>pickup_datetime_month</th>\n",
       "      <th>pickup_datetime_day</th>\n",
       "      <th>pickup_datetime_weekday</th>\n",
       "      <th>pickup_datetime_hour</th>\n",
       "    </tr>\n",
       "  </thead>\n",
       "  <tbody>\n",
       "    <tr>\n",
       "      <th>483027</th>\n",
       "      <td>8.9</td>\n",
       "      <td>2009-09-02 21:14:00+00:00</td>\n",
       "      <td>-73.993179</td>\n",
       "      <td>40.761116</td>\n",
       "      <td>-73.993179</td>\n",
       "      <td>40.761116</td>\n",
       "      <td>1</td>\n",
       "      <td>2009</td>\n",
       "      <td>9</td>\n",
       "      <td>2</td>\n",
       "      <td>2</td>\n",
       "      <td>21</td>\n",
       "    </tr>\n",
       "    <tr>\n",
       "      <th>459191</th>\n",
       "      <td>4.9</td>\n",
       "      <td>2009-10-28 18:38:14+00:00</td>\n",
       "      <td>-74.004372</td>\n",
       "      <td>40.742470</td>\n",
       "      <td>-74.004372</td>\n",
       "      <td>40.733536</td>\n",
       "      <td>1</td>\n",
       "      <td>2009</td>\n",
       "      <td>10</td>\n",
       "      <td>28</td>\n",
       "      <td>2</td>\n",
       "      <td>18</td>\n",
       "    </tr>\n",
       "    <tr>\n",
       "      <th>310414</th>\n",
       "      <td>8.9</td>\n",
       "      <td>2009-09-29 14:08:36+00:00</td>\n",
       "      <td>-73.981613</td>\n",
       "      <td>40.729198</td>\n",
       "      <td>-73.981606</td>\n",
       "      <td>40.729202</td>\n",
       "      <td>1</td>\n",
       "      <td>2009</td>\n",
       "      <td>9</td>\n",
       "      <td>29</td>\n",
       "      <td>1</td>\n",
       "      <td>14</td>\n",
       "    </tr>\n",
       "    <tr>\n",
       "      <th>336771</th>\n",
       "      <td>8.5</td>\n",
       "      <td>2012-08-23 08:57:00+00:00</td>\n",
       "      <td>-73.984741</td>\n",
       "      <td>40.774113</td>\n",
       "      <td>-73.974159</td>\n",
       "      <td>40.757755</td>\n",
       "      <td>1</td>\n",
       "      <td>2012</td>\n",
       "      <td>8</td>\n",
       "      <td>23</td>\n",
       "      <td>3</td>\n",
       "      <td>8</td>\n",
       "    </tr>\n",
       "    <tr>\n",
       "      <th>198240</th>\n",
       "      <td>9.5</td>\n",
       "      <td>2013-02-21 09:04:00+00:00</td>\n",
       "      <td>-73.939346</td>\n",
       "      <td>40.804981</td>\n",
       "      <td>-73.962692</td>\n",
       "      <td>40.799610</td>\n",
       "      <td>4</td>\n",
       "      <td>2013</td>\n",
       "      <td>2</td>\n",
       "      <td>21</td>\n",
       "      <td>3</td>\n",
       "      <td>9</td>\n",
       "    </tr>\n",
       "  </tbody>\n",
       "</table>\n",
       "</div>"
      ],
      "text/plain": [
       "        fare_amount           pickup_datetime  pickup_longitude  \\\n",
       "483027          8.9 2009-09-02 21:14:00+00:00        -73.993179   \n",
       "459191          4.9 2009-10-28 18:38:14+00:00        -74.004372   \n",
       "310414          8.9 2009-09-29 14:08:36+00:00        -73.981613   \n",
       "336771          8.5 2012-08-23 08:57:00+00:00        -73.984741   \n",
       "198240          9.5 2013-02-21 09:04:00+00:00        -73.939346   \n",
       "\n",
       "        pickup_latitude  dropoff_longitude  dropoff_latitude  passenger_count  \\\n",
       "483027        40.761116         -73.993179         40.761116                1   \n",
       "459191        40.742470         -74.004372         40.733536                1   \n",
       "310414        40.729198         -73.981606         40.729202                1   \n",
       "336771        40.774113         -73.974159         40.757755                1   \n",
       "198240        40.804981         -73.962692         40.799610                4   \n",
       "\n",
       "        pickup_datetime_year  pickup_datetime_month  pickup_datetime_day  \\\n",
       "483027                  2009                      9                    2   \n",
       "459191                  2009                     10                   28   \n",
       "310414                  2009                      9                   29   \n",
       "336771                  2012                      8                   23   \n",
       "198240                  2013                      2                   21   \n",
       "\n",
       "        pickup_datetime_weekday  pickup_datetime_hour  \n",
       "483027                        2                    21  \n",
       "459191                        2                    18  \n",
       "310414                        1                    14  \n",
       "336771                        3                     8  \n",
       "198240                        3                     9  "
      ]
     },
     "execution_count": 59,
     "metadata": {},
     "output_type": "execute_result"
    }
   ],
   "source": [
    "add_date_parts(val, 'pickup_datetime')\n",
    "val.head()"
   ]
  },
  {
   "cell_type": "code",
   "execution_count": 60,
   "id": "181b0fdd",
   "metadata": {
    "execution": {
     "iopub.execute_input": "2024-04-05T16:09:11.182617Z",
     "iopub.status.busy": "2024-04-05T16:09:11.182174Z",
     "iopub.status.idle": "2024-04-05T16:09:11.204485Z",
     "shell.execute_reply": "2024-04-05T16:09:11.203121Z"
    },
    "papermill": {
     "duration": 0.054028,
     "end_time": "2024-04-05T16:09:11.207098",
     "exception": false,
     "start_time": "2024-04-05T16:09:11.153070",
     "status": "completed"
    },
    "tags": []
   },
   "outputs": [
    {
     "data": {
      "text/html": [
       "<div>\n",
       "<style scoped>\n",
       "    .dataframe tbody tr th:only-of-type {\n",
       "        vertical-align: middle;\n",
       "    }\n",
       "\n",
       "    .dataframe tbody tr th {\n",
       "        vertical-align: top;\n",
       "    }\n",
       "\n",
       "    .dataframe thead th {\n",
       "        text-align: right;\n",
       "    }\n",
       "</style>\n",
       "<table border=\"1\" class=\"dataframe\">\n",
       "  <thead>\n",
       "    <tr style=\"text-align: right;\">\n",
       "      <th></th>\n",
       "      <th>key</th>\n",
       "      <th>pickup_datetime</th>\n",
       "      <th>pickup_longitude</th>\n",
       "      <th>pickup_latitude</th>\n",
       "      <th>dropoff_longitude</th>\n",
       "      <th>dropoff_latitude</th>\n",
       "      <th>passenger_count</th>\n",
       "      <th>pickup_datetime_year</th>\n",
       "      <th>pickup_datetime_month</th>\n",
       "      <th>pickup_datetime_day</th>\n",
       "      <th>pickup_datetime_weekday</th>\n",
       "      <th>pickup_datetime_hour</th>\n",
       "    </tr>\n",
       "  </thead>\n",
       "  <tbody>\n",
       "    <tr>\n",
       "      <th>0</th>\n",
       "      <td>2015-01-27 13:08:24.0000002</td>\n",
       "      <td>2015-01-27 13:08:24+00:00</td>\n",
       "      <td>-73.973320</td>\n",
       "      <td>40.763805</td>\n",
       "      <td>-73.981430</td>\n",
       "      <td>40.743835</td>\n",
       "      <td>1</td>\n",
       "      <td>2015</td>\n",
       "      <td>1</td>\n",
       "      <td>27</td>\n",
       "      <td>1</td>\n",
       "      <td>13</td>\n",
       "    </tr>\n",
       "    <tr>\n",
       "      <th>1</th>\n",
       "      <td>2015-01-27 13:08:24.0000003</td>\n",
       "      <td>2015-01-27 13:08:24+00:00</td>\n",
       "      <td>-73.986862</td>\n",
       "      <td>40.719383</td>\n",
       "      <td>-73.998886</td>\n",
       "      <td>40.739201</td>\n",
       "      <td>1</td>\n",
       "      <td>2015</td>\n",
       "      <td>1</td>\n",
       "      <td>27</td>\n",
       "      <td>1</td>\n",
       "      <td>13</td>\n",
       "    </tr>\n",
       "    <tr>\n",
       "      <th>2</th>\n",
       "      <td>2011-10-08 11:53:44.0000002</td>\n",
       "      <td>2011-10-08 11:53:44+00:00</td>\n",
       "      <td>-73.982521</td>\n",
       "      <td>40.751259</td>\n",
       "      <td>-73.979652</td>\n",
       "      <td>40.746140</td>\n",
       "      <td>1</td>\n",
       "      <td>2011</td>\n",
       "      <td>10</td>\n",
       "      <td>8</td>\n",
       "      <td>5</td>\n",
       "      <td>11</td>\n",
       "    </tr>\n",
       "    <tr>\n",
       "      <th>3</th>\n",
       "      <td>2012-12-01 21:12:12.0000002</td>\n",
       "      <td>2012-12-01 21:12:12+00:00</td>\n",
       "      <td>-73.981163</td>\n",
       "      <td>40.767807</td>\n",
       "      <td>-73.990448</td>\n",
       "      <td>40.751637</td>\n",
       "      <td>1</td>\n",
       "      <td>2012</td>\n",
       "      <td>12</td>\n",
       "      <td>1</td>\n",
       "      <td>5</td>\n",
       "      <td>21</td>\n",
       "    </tr>\n",
       "    <tr>\n",
       "      <th>4</th>\n",
       "      <td>2012-12-01 21:12:12.0000003</td>\n",
       "      <td>2012-12-01 21:12:12+00:00</td>\n",
       "      <td>-73.966049</td>\n",
       "      <td>40.789776</td>\n",
       "      <td>-73.988564</td>\n",
       "      <td>40.744427</td>\n",
       "      <td>1</td>\n",
       "      <td>2012</td>\n",
       "      <td>12</td>\n",
       "      <td>1</td>\n",
       "      <td>5</td>\n",
       "      <td>21</td>\n",
       "    </tr>\n",
       "  </tbody>\n",
       "</table>\n",
       "</div>"
      ],
      "text/plain": [
       "                           key           pickup_datetime  pickup_longitude  \\\n",
       "0  2015-01-27 13:08:24.0000002 2015-01-27 13:08:24+00:00        -73.973320   \n",
       "1  2015-01-27 13:08:24.0000003 2015-01-27 13:08:24+00:00        -73.986862   \n",
       "2  2011-10-08 11:53:44.0000002 2011-10-08 11:53:44+00:00        -73.982521   \n",
       "3  2012-12-01 21:12:12.0000002 2012-12-01 21:12:12+00:00        -73.981163   \n",
       "4  2012-12-01 21:12:12.0000003 2012-12-01 21:12:12+00:00        -73.966049   \n",
       "\n",
       "   pickup_latitude  dropoff_longitude  dropoff_latitude  passenger_count  \\\n",
       "0        40.763805         -73.981430         40.743835                1   \n",
       "1        40.719383         -73.998886         40.739201                1   \n",
       "2        40.751259         -73.979652         40.746140                1   \n",
       "3        40.767807         -73.990448         40.751637                1   \n",
       "4        40.789776         -73.988564         40.744427                1   \n",
       "\n",
       "   pickup_datetime_year  pickup_datetime_month  pickup_datetime_day  \\\n",
       "0                  2015                      1                   27   \n",
       "1                  2015                      1                   27   \n",
       "2                  2011                     10                    8   \n",
       "3                  2012                     12                    1   \n",
       "4                  2012                     12                    1   \n",
       "\n",
       "   pickup_datetime_weekday  pickup_datetime_hour  \n",
       "0                        1                    13  \n",
       "1                        1                    13  \n",
       "2                        5                    11  \n",
       "3                        5                    21  \n",
       "4                        5                    21  "
      ]
     },
     "execution_count": 60,
     "metadata": {},
     "output_type": "execute_result"
    }
   ],
   "source": [
    "add_date_parts(test_data, 'pickup_datetime')\n",
    "test_data.head()"
   ]
  },
  {
   "cell_type": "markdown",
   "id": "4d1ab7ea",
   "metadata": {
    "papermill": {
     "duration": 0.028929,
     "end_time": "2024-04-05T16:09:11.265256",
     "exception": false,
     "start_time": "2024-04-05T16:09:11.236327",
     "status": "completed"
    },
    "tags": []
   },
   "source": [
    "#### Distance b/w pickup and drop locations\n",
    "\n",
    "We are going to use the [Haversine formula](https://en.wikipedia.org/wiki/Haversine_formula) for the Calculation of the Distance between 2 coordinate in the map\n",
    "\n",
    "Directly taking the function and copying it online."
   ]
  },
  {
   "cell_type": "code",
   "execution_count": 61,
   "id": "3475cc8d",
   "metadata": {
    "execution": {
     "iopub.execute_input": "2024-04-05T16:09:11.322871Z",
     "iopub.status.busy": "2024-04-05T16:09:11.322028Z",
     "iopub.status.idle": "2024-04-05T16:09:11.330277Z",
     "shell.execute_reply": "2024-04-05T16:09:11.329029Z"
    },
    "papermill": {
     "duration": 0.039664,
     "end_time": "2024-04-05T16:09:11.332481",
     "exception": false,
     "start_time": "2024-04-05T16:09:11.292817",
     "status": "completed"
    },
    "tags": []
   },
   "outputs": [],
   "source": [
    "import numpy as np\n",
    "\n",
    "def haversine_np(lon1, lat1, lon2, lat2):\n",
    "    \"\"\"\n",
    "    Calculate the great circle distance between two points\n",
    "    on the earth (specified in decimal degrees)\n",
    "\n",
    "    All args must be of equal length.    \n",
    "\n",
    "    \"\"\"\n",
    "    lon1, lat1, lon2, lat2 = map(np.radians, [lon1, lat1, lon2, lat2])\n",
    "\n",
    "    dlon = lon2 - lon1\n",
    "    dlat = lat2 - lat1\n",
    "\n",
    "    a = np.sin(dlat/2.0)**2 + np.cos(lat1) * np.cos(lat2) * np.sin(dlon/2.0)**2\n",
    "\n",
    "    c = 2 * np.arcsin(np.sqrt(a))\n",
    "    return c\n",
    "#     km = 6367 * c\n",
    "#     return km\n"
   ]
  },
  {
   "cell_type": "code",
   "execution_count": 62,
   "id": "b6d04af0",
   "metadata": {
    "execution": {
     "iopub.execute_input": "2024-04-05T16:09:11.391890Z",
     "iopub.status.busy": "2024-04-05T16:09:11.390988Z",
     "iopub.status.idle": "2024-04-05T16:09:11.396836Z",
     "shell.execute_reply": "2024-04-05T16:09:11.395584Z"
    },
    "papermill": {
     "duration": 0.037384,
     "end_time": "2024-04-05T16:09:11.398919",
     "exception": false,
     "start_time": "2024-04-05T16:09:11.361535",
     "status": "completed"
    },
    "tags": []
   },
   "outputs": [],
   "source": [
    "def add_dist(df) :\n",
    "    df['distance'] = haversine_np(df.pickup_longitude, df.pickup_latitude, df.dropoff_longitude, df.dropoff_longitude)"
   ]
  },
  {
   "cell_type": "code",
   "execution_count": 63,
   "id": "89bffaab",
   "metadata": {
    "execution": {
     "iopub.execute_input": "2024-04-05T16:09:11.460713Z",
     "iopub.status.busy": "2024-04-05T16:09:11.459638Z",
     "iopub.status.idle": "2024-04-05T16:09:11.493894Z",
     "shell.execute_reply": "2024-04-05T16:09:11.492663Z"
    },
    "papermill": {
     "duration": 0.068739,
     "end_time": "2024-04-05T16:09:11.496856",
     "exception": false,
     "start_time": "2024-04-05T16:09:11.428117",
     "status": "completed"
    },
    "tags": []
   },
   "outputs": [],
   "source": [
    "add_dist(train)\n",
    "add_dist(val)\n",
    "add_dist(test_data)"
   ]
  },
  {
   "cell_type": "code",
   "execution_count": 64,
   "id": "5457bd15",
   "metadata": {
    "execution": {
     "iopub.execute_input": "2024-04-05T16:09:11.556922Z",
     "iopub.status.busy": "2024-04-05T16:09:11.556463Z",
     "iopub.status.idle": "2024-04-05T16:09:11.576214Z",
     "shell.execute_reply": "2024-04-05T16:09:11.574695Z"
    },
    "papermill": {
     "duration": 0.052503,
     "end_time": "2024-04-05T16:09:11.578546",
     "exception": false,
     "start_time": "2024-04-05T16:09:11.526043",
     "status": "completed"
    },
    "tags": []
   },
   "outputs": [
    {
     "data": {
      "text/html": [
       "<div>\n",
       "<style scoped>\n",
       "    .dataframe tbody tr th:only-of-type {\n",
       "        vertical-align: middle;\n",
       "    }\n",
       "\n",
       "    .dataframe tbody tr th {\n",
       "        vertical-align: top;\n",
       "    }\n",
       "\n",
       "    .dataframe thead th {\n",
       "        text-align: right;\n",
       "    }\n",
       "</style>\n",
       "<table border=\"1\" class=\"dataframe\">\n",
       "  <thead>\n",
       "    <tr style=\"text-align: right;\">\n",
       "      <th></th>\n",
       "      <th>fare_amount</th>\n",
       "      <th>pickup_datetime</th>\n",
       "      <th>pickup_longitude</th>\n",
       "      <th>pickup_latitude</th>\n",
       "      <th>dropoff_longitude</th>\n",
       "      <th>dropoff_latitude</th>\n",
       "      <th>passenger_count</th>\n",
       "      <th>pickup_datetime_year</th>\n",
       "      <th>pickup_datetime_month</th>\n",
       "      <th>pickup_datetime_day</th>\n",
       "      <th>pickup_datetime_weekday</th>\n",
       "      <th>pickup_datetime_hour</th>\n",
       "      <th>distance</th>\n",
       "    </tr>\n",
       "  </thead>\n",
       "  <tbody>\n",
       "    <tr>\n",
       "      <th>90475</th>\n",
       "      <td>8.100000</td>\n",
       "      <td>2009-11-21 01:29:00+00:00</td>\n",
       "      <td>-73.995415</td>\n",
       "      <td>40.745533</td>\n",
       "      <td>-73.969963</td>\n",
       "      <td>40.759899</td>\n",
       "      <td>1</td>\n",
       "      <td>2009</td>\n",
       "      <td>11</td>\n",
       "      <td>21</td>\n",
       "      <td>5</td>\n",
       "      <td>1</td>\n",
       "      <td>2.002163</td>\n",
       "    </tr>\n",
       "    <tr>\n",
       "      <th>320476</th>\n",
       "      <td>6.500000</td>\n",
       "      <td>2012-03-31 22:15:00+00:00</td>\n",
       "      <td>-73.996178</td>\n",
       "      <td>40.724167</td>\n",
       "      <td>-73.980553</td>\n",
       "      <td>40.722466</td>\n",
       "      <td>1</td>\n",
       "      <td>2012</td>\n",
       "      <td>3</td>\n",
       "      <td>31</td>\n",
       "      <td>5</td>\n",
       "      <td>22</td>\n",
       "      <td>2.001975</td>\n",
       "    </tr>\n",
       "    <tr>\n",
       "      <th>189863</th>\n",
       "      <td>23.299999</td>\n",
       "      <td>2009-10-31 22:04:00+00:00</td>\n",
       "      <td>-73.968178</td>\n",
       "      <td>40.786976</td>\n",
       "      <td>-73.996086</td>\n",
       "      <td>40.720158</td>\n",
       "      <td>5</td>\n",
       "      <td>2009</td>\n",
       "      <td>10</td>\n",
       "      <td>31</td>\n",
       "      <td>5</td>\n",
       "      <td>22</td>\n",
       "      <td>2.003342</td>\n",
       "    </tr>\n",
       "    <tr>\n",
       "      <th>25954</th>\n",
       "      <td>8.900000</td>\n",
       "      <td>2010-04-18 00:28:00+00:00</td>\n",
       "      <td>-73.982391</td>\n",
       "      <td>40.774143</td>\n",
       "      <td>-73.967094</td>\n",
       "      <td>40.806057</td>\n",
       "      <td>1</td>\n",
       "      <td>2010</td>\n",
       "      <td>4</td>\n",
       "      <td>18</td>\n",
       "      <td>6</td>\n",
       "      <td>0</td>\n",
       "      <td>2.002612</td>\n",
       "    </tr>\n",
       "    <tr>\n",
       "      <th>195808</th>\n",
       "      <td>7.000000</td>\n",
       "      <td>2015-01-08 10:03:13+00:00</td>\n",
       "      <td>-74.008781</td>\n",
       "      <td>40.714054</td>\n",
       "      <td>-73.997429</td>\n",
       "      <td>40.723392</td>\n",
       "      <td>1</td>\n",
       "      <td>2015</td>\n",
       "      <td>1</td>\n",
       "      <td>8</td>\n",
       "      <td>3</td>\n",
       "      <td>10</td>\n",
       "      <td>2.002093</td>\n",
       "    </tr>\n",
       "  </tbody>\n",
       "</table>\n",
       "</div>"
      ],
      "text/plain": [
       "        fare_amount           pickup_datetime  pickup_longitude  \\\n",
       "90475      8.100000 2009-11-21 01:29:00+00:00        -73.995415   \n",
       "320476     6.500000 2012-03-31 22:15:00+00:00        -73.996178   \n",
       "189863    23.299999 2009-10-31 22:04:00+00:00        -73.968178   \n",
       "25954      8.900000 2010-04-18 00:28:00+00:00        -73.982391   \n",
       "195808     7.000000 2015-01-08 10:03:13+00:00        -74.008781   \n",
       "\n",
       "        pickup_latitude  dropoff_longitude  dropoff_latitude  passenger_count  \\\n",
       "90475         40.745533         -73.969963         40.759899                1   \n",
       "320476        40.724167         -73.980553         40.722466                1   \n",
       "189863        40.786976         -73.996086         40.720158                5   \n",
       "25954         40.774143         -73.967094         40.806057                1   \n",
       "195808        40.714054         -73.997429         40.723392                1   \n",
       "\n",
       "        pickup_datetime_year  pickup_datetime_month  pickup_datetime_day  \\\n",
       "90475                   2009                     11                   21   \n",
       "320476                  2012                      3                   31   \n",
       "189863                  2009                     10                   31   \n",
       "25954                   2010                      4                   18   \n",
       "195808                  2015                      1                    8   \n",
       "\n",
       "        pickup_datetime_weekday  pickup_datetime_hour  distance  \n",
       "90475                         5                     1  2.002163  \n",
       "320476                        5                    22  2.001975  \n",
       "189863                        5                    22  2.003342  \n",
       "25954                         6                     0  2.002612  \n",
       "195808                        3                    10  2.002093  "
      ]
     },
     "execution_count": 64,
     "metadata": {},
     "output_type": "execute_result"
    }
   ],
   "source": [
    "train.head(5)"
   ]
  },
  {
   "cell_type": "markdown",
   "id": "a6f7cdc9",
   "metadata": {
    "papermill": {
     "duration": 0.027473,
     "end_time": "2024-04-05T16:09:11.634919",
     "exception": false,
     "start_time": "2024-04-05T16:09:11.607446",
     "status": "completed"
    },
    "tags": []
   },
   "source": [
    "#### Distance form popular landmarks\n",
    "\n",
    "popular land marks : \n",
    "- JFK airport\n",
    "- LGA Airport\n",
    "- EWR Airport\n",
    "- Times Square\n",
    "- Met Meuseum\n",
    "- WTC\n",
    "- Statue of Liberty\n",
    "- Empire state"
   ]
  },
  {
   "cell_type": "code",
   "execution_count": 65,
   "id": "5214fc38",
   "metadata": {
    "execution": {
     "iopub.execute_input": "2024-04-05T16:09:11.693591Z",
     "iopub.status.busy": "2024-04-05T16:09:11.693152Z",
     "iopub.status.idle": "2024-04-05T16:09:11.698914Z",
     "shell.execute_reply": "2024-04-05T16:09:11.697841Z"
    },
    "papermill": {
     "duration": 0.038123,
     "end_time": "2024-04-05T16:09:11.700978",
     "exception": false,
     "start_time": "2024-04-05T16:09:11.662855",
     "status": "completed"
    },
    "tags": []
   },
   "outputs": [],
   "source": [
    "jfk_longlat = -73.7797, 40.6446\n",
    "lga_longlat = -73.8718, 40.7733\n",
    "ewa_longlat = -74.1745, 40.6895\n",
    "\n",
    "times_longlat = -73.985130, 40.758896\n",
    "met_longlat = -73.9632, 40.7794\n",
    "wtc_longlat = -74.013382, 40.712742\n",
    "\n",
    "liberty_longlat = -74.0445, 40.6892\n",
    "esb_longlat = -73.9857, 40.7484"
   ]
  },
  {
   "cell_type": "code",
   "execution_count": 66,
   "id": "b2a76312",
   "metadata": {
    "execution": {
     "iopub.execute_input": "2024-04-05T16:09:11.758940Z",
     "iopub.status.busy": "2024-04-05T16:09:11.758442Z",
     "iopub.status.idle": "2024-04-05T16:09:11.765066Z",
     "shell.execute_reply": "2024-04-05T16:09:11.763684Z"
    },
    "papermill": {
     "duration": 0.038406,
     "end_time": "2024-04-05T16:09:11.767365",
     "exception": false,
     "start_time": "2024-04-05T16:09:11.728959",
     "status": "completed"
    },
    "tags": []
   },
   "outputs": [],
   "source": [
    "def add_landmark_drop_dist(df, landmark, landmark_longlat):\n",
    "    lon, lat = landmark_longlat\n",
    "    df[landmark + '_drop_dist'] = haversine_np(lon, lat, df.dropoff_longitude, df.dropoff_latitude)\n",
    "    \n",
    "def add_landmark_pick_dist(df, landmark, landmark_longlat):\n",
    "    lon, lat = landmark_longlat\n",
    "    df[landmark + '_pick_dist'] = haversine_np(lon, lat, df.dropoff_longitude, df.dropoff_latitude)"
   ]
  },
  {
   "cell_type": "code",
   "execution_count": 67,
   "id": "bca9e314",
   "metadata": {
    "execution": {
     "iopub.execute_input": "2024-04-05T16:09:11.825396Z",
     "iopub.status.busy": "2024-04-05T16:09:11.824944Z",
     "iopub.status.idle": "2024-04-05T16:09:11.831524Z",
     "shell.execute_reply": "2024-04-05T16:09:11.830366Z"
    },
    "papermill": {
     "duration": 0.038285,
     "end_time": "2024-04-05T16:09:11.833824",
     "exception": false,
     "start_time": "2024-04-05T16:09:11.795539",
     "status": "completed"
    },
    "tags": []
   },
   "outputs": [],
   "source": [
    "def add_landmark(df):\n",
    "    landmarks = [('jfk', jfk_longlat),\n",
    "                 ('lga', lga_longlat),\n",
    "                 ('ewa', ewa_longlat),\n",
    "                 ('times_square', times_longlat),\n",
    "                 ('met', met_longlat),\n",
    "                 ('wtc', wtc_longlat),\n",
    "                 ('esb', esb_longlat),\n",
    "                 ('liberty', liberty_longlat)]\n",
    "    for name, longlat in landmarks:\n",
    "        add_landmark_drop_dist(df, name, longlat)\n",
    "        # add_landmark_pick_dist(df, name, longlat)"
   ]
  },
  {
   "cell_type": "code",
   "execution_count": 68,
   "id": "da8da238",
   "metadata": {
    "execution": {
     "iopub.execute_input": "2024-04-05T16:09:11.892450Z",
     "iopub.status.busy": "2024-04-05T16:09:11.892000Z",
     "iopub.status.idle": "2024-04-05T16:09:11.898883Z",
     "shell.execute_reply": "2024-04-05T16:09:11.897987Z"
    },
    "papermill": {
     "duration": 0.038459,
     "end_time": "2024-04-05T16:09:11.900877",
     "exception": false,
     "start_time": "2024-04-05T16:09:11.862418",
     "status": "completed"
    },
    "tags": []
   },
   "outputs": [
    {
     "data": {
      "text/plain": [
       "Index(['fare_amount', 'pickup_datetime', 'pickup_longitude', 'pickup_latitude',\n",
       "       'dropoff_longitude', 'dropoff_latitude', 'passenger_count',\n",
       "       'pickup_datetime_year', 'pickup_datetime_month', 'pickup_datetime_day',\n",
       "       'pickup_datetime_weekday', 'pickup_datetime_hour', 'distance'],\n",
       "      dtype='object')"
      ]
     },
     "execution_count": 68,
     "metadata": {},
     "output_type": "execute_result"
    }
   ],
   "source": [
    "train.columns"
   ]
  },
  {
   "cell_type": "code",
   "execution_count": 69,
   "id": "646d7944",
   "metadata": {
    "execution": {
     "iopub.execute_input": "2024-04-05T16:09:11.958600Z",
     "iopub.status.busy": "2024-04-05T16:09:11.958175Z",
     "iopub.status.idle": "2024-04-05T16:09:12.123600Z",
     "shell.execute_reply": "2024-04-05T16:09:12.122448Z"
    },
    "papermill": {
     "duration": 0.197406,
     "end_time": "2024-04-05T16:09:12.126208",
     "exception": false,
     "start_time": "2024-04-05T16:09:11.928802",
     "status": "completed"
    },
    "tags": []
   },
   "outputs": [],
   "source": [
    "add_landmark(train)\n",
    "add_landmark(val)\n",
    "add_landmark(test_data)"
   ]
  },
  {
   "cell_type": "code",
   "execution_count": 70,
   "id": "e64f205d",
   "metadata": {
    "execution": {
     "iopub.execute_input": "2024-04-05T16:09:12.185479Z",
     "iopub.status.busy": "2024-04-05T16:09:12.185052Z",
     "iopub.status.idle": "2024-04-05T16:09:12.192482Z",
     "shell.execute_reply": "2024-04-05T16:09:12.191219Z"
    },
    "papermill": {
     "duration": 0.040017,
     "end_time": "2024-04-05T16:09:12.194632",
     "exception": false,
     "start_time": "2024-04-05T16:09:12.154615",
     "status": "completed"
    },
    "tags": []
   },
   "outputs": [
    {
     "data": {
      "text/plain": [
       "['fare_amount',\n",
       " 'pickup_datetime',\n",
       " 'pickup_longitude',\n",
       " 'pickup_latitude',\n",
       " 'dropoff_longitude',\n",
       " 'dropoff_latitude',\n",
       " 'passenger_count',\n",
       " 'pickup_datetime_year',\n",
       " 'pickup_datetime_month',\n",
       " 'pickup_datetime_day',\n",
       " 'pickup_datetime_weekday',\n",
       " 'pickup_datetime_hour',\n",
       " 'distance',\n",
       " 'jfk_drop_dist',\n",
       " 'lga_drop_dist',\n",
       " 'ewa_drop_dist',\n",
       " 'times_square_drop_dist',\n",
       " 'met_drop_dist',\n",
       " 'wtc_drop_dist',\n",
       " 'esb_drop_dist',\n",
       " 'liberty_drop_dist']"
      ]
     },
     "execution_count": 70,
     "metadata": {},
     "output_type": "execute_result"
    }
   ],
   "source": [
    "train.columns.tolist()"
   ]
  },
  {
   "cell_type": "code",
   "execution_count": 71,
   "id": "efec9b52",
   "metadata": {
    "execution": {
     "iopub.execute_input": "2024-04-05T16:09:12.256996Z",
     "iopub.status.busy": "2024-04-05T16:09:12.256513Z",
     "iopub.status.idle": "2024-04-05T16:09:12.453754Z",
     "shell.execute_reply": "2024-04-05T16:09:12.452551Z"
    },
    "papermill": {
     "duration": 0.232127,
     "end_time": "2024-04-05T16:09:12.456222",
     "exception": false,
     "start_time": "2024-04-05T16:09:12.224095",
     "status": "completed"
    },
    "tags": []
   },
   "outputs": [
    {
     "data": {
      "text/html": [
       "<div>\n",
       "<style scoped>\n",
       "    .dataframe tbody tr th:only-of-type {\n",
       "        vertical-align: middle;\n",
       "    }\n",
       "\n",
       "    .dataframe tbody tr th {\n",
       "        vertical-align: top;\n",
       "    }\n",
       "\n",
       "    .dataframe thead th {\n",
       "        text-align: right;\n",
       "    }\n",
       "</style>\n",
       "<table border=\"1\" class=\"dataframe\">\n",
       "  <thead>\n",
       "    <tr style=\"text-align: right;\">\n",
       "      <th></th>\n",
       "      <th>fare_amount</th>\n",
       "      <th>pickup_datetime</th>\n",
       "      <th>pickup_longitude</th>\n",
       "      <th>pickup_latitude</th>\n",
       "      <th>dropoff_longitude</th>\n",
       "      <th>dropoff_latitude</th>\n",
       "      <th>passenger_count</th>\n",
       "      <th>pickup_datetime_year</th>\n",
       "      <th>pickup_datetime_month</th>\n",
       "      <th>pickup_datetime_day</th>\n",
       "      <th>...</th>\n",
       "      <th>pickup_datetime_hour</th>\n",
       "      <th>distance</th>\n",
       "      <th>jfk_drop_dist</th>\n",
       "      <th>lga_drop_dist</th>\n",
       "      <th>ewa_drop_dist</th>\n",
       "      <th>times_square_drop_dist</th>\n",
       "      <th>met_drop_dist</th>\n",
       "      <th>wtc_drop_dist</th>\n",
       "      <th>esb_drop_dist</th>\n",
       "      <th>liberty_drop_dist</th>\n",
       "    </tr>\n",
       "  </thead>\n",
       "  <tbody>\n",
       "    <tr>\n",
       "      <th>90475</th>\n",
       "      <td>8.100000</td>\n",
       "      <td>2009-11-21 01:29:00+00:00</td>\n",
       "      <td>-73.995415</td>\n",
       "      <td>40.745533</td>\n",
       "      <td>-73.969963</td>\n",
       "      <td>40.759899</td>\n",
       "      <td>1</td>\n",
       "      <td>2009</td>\n",
       "      <td>11</td>\n",
       "      <td>21</td>\n",
       "      <td>...</td>\n",
       "      <td>1</td>\n",
       "      <td>2.002163</td>\n",
       "      <td>0.003223</td>\n",
       "      <td>0.001319</td>\n",
       "      <td>0.002971</td>\n",
       "      <td>0.000201</td>\n",
       "      <td>0.000352</td>\n",
       "      <td>0.001004</td>\n",
       "      <td>0.000289</td>\n",
       "      <td>0.001579</td>\n",
       "    </tr>\n",
       "    <tr>\n",
       "      <th>320476</th>\n",
       "      <td>6.500000</td>\n",
       "      <td>2012-03-31 22:15:00+00:00</td>\n",
       "      <td>-73.996178</td>\n",
       "      <td>40.724167</td>\n",
       "      <td>-73.980553</td>\n",
       "      <td>40.722466</td>\n",
       "      <td>1</td>\n",
       "      <td>2012</td>\n",
       "      <td>3</td>\n",
       "      <td>31</td>\n",
       "      <td>...</td>\n",
       "      <td>22</td>\n",
       "      <td>2.001975</td>\n",
       "      <td>0.002986</td>\n",
       "      <td>0.001690</td>\n",
       "      <td>0.002630</td>\n",
       "      <td>0.000639</td>\n",
       "      <td>0.001020</td>\n",
       "      <td>0.000466</td>\n",
       "      <td>0.000458</td>\n",
       "      <td>0.001026</td>\n",
       "    </tr>\n",
       "    <tr>\n",
       "      <th>189863</th>\n",
       "      <td>23.299999</td>\n",
       "      <td>2009-10-31 22:04:00+00:00</td>\n",
       "      <td>-73.968178</td>\n",
       "      <td>40.786976</td>\n",
       "      <td>-73.996086</td>\n",
       "      <td>40.720158</td>\n",
       "      <td>5</td>\n",
       "      <td>2009</td>\n",
       "      <td>10</td>\n",
       "      <td>31</td>\n",
       "      <td>...</td>\n",
       "      <td>22</td>\n",
       "      <td>2.003342</td>\n",
       "      <td>0.003153</td>\n",
       "      <td>0.001887</td>\n",
       "      <td>0.002421</td>\n",
       "      <td>0.000691</td>\n",
       "      <td>0.001122</td>\n",
       "      <td>0.000263</td>\n",
       "      <td>0.000512</td>\n",
       "      <td>0.000838</td>\n",
       "    </tr>\n",
       "    <tr>\n",
       "      <th>25954</th>\n",
       "      <td>8.900000</td>\n",
       "      <td>2010-04-18 00:28:00+00:00</td>\n",
       "      <td>-73.982391</td>\n",
       "      <td>40.774143</td>\n",
       "      <td>-73.967094</td>\n",
       "      <td>40.806057</td>\n",
       "      <td>1</td>\n",
       "      <td>2010</td>\n",
       "      <td>4</td>\n",
       "      <td>18</td>\n",
       "      <td>...</td>\n",
       "      <td>0</td>\n",
       "      <td>2.002612</td>\n",
       "      <td>0.003753</td>\n",
       "      <td>0.001383</td>\n",
       "      <td>0.003415</td>\n",
       "      <td>0.000857</td>\n",
       "      <td>0.000468</td>\n",
       "      <td>0.001740</td>\n",
       "      <td>0.001036</td>\n",
       "      <td>0.002282</td>\n",
       "    </tr>\n",
       "    <tr>\n",
       "      <th>195808</th>\n",
       "      <td>7.000000</td>\n",
       "      <td>2015-01-08 10:03:13+00:00</td>\n",
       "      <td>-74.008781</td>\n",
       "      <td>40.714054</td>\n",
       "      <td>-73.997429</td>\n",
       "      <td>40.723392</td>\n",
       "      <td>1</td>\n",
       "      <td>2015</td>\n",
       "      <td>1</td>\n",
       "      <td>8</td>\n",
       "      <td>...</td>\n",
       "      <td>10</td>\n",
       "      <td>2.002093</td>\n",
       "      <td>0.003193</td>\n",
       "      <td>0.001876</td>\n",
       "      <td>0.002416</td>\n",
       "      <td>0.000641</td>\n",
       "      <td>0.001077</td>\n",
       "      <td>0.000281</td>\n",
       "      <td>0.000463</td>\n",
       "      <td>0.000863</td>\n",
       "    </tr>\n",
       "    <tr>\n",
       "      <th>...</th>\n",
       "      <td>...</td>\n",
       "      <td>...</td>\n",
       "      <td>...</td>\n",
       "      <td>...</td>\n",
       "      <td>...</td>\n",
       "      <td>...</td>\n",
       "      <td>...</td>\n",
       "      <td>...</td>\n",
       "      <td>...</td>\n",
       "      <td>...</td>\n",
       "      <td>...</td>\n",
       "      <td>...</td>\n",
       "      <td>...</td>\n",
       "      <td>...</td>\n",
       "      <td>...</td>\n",
       "      <td>...</td>\n",
       "      <td>...</td>\n",
       "      <td>...</td>\n",
       "      <td>...</td>\n",
       "      <td>...</td>\n",
       "      <td>...</td>\n",
       "    </tr>\n",
       "    <tr>\n",
       "      <th>516240</th>\n",
       "      <td>5.000000</td>\n",
       "      <td>2015-05-24 04:40:59+00:00</td>\n",
       "      <td>-73.985359</td>\n",
       "      <td>40.727528</td>\n",
       "      <td>-73.979675</td>\n",
       "      <td>40.739090</td>\n",
       "      <td>1</td>\n",
       "      <td>2015</td>\n",
       "      <td>5</td>\n",
       "      <td>24</td>\n",
       "      <td>...</td>\n",
       "      <td>4</td>\n",
       "      <td>2.002018</td>\n",
       "      <td>0.003118</td>\n",
       "      <td>0.001546</td>\n",
       "      <td>0.002719</td>\n",
       "      <td>0.000353</td>\n",
       "      <td>0.000736</td>\n",
       "      <td>0.000640</td>\n",
       "      <td>0.000181</td>\n",
       "      <td>0.001222</td>\n",
       "    </tr>\n",
       "    <tr>\n",
       "      <th>376222</th>\n",
       "      <td>7.700000</td>\n",
       "      <td>2011-04-11 21:10:00+00:00</td>\n",
       "      <td>-73.952942</td>\n",
       "      <td>40.783051</td>\n",
       "      <td>-73.967659</td>\n",
       "      <td>40.800373</td>\n",
       "      <td>5</td>\n",
       "      <td>2011</td>\n",
       "      <td>4</td>\n",
       "      <td>11</td>\n",
       "      <td>...</td>\n",
       "      <td>21</td>\n",
       "      <td>2.002778</td>\n",
       "      <td>0.003684</td>\n",
       "      <td>0.001352</td>\n",
       "      <td>0.003350</td>\n",
       "      <td>0.000760</td>\n",
       "      <td>0.000371</td>\n",
       "      <td>0.001645</td>\n",
       "      <td>0.000938</td>\n",
       "      <td>0.002190</td>\n",
       "    </tr>\n",
       "    <tr>\n",
       "      <th>479315</th>\n",
       "      <td>5.700000</td>\n",
       "      <td>2010-10-20 01:44:14+00:00</td>\n",
       "      <td>-73.993790</td>\n",
       "      <td>40.721069</td>\n",
       "      <td>-73.987717</td>\n",
       "      <td>40.710655</td>\n",
       "      <td>1</td>\n",
       "      <td>2010</td>\n",
       "      <td>10</td>\n",
       "      <td>20</td>\n",
       "      <td>...</td>\n",
       "      <td>1</td>\n",
       "      <td>2.002046</td>\n",
       "      <td>0.002985</td>\n",
       "      <td>0.001883</td>\n",
       "      <td>0.002499</td>\n",
       "      <td>0.000843</td>\n",
       "      <td>0.001243</td>\n",
       "      <td>0.000342</td>\n",
       "      <td>0.000659</td>\n",
       "      <td>0.000840</td>\n",
       "    </tr>\n",
       "    <tr>\n",
       "      <th>214228</th>\n",
       "      <td>7.500000</td>\n",
       "      <td>2014-09-09 21:35:00+00:00</td>\n",
       "      <td>-73.965958</td>\n",
       "      <td>40.760506</td>\n",
       "      <td>-73.981697</td>\n",
       "      <td>40.743134</td>\n",
       "      <td>5</td>\n",
       "      <td>2014</td>\n",
       "      <td>9</td>\n",
       "      <td>9</td>\n",
       "      <td>...</td>\n",
       "      <td>21</td>\n",
       "      <td>2.002629</td>\n",
       "      <td>0.003178</td>\n",
       "      <td>0.001545</td>\n",
       "      <td>0.002717</td>\n",
       "      <td>0.000279</td>\n",
       "      <td>0.000679</td>\n",
       "      <td>0.000676</td>\n",
       "      <td>0.000106</td>\n",
       "      <td>0.001256</td>\n",
       "    </tr>\n",
       "    <tr>\n",
       "      <th>469328</th>\n",
       "      <td>10.100000</td>\n",
       "      <td>2009-08-14 21:55:00+00:00</td>\n",
       "      <td>-73.976036</td>\n",
       "      <td>40.754021</td>\n",
       "      <td>-73.972633</td>\n",
       "      <td>40.785610</td>\n",
       "      <td>5</td>\n",
       "      <td>2009</td>\n",
       "      <td>8</td>\n",
       "      <td>14</td>\n",
       "      <td>...</td>\n",
       "      <td>21</td>\n",
       "      <td>2.002358</td>\n",
       "      <td>0.003546</td>\n",
       "      <td>0.001350</td>\n",
       "      <td>0.003153</td>\n",
       "      <td>0.000495</td>\n",
       "      <td>0.000165</td>\n",
       "      <td>0.001381</td>\n",
       "      <td>0.000672</td>\n",
       "      <td>0.001933</td>\n",
       "    </tr>\n",
       "  </tbody>\n",
       "</table>\n",
       "<p>430990 rows × 21 columns</p>\n",
       "</div>"
      ],
      "text/plain": [
       "        fare_amount           pickup_datetime  pickup_longitude  \\\n",
       "90475      8.100000 2009-11-21 01:29:00+00:00        -73.995415   \n",
       "320476     6.500000 2012-03-31 22:15:00+00:00        -73.996178   \n",
       "189863    23.299999 2009-10-31 22:04:00+00:00        -73.968178   \n",
       "25954      8.900000 2010-04-18 00:28:00+00:00        -73.982391   \n",
       "195808     7.000000 2015-01-08 10:03:13+00:00        -74.008781   \n",
       "...             ...                       ...               ...   \n",
       "516240     5.000000 2015-05-24 04:40:59+00:00        -73.985359   \n",
       "376222     7.700000 2011-04-11 21:10:00+00:00        -73.952942   \n",
       "479315     5.700000 2010-10-20 01:44:14+00:00        -73.993790   \n",
       "214228     7.500000 2014-09-09 21:35:00+00:00        -73.965958   \n",
       "469328    10.100000 2009-08-14 21:55:00+00:00        -73.976036   \n",
       "\n",
       "        pickup_latitude  dropoff_longitude  dropoff_latitude  passenger_count  \\\n",
       "90475         40.745533         -73.969963         40.759899                1   \n",
       "320476        40.724167         -73.980553         40.722466                1   \n",
       "189863        40.786976         -73.996086         40.720158                5   \n",
       "25954         40.774143         -73.967094         40.806057                1   \n",
       "195808        40.714054         -73.997429         40.723392                1   \n",
       "...                 ...                ...               ...              ...   \n",
       "516240        40.727528         -73.979675         40.739090                1   \n",
       "376222        40.783051         -73.967659         40.800373                5   \n",
       "479315        40.721069         -73.987717         40.710655                1   \n",
       "214228        40.760506         -73.981697         40.743134                5   \n",
       "469328        40.754021         -73.972633         40.785610                5   \n",
       "\n",
       "        pickup_datetime_year  pickup_datetime_month  pickup_datetime_day  ...  \\\n",
       "90475                   2009                     11                   21  ...   \n",
       "320476                  2012                      3                   31  ...   \n",
       "189863                  2009                     10                   31  ...   \n",
       "25954                   2010                      4                   18  ...   \n",
       "195808                  2015                      1                    8  ...   \n",
       "...                      ...                    ...                  ...  ...   \n",
       "516240                  2015                      5                   24  ...   \n",
       "376222                  2011                      4                   11  ...   \n",
       "479315                  2010                     10                   20  ...   \n",
       "214228                  2014                      9                    9  ...   \n",
       "469328                  2009                      8                   14  ...   \n",
       "\n",
       "        pickup_datetime_hour  distance  jfk_drop_dist  lga_drop_dist  \\\n",
       "90475                      1  2.002163       0.003223       0.001319   \n",
       "320476                    22  2.001975       0.002986       0.001690   \n",
       "189863                    22  2.003342       0.003153       0.001887   \n",
       "25954                      0  2.002612       0.003753       0.001383   \n",
       "195808                    10  2.002093       0.003193       0.001876   \n",
       "...                      ...       ...            ...            ...   \n",
       "516240                     4  2.002018       0.003118       0.001546   \n",
       "376222                    21  2.002778       0.003684       0.001352   \n",
       "479315                     1  2.002046       0.002985       0.001883   \n",
       "214228                    21  2.002629       0.003178       0.001545   \n",
       "469328                    21  2.002358       0.003546       0.001350   \n",
       "\n",
       "        ewa_drop_dist  times_square_drop_dist  met_drop_dist  wtc_drop_dist  \\\n",
       "90475        0.002971                0.000201       0.000352       0.001004   \n",
       "320476       0.002630                0.000639       0.001020       0.000466   \n",
       "189863       0.002421                0.000691       0.001122       0.000263   \n",
       "25954        0.003415                0.000857       0.000468       0.001740   \n",
       "195808       0.002416                0.000641       0.001077       0.000281   \n",
       "...               ...                     ...            ...            ...   \n",
       "516240       0.002719                0.000353       0.000736       0.000640   \n",
       "376222       0.003350                0.000760       0.000371       0.001645   \n",
       "479315       0.002499                0.000843       0.001243       0.000342   \n",
       "214228       0.002717                0.000279       0.000679       0.000676   \n",
       "469328       0.003153                0.000495       0.000165       0.001381   \n",
       "\n",
       "        esb_drop_dist  liberty_drop_dist  \n",
       "90475        0.000289           0.001579  \n",
       "320476       0.000458           0.001026  \n",
       "189863       0.000512           0.000838  \n",
       "25954        0.001036           0.002282  \n",
       "195808       0.000463           0.000863  \n",
       "...               ...                ...  \n",
       "516240       0.000181           0.001222  \n",
       "376222       0.000938           0.002190  \n",
       "479315       0.000659           0.000840  \n",
       "214228       0.000106           0.001256  \n",
       "469328       0.000672           0.001933  \n",
       "\n",
       "[430990 rows x 21 columns]"
      ]
     },
     "execution_count": 71,
     "metadata": {},
     "output_type": "execute_result"
    }
   ],
   "source": [
    "train"
   ]
  },
  {
   "cell_type": "code",
   "execution_count": 72,
   "id": "d3864dc0",
   "metadata": {
    "execution": {
     "iopub.execute_input": "2024-04-05T16:09:12.517631Z",
     "iopub.status.busy": "2024-04-05T16:09:12.517159Z",
     "iopub.status.idle": "2024-04-05T16:09:12.912369Z",
     "shell.execute_reply": "2024-04-05T16:09:12.911066Z"
    },
    "papermill": {
     "duration": 0.429492,
     "end_time": "2024-04-05T16:09:12.914892",
     "exception": false,
     "start_time": "2024-04-05T16:09:12.485400",
     "status": "completed"
    },
    "tags": []
   },
   "outputs": [
    {
     "data": {
      "text/html": [
       "<div>\n",
       "<style scoped>\n",
       "    .dataframe tbody tr th:only-of-type {\n",
       "        vertical-align: middle;\n",
       "    }\n",
       "\n",
       "    .dataframe tbody tr th {\n",
       "        vertical-align: top;\n",
       "    }\n",
       "\n",
       "    .dataframe thead th {\n",
       "        text-align: right;\n",
       "    }\n",
       "</style>\n",
       "<table border=\"1\" class=\"dataframe\">\n",
       "  <thead>\n",
       "    <tr style=\"text-align: right;\">\n",
       "      <th></th>\n",
       "      <th>count</th>\n",
       "      <th>mean</th>\n",
       "      <th>std</th>\n",
       "      <th>min</th>\n",
       "      <th>25%</th>\n",
       "      <th>50%</th>\n",
       "      <th>75%</th>\n",
       "      <th>max</th>\n",
       "    </tr>\n",
       "  </thead>\n",
       "  <tbody>\n",
       "    <tr>\n",
       "      <th>fare_amount</th>\n",
       "      <td>430990.0</td>\n",
       "      <td>11.340783</td>\n",
       "      <td>9.725743</td>\n",
       "      <td>1.000000e+00</td>\n",
       "      <td>6.000000</td>\n",
       "      <td>8.500000</td>\n",
       "      <td>12.500000</td>\n",
       "      <td>499.000000</td>\n",
       "    </tr>\n",
       "    <tr>\n",
       "      <th>pickup_longitude</th>\n",
       "      <td>430990.0</td>\n",
       "      <td>-73.975105</td>\n",
       "      <td>0.039283</td>\n",
       "      <td>-7.493459e+01</td>\n",
       "      <td>-73.992210</td>\n",
       "      <td>-73.982094</td>\n",
       "      <td>-73.968369</td>\n",
       "      <td>-72.471581</td>\n",
       "    </tr>\n",
       "    <tr>\n",
       "      <th>pickup_latitude</th>\n",
       "      <td>430990.0</td>\n",
       "      <td>40.750999</td>\n",
       "      <td>0.029997</td>\n",
       "      <td>4.006390e+01</td>\n",
       "      <td>40.736546</td>\n",
       "      <td>40.753368</td>\n",
       "      <td>40.767483</td>\n",
       "      <td>41.787712</td>\n",
       "    </tr>\n",
       "    <tr>\n",
       "      <th>dropoff_longitude</th>\n",
       "      <td>430990.0</td>\n",
       "      <td>-73.974373</td>\n",
       "      <td>0.038514</td>\n",
       "      <td>-7.494644e+01</td>\n",
       "      <td>-73.991608</td>\n",
       "      <td>-73.980621</td>\n",
       "      <td>-73.965446</td>\n",
       "      <td>-72.113823</td>\n",
       "    </tr>\n",
       "    <tr>\n",
       "      <th>dropoff_latitude</th>\n",
       "      <td>430990.0</td>\n",
       "      <td>40.751320</td>\n",
       "      <td>0.033167</td>\n",
       "      <td>4.005421e+01</td>\n",
       "      <td>40.735512</td>\n",
       "      <td>40.753796</td>\n",
       "      <td>40.768387</td>\n",
       "      <td>41.806301</td>\n",
       "    </tr>\n",
       "    <tr>\n",
       "      <th>passenger_count</th>\n",
       "      <td>430990.0</td>\n",
       "      <td>1.691944</td>\n",
       "      <td>1.307607</td>\n",
       "      <td>1.000000e+00</td>\n",
       "      <td>1.000000</td>\n",
       "      <td>1.000000</td>\n",
       "      <td>2.000000</td>\n",
       "      <td>6.000000</td>\n",
       "    </tr>\n",
       "    <tr>\n",
       "      <th>pickup_datetime_year</th>\n",
       "      <td>430990.0</td>\n",
       "      <td>2011.738405</td>\n",
       "      <td>1.863615</td>\n",
       "      <td>2.009000e+03</td>\n",
       "      <td>2010.000000</td>\n",
       "      <td>2012.000000</td>\n",
       "      <td>2013.000000</td>\n",
       "      <td>2015.000000</td>\n",
       "    </tr>\n",
       "    <tr>\n",
       "      <th>pickup_datetime_month</th>\n",
       "      <td>430990.0</td>\n",
       "      <td>6.271097</td>\n",
       "      <td>3.436970</td>\n",
       "      <td>1.000000e+00</td>\n",
       "      <td>3.000000</td>\n",
       "      <td>6.000000</td>\n",
       "      <td>9.000000</td>\n",
       "      <td>12.000000</td>\n",
       "    </tr>\n",
       "    <tr>\n",
       "      <th>pickup_datetime_day</th>\n",
       "      <td>430990.0</td>\n",
       "      <td>15.724492</td>\n",
       "      <td>8.691109</td>\n",
       "      <td>1.000000e+00</td>\n",
       "      <td>8.000000</td>\n",
       "      <td>16.000000</td>\n",
       "      <td>23.000000</td>\n",
       "      <td>31.000000</td>\n",
       "    </tr>\n",
       "    <tr>\n",
       "      <th>pickup_datetime_weekday</th>\n",
       "      <td>430990.0</td>\n",
       "      <td>3.037210</td>\n",
       "      <td>1.951696</td>\n",
       "      <td>0.000000e+00</td>\n",
       "      <td>1.000000</td>\n",
       "      <td>3.000000</td>\n",
       "      <td>5.000000</td>\n",
       "      <td>6.000000</td>\n",
       "    </tr>\n",
       "    <tr>\n",
       "      <th>pickup_datetime_hour</th>\n",
       "      <td>430990.0</td>\n",
       "      <td>13.503564</td>\n",
       "      <td>6.515723</td>\n",
       "      <td>0.000000e+00</td>\n",
       "      <td>9.000000</td>\n",
       "      <td>14.000000</td>\n",
       "      <td>19.000000</td>\n",
       "      <td>23.000000</td>\n",
       "    </tr>\n",
       "    <tr>\n",
       "      <th>distance</th>\n",
       "      <td>430990.0</td>\n",
       "      <td>2.002335</td>\n",
       "      <td>0.000782</td>\n",
       "      <td>1.970663e+00</td>\n",
       "      <td>2.002145</td>\n",
       "      <td>2.002457</td>\n",
       "      <td>2.002728</td>\n",
       "      <td>2.027064</td>\n",
       "    </tr>\n",
       "    <tr>\n",
       "      <th>jfk_drop_dist</th>\n",
       "      <td>430990.0</td>\n",
       "      <td>0.003235</td>\n",
       "      <td>0.000488</td>\n",
       "      <td>1.045548e-05</td>\n",
       "      <td>0.003173</td>\n",
       "      <td>0.003275</td>\n",
       "      <td>0.003389</td>\n",
       "      <td>0.022173</td>\n",
       "    </tr>\n",
       "    <tr>\n",
       "      <th>lga_drop_dist</th>\n",
       "      <td>430990.0</td>\n",
       "      <td>0.001533</td>\n",
       "      <td>0.000478</td>\n",
       "      <td>9.971403e-06</td>\n",
       "      <td>0.001332</td>\n",
       "      <td>0.001509</td>\n",
       "      <td>0.001729</td>\n",
       "      <td>0.023668</td>\n",
       "    </tr>\n",
       "    <tr>\n",
       "      <th>ewa_drop_dist</th>\n",
       "      <td>430990.0</td>\n",
       "      <td>0.002901</td>\n",
       "      <td>0.000591</td>\n",
       "      <td>2.029927e-05</td>\n",
       "      <td>0.002588</td>\n",
       "      <td>0.002821</td>\n",
       "      <td>0.003108</td>\n",
       "      <td>0.027448</td>\n",
       "    </tr>\n",
       "    <tr>\n",
       "      <th>times_square_drop_dist</th>\n",
       "      <td>430990.0</td>\n",
       "      <td>0.000532</td>\n",
       "      <td>0.000591</td>\n",
       "      <td>3.114022e-07</td>\n",
       "      <td>0.000203</td>\n",
       "      <td>0.000396</td>\n",
       "      <td>0.000635</td>\n",
       "      <td>0.025106</td>\n",
       "    </tr>\n",
       "    <tr>\n",
       "      <th>met_drop_dist</th>\n",
       "      <td>430990.0</td>\n",
       "      <td>0.000706</td>\n",
       "      <td>0.000598</td>\n",
       "      <td>4.899556e-06</td>\n",
       "      <td>0.000335</td>\n",
       "      <td>0.000583</td>\n",
       "      <td>0.000926</td>\n",
       "      <td>0.024876</td>\n",
       "    </tr>\n",
       "    <tr>\n",
       "      <th>wtc_drop_dist</th>\n",
       "      <td>430990.0</td>\n",
       "      <td>0.000958</td>\n",
       "      <td>0.000629</td>\n",
       "      <td>3.991463e-06</td>\n",
       "      <td>0.000584</td>\n",
       "      <td>0.000882</td>\n",
       "      <td>0.001221</td>\n",
       "      <td>0.025369</td>\n",
       "    </tr>\n",
       "    <tr>\n",
       "      <th>esb_drop_dist</th>\n",
       "      <td>430990.0</td>\n",
       "      <td>0.000526</td>\n",
       "      <td>0.000585</td>\n",
       "      <td>6.184144e-07</td>\n",
       "      <td>0.000212</td>\n",
       "      <td>0.000369</td>\n",
       "      <td>0.000659</td>\n",
       "      <td>0.025087</td>\n",
       "    </tr>\n",
       "    <tr>\n",
       "      <th>liberty_drop_dist</th>\n",
       "      <td>430990.0</td>\n",
       "      <td>0.001498</td>\n",
       "      <td>0.000623</td>\n",
       "      <td>4.836692e-05</td>\n",
       "      <td>0.001125</td>\n",
       "      <td>0.001432</td>\n",
       "      <td>0.001775</td>\n",
       "      <td>0.025735</td>\n",
       "    </tr>\n",
       "  </tbody>\n",
       "</table>\n",
       "</div>"
      ],
      "text/plain": [
       "                            count         mean       std           min  \\\n",
       "fare_amount              430990.0    11.340783  9.725743  1.000000e+00   \n",
       "pickup_longitude         430990.0   -73.975105  0.039283 -7.493459e+01   \n",
       "pickup_latitude          430990.0    40.750999  0.029997  4.006390e+01   \n",
       "dropoff_longitude        430990.0   -73.974373  0.038514 -7.494644e+01   \n",
       "dropoff_latitude         430990.0    40.751320  0.033167  4.005421e+01   \n",
       "passenger_count          430990.0     1.691944  1.307607  1.000000e+00   \n",
       "pickup_datetime_year     430990.0  2011.738405  1.863615  2.009000e+03   \n",
       "pickup_datetime_month    430990.0     6.271097  3.436970  1.000000e+00   \n",
       "pickup_datetime_day      430990.0    15.724492  8.691109  1.000000e+00   \n",
       "pickup_datetime_weekday  430990.0     3.037210  1.951696  0.000000e+00   \n",
       "pickup_datetime_hour     430990.0    13.503564  6.515723  0.000000e+00   \n",
       "distance                 430990.0     2.002335  0.000782  1.970663e+00   \n",
       "jfk_drop_dist            430990.0     0.003235  0.000488  1.045548e-05   \n",
       "lga_drop_dist            430990.0     0.001533  0.000478  9.971403e-06   \n",
       "ewa_drop_dist            430990.0     0.002901  0.000591  2.029927e-05   \n",
       "times_square_drop_dist   430990.0     0.000532  0.000591  3.114022e-07   \n",
       "met_drop_dist            430990.0     0.000706  0.000598  4.899556e-06   \n",
       "wtc_drop_dist            430990.0     0.000958  0.000629  3.991463e-06   \n",
       "esb_drop_dist            430990.0     0.000526  0.000585  6.184144e-07   \n",
       "liberty_drop_dist        430990.0     0.001498  0.000623  4.836692e-05   \n",
       "\n",
       "                                 25%          50%          75%          max  \n",
       "fare_amount                 6.000000     8.500000    12.500000   499.000000  \n",
       "pickup_longitude          -73.992210   -73.982094   -73.968369   -72.471581  \n",
       "pickup_latitude            40.736546    40.753368    40.767483    41.787712  \n",
       "dropoff_longitude         -73.991608   -73.980621   -73.965446   -72.113823  \n",
       "dropoff_latitude           40.735512    40.753796    40.768387    41.806301  \n",
       "passenger_count             1.000000     1.000000     2.000000     6.000000  \n",
       "pickup_datetime_year     2010.000000  2012.000000  2013.000000  2015.000000  \n",
       "pickup_datetime_month       3.000000     6.000000     9.000000    12.000000  \n",
       "pickup_datetime_day         8.000000    16.000000    23.000000    31.000000  \n",
       "pickup_datetime_weekday     1.000000     3.000000     5.000000     6.000000  \n",
       "pickup_datetime_hour        9.000000    14.000000    19.000000    23.000000  \n",
       "distance                    2.002145     2.002457     2.002728     2.027064  \n",
       "jfk_drop_dist               0.003173     0.003275     0.003389     0.022173  \n",
       "lga_drop_dist               0.001332     0.001509     0.001729     0.023668  \n",
       "ewa_drop_dist               0.002588     0.002821     0.003108     0.027448  \n",
       "times_square_drop_dist      0.000203     0.000396     0.000635     0.025106  \n",
       "met_drop_dist               0.000335     0.000583     0.000926     0.024876  \n",
       "wtc_drop_dist               0.000584     0.000882     0.001221     0.025369  \n",
       "esb_drop_dist               0.000212     0.000369     0.000659     0.025087  \n",
       "liberty_drop_dist           0.001125     0.001432     0.001775     0.025735  "
      ]
     },
     "execution_count": 72,
     "metadata": {},
     "output_type": "execute_result"
    }
   ],
   "source": [
    "train.describe().T"
   ]
  },
  {
   "cell_type": "code",
   "execution_count": 73,
   "id": "0e175003",
   "metadata": {
    "execution": {
     "iopub.execute_input": "2024-04-05T16:09:12.977346Z",
     "iopub.status.busy": "2024-04-05T16:09:12.976924Z",
     "iopub.status.idle": "2024-04-05T16:09:13.038278Z",
     "shell.execute_reply": "2024-04-05T16:09:13.037360Z"
    },
    "papermill": {
     "duration": 0.094266,
     "end_time": "2024-04-05T16:09:13.040423",
     "exception": false,
     "start_time": "2024-04-05T16:09:12.946157",
     "status": "completed"
    },
    "tags": []
   },
   "outputs": [
    {
     "data": {
      "text/html": [
       "<div>\n",
       "<style scoped>\n",
       "    .dataframe tbody tr th:only-of-type {\n",
       "        vertical-align: middle;\n",
       "    }\n",
       "\n",
       "    .dataframe tbody tr th {\n",
       "        vertical-align: top;\n",
       "    }\n",
       "\n",
       "    .dataframe thead th {\n",
       "        text-align: right;\n",
       "    }\n",
       "</style>\n",
       "<table border=\"1\" class=\"dataframe\">\n",
       "  <thead>\n",
       "    <tr style=\"text-align: right;\">\n",
       "      <th></th>\n",
       "      <th>count</th>\n",
       "      <th>mean</th>\n",
       "      <th>std</th>\n",
       "      <th>min</th>\n",
       "      <th>25%</th>\n",
       "      <th>50%</th>\n",
       "      <th>75%</th>\n",
       "      <th>max</th>\n",
       "    </tr>\n",
       "  </thead>\n",
       "  <tbody>\n",
       "    <tr>\n",
       "      <th>pickup_longitude</th>\n",
       "      <td>9914.0</td>\n",
       "      <td>-73.974716</td>\n",
       "      <td>0.042774</td>\n",
       "      <td>-74.252190</td>\n",
       "      <td>-73.992500</td>\n",
       "      <td>-73.982327</td>\n",
       "      <td>-73.968012</td>\n",
       "      <td>-72.986534</td>\n",
       "    </tr>\n",
       "    <tr>\n",
       "      <th>pickup_latitude</th>\n",
       "      <td>9914.0</td>\n",
       "      <td>40.751041</td>\n",
       "      <td>0.033541</td>\n",
       "      <td>40.573143</td>\n",
       "      <td>40.736125</td>\n",
       "      <td>40.753052</td>\n",
       "      <td>40.767113</td>\n",
       "      <td>41.709557</td>\n",
       "    </tr>\n",
       "    <tr>\n",
       "      <th>dropoff_longitude</th>\n",
       "      <td>9914.0</td>\n",
       "      <td>-73.973656</td>\n",
       "      <td>0.039072</td>\n",
       "      <td>-74.263245</td>\n",
       "      <td>-73.991249</td>\n",
       "      <td>-73.980015</td>\n",
       "      <td>-73.964062</td>\n",
       "      <td>-72.990967</td>\n",
       "    </tr>\n",
       "    <tr>\n",
       "      <th>dropoff_latitude</th>\n",
       "      <td>9914.0</td>\n",
       "      <td>40.751740</td>\n",
       "      <td>0.035435</td>\n",
       "      <td>40.568974</td>\n",
       "      <td>40.735253</td>\n",
       "      <td>40.754065</td>\n",
       "      <td>40.768757</td>\n",
       "      <td>41.696682</td>\n",
       "    </tr>\n",
       "    <tr>\n",
       "      <th>passenger_count</th>\n",
       "      <td>9914.0</td>\n",
       "      <td>1.671273</td>\n",
       "      <td>1.278747</td>\n",
       "      <td>1.000000</td>\n",
       "      <td>1.000000</td>\n",
       "      <td>1.000000</td>\n",
       "      <td>2.000000</td>\n",
       "      <td>6.000000</td>\n",
       "    </tr>\n",
       "    <tr>\n",
       "      <th>pickup_datetime_year</th>\n",
       "      <td>9914.0</td>\n",
       "      <td>2011.815816</td>\n",
       "      <td>1.803347</td>\n",
       "      <td>2009.000000</td>\n",
       "      <td>2010.000000</td>\n",
       "      <td>2012.000000</td>\n",
       "      <td>2014.000000</td>\n",
       "      <td>2015.000000</td>\n",
       "    </tr>\n",
       "    <tr>\n",
       "      <th>pickup_datetime_month</th>\n",
       "      <td>9914.0</td>\n",
       "      <td>6.857979</td>\n",
       "      <td>3.353272</td>\n",
       "      <td>1.000000</td>\n",
       "      <td>4.000000</td>\n",
       "      <td>7.000000</td>\n",
       "      <td>10.000000</td>\n",
       "      <td>12.000000</td>\n",
       "    </tr>\n",
       "    <tr>\n",
       "      <th>pickup_datetime_day</th>\n",
       "      <td>9914.0</td>\n",
       "      <td>16.194170</td>\n",
       "      <td>8.838482</td>\n",
       "      <td>1.000000</td>\n",
       "      <td>9.000000</td>\n",
       "      <td>16.000000</td>\n",
       "      <td>25.000000</td>\n",
       "      <td>31.000000</td>\n",
       "    </tr>\n",
       "    <tr>\n",
       "      <th>pickup_datetime_weekday</th>\n",
       "      <td>9914.0</td>\n",
       "      <td>2.852834</td>\n",
       "      <td>1.994451</td>\n",
       "      <td>0.000000</td>\n",
       "      <td>1.000000</td>\n",
       "      <td>3.000000</td>\n",
       "      <td>5.000000</td>\n",
       "      <td>6.000000</td>\n",
       "    </tr>\n",
       "    <tr>\n",
       "      <th>pickup_datetime_hour</th>\n",
       "      <td>9914.0</td>\n",
       "      <td>13.467420</td>\n",
       "      <td>6.868584</td>\n",
       "      <td>0.000000</td>\n",
       "      <td>8.000000</td>\n",
       "      <td>15.000000</td>\n",
       "      <td>19.000000</td>\n",
       "      <td>23.000000</td>\n",
       "    </tr>\n",
       "    <tr>\n",
       "      <th>distance</th>\n",
       "      <td>9914.0</td>\n",
       "      <td>2.002324</td>\n",
       "      <td>0.000767</td>\n",
       "      <td>1.995723</td>\n",
       "      <td>2.002120</td>\n",
       "      <td>2.002442</td>\n",
       "      <td>2.002721</td>\n",
       "      <td>2.013310</td>\n",
       "    </tr>\n",
       "    <tr>\n",
       "      <th>jfk_drop_dist</th>\n",
       "      <td>9914.0</td>\n",
       "      <td>0.003235</td>\n",
       "      <td>0.000517</td>\n",
       "      <td>0.000022</td>\n",
       "      <td>0.003172</td>\n",
       "      <td>0.003276</td>\n",
       "      <td>0.003391</td>\n",
       "      <td>0.021084</td>\n",
       "    </tr>\n",
       "    <tr>\n",
       "      <th>lga_drop_dist</th>\n",
       "      <td>9914.0</td>\n",
       "      <td>0.001530</td>\n",
       "      <td>0.000511</td>\n",
       "      <td>0.000016</td>\n",
       "      <td>0.001328</td>\n",
       "      <td>0.001502</td>\n",
       "      <td>0.001725</td>\n",
       "      <td>0.019834</td>\n",
       "    </tr>\n",
       "    <tr>\n",
       "      <th>ewa_drop_dist</th>\n",
       "      <td>9914.0</td>\n",
       "      <td>0.002913</td>\n",
       "      <td>0.000634</td>\n",
       "      <td>0.000045</td>\n",
       "      <td>0.002595</td>\n",
       "      <td>0.002831</td>\n",
       "      <td>0.003122</td>\n",
       "      <td>0.023465</td>\n",
       "    </tr>\n",
       "    <tr>\n",
       "      <th>times_square_drop_dist</th>\n",
       "      <td>9914.0</td>\n",
       "      <td>0.000541</td>\n",
       "      <td>0.000628</td>\n",
       "      <td>0.000003</td>\n",
       "      <td>0.000201</td>\n",
       "      <td>0.000404</td>\n",
       "      <td>0.000648</td>\n",
       "      <td>0.020933</td>\n",
       "    </tr>\n",
       "    <tr>\n",
       "      <th>met_drop_dist</th>\n",
       "      <td>9914.0</td>\n",
       "      <td>0.000709</td>\n",
       "      <td>0.000631</td>\n",
       "      <td>0.000013</td>\n",
       "      <td>0.000334</td>\n",
       "      <td>0.000581</td>\n",
       "      <td>0.000930</td>\n",
       "      <td>0.020472</td>\n",
       "    </tr>\n",
       "    <tr>\n",
       "      <th>wtc_drop_dist</th>\n",
       "      <td>9914.0</td>\n",
       "      <td>0.000969</td>\n",
       "      <td>0.000670</td>\n",
       "      <td>0.000016</td>\n",
       "      <td>0.000597</td>\n",
       "      <td>0.000892</td>\n",
       "      <td>0.001240</td>\n",
       "      <td>0.021798</td>\n",
       "    </tr>\n",
       "    <tr>\n",
       "      <th>esb_drop_dist</th>\n",
       "      <td>9914.0</td>\n",
       "      <td>0.000538</td>\n",
       "      <td>0.000623</td>\n",
       "      <td>0.000003</td>\n",
       "      <td>0.000214</td>\n",
       "      <td>0.000380</td>\n",
       "      <td>0.000674</td>\n",
       "      <td>0.021082</td>\n",
       "    </tr>\n",
       "    <tr>\n",
       "      <th>liberty_drop_dist</th>\n",
       "      <td>9914.0</td>\n",
       "      <td>0.001508</td>\n",
       "      <td>0.000667</td>\n",
       "      <td>0.000408</td>\n",
       "      <td>0.001132</td>\n",
       "      <td>0.001438</td>\n",
       "      <td>0.001788</td>\n",
       "      <td>0.022375</td>\n",
       "    </tr>\n",
       "  </tbody>\n",
       "</table>\n",
       "</div>"
      ],
      "text/plain": [
       "                          count         mean       std          min  \\\n",
       "pickup_longitude         9914.0   -73.974716  0.042774   -74.252190   \n",
       "pickup_latitude          9914.0    40.751041  0.033541    40.573143   \n",
       "dropoff_longitude        9914.0   -73.973656  0.039072   -74.263245   \n",
       "dropoff_latitude         9914.0    40.751740  0.035435    40.568974   \n",
       "passenger_count          9914.0     1.671273  1.278747     1.000000   \n",
       "pickup_datetime_year     9914.0  2011.815816  1.803347  2009.000000   \n",
       "pickup_datetime_month    9914.0     6.857979  3.353272     1.000000   \n",
       "pickup_datetime_day      9914.0    16.194170  8.838482     1.000000   \n",
       "pickup_datetime_weekday  9914.0     2.852834  1.994451     0.000000   \n",
       "pickup_datetime_hour     9914.0    13.467420  6.868584     0.000000   \n",
       "distance                 9914.0     2.002324  0.000767     1.995723   \n",
       "jfk_drop_dist            9914.0     0.003235  0.000517     0.000022   \n",
       "lga_drop_dist            9914.0     0.001530  0.000511     0.000016   \n",
       "ewa_drop_dist            9914.0     0.002913  0.000634     0.000045   \n",
       "times_square_drop_dist   9914.0     0.000541  0.000628     0.000003   \n",
       "met_drop_dist            9914.0     0.000709  0.000631     0.000013   \n",
       "wtc_drop_dist            9914.0     0.000969  0.000670     0.000016   \n",
       "esb_drop_dist            9914.0     0.000538  0.000623     0.000003   \n",
       "liberty_drop_dist        9914.0     0.001508  0.000667     0.000408   \n",
       "\n",
       "                                 25%          50%          75%          max  \n",
       "pickup_longitude          -73.992500   -73.982327   -73.968012   -72.986534  \n",
       "pickup_latitude            40.736125    40.753052    40.767113    41.709557  \n",
       "dropoff_longitude         -73.991249   -73.980015   -73.964062   -72.990967  \n",
       "dropoff_latitude           40.735253    40.754065    40.768757    41.696682  \n",
       "passenger_count             1.000000     1.000000     2.000000     6.000000  \n",
       "pickup_datetime_year     2010.000000  2012.000000  2014.000000  2015.000000  \n",
       "pickup_datetime_month       4.000000     7.000000    10.000000    12.000000  \n",
       "pickup_datetime_day         9.000000    16.000000    25.000000    31.000000  \n",
       "pickup_datetime_weekday     1.000000     3.000000     5.000000     6.000000  \n",
       "pickup_datetime_hour        8.000000    15.000000    19.000000    23.000000  \n",
       "distance                    2.002120     2.002442     2.002721     2.013310  \n",
       "jfk_drop_dist               0.003172     0.003276     0.003391     0.021084  \n",
       "lga_drop_dist               0.001328     0.001502     0.001725     0.019834  \n",
       "ewa_drop_dist               0.002595     0.002831     0.003122     0.023465  \n",
       "times_square_drop_dist      0.000201     0.000404     0.000648     0.020933  \n",
       "met_drop_dist               0.000334     0.000581     0.000930     0.020472  \n",
       "wtc_drop_dist               0.000597     0.000892     0.001240     0.021798  \n",
       "esb_drop_dist               0.000214     0.000380     0.000674     0.021082  \n",
       "liberty_drop_dist           0.001132     0.001438     0.001788     0.022375  "
      ]
     },
     "execution_count": 73,
     "metadata": {},
     "output_type": "execute_result"
    }
   ],
   "source": [
    "test_data.describe().T"
   ]
  },
  {
   "cell_type": "code",
   "execution_count": null,
   "id": "ef1749c4",
   "metadata": {
    "papermill": {
     "duration": 0.029999,
     "end_time": "2024-04-05T16:09:13.101366",
     "exception": false,
     "start_time": "2024-04-05T16:09:13.071367",
     "status": "completed"
    },
    "tags": []
   },
   "outputs": [],
   "source": []
  },
  {
   "cell_type": "code",
   "execution_count": null,
   "id": "641562d0",
   "metadata": {
    "papermill": {
     "duration": 0.029349,
     "end_time": "2024-04-05T16:09:13.161319",
     "exception": false,
     "start_time": "2024-04-05T16:09:13.131970",
     "status": "completed"
    },
    "tags": []
   },
   "outputs": [],
   "source": []
  },
  {
   "cell_type": "code",
   "execution_count": null,
   "id": "7bbc4a81",
   "metadata": {
    "papermill": {
     "duration": 0.029513,
     "end_time": "2024-04-05T16:09:13.220635",
     "exception": false,
     "start_time": "2024-04-05T16:09:13.191122",
     "status": "completed"
    },
    "tags": []
   },
   "outputs": [],
   "source": []
  },
  {
   "cell_type": "code",
   "execution_count": null,
   "id": "c6a8094e",
   "metadata": {
    "papermill": {
     "duration": 0.030913,
     "end_time": "2024-04-05T16:09:13.281806",
     "exception": false,
     "start_time": "2024-04-05T16:09:13.250893",
     "status": "completed"
    },
    "tags": []
   },
   "outputs": [],
   "source": []
  },
  {
   "cell_type": "code",
   "execution_count": null,
   "id": "1033f678",
   "metadata": {
    "papermill": {
     "duration": 0.029235,
     "end_time": "2024-04-05T16:09:13.341816",
     "exception": false,
     "start_time": "2024-04-05T16:09:13.312581",
     "status": "completed"
    },
    "tags": []
   },
   "outputs": [],
   "source": []
  },
  {
   "cell_type": "code",
   "execution_count": null,
   "id": "66eb8f01",
   "metadata": {
    "papermill": {
     "duration": 0.029407,
     "end_time": "2024-04-05T16:09:13.401513",
     "exception": false,
     "start_time": "2024-04-05T16:09:13.372106",
     "status": "completed"
    },
    "tags": []
   },
   "outputs": [],
   "source": []
  },
  {
   "cell_type": "code",
   "execution_count": null,
   "id": "0051f376",
   "metadata": {
    "papermill": {
     "duration": 0.034039,
     "end_time": "2024-04-05T16:09:13.465824",
     "exception": false,
     "start_time": "2024-04-05T16:09:13.431785",
     "status": "completed"
    },
    "tags": []
   },
   "outputs": [],
   "source": []
  },
  {
   "cell_type": "code",
   "execution_count": null,
   "id": "4f226277",
   "metadata": {
    "papermill": {
     "duration": 0.030089,
     "end_time": "2024-04-05T16:09:13.526461",
     "exception": false,
     "start_time": "2024-04-05T16:09:13.496372",
     "status": "completed"
    },
    "tags": []
   },
   "outputs": [],
   "source": []
  },
  {
   "cell_type": "code",
   "execution_count": null,
   "id": "0b4f4a33",
   "metadata": {
    "papermill": {
     "duration": 0.029656,
     "end_time": "2024-04-05T16:09:13.588860",
     "exception": false,
     "start_time": "2024-04-05T16:09:13.559204",
     "status": "completed"
    },
    "tags": []
   },
   "outputs": [],
   "source": []
  },
  {
   "cell_type": "code",
   "execution_count": null,
   "id": "9fa25dc5",
   "metadata": {
    "papermill": {
     "duration": 0.029224,
     "end_time": "2024-04-05T16:09:13.648288",
     "exception": false,
     "start_time": "2024-04-05T16:09:13.619064",
     "status": "completed"
    },
    "tags": []
   },
   "outputs": [],
   "source": []
  }
 ],
 "metadata": {
  "kaggle": {
   "accelerator": "none",
   "dataSources": [
    {
     "databundleVersionId": 61318,
     "sourceId": 10170,
     "sourceType": "competition"
    }
   ],
   "dockerImageVersionId": 30673,
   "isGpuEnabled": false,
   "isInternetEnabled": true,
   "language": "python",
   "sourceType": "notebook"
  },
  "kernelspec": {
   "display_name": "Python 3",
   "language": "python",
   "name": "python3"
  },
  "language_info": {
   "codemirror_mode": {
    "name": "ipython",
    "version": 3
   },
   "file_extension": ".py",
   "mimetype": "text/x-python",
   "name": "python",
   "nbconvert_exporter": "python",
   "pygments_lexer": "ipython3",
   "version": "3.10.13"
  },
  "papermill": {
   "default_parameters": {},
   "duration": 143.245573,
   "end_time": "2024-04-05T16:09:14.501310",
   "environment_variables": {},
   "exception": null,
   "input_path": "__notebook__.ipynb",
   "output_path": "__notebook__.ipynb",
   "parameters": {},
   "start_time": "2024-04-05T16:06:51.255737",
   "version": "2.5.0"
  }
 },
 "nbformat": 4,
 "nbformat_minor": 5
}
