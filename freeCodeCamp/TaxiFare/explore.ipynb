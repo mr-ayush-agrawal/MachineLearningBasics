{
 "cells": [
  {
   "cell_type": "code",
   "execution_count": 1,
   "id": "b83cc14e",
   "metadata": {
    "_cell_guid": "b1076dfc-b9ad-4769-8c92-a6c4dae69d19",
    "_uuid": "8f2839f25d086af736a60e9eeb907d3b93b6e0e5",
    "execution": {
     "iopub.execute_input": "2024-04-04T08:12:28.698802Z",
     "iopub.status.busy": "2024-04-04T08:12:28.698437Z",
     "iopub.status.idle": "2024-04-04T08:12:28.714987Z",
     "shell.execute_reply": "2024-04-04T08:12:28.713646Z"
    },
    "papermill": {
     "duration": 0.039665,
     "end_time": "2024-04-04T08:12:28.717754",
     "exception": false,
     "start_time": "2024-04-04T08:12:28.678089",
     "status": "completed"
    },
    "tags": []
   },
   "outputs": [
    {
     "name": "stdout",
     "output_type": "stream",
     "text": [
      "/kaggle/input/new-york-city-taxi-fare-prediction/sample_submission.csv\n",
      "/kaggle/input/new-york-city-taxi-fare-prediction/GCP-Coupons-Instructions.rtf\n",
      "/kaggle/input/new-york-city-taxi-fare-prediction/train.csv\n",
      "/kaggle/input/new-york-city-taxi-fare-prediction/test.csv\n"
     ]
    }
   ],
   "source": [
    "# Input data files are available in the read-only \"../input/\" directory\n",
    "# For example, running this (by clicking run or pressing Shift+Enter) will list all files under the input directory\n",
    "\n",
    "import os\n",
    "for dirname, _, filenames in os.walk('/kaggle/input'):\n",
    "    for filename in filenames:\n",
    "        print(os.path.join(dirname, filename))\n",
    "\n",
    "# You can write up to 20GB to the current directory (/kaggle/working/) that gets preserved as output when you create a version using \"Save & Run All\" \n",
    "# You can also write temporary files to /kaggle/temp/, but they won't be saved outside of the current session"
   ]
  },
  {
   "cell_type": "markdown",
   "id": "3c9de447",
   "metadata": {
    "papermill": {
     "duration": 0.017891,
     "end_time": "2024-04-04T08:12:28.754974",
     "exception": false,
     "start_time": "2024-04-04T08:12:28.737083",
     "status": "completed"
    },
    "tags": []
   },
   "source": [
    "### Setp 1\n",
    "- Install req libs and Load the datas"
   ]
  },
  {
   "cell_type": "code",
   "execution_count": 2,
   "id": "4eeb4ff1",
   "metadata": {
    "execution": {
     "iopub.execute_input": "2024-04-04T08:12:28.793197Z",
     "iopub.status.busy": "2024-04-04T08:12:28.792464Z",
     "iopub.status.idle": "2024-04-04T08:12:29.753585Z",
     "shell.execute_reply": "2024-04-04T08:12:29.752217Z"
    },
    "papermill": {
     "duration": 0.984001,
     "end_time": "2024-04-04T08:12:29.756858",
     "exception": false,
     "start_time": "2024-04-04T08:12:28.772857",
     "status": "completed"
    },
    "tags": []
   },
   "outputs": [],
   "source": [
    "import numpy as np\n",
    "import pandas as pd"
   ]
  },
  {
   "cell_type": "code",
   "execution_count": 3,
   "id": "a466e58d",
   "metadata": {
    "execution": {
     "iopub.execute_input": "2024-04-04T08:12:29.797532Z",
     "iopub.status.busy": "2024-04-04T08:12:29.797007Z",
     "iopub.status.idle": "2024-04-04T08:12:29.802141Z",
     "shell.execute_reply": "2024-04-04T08:12:29.800766Z"
    },
    "papermill": {
     "duration": 0.027861,
     "end_time": "2024-04-04T08:12:29.804450",
     "exception": false,
     "start_time": "2024-04-04T08:12:29.776589",
     "status": "completed"
    },
    "tags": []
   },
   "outputs": [],
   "source": [
    "data_dir = '/kaggle/input/new-york-city-taxi-fare-prediction/'"
   ]
  },
  {
   "cell_type": "code",
   "execution_count": 4,
   "id": "8670ee68",
   "metadata": {
    "execution": {
     "iopub.execute_input": "2024-04-04T08:12:29.841854Z",
     "iopub.status.busy": "2024-04-04T08:12:29.841033Z",
     "iopub.status.idle": "2024-04-04T08:12:30.956073Z",
     "shell.execute_reply": "2024-04-04T08:12:30.954514Z"
    },
    "papermill": {
     "duration": 1.137379,
     "end_time": "2024-04-04T08:12:30.959517",
     "exception": false,
     "start_time": "2024-04-04T08:12:29.822138",
     "status": "completed"
    },
    "tags": []
   },
   "outputs": [
    {
     "name": "stdout",
     "output_type": "stream",
     "text": [
      "total 5.4G\r\n",
      "-rw-r--r-- 1 nobody nogroup  486 Apr  4 03:51 GCP-Coupons-Instructions.rtf\r\n",
      "-rw-r--r-- 1 nobody nogroup 336K Apr  4 03:51 sample_submission.csv\r\n",
      "-rw-r--r-- 1 nobody nogroup 960K Apr  4 03:51 test.csv\r\n",
      "-rw-r--r-- 1 nobody nogroup 5.4G Apr  4 03:53 train.csv\r\n"
     ]
    }
   ],
   "source": [
    "!ls -lh {data_dir}"
   ]
  },
  {
   "cell_type": "markdown",
   "id": "74c5c469",
   "metadata": {
    "papermill": {
     "duration": 0.017691,
     "end_time": "2024-04-04T08:12:30.996014",
     "exception": false,
     "start_time": "2024-04-04T08:12:30.978323",
     "status": "completed"
    },
    "tags": []
   },
   "source": [
    "All the data is in the **train.csv** file"
   ]
  },
  {
   "cell_type": "code",
   "execution_count": 5,
   "id": "a920129e",
   "metadata": {
    "execution": {
     "iopub.execute_input": "2024-04-04T08:12:31.035680Z",
     "iopub.status.busy": "2024-04-04T08:12:31.034587Z",
     "iopub.status.idle": "2024-04-04T08:12:31.039926Z",
     "shell.execute_reply": "2024-04-04T08:12:31.038856Z"
    },
    "papermill": {
     "duration": 0.02761,
     "end_time": "2024-04-04T08:12:31.042510",
     "exception": false,
     "start_time": "2024-04-04T08:12:31.014900",
     "status": "completed"
    },
    "tags": []
   },
   "outputs": [],
   "source": [
    "# this will take too much tine\n",
    "# !wc -l {data_dir}/train.csv"
   ]
  },
  {
   "cell_type": "code",
   "execution_count": 6,
   "id": "d75d4346",
   "metadata": {
    "execution": {
     "iopub.execute_input": "2024-04-04T08:12:31.081573Z",
     "iopub.status.busy": "2024-04-04T08:12:31.081186Z",
     "iopub.status.idle": "2024-04-04T08:12:32.203778Z",
     "shell.execute_reply": "2024-04-04T08:12:32.202565Z"
    },
    "papermill": {
     "duration": 1.145113,
     "end_time": "2024-04-04T08:12:32.206403",
     "exception": false,
     "start_time": "2024-04-04T08:12:31.061290",
     "status": "completed"
    },
    "tags": []
   },
   "outputs": [
    {
     "name": "stdout",
     "output_type": "stream",
     "text": [
      "9914 /kaggle/input/new-york-city-taxi-fare-prediction//test.csv\r\n"
     ]
    }
   ],
   "source": [
    "!wc -l {data_dir}/test.csv"
   ]
  },
  {
   "cell_type": "markdown",
   "id": "8afe5d32",
   "metadata": {
    "papermill": {
     "duration": 0.018487,
     "end_time": "2024-04-04T08:12:32.243285",
     "exception": false,
     "start_time": "2024-04-04T08:12:32.224798",
     "status": "completed"
    },
    "tags": []
   },
   "source": [
    "Getting the first line of the dataset using the _shell_ command"
   ]
  },
  {
   "cell_type": "code",
   "execution_count": 7,
   "id": "9b67f6c7",
   "metadata": {
    "execution": {
     "iopub.execute_input": "2024-04-04T08:12:32.282506Z",
     "iopub.status.busy": "2024-04-04T08:12:32.281685Z",
     "iopub.status.idle": "2024-04-04T08:12:33.393032Z",
     "shell.execute_reply": "2024-04-04T08:12:33.391493Z"
    },
    "papermill": {
     "duration": 1.134211,
     "end_time": "2024-04-04T08:12:33.395849",
     "exception": false,
     "start_time": "2024-04-04T08:12:32.261638",
     "status": "completed"
    },
    "tags": []
   },
   "outputs": [
    {
     "name": "stdout",
     "output_type": "stream",
     "text": [
      "\r\n",
      "\r\n",
      "\r\n",
      "\r\n",
      "\r\n",
      "\r\n",
      "\r\n",
      "\r\n",
      "\r\n",
      "\r\n"
     ]
    }
   ],
   "source": [
    "    !head {data_dir}/train.csv"
   ]
  },
  {
   "cell_type": "code",
   "execution_count": 8,
   "id": "d16130be",
   "metadata": {
    "execution": {
     "iopub.execute_input": "2024-04-04T08:12:33.434748Z",
     "iopub.status.busy": "2024-04-04T08:12:33.434342Z",
     "iopub.status.idle": "2024-04-04T08:12:34.612626Z",
     "shell.execute_reply": "2024-04-04T08:12:34.610596Z"
    },
    "papermill": {
     "duration": 1.202298,
     "end_time": "2024-04-04T08:12:34.616897",
     "exception": false,
     "start_time": "2024-04-04T08:12:33.414599",
     "status": "completed"
    },
    "tags": []
   },
   "outputs": [
    {
     "name": "stdout",
     "output_type": "stream",
     "text": [
      "\r\n",
      "\r\n",
      "\r\n",
      "\r\n",
      "\r\n",
      "\r\n",
      "\r\n",
      "\r\n",
      "\r\n",
      "\r\n"
     ]
    }
   ],
   "source": [
    "!head {data_dir}/test.csv"
   ]
  },
  {
   "cell_type": "markdown",
   "id": "7c1d613f",
   "metadata": {
    "papermill": {
     "duration": 0.020676,
     "end_time": "2024-04-04T08:12:34.660695",
     "exception": false,
     "start_time": "2024-04-04T08:12:34.640019",
     "status": "completed"
    },
    "tags": []
   },
   "source": [
    "fare amount is missingw which is the pratical Target column for our analysis"
   ]
  },
  {
   "cell_type": "markdown",
   "id": "04dca649",
   "metadata": {
    "papermill": {
     "duration": 0.017951,
     "end_time": "2024-04-04T08:12:34.696958",
     "exception": false,
     "start_time": "2024-04-04T08:12:34.679007",
     "status": "completed"
    },
    "tags": []
   },
   "source": [
    "#### Loading\n",
    "Loading the entire dataset into Pandas is going to be slow, so we can use the following optimizations:\n",
    "\n",
    "- Ignore the key column\n",
    "- Parse pickup datetime while loading data\n",
    "- Specify data types for other columns\n",
    "    - float32 for geo coordinates\n",
    "    - float32 for fare amount\n",
    "    - uint8 for passenger count\n",
    "- Work with a 1% sample of the data (~500k rows)"
   ]
  },
  {
   "cell_type": "code",
   "execution_count": 9,
   "id": "9aed9f06",
   "metadata": {
    "execution": {
     "iopub.execute_input": "2024-04-04T08:12:34.736791Z",
     "iopub.status.busy": "2024-04-04T08:12:34.736352Z",
     "iopub.status.idle": "2024-04-04T08:12:34.745614Z",
     "shell.execute_reply": "2024-04-04T08:12:34.744721Z"
    },
    "papermill": {
     "duration": 0.032609,
     "end_time": "2024-04-04T08:12:34.747907",
     "exception": false,
     "start_time": "2024-04-04T08:12:34.715298",
     "status": "completed"
    },
    "tags": []
   },
   "outputs": [
    {
     "data": {
      "text/plain": [
       "['fare_amount',\n",
       " 'pickup_datetime',\n",
       " 'pickup_longitude',\n",
       " 'pickup_latitude',\n",
       " 'dropoff_longitude',\n",
       " 'dropoff_latitude',\n",
       " 'passenger_count']"
      ]
     },
     "execution_count": 9,
     "metadata": {},
     "output_type": "execute_result"
    }
   ],
   "source": [
    "# Taking all the columns except the keys\n",
    "selected_cols = 'fare_amount,pickup_datetime,pickup_longitude,pickup_latitude,dropoff_longitude,dropoff_latitude,passenger_count'.split(',')\n",
    "selected_cols"
   ]
  },
  {
   "cell_type": "code",
   "execution_count": 10,
   "id": "a048bd8a",
   "metadata": {
    "execution": {
     "iopub.execute_input": "2024-04-04T08:12:34.787921Z",
     "iopub.status.busy": "2024-04-04T08:12:34.787293Z",
     "iopub.status.idle": "2024-04-04T08:12:34.794970Z",
     "shell.execute_reply": "2024-04-04T08:12:34.793618Z"
    },
    "papermill": {
     "duration": 0.031855,
     "end_time": "2024-04-04T08:12:34.798606",
     "exception": false,
     "start_time": "2024-04-04T08:12:34.766751",
     "status": "completed"
    },
    "tags": []
   },
   "outputs": [
    {
     "data": {
      "text/plain": [
       "{'fare_amount': 'float32',\n",
       " 'pickup_longitude': 'float32',\n",
       " 'pickup_latitude': 'float32',\n",
       " 'dropoff_longitude': 'float32',\n",
       " 'dropoff_latitude': 'float32',\n",
       " 'passenger_count': 'uint8'}"
      ]
     },
     "execution_count": 10,
     "metadata": {},
     "output_type": "execute_result"
    }
   ],
   "source": [
    "d_types = {\n",
    "    'fare_amount' : 'float32',\n",
    "    'pickup_longitude': 'float32',\n",
    "    'pickup_latitude': 'float32',\n",
    "    'dropoff_longitude': 'float32',\n",
    "    'dropoff_latitude' : 'float32',\n",
    "    'passenger_count' : 'uint8',\n",
    "}\n",
    "d_types"
   ]
  },
  {
   "cell_type": "code",
   "execution_count": 11,
   "id": "42972416",
   "metadata": {
    "execution": {
     "iopub.execute_input": "2024-04-04T08:12:34.841771Z",
     "iopub.status.busy": "2024-04-04T08:12:34.840409Z",
     "iopub.status.idle": "2024-04-04T08:12:34.847399Z",
     "shell.execute_reply": "2024-04-04T08:12:34.846306Z"
    },
    "papermill": {
     "duration": 0.030278,
     "end_time": "2024-04-04T08:12:34.849800",
     "exception": false,
     "start_time": "2024-04-04T08:12:34.819522",
     "status": "completed"
    },
    "tags": []
   },
   "outputs": [],
   "source": [
    "import random as rnd\n",
    "sample_fraction = 0.01\n",
    "rnd.seed(42)\n",
    "\n",
    "def skip_row(row_idx) :\n",
    "#     If this functon retrun false then the number is going to be in data\n",
    "    if row_idx == 0 :\n",
    "        return False\n",
    "    return rnd.random() > sample_fraction"
   ]
  },
  {
   "cell_type": "code",
   "execution_count": 12,
   "id": "4b08c1c7",
   "metadata": {
    "execution": {
     "iopub.execute_input": "2024-04-04T08:12:34.890673Z",
     "iopub.status.busy": "2024-04-04T08:12:34.890272Z",
     "iopub.status.idle": "2024-04-04T08:15:19.733510Z",
     "shell.execute_reply": "2024-04-04T08:15:19.732461Z"
    },
    "papermill": {
     "duration": 164.867777,
     "end_time": "2024-04-04T08:15:19.736601",
     "exception": false,
     "start_time": "2024-04-04T08:12:34.868824",
     "status": "completed"
    },
    "tags": []
   },
   "outputs": [],
   "source": [
    "data = pd.read_csv(data_dir + '/train.csv', \n",
    "                   usecols = selected_cols, \n",
    "                   dtype = d_types, \n",
    "                   parse_dates= ['pickup_datetime'], \n",
    "                   skiprows = skip_row) # A function is passed as a prameter"
   ]
  },
  {
   "cell_type": "code",
   "execution_count": 13,
   "id": "c1667699",
   "metadata": {
    "execution": {
     "iopub.execute_input": "2024-04-04T08:15:19.776531Z",
     "iopub.status.busy": "2024-04-04T08:15:19.776135Z",
     "iopub.status.idle": "2024-04-04T08:15:19.826932Z",
     "shell.execute_reply": "2024-04-04T08:15:19.825945Z"
    },
    "papermill": {
     "duration": 0.073411,
     "end_time": "2024-04-04T08:15:19.829388",
     "exception": false,
     "start_time": "2024-04-04T08:15:19.755977",
     "status": "completed"
    },
    "tags": []
   },
   "outputs": [
    {
     "data": {
      "text/html": [
       "<div>\n",
       "<style scoped>\n",
       "    .dataframe tbody tr th:only-of-type {\n",
       "        vertical-align: middle;\n",
       "    }\n",
       "\n",
       "    .dataframe tbody tr th {\n",
       "        vertical-align: top;\n",
       "    }\n",
       "\n",
       "    .dataframe thead th {\n",
       "        text-align: right;\n",
       "    }\n",
       "</style>\n",
       "<table border=\"1\" class=\"dataframe\">\n",
       "  <thead>\n",
       "    <tr style=\"text-align: right;\">\n",
       "      <th></th>\n",
       "      <th>fare_amount</th>\n",
       "      <th>pickup_datetime</th>\n",
       "      <th>pickup_longitude</th>\n",
       "      <th>pickup_latitude</th>\n",
       "      <th>dropoff_longitude</th>\n",
       "      <th>dropoff_latitude</th>\n",
       "      <th>passenger_count</th>\n",
       "    </tr>\n",
       "  </thead>\n",
       "  <tbody>\n",
       "    <tr>\n",
       "      <th>153511</th>\n",
       "      <td>10.500000</td>\n",
       "      <td>2013-09-25 19:07:00+00:00</td>\n",
       "      <td>-73.963371</td>\n",
       "      <td>40.754353</td>\n",
       "      <td>-73.978195</td>\n",
       "      <td>40.766560</td>\n",
       "      <td>1</td>\n",
       "    </tr>\n",
       "    <tr>\n",
       "      <th>361285</th>\n",
       "      <td>17.700001</td>\n",
       "      <td>2010-04-24 11:41:40+00:00</td>\n",
       "      <td>-73.979706</td>\n",
       "      <td>40.786533</td>\n",
       "      <td>-73.988014</td>\n",
       "      <td>40.737659</td>\n",
       "      <td>1</td>\n",
       "    </tr>\n",
       "    <tr>\n",
       "      <th>287793</th>\n",
       "      <td>4.900000</td>\n",
       "      <td>2012-04-08 06:01:08+00:00</td>\n",
       "      <td>-73.986526</td>\n",
       "      <td>40.755856</td>\n",
       "      <td>-73.998604</td>\n",
       "      <td>40.764027</td>\n",
       "      <td>1</td>\n",
       "    </tr>\n",
       "    <tr>\n",
       "      <th>85309</th>\n",
       "      <td>7.000000</td>\n",
       "      <td>2013-05-24 22:17:00+00:00</td>\n",
       "      <td>-73.990189</td>\n",
       "      <td>40.756420</td>\n",
       "      <td>-73.992081</td>\n",
       "      <td>40.746723</td>\n",
       "      <td>2</td>\n",
       "    </tr>\n",
       "    <tr>\n",
       "      <th>67448</th>\n",
       "      <td>49.150002</td>\n",
       "      <td>2009-03-30 15:41:00+00:00</td>\n",
       "      <td>-73.786720</td>\n",
       "      <td>40.641708</td>\n",
       "      <td>-73.974976</td>\n",
       "      <td>40.755531</td>\n",
       "      <td>1</td>\n",
       "    </tr>\n",
       "    <tr>\n",
       "      <th>370389</th>\n",
       "      <td>16.500000</td>\n",
       "      <td>2010-04-19 17:03:55+00:00</td>\n",
       "      <td>-74.007668</td>\n",
       "      <td>40.703640</td>\n",
       "      <td>-73.989838</td>\n",
       "      <td>40.750771</td>\n",
       "      <td>1</td>\n",
       "    </tr>\n",
       "    <tr>\n",
       "      <th>38648</th>\n",
       "      <td>4.500000</td>\n",
       "      <td>2011-10-14 20:14:09+00:00</td>\n",
       "      <td>-73.981628</td>\n",
       "      <td>40.732533</td>\n",
       "      <td>-73.984169</td>\n",
       "      <td>40.740334</td>\n",
       "      <td>1</td>\n",
       "    </tr>\n",
       "    <tr>\n",
       "      <th>210596</th>\n",
       "      <td>4.900000</td>\n",
       "      <td>2012-05-08 20:58:58+00:00</td>\n",
       "      <td>-73.953278</td>\n",
       "      <td>40.776825</td>\n",
       "      <td>-73.952789</td>\n",
       "      <td>40.768173</td>\n",
       "      <td>1</td>\n",
       "    </tr>\n",
       "    <tr>\n",
       "      <th>535651</th>\n",
       "      <td>4.500000</td>\n",
       "      <td>2015-06-05 07:46:40+00:00</td>\n",
       "      <td>-73.959709</td>\n",
       "      <td>40.762672</td>\n",
       "      <td>-73.953888</td>\n",
       "      <td>40.770760</td>\n",
       "      <td>1</td>\n",
       "    </tr>\n",
       "    <tr>\n",
       "      <th>416843</th>\n",
       "      <td>10.100000</td>\n",
       "      <td>2009-12-27 00:22:24+00:00</td>\n",
       "      <td>-73.991417</td>\n",
       "      <td>40.750790</td>\n",
       "      <td>-73.990791</td>\n",
       "      <td>40.717628</td>\n",
       "      <td>1</td>\n",
       "    </tr>\n",
       "  </tbody>\n",
       "</table>\n",
       "</div>"
      ],
      "text/plain": [
       "        fare_amount           pickup_datetime  pickup_longitude  \\\n",
       "153511    10.500000 2013-09-25 19:07:00+00:00        -73.963371   \n",
       "361285    17.700001 2010-04-24 11:41:40+00:00        -73.979706   \n",
       "287793     4.900000 2012-04-08 06:01:08+00:00        -73.986526   \n",
       "85309      7.000000 2013-05-24 22:17:00+00:00        -73.990189   \n",
       "67448     49.150002 2009-03-30 15:41:00+00:00        -73.786720   \n",
       "370389    16.500000 2010-04-19 17:03:55+00:00        -74.007668   \n",
       "38648      4.500000 2011-10-14 20:14:09+00:00        -73.981628   \n",
       "210596     4.900000 2012-05-08 20:58:58+00:00        -73.953278   \n",
       "535651     4.500000 2015-06-05 07:46:40+00:00        -73.959709   \n",
       "416843    10.100000 2009-12-27 00:22:24+00:00        -73.991417   \n",
       "\n",
       "        pickup_latitude  dropoff_longitude  dropoff_latitude  passenger_count  \n",
       "153511        40.754353         -73.978195         40.766560                1  \n",
       "361285        40.786533         -73.988014         40.737659                1  \n",
       "287793        40.755856         -73.998604         40.764027                1  \n",
       "85309         40.756420         -73.992081         40.746723                2  \n",
       "67448         40.641708         -73.974976         40.755531                1  \n",
       "370389        40.703640         -73.989838         40.750771                1  \n",
       "38648         40.732533         -73.984169         40.740334                1  \n",
       "210596        40.776825         -73.952789         40.768173                1  \n",
       "535651        40.762672         -73.953888         40.770760                1  \n",
       "416843        40.750790         -73.990791         40.717628                1  "
      ]
     },
     "execution_count": 13,
     "metadata": {},
     "output_type": "execute_result"
    }
   ],
   "source": [
    "data.sample(10)"
   ]
  },
  {
   "cell_type": "markdown",
   "id": "0d20ba60",
   "metadata": {
    "papermill": {
     "duration": 0.018596,
     "end_time": "2024-04-04T08:15:19.866881",
     "exception": false,
     "start_time": "2024-04-04T08:15:19.848285",
     "status": "completed"
    },
    "tags": []
   },
   "source": [
    "Here I am trying with 1% if the data, We can also try this using _3%, 10%, 50% and even 100%_ of the data"
   ]
  },
  {
   "cell_type": "code",
   "execution_count": 14,
   "id": "412e4939",
   "metadata": {
    "execution": {
     "iopub.execute_input": "2024-04-04T08:15:19.906729Z",
     "iopub.status.busy": "2024-04-04T08:15:19.905804Z",
     "iopub.status.idle": "2024-04-04T08:15:20.064486Z",
     "shell.execute_reply": "2024-04-04T08:15:20.063348Z"
    },
    "papermill": {
     "duration": 0.181195,
     "end_time": "2024-04-04T08:15:20.066882",
     "exception": false,
     "start_time": "2024-04-04T08:15:19.885687",
     "status": "completed"
    },
    "tags": []
   },
   "outputs": [
    {
     "data": {
      "text/html": [
       "<div>\n",
       "<style scoped>\n",
       "    .dataframe tbody tr th:only-of-type {\n",
       "        vertical-align: middle;\n",
       "    }\n",
       "\n",
       "    .dataframe tbody tr th {\n",
       "        vertical-align: top;\n",
       "    }\n",
       "\n",
       "    .dataframe thead th {\n",
       "        text-align: right;\n",
       "    }\n",
       "</style>\n",
       "<table border=\"1\" class=\"dataframe\">\n",
       "  <thead>\n",
       "    <tr style=\"text-align: right;\">\n",
       "      <th></th>\n",
       "      <th>key</th>\n",
       "      <th>pickup_datetime</th>\n",
       "      <th>pickup_longitude</th>\n",
       "      <th>pickup_latitude</th>\n",
       "      <th>dropoff_longitude</th>\n",
       "      <th>dropoff_latitude</th>\n",
       "      <th>passenger_count</th>\n",
       "    </tr>\n",
       "  </thead>\n",
       "  <tbody>\n",
       "    <tr>\n",
       "      <th>0</th>\n",
       "      <td>2015-01-27 13:08:24.0000002</td>\n",
       "      <td>2015-01-27 13:08:24+00:00</td>\n",
       "      <td>-73.973320</td>\n",
       "      <td>40.763805</td>\n",
       "      <td>-73.981430</td>\n",
       "      <td>40.743835</td>\n",
       "      <td>1</td>\n",
       "    </tr>\n",
       "    <tr>\n",
       "      <th>1</th>\n",
       "      <td>2015-01-27 13:08:24.0000003</td>\n",
       "      <td>2015-01-27 13:08:24+00:00</td>\n",
       "      <td>-73.986862</td>\n",
       "      <td>40.719383</td>\n",
       "      <td>-73.998886</td>\n",
       "      <td>40.739201</td>\n",
       "      <td>1</td>\n",
       "    </tr>\n",
       "    <tr>\n",
       "      <th>2</th>\n",
       "      <td>2011-10-08 11:53:44.0000002</td>\n",
       "      <td>2011-10-08 11:53:44+00:00</td>\n",
       "      <td>-73.982521</td>\n",
       "      <td>40.751259</td>\n",
       "      <td>-73.979652</td>\n",
       "      <td>40.746140</td>\n",
       "      <td>1</td>\n",
       "    </tr>\n",
       "    <tr>\n",
       "      <th>3</th>\n",
       "      <td>2012-12-01 21:12:12.0000002</td>\n",
       "      <td>2012-12-01 21:12:12+00:00</td>\n",
       "      <td>-73.981163</td>\n",
       "      <td>40.767807</td>\n",
       "      <td>-73.990448</td>\n",
       "      <td>40.751637</td>\n",
       "      <td>1</td>\n",
       "    </tr>\n",
       "    <tr>\n",
       "      <th>4</th>\n",
       "      <td>2012-12-01 21:12:12.0000003</td>\n",
       "      <td>2012-12-01 21:12:12+00:00</td>\n",
       "      <td>-73.966049</td>\n",
       "      <td>40.789776</td>\n",
       "      <td>-73.988564</td>\n",
       "      <td>40.744427</td>\n",
       "      <td>1</td>\n",
       "    </tr>\n",
       "  </tbody>\n",
       "</table>\n",
       "</div>"
      ],
      "text/plain": [
       "                           key           pickup_datetime  pickup_longitude  \\\n",
       "0  2015-01-27 13:08:24.0000002 2015-01-27 13:08:24+00:00        -73.973320   \n",
       "1  2015-01-27 13:08:24.0000003 2015-01-27 13:08:24+00:00        -73.986862   \n",
       "2  2011-10-08 11:53:44.0000002 2011-10-08 11:53:44+00:00        -73.982521   \n",
       "3  2012-12-01 21:12:12.0000002 2012-12-01 21:12:12+00:00        -73.981163   \n",
       "4  2012-12-01 21:12:12.0000003 2012-12-01 21:12:12+00:00        -73.966049   \n",
       "\n",
       "   pickup_latitude  dropoff_longitude  dropoff_latitude  passenger_count  \n",
       "0        40.763805         -73.981430         40.743835                1  \n",
       "1        40.719383         -73.998886         40.739201                1  \n",
       "2        40.751259         -73.979652         40.746140                1  \n",
       "3        40.767807         -73.990448         40.751637                1  \n",
       "4        40.789776         -73.988564         40.744427                1  "
      ]
     },
     "execution_count": 14,
     "metadata": {},
     "output_type": "execute_result"
    }
   ],
   "source": [
    "test_data = pd.read_csv(data_dir + '/test.csv', dtype= d_types, parse_dates = ['pickup_datetime'])\n",
    "test_data.head()"
   ]
  },
  {
   "cell_type": "markdown",
   "id": "00bfd08d",
   "metadata": {
    "papermill": {
     "duration": 0.018663,
     "end_time": "2024-04-04T08:15:20.104940",
     "exception": false,
     "start_time": "2024-04-04T08:15:20.086277",
     "status": "completed"
    },
    "tags": []
   },
   "source": [
    "### Exploring the data\n",
    "\n",
    "- basic info about training and test set\n",
    "- EDA and viz\n",
    "- Ask and Answer the questions"
   ]
  },
  {
   "cell_type": "code",
   "execution_count": 15,
   "id": "1a2aee8c",
   "metadata": {
    "execution": {
     "iopub.execute_input": "2024-04-04T08:15:20.208308Z",
     "iopub.status.busy": "2024-04-04T08:15:20.207607Z",
     "iopub.status.idle": "2024-04-04T08:15:20.234169Z",
     "shell.execute_reply": "2024-04-04T08:15:20.232988Z"
    },
    "papermill": {
     "duration": 0.049748,
     "end_time": "2024-04-04T08:15:20.236681",
     "exception": false,
     "start_time": "2024-04-04T08:15:20.186933",
     "status": "completed"
    },
    "tags": []
   },
   "outputs": [
    {
     "name": "stdout",
     "output_type": "stream",
     "text": [
      "<class 'pandas.core.frame.DataFrame'>\n",
      "RangeIndex: 552450 entries, 0 to 552449\n",
      "Data columns (total 7 columns):\n",
      " #   Column             Non-Null Count   Dtype              \n",
      "---  ------             --------------   -----              \n",
      " 0   fare_amount        552450 non-null  float32            \n",
      " 1   pickup_datetime    552450 non-null  datetime64[ns, UTC]\n",
      " 2   pickup_longitude   552450 non-null  float32            \n",
      " 3   pickup_latitude    552450 non-null  float32            \n",
      " 4   dropoff_longitude  552450 non-null  float32            \n",
      " 5   dropoff_latitude   552450 non-null  float32            \n",
      " 6   passenger_count    552450 non-null  uint8              \n",
      "dtypes: datetime64[ns, UTC](1), float32(5), uint8(1)\n",
      "memory usage: 15.3 MB\n"
     ]
    }
   ],
   "source": [
    "data.info()"
   ]
  },
  {
   "cell_type": "code",
   "execution_count": 16,
   "id": "b858f2e4",
   "metadata": {
    "execution": {
     "iopub.execute_input": "2024-04-04T08:15:20.278513Z",
     "iopub.status.busy": "2024-04-04T08:15:20.277800Z",
     "iopub.status.idle": "2024-04-04T08:15:20.284663Z",
     "shell.execute_reply": "2024-04-04T08:15:20.283634Z"
    },
    "papermill": {
     "duration": 0.029998,
     "end_time": "2024-04-04T08:15:20.286872",
     "exception": false,
     "start_time": "2024-04-04T08:15:20.256874",
     "status": "completed"
    },
    "tags": []
   },
   "outputs": [
    {
     "data": {
      "text/plain": [
       "(552450, 7)"
      ]
     },
     "execution_count": 16,
     "metadata": {},
     "output_type": "execute_result"
    }
   ],
   "source": [
    "data.shape"
   ]
  },
  {
   "cell_type": "code",
   "execution_count": 17,
   "id": "6e73eb64",
   "metadata": {
    "execution": {
     "iopub.execute_input": "2024-04-04T08:15:20.328027Z",
     "iopub.status.busy": "2024-04-04T08:15:20.327409Z",
     "iopub.status.idle": "2024-04-04T08:15:20.473592Z",
     "shell.execute_reply": "2024-04-04T08:15:20.472496Z"
    },
    "papermill": {
     "duration": 0.16932,
     "end_time": "2024-04-04T08:15:20.475981",
     "exception": false,
     "start_time": "2024-04-04T08:15:20.306661",
     "status": "completed"
    },
    "tags": []
   },
   "outputs": [
    {
     "data": {
      "text/html": [
       "<div>\n",
       "<style scoped>\n",
       "    .dataframe tbody tr th:only-of-type {\n",
       "        vertical-align: middle;\n",
       "    }\n",
       "\n",
       "    .dataframe tbody tr th {\n",
       "        vertical-align: top;\n",
       "    }\n",
       "\n",
       "    .dataframe thead th {\n",
       "        text-align: right;\n",
       "    }\n",
       "</style>\n",
       "<table border=\"1\" class=\"dataframe\">\n",
       "  <thead>\n",
       "    <tr style=\"text-align: right;\">\n",
       "      <th></th>\n",
       "      <th>fare_amount</th>\n",
       "      <th>pickup_longitude</th>\n",
       "      <th>pickup_latitude</th>\n",
       "      <th>dropoff_longitude</th>\n",
       "      <th>dropoff_latitude</th>\n",
       "      <th>passenger_count</th>\n",
       "    </tr>\n",
       "  </thead>\n",
       "  <tbody>\n",
       "    <tr>\n",
       "      <th>count</th>\n",
       "      <td>552450.000000</td>\n",
       "      <td>552450.000000</td>\n",
       "      <td>552450.000000</td>\n",
       "      <td>552450.000000</td>\n",
       "      <td>552450.000000</td>\n",
       "      <td>552450.000000</td>\n",
       "    </tr>\n",
       "    <tr>\n",
       "      <th>mean</th>\n",
       "      <td>11.354059</td>\n",
       "      <td>-72.497063</td>\n",
       "      <td>39.910500</td>\n",
       "      <td>-72.504326</td>\n",
       "      <td>39.934265</td>\n",
       "      <td>1.684983</td>\n",
       "    </tr>\n",
       "    <tr>\n",
       "      <th>std</th>\n",
       "      <td>9.811924</td>\n",
       "      <td>11.618246</td>\n",
       "      <td>8.061114</td>\n",
       "      <td>12.074346</td>\n",
       "      <td>9.255057</td>\n",
       "      <td>1.337664</td>\n",
       "    </tr>\n",
       "    <tr>\n",
       "      <th>min</th>\n",
       "      <td>-52.000000</td>\n",
       "      <td>-1183.362793</td>\n",
       "      <td>-3084.490234</td>\n",
       "      <td>-3356.729736</td>\n",
       "      <td>-2073.150635</td>\n",
       "      <td>0.000000</td>\n",
       "    </tr>\n",
       "    <tr>\n",
       "      <th>25%</th>\n",
       "      <td>6.000000</td>\n",
       "      <td>-73.992020</td>\n",
       "      <td>40.734875</td>\n",
       "      <td>-73.991425</td>\n",
       "      <td>40.733990</td>\n",
       "      <td>1.000000</td>\n",
       "    </tr>\n",
       "    <tr>\n",
       "      <th>50%</th>\n",
       "      <td>8.500000</td>\n",
       "      <td>-73.981819</td>\n",
       "      <td>40.752621</td>\n",
       "      <td>-73.980179</td>\n",
       "      <td>40.753101</td>\n",
       "      <td>1.000000</td>\n",
       "    </tr>\n",
       "    <tr>\n",
       "      <th>75%</th>\n",
       "      <td>12.500000</td>\n",
       "      <td>-73.967155</td>\n",
       "      <td>40.767036</td>\n",
       "      <td>-73.963737</td>\n",
       "      <td>40.768059</td>\n",
       "      <td>2.000000</td>\n",
       "    </tr>\n",
       "    <tr>\n",
       "      <th>max</th>\n",
       "      <td>499.000000</td>\n",
       "      <td>2420.209473</td>\n",
       "      <td>404.983337</td>\n",
       "      <td>2467.752686</td>\n",
       "      <td>3351.403076</td>\n",
       "      <td>208.000000</td>\n",
       "    </tr>\n",
       "  </tbody>\n",
       "</table>\n",
       "</div>"
      ],
      "text/plain": [
       "         fare_amount  pickup_longitude  pickup_latitude  dropoff_longitude  \\\n",
       "count  552450.000000     552450.000000    552450.000000      552450.000000   \n",
       "mean       11.354059        -72.497063        39.910500         -72.504326   \n",
       "std         9.811924         11.618246         8.061114          12.074346   \n",
       "min       -52.000000      -1183.362793     -3084.490234       -3356.729736   \n",
       "25%         6.000000        -73.992020        40.734875         -73.991425   \n",
       "50%         8.500000        -73.981819        40.752621         -73.980179   \n",
       "75%        12.500000        -73.967155        40.767036         -73.963737   \n",
       "max       499.000000       2420.209473       404.983337        2467.752686   \n",
       "\n",
       "       dropoff_latitude  passenger_count  \n",
       "count     552450.000000    552450.000000  \n",
       "mean          39.934265         1.684983  \n",
       "std            9.255057         1.337664  \n",
       "min        -2073.150635         0.000000  \n",
       "25%           40.733990         1.000000  \n",
       "50%           40.753101         1.000000  \n",
       "75%           40.768059         2.000000  \n",
       "max         3351.403076       208.000000  "
      ]
     },
     "execution_count": 17,
     "metadata": {},
     "output_type": "execute_result"
    }
   ],
   "source": [
    "data.describe()"
   ]
  },
  {
   "cell_type": "code",
   "execution_count": 18,
   "id": "215488ed",
   "metadata": {
    "execution": {
     "iopub.execute_input": "2024-04-04T08:15:20.517741Z",
     "iopub.status.busy": "2024-04-04T08:15:20.516999Z",
     "iopub.status.idle": "2024-04-04T08:15:20.527663Z",
     "shell.execute_reply": "2024-04-04T08:15:20.526542Z"
    },
    "papermill": {
     "duration": 0.034374,
     "end_time": "2024-04-04T08:15:20.530000",
     "exception": false,
     "start_time": "2024-04-04T08:15:20.495626",
     "status": "completed"
    },
    "tags": []
   },
   "outputs": [
    {
     "data": {
      "text/plain": [
       "(Timestamp('2009-01-01 00:11:46+0000', tz='UTC'),\n",
       " Timestamp('2015-06-30 23:59:54+0000', tz='UTC'))"
      ]
     },
     "execution_count": 18,
     "metadata": {},
     "output_type": "execute_result"
    }
   ],
   "source": [
    "data.pickup_datetime.min(), data.pickup_datetime.max()"
   ]
  },
  {
   "cell_type": "code",
   "execution_count": 19,
   "id": "bb9200eb",
   "metadata": {
    "execution": {
     "iopub.execute_input": "2024-04-04T08:15:20.572365Z",
     "iopub.status.busy": "2024-04-04T08:15:20.571971Z",
     "iopub.status.idle": "2024-04-04T08:15:20.584204Z",
     "shell.execute_reply": "2024-04-04T08:15:20.582947Z"
    },
    "papermill": {
     "duration": 0.036863,
     "end_time": "2024-04-04T08:15:20.586628",
     "exception": false,
     "start_time": "2024-04-04T08:15:20.549765",
     "status": "completed"
    },
    "tags": []
   },
   "outputs": [
    {
     "name": "stdout",
     "output_type": "stream",
     "text": [
      "<class 'pandas.core.frame.DataFrame'>\n",
      "RangeIndex: 9914 entries, 0 to 9913\n",
      "Data columns (total 7 columns):\n",
      " #   Column             Non-Null Count  Dtype              \n",
      "---  ------             --------------  -----              \n",
      " 0   key                9914 non-null   object             \n",
      " 1   pickup_datetime    9914 non-null   datetime64[ns, UTC]\n",
      " 2   pickup_longitude   9914 non-null   float32            \n",
      " 3   pickup_latitude    9914 non-null   float32            \n",
      " 4   dropoff_longitude  9914 non-null   float32            \n",
      " 5   dropoff_latitude   9914 non-null   float32            \n",
      " 6   passenger_count    9914 non-null   uint8              \n",
      "dtypes: datetime64[ns, UTC](1), float32(4), object(1), uint8(1)\n",
      "memory usage: 319.6+ KB\n"
     ]
    }
   ],
   "source": [
    "test_data.info() "
   ]
  },
  {
   "cell_type": "markdown",
   "id": "67b8bb80",
   "metadata": {
    "papermill": {
     "duration": 0.019533,
     "end_time": "2024-04-04T08:15:20.626060",
     "exception": false,
     "start_time": "2024-04-04T08:15:20.606527",
     "status": "completed"
    },
    "tags": []
   },
   "source": [
    "The data is not cleaned as -1000 Latitude does not exist and also _208_ pasengers are can't ride a Taxi"
   ]
  },
  {
   "cell_type": "markdown",
   "id": "43d8b2d3",
   "metadata": {
    "papermill": {
     "duration": 0.019978,
     "end_time": "2024-04-04T08:15:20.665871",
     "exception": false,
     "start_time": "2024-04-04T08:15:20.645893",
     "status": "completed"
    },
    "tags": []
   },
   "source": [
    "#### Observations\n",
    "- 550K+ data\n",
    "- No missing data (in sample)\n",
    "- Fare ranges from -52 to 499\n",
    "- Pasengers from 0 to 208\n",
    "- Seems to be error in the latitue and logitude\n",
    "- Dates Ranges from 1st Jan 2009 to 30th June 2015\n",
    "\n",
    "Need to deal with the outliares and preproces the data."
   ]
  },
  {
   "cell_type": "code",
   "execution_count": 20,
   "id": "951060bc",
   "metadata": {
    "execution": {
     "iopub.execute_input": "2024-04-04T08:15:20.708281Z",
     "iopub.status.busy": "2024-04-04T08:15:20.706996Z",
     "iopub.status.idle": "2024-04-04T08:15:20.719085Z",
     "shell.execute_reply": "2024-04-04T08:15:20.717771Z"
    },
    "papermill": {
     "duration": 0.035528,
     "end_time": "2024-04-04T08:15:20.721308",
     "exception": false,
     "start_time": "2024-04-04T08:15:20.685780",
     "status": "completed"
    },
    "tags": []
   },
   "outputs": [
    {
     "name": "stdout",
     "output_type": "stream",
     "text": [
      "<class 'pandas.core.frame.DataFrame'>\n",
      "RangeIndex: 9914 entries, 0 to 9913\n",
      "Data columns (total 7 columns):\n",
      " #   Column             Non-Null Count  Dtype              \n",
      "---  ------             --------------  -----              \n",
      " 0   key                9914 non-null   object             \n",
      " 1   pickup_datetime    9914 non-null   datetime64[ns, UTC]\n",
      " 2   pickup_longitude   9914 non-null   float32            \n",
      " 3   pickup_latitude    9914 non-null   float32            \n",
      " 4   dropoff_longitude  9914 non-null   float32            \n",
      " 5   dropoff_latitude   9914 non-null   float32            \n",
      " 6   passenger_count    9914 non-null   uint8              \n",
      "dtypes: datetime64[ns, UTC](1), float32(4), object(1), uint8(1)\n",
      "memory usage: 319.6+ KB\n"
     ]
    }
   ],
   "source": [
    "test_data.info()"
   ]
  },
  {
   "cell_type": "code",
   "execution_count": 21,
   "id": "1bc72f13",
   "metadata": {
    "execution": {
     "iopub.execute_input": "2024-04-04T08:15:20.764213Z",
     "iopub.status.busy": "2024-04-04T08:15:20.763488Z",
     "iopub.status.idle": "2024-04-04T08:15:20.788558Z",
     "shell.execute_reply": "2024-04-04T08:15:20.787649Z"
    },
    "papermill": {
     "duration": 0.048848,
     "end_time": "2024-04-04T08:15:20.790818",
     "exception": false,
     "start_time": "2024-04-04T08:15:20.741970",
     "status": "completed"
    },
    "tags": []
   },
   "outputs": [
    {
     "data": {
      "text/html": [
       "<div>\n",
       "<style scoped>\n",
       "    .dataframe tbody tr th:only-of-type {\n",
       "        vertical-align: middle;\n",
       "    }\n",
       "\n",
       "    .dataframe tbody tr th {\n",
       "        vertical-align: top;\n",
       "    }\n",
       "\n",
       "    .dataframe thead th {\n",
       "        text-align: right;\n",
       "    }\n",
       "</style>\n",
       "<table border=\"1\" class=\"dataframe\">\n",
       "  <thead>\n",
       "    <tr style=\"text-align: right;\">\n",
       "      <th></th>\n",
       "      <th>pickup_longitude</th>\n",
       "      <th>pickup_latitude</th>\n",
       "      <th>dropoff_longitude</th>\n",
       "      <th>dropoff_latitude</th>\n",
       "      <th>passenger_count</th>\n",
       "    </tr>\n",
       "  </thead>\n",
       "  <tbody>\n",
       "    <tr>\n",
       "      <th>count</th>\n",
       "      <td>9914.000000</td>\n",
       "      <td>9914.000000</td>\n",
       "      <td>9914.000000</td>\n",
       "      <td>9914.000000</td>\n",
       "      <td>9914.000000</td>\n",
       "    </tr>\n",
       "    <tr>\n",
       "      <th>mean</th>\n",
       "      <td>-73.974716</td>\n",
       "      <td>40.751041</td>\n",
       "      <td>-73.973656</td>\n",
       "      <td>40.751740</td>\n",
       "      <td>1.671273</td>\n",
       "    </tr>\n",
       "    <tr>\n",
       "      <th>std</th>\n",
       "      <td>0.042774</td>\n",
       "      <td>0.033541</td>\n",
       "      <td>0.039072</td>\n",
       "      <td>0.035435</td>\n",
       "      <td>1.278747</td>\n",
       "    </tr>\n",
       "    <tr>\n",
       "      <th>min</th>\n",
       "      <td>-74.252190</td>\n",
       "      <td>40.573143</td>\n",
       "      <td>-74.263245</td>\n",
       "      <td>40.568974</td>\n",
       "      <td>1.000000</td>\n",
       "    </tr>\n",
       "    <tr>\n",
       "      <th>25%</th>\n",
       "      <td>-73.992500</td>\n",
       "      <td>40.736125</td>\n",
       "      <td>-73.991249</td>\n",
       "      <td>40.735253</td>\n",
       "      <td>1.000000</td>\n",
       "    </tr>\n",
       "    <tr>\n",
       "      <th>50%</th>\n",
       "      <td>-73.982327</td>\n",
       "      <td>40.753052</td>\n",
       "      <td>-73.980015</td>\n",
       "      <td>40.754065</td>\n",
       "      <td>1.000000</td>\n",
       "    </tr>\n",
       "    <tr>\n",
       "      <th>75%</th>\n",
       "      <td>-73.968012</td>\n",
       "      <td>40.767113</td>\n",
       "      <td>-73.964062</td>\n",
       "      <td>40.768757</td>\n",
       "      <td>2.000000</td>\n",
       "    </tr>\n",
       "    <tr>\n",
       "      <th>max</th>\n",
       "      <td>-72.986534</td>\n",
       "      <td>41.709557</td>\n",
       "      <td>-72.990967</td>\n",
       "      <td>41.696682</td>\n",
       "      <td>6.000000</td>\n",
       "    </tr>\n",
       "  </tbody>\n",
       "</table>\n",
       "</div>"
      ],
      "text/plain": [
       "       pickup_longitude  pickup_latitude  dropoff_longitude  dropoff_latitude  \\\n",
       "count       9914.000000      9914.000000        9914.000000       9914.000000   \n",
       "mean         -73.974716        40.751041         -73.973656         40.751740   \n",
       "std            0.042774         0.033541           0.039072          0.035435   \n",
       "min          -74.252190        40.573143         -74.263245         40.568974   \n",
       "25%          -73.992500        40.736125         -73.991249         40.735253   \n",
       "50%          -73.982327        40.753052         -73.980015         40.754065   \n",
       "75%          -73.968012        40.767113         -73.964062         40.768757   \n",
       "max          -72.986534        41.709557         -72.990967         41.696682   \n",
       "\n",
       "       passenger_count  \n",
       "count      9914.000000  \n",
       "mean          1.671273  \n",
       "std           1.278747  \n",
       "min           1.000000  \n",
       "25%           1.000000  \n",
       "50%           1.000000  \n",
       "75%           2.000000  \n",
       "max           6.000000  "
      ]
     },
     "execution_count": 21,
     "metadata": {},
     "output_type": "execute_result"
    }
   ],
   "source": [
    "test_data.describe()"
   ]
  },
  {
   "cell_type": "code",
   "execution_count": 22,
   "id": "bfbba45f",
   "metadata": {
    "execution": {
     "iopub.execute_input": "2024-04-04T08:15:20.834212Z",
     "iopub.status.busy": "2024-04-04T08:15:20.833770Z",
     "iopub.status.idle": "2024-04-04T08:15:20.841338Z",
     "shell.execute_reply": "2024-04-04T08:15:20.840370Z"
    },
    "papermill": {
     "duration": 0.031862,
     "end_time": "2024-04-04T08:15:20.843571",
     "exception": false,
     "start_time": "2024-04-04T08:15:20.811709",
     "status": "completed"
    },
    "tags": []
   },
   "outputs": [
    {
     "data": {
      "text/plain": [
       "(Timestamp('2009-01-01 11:04:24+0000', tz='UTC'),\n",
       " Timestamp('2015-06-30 20:03:50+0000', tz='UTC'))"
      ]
     },
     "execution_count": 22,
     "metadata": {},
     "output_type": "execute_result"
    }
   ],
   "source": [
    "test_data.pickup_datetime.min(), test_data.pickup_datetime.max()"
   ]
  },
  {
   "cell_type": "markdown",
   "id": "66d3e151",
   "metadata": {
    "papermill": {
     "duration": 0.020268,
     "end_time": "2024-04-04T08:15:20.884318",
     "exception": false,
     "start_time": "2024-04-04T08:15:20.864050",
     "status": "completed"
    },
    "tags": []
   },
   "source": [
    "Training data is Clean we can refer to the taining data for the purpost of clenaing the data.\n",
    "\n",
    "Like we can remove the columns whose values lies outside the Training data."
   ]
  },
  {
   "cell_type": "markdown",
   "id": "3e46a4a9",
   "metadata": {
    "papermill": {
     "duration": 0.02012,
     "end_time": "2024-04-04T08:15:20.924848",
     "exception": false,
     "start_time": "2024-04-04T08:15:20.904728",
     "status": "completed"
    },
    "tags": []
   },
   "source": [
    "## Exploratory Data Analysis"
   ]
  },
  {
   "cell_type": "code",
   "execution_count": 23,
   "id": "554289a1",
   "metadata": {
    "execution": {
     "iopub.execute_input": "2024-04-04T08:15:20.967463Z",
     "iopub.status.busy": "2024-04-04T08:15:20.967057Z",
     "iopub.status.idle": "2024-04-04T08:15:22.477912Z",
     "shell.execute_reply": "2024-04-04T08:15:22.477096Z"
    },
    "papermill": {
     "duration": 1.535481,
     "end_time": "2024-04-04T08:15:22.480707",
     "exception": false,
     "start_time": "2024-04-04T08:15:20.945226",
     "status": "completed"
    },
    "tags": []
   },
   "outputs": [],
   "source": [
    "import matplotlib.pyplot as plt\n",
    "import seaborn as sns"
   ]
  },
  {
   "cell_type": "markdown",
   "id": "328eabfe",
   "metadata": {
    "papermill": {
     "duration": 0.020468,
     "end_time": "2024-04-04T08:15:22.521993",
     "exception": false,
     "start_time": "2024-04-04T08:15:22.501525",
     "status": "completed"
    },
    "tags": []
   },
   "source": [
    "Skipping for Now -> Following the content of the Video This will be done a bit later when working properly"
   ]
  },
  {
   "cell_type": "markdown",
   "id": "55ff525e",
   "metadata": {
    "papermill": {
     "duration": 0.020152,
     "end_time": "2024-04-04T08:15:22.564709",
     "exception": false,
     "start_time": "2024-04-04T08:15:22.544557",
     "status": "completed"
    },
    "tags": []
   },
   "source": [
    "### Preparing the Dataset for training\n",
    "- Split it into the training and validation set\n",
    "- Fill/Remove Missing values\n",
    "- Extrarct Input and Output\n",
    "    - Training\n",
    "    - Validation\n",
    "    - Test"
   ]
  },
  {
   "cell_type": "markdown",
   "id": "36f8664f",
   "metadata": {
    "papermill": {
     "duration": 0.020213,
     "end_time": "2024-04-04T08:15:22.605452",
     "exception": false,
     "start_time": "2024-04-04T08:15:22.585239",
     "status": "completed"
    },
    "tags": []
   },
   "source": [
    "#### Splitting the dataset"
   ]
  },
  {
   "cell_type": "code",
   "execution_count": 24,
   "id": "a9aa62f2",
   "metadata": {
    "execution": {
     "iopub.execute_input": "2024-04-04T08:15:22.648352Z",
     "iopub.status.busy": "2024-04-04T08:15:22.647699Z",
     "iopub.status.idle": "2024-04-04T08:15:22.916262Z",
     "shell.execute_reply": "2024-04-04T08:15:22.914946Z"
    },
    "papermill": {
     "duration": 0.293407,
     "end_time": "2024-04-04T08:15:22.919203",
     "exception": false,
     "start_time": "2024-04-04T08:15:22.625796",
     "status": "completed"
    },
    "tags": []
   },
   "outputs": [],
   "source": [
    "from sklearn.model_selection import train_test_split"
   ]
  },
  {
   "cell_type": "code",
   "execution_count": 25,
   "id": "0ed17d0f",
   "metadata": {
    "execution": {
     "iopub.execute_input": "2024-04-04T08:15:22.962302Z",
     "iopub.status.busy": "2024-04-04T08:15:22.961883Z",
     "iopub.status.idle": "2024-04-04T08:15:23.026672Z",
     "shell.execute_reply": "2024-04-04T08:15:23.025479Z"
    },
    "papermill": {
     "duration": 0.089823,
     "end_time": "2024-04-04T08:15:23.029603",
     "exception": false,
     "start_time": "2024-04-04T08:15:22.939780",
     "status": "completed"
    },
    "tags": []
   },
   "outputs": [
    {
     "data": {
      "text/plain": [
       "(441960, 110490)"
      ]
     },
     "execution_count": 25,
     "metadata": {},
     "output_type": "execute_result"
    }
   ],
   "source": [
    "train, val = train_test_split(data, test_size = 0.2, random_state = len(data))\n",
    "len(train), len(val)"
   ]
  },
  {
   "cell_type": "code",
   "execution_count": 26,
   "id": "19862083",
   "metadata": {
    "execution": {
     "iopub.execute_input": "2024-04-04T08:15:23.073873Z",
     "iopub.status.busy": "2024-04-04T08:15:23.072943Z",
     "iopub.status.idle": "2024-04-04T08:15:23.080163Z",
     "shell.execute_reply": "2024-04-04T08:15:23.078905Z"
    },
    "papermill": {
     "duration": 0.031811,
     "end_time": "2024-04-04T08:15:23.082613",
     "exception": false,
     "start_time": "2024-04-04T08:15:23.050802",
     "status": "completed"
    },
    "tags": []
   },
   "outputs": [
    {
     "data": {
      "text/plain": [
       "(441960, 7)"
      ]
     },
     "execution_count": 26,
     "metadata": {},
     "output_type": "execute_result"
    }
   ],
   "source": [
    "train.shape"
   ]
  },
  {
   "cell_type": "code",
   "execution_count": 27,
   "id": "0e83f5f5",
   "metadata": {
    "execution": {
     "iopub.execute_input": "2024-04-04T08:15:23.127004Z",
     "iopub.status.busy": "2024-04-04T08:15:23.126022Z",
     "iopub.status.idle": "2024-04-04T08:15:23.146373Z",
     "shell.execute_reply": "2024-04-04T08:15:23.145097Z"
    },
    "papermill": {
     "duration": 0.045161,
     "end_time": "2024-04-04T08:15:23.148872",
     "exception": false,
     "start_time": "2024-04-04T08:15:23.103711",
     "status": "completed"
    },
    "tags": []
   },
   "outputs": [
    {
     "data": {
      "text/plain": [
       "((441960, 7), (110490, 7))"
      ]
     },
     "execution_count": 27,
     "metadata": {},
     "output_type": "execute_result"
    }
   ],
   "source": [
    "# Dropping the missing values\n",
    "trian = train.dropna()\n",
    "val = val.dropna()\n",
    "\n",
    "train.shape, val.shape"
   ]
  },
  {
   "cell_type": "markdown",
   "id": "eb19e91f",
   "metadata": {
    "papermill": {
     "duration": 0.021332,
     "end_time": "2024-04-04T08:15:23.191602",
     "exception": false,
     "start_time": "2024-04-04T08:15:23.170270",
     "status": "completed"
    },
    "tags": []
   },
   "source": [
    "Sepraing the inputs and output cols"
   ]
  },
  {
   "cell_type": "code",
   "execution_count": 28,
   "id": "559a9c0b",
   "metadata": {
    "execution": {
     "iopub.execute_input": "2024-04-04T08:15:23.236804Z",
     "iopub.status.busy": "2024-04-04T08:15:23.235950Z",
     "iopub.status.idle": "2024-04-04T08:15:23.242601Z",
     "shell.execute_reply": "2024-04-04T08:15:23.241585Z"
    },
    "papermill": {
     "duration": 0.031783,
     "end_time": "2024-04-04T08:15:23.244803",
     "exception": false,
     "start_time": "2024-04-04T08:15:23.213020",
     "status": "completed"
    },
    "tags": []
   },
   "outputs": [
    {
     "data": {
      "text/plain": [
       "Index(['fare_amount', 'pickup_datetime', 'pickup_longitude', 'pickup_latitude',\n",
       "       'dropoff_longitude', 'dropoff_latitude', 'passenger_count'],\n",
       "      dtype='object')"
      ]
     },
     "execution_count": 28,
     "metadata": {},
     "output_type": "execute_result"
    }
   ],
   "source": [
    "train.columns"
   ]
  },
  {
   "cell_type": "markdown",
   "id": "a1284da9",
   "metadata": {
    "papermill": {
     "duration": 0.021514,
     "end_time": "2024-04-04T08:15:23.289200",
     "exception": false,
     "start_time": "2024-04-04T08:15:23.267686",
     "status": "completed"
    },
    "tags": []
   },
   "source": [
    "We can't Train a a model on date time column we need to convert the date time to multiple columns by extraicting the values"
   ]
  },
  {
   "cell_type": "code",
   "execution_count": 29,
   "id": "2754c0c0",
   "metadata": {
    "execution": {
     "iopub.execute_input": "2024-04-04T08:15:23.333799Z",
     "iopub.status.busy": "2024-04-04T08:15:23.333392Z",
     "iopub.status.idle": "2024-04-04T08:15:23.338427Z",
     "shell.execute_reply": "2024-04-04T08:15:23.337310Z"
    },
    "papermill": {
     "duration": 0.030301,
     "end_time": "2024-04-04T08:15:23.340665",
     "exception": false,
     "start_time": "2024-04-04T08:15:23.310364",
     "status": "completed"
    },
    "tags": []
   },
   "outputs": [],
   "source": [
    "input_col = ['pickup_longitude', 'pickup_latitude', 'dropoff_longitude', 'dropoff_latitude', 'passenger_count']\n",
    "tar_col = 'fare_amount'"
   ]
  },
  {
   "cell_type": "code",
   "execution_count": 30,
   "id": "0fbc4dcc",
   "metadata": {
    "execution": {
     "iopub.execute_input": "2024-04-04T08:15:23.385287Z",
     "iopub.status.busy": "2024-04-04T08:15:23.384493Z",
     "iopub.status.idle": "2024-04-04T08:15:23.405599Z",
     "shell.execute_reply": "2024-04-04T08:15:23.404772Z"
    },
    "papermill": {
     "duration": 0.045819,
     "end_time": "2024-04-04T08:15:23.407777",
     "exception": false,
     "start_time": "2024-04-04T08:15:23.361958",
     "status": "completed"
    },
    "tags": []
   },
   "outputs": [
    {
     "data": {
      "text/plain": [
       "((441960, 5), (110490,))"
      ]
     },
     "execution_count": 30,
     "metadata": {},
     "output_type": "execute_result"
    }
   ],
   "source": [
    "x_train = train[input_col].copy()\n",
    "y_train = train[tar_col].copy()\n",
    "\n",
    "x_val = val[input_col].copy()\n",
    "y_val = val[tar_col].copy()\n",
    "\n",
    "x_train.shape, y_val.shape"
   ]
  },
  {
   "cell_type": "markdown",
   "id": "2efb84c8",
   "metadata": {
    "papermill": {
     "duration": 0.021122,
     "end_time": "2024-04-04T08:15:23.450442",
     "exception": false,
     "start_time": "2024-04-04T08:15:23.429320",
     "status": "completed"
    },
    "tags": []
   },
   "source": [
    "## Hardcoded and baseline Models\n",
    "\n",
    "Making some of the very simple models which produce very dumb results and compare the models to the This to know the status\n",
    "and perfoming efficieny of the modle"
   ]
  },
  {
   "cell_type": "code",
   "execution_count": 31,
   "id": "3f9b6256",
   "metadata": {
    "execution": {
     "iopub.execute_input": "2024-04-04T08:15:23.495098Z",
     "iopub.status.busy": "2024-04-04T08:15:23.494722Z",
     "iopub.status.idle": "2024-04-04T08:15:23.501037Z",
     "shell.execute_reply": "2024-04-04T08:15:23.499928Z"
    },
    "papermill": {
     "duration": 0.031576,
     "end_time": "2024-04-04T08:15:23.503324",
     "exception": false,
     "start_time": "2024-04-04T08:15:23.471748",
     "status": "completed"
    },
    "tags": []
   },
   "outputs": [],
   "source": [
    "# Using Classes to make it similar to the SK-learn models\n",
    "\n",
    "class MeanRegressor:\n",
    "    def fit(self, inputs, targets):\n",
    "        self.mean = targets.mean()\n",
    "        return self\n",
    "    \n",
    "    def predict(self, inputs):\n",
    "        return np.full(inputs.shape[0], self.mean)\n",
    "    "
   ]
  },
  {
   "cell_type": "code",
   "execution_count": 32,
   "id": "bd9b4315",
   "metadata": {
    "execution": {
     "iopub.execute_input": "2024-04-04T08:15:23.548387Z",
     "iopub.status.busy": "2024-04-04T08:15:23.547971Z",
     "iopub.status.idle": "2024-04-04T08:15:23.554331Z",
     "shell.execute_reply": "2024-04-04T08:15:23.553440Z"
    },
    "papermill": {
     "duration": 0.031968,
     "end_time": "2024-04-04T08:15:23.556739",
     "exception": false,
     "start_time": "2024-04-04T08:15:23.524771",
     "status": "completed"
    },
    "tags": []
   },
   "outputs": [],
   "source": [
    "model = MeanRegressor().fit(x_train, y_train)"
   ]
  },
  {
   "cell_type": "code",
   "execution_count": 33,
   "id": "5db398fc",
   "metadata": {
    "execution": {
     "iopub.execute_input": "2024-04-04T08:15:23.606907Z",
     "iopub.status.busy": "2024-04-04T08:15:23.606531Z",
     "iopub.status.idle": "2024-04-04T08:15:23.613654Z",
     "shell.execute_reply": "2024-04-04T08:15:23.612445Z"
    },
    "papermill": {
     "duration": 0.033247,
     "end_time": "2024-04-04T08:15:23.616010",
     "exception": false,
     "start_time": "2024-04-04T08:15:23.582763",
     "status": "completed"
    },
    "tags": []
   },
   "outputs": [
    {
     "data": {
      "text/plain": [
       "11.351758"
      ]
     },
     "execution_count": 33,
     "metadata": {},
     "output_type": "execute_result"
    }
   ],
   "source": [
    "model.mean"
   ]
  },
  {
   "cell_type": "code",
   "execution_count": 34,
   "id": "e332c28f",
   "metadata": {
    "execution": {
     "iopub.execute_input": "2024-04-04T08:15:23.660671Z",
     "iopub.status.busy": "2024-04-04T08:15:23.660297Z",
     "iopub.status.idle": "2024-04-04T08:15:23.665648Z",
     "shell.execute_reply": "2024-04-04T08:15:23.664424Z"
    },
    "papermill": {
     "duration": 0.030401,
     "end_time": "2024-04-04T08:15:23.667910",
     "exception": false,
     "start_time": "2024-04-04T08:15:23.637509",
     "status": "completed"
    },
    "tags": []
   },
   "outputs": [],
   "source": [
    "train_pre = model.predict(x_train)"
   ]
  },
  {
   "cell_type": "markdown",
   "id": "70b75688",
   "metadata": {
    "papermill": {
     "duration": 0.021681,
     "end_time": "2024-04-04T08:15:23.711739",
     "exception": false,
     "start_time": "2024-04-04T08:15:23.690058",
     "status": "completed"
    },
    "tags": []
   },
   "source": [
    "### Evaluating \n",
    "using RMSE for the evaluating the error"
   ]
  },
  {
   "cell_type": "code",
   "execution_count": 35,
   "id": "b1845b5b",
   "metadata": {
    "execution": {
     "iopub.execute_input": "2024-04-04T08:15:23.757713Z",
     "iopub.status.busy": "2024-04-04T08:15:23.757337Z",
     "iopub.status.idle": "2024-04-04T08:15:23.763177Z",
     "shell.execute_reply": "2024-04-04T08:15:23.761381Z"
    },
    "papermill": {
     "duration": 0.033103,
     "end_time": "2024-04-04T08:15:23.766396",
     "exception": false,
     "start_time": "2024-04-04T08:15:23.733293",
     "status": "completed"
    },
    "tags": []
   },
   "outputs": [],
   "source": [
    "from sklearn.metrics import mean_squared_error\n",
    "\n",
    "def rmse(inp, tar):\n",
    "    return mean_squared_error(inp, tar, squared=False)"
   ]
  },
  {
   "cell_type": "code",
   "execution_count": 36,
   "id": "ad528660",
   "metadata": {
    "execution": {
     "iopub.execute_input": "2024-04-04T08:15:23.824111Z",
     "iopub.status.busy": "2024-04-04T08:15:23.823759Z",
     "iopub.status.idle": "2024-04-04T08:15:23.835831Z",
     "shell.execute_reply": "2024-04-04T08:15:23.834221Z"
    },
    "papermill": {
     "duration": 0.042769,
     "end_time": "2024-04-04T08:15:23.838752",
     "exception": false,
     "start_time": "2024-04-04T08:15:23.795983",
     "status": "completed"
    },
    "tags": []
   },
   "outputs": [
    {
     "data": {
      "text/plain": [
       "9.809799"
      ]
     },
     "execution_count": 36,
     "metadata": {},
     "output_type": "execute_result"
    }
   ],
   "source": [
    "train_rmse = rmse(train_pre, y_train)\n",
    "train_rmse"
   ]
  },
  {
   "cell_type": "markdown",
   "id": "668378d7",
   "metadata": {
    "papermill": {
     "duration": 0.021511,
     "end_time": "2024-04-04T08:15:23.882600",
     "exception": false,
     "start_time": "2024-04-04T08:15:23.861089",
     "status": "completed"
    },
    "tags": []
   },
   "source": [
    "A very high error in predicting the rate"
   ]
  },
  {
   "cell_type": "code",
   "execution_count": 37,
   "id": "de79f8a2",
   "metadata": {
    "execution": {
     "iopub.execute_input": "2024-04-04T08:15:23.927879Z",
     "iopub.status.busy": "2024-04-04T08:15:23.927524Z",
     "iopub.status.idle": "2024-04-04T08:15:23.935161Z",
     "shell.execute_reply": "2024-04-04T08:15:23.934039Z"
    },
    "papermill": {
     "duration": 0.033243,
     "end_time": "2024-04-04T08:15:23.937592",
     "exception": false,
     "start_time": "2024-04-04T08:15:23.904349",
     "status": "completed"
    },
    "tags": []
   },
   "outputs": [
    {
     "data": {
      "text/plain": [
       "9.820382"
      ]
     },
     "execution_count": 37,
     "metadata": {},
     "output_type": "execute_result"
    }
   ],
   "source": [
    "val_rmse = rmse(model.predict(x_val), y_val)\n",
    "val_rmse"
   ]
  },
  {
   "cell_type": "markdown",
   "id": "13fcb1a2",
   "metadata": {
    "papermill": {
     "duration": 0.021482,
     "end_time": "2024-04-04T08:15:23.980959",
     "exception": false,
     "start_time": "2024-04-04T08:15:23.959477",
     "status": "completed"
    },
    "tags": []
   },
   "source": [
    "### Train and Evaluate Base line Models"
   ]
  },
  {
   "cell_type": "code",
   "execution_count": 38,
   "id": "0504c231",
   "metadata": {
    "execution": {
     "iopub.execute_input": "2024-04-04T08:15:24.026497Z",
     "iopub.status.busy": "2024-04-04T08:15:24.026076Z",
     "iopub.status.idle": "2024-04-04T08:15:24.117002Z",
     "shell.execute_reply": "2024-04-04T08:15:24.115727Z"
    },
    "papermill": {
     "duration": 0.116894,
     "end_time": "2024-04-04T08:15:24.119667",
     "exception": false,
     "start_time": "2024-04-04T08:15:24.002773",
     "status": "completed"
    },
    "tags": []
   },
   "outputs": [],
   "source": [
    "from sklearn.linear_model import LinearRegression"
   ]
  },
  {
   "cell_type": "code",
   "execution_count": 39,
   "id": "ecce390d",
   "metadata": {
    "execution": {
     "iopub.execute_input": "2024-04-04T08:15:24.165343Z",
     "iopub.status.busy": "2024-04-04T08:15:24.164906Z",
     "iopub.status.idle": "2024-04-04T08:15:24.276695Z",
     "shell.execute_reply": "2024-04-04T08:15:24.275799Z"
    },
    "papermill": {
     "duration": 0.137719,
     "end_time": "2024-04-04T08:15:24.279396",
     "exception": false,
     "start_time": "2024-04-04T08:15:24.141677",
     "status": "completed"
    },
    "tags": []
   },
   "outputs": [],
   "source": [
    "model = LinearRegression().fit(x_train, y_train)"
   ]
  },
  {
   "cell_type": "code",
   "execution_count": 40,
   "id": "9ca12826",
   "metadata": {
    "execution": {
     "iopub.execute_input": "2024-04-04T08:15:24.326293Z",
     "iopub.status.busy": "2024-04-04T08:15:24.325583Z",
     "iopub.status.idle": "2024-04-04T08:15:24.344379Z",
     "shell.execute_reply": "2024-04-04T08:15:24.342926Z"
    },
    "papermill": {
     "duration": 0.045986,
     "end_time": "2024-04-04T08:15:24.348313",
     "exception": false,
     "start_time": "2024-04-04T08:15:24.302327",
     "status": "completed"
    },
    "tags": []
   },
   "outputs": [
    {
     "data": {
      "text/plain": [
       "array([11.27413 , 11.274368, 11.654195, ..., 11.274407, 11.654392,\n",
       "       11.654364], dtype=float32)"
      ]
     },
     "execution_count": 40,
     "metadata": {},
     "output_type": "execute_result"
    }
   ],
   "source": [
    "train_pre = model.predict(x_train)\n",
    "train_pre"
   ]
  },
  {
   "cell_type": "code",
   "execution_count": 41,
   "id": "4771cbbe",
   "metadata": {
    "execution": {
     "iopub.execute_input": "2024-04-04T08:15:24.445038Z",
     "iopub.status.busy": "2024-04-04T08:15:24.444336Z",
     "iopub.status.idle": "2024-04-04T08:15:24.458528Z",
     "shell.execute_reply": "2024-04-04T08:15:24.457273Z"
    },
    "papermill": {
     "duration": 0.065413,
     "end_time": "2024-04-04T08:15:24.460712",
     "exception": false,
     "start_time": "2024-04-04T08:15:24.395299",
     "status": "completed"
    },
    "tags": []
   },
   "outputs": [
    {
     "data": {
      "text/plain": [
       "9.808442"
      ]
     },
     "execution_count": 41,
     "metadata": {},
     "output_type": "execute_result"
    }
   ],
   "source": [
    "train_rmse = rmse(train_pre, y_train)\n",
    "train_rmse"
   ]
  },
  {
   "cell_type": "code",
   "execution_count": 42,
   "id": "3db5c4ff",
   "metadata": {
    "execution": {
     "iopub.execute_input": "2024-04-04T08:15:24.507315Z",
     "iopub.status.busy": "2024-04-04T08:15:24.506598Z",
     "iopub.status.idle": "2024-04-04T08:15:24.513716Z",
     "shell.execute_reply": "2024-04-04T08:15:24.512570Z"
    },
    "papermill": {
     "duration": 0.033162,
     "end_time": "2024-04-04T08:15:24.516150",
     "exception": false,
     "start_time": "2024-04-04T08:15:24.482988",
     "status": "completed"
    },
    "tags": []
   },
   "outputs": [
    {
     "data": {
      "text/plain": [
       "array([ 0.00041984, -0.00824938,  0.00203213, -0.00225181,  0.09508976],\n",
       "      dtype=float32)"
      ]
     },
     "execution_count": 42,
     "metadata": {},
     "output_type": "execute_result"
    }
   ],
   "source": [
    "model.coef_"
   ]
  },
  {
   "cell_type": "code",
   "execution_count": 43,
   "id": "f0f0faad",
   "metadata": {
    "execution": {
     "iopub.execute_input": "2024-04-04T08:15:24.562707Z",
     "iopub.status.busy": "2024-04-04T08:15:24.562304Z",
     "iopub.status.idle": "2024-04-04T08:15:24.575422Z",
     "shell.execute_reply": "2024-04-04T08:15:24.574161Z"
    },
    "papermill": {
     "duration": 0.040706,
     "end_time": "2024-04-04T08:15:24.579343",
     "exception": false,
     "start_time": "2024-04-04T08:15:24.538637",
     "status": "completed"
    },
    "tags": []
   },
   "outputs": [
    {
     "data": {
      "text/plain": [
       "9.819258"
      ]
     },
     "execution_count": 43,
     "metadata": {},
     "output_type": "execute_result"
    }
   ],
   "source": [
    "val_pre = model.predict(x_val)\n",
    "val_rmse = rmse(val_pre, y_val)\n",
    "val_rmse"
   ]
  },
  {
   "cell_type": "markdown",
   "id": "4f4213fd",
   "metadata": {
    "papermill": {
     "duration": 0.04729,
     "end_time": "2024-04-04T08:15:24.674580",
     "exception": false,
     "start_time": "2024-04-04T08:15:24.627290",
     "status": "completed"
    },
    "tags": []
   },
   "source": [
    "Not at all a good model -> almost equal to the hardcoded model\n",
    "\n",
    "The main reason for this is Taining data have geo-coordinates, which is not in a format useful for the model and we are not using the one of the most imp column : pickup date and time"
   ]
  },
  {
   "cell_type": "code",
   "execution_count": null,
   "id": "b2e7ae42",
   "metadata": {
    "papermill": {
     "duration": 0.022637,
     "end_time": "2024-04-04T08:15:24.727418",
     "exception": false,
     "start_time": "2024-04-04T08:15:24.704781",
     "status": "completed"
    },
    "tags": []
   },
   "outputs": [],
   "source": []
  }
 ],
 "metadata": {
  "kaggle": {
   "accelerator": "none",
   "dataSources": [
    {
     "databundleVersionId": 61318,
     "sourceId": 10170,
     "sourceType": "competition"
    }
   ],
   "dockerImageVersionId": 30673,
   "isGpuEnabled": false,
   "isInternetEnabled": true,
   "language": "python",
   "sourceType": "notebook"
  },
  "kernelspec": {
   "display_name": "Python 3",
   "language": "python",
   "name": "python3"
  },
  "language_info": {
   "codemirror_mode": {
    "name": "ipython",
    "version": 3
   },
   "file_extension": ".py",
   "mimetype": "text/x-python",
   "name": "python",
   "nbconvert_exporter": "python",
   "pygments_lexer": "ipython3",
   "version": "3.10.13"
  },
  "papermill": {
   "default_parameters": {},
   "duration": 179.795427,
   "end_time": "2024-04-04T08:15:25.374066",
   "environment_variables": {},
   "exception": null,
   "input_path": "__notebook__.ipynb",
   "output_path": "__notebook__.ipynb",
   "parameters": {},
   "start_time": "2024-04-04T08:12:25.578639",
   "version": "2.5.0"
  }
 },
 "nbformat": 4,
 "nbformat_minor": 5
}
