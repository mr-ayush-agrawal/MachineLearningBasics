{
 "cells": [
  {
   "cell_type": "code",
   "execution_count": 1,
   "id": "d6e5e683",
   "metadata": {
    "_cell_guid": "b1076dfc-b9ad-4769-8c92-a6c4dae69d19",
    "_uuid": "8f2839f25d086af736a60e9eeb907d3b93b6e0e5",
    "execution": {
     "iopub.execute_input": "2024-04-04T04:29:14.938781Z",
     "iopub.status.busy": "2024-04-04T04:29:14.938360Z",
     "iopub.status.idle": "2024-04-04T04:29:14.951236Z",
     "shell.execute_reply": "2024-04-04T04:29:14.950375Z"
    },
    "papermill": {
     "duration": 0.023227,
     "end_time": "2024-04-04T04:29:14.953891",
     "exception": false,
     "start_time": "2024-04-04T04:29:14.930664",
     "status": "completed"
    },
    "tags": []
   },
   "outputs": [
    {
     "name": "stdout",
     "output_type": "stream",
     "text": [
      "/kaggle/input/new-york-city-taxi-fare-prediction/sample_submission.csv\n",
      "/kaggle/input/new-york-city-taxi-fare-prediction/GCP-Coupons-Instructions.rtf\n",
      "/kaggle/input/new-york-city-taxi-fare-prediction/train.csv\n",
      "/kaggle/input/new-york-city-taxi-fare-prediction/test.csv\n"
     ]
    }
   ],
   "source": [
    "# Input data files are available in the read-only \"../input/\" directory\n",
    "# For example, running this (by clicking run or pressing Shift+Enter) will list all files under the input directory\n",
    "\n",
    "import os\n",
    "for dirname, _, filenames in os.walk('/kaggle/input'):\n",
    "    for filename in filenames:\n",
    "        print(os.path.join(dirname, filename))\n",
    "\n",
    "# You can write up to 20GB to the current directory (/kaggle/working/) that gets preserved as output when you create a version using \"Save & Run All\" \n",
    "# You can also write temporary files to /kaggle/temp/, but they won't be saved outside of the current session"
   ]
  },
  {
   "cell_type": "markdown",
   "id": "73105b68",
   "metadata": {
    "papermill": {
     "duration": 0.005756,
     "end_time": "2024-04-04T04:29:14.965505",
     "exception": false,
     "start_time": "2024-04-04T04:29:14.959749",
     "status": "completed"
    },
    "tags": []
   },
   "source": [
    "### Setp 1\n",
    "- Install req libs and Load the datas"
   ]
  },
  {
   "cell_type": "code",
   "execution_count": 2,
   "id": "9aedbfa9",
   "metadata": {
    "execution": {
     "iopub.execute_input": "2024-04-04T04:29:14.977646Z",
     "iopub.status.busy": "2024-04-04T04:29:14.977105Z",
     "iopub.status.idle": "2024-04-04T04:29:15.974865Z",
     "shell.execute_reply": "2024-04-04T04:29:15.971983Z"
    },
    "papermill": {
     "duration": 1.00791,
     "end_time": "2024-04-04T04:29:15.978535",
     "exception": false,
     "start_time": "2024-04-04T04:29:14.970625",
     "status": "completed"
    },
    "tags": []
   },
   "outputs": [],
   "source": [
    "import numpy as np\n",
    "import pandas as pd"
   ]
  },
  {
   "cell_type": "code",
   "execution_count": 3,
   "id": "77c54cdb",
   "metadata": {
    "execution": {
     "iopub.execute_input": "2024-04-04T04:29:15.991999Z",
     "iopub.status.busy": "2024-04-04T04:29:15.991488Z",
     "iopub.status.idle": "2024-04-04T04:29:16.000271Z",
     "shell.execute_reply": "2024-04-04T04:29:15.998467Z"
    },
    "papermill": {
     "duration": 0.018187,
     "end_time": "2024-04-04T04:29:16.003006",
     "exception": false,
     "start_time": "2024-04-04T04:29:15.984819",
     "status": "completed"
    },
    "tags": []
   },
   "outputs": [],
   "source": [
    "data_dir = '/kaggle/input/new-york-city-taxi-fare-prediction/'"
   ]
  },
  {
   "cell_type": "code",
   "execution_count": 4,
   "id": "8d706708",
   "metadata": {
    "execution": {
     "iopub.execute_input": "2024-04-04T04:29:16.017649Z",
     "iopub.status.busy": "2024-04-04T04:29:16.017247Z",
     "iopub.status.idle": "2024-04-04T04:29:16.344457Z",
     "shell.execute_reply": "2024-04-04T04:29:16.343227Z"
    },
    "papermill": {
     "duration": 0.337862,
     "end_time": "2024-04-04T04:29:16.346963",
     "exception": false,
     "start_time": "2024-04-04T04:29:16.009101",
     "status": "completed"
    },
    "tags": []
   },
   "outputs": [
    {
     "name": "stdout",
     "output_type": "stream",
     "text": [
      "total 5.4G\r\n",
      "-rw-r--r-- 1 nobody nogroup  486 Mar 26 17:41 GCP-Coupons-Instructions.rtf\r\n",
      "-rw-r--r-- 1 nobody nogroup 336K Mar 26 17:41 sample_submission.csv\r\n",
      "-rw-r--r-- 1 nobody nogroup 960K Mar 26 17:41 test.csv\r\n",
      "-rw-r--r-- 1 nobody nogroup 5.4G Mar 26 17:44 train.csv\r\n"
     ]
    }
   ],
   "source": [
    "!ls -lh {data_dir}"
   ]
  },
  {
   "cell_type": "markdown",
   "id": "1294e92e",
   "metadata": {
    "papermill": {
     "duration": 0.005143,
     "end_time": "2024-04-04T04:29:16.357834",
     "exception": false,
     "start_time": "2024-04-04T04:29:16.352691",
     "status": "completed"
    },
    "tags": []
   },
   "source": [
    "All the data is in the **train.csv** file"
   ]
  },
  {
   "cell_type": "code",
   "execution_count": 5,
   "id": "e7c3a19f",
   "metadata": {
    "execution": {
     "iopub.execute_input": "2024-04-04T04:29:16.371497Z",
     "iopub.status.busy": "2024-04-04T04:29:16.370527Z",
     "iopub.status.idle": "2024-04-04T04:29:16.375089Z",
     "shell.execute_reply": "2024-04-04T04:29:16.374337Z"
    },
    "papermill": {
     "duration": 0.013524,
     "end_time": "2024-04-04T04:29:16.376880",
     "exception": false,
     "start_time": "2024-04-04T04:29:16.363356",
     "status": "completed"
    },
    "tags": []
   },
   "outputs": [],
   "source": [
    "# this will take too much tine\n",
    "# !wc -l {data_dir}/train.csv"
   ]
  },
  {
   "cell_type": "code",
   "execution_count": 6,
   "id": "240da8cf",
   "metadata": {
    "execution": {
     "iopub.execute_input": "2024-04-04T04:29:16.390241Z",
     "iopub.status.busy": "2024-04-04T04:29:16.389638Z",
     "iopub.status.idle": "2024-04-04T04:29:16.732973Z",
     "shell.execute_reply": "2024-04-04T04:29:16.731833Z"
    },
    "papermill": {
     "duration": 0.352534,
     "end_time": "2024-04-04T04:29:16.735345",
     "exception": false,
     "start_time": "2024-04-04T04:29:16.382811",
     "status": "completed"
    },
    "tags": []
   },
   "outputs": [
    {
     "name": "stdout",
     "output_type": "stream",
     "text": [
      "9914 /kaggle/input/new-york-city-taxi-fare-prediction//test.csv\r\n"
     ]
    }
   ],
   "source": [
    "!wc -l {data_dir}/test.csv"
   ]
  },
  {
   "cell_type": "markdown",
   "id": "6ccdc0ff",
   "metadata": {
    "papermill": {
     "duration": 0.005046,
     "end_time": "2024-04-04T04:29:16.745946",
     "exception": false,
     "start_time": "2024-04-04T04:29:16.740900",
     "status": "completed"
    },
    "tags": []
   },
   "source": [
    "Getting the first line of the dataset using the _shell_ command"
   ]
  },
  {
   "cell_type": "code",
   "execution_count": 7,
   "id": "6a260681",
   "metadata": {
    "execution": {
     "iopub.execute_input": "2024-04-04T04:29:16.758856Z",
     "iopub.status.busy": "2024-04-04T04:29:16.758175Z",
     "iopub.status.idle": "2024-04-04T04:29:17.093336Z",
     "shell.execute_reply": "2024-04-04T04:29:17.092163Z"
    },
    "papermill": {
     "duration": 0.344434,
     "end_time": "2024-04-04T04:29:17.095729",
     "exception": false,
     "start_time": "2024-04-04T04:29:16.751295",
     "status": "completed"
    },
    "tags": []
   },
   "outputs": [
    {
     "name": "stdout",
     "output_type": "stream",
     "text": [
      "\r\n",
      "\r\n",
      "\r\n",
      "\r\n",
      "\r\n",
      "\r\n",
      "\r\n",
      "\r\n",
      "\r\n",
      "\r\n"
     ]
    }
   ],
   "source": [
    "    !head {data_dir}/train.csv"
   ]
  },
  {
   "cell_type": "code",
   "execution_count": 8,
   "id": "7f6d8b62",
   "metadata": {
    "execution": {
     "iopub.execute_input": "2024-04-04T04:29:17.108106Z",
     "iopub.status.busy": "2024-04-04T04:29:17.107750Z",
     "iopub.status.idle": "2024-04-04T04:29:17.417987Z",
     "shell.execute_reply": "2024-04-04T04:29:17.416948Z"
    },
    "papermill": {
     "duration": 0.31918,
     "end_time": "2024-04-04T04:29:17.420432",
     "exception": false,
     "start_time": "2024-04-04T04:29:17.101252",
     "status": "completed"
    },
    "tags": []
   },
   "outputs": [
    {
     "name": "stdout",
     "output_type": "stream",
     "text": [
      "\r\n",
      "\r\n",
      "\r\n",
      "\r\n",
      "\r\n",
      "\r\n",
      "\r\n",
      "\r\n",
      "\r\n",
      "\r\n"
     ]
    }
   ],
   "source": [
    "!head {data_dir}/test.csv"
   ]
  },
  {
   "cell_type": "markdown",
   "id": "e7571c64",
   "metadata": {
    "papermill": {
     "duration": 0.004986,
     "end_time": "2024-04-04T04:29:17.432089",
     "exception": false,
     "start_time": "2024-04-04T04:29:17.427103",
     "status": "completed"
    },
    "tags": []
   },
   "source": [
    "fare amount is missingw which is the pratical Target column for our analysis"
   ]
  },
  {
   "cell_type": "markdown",
   "id": "3b0e7463",
   "metadata": {
    "papermill": {
     "duration": 0.00491,
     "end_time": "2024-04-04T04:29:17.442282",
     "exception": false,
     "start_time": "2024-04-04T04:29:17.437372",
     "status": "completed"
    },
    "tags": []
   },
   "source": [
    "#### Loading\n",
    "Loading the entire dataset into Pandas is going to be slow, so we can use the following optimizations:\n",
    "\n",
    "- Ignore the key column\n",
    "- Parse pickup datetime while loading data\n",
    "- Specify data types for other columns\n",
    "    - float32 for geo coordinates\n",
    "    - float32 for fare amount\n",
    "    - uint8 for passenger count\n",
    "- Work with a 1% sample of the data (~500k rows)"
   ]
  },
  {
   "cell_type": "code",
   "execution_count": 9,
   "id": "25af7511",
   "metadata": {
    "execution": {
     "iopub.execute_input": "2024-04-04T04:29:17.454781Z",
     "iopub.status.busy": "2024-04-04T04:29:17.454335Z",
     "iopub.status.idle": "2024-04-04T04:29:17.462046Z",
     "shell.execute_reply": "2024-04-04T04:29:17.461073Z"
    },
    "papermill": {
     "duration": 0.01651,
     "end_time": "2024-04-04T04:29:17.463971",
     "exception": false,
     "start_time": "2024-04-04T04:29:17.447461",
     "status": "completed"
    },
    "tags": []
   },
   "outputs": [
    {
     "data": {
      "text/plain": [
       "['fare_amount',\n",
       " 'pickup_datetime',\n",
       " 'pickup_longitude',\n",
       " 'pickup_latitude',\n",
       " 'dropoff_longitude',\n",
       " 'dropoff_latitude',\n",
       " 'passenger_count']"
      ]
     },
     "execution_count": 9,
     "metadata": {},
     "output_type": "execute_result"
    }
   ],
   "source": [
    "# Taking all the columns except the keys\n",
    "selected_cols = 'fare_amount,pickup_datetime,pickup_longitude,pickup_latitude,dropoff_longitude,dropoff_latitude,passenger_count'.split(',')\n",
    "selected_cols"
   ]
  },
  {
   "cell_type": "code",
   "execution_count": 10,
   "id": "6d2c3a56",
   "metadata": {
    "execution": {
     "iopub.execute_input": "2024-04-04T04:29:17.477391Z",
     "iopub.status.busy": "2024-04-04T04:29:17.476782Z",
     "iopub.status.idle": "2024-04-04T04:29:17.482280Z",
     "shell.execute_reply": "2024-04-04T04:29:17.481659Z"
    },
    "papermill": {
     "duration": 0.014388,
     "end_time": "2024-04-04T04:29:17.484047",
     "exception": false,
     "start_time": "2024-04-04T04:29:17.469659",
     "status": "completed"
    },
    "tags": []
   },
   "outputs": [
    {
     "data": {
      "text/plain": [
       "{'fare_amount': 'float32',\n",
       " 'pickup_longitude': 'float32',\n",
       " 'pickup_latitude': 'float32',\n",
       " 'dropoff_longitude': 'float32',\n",
       " 'dropoff_latitude': 'float32',\n",
       " 'passenger_count': 'uint8'}"
      ]
     },
     "execution_count": 10,
     "metadata": {},
     "output_type": "execute_result"
    }
   ],
   "source": [
    "d_types = {\n",
    "    'fare_amount' : 'float32',\n",
    "    'pickup_longitude': 'float32',\n",
    "    'pickup_latitude': 'float32',\n",
    "    'dropoff_longitude': 'float32',\n",
    "    'dropoff_latitude' : 'float32',\n",
    "    'passenger_count' : 'uint8',\n",
    "}\n",
    "d_types"
   ]
  },
  {
   "cell_type": "code",
   "execution_count": 11,
   "id": "7a4b066d",
   "metadata": {
    "execution": {
     "iopub.execute_input": "2024-04-04T04:29:17.496842Z",
     "iopub.status.busy": "2024-04-04T04:29:17.496451Z",
     "iopub.status.idle": "2024-04-04T04:29:17.502411Z",
     "shell.execute_reply": "2024-04-04T04:29:17.501459Z"
    },
    "papermill": {
     "duration": 0.014504,
     "end_time": "2024-04-04T04:29:17.504237",
     "exception": false,
     "start_time": "2024-04-04T04:29:17.489733",
     "status": "completed"
    },
    "tags": []
   },
   "outputs": [],
   "source": [
    "import random as rnd\n",
    "sample_fraction = 0.01\n",
    "rnd.seed(42)\n",
    "\n",
    "def skip_row(row_idx) :\n",
    "#     If this functon retrun false then the number is going to be in data\n",
    "    if row_idx == 0 :\n",
    "        return False\n",
    "    return rnd.random() > sample_fraction"
   ]
  },
  {
   "cell_type": "code",
   "execution_count": 12,
   "id": "e248f25f",
   "metadata": {
    "execution": {
     "iopub.execute_input": "2024-04-04T04:29:17.517221Z",
     "iopub.status.busy": "2024-04-04T04:29:17.516533Z",
     "iopub.status.idle": "2024-04-04T04:31:10.187778Z",
     "shell.execute_reply": "2024-04-04T04:31:10.186905Z"
    },
    "papermill": {
     "duration": 112.680127,
     "end_time": "2024-04-04T04:31:10.189998",
     "exception": false,
     "start_time": "2024-04-04T04:29:17.509871",
     "status": "completed"
    },
    "tags": []
   },
   "outputs": [],
   "source": [
    "data = pd.read_csv(data_dir + '/train.csv', \n",
    "                   usecols = selected_cols, \n",
    "                   dtype = d_types, \n",
    "                   parse_dates= ['pickup_datetime'], \n",
    "                   skiprows = skip_row) # A function is passed as a prameter"
   ]
  },
  {
   "cell_type": "code",
   "execution_count": 13,
   "id": "1b0f16aa",
   "metadata": {
    "execution": {
     "iopub.execute_input": "2024-04-04T04:31:10.204523Z",
     "iopub.status.busy": "2024-04-04T04:31:10.203722Z",
     "iopub.status.idle": "2024-04-04T04:31:10.258420Z",
     "shell.execute_reply": "2024-04-04T04:31:10.256613Z"
    },
    "papermill": {
     "duration": 0.064667,
     "end_time": "2024-04-04T04:31:10.260933",
     "exception": false,
     "start_time": "2024-04-04T04:31:10.196266",
     "status": "completed"
    },
    "tags": []
   },
   "outputs": [
    {
     "data": {
      "text/html": [
       "<div>\n",
       "<style scoped>\n",
       "    .dataframe tbody tr th:only-of-type {\n",
       "        vertical-align: middle;\n",
       "    }\n",
       "\n",
       "    .dataframe tbody tr th {\n",
       "        vertical-align: top;\n",
       "    }\n",
       "\n",
       "    .dataframe thead th {\n",
       "        text-align: right;\n",
       "    }\n",
       "</style>\n",
       "<table border=\"1\" class=\"dataframe\">\n",
       "  <thead>\n",
       "    <tr style=\"text-align: right;\">\n",
       "      <th></th>\n",
       "      <th>fare_amount</th>\n",
       "      <th>pickup_datetime</th>\n",
       "      <th>pickup_longitude</th>\n",
       "      <th>pickup_latitude</th>\n",
       "      <th>dropoff_longitude</th>\n",
       "      <th>dropoff_latitude</th>\n",
       "      <th>passenger_count</th>\n",
       "    </tr>\n",
       "  </thead>\n",
       "  <tbody>\n",
       "    <tr>\n",
       "      <th>159209</th>\n",
       "      <td>8.9</td>\n",
       "      <td>2011-11-01 09:53:00+00:00</td>\n",
       "      <td>-73.959625</td>\n",
       "      <td>40.814026</td>\n",
       "      <td>-73.942818</td>\n",
       "      <td>40.840816</td>\n",
       "      <td>5</td>\n",
       "    </tr>\n",
       "    <tr>\n",
       "      <th>321214</th>\n",
       "      <td>3.5</td>\n",
       "      <td>2012-12-30 00:08:13+00:00</td>\n",
       "      <td>-73.955276</td>\n",
       "      <td>40.788662</td>\n",
       "      <td>-73.964348</td>\n",
       "      <td>40.792484</td>\n",
       "      <td>1</td>\n",
       "    </tr>\n",
       "    <tr>\n",
       "      <th>436932</th>\n",
       "      <td>6.5</td>\n",
       "      <td>2009-09-29 20:09:42+00:00</td>\n",
       "      <td>-73.975021</td>\n",
       "      <td>40.759159</td>\n",
       "      <td>-73.959724</td>\n",
       "      <td>40.782200</td>\n",
       "      <td>1</td>\n",
       "    </tr>\n",
       "    <tr>\n",
       "      <th>151063</th>\n",
       "      <td>4.5</td>\n",
       "      <td>2010-06-09 18:12:07+00:00</td>\n",
       "      <td>-73.987434</td>\n",
       "      <td>40.738144</td>\n",
       "      <td>-73.994606</td>\n",
       "      <td>40.727825</td>\n",
       "      <td>1</td>\n",
       "    </tr>\n",
       "    <tr>\n",
       "      <th>189252</th>\n",
       "      <td>12.5</td>\n",
       "      <td>2014-06-15 09:49:00+00:00</td>\n",
       "      <td>-73.985008</td>\n",
       "      <td>40.747250</td>\n",
       "      <td>-74.011131</td>\n",
       "      <td>40.729183</td>\n",
       "      <td>2</td>\n",
       "    </tr>\n",
       "    <tr>\n",
       "      <th>480629</th>\n",
       "      <td>3.7</td>\n",
       "      <td>2011-07-05 13:58:00+00:00</td>\n",
       "      <td>-74.006950</td>\n",
       "      <td>40.728928</td>\n",
       "      <td>-74.004936</td>\n",
       "      <td>40.737392</td>\n",
       "      <td>5</td>\n",
       "    </tr>\n",
       "    <tr>\n",
       "      <th>485475</th>\n",
       "      <td>36.5</td>\n",
       "      <td>2014-03-27 21:39:35+00:00</td>\n",
       "      <td>-73.981674</td>\n",
       "      <td>40.776100</td>\n",
       "      <td>-73.974510</td>\n",
       "      <td>40.671085</td>\n",
       "      <td>1</td>\n",
       "    </tr>\n",
       "    <tr>\n",
       "      <th>177407</th>\n",
       "      <td>7.5</td>\n",
       "      <td>2014-01-27 19:05:00+00:00</td>\n",
       "      <td>-74.001747</td>\n",
       "      <td>40.740959</td>\n",
       "      <td>-73.983536</td>\n",
       "      <td>40.728371</td>\n",
       "      <td>3</td>\n",
       "    </tr>\n",
       "    <tr>\n",
       "      <th>80828</th>\n",
       "      <td>12.1</td>\n",
       "      <td>2012-03-02 23:42:00+00:00</td>\n",
       "      <td>-73.990440</td>\n",
       "      <td>40.775394</td>\n",
       "      <td>-73.944473</td>\n",
       "      <td>40.779797</td>\n",
       "      <td>1</td>\n",
       "    </tr>\n",
       "    <tr>\n",
       "      <th>396164</th>\n",
       "      <td>4.1</td>\n",
       "      <td>2012-08-13 21:24:42+00:00</td>\n",
       "      <td>-73.992867</td>\n",
       "      <td>40.731792</td>\n",
       "      <td>-74.002357</td>\n",
       "      <td>40.733425</td>\n",
       "      <td>1</td>\n",
       "    </tr>\n",
       "  </tbody>\n",
       "</table>\n",
       "</div>"
      ],
      "text/plain": [
       "        fare_amount           pickup_datetime  pickup_longitude  \\\n",
       "159209          8.9 2011-11-01 09:53:00+00:00        -73.959625   \n",
       "321214          3.5 2012-12-30 00:08:13+00:00        -73.955276   \n",
       "436932          6.5 2009-09-29 20:09:42+00:00        -73.975021   \n",
       "151063          4.5 2010-06-09 18:12:07+00:00        -73.987434   \n",
       "189252         12.5 2014-06-15 09:49:00+00:00        -73.985008   \n",
       "480629          3.7 2011-07-05 13:58:00+00:00        -74.006950   \n",
       "485475         36.5 2014-03-27 21:39:35+00:00        -73.981674   \n",
       "177407          7.5 2014-01-27 19:05:00+00:00        -74.001747   \n",
       "80828          12.1 2012-03-02 23:42:00+00:00        -73.990440   \n",
       "396164          4.1 2012-08-13 21:24:42+00:00        -73.992867   \n",
       "\n",
       "        pickup_latitude  dropoff_longitude  dropoff_latitude  passenger_count  \n",
       "159209        40.814026         -73.942818         40.840816                5  \n",
       "321214        40.788662         -73.964348         40.792484                1  \n",
       "436932        40.759159         -73.959724         40.782200                1  \n",
       "151063        40.738144         -73.994606         40.727825                1  \n",
       "189252        40.747250         -74.011131         40.729183                2  \n",
       "480629        40.728928         -74.004936         40.737392                5  \n",
       "485475        40.776100         -73.974510         40.671085                1  \n",
       "177407        40.740959         -73.983536         40.728371                3  \n",
       "80828         40.775394         -73.944473         40.779797                1  \n",
       "396164        40.731792         -74.002357         40.733425                1  "
      ]
     },
     "execution_count": 13,
     "metadata": {},
     "output_type": "execute_result"
    }
   ],
   "source": [
    "data.sample(10)"
   ]
  },
  {
   "cell_type": "code",
   "execution_count": 14,
   "id": "d6003bd2",
   "metadata": {
    "execution": {
     "iopub.execute_input": "2024-04-04T04:31:10.275366Z",
     "iopub.status.busy": "2024-04-04T04:31:10.274979Z",
     "iopub.status.idle": "2024-04-04T04:31:10.309091Z",
     "shell.execute_reply": "2024-04-04T04:31:10.307189Z"
    },
    "papermill": {
     "duration": 0.044671,
     "end_time": "2024-04-04T04:31:10.311991",
     "exception": false,
     "start_time": "2024-04-04T04:31:10.267320",
     "status": "completed"
    },
    "tags": []
   },
   "outputs": [
    {
     "name": "stdout",
     "output_type": "stream",
     "text": [
      "<class 'pandas.core.frame.DataFrame'>\n",
      "RangeIndex: 552450 entries, 0 to 552449\n",
      "Data columns (total 7 columns):\n",
      " #   Column             Non-Null Count   Dtype              \n",
      "---  ------             --------------   -----              \n",
      " 0   fare_amount        552450 non-null  float32            \n",
      " 1   pickup_datetime    552450 non-null  datetime64[ns, UTC]\n",
      " 2   pickup_longitude   552450 non-null  float32            \n",
      " 3   pickup_latitude    552450 non-null  float32            \n",
      " 4   dropoff_longitude  552450 non-null  float32            \n",
      " 5   dropoff_latitude   552450 non-null  float32            \n",
      " 6   passenger_count    552450 non-null  uint8              \n",
      "dtypes: datetime64[ns, UTC](1), float32(5), uint8(1)\n",
      "memory usage: 15.3 MB\n"
     ]
    }
   ],
   "source": [
    "data.info()"
   ]
  },
  {
   "cell_type": "code",
   "execution_count": 15,
   "id": "8b6f46c1",
   "metadata": {
    "execution": {
     "iopub.execute_input": "2024-04-04T04:31:10.331013Z",
     "iopub.status.busy": "2024-04-04T04:31:10.330146Z",
     "iopub.status.idle": "2024-04-04T04:31:10.339618Z",
     "shell.execute_reply": "2024-04-04T04:31:10.336710Z"
    },
    "papermill": {
     "duration": 0.021553,
     "end_time": "2024-04-04T04:31:10.342624",
     "exception": false,
     "start_time": "2024-04-04T04:31:10.321071",
     "status": "completed"
    },
    "tags": []
   },
   "outputs": [
    {
     "data": {
      "text/plain": [
       "(552450, 7)"
      ]
     },
     "execution_count": 15,
     "metadata": {},
     "output_type": "execute_result"
    }
   ],
   "source": [
    "data.shape"
   ]
  },
  {
   "cell_type": "code",
   "execution_count": 16,
   "id": "0e9e86e4",
   "metadata": {
    "execution": {
     "iopub.execute_input": "2024-04-04T04:31:10.363462Z",
     "iopub.status.busy": "2024-04-04T04:31:10.363038Z",
     "iopub.status.idle": "2024-04-04T04:31:10.497918Z",
     "shell.execute_reply": "2024-04-04T04:31:10.496547Z"
    },
    "papermill": {
     "duration": 0.15068,
     "end_time": "2024-04-04T04:31:10.500376",
     "exception": false,
     "start_time": "2024-04-04T04:31:10.349696",
     "status": "completed"
    },
    "tags": []
   },
   "outputs": [
    {
     "data": {
      "text/html": [
       "<div>\n",
       "<style scoped>\n",
       "    .dataframe tbody tr th:only-of-type {\n",
       "        vertical-align: middle;\n",
       "    }\n",
       "\n",
       "    .dataframe tbody tr th {\n",
       "        vertical-align: top;\n",
       "    }\n",
       "\n",
       "    .dataframe thead th {\n",
       "        text-align: right;\n",
       "    }\n",
       "</style>\n",
       "<table border=\"1\" class=\"dataframe\">\n",
       "  <thead>\n",
       "    <tr style=\"text-align: right;\">\n",
       "      <th></th>\n",
       "      <th>fare_amount</th>\n",
       "      <th>pickup_longitude</th>\n",
       "      <th>pickup_latitude</th>\n",
       "      <th>dropoff_longitude</th>\n",
       "      <th>dropoff_latitude</th>\n",
       "      <th>passenger_count</th>\n",
       "    </tr>\n",
       "  </thead>\n",
       "  <tbody>\n",
       "    <tr>\n",
       "      <th>count</th>\n",
       "      <td>552450.000000</td>\n",
       "      <td>552450.000000</td>\n",
       "      <td>552450.000000</td>\n",
       "      <td>552450.000000</td>\n",
       "      <td>552450.000000</td>\n",
       "      <td>552450.000000</td>\n",
       "    </tr>\n",
       "    <tr>\n",
       "      <th>mean</th>\n",
       "      <td>11.354059</td>\n",
       "      <td>-72.497063</td>\n",
       "      <td>39.910500</td>\n",
       "      <td>-72.504326</td>\n",
       "      <td>39.934265</td>\n",
       "      <td>1.684983</td>\n",
       "    </tr>\n",
       "    <tr>\n",
       "      <th>std</th>\n",
       "      <td>9.811924</td>\n",
       "      <td>11.618246</td>\n",
       "      <td>8.061114</td>\n",
       "      <td>12.074346</td>\n",
       "      <td>9.255057</td>\n",
       "      <td>1.337664</td>\n",
       "    </tr>\n",
       "    <tr>\n",
       "      <th>min</th>\n",
       "      <td>-52.000000</td>\n",
       "      <td>-1183.362793</td>\n",
       "      <td>-3084.490234</td>\n",
       "      <td>-3356.729736</td>\n",
       "      <td>-2073.150635</td>\n",
       "      <td>0.000000</td>\n",
       "    </tr>\n",
       "    <tr>\n",
       "      <th>25%</th>\n",
       "      <td>6.000000</td>\n",
       "      <td>-73.992020</td>\n",
       "      <td>40.734875</td>\n",
       "      <td>-73.991425</td>\n",
       "      <td>40.733990</td>\n",
       "      <td>1.000000</td>\n",
       "    </tr>\n",
       "    <tr>\n",
       "      <th>50%</th>\n",
       "      <td>8.500000</td>\n",
       "      <td>-73.981819</td>\n",
       "      <td>40.752621</td>\n",
       "      <td>-73.980179</td>\n",
       "      <td>40.753101</td>\n",
       "      <td>1.000000</td>\n",
       "    </tr>\n",
       "    <tr>\n",
       "      <th>75%</th>\n",
       "      <td>12.500000</td>\n",
       "      <td>-73.967155</td>\n",
       "      <td>40.767036</td>\n",
       "      <td>-73.963737</td>\n",
       "      <td>40.768059</td>\n",
       "      <td>2.000000</td>\n",
       "    </tr>\n",
       "    <tr>\n",
       "      <th>max</th>\n",
       "      <td>499.000000</td>\n",
       "      <td>2420.209473</td>\n",
       "      <td>404.983337</td>\n",
       "      <td>2467.752686</td>\n",
       "      <td>3351.403076</td>\n",
       "      <td>208.000000</td>\n",
       "    </tr>\n",
       "  </tbody>\n",
       "</table>\n",
       "</div>"
      ],
      "text/plain": [
       "         fare_amount  pickup_longitude  pickup_latitude  dropoff_longitude  \\\n",
       "count  552450.000000     552450.000000    552450.000000      552450.000000   \n",
       "mean       11.354059        -72.497063        39.910500         -72.504326   \n",
       "std         9.811924         11.618246         8.061114          12.074346   \n",
       "min       -52.000000      -1183.362793     -3084.490234       -3356.729736   \n",
       "25%         6.000000        -73.992020        40.734875         -73.991425   \n",
       "50%         8.500000        -73.981819        40.752621         -73.980179   \n",
       "75%        12.500000        -73.967155        40.767036         -73.963737   \n",
       "max       499.000000       2420.209473       404.983337        2467.752686   \n",
       "\n",
       "       dropoff_latitude  passenger_count  \n",
       "count     552450.000000    552450.000000  \n",
       "mean          39.934265         1.684983  \n",
       "std            9.255057         1.337664  \n",
       "min        -2073.150635         0.000000  \n",
       "25%           40.733990         1.000000  \n",
       "50%           40.753101         1.000000  \n",
       "75%           40.768059         2.000000  \n",
       "max         3351.403076       208.000000  "
      ]
     },
     "execution_count": 16,
     "metadata": {},
     "output_type": "execute_result"
    }
   ],
   "source": [
    "data.describe()"
   ]
  },
  {
   "cell_type": "markdown",
   "id": "c1b1ae17",
   "metadata": {
    "papermill": {
     "duration": 0.006199,
     "end_time": "2024-04-04T04:31:10.513256",
     "exception": false,
     "start_time": "2024-04-04T04:31:10.507057",
     "status": "completed"
    },
    "tags": []
   },
   "source": [
    "Here I am trying with 1% if the data, We can also try this using _3%, 10%, 50% and even 100%_ of the data"
   ]
  },
  {
   "cell_type": "code",
   "execution_count": 17,
   "id": "ad2c8335",
   "metadata": {
    "execution": {
     "iopub.execute_input": "2024-04-04T04:31:10.528793Z",
     "iopub.status.busy": "2024-04-04T04:31:10.528374Z",
     "iopub.status.idle": "2024-04-04T04:31:10.625198Z",
     "shell.execute_reply": "2024-04-04T04:31:10.623950Z"
    },
    "papermill": {
     "duration": 0.107329,
     "end_time": "2024-04-04T04:31:10.627767",
     "exception": false,
     "start_time": "2024-04-04T04:31:10.520438",
     "status": "completed"
    },
    "tags": []
   },
   "outputs": [
    {
     "data": {
      "text/html": [
       "<div>\n",
       "<style scoped>\n",
       "    .dataframe tbody tr th:only-of-type {\n",
       "        vertical-align: middle;\n",
       "    }\n",
       "\n",
       "    .dataframe tbody tr th {\n",
       "        vertical-align: top;\n",
       "    }\n",
       "\n",
       "    .dataframe thead th {\n",
       "        text-align: right;\n",
       "    }\n",
       "</style>\n",
       "<table border=\"1\" class=\"dataframe\">\n",
       "  <thead>\n",
       "    <tr style=\"text-align: right;\">\n",
       "      <th></th>\n",
       "      <th>key</th>\n",
       "      <th>pickup_datetime</th>\n",
       "      <th>pickup_longitude</th>\n",
       "      <th>pickup_latitude</th>\n",
       "      <th>dropoff_longitude</th>\n",
       "      <th>dropoff_latitude</th>\n",
       "      <th>passenger_count</th>\n",
       "    </tr>\n",
       "  </thead>\n",
       "  <tbody>\n",
       "    <tr>\n",
       "      <th>0</th>\n",
       "      <td>2015-01-27 13:08:24.0000002</td>\n",
       "      <td>2015-01-27 13:08:24+00:00</td>\n",
       "      <td>-73.973320</td>\n",
       "      <td>40.763805</td>\n",
       "      <td>-73.981430</td>\n",
       "      <td>40.743835</td>\n",
       "      <td>1</td>\n",
       "    </tr>\n",
       "    <tr>\n",
       "      <th>1</th>\n",
       "      <td>2015-01-27 13:08:24.0000003</td>\n",
       "      <td>2015-01-27 13:08:24+00:00</td>\n",
       "      <td>-73.986862</td>\n",
       "      <td>40.719383</td>\n",
       "      <td>-73.998886</td>\n",
       "      <td>40.739201</td>\n",
       "      <td>1</td>\n",
       "    </tr>\n",
       "    <tr>\n",
       "      <th>2</th>\n",
       "      <td>2011-10-08 11:53:44.0000002</td>\n",
       "      <td>2011-10-08 11:53:44+00:00</td>\n",
       "      <td>-73.982521</td>\n",
       "      <td>40.751259</td>\n",
       "      <td>-73.979652</td>\n",
       "      <td>40.746140</td>\n",
       "      <td>1</td>\n",
       "    </tr>\n",
       "    <tr>\n",
       "      <th>3</th>\n",
       "      <td>2012-12-01 21:12:12.0000002</td>\n",
       "      <td>2012-12-01 21:12:12+00:00</td>\n",
       "      <td>-73.981163</td>\n",
       "      <td>40.767807</td>\n",
       "      <td>-73.990448</td>\n",
       "      <td>40.751637</td>\n",
       "      <td>1</td>\n",
       "    </tr>\n",
       "    <tr>\n",
       "      <th>4</th>\n",
       "      <td>2012-12-01 21:12:12.0000003</td>\n",
       "      <td>2012-12-01 21:12:12+00:00</td>\n",
       "      <td>-73.966049</td>\n",
       "      <td>40.789776</td>\n",
       "      <td>-73.988564</td>\n",
       "      <td>40.744427</td>\n",
       "      <td>1</td>\n",
       "    </tr>\n",
       "  </tbody>\n",
       "</table>\n",
       "</div>"
      ],
      "text/plain": [
       "                           key           pickup_datetime  pickup_longitude  \\\n",
       "0  2015-01-27 13:08:24.0000002 2015-01-27 13:08:24+00:00        -73.973320   \n",
       "1  2015-01-27 13:08:24.0000003 2015-01-27 13:08:24+00:00        -73.986862   \n",
       "2  2011-10-08 11:53:44.0000002 2011-10-08 11:53:44+00:00        -73.982521   \n",
       "3  2012-12-01 21:12:12.0000002 2012-12-01 21:12:12+00:00        -73.981163   \n",
       "4  2012-12-01 21:12:12.0000003 2012-12-01 21:12:12+00:00        -73.966049   \n",
       "\n",
       "   pickup_latitude  dropoff_longitude  dropoff_latitude  passenger_count  \n",
       "0        40.763805         -73.981430         40.743835                1  \n",
       "1        40.719383         -73.998886         40.739201                1  \n",
       "2        40.751259         -73.979652         40.746140                1  \n",
       "3        40.767807         -73.990448         40.751637                1  \n",
       "4        40.789776         -73.988564         40.744427                1  "
      ]
     },
     "execution_count": 17,
     "metadata": {},
     "output_type": "execute_result"
    }
   ],
   "source": [
    "test_data = pd.read_csv(data_dir + '/test.csv', dtype= d_types, parse_dates = ['pickup_datetime'])\n",
    "test_data.head()"
   ]
  },
  {
   "cell_type": "code",
   "execution_count": 18,
   "id": "8db5c0fe",
   "metadata": {
    "execution": {
     "iopub.execute_input": "2024-04-04T04:31:10.644971Z",
     "iopub.status.busy": "2024-04-04T04:31:10.644617Z",
     "iopub.status.idle": "2024-04-04T04:31:10.656845Z",
     "shell.execute_reply": "2024-04-04T04:31:10.655351Z"
    },
    "papermill": {
     "duration": 0.024248,
     "end_time": "2024-04-04T04:31:10.658879",
     "exception": false,
     "start_time": "2024-04-04T04:31:10.634631",
     "status": "completed"
    },
    "tags": []
   },
   "outputs": [
    {
     "name": "stdout",
     "output_type": "stream",
     "text": [
      "<class 'pandas.core.frame.DataFrame'>\n",
      "RangeIndex: 9914 entries, 0 to 9913\n",
      "Data columns (total 7 columns):\n",
      " #   Column             Non-Null Count  Dtype              \n",
      "---  ------             --------------  -----              \n",
      " 0   key                9914 non-null   object             \n",
      " 1   pickup_datetime    9914 non-null   datetime64[ns, UTC]\n",
      " 2   pickup_longitude   9914 non-null   float32            \n",
      " 3   pickup_latitude    9914 non-null   float32            \n",
      " 4   dropoff_longitude  9914 non-null   float32            \n",
      " 5   dropoff_latitude   9914 non-null   float32            \n",
      " 6   passenger_count    9914 non-null   uint8              \n",
      "dtypes: datetime64[ns, UTC](1), float32(4), object(1), uint8(1)\n",
      "memory usage: 319.6+ KB\n"
     ]
    }
   ],
   "source": [
    "test_data.info()"
   ]
  },
  {
   "cell_type": "code",
   "execution_count": null,
   "id": "1b5efd3f",
   "metadata": {
    "papermill": {
     "duration": 0.007018,
     "end_time": "2024-04-04T04:31:10.672718",
     "exception": false,
     "start_time": "2024-04-04T04:31:10.665700",
     "status": "completed"
    },
    "tags": []
   },
   "outputs": [],
   "source": []
  }
 ],
 "metadata": {
  "kaggle": {
   "accelerator": "none",
   "dataSources": [
    {
     "databundleVersionId": 61318,
     "sourceId": 10170,
     "sourceType": "competition"
    }
   ],
   "dockerImageVersionId": 30673,
   "isGpuEnabled": false,
   "isInternetEnabled": true,
   "language": "python",
   "sourceType": "notebook"
  },
  "kernelspec": {
   "display_name": "Python 3",
   "language": "python",
   "name": "python3"
  },
  "language_info": {
   "codemirror_mode": {
    "name": "ipython",
    "version": 3
   },
   "file_extension": ".py",
   "mimetype": "text/x-python",
   "name": "python",
   "nbconvert_exporter": "python",
   "pygments_lexer": "ipython3",
   "version": "3.10.13"
  },
  "papermill": {
   "default_parameters": {},
   "duration": 118.770347,
   "end_time": "2024-04-04T04:31:11.203900",
   "environment_variables": {},
   "exception": null,
   "input_path": "__notebook__.ipynb",
   "output_path": "__notebook__.ipynb",
   "parameters": {},
   "start_time": "2024-04-04T04:29:12.433553",
   "version": "2.5.0"
  }
 },
 "nbformat": 4,
 "nbformat_minor": 5
}
