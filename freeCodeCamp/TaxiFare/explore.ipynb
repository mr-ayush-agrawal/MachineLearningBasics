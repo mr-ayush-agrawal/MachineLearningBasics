{
 "cells": [
  {
   "cell_type": "code",
   "execution_count": 1,
   "id": "79fd88d4",
   "metadata": {
    "_cell_guid": "b1076dfc-b9ad-4769-8c92-a6c4dae69d19",
    "_uuid": "8f2839f25d086af736a60e9eeb907d3b93b6e0e5",
    "execution": {
     "iopub.execute_input": "2024-04-05T17:57:18.462427Z",
     "iopub.status.busy": "2024-04-05T17:57:18.461488Z",
     "iopub.status.idle": "2024-04-05T17:57:18.475185Z",
     "shell.execute_reply": "2024-04-05T17:57:18.474205Z"
    },
    "papermill": {
     "duration": 0.042551,
     "end_time": "2024-04-05T17:57:18.477793",
     "exception": false,
     "start_time": "2024-04-05T17:57:18.435242",
     "status": "completed"
    },
    "tags": []
   },
   "outputs": [
    {
     "name": "stdout",
     "output_type": "stream",
     "text": [
      "/kaggle/input/new-york-city-taxi-fare-prediction/sample_submission.csv\n",
      "/kaggle/input/new-york-city-taxi-fare-prediction/GCP-Coupons-Instructions.rtf\n",
      "/kaggle/input/new-york-city-taxi-fare-prediction/train.csv\n",
      "/kaggle/input/new-york-city-taxi-fare-prediction/test.csv\n"
     ]
    }
   ],
   "source": [
    "# Input data files are available in the read-only \"../input/\" directory\n",
    "# For example, running this (by clicking run or pressing Shift+Enter) will list all files under the input directory\n",
    "\n",
    "import os\n",
    "for dirname, _, filenames in os.walk('/kaggle/input'):\n",
    "    for filename in filenames:\n",
    "        print(os.path.join(dirname, filename))\n",
    "\n",
    "# You can write up to 20GB to the current directory (/kaggle/working/) that gets preserved as output when you create a version using \"Save & Run All\" \n",
    "# You can also write temporary files to /kaggle/temp/, but they won't be saved outside of the current session"
   ]
  },
  {
   "cell_type": "markdown",
   "id": "8fc18b7a",
   "metadata": {
    "papermill": {
     "duration": 0.022021,
     "end_time": "2024-04-05T17:57:18.525221",
     "exception": false,
     "start_time": "2024-04-05T17:57:18.503200",
     "status": "completed"
    },
    "tags": []
   },
   "source": [
    "### Setp 1\n",
    "- Install req libs and Load the datas"
   ]
  },
  {
   "cell_type": "code",
   "execution_count": 2,
   "id": "50bb0e7e",
   "metadata": {
    "execution": {
     "iopub.execute_input": "2024-04-05T17:57:18.572031Z",
     "iopub.status.busy": "2024-04-05T17:57:18.571126Z",
     "iopub.status.idle": "2024-04-05T17:57:19.487714Z",
     "shell.execute_reply": "2024-04-05T17:57:19.486570Z"
    },
    "papermill": {
     "duration": 0.942863,
     "end_time": "2024-04-05T17:57:19.490381",
     "exception": false,
     "start_time": "2024-04-05T17:57:18.547518",
     "status": "completed"
    },
    "tags": []
   },
   "outputs": [],
   "source": [
    "import numpy as np\n",
    "import pandas as pd"
   ]
  },
  {
   "cell_type": "code",
   "execution_count": 3,
   "id": "a945c382",
   "metadata": {
    "execution": {
     "iopub.execute_input": "2024-04-05T17:57:19.541675Z",
     "iopub.status.busy": "2024-04-05T17:57:19.541186Z",
     "iopub.status.idle": "2024-04-05T17:57:19.545620Z",
     "shell.execute_reply": "2024-04-05T17:57:19.544749Z"
    },
    "papermill": {
     "duration": 0.030349,
     "end_time": "2024-04-05T17:57:19.547609",
     "exception": false,
     "start_time": "2024-04-05T17:57:19.517260",
     "status": "completed"
    },
    "tags": []
   },
   "outputs": [],
   "source": [
    "data_dir = '/kaggle/input/new-york-city-taxi-fare-prediction/'"
   ]
  },
  {
   "cell_type": "code",
   "execution_count": 4,
   "id": "a7e5faa7",
   "metadata": {
    "execution": {
     "iopub.execute_input": "2024-04-05T17:57:19.595016Z",
     "iopub.status.busy": "2024-04-05T17:57:19.594630Z",
     "iopub.status.idle": "2024-04-05T17:57:20.613244Z",
     "shell.execute_reply": "2024-04-05T17:57:20.611774Z"
    },
    "papermill": {
     "duration": 1.045106,
     "end_time": "2024-04-05T17:57:20.615954",
     "exception": false,
     "start_time": "2024-04-05T17:57:19.570848",
     "status": "completed"
    },
    "tags": []
   },
   "outputs": [
    {
     "name": "stdout",
     "output_type": "stream",
     "text": [
      "total 5.4G\r\n",
      "-rw-r--r-- 1 nobody nogroup  486 Mar 12 04:56 GCP-Coupons-Instructions.rtf\r\n",
      "-rw-r--r-- 1 nobody nogroup 336K Mar 12 04:56 sample_submission.csv\r\n",
      "-rw-r--r-- 1 nobody nogroup 960K Mar 12 04:56 test.csv\r\n",
      "-rw-r--r-- 1 nobody nogroup 5.4G Mar 12 04:56 train.csv\r\n"
     ]
    }
   ],
   "source": [
    "!ls -lh {data_dir}"
   ]
  },
  {
   "cell_type": "markdown",
   "id": "19910917",
   "metadata": {
    "papermill": {
     "duration": 0.023126,
     "end_time": "2024-04-05T17:57:20.663152",
     "exception": false,
     "start_time": "2024-04-05T17:57:20.640026",
     "status": "completed"
    },
    "tags": []
   },
   "source": [
    "All the data is in the **train.csv** file"
   ]
  },
  {
   "cell_type": "code",
   "execution_count": 5,
   "id": "3192bcfa",
   "metadata": {
    "execution": {
     "iopub.execute_input": "2024-04-05T17:57:20.710730Z",
     "iopub.status.busy": "2024-04-05T17:57:20.710291Z",
     "iopub.status.idle": "2024-04-05T17:57:20.715693Z",
     "shell.execute_reply": "2024-04-05T17:57:20.714421Z"
    },
    "papermill": {
     "duration": 0.031876,
     "end_time": "2024-04-05T17:57:20.718068",
     "exception": false,
     "start_time": "2024-04-05T17:57:20.686192",
     "status": "completed"
    },
    "tags": []
   },
   "outputs": [],
   "source": [
    "# this will take too much tine\n",
    "# !wc -l {data_dir}/train.csv"
   ]
  },
  {
   "cell_type": "code",
   "execution_count": 6,
   "id": "59bd20e1",
   "metadata": {
    "execution": {
     "iopub.execute_input": "2024-04-05T17:57:20.765918Z",
     "iopub.status.busy": "2024-04-05T17:57:20.765533Z",
     "iopub.status.idle": "2024-04-05T17:57:21.792007Z",
     "shell.execute_reply": "2024-04-05T17:57:21.790728Z"
    },
    "papermill": {
     "duration": 1.053557,
     "end_time": "2024-04-05T17:57:21.794627",
     "exception": false,
     "start_time": "2024-04-05T17:57:20.741070",
     "status": "completed"
    },
    "tags": []
   },
   "outputs": [
    {
     "name": "stdout",
     "output_type": "stream",
     "text": [
      "9914 /kaggle/input/new-york-city-taxi-fare-prediction//test.csv\r\n"
     ]
    }
   ],
   "source": [
    "!wc -l {data_dir}/test.csv"
   ]
  },
  {
   "cell_type": "markdown",
   "id": "5ad85dbf",
   "metadata": {
    "papermill": {
     "duration": 0.021987,
     "end_time": "2024-04-05T17:57:21.839298",
     "exception": false,
     "start_time": "2024-04-05T17:57:21.817311",
     "status": "completed"
    },
    "tags": []
   },
   "source": [
    "Getting the first line of the dataset using the _shell_ command"
   ]
  },
  {
   "cell_type": "code",
   "execution_count": 7,
   "id": "2de3302c",
   "metadata": {
    "execution": {
     "iopub.execute_input": "2024-04-05T17:57:21.948077Z",
     "iopub.status.busy": "2024-04-05T17:57:21.947305Z",
     "iopub.status.idle": "2024-04-05T17:57:22.956273Z",
     "shell.execute_reply": "2024-04-05T17:57:22.955015Z"
    },
    "papermill": {
     "duration": 1.096885,
     "end_time": "2024-04-05T17:57:22.958837",
     "exception": false,
     "start_time": "2024-04-05T17:57:21.861952",
     "status": "completed"
    },
    "tags": []
   },
   "outputs": [
    {
     "name": "stdout",
     "output_type": "stream",
     "text": [
      "\r\n",
      "\r\n",
      "\r\n",
      "\r\n",
      "\r\n",
      "\r\n",
      "\r\n",
      "\r\n",
      "\r\n",
      "\r\n"
     ]
    }
   ],
   "source": [
    "!head {data_dir}/train.csv"
   ]
  },
  {
   "cell_type": "code",
   "execution_count": 8,
   "id": "8ce1f3c1",
   "metadata": {
    "execution": {
     "iopub.execute_input": "2024-04-05T17:57:23.007626Z",
     "iopub.status.busy": "2024-04-05T17:57:23.006952Z",
     "iopub.status.idle": "2024-04-05T17:57:24.034314Z",
     "shell.execute_reply": "2024-04-05T17:57:24.032861Z"
    },
    "papermill": {
     "duration": 1.05441,
     "end_time": "2024-04-05T17:57:24.037235",
     "exception": false,
     "start_time": "2024-04-05T17:57:22.982825",
     "status": "completed"
    },
    "tags": []
   },
   "outputs": [
    {
     "name": "stdout",
     "output_type": "stream",
     "text": [
      "\r\n",
      "\r\n",
      "\r\n",
      "\r\n",
      "\r\n",
      "\r\n",
      "\r\n",
      "\r\n",
      "\r\n",
      "\r\n"
     ]
    }
   ],
   "source": [
    "!head {data_dir}/test.csv"
   ]
  },
  {
   "cell_type": "markdown",
   "id": "b7da17a8",
   "metadata": {
    "papermill": {
     "duration": 0.027082,
     "end_time": "2024-04-05T17:57:24.087415",
     "exception": false,
     "start_time": "2024-04-05T17:57:24.060333",
     "status": "completed"
    },
    "tags": []
   },
   "source": [
    "fare amount is missingw which is the pratical Target column for our analysis"
   ]
  },
  {
   "cell_type": "markdown",
   "id": "14a68f3f",
   "metadata": {
    "papermill": {
     "duration": 0.033107,
     "end_time": "2024-04-05T17:57:24.152428",
     "exception": false,
     "start_time": "2024-04-05T17:57:24.119321",
     "status": "completed"
    },
    "tags": []
   },
   "source": [
    "#### Loading\n",
    "Loading the entire dataset into Pandas is going to be slow, so we can use the following optimizations:\n",
    "\n",
    "- Ignore the key column\n",
    "- Parse pickup datetime while loading data\n",
    "- Specify data types for other columns\n",
    "    - float32 for geo coordinates\n",
    "    - float32 for fare amount\n",
    "    - uint8 for passenger count\n",
    "- Work with a 1% sample of the data (~500k rows)"
   ]
  },
  {
   "cell_type": "code",
   "execution_count": 9,
   "id": "5aee1e64",
   "metadata": {
    "execution": {
     "iopub.execute_input": "2024-04-05T17:57:24.202846Z",
     "iopub.status.busy": "2024-04-05T17:57:24.201898Z",
     "iopub.status.idle": "2024-04-05T17:57:24.212048Z",
     "shell.execute_reply": "2024-04-05T17:57:24.210833Z"
    },
    "papermill": {
     "duration": 0.038138,
     "end_time": "2024-04-05T17:57:24.214344",
     "exception": false,
     "start_time": "2024-04-05T17:57:24.176206",
     "status": "completed"
    },
    "tags": []
   },
   "outputs": [
    {
     "data": {
      "text/plain": [
       "['fare_amount',\n",
       " 'pickup_datetime',\n",
       " 'pickup_longitude',\n",
       " 'pickup_latitude',\n",
       " 'dropoff_longitude',\n",
       " 'dropoff_latitude',\n",
       " 'passenger_count']"
      ]
     },
     "execution_count": 9,
     "metadata": {},
     "output_type": "execute_result"
    }
   ],
   "source": [
    "# Taking all the columns except the keys\n",
    "selected_cols = 'fare_amount,pickup_datetime,pickup_longitude,pickup_latitude,dropoff_longitude,dropoff_latitude,passenger_count'.split(',')\n",
    "selected_cols"
   ]
  },
  {
   "cell_type": "code",
   "execution_count": 10,
   "id": "01373456",
   "metadata": {
    "execution": {
     "iopub.execute_input": "2024-04-05T17:57:24.265124Z",
     "iopub.status.busy": "2024-04-05T17:57:24.264636Z",
     "iopub.status.idle": "2024-04-05T17:57:24.275120Z",
     "shell.execute_reply": "2024-04-05T17:57:24.274023Z"
    },
    "papermill": {
     "duration": 0.041937,
     "end_time": "2024-04-05T17:57:24.279597",
     "exception": false,
     "start_time": "2024-04-05T17:57:24.237660",
     "status": "completed"
    },
    "tags": []
   },
   "outputs": [
    {
     "data": {
      "text/plain": [
       "{'fare_amount': 'float32',\n",
       " 'pickup_longitude': 'float32',\n",
       " 'pickup_latitude': 'float32',\n",
       " 'dropoff_longitude': 'float32',\n",
       " 'dropoff_latitude': 'float32',\n",
       " 'passenger_count': 'uint8'}"
      ]
     },
     "execution_count": 10,
     "metadata": {},
     "output_type": "execute_result"
    }
   ],
   "source": [
    "d_types = {\n",
    "    'fare_amount' : 'float32',\n",
    "    'pickup_longitude': 'float32',\n",
    "    'pickup_latitude': 'float32',\n",
    "    'dropoff_longitude': 'float32',\n",
    "    'dropoff_latitude' : 'float32',\n",
    "    'passenger_count' : 'uint8',\n",
    "}\n",
    "d_types"
   ]
  },
  {
   "cell_type": "code",
   "execution_count": 11,
   "id": "360d8749",
   "metadata": {
    "execution": {
     "iopub.execute_input": "2024-04-05T17:57:24.352282Z",
     "iopub.status.busy": "2024-04-05T17:57:24.351396Z",
     "iopub.status.idle": "2024-04-05T17:57:24.362498Z",
     "shell.execute_reply": "2024-04-05T17:57:24.361351Z"
    },
    "papermill": {
     "duration": 0.055457,
     "end_time": "2024-04-05T17:57:24.371514",
     "exception": false,
     "start_time": "2024-04-05T17:57:24.316057",
     "status": "completed"
    },
    "tags": []
   },
   "outputs": [],
   "source": [
    "import random as rnd\n",
    "sample_fraction = 0.01\n",
    "rnd.seed(42)\n",
    "\n",
    "def skip_row(row_idx) :\n",
    "#     If this functon retrun false then the number is going to be in data\n",
    "    if row_idx == 0 :\n",
    "        return False\n",
    "    return rnd.random() > sample_fraction"
   ]
  },
  {
   "cell_type": "code",
   "execution_count": 12,
   "id": "c5af9a70",
   "metadata": {
    "execution": {
     "iopub.execute_input": "2024-04-05T17:57:24.453069Z",
     "iopub.status.busy": "2024-04-05T17:57:24.452193Z",
     "iopub.status.idle": "2024-04-05T17:59:06.831336Z",
     "shell.execute_reply": "2024-04-05T17:59:06.830258Z"
    },
    "papermill": {
     "duration": 102.43551,
     "end_time": "2024-04-05T17:59:06.856359",
     "exception": false,
     "start_time": "2024-04-05T17:57:24.420849",
     "status": "completed"
    },
    "tags": []
   },
   "outputs": [
    {
     "name": "stdout",
     "output_type": "stream",
     "text": [
      "CPU times: user 55.5 s, sys: 4.5 s, total: 60 s\n",
      "Wall time: 1min 42s\n"
     ]
    }
   ],
   "source": [
    "%%time\n",
    "data = pd.read_csv(data_dir + '/train.csv', \n",
    "                   usecols = selected_cols, \n",
    "                   dtype = d_types, \n",
    "                   parse_dates= ['pickup_datetime'], \n",
    "                   skiprows = skip_row) # A function is passed as a prameter"
   ]
  },
  {
   "cell_type": "code",
   "execution_count": 13,
   "id": "0dc162c8",
   "metadata": {
    "execution": {
     "iopub.execute_input": "2024-04-05T17:59:06.904372Z",
     "iopub.status.busy": "2024-04-05T17:59:06.903991Z",
     "iopub.status.idle": "2024-04-05T17:59:06.952767Z",
     "shell.execute_reply": "2024-04-05T17:59:06.951864Z"
    },
    "papermill": {
     "duration": 0.075704,
     "end_time": "2024-04-05T17:59:06.955068",
     "exception": false,
     "start_time": "2024-04-05T17:59:06.879364",
     "status": "completed"
    },
    "tags": []
   },
   "outputs": [
    {
     "data": {
      "text/html": [
       "<div>\n",
       "<style scoped>\n",
       "    .dataframe tbody tr th:only-of-type {\n",
       "        vertical-align: middle;\n",
       "    }\n",
       "\n",
       "    .dataframe tbody tr th {\n",
       "        vertical-align: top;\n",
       "    }\n",
       "\n",
       "    .dataframe thead th {\n",
       "        text-align: right;\n",
       "    }\n",
       "</style>\n",
       "<table border=\"1\" class=\"dataframe\">\n",
       "  <thead>\n",
       "    <tr style=\"text-align: right;\">\n",
       "      <th></th>\n",
       "      <th>fare_amount</th>\n",
       "      <th>pickup_datetime</th>\n",
       "      <th>pickup_longitude</th>\n",
       "      <th>pickup_latitude</th>\n",
       "      <th>dropoff_longitude</th>\n",
       "      <th>dropoff_latitude</th>\n",
       "      <th>passenger_count</th>\n",
       "    </tr>\n",
       "  </thead>\n",
       "  <tbody>\n",
       "    <tr>\n",
       "      <th>338755</th>\n",
       "      <td>8.1</td>\n",
       "      <td>2011-10-07 09:11:00+00:00</td>\n",
       "      <td>-73.966293</td>\n",
       "      <td>40.758919</td>\n",
       "      <td>-73.971413</td>\n",
       "      <td>40.750507</td>\n",
       "      <td>1</td>\n",
       "    </tr>\n",
       "    <tr>\n",
       "      <th>463541</th>\n",
       "      <td>22.0</td>\n",
       "      <td>2013-12-04 22:15:00+00:00</td>\n",
       "      <td>-74.006126</td>\n",
       "      <td>40.706291</td>\n",
       "      <td>-74.010612</td>\n",
       "      <td>40.645237</td>\n",
       "      <td>4</td>\n",
       "    </tr>\n",
       "    <tr>\n",
       "      <th>388458</th>\n",
       "      <td>7.0</td>\n",
       "      <td>2014-08-09 13:44:00+00:00</td>\n",
       "      <td>-73.967339</td>\n",
       "      <td>40.792702</td>\n",
       "      <td>-73.958542</td>\n",
       "      <td>40.781048</td>\n",
       "      <td>1</td>\n",
       "    </tr>\n",
       "    <tr>\n",
       "      <th>372992</th>\n",
       "      <td>8.9</td>\n",
       "      <td>2009-07-10 08:32:46+00:00</td>\n",
       "      <td>-73.946548</td>\n",
       "      <td>40.781506</td>\n",
       "      <td>-73.968727</td>\n",
       "      <td>40.755081</td>\n",
       "      <td>1</td>\n",
       "    </tr>\n",
       "    <tr>\n",
       "      <th>451162</th>\n",
       "      <td>23.0</td>\n",
       "      <td>2014-06-22 13:55:00+00:00</td>\n",
       "      <td>0.000000</td>\n",
       "      <td>0.000000</td>\n",
       "      <td>0.000000</td>\n",
       "      <td>0.000000</td>\n",
       "      <td>1</td>\n",
       "    </tr>\n",
       "    <tr>\n",
       "      <th>79076</th>\n",
       "      <td>10.9</td>\n",
       "      <td>2010-01-11 22:19:00+00:00</td>\n",
       "      <td>-73.971786</td>\n",
       "      <td>40.744926</td>\n",
       "      <td>-73.999641</td>\n",
       "      <td>40.714123</td>\n",
       "      <td>2</td>\n",
       "    </tr>\n",
       "    <tr>\n",
       "      <th>312814</th>\n",
       "      <td>52.0</td>\n",
       "      <td>2013-06-27 09:02:00+00:00</td>\n",
       "      <td>-74.008537</td>\n",
       "      <td>40.708527</td>\n",
       "      <td>-73.782661</td>\n",
       "      <td>40.644089</td>\n",
       "      <td>2</td>\n",
       "    </tr>\n",
       "    <tr>\n",
       "      <th>447094</th>\n",
       "      <td>20.5</td>\n",
       "      <td>2013-02-07 19:19:00+00:00</td>\n",
       "      <td>-74.005112</td>\n",
       "      <td>40.740974</td>\n",
       "      <td>-73.949875</td>\n",
       "      <td>40.776314</td>\n",
       "      <td>1</td>\n",
       "    </tr>\n",
       "    <tr>\n",
       "      <th>254280</th>\n",
       "      <td>8.1</td>\n",
       "      <td>2012-08-10 16:02:00+00:00</td>\n",
       "      <td>-73.987633</td>\n",
       "      <td>40.752552</td>\n",
       "      <td>-74.003777</td>\n",
       "      <td>40.737232</td>\n",
       "      <td>5</td>\n",
       "    </tr>\n",
       "    <tr>\n",
       "      <th>534964</th>\n",
       "      <td>27.5</td>\n",
       "      <td>2014-05-18 01:43:00+00:00</td>\n",
       "      <td>-73.987000</td>\n",
       "      <td>40.756657</td>\n",
       "      <td>-73.922646</td>\n",
       "      <td>40.841846</td>\n",
       "      <td>1</td>\n",
       "    </tr>\n",
       "  </tbody>\n",
       "</table>\n",
       "</div>"
      ],
      "text/plain": [
       "        fare_amount           pickup_datetime  pickup_longitude  \\\n",
       "338755          8.1 2011-10-07 09:11:00+00:00        -73.966293   \n",
       "463541         22.0 2013-12-04 22:15:00+00:00        -74.006126   \n",
       "388458          7.0 2014-08-09 13:44:00+00:00        -73.967339   \n",
       "372992          8.9 2009-07-10 08:32:46+00:00        -73.946548   \n",
       "451162         23.0 2014-06-22 13:55:00+00:00          0.000000   \n",
       "79076          10.9 2010-01-11 22:19:00+00:00        -73.971786   \n",
       "312814         52.0 2013-06-27 09:02:00+00:00        -74.008537   \n",
       "447094         20.5 2013-02-07 19:19:00+00:00        -74.005112   \n",
       "254280          8.1 2012-08-10 16:02:00+00:00        -73.987633   \n",
       "534964         27.5 2014-05-18 01:43:00+00:00        -73.987000   \n",
       "\n",
       "        pickup_latitude  dropoff_longitude  dropoff_latitude  passenger_count  \n",
       "338755        40.758919         -73.971413         40.750507                1  \n",
       "463541        40.706291         -74.010612         40.645237                4  \n",
       "388458        40.792702         -73.958542         40.781048                1  \n",
       "372992        40.781506         -73.968727         40.755081                1  \n",
       "451162         0.000000           0.000000          0.000000                1  \n",
       "79076         40.744926         -73.999641         40.714123                2  \n",
       "312814        40.708527         -73.782661         40.644089                2  \n",
       "447094        40.740974         -73.949875         40.776314                1  \n",
       "254280        40.752552         -74.003777         40.737232                5  \n",
       "534964        40.756657         -73.922646         40.841846                1  "
      ]
     },
     "execution_count": 13,
     "metadata": {},
     "output_type": "execute_result"
    }
   ],
   "source": [
    "data.sample(10)"
   ]
  },
  {
   "cell_type": "markdown",
   "id": "af93e29b",
   "metadata": {
    "papermill": {
     "duration": 0.023283,
     "end_time": "2024-04-05T17:59:07.002539",
     "exception": false,
     "start_time": "2024-04-05T17:59:06.979256",
     "status": "completed"
    },
    "tags": []
   },
   "source": [
    "Here I am trying with 1% if the data, We can also try this using _3%, 10%, 50% and even 100%_ of the data"
   ]
  },
  {
   "cell_type": "code",
   "execution_count": 14,
   "id": "0d9d41a3",
   "metadata": {
    "execution": {
     "iopub.execute_input": "2024-04-05T17:59:07.051936Z",
     "iopub.status.busy": "2024-04-05T17:59:07.051091Z",
     "iopub.status.idle": "2024-04-05T17:59:07.172570Z",
     "shell.execute_reply": "2024-04-05T17:59:07.171250Z"
    },
    "papermill": {
     "duration": 0.149049,
     "end_time": "2024-04-05T17:59:07.175173",
     "exception": false,
     "start_time": "2024-04-05T17:59:07.026124",
     "status": "completed"
    },
    "tags": []
   },
   "outputs": [
    {
     "data": {
      "text/html": [
       "<div>\n",
       "<style scoped>\n",
       "    .dataframe tbody tr th:only-of-type {\n",
       "        vertical-align: middle;\n",
       "    }\n",
       "\n",
       "    .dataframe tbody tr th {\n",
       "        vertical-align: top;\n",
       "    }\n",
       "\n",
       "    .dataframe thead th {\n",
       "        text-align: right;\n",
       "    }\n",
       "</style>\n",
       "<table border=\"1\" class=\"dataframe\">\n",
       "  <thead>\n",
       "    <tr style=\"text-align: right;\">\n",
       "      <th></th>\n",
       "      <th>key</th>\n",
       "      <th>pickup_datetime</th>\n",
       "      <th>pickup_longitude</th>\n",
       "      <th>pickup_latitude</th>\n",
       "      <th>dropoff_longitude</th>\n",
       "      <th>dropoff_latitude</th>\n",
       "      <th>passenger_count</th>\n",
       "    </tr>\n",
       "  </thead>\n",
       "  <tbody>\n",
       "    <tr>\n",
       "      <th>0</th>\n",
       "      <td>2015-01-27 13:08:24.0000002</td>\n",
       "      <td>2015-01-27 13:08:24+00:00</td>\n",
       "      <td>-73.973320</td>\n",
       "      <td>40.763805</td>\n",
       "      <td>-73.981430</td>\n",
       "      <td>40.743835</td>\n",
       "      <td>1</td>\n",
       "    </tr>\n",
       "    <tr>\n",
       "      <th>1</th>\n",
       "      <td>2015-01-27 13:08:24.0000003</td>\n",
       "      <td>2015-01-27 13:08:24+00:00</td>\n",
       "      <td>-73.986862</td>\n",
       "      <td>40.719383</td>\n",
       "      <td>-73.998886</td>\n",
       "      <td>40.739201</td>\n",
       "      <td>1</td>\n",
       "    </tr>\n",
       "    <tr>\n",
       "      <th>2</th>\n",
       "      <td>2011-10-08 11:53:44.0000002</td>\n",
       "      <td>2011-10-08 11:53:44+00:00</td>\n",
       "      <td>-73.982521</td>\n",
       "      <td>40.751259</td>\n",
       "      <td>-73.979652</td>\n",
       "      <td>40.746140</td>\n",
       "      <td>1</td>\n",
       "    </tr>\n",
       "    <tr>\n",
       "      <th>3</th>\n",
       "      <td>2012-12-01 21:12:12.0000002</td>\n",
       "      <td>2012-12-01 21:12:12+00:00</td>\n",
       "      <td>-73.981163</td>\n",
       "      <td>40.767807</td>\n",
       "      <td>-73.990448</td>\n",
       "      <td>40.751637</td>\n",
       "      <td>1</td>\n",
       "    </tr>\n",
       "    <tr>\n",
       "      <th>4</th>\n",
       "      <td>2012-12-01 21:12:12.0000003</td>\n",
       "      <td>2012-12-01 21:12:12+00:00</td>\n",
       "      <td>-73.966049</td>\n",
       "      <td>40.789776</td>\n",
       "      <td>-73.988564</td>\n",
       "      <td>40.744427</td>\n",
       "      <td>1</td>\n",
       "    </tr>\n",
       "  </tbody>\n",
       "</table>\n",
       "</div>"
      ],
      "text/plain": [
       "                           key           pickup_datetime  pickup_longitude  \\\n",
       "0  2015-01-27 13:08:24.0000002 2015-01-27 13:08:24+00:00        -73.973320   \n",
       "1  2015-01-27 13:08:24.0000003 2015-01-27 13:08:24+00:00        -73.986862   \n",
       "2  2011-10-08 11:53:44.0000002 2011-10-08 11:53:44+00:00        -73.982521   \n",
       "3  2012-12-01 21:12:12.0000002 2012-12-01 21:12:12+00:00        -73.981163   \n",
       "4  2012-12-01 21:12:12.0000003 2012-12-01 21:12:12+00:00        -73.966049   \n",
       "\n",
       "   pickup_latitude  dropoff_longitude  dropoff_latitude  passenger_count  \n",
       "0        40.763805         -73.981430         40.743835                1  \n",
       "1        40.719383         -73.998886         40.739201                1  \n",
       "2        40.751259         -73.979652         40.746140                1  \n",
       "3        40.767807         -73.990448         40.751637                1  \n",
       "4        40.789776         -73.988564         40.744427                1  "
      ]
     },
     "execution_count": 14,
     "metadata": {},
     "output_type": "execute_result"
    }
   ],
   "source": [
    "test_data = pd.read_csv(data_dir + '/test.csv', dtype= d_types, parse_dates = ['pickup_datetime'])\n",
    "test_data.head()"
   ]
  },
  {
   "cell_type": "code",
   "execution_count": 15,
   "id": "e445a305",
   "metadata": {
    "execution": {
     "iopub.execute_input": "2024-04-05T17:59:07.226523Z",
     "iopub.status.busy": "2024-04-05T17:59:07.226135Z",
     "iopub.status.idle": "2024-04-05T17:59:07.245547Z",
     "shell.execute_reply": "2024-04-05T17:59:07.244712Z"
    },
    "papermill": {
     "duration": 0.047663,
     "end_time": "2024-04-05T17:59:07.247922",
     "exception": false,
     "start_time": "2024-04-05T17:59:07.200259",
     "status": "completed"
    },
    "tags": []
   },
   "outputs": [
    {
     "name": "stdout",
     "output_type": "stream",
     "text": [
      "<class 'pandas.core.frame.DataFrame'>\n",
      "RangeIndex: 9914 entries, 0 to 9913\n",
      "Data columns (total 7 columns):\n",
      " #   Column             Non-Null Count  Dtype              \n",
      "---  ------             --------------  -----              \n",
      " 0   key                9914 non-null   object             \n",
      " 1   pickup_datetime    9914 non-null   datetime64[ns, UTC]\n",
      " 2   pickup_longitude   9914 non-null   float32            \n",
      " 3   pickup_latitude    9914 non-null   float32            \n",
      " 4   dropoff_longitude  9914 non-null   float32            \n",
      " 5   dropoff_latitude   9914 non-null   float32            \n",
      " 6   passenger_count    9914 non-null   uint8              \n",
      "dtypes: datetime64[ns, UTC](1), float32(4), object(1), uint8(1)\n",
      "memory usage: 319.6+ KB\n"
     ]
    }
   ],
   "source": [
    "test_data.info()"
   ]
  },
  {
   "cell_type": "markdown",
   "id": "7eb03336",
   "metadata": {
    "papermill": {
     "duration": 0.023435,
     "end_time": "2024-04-05T17:59:07.295251",
     "exception": false,
     "start_time": "2024-04-05T17:59:07.271816",
     "status": "completed"
    },
    "tags": []
   },
   "source": [
    "### Exploring the data\n",
    "\n",
    "- basic info about training and test set\n",
    "- EDA and viz\n",
    "- Ask and Answer the questions"
   ]
  },
  {
   "cell_type": "code",
   "execution_count": 16,
   "id": "16c17092",
   "metadata": {
    "execution": {
     "iopub.execute_input": "2024-04-05T17:59:07.345223Z",
     "iopub.status.busy": "2024-04-05T17:59:07.344613Z",
     "iopub.status.idle": "2024-04-05T17:59:07.361776Z",
     "shell.execute_reply": "2024-04-05T17:59:07.360679Z"
    },
    "papermill": {
     "duration": 0.044969,
     "end_time": "2024-04-05T17:59:07.364362",
     "exception": false,
     "start_time": "2024-04-05T17:59:07.319393",
     "status": "completed"
    },
    "tags": []
   },
   "outputs": [
    {
     "name": "stdout",
     "output_type": "stream",
     "text": [
      "<class 'pandas.core.frame.DataFrame'>\n",
      "RangeIndex: 552450 entries, 0 to 552449\n",
      "Data columns (total 7 columns):\n",
      " #   Column             Non-Null Count   Dtype              \n",
      "---  ------             --------------   -----              \n",
      " 0   fare_amount        552450 non-null  float32            \n",
      " 1   pickup_datetime    552450 non-null  datetime64[ns, UTC]\n",
      " 2   pickup_longitude   552450 non-null  float32            \n",
      " 3   pickup_latitude    552450 non-null  float32            \n",
      " 4   dropoff_longitude  552450 non-null  float32            \n",
      " 5   dropoff_latitude   552450 non-null  float32            \n",
      " 6   passenger_count    552450 non-null  uint8              \n",
      "dtypes: datetime64[ns, UTC](1), float32(5), uint8(1)\n",
      "memory usage: 15.3 MB\n"
     ]
    }
   ],
   "source": [
    "data.info()"
   ]
  },
  {
   "cell_type": "code",
   "execution_count": 17,
   "id": "7b0cbe37",
   "metadata": {
    "execution": {
     "iopub.execute_input": "2024-04-05T17:59:07.414782Z",
     "iopub.status.busy": "2024-04-05T17:59:07.414371Z",
     "iopub.status.idle": "2024-04-05T17:59:07.420789Z",
     "shell.execute_reply": "2024-04-05T17:59:07.419496Z"
    },
    "papermill": {
     "duration": 0.034958,
     "end_time": "2024-04-05T17:59:07.423349",
     "exception": false,
     "start_time": "2024-04-05T17:59:07.388391",
     "status": "completed"
    },
    "tags": []
   },
   "outputs": [
    {
     "data": {
      "text/plain": [
       "(552450, 7)"
      ]
     },
     "execution_count": 17,
     "metadata": {},
     "output_type": "execute_result"
    }
   ],
   "source": [
    "data.shape"
   ]
  },
  {
   "cell_type": "code",
   "execution_count": 18,
   "id": "fa810888",
   "metadata": {
    "execution": {
     "iopub.execute_input": "2024-04-05T17:59:07.475361Z",
     "iopub.status.busy": "2024-04-05T17:59:07.475002Z",
     "iopub.status.idle": "2024-04-05T17:59:07.621761Z",
     "shell.execute_reply": "2024-04-05T17:59:07.620922Z"
    },
    "papermill": {
     "duration": 0.17508,
     "end_time": "2024-04-05T17:59:07.623866",
     "exception": false,
     "start_time": "2024-04-05T17:59:07.448786",
     "status": "completed"
    },
    "tags": []
   },
   "outputs": [
    {
     "data": {
      "text/html": [
       "<div>\n",
       "<style scoped>\n",
       "    .dataframe tbody tr th:only-of-type {\n",
       "        vertical-align: middle;\n",
       "    }\n",
       "\n",
       "    .dataframe tbody tr th {\n",
       "        vertical-align: top;\n",
       "    }\n",
       "\n",
       "    .dataframe thead th {\n",
       "        text-align: right;\n",
       "    }\n",
       "</style>\n",
       "<table border=\"1\" class=\"dataframe\">\n",
       "  <thead>\n",
       "    <tr style=\"text-align: right;\">\n",
       "      <th></th>\n",
       "      <th>fare_amount</th>\n",
       "      <th>pickup_longitude</th>\n",
       "      <th>pickup_latitude</th>\n",
       "      <th>dropoff_longitude</th>\n",
       "      <th>dropoff_latitude</th>\n",
       "      <th>passenger_count</th>\n",
       "    </tr>\n",
       "  </thead>\n",
       "  <tbody>\n",
       "    <tr>\n",
       "      <th>count</th>\n",
       "      <td>552450.000000</td>\n",
       "      <td>552450.000000</td>\n",
       "      <td>552450.000000</td>\n",
       "      <td>552450.000000</td>\n",
       "      <td>552450.000000</td>\n",
       "      <td>552450.000000</td>\n",
       "    </tr>\n",
       "    <tr>\n",
       "      <th>mean</th>\n",
       "      <td>11.354059</td>\n",
       "      <td>-72.497063</td>\n",
       "      <td>39.910500</td>\n",
       "      <td>-72.504326</td>\n",
       "      <td>39.934265</td>\n",
       "      <td>1.684983</td>\n",
       "    </tr>\n",
       "    <tr>\n",
       "      <th>std</th>\n",
       "      <td>9.811924</td>\n",
       "      <td>11.618246</td>\n",
       "      <td>8.061114</td>\n",
       "      <td>12.074346</td>\n",
       "      <td>9.255057</td>\n",
       "      <td>1.337664</td>\n",
       "    </tr>\n",
       "    <tr>\n",
       "      <th>min</th>\n",
       "      <td>-52.000000</td>\n",
       "      <td>-1183.362793</td>\n",
       "      <td>-3084.490234</td>\n",
       "      <td>-3356.729736</td>\n",
       "      <td>-2073.150635</td>\n",
       "      <td>0.000000</td>\n",
       "    </tr>\n",
       "    <tr>\n",
       "      <th>25%</th>\n",
       "      <td>6.000000</td>\n",
       "      <td>-73.992020</td>\n",
       "      <td>40.734875</td>\n",
       "      <td>-73.991425</td>\n",
       "      <td>40.733990</td>\n",
       "      <td>1.000000</td>\n",
       "    </tr>\n",
       "    <tr>\n",
       "      <th>50%</th>\n",
       "      <td>8.500000</td>\n",
       "      <td>-73.981819</td>\n",
       "      <td>40.752621</td>\n",
       "      <td>-73.980179</td>\n",
       "      <td>40.753101</td>\n",
       "      <td>1.000000</td>\n",
       "    </tr>\n",
       "    <tr>\n",
       "      <th>75%</th>\n",
       "      <td>12.500000</td>\n",
       "      <td>-73.967155</td>\n",
       "      <td>40.767036</td>\n",
       "      <td>-73.963737</td>\n",
       "      <td>40.768059</td>\n",
       "      <td>2.000000</td>\n",
       "    </tr>\n",
       "    <tr>\n",
       "      <th>max</th>\n",
       "      <td>499.000000</td>\n",
       "      <td>2420.209473</td>\n",
       "      <td>404.983337</td>\n",
       "      <td>2467.752686</td>\n",
       "      <td>3351.403076</td>\n",
       "      <td>208.000000</td>\n",
       "    </tr>\n",
       "  </tbody>\n",
       "</table>\n",
       "</div>"
      ],
      "text/plain": [
       "         fare_amount  pickup_longitude  pickup_latitude  dropoff_longitude  \\\n",
       "count  552450.000000     552450.000000    552450.000000      552450.000000   \n",
       "mean       11.354059        -72.497063        39.910500         -72.504326   \n",
       "std         9.811924         11.618246         8.061114          12.074346   \n",
       "min       -52.000000      -1183.362793     -3084.490234       -3356.729736   \n",
       "25%         6.000000        -73.992020        40.734875         -73.991425   \n",
       "50%         8.500000        -73.981819        40.752621         -73.980179   \n",
       "75%        12.500000        -73.967155        40.767036         -73.963737   \n",
       "max       499.000000       2420.209473       404.983337        2467.752686   \n",
       "\n",
       "       dropoff_latitude  passenger_count  \n",
       "count     552450.000000    552450.000000  \n",
       "mean          39.934265         1.684983  \n",
       "std            9.255057         1.337664  \n",
       "min        -2073.150635         0.000000  \n",
       "25%           40.733990         1.000000  \n",
       "50%           40.753101         1.000000  \n",
       "75%           40.768059         2.000000  \n",
       "max         3351.403076       208.000000  "
      ]
     },
     "execution_count": 18,
     "metadata": {},
     "output_type": "execute_result"
    }
   ],
   "source": [
    "data.describe()"
   ]
  },
  {
   "cell_type": "code",
   "execution_count": 19,
   "id": "b9479640",
   "metadata": {
    "execution": {
     "iopub.execute_input": "2024-04-05T17:59:07.673885Z",
     "iopub.status.busy": "2024-04-05T17:59:07.673055Z",
     "iopub.status.idle": "2024-04-05T17:59:07.683587Z",
     "shell.execute_reply": "2024-04-05T17:59:07.682511Z"
    },
    "papermill": {
     "duration": 0.037843,
     "end_time": "2024-04-05T17:59:07.685697",
     "exception": false,
     "start_time": "2024-04-05T17:59:07.647854",
     "status": "completed"
    },
    "tags": []
   },
   "outputs": [
    {
     "data": {
      "text/plain": [
       "(Timestamp('2009-01-01 00:11:46+0000', tz='UTC'),\n",
       " Timestamp('2015-06-30 23:59:54+0000', tz='UTC'))"
      ]
     },
     "execution_count": 19,
     "metadata": {},
     "output_type": "execute_result"
    }
   ],
   "source": [
    "data.pickup_datetime.min(), data.pickup_datetime.max()"
   ]
  },
  {
   "cell_type": "code",
   "execution_count": 20,
   "id": "4b5e2323",
   "metadata": {
    "execution": {
     "iopub.execute_input": "2024-04-05T17:59:07.737212Z",
     "iopub.status.busy": "2024-04-05T17:59:07.736620Z",
     "iopub.status.idle": "2024-04-05T17:59:07.746689Z",
     "shell.execute_reply": "2024-04-05T17:59:07.745887Z"
    },
    "papermill": {
     "duration": 0.03976,
     "end_time": "2024-04-05T17:59:07.749930",
     "exception": false,
     "start_time": "2024-04-05T17:59:07.710170",
     "status": "completed"
    },
    "tags": []
   },
   "outputs": [
    {
     "name": "stdout",
     "output_type": "stream",
     "text": [
      "<class 'pandas.core.frame.DataFrame'>\n",
      "RangeIndex: 9914 entries, 0 to 9913\n",
      "Data columns (total 7 columns):\n",
      " #   Column             Non-Null Count  Dtype              \n",
      "---  ------             --------------  -----              \n",
      " 0   key                9914 non-null   object             \n",
      " 1   pickup_datetime    9914 non-null   datetime64[ns, UTC]\n",
      " 2   pickup_longitude   9914 non-null   float32            \n",
      " 3   pickup_latitude    9914 non-null   float32            \n",
      " 4   dropoff_longitude  9914 non-null   float32            \n",
      " 5   dropoff_latitude   9914 non-null   float32            \n",
      " 6   passenger_count    9914 non-null   uint8              \n",
      "dtypes: datetime64[ns, UTC](1), float32(4), object(1), uint8(1)\n",
      "memory usage: 319.6+ KB\n"
     ]
    }
   ],
   "source": [
    "test_data.info() "
   ]
  },
  {
   "cell_type": "markdown",
   "id": "4d8544d2",
   "metadata": {
    "papermill": {
     "duration": 0.024185,
     "end_time": "2024-04-05T17:59:07.798766",
     "exception": false,
     "start_time": "2024-04-05T17:59:07.774581",
     "status": "completed"
    },
    "tags": []
   },
   "source": [
    "The data is not cleaned as -1000 Latitude does not exist and also _208_ pasengers are can't ride a Taxi"
   ]
  },
  {
   "cell_type": "markdown",
   "id": "8bcecef7",
   "metadata": {
    "papermill": {
     "duration": 0.024231,
     "end_time": "2024-04-05T17:59:07.848610",
     "exception": false,
     "start_time": "2024-04-05T17:59:07.824379",
     "status": "completed"
    },
    "tags": []
   },
   "source": [
    "#### Observations\n",
    "- 550K+ data\n",
    "- No missing data (in sample)\n",
    "- Fare ranges from -52 to 499\n",
    "- Pasengers from 0 to 208\n",
    "- Seems to be error in the latitue and logitude\n",
    "- Dates Ranges from 1st Jan 2009 to 30th June 2015\n",
    "\n",
    "Need to deal with the outliares and preproces the data."
   ]
  },
  {
   "cell_type": "code",
   "execution_count": 21,
   "id": "6ebd9fd1",
   "metadata": {
    "execution": {
     "iopub.execute_input": "2024-04-05T17:59:07.899868Z",
     "iopub.status.busy": "2024-04-05T17:59:07.898799Z",
     "iopub.status.idle": "2024-04-05T17:59:07.910279Z",
     "shell.execute_reply": "2024-04-05T17:59:07.908919Z"
    },
    "papermill": {
     "duration": 0.039453,
     "end_time": "2024-04-05T17:59:07.912659",
     "exception": false,
     "start_time": "2024-04-05T17:59:07.873206",
     "status": "completed"
    },
    "tags": []
   },
   "outputs": [
    {
     "name": "stdout",
     "output_type": "stream",
     "text": [
      "<class 'pandas.core.frame.DataFrame'>\n",
      "RangeIndex: 9914 entries, 0 to 9913\n",
      "Data columns (total 7 columns):\n",
      " #   Column             Non-Null Count  Dtype              \n",
      "---  ------             --------------  -----              \n",
      " 0   key                9914 non-null   object             \n",
      " 1   pickup_datetime    9914 non-null   datetime64[ns, UTC]\n",
      " 2   pickup_longitude   9914 non-null   float32            \n",
      " 3   pickup_latitude    9914 non-null   float32            \n",
      " 4   dropoff_longitude  9914 non-null   float32            \n",
      " 5   dropoff_latitude   9914 non-null   float32            \n",
      " 6   passenger_count    9914 non-null   uint8              \n",
      "dtypes: datetime64[ns, UTC](1), float32(4), object(1), uint8(1)\n",
      "memory usage: 319.6+ KB\n"
     ]
    }
   ],
   "source": [
    "test_data.info()"
   ]
  },
  {
   "cell_type": "code",
   "execution_count": 22,
   "id": "7d77a4b9",
   "metadata": {
    "execution": {
     "iopub.execute_input": "2024-04-05T17:59:07.963753Z",
     "iopub.status.busy": "2024-04-05T17:59:07.963371Z",
     "iopub.status.idle": "2024-04-05T17:59:07.986932Z",
     "shell.execute_reply": "2024-04-05T17:59:07.986134Z"
    },
    "papermill": {
     "duration": 0.051596,
     "end_time": "2024-04-05T17:59:07.989072",
     "exception": false,
     "start_time": "2024-04-05T17:59:07.937476",
     "status": "completed"
    },
    "tags": []
   },
   "outputs": [
    {
     "data": {
      "text/html": [
       "<div>\n",
       "<style scoped>\n",
       "    .dataframe tbody tr th:only-of-type {\n",
       "        vertical-align: middle;\n",
       "    }\n",
       "\n",
       "    .dataframe tbody tr th {\n",
       "        vertical-align: top;\n",
       "    }\n",
       "\n",
       "    .dataframe thead th {\n",
       "        text-align: right;\n",
       "    }\n",
       "</style>\n",
       "<table border=\"1\" class=\"dataframe\">\n",
       "  <thead>\n",
       "    <tr style=\"text-align: right;\">\n",
       "      <th></th>\n",
       "      <th>pickup_longitude</th>\n",
       "      <th>pickup_latitude</th>\n",
       "      <th>dropoff_longitude</th>\n",
       "      <th>dropoff_latitude</th>\n",
       "      <th>passenger_count</th>\n",
       "    </tr>\n",
       "  </thead>\n",
       "  <tbody>\n",
       "    <tr>\n",
       "      <th>count</th>\n",
       "      <td>9914.000000</td>\n",
       "      <td>9914.000000</td>\n",
       "      <td>9914.000000</td>\n",
       "      <td>9914.000000</td>\n",
       "      <td>9914.000000</td>\n",
       "    </tr>\n",
       "    <tr>\n",
       "      <th>mean</th>\n",
       "      <td>-73.974716</td>\n",
       "      <td>40.751041</td>\n",
       "      <td>-73.973656</td>\n",
       "      <td>40.751740</td>\n",
       "      <td>1.671273</td>\n",
       "    </tr>\n",
       "    <tr>\n",
       "      <th>std</th>\n",
       "      <td>0.042774</td>\n",
       "      <td>0.033541</td>\n",
       "      <td>0.039072</td>\n",
       "      <td>0.035435</td>\n",
       "      <td>1.278747</td>\n",
       "    </tr>\n",
       "    <tr>\n",
       "      <th>min</th>\n",
       "      <td>-74.252190</td>\n",
       "      <td>40.573143</td>\n",
       "      <td>-74.263245</td>\n",
       "      <td>40.568974</td>\n",
       "      <td>1.000000</td>\n",
       "    </tr>\n",
       "    <tr>\n",
       "      <th>25%</th>\n",
       "      <td>-73.992500</td>\n",
       "      <td>40.736125</td>\n",
       "      <td>-73.991249</td>\n",
       "      <td>40.735253</td>\n",
       "      <td>1.000000</td>\n",
       "    </tr>\n",
       "    <tr>\n",
       "      <th>50%</th>\n",
       "      <td>-73.982327</td>\n",
       "      <td>40.753052</td>\n",
       "      <td>-73.980015</td>\n",
       "      <td>40.754065</td>\n",
       "      <td>1.000000</td>\n",
       "    </tr>\n",
       "    <tr>\n",
       "      <th>75%</th>\n",
       "      <td>-73.968012</td>\n",
       "      <td>40.767113</td>\n",
       "      <td>-73.964062</td>\n",
       "      <td>40.768757</td>\n",
       "      <td>2.000000</td>\n",
       "    </tr>\n",
       "    <tr>\n",
       "      <th>max</th>\n",
       "      <td>-72.986534</td>\n",
       "      <td>41.709557</td>\n",
       "      <td>-72.990967</td>\n",
       "      <td>41.696682</td>\n",
       "      <td>6.000000</td>\n",
       "    </tr>\n",
       "  </tbody>\n",
       "</table>\n",
       "</div>"
      ],
      "text/plain": [
       "       pickup_longitude  pickup_latitude  dropoff_longitude  dropoff_latitude  \\\n",
       "count       9914.000000      9914.000000        9914.000000       9914.000000   \n",
       "mean         -73.974716        40.751041         -73.973656         40.751740   \n",
       "std            0.042774         0.033541           0.039072          0.035435   \n",
       "min          -74.252190        40.573143         -74.263245         40.568974   \n",
       "25%          -73.992500        40.736125         -73.991249         40.735253   \n",
       "50%          -73.982327        40.753052         -73.980015         40.754065   \n",
       "75%          -73.968012        40.767113         -73.964062         40.768757   \n",
       "max          -72.986534        41.709557         -72.990967         41.696682   \n",
       "\n",
       "       passenger_count  \n",
       "count      9914.000000  \n",
       "mean          1.671273  \n",
       "std           1.278747  \n",
       "min           1.000000  \n",
       "25%           1.000000  \n",
       "50%           1.000000  \n",
       "75%           2.000000  \n",
       "max           6.000000  "
      ]
     },
     "execution_count": 22,
     "metadata": {},
     "output_type": "execute_result"
    }
   ],
   "source": [
    "test_data.describe()"
   ]
  },
  {
   "cell_type": "code",
   "execution_count": 23,
   "id": "b2c4b067",
   "metadata": {
    "execution": {
     "iopub.execute_input": "2024-04-05T17:59:08.044671Z",
     "iopub.status.busy": "2024-04-05T17:59:08.044036Z",
     "iopub.status.idle": "2024-04-05T17:59:08.050974Z",
     "shell.execute_reply": "2024-04-05T17:59:08.049770Z"
    },
    "papermill": {
     "duration": 0.037452,
     "end_time": "2024-04-05T17:59:08.053179",
     "exception": false,
     "start_time": "2024-04-05T17:59:08.015727",
     "status": "completed"
    },
    "tags": []
   },
   "outputs": [
    {
     "data": {
      "text/plain": [
       "(Timestamp('2009-01-01 11:04:24+0000', tz='UTC'),\n",
       " Timestamp('2015-06-30 20:03:50+0000', tz='UTC'))"
      ]
     },
     "execution_count": 23,
     "metadata": {},
     "output_type": "execute_result"
    }
   ],
   "source": [
    "test_data.pickup_datetime.min(), test_data.pickup_datetime.max()"
   ]
  },
  {
   "cell_type": "markdown",
   "id": "01310b36",
   "metadata": {
    "papermill": {
     "duration": 0.024285,
     "end_time": "2024-04-05T17:59:08.102128",
     "exception": false,
     "start_time": "2024-04-05T17:59:08.077843",
     "status": "completed"
    },
    "tags": []
   },
   "source": [
    "Training data is Clean we can refer to the taining data for the purpost of clenaing the data.\n",
    "\n",
    "Like we can remove the columns whose values lies outside the Training data."
   ]
  },
  {
   "cell_type": "markdown",
   "id": "2598ee88",
   "metadata": {
    "papermill": {
     "duration": 0.024258,
     "end_time": "2024-04-05T17:59:08.151023",
     "exception": false,
     "start_time": "2024-04-05T17:59:08.126765",
     "status": "completed"
    },
    "tags": []
   },
   "source": [
    "## Exploratory Data Analysis"
   ]
  },
  {
   "cell_type": "code",
   "execution_count": 24,
   "id": "c96d07b4",
   "metadata": {
    "execution": {
     "iopub.execute_input": "2024-04-05T17:59:08.203171Z",
     "iopub.status.busy": "2024-04-05T17:59:08.202540Z",
     "iopub.status.idle": "2024-04-05T17:59:09.726727Z",
     "shell.execute_reply": "2024-04-05T17:59:09.725519Z"
    },
    "papermill": {
     "duration": 1.553212,
     "end_time": "2024-04-05T17:59:09.729298",
     "exception": false,
     "start_time": "2024-04-05T17:59:08.176086",
     "status": "completed"
    },
    "tags": []
   },
   "outputs": [],
   "source": [
    "import matplotlib.pyplot as plt\n",
    "import seaborn as sns"
   ]
  },
  {
   "cell_type": "markdown",
   "id": "03362ede",
   "metadata": {
    "papermill": {
     "duration": 0.024605,
     "end_time": "2024-04-05T17:59:09.779344",
     "exception": false,
     "start_time": "2024-04-05T17:59:09.754739",
     "status": "completed"
    },
    "tags": []
   },
   "source": [
    "Skipping for Now -> Following the content of the Video This will be done a bit later when working properly"
   ]
  },
  {
   "cell_type": "code",
   "execution_count": 25,
   "id": "7212c502",
   "metadata": {
    "execution": {
     "iopub.execute_input": "2024-04-05T17:59:09.831130Z",
     "iopub.status.busy": "2024-04-05T17:59:09.830743Z",
     "iopub.status.idle": "2024-04-05T17:59:09.982921Z",
     "shell.execute_reply": "2024-04-05T17:59:09.982008Z"
    },
    "papermill": {
     "duration": 0.181336,
     "end_time": "2024-04-05T17:59:09.985716",
     "exception": false,
     "start_time": "2024-04-05T17:59:09.804380",
     "status": "completed"
    },
    "tags": []
   },
   "outputs": [
    {
     "data": {
      "text/html": [
       "<div>\n",
       "<style scoped>\n",
       "    .dataframe tbody tr th:only-of-type {\n",
       "        vertical-align: middle;\n",
       "    }\n",
       "\n",
       "    .dataframe tbody tr th {\n",
       "        vertical-align: top;\n",
       "    }\n",
       "\n",
       "    .dataframe thead th {\n",
       "        text-align: right;\n",
       "    }\n",
       "</style>\n",
       "<table border=\"1\" class=\"dataframe\">\n",
       "  <thead>\n",
       "    <tr style=\"text-align: right;\">\n",
       "      <th></th>\n",
       "      <th>fare_amount</th>\n",
       "      <th>pickup_longitude</th>\n",
       "      <th>pickup_latitude</th>\n",
       "      <th>dropoff_longitude</th>\n",
       "      <th>dropoff_latitude</th>\n",
       "      <th>passenger_count</th>\n",
       "    </tr>\n",
       "  </thead>\n",
       "  <tbody>\n",
       "    <tr>\n",
       "      <th>count</th>\n",
       "      <td>552450.000000</td>\n",
       "      <td>552450.000000</td>\n",
       "      <td>552450.000000</td>\n",
       "      <td>552450.000000</td>\n",
       "      <td>552450.000000</td>\n",
       "      <td>552450.000000</td>\n",
       "    </tr>\n",
       "    <tr>\n",
       "      <th>mean</th>\n",
       "      <td>11.354059</td>\n",
       "      <td>-72.497063</td>\n",
       "      <td>39.910500</td>\n",
       "      <td>-72.504326</td>\n",
       "      <td>39.934265</td>\n",
       "      <td>1.684983</td>\n",
       "    </tr>\n",
       "    <tr>\n",
       "      <th>std</th>\n",
       "      <td>9.811924</td>\n",
       "      <td>11.618246</td>\n",
       "      <td>8.061114</td>\n",
       "      <td>12.074346</td>\n",
       "      <td>9.255057</td>\n",
       "      <td>1.337664</td>\n",
       "    </tr>\n",
       "    <tr>\n",
       "      <th>min</th>\n",
       "      <td>-52.000000</td>\n",
       "      <td>-1183.362793</td>\n",
       "      <td>-3084.490234</td>\n",
       "      <td>-3356.729736</td>\n",
       "      <td>-2073.150635</td>\n",
       "      <td>0.000000</td>\n",
       "    </tr>\n",
       "    <tr>\n",
       "      <th>25%</th>\n",
       "      <td>6.000000</td>\n",
       "      <td>-73.992020</td>\n",
       "      <td>40.734875</td>\n",
       "      <td>-73.991425</td>\n",
       "      <td>40.733990</td>\n",
       "      <td>1.000000</td>\n",
       "    </tr>\n",
       "    <tr>\n",
       "      <th>50%</th>\n",
       "      <td>8.500000</td>\n",
       "      <td>-73.981819</td>\n",
       "      <td>40.752621</td>\n",
       "      <td>-73.980179</td>\n",
       "      <td>40.753101</td>\n",
       "      <td>1.000000</td>\n",
       "    </tr>\n",
       "    <tr>\n",
       "      <th>75%</th>\n",
       "      <td>12.500000</td>\n",
       "      <td>-73.967155</td>\n",
       "      <td>40.767036</td>\n",
       "      <td>-73.963737</td>\n",
       "      <td>40.768059</td>\n",
       "      <td>2.000000</td>\n",
       "    </tr>\n",
       "    <tr>\n",
       "      <th>max</th>\n",
       "      <td>499.000000</td>\n",
       "      <td>2420.209473</td>\n",
       "      <td>404.983337</td>\n",
       "      <td>2467.752686</td>\n",
       "      <td>3351.403076</td>\n",
       "      <td>208.000000</td>\n",
       "    </tr>\n",
       "  </tbody>\n",
       "</table>\n",
       "</div>"
      ],
      "text/plain": [
       "         fare_amount  pickup_longitude  pickup_latitude  dropoff_longitude  \\\n",
       "count  552450.000000     552450.000000    552450.000000      552450.000000   \n",
       "mean       11.354059        -72.497063        39.910500         -72.504326   \n",
       "std         9.811924         11.618246         8.061114          12.074346   \n",
       "min       -52.000000      -1183.362793     -3084.490234       -3356.729736   \n",
       "25%         6.000000        -73.992020        40.734875         -73.991425   \n",
       "50%         8.500000        -73.981819        40.752621         -73.980179   \n",
       "75%        12.500000        -73.967155        40.767036         -73.963737   \n",
       "max       499.000000       2420.209473       404.983337        2467.752686   \n",
       "\n",
       "       dropoff_latitude  passenger_count  \n",
       "count     552450.000000    552450.000000  \n",
       "mean          39.934265         1.684983  \n",
       "std            9.255057         1.337664  \n",
       "min        -2073.150635         0.000000  \n",
       "25%           40.733990         1.000000  \n",
       "50%           40.753101         1.000000  \n",
       "75%           40.768059         2.000000  \n",
       "max         3351.403076       208.000000  "
      ]
     },
     "execution_count": 25,
     "metadata": {},
     "output_type": "execute_result"
    }
   ],
   "source": [
    "data.describe()"
   ]
  },
  {
   "cell_type": "code",
   "execution_count": 26,
   "id": "e5340a4e",
   "metadata": {
    "execution": {
     "iopub.execute_input": "2024-04-05T17:59:10.038357Z",
     "iopub.status.busy": "2024-04-05T17:59:10.037757Z",
     "iopub.status.idle": "2024-04-05T17:59:10.700976Z",
     "shell.execute_reply": "2024-04-05T17:59:10.699788Z"
    },
    "papermill": {
     "duration": 0.692503,
     "end_time": "2024-04-05T17:59:10.703855",
     "exception": false,
     "start_time": "2024-04-05T17:59:10.011352",
     "status": "completed"
    },
    "tags": []
   },
   "outputs": [
    {
     "data": {
      "text/plain": [
       "<Axes: >"
      ]
     },
     "execution_count": 26,
     "metadata": {},
     "output_type": "execute_result"
    },
    {
     "data": {
      "image/png": "[encoded data removed]",
      "text/plain": [
       "<Figure size 800x400 with 2 Axes>"
      ]
     },
     "metadata": {},
     "output_type": "display_data"
    }
   ],
   "source": [
    "plt.figure(figsize=(8,4))\n",
    "sns.heatmap(data.corr(), cmap = 'RdBu', annot= True, fmt = '.2f', center = 0)"
   ]
  },
  {
   "cell_type": "markdown",
   "id": "08122f74",
   "metadata": {
    "papermill": {
     "duration": 0.026237,
     "end_time": "2024-04-05T17:59:10.757581",
     "exception": false,
     "start_time": "2024-04-05T17:59:10.731344",
     "status": "completed"
    },
    "tags": []
   },
   "source": [
    "This is going to be a bad model if we diretly use the columns without fearure Engineering"
   ]
  },
  {
   "cell_type": "markdown",
   "id": "40607adb",
   "metadata": {
    "papermill": {
     "duration": 0.025704,
     "end_time": "2024-04-05T17:59:10.809720",
     "exception": false,
     "start_time": "2024-04-05T17:59:10.784016",
     "status": "completed"
    },
    "tags": []
   },
   "source": [
    "### Preparing the Dataset for training\n",
    "- Split it into the training and validation set\n",
    "- Fill/Remove Missing values\n",
    "- Extrarct Input and Output\n",
    "    - Training\n",
    "    - Validation\n",
    "    - Test"
   ]
  },
  {
   "cell_type": "markdown",
   "id": "3c7bae03",
   "metadata": {
    "papermill": {
     "duration": 0.026024,
     "end_time": "2024-04-05T17:59:10.862015",
     "exception": false,
     "start_time": "2024-04-05T17:59:10.835991",
     "status": "completed"
    },
    "tags": []
   },
   "source": [
    "#### Splitting the dataset"
   ]
  },
  {
   "cell_type": "code",
   "execution_count": 27,
   "id": "86a81872",
   "metadata": {
    "execution": {
     "iopub.execute_input": "2024-04-05T17:59:10.916552Z",
     "iopub.status.busy": "2024-04-05T17:59:10.915907Z",
     "iopub.status.idle": "2024-04-05T17:59:11.171212Z",
     "shell.execute_reply": "2024-04-05T17:59:11.169975Z"
    },
    "papermill": {
     "duration": 0.285731,
     "end_time": "2024-04-05T17:59:11.173864",
     "exception": false,
     "start_time": "2024-04-05T17:59:10.888133",
     "status": "completed"
    },
    "tags": []
   },
   "outputs": [],
   "source": [
    "from sklearn.model_selection import train_test_split"
   ]
  },
  {
   "cell_type": "code",
   "execution_count": 28,
   "id": "15c59071",
   "metadata": {
    "execution": {
     "iopub.execute_input": "2024-04-05T17:59:11.228085Z",
     "iopub.status.busy": "2024-04-05T17:59:11.227345Z",
     "iopub.status.idle": "2024-04-05T17:59:11.310379Z",
     "shell.execute_reply": "2024-04-05T17:59:11.309211Z"
    },
    "papermill": {
     "duration": 0.112835,
     "end_time": "2024-04-05T17:59:11.312924",
     "exception": false,
     "start_time": "2024-04-05T17:59:11.200089",
     "status": "completed"
    },
    "tags": []
   },
   "outputs": [
    {
     "data": {
      "text/plain": [
       "(441960, 110490)"
      ]
     },
     "execution_count": 28,
     "metadata": {},
     "output_type": "execute_result"
    }
   ],
   "source": [
    "train, val = train_test_split(data, test_size = 0.2, random_state = len(data))\n",
    "len(train), len(val)"
   ]
  },
  {
   "cell_type": "code",
   "execution_count": 29,
   "id": "770dca04",
   "metadata": {
    "execution": {
     "iopub.execute_input": "2024-04-05T17:59:11.369225Z",
     "iopub.status.busy": "2024-04-05T17:59:11.368131Z",
     "iopub.status.idle": "2024-04-05T17:59:11.374377Z",
     "shell.execute_reply": "2024-04-05T17:59:11.373629Z"
    },
    "papermill": {
     "duration": 0.036205,
     "end_time": "2024-04-05T17:59:11.376386",
     "exception": false,
     "start_time": "2024-04-05T17:59:11.340181",
     "status": "completed"
    },
    "tags": []
   },
   "outputs": [
    {
     "data": {
      "text/plain": [
       "(441960, 7)"
      ]
     },
     "execution_count": 29,
     "metadata": {},
     "output_type": "execute_result"
    }
   ],
   "source": [
    "train.shape"
   ]
  },
  {
   "cell_type": "code",
   "execution_count": 30,
   "id": "eacbbb22",
   "metadata": {
    "execution": {
     "iopub.execute_input": "2024-04-05T17:59:11.434100Z",
     "iopub.status.busy": "2024-04-05T17:59:11.433371Z",
     "iopub.status.idle": "2024-04-05T17:59:11.456761Z",
     "shell.execute_reply": "2024-04-05T17:59:11.455719Z"
    },
    "papermill": {
     "duration": 0.055463,
     "end_time": "2024-04-05T17:59:11.458883",
     "exception": false,
     "start_time": "2024-04-05T17:59:11.403420",
     "status": "completed"
    },
    "tags": []
   },
   "outputs": [
    {
     "data": {
      "text/plain": [
       "((441960, 7), (110490, 7))"
      ]
     },
     "execution_count": 30,
     "metadata": {},
     "output_type": "execute_result"
    }
   ],
   "source": [
    "# Dropping the missing values\n",
    "train = train.dropna()\n",
    "val = val.dropna()\n",
    "\n",
    "train.shape, val.shape"
   ]
  },
  {
   "cell_type": "markdown",
   "id": "21ddf504",
   "metadata": {
    "papermill": {
     "duration": 0.026157,
     "end_time": "2024-04-05T17:59:11.511827",
     "exception": false,
     "start_time": "2024-04-05T17:59:11.485670",
     "status": "completed"
    },
    "tags": []
   },
   "source": [
    "Sepraing the inputs and output cols"
   ]
  },
  {
   "cell_type": "code",
   "execution_count": 31,
   "id": "ed4eee75",
   "metadata": {
    "execution": {
     "iopub.execute_input": "2024-04-05T17:59:11.568711Z",
     "iopub.status.busy": "2024-04-05T17:59:11.568020Z",
     "iopub.status.idle": "2024-04-05T17:59:11.573779Z",
     "shell.execute_reply": "2024-04-05T17:59:11.572845Z"
    },
    "papermill": {
     "duration": 0.037245,
     "end_time": "2024-04-05T17:59:11.575728",
     "exception": false,
     "start_time": "2024-04-05T17:59:11.538483",
     "status": "completed"
    },
    "tags": []
   },
   "outputs": [
    {
     "data": {
      "text/plain": [
       "Index(['fare_amount', 'pickup_datetime', 'pickup_longitude', 'pickup_latitude',\n",
       "       'dropoff_longitude', 'dropoff_latitude', 'passenger_count'],\n",
       "      dtype='object')"
      ]
     },
     "execution_count": 31,
     "metadata": {},
     "output_type": "execute_result"
    }
   ],
   "source": [
    "train.columns"
   ]
  },
  {
   "cell_type": "markdown",
   "id": "b6af99df",
   "metadata": {
    "papermill": {
     "duration": 0.026187,
     "end_time": "2024-04-05T17:59:11.628709",
     "exception": false,
     "start_time": "2024-04-05T17:59:11.602522",
     "status": "completed"
    },
    "tags": []
   },
   "source": [
    "We can't Train a a model on date time column we need to convert the date time to multiple columns by extraicting the values"
   ]
  },
  {
   "cell_type": "code",
   "execution_count": 32,
   "id": "fa02a086",
   "metadata": {
    "execution": {
     "iopub.execute_input": "2024-04-05T17:59:11.684284Z",
     "iopub.status.busy": "2024-04-05T17:59:11.683556Z",
     "iopub.status.idle": "2024-04-05T17:59:11.688626Z",
     "shell.execute_reply": "2024-04-05T17:59:11.687835Z"
    },
    "papermill": {
     "duration": 0.035185,
     "end_time": "2024-04-05T17:59:11.690614",
     "exception": false,
     "start_time": "2024-04-05T17:59:11.655429",
     "status": "completed"
    },
    "tags": []
   },
   "outputs": [],
   "source": [
    "input_col = ['pickup_longitude', 'pickup_latitude', 'dropoff_longitude', 'dropoff_latitude', 'passenger_count']\n",
    "tar_col = 'fare_amount'"
   ]
  },
  {
   "cell_type": "code",
   "execution_count": 33,
   "id": "decfd137",
   "metadata": {
    "execution": {
     "iopub.execute_input": "2024-04-05T17:59:11.746725Z",
     "iopub.status.busy": "2024-04-05T17:59:11.745730Z",
     "iopub.status.idle": "2024-04-05T17:59:11.768601Z",
     "shell.execute_reply": "2024-04-05T17:59:11.767428Z"
    },
    "papermill": {
     "duration": 0.053572,
     "end_time": "2024-04-05T17:59:11.770858",
     "exception": false,
     "start_time": "2024-04-05T17:59:11.717286",
     "status": "completed"
    },
    "tags": []
   },
   "outputs": [
    {
     "data": {
      "text/plain": [
       "((441960, 5), (110490,))"
      ]
     },
     "execution_count": 33,
     "metadata": {},
     "output_type": "execute_result"
    }
   ],
   "source": [
    "x_train = train[input_col].copy()\n",
    "y_train = train[tar_col].copy()\n",
    "\n",
    "x_val = val[input_col].copy()\n",
    "y_val = val[tar_col].copy()\n",
    "\n",
    "x_train.shape, y_val.shape"
   ]
  },
  {
   "cell_type": "markdown",
   "id": "fbfffa90",
   "metadata": {
    "papermill": {
     "duration": 0.026331,
     "end_time": "2024-04-05T17:59:11.825367",
     "exception": false,
     "start_time": "2024-04-05T17:59:11.799036",
     "status": "completed"
    },
    "tags": []
   },
   "source": [
    "## Hardcoded and baseline Models\n",
    "\n",
    "Making some of the very simple models which produce very dumb results and compare the models to the This to know the status\n",
    "and perfoming efficieny of the modle"
   ]
  },
  {
   "cell_type": "code",
   "execution_count": 34,
   "id": "c56f0f36",
   "metadata": {
    "execution": {
     "iopub.execute_input": "2024-04-05T17:59:11.880660Z",
     "iopub.status.busy": "2024-04-05T17:59:11.880279Z",
     "iopub.status.idle": "2024-04-05T17:59:11.886255Z",
     "shell.execute_reply": "2024-04-05T17:59:11.885231Z"
    },
    "papermill": {
     "duration": 0.036373,
     "end_time": "2024-04-05T17:59:11.888473",
     "exception": false,
     "start_time": "2024-04-05T17:59:11.852100",
     "status": "completed"
    },
    "tags": []
   },
   "outputs": [],
   "source": [
    "# Using Classes to make it similar to the SK-learn models\n",
    "\n",
    "class MeanRegressor:\n",
    "    def fit(self, inputs, targets):\n",
    "        self.mean = targets.mean()\n",
    "        return self\n",
    "    \n",
    "    def predict(self, inputs):\n",
    "        return np.full(inputs.shape[0], self.mean)\n",
    "    "
   ]
  },
  {
   "cell_type": "code",
   "execution_count": 35,
   "id": "a54d47a4",
   "metadata": {
    "execution": {
     "iopub.execute_input": "2024-04-05T17:59:11.947013Z",
     "iopub.status.busy": "2024-04-05T17:59:11.946209Z",
     "iopub.status.idle": "2024-04-05T17:59:11.951736Z",
     "shell.execute_reply": "2024-04-05T17:59:11.950802Z"
    },
    "papermill": {
     "duration": 0.035762,
     "end_time": "2024-04-05T17:59:11.953785",
     "exception": false,
     "start_time": "2024-04-05T17:59:11.918023",
     "status": "completed"
    },
    "tags": []
   },
   "outputs": [],
   "source": [
    "model = MeanRegressor().fit(x_train, y_train)"
   ]
  },
  {
   "cell_type": "code",
   "execution_count": 36,
   "id": "96d395ef",
   "metadata": {
    "execution": {
     "iopub.execute_input": "2024-04-05T17:59:12.009482Z",
     "iopub.status.busy": "2024-04-05T17:59:12.008772Z",
     "iopub.status.idle": "2024-04-05T17:59:12.014245Z",
     "shell.execute_reply": "2024-04-05T17:59:12.013424Z"
    },
    "papermill": {
     "duration": 0.035781,
     "end_time": "2024-04-05T17:59:12.016307",
     "exception": false,
     "start_time": "2024-04-05T17:59:11.980526",
     "status": "completed"
    },
    "tags": []
   },
   "outputs": [
    {
     "data": {
      "text/plain": [
       "11.351758"
      ]
     },
     "execution_count": 36,
     "metadata": {},
     "output_type": "execute_result"
    }
   ],
   "source": [
    "model.mean"
   ]
  },
  {
   "cell_type": "code",
   "execution_count": 37,
   "id": "e9d9cf10",
   "metadata": {
    "execution": {
     "iopub.execute_input": "2024-04-05T17:59:12.072448Z",
     "iopub.status.busy": "2024-04-05T17:59:12.071292Z",
     "iopub.status.idle": "2024-04-05T17:59:12.076145Z",
     "shell.execute_reply": "2024-04-05T17:59:12.075379Z"
    },
    "papermill": {
     "duration": 0.034856,
     "end_time": "2024-04-05T17:59:12.078118",
     "exception": false,
     "start_time": "2024-04-05T17:59:12.043262",
     "status": "completed"
    },
    "tags": []
   },
   "outputs": [],
   "source": [
    "train_pre = model.predict(x_train)"
   ]
  },
  {
   "cell_type": "markdown",
   "id": "cdb5d76e",
   "metadata": {
    "papermill": {
     "duration": 0.026782,
     "end_time": "2024-04-05T17:59:12.131872",
     "exception": false,
     "start_time": "2024-04-05T17:59:12.105090",
     "status": "completed"
    },
    "tags": []
   },
   "source": [
    "### Evaluating \n",
    "using RMSE for the evaluating the error"
   ]
  },
  {
   "cell_type": "code",
   "execution_count": 38,
   "id": "0e3a38ef",
   "metadata": {
    "execution": {
     "iopub.execute_input": "2024-04-05T17:59:12.187616Z",
     "iopub.status.busy": "2024-04-05T17:59:12.186947Z",
     "iopub.status.idle": "2024-04-05T17:59:12.191558Z",
     "shell.execute_reply": "2024-04-05T17:59:12.190767Z"
    },
    "papermill": {
     "duration": 0.03499,
     "end_time": "2024-04-05T17:59:12.193689",
     "exception": false,
     "start_time": "2024-04-05T17:59:12.158699",
     "status": "completed"
    },
    "tags": []
   },
   "outputs": [],
   "source": [
    "from sklearn.metrics import mean_squared_error\n",
    "\n",
    "def rmse(inp, tar):\n",
    "    return mean_squared_error(inp, tar, squared=False)"
   ]
  },
  {
   "cell_type": "code",
   "execution_count": 39,
   "id": "23ed9707",
   "metadata": {
    "execution": {
     "iopub.execute_input": "2024-04-05T17:59:12.251319Z",
     "iopub.status.busy": "2024-04-05T17:59:12.250691Z",
     "iopub.status.idle": "2024-04-05T17:59:12.258911Z",
     "shell.execute_reply": "2024-04-05T17:59:12.257891Z"
    },
    "papermill": {
     "duration": 0.039325,
     "end_time": "2024-04-05T17:59:12.261322",
     "exception": false,
     "start_time": "2024-04-05T17:59:12.221997",
     "status": "completed"
    },
    "tags": []
   },
   "outputs": [
    {
     "data": {
      "text/plain": [
       "9.809799"
      ]
     },
     "execution_count": 39,
     "metadata": {},
     "output_type": "execute_result"
    }
   ],
   "source": [
    "train_rmse = rmse(train_pre, y_train)\n",
    "train_rmse"
   ]
  },
  {
   "cell_type": "markdown",
   "id": "ce2308fd",
   "metadata": {
    "papermill": {
     "duration": 0.026585,
     "end_time": "2024-04-05T17:59:12.315226",
     "exception": false,
     "start_time": "2024-04-05T17:59:12.288641",
     "status": "completed"
    },
    "tags": []
   },
   "source": [
    "A very high error in predicting the rate"
   ]
  },
  {
   "cell_type": "code",
   "execution_count": 40,
   "id": "503e3732",
   "metadata": {
    "execution": {
     "iopub.execute_input": "2024-04-05T17:59:12.371019Z",
     "iopub.status.busy": "2024-04-05T17:59:12.370373Z",
     "iopub.status.idle": "2024-04-05T17:59:12.378186Z",
     "shell.execute_reply": "2024-04-05T17:59:12.377020Z"
    },
    "papermill": {
     "duration": 0.038268,
     "end_time": "2024-04-05T17:59:12.380307",
     "exception": false,
     "start_time": "2024-04-05T17:59:12.342039",
     "status": "completed"
    },
    "tags": []
   },
   "outputs": [
    {
     "data": {
      "text/plain": [
       "9.820382"
      ]
     },
     "execution_count": 40,
     "metadata": {},
     "output_type": "execute_result"
    }
   ],
   "source": [
    "val_rmse = rmse(model.predict(x_val), y_val)\n",
    "val_rmse"
   ]
  },
  {
   "cell_type": "markdown",
   "id": "3ce395fe",
   "metadata": {
    "papermill": {
     "duration": 0.026603,
     "end_time": "2024-04-05T17:59:12.433939",
     "exception": false,
     "start_time": "2024-04-05T17:59:12.407336",
     "status": "completed"
    },
    "tags": []
   },
   "source": [
    "### Train and Evaluate Base line Models"
   ]
  },
  {
   "cell_type": "code",
   "execution_count": 41,
   "id": "97eb707b",
   "metadata": {
    "execution": {
     "iopub.execute_input": "2024-04-05T17:59:12.489956Z",
     "iopub.status.busy": "2024-04-05T17:59:12.489309Z",
     "iopub.status.idle": "2024-04-05T17:59:12.593957Z",
     "shell.execute_reply": "2024-04-05T17:59:12.592928Z"
    },
    "papermill": {
     "duration": 0.135674,
     "end_time": "2024-04-05T17:59:12.596594",
     "exception": false,
     "start_time": "2024-04-05T17:59:12.460920",
     "status": "completed"
    },
    "tags": []
   },
   "outputs": [],
   "source": [
    "from sklearn.linear_model import LinearRegression"
   ]
  },
  {
   "cell_type": "code",
   "execution_count": 42,
   "id": "56de76b5",
   "metadata": {
    "execution": {
     "iopub.execute_input": "2024-04-05T17:59:12.652982Z",
     "iopub.status.busy": "2024-04-05T17:59:12.652100Z",
     "iopub.status.idle": "2024-04-05T17:59:12.780056Z",
     "shell.execute_reply": "2024-04-05T17:59:12.779088Z"
    },
    "papermill": {
     "duration": 0.158711,
     "end_time": "2024-04-05T17:59:12.782590",
     "exception": false,
     "start_time": "2024-04-05T17:59:12.623879",
     "status": "completed"
    },
    "tags": []
   },
   "outputs": [],
   "source": [
    "model = LinearRegression().fit(x_train, y_train)"
   ]
  },
  {
   "cell_type": "code",
   "execution_count": 43,
   "id": "32c40b03",
   "metadata": {
    "execution": {
     "iopub.execute_input": "2024-04-05T17:59:12.839070Z",
     "iopub.status.busy": "2024-04-05T17:59:12.838700Z",
     "iopub.status.idle": "2024-04-05T17:59:12.856595Z",
     "shell.execute_reply": "2024-04-05T17:59:12.855277Z"
    },
    "papermill": {
     "duration": 0.050041,
     "end_time": "2024-04-05T17:59:12.860041",
     "exception": false,
     "start_time": "2024-04-05T17:59:12.810000",
     "status": "completed"
    },
    "tags": []
   },
   "outputs": [
    {
     "data": {
      "text/plain": [
       "array([11.27413 , 11.274368, 11.654195, ..., 11.274407, 11.654392,\n",
       "       11.654364], dtype=float32)"
      ]
     },
     "execution_count": 43,
     "metadata": {},
     "output_type": "execute_result"
    }
   ],
   "source": [
    "train_pre = model.predict(x_train)\n",
    "train_pre"
   ]
  },
  {
   "cell_type": "code",
   "execution_count": 44,
   "id": "b1cedbed",
   "metadata": {
    "execution": {
     "iopub.execute_input": "2024-04-05T17:59:12.955259Z",
     "iopub.status.busy": "2024-04-05T17:59:12.954679Z",
     "iopub.status.idle": "2024-04-05T17:59:12.969789Z",
     "shell.execute_reply": "2024-04-05T17:59:12.968463Z"
    },
    "papermill": {
     "duration": 0.066308,
     "end_time": "2024-04-05T17:59:12.972649",
     "exception": false,
     "start_time": "2024-04-05T17:59:12.906341",
     "status": "completed"
    },
    "tags": []
   },
   "outputs": [
    {
     "data": {
      "text/plain": [
       "9.808442"
      ]
     },
     "execution_count": 44,
     "metadata": {},
     "output_type": "execute_result"
    }
   ],
   "source": [
    "train_rmse = rmse(train_pre, y_train)\n",
    "train_rmse"
   ]
  },
  {
   "cell_type": "code",
   "execution_count": 45,
   "id": "ec25aea3",
   "metadata": {
    "execution": {
     "iopub.execute_input": "2024-04-05T17:59:13.030032Z",
     "iopub.status.busy": "2024-04-05T17:59:13.029252Z",
     "iopub.status.idle": "2024-04-05T17:59:13.036363Z",
     "shell.execute_reply": "2024-04-05T17:59:13.035422Z"
    },
    "papermill": {
     "duration": 0.038152,
     "end_time": "2024-04-05T17:59:13.038543",
     "exception": false,
     "start_time": "2024-04-05T17:59:13.000391",
     "status": "completed"
    },
    "tags": []
   },
   "outputs": [
    {
     "data": {
      "text/plain": [
       "array([ 0.00041984, -0.00824938,  0.00203213, -0.00225181,  0.09508976],\n",
       "      dtype=float32)"
      ]
     },
     "execution_count": 45,
     "metadata": {},
     "output_type": "execute_result"
    }
   ],
   "source": [
    "model.coef_"
   ]
  },
  {
   "cell_type": "code",
   "execution_count": 46,
   "id": "1e270715",
   "metadata": {
    "execution": {
     "iopub.execute_input": "2024-04-05T17:59:13.095390Z",
     "iopub.status.busy": "2024-04-05T17:59:13.094653Z",
     "iopub.status.idle": "2024-04-05T17:59:13.108642Z",
     "shell.execute_reply": "2024-04-05T17:59:13.107450Z"
    },
    "papermill": {
     "duration": 0.045903,
     "end_time": "2024-04-05T17:59:13.111775",
     "exception": false,
     "start_time": "2024-04-05T17:59:13.065872",
     "status": "completed"
    },
    "tags": []
   },
   "outputs": [
    {
     "data": {
      "text/plain": [
       "9.819258"
      ]
     },
     "execution_count": 46,
     "metadata": {},
     "output_type": "execute_result"
    }
   ],
   "source": [
    "val_pre = model.predict(x_val)\n",
    "val_rmse = rmse(val_pre, y_val)\n",
    "val_rmse"
   ]
  },
  {
   "cell_type": "markdown",
   "id": "a460406c",
   "metadata": {
    "papermill": {
     "duration": 0.046617,
     "end_time": "2024-04-05T17:59:13.207638",
     "exception": false,
     "start_time": "2024-04-05T17:59:13.161021",
     "status": "completed"
    },
    "tags": []
   },
   "source": [
    "Not at all a good model -> almost equal to the hardcoded model\n",
    "\n",
    "The main reason for this is Taining data have geo-coordinates, which is not in a format useful for the model and we are not using the one of the most imp column : pickup date and time"
   ]
  },
  {
   "cell_type": "code",
   "execution_count": 47,
   "id": "ae98b3b2",
   "metadata": {
    "execution": {
     "iopub.execute_input": "2024-04-05T17:59:13.270430Z",
     "iopub.status.busy": "2024-04-05T17:59:13.270086Z",
     "iopub.status.idle": "2024-04-05T17:59:13.287155Z",
     "shell.execute_reply": "2024-04-05T17:59:13.286121Z"
    },
    "papermill": {
     "duration": 0.048531,
     "end_time": "2024-04-05T17:59:13.289624",
     "exception": false,
     "start_time": "2024-04-05T17:59:13.241093",
     "status": "completed"
    },
    "tags": []
   },
   "outputs": [
    {
     "data": {
      "text/html": [
       "<div>\n",
       "<style scoped>\n",
       "    .dataframe tbody tr th:only-of-type {\n",
       "        vertical-align: middle;\n",
       "    }\n",
       "\n",
       "    .dataframe tbody tr th {\n",
       "        vertical-align: top;\n",
       "    }\n",
       "\n",
       "    .dataframe thead th {\n",
       "        text-align: right;\n",
       "    }\n",
       "</style>\n",
       "<table border=\"1\" class=\"dataframe\">\n",
       "  <thead>\n",
       "    <tr style=\"text-align: right;\">\n",
       "      <th></th>\n",
       "      <th>key</th>\n",
       "      <th>pickup_datetime</th>\n",
       "      <th>pickup_longitude</th>\n",
       "      <th>pickup_latitude</th>\n",
       "      <th>dropoff_longitude</th>\n",
       "      <th>dropoff_latitude</th>\n",
       "      <th>passenger_count</th>\n",
       "    </tr>\n",
       "  </thead>\n",
       "  <tbody>\n",
       "    <tr>\n",
       "      <th>0</th>\n",
       "      <td>2015-01-27 13:08:24.0000002</td>\n",
       "      <td>2015-01-27 13:08:24+00:00</td>\n",
       "      <td>-73.973320</td>\n",
       "      <td>40.763805</td>\n",
       "      <td>-73.981430</td>\n",
       "      <td>40.743835</td>\n",
       "      <td>1</td>\n",
       "    </tr>\n",
       "    <tr>\n",
       "      <th>1</th>\n",
       "      <td>2015-01-27 13:08:24.0000003</td>\n",
       "      <td>2015-01-27 13:08:24+00:00</td>\n",
       "      <td>-73.986862</td>\n",
       "      <td>40.719383</td>\n",
       "      <td>-73.998886</td>\n",
       "      <td>40.739201</td>\n",
       "      <td>1</td>\n",
       "    </tr>\n",
       "    <tr>\n",
       "      <th>2</th>\n",
       "      <td>2011-10-08 11:53:44.0000002</td>\n",
       "      <td>2011-10-08 11:53:44+00:00</td>\n",
       "      <td>-73.982521</td>\n",
       "      <td>40.751259</td>\n",
       "      <td>-73.979652</td>\n",
       "      <td>40.746140</td>\n",
       "      <td>1</td>\n",
       "    </tr>\n",
       "    <tr>\n",
       "      <th>3</th>\n",
       "      <td>2012-12-01 21:12:12.0000002</td>\n",
       "      <td>2012-12-01 21:12:12+00:00</td>\n",
       "      <td>-73.981163</td>\n",
       "      <td>40.767807</td>\n",
       "      <td>-73.990448</td>\n",
       "      <td>40.751637</td>\n",
       "      <td>1</td>\n",
       "    </tr>\n",
       "    <tr>\n",
       "      <th>4</th>\n",
       "      <td>2012-12-01 21:12:12.0000003</td>\n",
       "      <td>2012-12-01 21:12:12+00:00</td>\n",
       "      <td>-73.966049</td>\n",
       "      <td>40.789776</td>\n",
       "      <td>-73.988564</td>\n",
       "      <td>40.744427</td>\n",
       "      <td>1</td>\n",
       "    </tr>\n",
       "    <tr>\n",
       "      <th>...</th>\n",
       "      <td>...</td>\n",
       "      <td>...</td>\n",
       "      <td>...</td>\n",
       "      <td>...</td>\n",
       "      <td>...</td>\n",
       "      <td>...</td>\n",
       "      <td>...</td>\n",
       "    </tr>\n",
       "    <tr>\n",
       "      <th>9909</th>\n",
       "      <td>2015-05-10 12:37:51.0000002</td>\n",
       "      <td>2015-05-10 12:37:51+00:00</td>\n",
       "      <td>-73.968124</td>\n",
       "      <td>40.796997</td>\n",
       "      <td>-73.955643</td>\n",
       "      <td>40.780388</td>\n",
       "      <td>6</td>\n",
       "    </tr>\n",
       "    <tr>\n",
       "      <th>9910</th>\n",
       "      <td>2015-01-12 17:05:51.0000001</td>\n",
       "      <td>2015-01-12 17:05:51+00:00</td>\n",
       "      <td>-73.945511</td>\n",
       "      <td>40.803600</td>\n",
       "      <td>-73.960213</td>\n",
       "      <td>40.776371</td>\n",
       "      <td>6</td>\n",
       "    </tr>\n",
       "    <tr>\n",
       "      <th>9911</th>\n",
       "      <td>2015-04-19 20:44:15.0000001</td>\n",
       "      <td>2015-04-19 20:44:15+00:00</td>\n",
       "      <td>-73.991600</td>\n",
       "      <td>40.726608</td>\n",
       "      <td>-73.789742</td>\n",
       "      <td>40.647011</td>\n",
       "      <td>6</td>\n",
       "    </tr>\n",
       "    <tr>\n",
       "      <th>9912</th>\n",
       "      <td>2015-01-31 01:05:19.0000005</td>\n",
       "      <td>2015-01-31 01:05:19+00:00</td>\n",
       "      <td>-73.985573</td>\n",
       "      <td>40.735432</td>\n",
       "      <td>-73.939178</td>\n",
       "      <td>40.801731</td>\n",
       "      <td>6</td>\n",
       "    </tr>\n",
       "    <tr>\n",
       "      <th>9913</th>\n",
       "      <td>2015-01-18 14:06:23.0000006</td>\n",
       "      <td>2015-01-18 14:06:23+00:00</td>\n",
       "      <td>-73.988022</td>\n",
       "      <td>40.754070</td>\n",
       "      <td>-74.000282</td>\n",
       "      <td>40.759220</td>\n",
       "      <td>6</td>\n",
       "    </tr>\n",
       "  </tbody>\n",
       "</table>\n",
       "<p>9914 rows × 7 columns</p>\n",
       "</div>"
      ],
      "text/plain": [
       "                              key           pickup_datetime  pickup_longitude  \\\n",
       "0     2015-01-27 13:08:24.0000002 2015-01-27 13:08:24+00:00        -73.973320   \n",
       "1     2015-01-27 13:08:24.0000003 2015-01-27 13:08:24+00:00        -73.986862   \n",
       "2     2011-10-08 11:53:44.0000002 2011-10-08 11:53:44+00:00        -73.982521   \n",
       "3     2012-12-01 21:12:12.0000002 2012-12-01 21:12:12+00:00        -73.981163   \n",
       "4     2012-12-01 21:12:12.0000003 2012-12-01 21:12:12+00:00        -73.966049   \n",
       "...                           ...                       ...               ...   \n",
       "9909  2015-05-10 12:37:51.0000002 2015-05-10 12:37:51+00:00        -73.968124   \n",
       "9910  2015-01-12 17:05:51.0000001 2015-01-12 17:05:51+00:00        -73.945511   \n",
       "9911  2015-04-19 20:44:15.0000001 2015-04-19 20:44:15+00:00        -73.991600   \n",
       "9912  2015-01-31 01:05:19.0000005 2015-01-31 01:05:19+00:00        -73.985573   \n",
       "9913  2015-01-18 14:06:23.0000006 2015-01-18 14:06:23+00:00        -73.988022   \n",
       "\n",
       "      pickup_latitude  dropoff_longitude  dropoff_latitude  passenger_count  \n",
       "0           40.763805         -73.981430         40.743835                1  \n",
       "1           40.719383         -73.998886         40.739201                1  \n",
       "2           40.751259         -73.979652         40.746140                1  \n",
       "3           40.767807         -73.990448         40.751637                1  \n",
       "4           40.789776         -73.988564         40.744427                1  \n",
       "...               ...                ...               ...              ...  \n",
       "9909        40.796997         -73.955643         40.780388                6  \n",
       "9910        40.803600         -73.960213         40.776371                6  \n",
       "9911        40.726608         -73.789742         40.647011                6  \n",
       "9912        40.735432         -73.939178         40.801731                6  \n",
       "9913        40.754070         -74.000282         40.759220                6  \n",
       "\n",
       "[9914 rows x 7 columns]"
      ]
     },
     "execution_count": 47,
     "metadata": {},
     "output_type": "execute_result"
    }
   ],
   "source": [
    "test_data"
   ]
  },
  {
   "cell_type": "code",
   "execution_count": 48,
   "id": "90aac1a6",
   "metadata": {
    "execution": {
     "iopub.execute_input": "2024-04-05T17:59:13.348194Z",
     "iopub.status.busy": "2024-04-05T17:59:13.347773Z",
     "iopub.status.idle": "2024-04-05T17:59:13.376751Z",
     "shell.execute_reply": "2024-04-05T17:59:13.375962Z"
    },
    "papermill": {
     "duration": 0.061274,
     "end_time": "2024-04-05T17:59:13.378790",
     "exception": false,
     "start_time": "2024-04-05T17:59:13.317516",
     "status": "completed"
    },
    "tags": []
   },
   "outputs": [
    {
     "data": {
      "text/html": [
       "<div>\n",
       "<style scoped>\n",
       "    .dataframe tbody tr th:only-of-type {\n",
       "        vertical-align: middle;\n",
       "    }\n",
       "\n",
       "    .dataframe tbody tr th {\n",
       "        vertical-align: top;\n",
       "    }\n",
       "\n",
       "    .dataframe thead th {\n",
       "        text-align: right;\n",
       "    }\n",
       "</style>\n",
       "<table border=\"1\" class=\"dataframe\">\n",
       "  <thead>\n",
       "    <tr style=\"text-align: right;\">\n",
       "      <th></th>\n",
       "      <th>key</th>\n",
       "      <th>fare_amount</th>\n",
       "    </tr>\n",
       "  </thead>\n",
       "  <tbody>\n",
       "    <tr>\n",
       "      <th>0</th>\n",
       "      <td>2015-01-27 13:08:24.0000002</td>\n",
       "      <td>11.35</td>\n",
       "    </tr>\n",
       "    <tr>\n",
       "      <th>1</th>\n",
       "      <td>2015-01-27 13:08:24.0000003</td>\n",
       "      <td>11.35</td>\n",
       "    </tr>\n",
       "    <tr>\n",
       "      <th>2</th>\n",
       "      <td>2011-10-08 11:53:44.0000002</td>\n",
       "      <td>11.35</td>\n",
       "    </tr>\n",
       "    <tr>\n",
       "      <th>3</th>\n",
       "      <td>2012-12-01 21:12:12.0000002</td>\n",
       "      <td>11.35</td>\n",
       "    </tr>\n",
       "    <tr>\n",
       "      <th>4</th>\n",
       "      <td>2012-12-01 21:12:12.0000003</td>\n",
       "      <td>11.35</td>\n",
       "    </tr>\n",
       "  </tbody>\n",
       "</table>\n",
       "</div>"
      ],
      "text/plain": [
       "                           key  fare_amount\n",
       "0  2015-01-27 13:08:24.0000002        11.35\n",
       "1  2015-01-27 13:08:24.0000003        11.35\n",
       "2  2011-10-08 11:53:44.0000002        11.35\n",
       "3  2012-12-01 21:12:12.0000002        11.35\n",
       "4  2012-12-01 21:12:12.0000003        11.35"
      ]
     },
     "execution_count": 48,
     "metadata": {},
     "output_type": "execute_result"
    }
   ],
   "source": [
    "sub_df = pd.read_csv(data_dir + '/sample_submission.csv')\n",
    "sub_df.head()"
   ]
  },
  {
   "cell_type": "code",
   "execution_count": 49,
   "id": "2927f277",
   "metadata": {
    "execution": {
     "iopub.execute_input": "2024-04-05T17:59:13.438515Z",
     "iopub.status.busy": "2024-04-05T17:59:13.437768Z",
     "iopub.status.idle": "2024-04-05T17:59:13.442813Z",
     "shell.execute_reply": "2024-04-05T17:59:13.441763Z"
    },
    "papermill": {
     "duration": 0.037123,
     "end_time": "2024-04-05T17:59:13.445296",
     "exception": false,
     "start_time": "2024-04-05T17:59:13.408173",
     "status": "completed"
    },
    "tags": []
   },
   "outputs": [],
   "source": [
    "def submission(model, test_data, filename):\n",
    "    pre_test = model.predict(test_data)\n",
    "    print(pre_test)\n",
    "    sub_df.fare_amount = pre_test\n",
    "    sub_df.to_csv(filename, index = None)\n",
    "#     print(sub_df)"
   ]
  },
  {
   "cell_type": "code",
   "execution_count": 50,
   "id": "d4d309b0",
   "metadata": {
    "execution": {
     "iopub.execute_input": "2024-04-05T17:59:13.504401Z",
     "iopub.status.busy": "2024-04-05T17:59:13.504023Z",
     "iopub.status.idle": "2024-04-05T17:59:13.508064Z",
     "shell.execute_reply": "2024-04-05T17:59:13.506913Z"
    },
    "papermill": {
     "duration": 0.036282,
     "end_time": "2024-04-05T17:59:13.510272",
     "exception": false,
     "start_time": "2024-04-05T17:59:13.473990",
     "status": "completed"
    },
    "tags": []
   },
   "outputs": [],
   "source": [
    "# Skipping downloading the file for now\n",
    "# submission(model, test_data[input_col], \"LinReg_predection.csv\")"
   ]
  },
  {
   "cell_type": "markdown",
   "id": "1bb5f3b3",
   "metadata": {
    "papermill": {
     "duration": 0.02901,
     "end_time": "2024-04-05T17:59:13.567487",
     "exception": false,
     "start_time": "2024-04-05T17:59:13.538477",
     "status": "completed"
    },
    "tags": []
   },
   "source": [
    "#### Removing the outliares\n",
    "\n",
    "- fare_amount : 1 to 500\n",
    "- long : -75 to -72\n",
    "- lat : 40 to 42\n",
    "- passenger : 1 to 6"
   ]
  },
  {
   "cell_type": "code",
   "execution_count": 51,
   "id": "4614e7ec",
   "metadata": {
    "execution": {
     "iopub.execute_input": "2024-04-05T17:59:13.630316Z",
     "iopub.status.busy": "2024-04-05T17:59:13.629230Z",
     "iopub.status.idle": "2024-04-05T17:59:13.635910Z",
     "shell.execute_reply": "2024-04-05T17:59:13.634829Z"
    },
    "papermill": {
     "duration": 0.038645,
     "end_time": "2024-04-05T17:59:13.638066",
     "exception": false,
     "start_time": "2024-04-05T17:59:13.599421",
     "status": "completed"
    },
    "tags": []
   },
   "outputs": [
    {
     "data": {
      "text/plain": [
       "Index(['fare_amount', 'pickup_datetime', 'pickup_longitude', 'pickup_latitude',\n",
       "       'dropoff_longitude', 'dropoff_latitude', 'passenger_count'],\n",
       "      dtype='object')"
      ]
     },
     "execution_count": 51,
     "metadata": {},
     "output_type": "execute_result"
    }
   ],
   "source": [
    "train.columns"
   ]
  },
  {
   "cell_type": "code",
   "execution_count": 52,
   "id": "e24c3107",
   "metadata": {
    "execution": {
     "iopub.execute_input": "2024-04-05T17:59:13.700340Z",
     "iopub.status.busy": "2024-04-05T17:59:13.699719Z",
     "iopub.status.idle": "2024-04-05T17:59:13.705620Z",
     "shell.execute_reply": "2024-04-05T17:59:13.704676Z"
    },
    "papermill": {
     "duration": 0.04048,
     "end_time": "2024-04-05T17:59:13.707864",
     "exception": false,
     "start_time": "2024-04-05T17:59:13.667384",
     "status": "completed"
    },
    "tags": []
   },
   "outputs": [
    {
     "data": {
      "text/plain": [
       "((441960, 7), (110490, 7), (9914, 7))"
      ]
     },
     "execution_count": 52,
     "metadata": {},
     "output_type": "execute_result"
    }
   ],
   "source": [
    "train.shape, val.shape, test_data.shape"
   ]
  },
  {
   "cell_type": "code",
   "execution_count": 53,
   "id": "bc9a90cb",
   "metadata": {
    "execution": {
     "iopub.execute_input": "2024-04-05T17:59:13.771020Z",
     "iopub.status.busy": "2024-04-05T17:59:13.770633Z",
     "iopub.status.idle": "2024-04-05T17:59:13.777686Z",
     "shell.execute_reply": "2024-04-05T17:59:13.776398Z"
    },
    "papermill": {
     "duration": 0.041811,
     "end_time": "2024-04-05T17:59:13.779918",
     "exception": false,
     "start_time": "2024-04-05T17:59:13.738107",
     "status": "completed"
    },
    "tags": []
   },
   "outputs": [],
   "source": [
    "def remove_out(df):\n",
    "    return df[(df['fare_amount'] >= 1.) & \n",
    "              (df['fare_amount'] <= 500.) &\n",
    "              (df['pickup_longitude'] >= -75) & \n",
    "              (df['pickup_longitude'] <= -72) & \n",
    "              (df['dropoff_longitude'] >= -75) & \n",
    "              (df['dropoff_longitude'] <= -72) & \n",
    "              (df['pickup_latitude'] >= 40) & \n",
    "              (df['pickup_latitude'] <= 42) & \n",
    "              (df['dropoff_latitude'] >=40) & \n",
    "              (df['dropoff_latitude'] <= 42) & \n",
    "              (df['passenger_count'] >= 1) & \n",
    "              (df['passenger_count'] <= 6)]"
   ]
  },
  {
   "cell_type": "code",
   "execution_count": 54,
   "id": "1e1c0b84",
   "metadata": {
    "execution": {
     "iopub.execute_input": "2024-04-05T17:59:13.839734Z",
     "iopub.status.busy": "2024-04-05T17:59:13.839319Z",
     "iopub.status.idle": "2024-04-05T17:59:13.873676Z",
     "shell.execute_reply": "2024-04-05T17:59:13.872794Z"
    },
    "papermill": {
     "duration": 0.067098,
     "end_time": "2024-04-05T17:59:13.875952",
     "exception": false,
     "start_time": "2024-04-05T17:59:13.808854",
     "status": "completed"
    },
    "tags": []
   },
   "outputs": [
    {
     "data": {
      "text/plain": [
       "((430990, 7), (107850, 7), (9914, 7))"
      ]
     },
     "execution_count": 54,
     "metadata": {},
     "output_type": "execute_result"
    }
   ],
   "source": [
    "train = remove_out(train)\n",
    "val = remove_out(val)\n",
    "\n",
    "train.shape, val.shape, test_data.shape"
   ]
  },
  {
   "cell_type": "markdown",
   "id": "7d9fcb47",
   "metadata": {
    "papermill": {
     "duration": 0.028667,
     "end_time": "2024-04-05T17:59:13.933885",
     "exception": false,
     "start_time": "2024-04-05T17:59:13.905218",
     "status": "completed"
    },
    "tags": []
   },
   "source": [
    "### Feature Engineering\n",
    "\n",
    "- Extract parts of date\n",
    "- Remove outliares\n",
    "- Add dist b/w Pickup and drop\n",
    "- Add dist from landmarks"
   ]
  },
  {
   "cell_type": "markdown",
   "id": "7899016d",
   "metadata": {
    "papermill": {
     "duration": 0.028488,
     "end_time": "2024-04-05T17:59:13.991818",
     "exception": false,
     "start_time": "2024-04-05T17:59:13.963330",
     "status": "completed"
    },
    "tags": []
   },
   "source": [
    "#### Extracting parts form date"
   ]
  },
  {
   "cell_type": "code",
   "execution_count": 55,
   "id": "8e1d2401",
   "metadata": {
    "execution": {
     "iopub.execute_input": "2024-04-05T17:59:14.051459Z",
     "iopub.status.busy": "2024-04-05T17:59:14.050660Z",
     "iopub.status.idle": "2024-04-05T17:59:14.056291Z",
     "shell.execute_reply": "2024-04-05T17:59:14.055510Z"
    },
    "papermill": {
     "duration": 0.037792,
     "end_time": "2024-04-05T17:59:14.058597",
     "exception": false,
     "start_time": "2024-04-05T17:59:14.020805",
     "status": "completed"
    },
    "tags": []
   },
   "outputs": [],
   "source": [
    "def add_date_parts (df, col) :\n",
    "    df[col + '_year'] = df[col].dt.year\n",
    "    df[col + '_month'] = df[col].dt.month\n",
    "    df[col + '_day'] = df[col].dt.day\n",
    "    df[col + '_weekday'] = df[col].dt.weekday\n",
    "    df[col + '_hour'] = df[col].dt.hour"
   ]
  },
  {
   "cell_type": "code",
   "execution_count": 56,
   "id": "c13ba4db",
   "metadata": {
    "execution": {
     "iopub.execute_input": "2024-04-05T17:59:14.122921Z",
     "iopub.status.busy": "2024-04-05T17:59:14.122533Z",
     "iopub.status.idle": "2024-04-05T17:59:14.129586Z",
     "shell.execute_reply": "2024-04-05T17:59:14.128404Z"
    },
    "papermill": {
     "duration": 0.040816,
     "end_time": "2024-04-05T17:59:14.132075",
     "exception": false,
     "start_time": "2024-04-05T17:59:14.091259",
     "status": "completed"
    },
    "tags": []
   },
   "outputs": [
    {
     "data": {
      "text/plain": [
       "['pickup_longitude',\n",
       " 'pickup_latitude',\n",
       " 'dropoff_longitude',\n",
       " 'dropoff_latitude',\n",
       " 'passenger_count']"
      ]
     },
     "execution_count": 56,
     "metadata": {},
     "output_type": "execute_result"
    }
   ],
   "source": [
    "input_col"
   ]
  },
  {
   "cell_type": "code",
   "execution_count": 57,
   "id": "88c2adaa",
   "metadata": {
    "execution": {
     "iopub.execute_input": "2024-04-05T17:59:14.193775Z",
     "iopub.status.busy": "2024-04-05T17:59:14.192708Z",
     "iopub.status.idle": "2024-04-05T17:59:14.207145Z",
     "shell.execute_reply": "2024-04-05T17:59:14.206011Z"
    },
    "papermill": {
     "duration": 0.048106,
     "end_time": "2024-04-05T17:59:14.209609",
     "exception": false,
     "start_time": "2024-04-05T17:59:14.161503",
     "status": "completed"
    },
    "tags": []
   },
   "outputs": [
    {
     "data": {
      "text/html": [
       "<div>\n",
       "<style scoped>\n",
       "    .dataframe tbody tr th:only-of-type {\n",
       "        vertical-align: middle;\n",
       "    }\n",
       "\n",
       "    .dataframe tbody tr th {\n",
       "        vertical-align: top;\n",
       "    }\n",
       "\n",
       "    .dataframe thead th {\n",
       "        text-align: right;\n",
       "    }\n",
       "</style>\n",
       "<table border=\"1\" class=\"dataframe\">\n",
       "  <thead>\n",
       "    <tr style=\"text-align: right;\">\n",
       "      <th></th>\n",
       "      <th>fare_amount</th>\n",
       "      <th>pickup_datetime</th>\n",
       "      <th>pickup_longitude</th>\n",
       "      <th>pickup_latitude</th>\n",
       "      <th>dropoff_longitude</th>\n",
       "      <th>dropoff_latitude</th>\n",
       "      <th>passenger_count</th>\n",
       "    </tr>\n",
       "  </thead>\n",
       "  <tbody>\n",
       "    <tr>\n",
       "      <th>90475</th>\n",
       "      <td>8.100000</td>\n",
       "      <td>2009-11-21 01:29:00+00:00</td>\n",
       "      <td>-73.995415</td>\n",
       "      <td>40.745533</td>\n",
       "      <td>-73.969963</td>\n",
       "      <td>40.759899</td>\n",
       "      <td>1</td>\n",
       "    </tr>\n",
       "    <tr>\n",
       "      <th>320476</th>\n",
       "      <td>6.500000</td>\n",
       "      <td>2012-03-31 22:15:00+00:00</td>\n",
       "      <td>-73.996178</td>\n",
       "      <td>40.724167</td>\n",
       "      <td>-73.980553</td>\n",
       "      <td>40.722466</td>\n",
       "      <td>1</td>\n",
       "    </tr>\n",
       "    <tr>\n",
       "      <th>189863</th>\n",
       "      <td>23.299999</td>\n",
       "      <td>2009-10-31 22:04:00+00:00</td>\n",
       "      <td>-73.968178</td>\n",
       "      <td>40.786976</td>\n",
       "      <td>-73.996086</td>\n",
       "      <td>40.720158</td>\n",
       "      <td>5</td>\n",
       "    </tr>\n",
       "    <tr>\n",
       "      <th>25954</th>\n",
       "      <td>8.900000</td>\n",
       "      <td>2010-04-18 00:28:00+00:00</td>\n",
       "      <td>-73.982391</td>\n",
       "      <td>40.774143</td>\n",
       "      <td>-73.967094</td>\n",
       "      <td>40.806057</td>\n",
       "      <td>1</td>\n",
       "    </tr>\n",
       "    <tr>\n",
       "      <th>195808</th>\n",
       "      <td>7.000000</td>\n",
       "      <td>2015-01-08 10:03:13+00:00</td>\n",
       "      <td>-74.008781</td>\n",
       "      <td>40.714054</td>\n",
       "      <td>-73.997429</td>\n",
       "      <td>40.723392</td>\n",
       "      <td>1</td>\n",
       "    </tr>\n",
       "  </tbody>\n",
       "</table>\n",
       "</div>"
      ],
      "text/plain": [
       "        fare_amount           pickup_datetime  pickup_longitude  \\\n",
       "90475      8.100000 2009-11-21 01:29:00+00:00        -73.995415   \n",
       "320476     6.500000 2012-03-31 22:15:00+00:00        -73.996178   \n",
       "189863    23.299999 2009-10-31 22:04:00+00:00        -73.968178   \n",
       "25954      8.900000 2010-04-18 00:28:00+00:00        -73.982391   \n",
       "195808     7.000000 2015-01-08 10:03:13+00:00        -74.008781   \n",
       "\n",
       "        pickup_latitude  dropoff_longitude  dropoff_latitude  passenger_count  \n",
       "90475         40.745533         -73.969963         40.759899                1  \n",
       "320476        40.724167         -73.980553         40.722466                1  \n",
       "189863        40.786976         -73.996086         40.720158                5  \n",
       "25954         40.774143         -73.967094         40.806057                1  \n",
       "195808        40.714054         -73.997429         40.723392                1  "
      ]
     },
     "execution_count": 57,
     "metadata": {},
     "output_type": "execute_result"
    }
   ],
   "source": [
    "train.head()"
   ]
  },
  {
   "cell_type": "code",
   "execution_count": 58,
   "id": "0d5b6fa9",
   "metadata": {
    "execution": {
     "iopub.execute_input": "2024-04-05T17:59:14.274001Z",
     "iopub.status.busy": "2024-04-05T17:59:14.273103Z",
     "iopub.status.idle": "2024-04-05T17:59:14.420593Z",
     "shell.execute_reply": "2024-04-05T17:59:14.419697Z"
    },
    "papermill": {
     "duration": 0.183433,
     "end_time": "2024-04-05T17:59:14.422644",
     "exception": false,
     "start_time": "2024-04-05T17:59:14.239211",
     "status": "completed"
    },
    "tags": []
   },
   "outputs": [
    {
     "data": {
      "text/html": [
       "<div>\n",
       "<style scoped>\n",
       "    .dataframe tbody tr th:only-of-type {\n",
       "        vertical-align: middle;\n",
       "    }\n",
       "\n",
       "    .dataframe tbody tr th {\n",
       "        vertical-align: top;\n",
       "    }\n",
       "\n",
       "    .dataframe thead th {\n",
       "        text-align: right;\n",
       "    }\n",
       "</style>\n",
       "<table border=\"1\" class=\"dataframe\">\n",
       "  <thead>\n",
       "    <tr style=\"text-align: right;\">\n",
       "      <th></th>\n",
       "      <th>fare_amount</th>\n",
       "      <th>pickup_datetime</th>\n",
       "      <th>pickup_longitude</th>\n",
       "      <th>pickup_latitude</th>\n",
       "      <th>dropoff_longitude</th>\n",
       "      <th>dropoff_latitude</th>\n",
       "      <th>passenger_count</th>\n",
       "      <th>pickup_datetime_year</th>\n",
       "      <th>pickup_datetime_month</th>\n",
       "      <th>pickup_datetime_day</th>\n",
       "      <th>pickup_datetime_weekday</th>\n",
       "      <th>pickup_datetime_hour</th>\n",
       "    </tr>\n",
       "  </thead>\n",
       "  <tbody>\n",
       "    <tr>\n",
       "      <th>90475</th>\n",
       "      <td>8.100000</td>\n",
       "      <td>2009-11-21 01:29:00+00:00</td>\n",
       "      <td>-73.995415</td>\n",
       "      <td>40.745533</td>\n",
       "      <td>-73.969963</td>\n",
       "      <td>40.759899</td>\n",
       "      <td>1</td>\n",
       "      <td>2009</td>\n",
       "      <td>11</td>\n",
       "      <td>21</td>\n",
       "      <td>5</td>\n",
       "      <td>1</td>\n",
       "    </tr>\n",
       "    <tr>\n",
       "      <th>320476</th>\n",
       "      <td>6.500000</td>\n",
       "      <td>2012-03-31 22:15:00+00:00</td>\n",
       "      <td>-73.996178</td>\n",
       "      <td>40.724167</td>\n",
       "      <td>-73.980553</td>\n",
       "      <td>40.722466</td>\n",
       "      <td>1</td>\n",
       "      <td>2012</td>\n",
       "      <td>3</td>\n",
       "      <td>31</td>\n",
       "      <td>5</td>\n",
       "      <td>22</td>\n",
       "    </tr>\n",
       "    <tr>\n",
       "      <th>189863</th>\n",
       "      <td>23.299999</td>\n",
       "      <td>2009-10-31 22:04:00+00:00</td>\n",
       "      <td>-73.968178</td>\n",
       "      <td>40.786976</td>\n",
       "      <td>-73.996086</td>\n",
       "      <td>40.720158</td>\n",
       "      <td>5</td>\n",
       "      <td>2009</td>\n",
       "      <td>10</td>\n",
       "      <td>31</td>\n",
       "      <td>5</td>\n",
       "      <td>22</td>\n",
       "    </tr>\n",
       "    <tr>\n",
       "      <th>25954</th>\n",
       "      <td>8.900000</td>\n",
       "      <td>2010-04-18 00:28:00+00:00</td>\n",
       "      <td>-73.982391</td>\n",
       "      <td>40.774143</td>\n",
       "      <td>-73.967094</td>\n",
       "      <td>40.806057</td>\n",
       "      <td>1</td>\n",
       "      <td>2010</td>\n",
       "      <td>4</td>\n",
       "      <td>18</td>\n",
       "      <td>6</td>\n",
       "      <td>0</td>\n",
       "    </tr>\n",
       "    <tr>\n",
       "      <th>195808</th>\n",
       "      <td>7.000000</td>\n",
       "      <td>2015-01-08 10:03:13+00:00</td>\n",
       "      <td>-74.008781</td>\n",
       "      <td>40.714054</td>\n",
       "      <td>-73.997429</td>\n",
       "      <td>40.723392</td>\n",
       "      <td>1</td>\n",
       "      <td>2015</td>\n",
       "      <td>1</td>\n",
       "      <td>8</td>\n",
       "      <td>3</td>\n",
       "      <td>10</td>\n",
       "    </tr>\n",
       "  </tbody>\n",
       "</table>\n",
       "</div>"
      ],
      "text/plain": [
       "        fare_amount           pickup_datetime  pickup_longitude  \\\n",
       "90475      8.100000 2009-11-21 01:29:00+00:00        -73.995415   \n",
       "320476     6.500000 2012-03-31 22:15:00+00:00        -73.996178   \n",
       "189863    23.299999 2009-10-31 22:04:00+00:00        -73.968178   \n",
       "25954      8.900000 2010-04-18 00:28:00+00:00        -73.982391   \n",
       "195808     7.000000 2015-01-08 10:03:13+00:00        -74.008781   \n",
       "\n",
       "        pickup_latitude  dropoff_longitude  dropoff_latitude  passenger_count  \\\n",
       "90475         40.745533         -73.969963         40.759899                1   \n",
       "320476        40.724167         -73.980553         40.722466                1   \n",
       "189863        40.786976         -73.996086         40.720158                5   \n",
       "25954         40.774143         -73.967094         40.806057                1   \n",
       "195808        40.714054         -73.997429         40.723392                1   \n",
       "\n",
       "        pickup_datetime_year  pickup_datetime_month  pickup_datetime_day  \\\n",
       "90475                   2009                     11                   21   \n",
       "320476                  2012                      3                   31   \n",
       "189863                  2009                     10                   31   \n",
       "25954                   2010                      4                   18   \n",
       "195808                  2015                      1                    8   \n",
       "\n",
       "        pickup_datetime_weekday  pickup_datetime_hour  \n",
       "90475                         5                     1  \n",
       "320476                        5                    22  \n",
       "189863                        5                    22  \n",
       "25954                         6                     0  \n",
       "195808                        3                    10  "
      ]
     },
     "execution_count": 58,
     "metadata": {},
     "output_type": "execute_result"
    }
   ],
   "source": [
    "add_date_parts(train,'pickup_datetime')\n",
    "train.head()"
   ]
  },
  {
   "cell_type": "code",
   "execution_count": 59,
   "id": "98e6580c",
   "metadata": {
    "execution": {
     "iopub.execute_input": "2024-04-05T17:59:14.483604Z",
     "iopub.status.busy": "2024-04-05T17:59:14.482908Z",
     "iopub.status.idle": "2024-04-05T17:59:14.529413Z",
     "shell.execute_reply": "2024-04-05T17:59:14.528661Z"
    },
    "papermill": {
     "duration": 0.079598,
     "end_time": "2024-04-05T17:59:14.531768",
     "exception": false,
     "start_time": "2024-04-05T17:59:14.452170",
     "status": "completed"
    },
    "tags": []
   },
   "outputs": [
    {
     "data": {
      "text/html": [
       "<div>\n",
       "<style scoped>\n",
       "    .dataframe tbody tr th:only-of-type {\n",
       "        vertical-align: middle;\n",
       "    }\n",
       "\n",
       "    .dataframe tbody tr th {\n",
       "        vertical-align: top;\n",
       "    }\n",
       "\n",
       "    .dataframe thead th {\n",
       "        text-align: right;\n",
       "    }\n",
       "</style>\n",
       "<table border=\"1\" class=\"dataframe\">\n",
       "  <thead>\n",
       "    <tr style=\"text-align: right;\">\n",
       "      <th></th>\n",
       "      <th>fare_amount</th>\n",
       "      <th>pickup_datetime</th>\n",
       "      <th>pickup_longitude</th>\n",
       "      <th>pickup_latitude</th>\n",
       "      <th>dropoff_longitude</th>\n",
       "      <th>dropoff_latitude</th>\n",
       "      <th>passenger_count</th>\n",
       "      <th>pickup_datetime_year</th>\n",
       "      <th>pickup_datetime_month</th>\n",
       "      <th>pickup_datetime_day</th>\n",
       "      <th>pickup_datetime_weekday</th>\n",
       "      <th>pickup_datetime_hour</th>\n",
       "    </tr>\n",
       "  </thead>\n",
       "  <tbody>\n",
       "    <tr>\n",
       "      <th>483027</th>\n",
       "      <td>8.9</td>\n",
       "      <td>2009-09-02 21:14:00+00:00</td>\n",
       "      <td>-73.993179</td>\n",
       "      <td>40.761116</td>\n",
       "      <td>-73.993179</td>\n",
       "      <td>40.761116</td>\n",
       "      <td>1</td>\n",
       "      <td>2009</td>\n",
       "      <td>9</td>\n",
       "      <td>2</td>\n",
       "      <td>2</td>\n",
       "      <td>21</td>\n",
       "    </tr>\n",
       "    <tr>\n",
       "      <th>459191</th>\n",
       "      <td>4.9</td>\n",
       "      <td>2009-10-28 18:38:14+00:00</td>\n",
       "      <td>-74.004372</td>\n",
       "      <td>40.742470</td>\n",
       "      <td>-74.004372</td>\n",
       "      <td>40.733536</td>\n",
       "      <td>1</td>\n",
       "      <td>2009</td>\n",
       "      <td>10</td>\n",
       "      <td>28</td>\n",
       "      <td>2</td>\n",
       "      <td>18</td>\n",
       "    </tr>\n",
       "    <tr>\n",
       "      <th>310414</th>\n",
       "      <td>8.9</td>\n",
       "      <td>2009-09-29 14:08:36+00:00</td>\n",
       "      <td>-73.981613</td>\n",
       "      <td>40.729198</td>\n",
       "      <td>-73.981606</td>\n",
       "      <td>40.729202</td>\n",
       "      <td>1</td>\n",
       "      <td>2009</td>\n",
       "      <td>9</td>\n",
       "      <td>29</td>\n",
       "      <td>1</td>\n",
       "      <td>14</td>\n",
       "    </tr>\n",
       "    <tr>\n",
       "      <th>336771</th>\n",
       "      <td>8.5</td>\n",
       "      <td>2012-08-23 08:57:00+00:00</td>\n",
       "      <td>-73.984741</td>\n",
       "      <td>40.774113</td>\n",
       "      <td>-73.974159</td>\n",
       "      <td>40.757755</td>\n",
       "      <td>1</td>\n",
       "      <td>2012</td>\n",
       "      <td>8</td>\n",
       "      <td>23</td>\n",
       "      <td>3</td>\n",
       "      <td>8</td>\n",
       "    </tr>\n",
       "    <tr>\n",
       "      <th>198240</th>\n",
       "      <td>9.5</td>\n",
       "      <td>2013-02-21 09:04:00+00:00</td>\n",
       "      <td>-73.939346</td>\n",
       "      <td>40.804981</td>\n",
       "      <td>-73.962692</td>\n",
       "      <td>40.799610</td>\n",
       "      <td>4</td>\n",
       "      <td>2013</td>\n",
       "      <td>2</td>\n",
       "      <td>21</td>\n",
       "      <td>3</td>\n",
       "      <td>9</td>\n",
       "    </tr>\n",
       "  </tbody>\n",
       "</table>\n",
       "</div>"
      ],
      "text/plain": [
       "        fare_amount           pickup_datetime  pickup_longitude  \\\n",
       "483027          8.9 2009-09-02 21:14:00+00:00        -73.993179   \n",
       "459191          4.9 2009-10-28 18:38:14+00:00        -74.004372   \n",
       "310414          8.9 2009-09-29 14:08:36+00:00        -73.981613   \n",
       "336771          8.5 2012-08-23 08:57:00+00:00        -73.984741   \n",
       "198240          9.5 2013-02-21 09:04:00+00:00        -73.939346   \n",
       "\n",
       "        pickup_latitude  dropoff_longitude  dropoff_latitude  passenger_count  \\\n",
       "483027        40.761116         -73.993179         40.761116                1   \n",
       "459191        40.742470         -74.004372         40.733536                1   \n",
       "310414        40.729198         -73.981606         40.729202                1   \n",
       "336771        40.774113         -73.974159         40.757755                1   \n",
       "198240        40.804981         -73.962692         40.799610                4   \n",
       "\n",
       "        pickup_datetime_year  pickup_datetime_month  pickup_datetime_day  \\\n",
       "483027                  2009                      9                    2   \n",
       "459191                  2009                     10                   28   \n",
       "310414                  2009                      9                   29   \n",
       "336771                  2012                      8                   23   \n",
       "198240                  2013                      2                   21   \n",
       "\n",
       "        pickup_datetime_weekday  pickup_datetime_hour  \n",
       "483027                        2                    21  \n",
       "459191                        2                    18  \n",
       "310414                        1                    14  \n",
       "336771                        3                     8  \n",
       "198240                        3                     9  "
      ]
     },
     "execution_count": 59,
     "metadata": {},
     "output_type": "execute_result"
    }
   ],
   "source": [
    "add_date_parts(val, 'pickup_datetime')\n",
    "val.head()"
   ]
  },
  {
   "cell_type": "code",
   "execution_count": 60,
   "id": "7a95a490",
   "metadata": {
    "execution": {
     "iopub.execute_input": "2024-04-05T17:59:14.595233Z",
     "iopub.status.busy": "2024-04-05T17:59:14.594608Z",
     "iopub.status.idle": "2024-04-05T17:59:14.615647Z",
     "shell.execute_reply": "2024-04-05T17:59:14.614541Z"
    },
    "papermill": {
     "duration": 0.056724,
     "end_time": "2024-04-05T17:59:14.618096",
     "exception": false,
     "start_time": "2024-04-05T17:59:14.561372",
     "status": "completed"
    },
    "tags": []
   },
   "outputs": [
    {
     "data": {
      "text/html": [
       "<div>\n",
       "<style scoped>\n",
       "    .dataframe tbody tr th:only-of-type {\n",
       "        vertical-align: middle;\n",
       "    }\n",
       "\n",
       "    .dataframe tbody tr th {\n",
       "        vertical-align: top;\n",
       "    }\n",
       "\n",
       "    .dataframe thead th {\n",
       "        text-align: right;\n",
       "    }\n",
       "</style>\n",
       "<table border=\"1\" class=\"dataframe\">\n",
       "  <thead>\n",
       "    <tr style=\"text-align: right;\">\n",
       "      <th></th>\n",
       "      <th>key</th>\n",
       "      <th>pickup_datetime</th>\n",
       "      <th>pickup_longitude</th>\n",
       "      <th>pickup_latitude</th>\n",
       "      <th>dropoff_longitude</th>\n",
       "      <th>dropoff_latitude</th>\n",
       "      <th>passenger_count</th>\n",
       "      <th>pickup_datetime_year</th>\n",
       "      <th>pickup_datetime_month</th>\n",
       "      <th>pickup_datetime_day</th>\n",
       "      <th>pickup_datetime_weekday</th>\n",
       "      <th>pickup_datetime_hour</th>\n",
       "    </tr>\n",
       "  </thead>\n",
       "  <tbody>\n",
       "    <tr>\n",
       "      <th>0</th>\n",
       "      <td>2015-01-27 13:08:24.0000002</td>\n",
       "      <td>2015-01-27 13:08:24+00:00</td>\n",
       "      <td>-73.973320</td>\n",
       "      <td>40.763805</td>\n",
       "      <td>-73.981430</td>\n",
       "      <td>40.743835</td>\n",
       "      <td>1</td>\n",
       "      <td>2015</td>\n",
       "      <td>1</td>\n",
       "      <td>27</td>\n",
       "      <td>1</td>\n",
       "      <td>13</td>\n",
       "    </tr>\n",
       "    <tr>\n",
       "      <th>1</th>\n",
       "      <td>2015-01-27 13:08:24.0000003</td>\n",
       "      <td>2015-01-27 13:08:24+00:00</td>\n",
       "      <td>-73.986862</td>\n",
       "      <td>40.719383</td>\n",
       "      <td>-73.998886</td>\n",
       "      <td>40.739201</td>\n",
       "      <td>1</td>\n",
       "      <td>2015</td>\n",
       "      <td>1</td>\n",
       "      <td>27</td>\n",
       "      <td>1</td>\n",
       "      <td>13</td>\n",
       "    </tr>\n",
       "    <tr>\n",
       "      <th>2</th>\n",
       "      <td>2011-10-08 11:53:44.0000002</td>\n",
       "      <td>2011-10-08 11:53:44+00:00</td>\n",
       "      <td>-73.982521</td>\n",
       "      <td>40.751259</td>\n",
       "      <td>-73.979652</td>\n",
       "      <td>40.746140</td>\n",
       "      <td>1</td>\n",
       "      <td>2011</td>\n",
       "      <td>10</td>\n",
       "      <td>8</td>\n",
       "      <td>5</td>\n",
       "      <td>11</td>\n",
       "    </tr>\n",
       "    <tr>\n",
       "      <th>3</th>\n",
       "      <td>2012-12-01 21:12:12.0000002</td>\n",
       "      <td>2012-12-01 21:12:12+00:00</td>\n",
       "      <td>-73.981163</td>\n",
       "      <td>40.767807</td>\n",
       "      <td>-73.990448</td>\n",
       "      <td>40.751637</td>\n",
       "      <td>1</td>\n",
       "      <td>2012</td>\n",
       "      <td>12</td>\n",
       "      <td>1</td>\n",
       "      <td>5</td>\n",
       "      <td>21</td>\n",
       "    </tr>\n",
       "    <tr>\n",
       "      <th>4</th>\n",
       "      <td>2012-12-01 21:12:12.0000003</td>\n",
       "      <td>2012-12-01 21:12:12+00:00</td>\n",
       "      <td>-73.966049</td>\n",
       "      <td>40.789776</td>\n",
       "      <td>-73.988564</td>\n",
       "      <td>40.744427</td>\n",
       "      <td>1</td>\n",
       "      <td>2012</td>\n",
       "      <td>12</td>\n",
       "      <td>1</td>\n",
       "      <td>5</td>\n",
       "      <td>21</td>\n",
       "    </tr>\n",
       "  </tbody>\n",
       "</table>\n",
       "</div>"
      ],
      "text/plain": [
       "                           key           pickup_datetime  pickup_longitude  \\\n",
       "0  2015-01-27 13:08:24.0000002 2015-01-27 13:08:24+00:00        -73.973320   \n",
       "1  2015-01-27 13:08:24.0000003 2015-01-27 13:08:24+00:00        -73.986862   \n",
       "2  2011-10-08 11:53:44.0000002 2011-10-08 11:53:44+00:00        -73.982521   \n",
       "3  2012-12-01 21:12:12.0000002 2012-12-01 21:12:12+00:00        -73.981163   \n",
       "4  2012-12-01 21:12:12.0000003 2012-12-01 21:12:12+00:00        -73.966049   \n",
       "\n",
       "   pickup_latitude  dropoff_longitude  dropoff_latitude  passenger_count  \\\n",
       "0        40.763805         -73.981430         40.743835                1   \n",
       "1        40.719383         -73.998886         40.739201                1   \n",
       "2        40.751259         -73.979652         40.746140                1   \n",
       "3        40.767807         -73.990448         40.751637                1   \n",
       "4        40.789776         -73.988564         40.744427                1   \n",
       "\n",
       "   pickup_datetime_year  pickup_datetime_month  pickup_datetime_day  \\\n",
       "0                  2015                      1                   27   \n",
       "1                  2015                      1                   27   \n",
       "2                  2011                     10                    8   \n",
       "3                  2012                     12                    1   \n",
       "4                  2012                     12                    1   \n",
       "\n",
       "   pickup_datetime_weekday  pickup_datetime_hour  \n",
       "0                        1                    13  \n",
       "1                        1                    13  \n",
       "2                        5                    11  \n",
       "3                        5                    21  \n",
       "4                        5                    21  "
      ]
     },
     "execution_count": 60,
     "metadata": {},
     "output_type": "execute_result"
    }
   ],
   "source": [
    "add_date_parts(test_data, 'pickup_datetime')\n",
    "test_data.head()"
   ]
  },
  {
   "cell_type": "markdown",
   "id": "9e72648f",
   "metadata": {
    "papermill": {
     "duration": 0.030908,
     "end_time": "2024-04-05T17:59:14.680300",
     "exception": false,
     "start_time": "2024-04-05T17:59:14.649392",
     "status": "completed"
    },
    "tags": []
   },
   "source": [
    "#### Distance b/w pickup and drop locations\n",
    "\n",
    "We are going to use the [Haversine formula](https://en.wikipedia.org/wiki/Haversine_formula) for the Calculation of the Distance between 2 coordinate in the map\n",
    "\n",
    "Directly taking the function and copying it online."
   ]
  },
  {
   "cell_type": "code",
   "execution_count": 61,
   "id": "cade8869",
   "metadata": {
    "execution": {
     "iopub.execute_input": "2024-04-05T17:59:14.742825Z",
     "iopub.status.busy": "2024-04-05T17:59:14.742148Z",
     "iopub.status.idle": "2024-04-05T17:59:14.749227Z",
     "shell.execute_reply": "2024-04-05T17:59:14.748358Z"
    },
    "papermill": {
     "duration": 0.040877,
     "end_time": "2024-04-05T17:59:14.751499",
     "exception": false,
     "start_time": "2024-04-05T17:59:14.710622",
     "status": "completed"
    },
    "tags": []
   },
   "outputs": [],
   "source": [
    "import numpy as np\n",
    "\n",
    "def haversine_np(lon1, lat1, lon2, lat2):\n",
    "    \"\"\"\n",
    "    Calculate the great circle distance between two points\n",
    "    on the earth (specified in decimal degrees)\n",
    "\n",
    "    All args must be of equal length.    \n",
    "\n",
    "    \"\"\"\n",
    "    lon1, lat1, lon2, lat2 = map(np.radians, [lon1, lat1, lon2, lat2])\n",
    "\n",
    "    dlon = lon2 - lon1\n",
    "    dlat = lat2 - lat1\n",
    "\n",
    "    a = np.sin(dlat/2.0)**2 + np.cos(lat1) * np.cos(lat2) * np.sin(dlon/2.0)**2\n",
    "\n",
    "    c = 2 * np.arcsin(np.sqrt(a))\n",
    "    return c\n",
    "#     km = 6367 * c\n",
    "#     return km\n"
   ]
  },
  {
   "cell_type": "code",
   "execution_count": 62,
   "id": "95a9f5d9",
   "metadata": {
    "execution": {
     "iopub.execute_input": "2024-04-05T17:59:14.815974Z",
     "iopub.status.busy": "2024-04-05T17:59:14.814974Z",
     "iopub.status.idle": "2024-04-05T17:59:14.820400Z",
     "shell.execute_reply": "2024-04-05T17:59:14.819192Z"
    },
    "papermill": {
     "duration": 0.040289,
     "end_time": "2024-04-05T17:59:14.822681",
     "exception": false,
     "start_time": "2024-04-05T17:59:14.782392",
     "status": "completed"
    },
    "tags": []
   },
   "outputs": [],
   "source": [
    "def add_dist(df) :\n",
    "    df['distance'] = haversine_np(df.pickup_longitude, df.pickup_latitude, df.dropoff_longitude, df.dropoff_longitude)"
   ]
  },
  {
   "cell_type": "code",
   "execution_count": 63,
   "id": "5d2b54e4",
   "metadata": {
    "execution": {
     "iopub.execute_input": "2024-04-05T17:59:14.884489Z",
     "iopub.status.busy": "2024-04-05T17:59:14.884088Z",
     "iopub.status.idle": "2024-04-05T17:59:14.918776Z",
     "shell.execute_reply": "2024-04-05T17:59:14.917747Z"
    },
    "papermill": {
     "duration": 0.068492,
     "end_time": "2024-04-05T17:59:14.921114",
     "exception": false,
     "start_time": "2024-04-05T17:59:14.852622",
     "status": "completed"
    },
    "tags": []
   },
   "outputs": [],
   "source": [
    "add_dist(train)\n",
    "add_dist(val)\n",
    "add_dist(test_data)"
   ]
  },
  {
   "cell_type": "code",
   "execution_count": 64,
   "id": "b5aed297",
   "metadata": {
    "execution": {
     "iopub.execute_input": "2024-04-05T17:59:14.983180Z",
     "iopub.status.busy": "2024-04-05T17:59:14.982369Z",
     "iopub.status.idle": "2024-04-05T17:59:14.998754Z",
     "shell.execute_reply": "2024-04-05T17:59:14.997535Z"
    },
    "papermill": {
     "duration": 0.04974,
     "end_time": "2024-04-05T17:59:15.001152",
     "exception": false,
     "start_time": "2024-04-05T17:59:14.951412",
     "status": "completed"
    },
    "tags": []
   },
   "outputs": [
    {
     "data": {
      "text/html": [
       "<div>\n",
       "<style scoped>\n",
       "    .dataframe tbody tr th:only-of-type {\n",
       "        vertical-align: middle;\n",
       "    }\n",
       "\n",
       "    .dataframe tbody tr th {\n",
       "        vertical-align: top;\n",
       "    }\n",
       "\n",
       "    .dataframe thead th {\n",
       "        text-align: right;\n",
       "    }\n",
       "</style>\n",
       "<table border=\"1\" class=\"dataframe\">\n",
       "  <thead>\n",
       "    <tr style=\"text-align: right;\">\n",
       "      <th></th>\n",
       "      <th>fare_amount</th>\n",
       "      <th>pickup_datetime</th>\n",
       "      <th>pickup_longitude</th>\n",
       "      <th>pickup_latitude</th>\n",
       "      <th>dropoff_longitude</th>\n",
       "      <th>dropoff_latitude</th>\n",
       "      <th>passenger_count</th>\n",
       "      <th>pickup_datetime_year</th>\n",
       "      <th>pickup_datetime_month</th>\n",
       "      <th>pickup_datetime_day</th>\n",
       "      <th>pickup_datetime_weekday</th>\n",
       "      <th>pickup_datetime_hour</th>\n",
       "      <th>distance</th>\n",
       "    </tr>\n",
       "  </thead>\n",
       "  <tbody>\n",
       "    <tr>\n",
       "      <th>90475</th>\n",
       "      <td>8.100000</td>\n",
       "      <td>2009-11-21 01:29:00+00:00</td>\n",
       "      <td>-73.995415</td>\n",
       "      <td>40.745533</td>\n",
       "      <td>-73.969963</td>\n",
       "      <td>40.759899</td>\n",
       "      <td>1</td>\n",
       "      <td>2009</td>\n",
       "      <td>11</td>\n",
       "      <td>21</td>\n",
       "      <td>5</td>\n",
       "      <td>1</td>\n",
       "      <td>2.002163</td>\n",
       "    </tr>\n",
       "    <tr>\n",
       "      <th>320476</th>\n",
       "      <td>6.500000</td>\n",
       "      <td>2012-03-31 22:15:00+00:00</td>\n",
       "      <td>-73.996178</td>\n",
       "      <td>40.724167</td>\n",
       "      <td>-73.980553</td>\n",
       "      <td>40.722466</td>\n",
       "      <td>1</td>\n",
       "      <td>2012</td>\n",
       "      <td>3</td>\n",
       "      <td>31</td>\n",
       "      <td>5</td>\n",
       "      <td>22</td>\n",
       "      <td>2.001975</td>\n",
       "    </tr>\n",
       "    <tr>\n",
       "      <th>189863</th>\n",
       "      <td>23.299999</td>\n",
       "      <td>2009-10-31 22:04:00+00:00</td>\n",
       "      <td>-73.968178</td>\n",
       "      <td>40.786976</td>\n",
       "      <td>-73.996086</td>\n",
       "      <td>40.720158</td>\n",
       "      <td>5</td>\n",
       "      <td>2009</td>\n",
       "      <td>10</td>\n",
       "      <td>31</td>\n",
       "      <td>5</td>\n",
       "      <td>22</td>\n",
       "      <td>2.003342</td>\n",
       "    </tr>\n",
       "    <tr>\n",
       "      <th>25954</th>\n",
       "      <td>8.900000</td>\n",
       "      <td>2010-04-18 00:28:00+00:00</td>\n",
       "      <td>-73.982391</td>\n",
       "      <td>40.774143</td>\n",
       "      <td>-73.967094</td>\n",
       "      <td>40.806057</td>\n",
       "      <td>1</td>\n",
       "      <td>2010</td>\n",
       "      <td>4</td>\n",
       "      <td>18</td>\n",
       "      <td>6</td>\n",
       "      <td>0</td>\n",
       "      <td>2.002612</td>\n",
       "    </tr>\n",
       "    <tr>\n",
       "      <th>195808</th>\n",
       "      <td>7.000000</td>\n",
       "      <td>2015-01-08 10:03:13+00:00</td>\n",
       "      <td>-74.008781</td>\n",
       "      <td>40.714054</td>\n",
       "      <td>-73.997429</td>\n",
       "      <td>40.723392</td>\n",
       "      <td>1</td>\n",
       "      <td>2015</td>\n",
       "      <td>1</td>\n",
       "      <td>8</td>\n",
       "      <td>3</td>\n",
       "      <td>10</td>\n",
       "      <td>2.002093</td>\n",
       "    </tr>\n",
       "  </tbody>\n",
       "</table>\n",
       "</div>"
      ],
      "text/plain": [
       "        fare_amount           pickup_datetime  pickup_longitude  \\\n",
       "90475      8.100000 2009-11-21 01:29:00+00:00        -73.995415   \n",
       "320476     6.500000 2012-03-31 22:15:00+00:00        -73.996178   \n",
       "189863    23.299999 2009-10-31 22:04:00+00:00        -73.968178   \n",
       "25954      8.900000 2010-04-18 00:28:00+00:00        -73.982391   \n",
       "195808     7.000000 2015-01-08 10:03:13+00:00        -74.008781   \n",
       "\n",
       "        pickup_latitude  dropoff_longitude  dropoff_latitude  passenger_count  \\\n",
       "90475         40.745533         -73.969963         40.759899                1   \n",
       "320476        40.724167         -73.980553         40.722466                1   \n",
       "189863        40.786976         -73.996086         40.720158                5   \n",
       "25954         40.774143         -73.967094         40.806057                1   \n",
       "195808        40.714054         -73.997429         40.723392                1   \n",
       "\n",
       "        pickup_datetime_year  pickup_datetime_month  pickup_datetime_day  \\\n",
       "90475                   2009                     11                   21   \n",
       "320476                  2012                      3                   31   \n",
       "189863                  2009                     10                   31   \n",
       "25954                   2010                      4                   18   \n",
       "195808                  2015                      1                    8   \n",
       "\n",
       "        pickup_datetime_weekday  pickup_datetime_hour  distance  \n",
       "90475                         5                     1  2.002163  \n",
       "320476                        5                    22  2.001975  \n",
       "189863                        5                    22  2.003342  \n",
       "25954                         6                     0  2.002612  \n",
       "195808                        3                    10  2.002093  "
      ]
     },
     "execution_count": 64,
     "metadata": {},
     "output_type": "execute_result"
    }
   ],
   "source": [
    "train.head(5)"
   ]
  },
  {
   "cell_type": "markdown",
   "id": "88410a07",
   "metadata": {
    "papermill": {
     "duration": 0.030105,
     "end_time": "2024-04-05T17:59:15.061064",
     "exception": false,
     "start_time": "2024-04-05T17:59:15.030959",
     "status": "completed"
    },
    "tags": []
   },
   "source": [
    "#### Distance form popular landmarks\n",
    "\n",
    "popular land marks : \n",
    "- JFK airport\n",
    "- LGA Airport\n",
    "- EWR Airport\n",
    "- Times Square\n",
    "- Met Meuseum\n",
    "- WTC\n",
    "- Statue of Liberty\n",
    "- Empire state"
   ]
  },
  {
   "cell_type": "code",
   "execution_count": 65,
   "id": "c5c475a8",
   "metadata": {
    "execution": {
     "iopub.execute_input": "2024-04-05T17:59:15.123420Z",
     "iopub.status.busy": "2024-04-05T17:59:15.123070Z",
     "iopub.status.idle": "2024-04-05T17:59:15.128835Z",
     "shell.execute_reply": "2024-04-05T17:59:15.127672Z"
    },
    "papermill": {
     "duration": 0.039884,
     "end_time": "2024-04-05T17:59:15.131215",
     "exception": false,
     "start_time": "2024-04-05T17:59:15.091331",
     "status": "completed"
    },
    "tags": []
   },
   "outputs": [],
   "source": [
    "jfk_longlat = -73.7797, 40.6446\n",
    "lga_longlat = -73.8718, 40.7733\n",
    "ewa_longlat = -74.1745, 40.6895\n",
    "\n",
    "times_longlat = -73.985130, 40.758896\n",
    "met_longlat = -73.9632, 40.7794\n",
    "wtc_longlat = -74.013382, 40.712742\n",
    "\n",
    "liberty_longlat = -74.0445, 40.6892\n",
    "esb_longlat = -73.9857, 40.7484"
   ]
  },
  {
   "cell_type": "code",
   "execution_count": 66,
   "id": "9c1f8804",
   "metadata": {
    "execution": {
     "iopub.execute_input": "2024-04-05T17:59:15.194092Z",
     "iopub.status.busy": "2024-04-05T17:59:15.193728Z",
     "iopub.status.idle": "2024-04-05T17:59:15.199299Z",
     "shell.execute_reply": "2024-04-05T17:59:15.198190Z"
    },
    "papermill": {
     "duration": 0.039912,
     "end_time": "2024-04-05T17:59:15.201688",
     "exception": false,
     "start_time": "2024-04-05T17:59:15.161776",
     "status": "completed"
    },
    "tags": []
   },
   "outputs": [],
   "source": [
    "def add_landmark_drop_dist(df, landmark, landmark_longlat):\n",
    "    lon, lat = landmark_longlat\n",
    "    df[landmark + '_drop_dist'] = haversine_np(lon, lat, df.dropoff_longitude, df.dropoff_latitude)\n",
    "    \n",
    "def add_landmark_pick_dist(df, landmark, landmark_longlat):\n",
    "    lon, lat = landmark_longlat\n",
    "    df[landmark + '_pick_dist'] = haversine_np(lon, lat, df.dropoff_longitude, df.dropoff_latitude)"
   ]
  },
  {
   "cell_type": "code",
   "execution_count": 67,
   "id": "43147350",
   "metadata": {
    "execution": {
     "iopub.execute_input": "2024-04-05T17:59:15.263749Z",
     "iopub.status.busy": "2024-04-05T17:59:15.262987Z",
     "iopub.status.idle": "2024-04-05T17:59:15.269143Z",
     "shell.execute_reply": "2024-04-05T17:59:15.268022Z"
    },
    "papermill": {
     "duration": 0.039402,
     "end_time": "2024-04-05T17:59:15.271230",
     "exception": false,
     "start_time": "2024-04-05T17:59:15.231828",
     "status": "completed"
    },
    "tags": []
   },
   "outputs": [],
   "source": [
    "def add_landmark(df):\n",
    "    landmarks = [('jfk', jfk_longlat),\n",
    "                 ('lga', lga_longlat),\n",
    "                 ('ewa', ewa_longlat),\n",
    "                 ('times_square', times_longlat),\n",
    "                 ('met', met_longlat),\n",
    "                 ('wtc', wtc_longlat),\n",
    "                 ('esb', esb_longlat),\n",
    "                 ('liberty', liberty_longlat)]\n",
    "    for name, longlat in landmarks:\n",
    "        add_landmark_drop_dist(df, name, longlat)\n",
    "        # add_landmark_pick_dist(df, name, longlat)"
   ]
  },
  {
   "cell_type": "code",
   "execution_count": 68,
   "id": "2b7661a7",
   "metadata": {
    "execution": {
     "iopub.execute_input": "2024-04-05T17:59:15.333358Z",
     "iopub.status.busy": "2024-04-05T17:59:15.332980Z",
     "iopub.status.idle": "2024-04-05T17:59:15.339183Z",
     "shell.execute_reply": "2024-04-05T17:59:15.338336Z"
    },
    "papermill": {
     "duration": 0.039449,
     "end_time": "2024-04-05T17:59:15.340977",
     "exception": false,
     "start_time": "2024-04-05T17:59:15.301528",
     "status": "completed"
    },
    "tags": []
   },
   "outputs": [
    {
     "data": {
      "text/plain": [
       "Index(['fare_amount', 'pickup_datetime', 'pickup_longitude', 'pickup_latitude',\n",
       "       'dropoff_longitude', 'dropoff_latitude', 'passenger_count',\n",
       "       'pickup_datetime_year', 'pickup_datetime_month', 'pickup_datetime_day',\n",
       "       'pickup_datetime_weekday', 'pickup_datetime_hour', 'distance'],\n",
       "      dtype='object')"
      ]
     },
     "execution_count": 68,
     "metadata": {},
     "output_type": "execute_result"
    }
   ],
   "source": [
    "train.columns"
   ]
  },
  {
   "cell_type": "code",
   "execution_count": 69,
   "id": "20958339",
   "metadata": {
    "execution": {
     "iopub.execute_input": "2024-04-05T17:59:15.405338Z",
     "iopub.status.busy": "2024-04-05T17:59:15.404621Z",
     "iopub.status.idle": "2024-04-05T17:59:15.575779Z",
     "shell.execute_reply": "2024-04-05T17:59:15.574585Z"
    },
    "papermill": {
     "duration": 0.206058,
     "end_time": "2024-04-05T17:59:15.578289",
     "exception": false,
     "start_time": "2024-04-05T17:59:15.372231",
     "status": "completed"
    },
    "tags": []
   },
   "outputs": [],
   "source": [
    "add_landmark(train)\n",
    "add_landmark(val)\n",
    "add_landmark(test_data)"
   ]
  },
  {
   "cell_type": "code",
   "execution_count": 70,
   "id": "82e4f073",
   "metadata": {
    "execution": {
     "iopub.execute_input": "2024-04-05T17:59:15.642293Z",
     "iopub.status.busy": "2024-04-05T17:59:15.641923Z",
     "iopub.status.idle": "2024-04-05T17:59:15.648282Z",
     "shell.execute_reply": "2024-04-05T17:59:15.647312Z"
    },
    "papermill": {
     "duration": 0.039975,
     "end_time": "2024-04-05T17:59:15.650513",
     "exception": false,
     "start_time": "2024-04-05T17:59:15.610538",
     "status": "completed"
    },
    "tags": []
   },
   "outputs": [
    {
     "data": {
      "text/plain": [
       "['fare_amount',\n",
       " 'pickup_datetime',\n",
       " 'pickup_longitude',\n",
       " 'pickup_latitude',\n",
       " 'dropoff_longitude',\n",
       " 'dropoff_latitude',\n",
       " 'passenger_count',\n",
       " 'pickup_datetime_year',\n",
       " 'pickup_datetime_month',\n",
       " 'pickup_datetime_day',\n",
       " 'pickup_datetime_weekday',\n",
       " 'pickup_datetime_hour',\n",
       " 'distance',\n",
       " 'jfk_drop_dist',\n",
       " 'lga_drop_dist',\n",
       " 'ewa_drop_dist',\n",
       " 'times_square_drop_dist',\n",
       " 'met_drop_dist',\n",
       " 'wtc_drop_dist',\n",
       " 'esb_drop_dist',\n",
       " 'liberty_drop_dist']"
      ]
     },
     "execution_count": 70,
     "metadata": {},
     "output_type": "execute_result"
    }
   ],
   "source": [
    "train.columns.tolist()"
   ]
  },
  {
   "cell_type": "code",
   "execution_count": 71,
   "id": "ec6e5084",
   "metadata": {
    "execution": {
     "iopub.execute_input": "2024-04-05T17:59:15.713001Z",
     "iopub.status.busy": "2024-04-05T17:59:15.712627Z",
     "iopub.status.idle": "2024-04-05T17:59:15.948862Z",
     "shell.execute_reply": "2024-04-05T17:59:15.947751Z"
    },
    "papermill": {
     "duration": 0.270434,
     "end_time": "2024-04-05T17:59:15.951346",
     "exception": false,
     "start_time": "2024-04-05T17:59:15.680912",
     "status": "completed"
    },
    "tags": []
   },
   "outputs": [
    {
     "data": {
      "text/html": [
       "<div>\n",
       "<style scoped>\n",
       "    .dataframe tbody tr th:only-of-type {\n",
       "        vertical-align: middle;\n",
       "    }\n",
       "\n",
       "    .dataframe tbody tr th {\n",
       "        vertical-align: top;\n",
       "    }\n",
       "\n",
       "    .dataframe thead th {\n",
       "        text-align: right;\n",
       "    }\n",
       "</style>\n",
       "<table border=\"1\" class=\"dataframe\">\n",
       "  <thead>\n",
       "    <tr style=\"text-align: right;\">\n",
       "      <th></th>\n",
       "      <th>fare_amount</th>\n",
       "      <th>pickup_datetime</th>\n",
       "      <th>pickup_longitude</th>\n",
       "      <th>pickup_latitude</th>\n",
       "      <th>dropoff_longitude</th>\n",
       "      <th>dropoff_latitude</th>\n",
       "      <th>passenger_count</th>\n",
       "      <th>pickup_datetime_year</th>\n",
       "      <th>pickup_datetime_month</th>\n",
       "      <th>pickup_datetime_day</th>\n",
       "      <th>...</th>\n",
       "      <th>pickup_datetime_hour</th>\n",
       "      <th>distance</th>\n",
       "      <th>jfk_drop_dist</th>\n",
       "      <th>lga_drop_dist</th>\n",
       "      <th>ewa_drop_dist</th>\n",
       "      <th>times_square_drop_dist</th>\n",
       "      <th>met_drop_dist</th>\n",
       "      <th>wtc_drop_dist</th>\n",
       "      <th>esb_drop_dist</th>\n",
       "      <th>liberty_drop_dist</th>\n",
       "    </tr>\n",
       "  </thead>\n",
       "  <tbody>\n",
       "    <tr>\n",
       "      <th>90475</th>\n",
       "      <td>8.100000</td>\n",
       "      <td>2009-11-21 01:29:00+00:00</td>\n",
       "      <td>-73.995415</td>\n",
       "      <td>40.745533</td>\n",
       "      <td>-73.969963</td>\n",
       "      <td>40.759899</td>\n",
       "      <td>1</td>\n",
       "      <td>2009</td>\n",
       "      <td>11</td>\n",
       "      <td>21</td>\n",
       "      <td>...</td>\n",
       "      <td>1</td>\n",
       "      <td>2.002163</td>\n",
       "      <td>0.003223</td>\n",
       "      <td>0.001319</td>\n",
       "      <td>0.002971</td>\n",
       "      <td>0.000201</td>\n",
       "      <td>0.000352</td>\n",
       "      <td>0.001004</td>\n",
       "      <td>0.000289</td>\n",
       "      <td>0.001579</td>\n",
       "    </tr>\n",
       "    <tr>\n",
       "      <th>320476</th>\n",
       "      <td>6.500000</td>\n",
       "      <td>2012-03-31 22:15:00+00:00</td>\n",
       "      <td>-73.996178</td>\n",
       "      <td>40.724167</td>\n",
       "      <td>-73.980553</td>\n",
       "      <td>40.722466</td>\n",
       "      <td>1</td>\n",
       "      <td>2012</td>\n",
       "      <td>3</td>\n",
       "      <td>31</td>\n",
       "      <td>...</td>\n",
       "      <td>22</td>\n",
       "      <td>2.001975</td>\n",
       "      <td>0.002986</td>\n",
       "      <td>0.001690</td>\n",
       "      <td>0.002630</td>\n",
       "      <td>0.000639</td>\n",
       "      <td>0.001020</td>\n",
       "      <td>0.000466</td>\n",
       "      <td>0.000458</td>\n",
       "      <td>0.001026</td>\n",
       "    </tr>\n",
       "    <tr>\n",
       "      <th>189863</th>\n",
       "      <td>23.299999</td>\n",
       "      <td>2009-10-31 22:04:00+00:00</td>\n",
       "      <td>-73.968178</td>\n",
       "      <td>40.786976</td>\n",
       "      <td>-73.996086</td>\n",
       "      <td>40.720158</td>\n",
       "      <td>5</td>\n",
       "      <td>2009</td>\n",
       "      <td>10</td>\n",
       "      <td>31</td>\n",
       "      <td>...</td>\n",
       "      <td>22</td>\n",
       "      <td>2.003342</td>\n",
       "      <td>0.003153</td>\n",
       "      <td>0.001887</td>\n",
       "      <td>0.002421</td>\n",
       "      <td>0.000691</td>\n",
       "      <td>0.001122</td>\n",
       "      <td>0.000263</td>\n",
       "      <td>0.000512</td>\n",
       "      <td>0.000838</td>\n",
       "    </tr>\n",
       "    <tr>\n",
       "      <th>25954</th>\n",
       "      <td>8.900000</td>\n",
       "      <td>2010-04-18 00:28:00+00:00</td>\n",
       "      <td>-73.982391</td>\n",
       "      <td>40.774143</td>\n",
       "      <td>-73.967094</td>\n",
       "      <td>40.806057</td>\n",
       "      <td>1</td>\n",
       "      <td>2010</td>\n",
       "      <td>4</td>\n",
       "      <td>18</td>\n",
       "      <td>...</td>\n",
       "      <td>0</td>\n",
       "      <td>2.002612</td>\n",
       "      <td>0.003753</td>\n",
       "      <td>0.001383</td>\n",
       "      <td>0.003415</td>\n",
       "      <td>0.000857</td>\n",
       "      <td>0.000468</td>\n",
       "      <td>0.001740</td>\n",
       "      <td>0.001036</td>\n",
       "      <td>0.002282</td>\n",
       "    </tr>\n",
       "    <tr>\n",
       "      <th>195808</th>\n",
       "      <td>7.000000</td>\n",
       "      <td>2015-01-08 10:03:13+00:00</td>\n",
       "      <td>-74.008781</td>\n",
       "      <td>40.714054</td>\n",
       "      <td>-73.997429</td>\n",
       "      <td>40.723392</td>\n",
       "      <td>1</td>\n",
       "      <td>2015</td>\n",
       "      <td>1</td>\n",
       "      <td>8</td>\n",
       "      <td>...</td>\n",
       "      <td>10</td>\n",
       "      <td>2.002093</td>\n",
       "      <td>0.003193</td>\n",
       "      <td>0.001876</td>\n",
       "      <td>0.002416</td>\n",
       "      <td>0.000641</td>\n",
       "      <td>0.001077</td>\n",
       "      <td>0.000281</td>\n",
       "      <td>0.000463</td>\n",
       "      <td>0.000863</td>\n",
       "    </tr>\n",
       "    <tr>\n",
       "      <th>...</th>\n",
       "      <td>...</td>\n",
       "      <td>...</td>\n",
       "      <td>...</td>\n",
       "      <td>...</td>\n",
       "      <td>...</td>\n",
       "      <td>...</td>\n",
       "      <td>...</td>\n",
       "      <td>...</td>\n",
       "      <td>...</td>\n",
       "      <td>...</td>\n",
       "      <td>...</td>\n",
       "      <td>...</td>\n",
       "      <td>...</td>\n",
       "      <td>...</td>\n",
       "      <td>...</td>\n",
       "      <td>...</td>\n",
       "      <td>...</td>\n",
       "      <td>...</td>\n",
       "      <td>...</td>\n",
       "      <td>...</td>\n",
       "      <td>...</td>\n",
       "    </tr>\n",
       "    <tr>\n",
       "      <th>516240</th>\n",
       "      <td>5.000000</td>\n",
       "      <td>2015-05-24 04:40:59+00:00</td>\n",
       "      <td>-73.985359</td>\n",
       "      <td>40.727528</td>\n",
       "      <td>-73.979675</td>\n",
       "      <td>40.739090</td>\n",
       "      <td>1</td>\n",
       "      <td>2015</td>\n",
       "      <td>5</td>\n",
       "      <td>24</td>\n",
       "      <td>...</td>\n",
       "      <td>4</td>\n",
       "      <td>2.002018</td>\n",
       "      <td>0.003118</td>\n",
       "      <td>0.001546</td>\n",
       "      <td>0.002719</td>\n",
       "      <td>0.000353</td>\n",
       "      <td>0.000736</td>\n",
       "      <td>0.000640</td>\n",
       "      <td>0.000181</td>\n",
       "      <td>0.001222</td>\n",
       "    </tr>\n",
       "    <tr>\n",
       "      <th>376222</th>\n",
       "      <td>7.700000</td>\n",
       "      <td>2011-04-11 21:10:00+00:00</td>\n",
       "      <td>-73.952942</td>\n",
       "      <td>40.783051</td>\n",
       "      <td>-73.967659</td>\n",
       "      <td>40.800373</td>\n",
       "      <td>5</td>\n",
       "      <td>2011</td>\n",
       "      <td>4</td>\n",
       "      <td>11</td>\n",
       "      <td>...</td>\n",
       "      <td>21</td>\n",
       "      <td>2.002778</td>\n",
       "      <td>0.003684</td>\n",
       "      <td>0.001352</td>\n",
       "      <td>0.003350</td>\n",
       "      <td>0.000760</td>\n",
       "      <td>0.000371</td>\n",
       "      <td>0.001645</td>\n",
       "      <td>0.000938</td>\n",
       "      <td>0.002190</td>\n",
       "    </tr>\n",
       "    <tr>\n",
       "      <th>479315</th>\n",
       "      <td>5.700000</td>\n",
       "      <td>2010-10-20 01:44:14+00:00</td>\n",
       "      <td>-73.993790</td>\n",
       "      <td>40.721069</td>\n",
       "      <td>-73.987717</td>\n",
       "      <td>40.710655</td>\n",
       "      <td>1</td>\n",
       "      <td>2010</td>\n",
       "      <td>10</td>\n",
       "      <td>20</td>\n",
       "      <td>...</td>\n",
       "      <td>1</td>\n",
       "      <td>2.002046</td>\n",
       "      <td>0.002985</td>\n",
       "      <td>0.001883</td>\n",
       "      <td>0.002499</td>\n",
       "      <td>0.000843</td>\n",
       "      <td>0.001243</td>\n",
       "      <td>0.000342</td>\n",
       "      <td>0.000659</td>\n",
       "      <td>0.000840</td>\n",
       "    </tr>\n",
       "    <tr>\n",
       "      <th>214228</th>\n",
       "      <td>7.500000</td>\n",
       "      <td>2014-09-09 21:35:00+00:00</td>\n",
       "      <td>-73.965958</td>\n",
       "      <td>40.760506</td>\n",
       "      <td>-73.981697</td>\n",
       "      <td>40.743134</td>\n",
       "      <td>5</td>\n",
       "      <td>2014</td>\n",
       "      <td>9</td>\n",
       "      <td>9</td>\n",
       "      <td>...</td>\n",
       "      <td>21</td>\n",
       "      <td>2.002629</td>\n",
       "      <td>0.003178</td>\n",
       "      <td>0.001545</td>\n",
       "      <td>0.002717</td>\n",
       "      <td>0.000279</td>\n",
       "      <td>0.000679</td>\n",
       "      <td>0.000676</td>\n",
       "      <td>0.000106</td>\n",
       "      <td>0.001256</td>\n",
       "    </tr>\n",
       "    <tr>\n",
       "      <th>469328</th>\n",
       "      <td>10.100000</td>\n",
       "      <td>2009-08-14 21:55:00+00:00</td>\n",
       "      <td>-73.976036</td>\n",
       "      <td>40.754021</td>\n",
       "      <td>-73.972633</td>\n",
       "      <td>40.785610</td>\n",
       "      <td>5</td>\n",
       "      <td>2009</td>\n",
       "      <td>8</td>\n",
       "      <td>14</td>\n",
       "      <td>...</td>\n",
       "      <td>21</td>\n",
       "      <td>2.002358</td>\n",
       "      <td>0.003546</td>\n",
       "      <td>0.001350</td>\n",
       "      <td>0.003153</td>\n",
       "      <td>0.000495</td>\n",
       "      <td>0.000165</td>\n",
       "      <td>0.001381</td>\n",
       "      <td>0.000672</td>\n",
       "      <td>0.001933</td>\n",
       "    </tr>\n",
       "  </tbody>\n",
       "</table>\n",
       "<p>430990 rows × 21 columns</p>\n",
       "</div>"
      ],
      "text/plain": [
       "        fare_amount           pickup_datetime  pickup_longitude  \\\n",
       "90475      8.100000 2009-11-21 01:29:00+00:00        -73.995415   \n",
       "320476     6.500000 2012-03-31 22:15:00+00:00        -73.996178   \n",
       "189863    23.299999 2009-10-31 22:04:00+00:00        -73.968178   \n",
       "25954      8.900000 2010-04-18 00:28:00+00:00        -73.982391   \n",
       "195808     7.000000 2015-01-08 10:03:13+00:00        -74.008781   \n",
       "...             ...                       ...               ...   \n",
       "516240     5.000000 2015-05-24 04:40:59+00:00        -73.985359   \n",
       "376222     7.700000 2011-04-11 21:10:00+00:00        -73.952942   \n",
       "479315     5.700000 2010-10-20 01:44:14+00:00        -73.993790   \n",
       "214228     7.500000 2014-09-09 21:35:00+00:00        -73.965958   \n",
       "469328    10.100000 2009-08-14 21:55:00+00:00        -73.976036   \n",
       "\n",
       "        pickup_latitude  dropoff_longitude  dropoff_latitude  passenger_count  \\\n",
       "90475         40.745533         -73.969963         40.759899                1   \n",
       "320476        40.724167         -73.980553         40.722466                1   \n",
       "189863        40.786976         -73.996086         40.720158                5   \n",
       "25954         40.774143         -73.967094         40.806057                1   \n",
       "195808        40.714054         -73.997429         40.723392                1   \n",
       "...                 ...                ...               ...              ...   \n",
       "516240        40.727528         -73.979675         40.739090                1   \n",
       "376222        40.783051         -73.967659         40.800373                5   \n",
       "479315        40.721069         -73.987717         40.710655                1   \n",
       "214228        40.760506         -73.981697         40.743134                5   \n",
       "469328        40.754021         -73.972633         40.785610                5   \n",
       "\n",
       "        pickup_datetime_year  pickup_datetime_month  pickup_datetime_day  ...  \\\n",
       "90475                   2009                     11                   21  ...   \n",
       "320476                  2012                      3                   31  ...   \n",
       "189863                  2009                     10                   31  ...   \n",
       "25954                   2010                      4                   18  ...   \n",
       "195808                  2015                      1                    8  ...   \n",
       "...                      ...                    ...                  ...  ...   \n",
       "516240                  2015                      5                   24  ...   \n",
       "376222                  2011                      4                   11  ...   \n",
       "479315                  2010                     10                   20  ...   \n",
       "214228                  2014                      9                    9  ...   \n",
       "469328                  2009                      8                   14  ...   \n",
       "\n",
       "        pickup_datetime_hour  distance  jfk_drop_dist  lga_drop_dist  \\\n",
       "90475                      1  2.002163       0.003223       0.001319   \n",
       "320476                    22  2.001975       0.002986       0.001690   \n",
       "189863                    22  2.003342       0.003153       0.001887   \n",
       "25954                      0  2.002612       0.003753       0.001383   \n",
       "195808                    10  2.002093       0.003193       0.001876   \n",
       "...                      ...       ...            ...            ...   \n",
       "516240                     4  2.002018       0.003118       0.001546   \n",
       "376222                    21  2.002778       0.003684       0.001352   \n",
       "479315                     1  2.002046       0.002985       0.001883   \n",
       "214228                    21  2.002629       0.003178       0.001545   \n",
       "469328                    21  2.002358       0.003546       0.001350   \n",
       "\n",
       "        ewa_drop_dist  times_square_drop_dist  met_drop_dist  wtc_drop_dist  \\\n",
       "90475        0.002971                0.000201       0.000352       0.001004   \n",
       "320476       0.002630                0.000639       0.001020       0.000466   \n",
       "189863       0.002421                0.000691       0.001122       0.000263   \n",
       "25954        0.003415                0.000857       0.000468       0.001740   \n",
       "195808       0.002416                0.000641       0.001077       0.000281   \n",
       "...               ...                     ...            ...            ...   \n",
       "516240       0.002719                0.000353       0.000736       0.000640   \n",
       "376222       0.003350                0.000760       0.000371       0.001645   \n",
       "479315       0.002499                0.000843       0.001243       0.000342   \n",
       "214228       0.002717                0.000279       0.000679       0.000676   \n",
       "469328       0.003153                0.000495       0.000165       0.001381   \n",
       "\n",
       "        esb_drop_dist  liberty_drop_dist  \n",
       "90475        0.000289           0.001579  \n",
       "320476       0.000458           0.001026  \n",
       "189863       0.000512           0.000838  \n",
       "25954        0.001036           0.002282  \n",
       "195808       0.000463           0.000863  \n",
       "...               ...                ...  \n",
       "516240       0.000181           0.001222  \n",
       "376222       0.000938           0.002190  \n",
       "479315       0.000659           0.000840  \n",
       "214228       0.000106           0.001256  \n",
       "469328       0.000672           0.001933  \n",
       "\n",
       "[430990 rows x 21 columns]"
      ]
     },
     "execution_count": 71,
     "metadata": {},
     "output_type": "execute_result"
    }
   ],
   "source": [
    "train"
   ]
  },
  {
   "cell_type": "code",
   "execution_count": 72,
   "id": "541a185c",
   "metadata": {
    "execution": {
     "iopub.execute_input": "2024-04-05T17:59:16.016990Z",
     "iopub.status.busy": "2024-04-05T17:59:16.016579Z",
     "iopub.status.idle": "2024-04-05T17:59:16.444186Z",
     "shell.execute_reply": "2024-04-05T17:59:16.443205Z"
    },
    "papermill": {
     "duration": 0.462961,
     "end_time": "2024-04-05T17:59:16.446684",
     "exception": false,
     "start_time": "2024-04-05T17:59:15.983723",
     "status": "completed"
    },
    "tags": []
   },
   "outputs": [
    {
     "data": {
      "text/html": [
       "<div>\n",
       "<style scoped>\n",
       "    .dataframe tbody tr th:only-of-type {\n",
       "        vertical-align: middle;\n",
       "    }\n",
       "\n",
       "    .dataframe tbody tr th {\n",
       "        vertical-align: top;\n",
       "    }\n",
       "\n",
       "    .dataframe thead th {\n",
       "        text-align: right;\n",
       "    }\n",
       "</style>\n",
       "<table border=\"1\" class=\"dataframe\">\n",
       "  <thead>\n",
       "    <tr style=\"text-align: right;\">\n",
       "      <th></th>\n",
       "      <th>count</th>\n",
       "      <th>mean</th>\n",
       "      <th>std</th>\n",
       "      <th>min</th>\n",
       "      <th>25%</th>\n",
       "      <th>50%</th>\n",
       "      <th>75%</th>\n",
       "      <th>max</th>\n",
       "    </tr>\n",
       "  </thead>\n",
       "  <tbody>\n",
       "    <tr>\n",
       "      <th>fare_amount</th>\n",
       "      <td>430990.0</td>\n",
       "      <td>11.340783</td>\n",
       "      <td>9.725743</td>\n",
       "      <td>1.000000e+00</td>\n",
       "      <td>6.000000</td>\n",
       "      <td>8.500000</td>\n",
       "      <td>12.500000</td>\n",
       "      <td>499.000000</td>\n",
       "    </tr>\n",
       "    <tr>\n",
       "      <th>pickup_longitude</th>\n",
       "      <td>430990.0</td>\n",
       "      <td>-73.975105</td>\n",
       "      <td>0.039283</td>\n",
       "      <td>-7.493459e+01</td>\n",
       "      <td>-73.992210</td>\n",
       "      <td>-73.982094</td>\n",
       "      <td>-73.968369</td>\n",
       "      <td>-72.471581</td>\n",
       "    </tr>\n",
       "    <tr>\n",
       "      <th>pickup_latitude</th>\n",
       "      <td>430990.0</td>\n",
       "      <td>40.750999</td>\n",
       "      <td>0.029997</td>\n",
       "      <td>4.006390e+01</td>\n",
       "      <td>40.736546</td>\n",
       "      <td>40.753368</td>\n",
       "      <td>40.767483</td>\n",
       "      <td>41.787712</td>\n",
       "    </tr>\n",
       "    <tr>\n",
       "      <th>dropoff_longitude</th>\n",
       "      <td>430990.0</td>\n",
       "      <td>-73.974373</td>\n",
       "      <td>0.038514</td>\n",
       "      <td>-7.494644e+01</td>\n",
       "      <td>-73.991608</td>\n",
       "      <td>-73.980621</td>\n",
       "      <td>-73.965446</td>\n",
       "      <td>-72.113823</td>\n",
       "    </tr>\n",
       "    <tr>\n",
       "      <th>dropoff_latitude</th>\n",
       "      <td>430990.0</td>\n",
       "      <td>40.751320</td>\n",
       "      <td>0.033167</td>\n",
       "      <td>4.005421e+01</td>\n",
       "      <td>40.735512</td>\n",
       "      <td>40.753796</td>\n",
       "      <td>40.768387</td>\n",
       "      <td>41.806301</td>\n",
       "    </tr>\n",
       "    <tr>\n",
       "      <th>passenger_count</th>\n",
       "      <td>430990.0</td>\n",
       "      <td>1.691944</td>\n",
       "      <td>1.307607</td>\n",
       "      <td>1.000000e+00</td>\n",
       "      <td>1.000000</td>\n",
       "      <td>1.000000</td>\n",
       "      <td>2.000000</td>\n",
       "      <td>6.000000</td>\n",
       "    </tr>\n",
       "    <tr>\n",
       "      <th>pickup_datetime_year</th>\n",
       "      <td>430990.0</td>\n",
       "      <td>2011.738405</td>\n",
       "      <td>1.863615</td>\n",
       "      <td>2.009000e+03</td>\n",
       "      <td>2010.000000</td>\n",
       "      <td>2012.000000</td>\n",
       "      <td>2013.000000</td>\n",
       "      <td>2015.000000</td>\n",
       "    </tr>\n",
       "    <tr>\n",
       "      <th>pickup_datetime_month</th>\n",
       "      <td>430990.0</td>\n",
       "      <td>6.271097</td>\n",
       "      <td>3.436970</td>\n",
       "      <td>1.000000e+00</td>\n",
       "      <td>3.000000</td>\n",
       "      <td>6.000000</td>\n",
       "      <td>9.000000</td>\n",
       "      <td>12.000000</td>\n",
       "    </tr>\n",
       "    <tr>\n",
       "      <th>pickup_datetime_day</th>\n",
       "      <td>430990.0</td>\n",
       "      <td>15.724492</td>\n",
       "      <td>8.691109</td>\n",
       "      <td>1.000000e+00</td>\n",
       "      <td>8.000000</td>\n",
       "      <td>16.000000</td>\n",
       "      <td>23.000000</td>\n",
       "      <td>31.000000</td>\n",
       "    </tr>\n",
       "    <tr>\n",
       "      <th>pickup_datetime_weekday</th>\n",
       "      <td>430990.0</td>\n",
       "      <td>3.037210</td>\n",
       "      <td>1.951696</td>\n",
       "      <td>0.000000e+00</td>\n",
       "      <td>1.000000</td>\n",
       "      <td>3.000000</td>\n",
       "      <td>5.000000</td>\n",
       "      <td>6.000000</td>\n",
       "    </tr>\n",
       "    <tr>\n",
       "      <th>pickup_datetime_hour</th>\n",
       "      <td>430990.0</td>\n",
       "      <td>13.503564</td>\n",
       "      <td>6.515723</td>\n",
       "      <td>0.000000e+00</td>\n",
       "      <td>9.000000</td>\n",
       "      <td>14.000000</td>\n",
       "      <td>19.000000</td>\n",
       "      <td>23.000000</td>\n",
       "    </tr>\n",
       "    <tr>\n",
       "      <th>distance</th>\n",
       "      <td>430990.0</td>\n",
       "      <td>2.002335</td>\n",
       "      <td>0.000782</td>\n",
       "      <td>1.970663e+00</td>\n",
       "      <td>2.002145</td>\n",
       "      <td>2.002457</td>\n",
       "      <td>2.002728</td>\n",
       "      <td>2.027064</td>\n",
       "    </tr>\n",
       "    <tr>\n",
       "      <th>jfk_drop_dist</th>\n",
       "      <td>430990.0</td>\n",
       "      <td>0.003235</td>\n",
       "      <td>0.000488</td>\n",
       "      <td>1.045548e-05</td>\n",
       "      <td>0.003173</td>\n",
       "      <td>0.003275</td>\n",
       "      <td>0.003389</td>\n",
       "      <td>0.022173</td>\n",
       "    </tr>\n",
       "    <tr>\n",
       "      <th>lga_drop_dist</th>\n",
       "      <td>430990.0</td>\n",
       "      <td>0.001533</td>\n",
       "      <td>0.000478</td>\n",
       "      <td>9.971403e-06</td>\n",
       "      <td>0.001332</td>\n",
       "      <td>0.001509</td>\n",
       "      <td>0.001729</td>\n",
       "      <td>0.023668</td>\n",
       "    </tr>\n",
       "    <tr>\n",
       "      <th>ewa_drop_dist</th>\n",
       "      <td>430990.0</td>\n",
       "      <td>0.002901</td>\n",
       "      <td>0.000591</td>\n",
       "      <td>2.029927e-05</td>\n",
       "      <td>0.002588</td>\n",
       "      <td>0.002821</td>\n",
       "      <td>0.003108</td>\n",
       "      <td>0.027448</td>\n",
       "    </tr>\n",
       "    <tr>\n",
       "      <th>times_square_drop_dist</th>\n",
       "      <td>430990.0</td>\n",
       "      <td>0.000532</td>\n",
       "      <td>0.000591</td>\n",
       "      <td>3.114022e-07</td>\n",
       "      <td>0.000203</td>\n",
       "      <td>0.000396</td>\n",
       "      <td>0.000635</td>\n",
       "      <td>0.025106</td>\n",
       "    </tr>\n",
       "    <tr>\n",
       "      <th>met_drop_dist</th>\n",
       "      <td>430990.0</td>\n",
       "      <td>0.000706</td>\n",
       "      <td>0.000598</td>\n",
       "      <td>4.899556e-06</td>\n",
       "      <td>0.000335</td>\n",
       "      <td>0.000583</td>\n",
       "      <td>0.000926</td>\n",
       "      <td>0.024876</td>\n",
       "    </tr>\n",
       "    <tr>\n",
       "      <th>wtc_drop_dist</th>\n",
       "      <td>430990.0</td>\n",
       "      <td>0.000958</td>\n",
       "      <td>0.000629</td>\n",
       "      <td>3.991463e-06</td>\n",
       "      <td>0.000584</td>\n",
       "      <td>0.000882</td>\n",
       "      <td>0.001221</td>\n",
       "      <td>0.025369</td>\n",
       "    </tr>\n",
       "    <tr>\n",
       "      <th>esb_drop_dist</th>\n",
       "      <td>430990.0</td>\n",
       "      <td>0.000526</td>\n",
       "      <td>0.000585</td>\n",
       "      <td>6.184144e-07</td>\n",
       "      <td>0.000212</td>\n",
       "      <td>0.000369</td>\n",
       "      <td>0.000659</td>\n",
       "      <td>0.025087</td>\n",
       "    </tr>\n",
       "    <tr>\n",
       "      <th>liberty_drop_dist</th>\n",
       "      <td>430990.0</td>\n",
       "      <td>0.001498</td>\n",
       "      <td>0.000623</td>\n",
       "      <td>4.836692e-05</td>\n",
       "      <td>0.001125</td>\n",
       "      <td>0.001432</td>\n",
       "      <td>0.001775</td>\n",
       "      <td>0.025735</td>\n",
       "    </tr>\n",
       "  </tbody>\n",
       "</table>\n",
       "</div>"
      ],
      "text/plain": [
       "                            count         mean       std           min  \\\n",
       "fare_amount              430990.0    11.340783  9.725743  1.000000e+00   \n",
       "pickup_longitude         430990.0   -73.975105  0.039283 -7.493459e+01   \n",
       "pickup_latitude          430990.0    40.750999  0.029997  4.006390e+01   \n",
       "dropoff_longitude        430990.0   -73.974373  0.038514 -7.494644e+01   \n",
       "dropoff_latitude         430990.0    40.751320  0.033167  4.005421e+01   \n",
       "passenger_count          430990.0     1.691944  1.307607  1.000000e+00   \n",
       "pickup_datetime_year     430990.0  2011.738405  1.863615  2.009000e+03   \n",
       "pickup_datetime_month    430990.0     6.271097  3.436970  1.000000e+00   \n",
       "pickup_datetime_day      430990.0    15.724492  8.691109  1.000000e+00   \n",
       "pickup_datetime_weekday  430990.0     3.037210  1.951696  0.000000e+00   \n",
       "pickup_datetime_hour     430990.0    13.503564  6.515723  0.000000e+00   \n",
       "distance                 430990.0     2.002335  0.000782  1.970663e+00   \n",
       "jfk_drop_dist            430990.0     0.003235  0.000488  1.045548e-05   \n",
       "lga_drop_dist            430990.0     0.001533  0.000478  9.971403e-06   \n",
       "ewa_drop_dist            430990.0     0.002901  0.000591  2.029927e-05   \n",
       "times_square_drop_dist   430990.0     0.000532  0.000591  3.114022e-07   \n",
       "met_drop_dist            430990.0     0.000706  0.000598  4.899556e-06   \n",
       "wtc_drop_dist            430990.0     0.000958  0.000629  3.991463e-06   \n",
       "esb_drop_dist            430990.0     0.000526  0.000585  6.184144e-07   \n",
       "liberty_drop_dist        430990.0     0.001498  0.000623  4.836692e-05   \n",
       "\n",
       "                                 25%          50%          75%          max  \n",
       "fare_amount                 6.000000     8.500000    12.500000   499.000000  \n",
       "pickup_longitude          -73.992210   -73.982094   -73.968369   -72.471581  \n",
       "pickup_latitude            40.736546    40.753368    40.767483    41.787712  \n",
       "dropoff_longitude         -73.991608   -73.980621   -73.965446   -72.113823  \n",
       "dropoff_latitude           40.735512    40.753796    40.768387    41.806301  \n",
       "passenger_count             1.000000     1.000000     2.000000     6.000000  \n",
       "pickup_datetime_year     2010.000000  2012.000000  2013.000000  2015.000000  \n",
       "pickup_datetime_month       3.000000     6.000000     9.000000    12.000000  \n",
       "pickup_datetime_day         8.000000    16.000000    23.000000    31.000000  \n",
       "pickup_datetime_weekday     1.000000     3.000000     5.000000     6.000000  \n",
       "pickup_datetime_hour        9.000000    14.000000    19.000000    23.000000  \n",
       "distance                    2.002145     2.002457     2.002728     2.027064  \n",
       "jfk_drop_dist               0.003173     0.003275     0.003389     0.022173  \n",
       "lga_drop_dist               0.001332     0.001509     0.001729     0.023668  \n",
       "ewa_drop_dist               0.002588     0.002821     0.003108     0.027448  \n",
       "times_square_drop_dist      0.000203     0.000396     0.000635     0.025106  \n",
       "met_drop_dist               0.000335     0.000583     0.000926     0.024876  \n",
       "wtc_drop_dist               0.000584     0.000882     0.001221     0.025369  \n",
       "esb_drop_dist               0.000212     0.000369     0.000659     0.025087  \n",
       "liberty_drop_dist           0.001125     0.001432     0.001775     0.025735  "
      ]
     },
     "execution_count": 72,
     "metadata": {},
     "output_type": "execute_result"
    }
   ],
   "source": [
    "train.describe().T"
   ]
  },
  {
   "cell_type": "code",
   "execution_count": 73,
   "id": "855f6a12",
   "metadata": {
    "execution": {
     "iopub.execute_input": "2024-04-05T17:59:16.514455Z",
     "iopub.status.busy": "2024-04-05T17:59:16.514068Z",
     "iopub.status.idle": "2024-04-05T17:59:16.572056Z",
     "shell.execute_reply": "2024-04-05T17:59:16.570963Z"
    },
    "papermill": {
     "duration": 0.096878,
     "end_time": "2024-04-05T17:59:16.576929",
     "exception": false,
     "start_time": "2024-04-05T17:59:16.480051",
     "status": "completed"
    },
    "tags": []
   },
   "outputs": [
    {
     "data": {
      "text/html": [
       "<div>\n",
       "<style scoped>\n",
       "    .dataframe tbody tr th:only-of-type {\n",
       "        vertical-align: middle;\n",
       "    }\n",
       "\n",
       "    .dataframe tbody tr th {\n",
       "        vertical-align: top;\n",
       "    }\n",
       "\n",
       "    .dataframe thead th {\n",
       "        text-align: right;\n",
       "    }\n",
       "</style>\n",
       "<table border=\"1\" class=\"dataframe\">\n",
       "  <thead>\n",
       "    <tr style=\"text-align: right;\">\n",
       "      <th></th>\n",
       "      <th>count</th>\n",
       "      <th>mean</th>\n",
       "      <th>std</th>\n",
       "      <th>min</th>\n",
       "      <th>25%</th>\n",
       "      <th>50%</th>\n",
       "      <th>75%</th>\n",
       "      <th>max</th>\n",
       "    </tr>\n",
       "  </thead>\n",
       "  <tbody>\n",
       "    <tr>\n",
       "      <th>pickup_longitude</th>\n",
       "      <td>9914.0</td>\n",
       "      <td>-73.974716</td>\n",
       "      <td>0.042774</td>\n",
       "      <td>-74.252190</td>\n",
       "      <td>-73.992500</td>\n",
       "      <td>-73.982327</td>\n",
       "      <td>-73.968012</td>\n",
       "      <td>-72.986534</td>\n",
       "    </tr>\n",
       "    <tr>\n",
       "      <th>pickup_latitude</th>\n",
       "      <td>9914.0</td>\n",
       "      <td>40.751041</td>\n",
       "      <td>0.033541</td>\n",
       "      <td>40.573143</td>\n",
       "      <td>40.736125</td>\n",
       "      <td>40.753052</td>\n",
       "      <td>40.767113</td>\n",
       "      <td>41.709557</td>\n",
       "    </tr>\n",
       "    <tr>\n",
       "      <th>dropoff_longitude</th>\n",
       "      <td>9914.0</td>\n",
       "      <td>-73.973656</td>\n",
       "      <td>0.039072</td>\n",
       "      <td>-74.263245</td>\n",
       "      <td>-73.991249</td>\n",
       "      <td>-73.980015</td>\n",
       "      <td>-73.964062</td>\n",
       "      <td>-72.990967</td>\n",
       "    </tr>\n",
       "    <tr>\n",
       "      <th>dropoff_latitude</th>\n",
       "      <td>9914.0</td>\n",
       "      <td>40.751740</td>\n",
       "      <td>0.035435</td>\n",
       "      <td>40.568974</td>\n",
       "      <td>40.735253</td>\n",
       "      <td>40.754065</td>\n",
       "      <td>40.768757</td>\n",
       "      <td>41.696682</td>\n",
       "    </tr>\n",
       "    <tr>\n",
       "      <th>passenger_count</th>\n",
       "      <td>9914.0</td>\n",
       "      <td>1.671273</td>\n",
       "      <td>1.278747</td>\n",
       "      <td>1.000000</td>\n",
       "      <td>1.000000</td>\n",
       "      <td>1.000000</td>\n",
       "      <td>2.000000</td>\n",
       "      <td>6.000000</td>\n",
       "    </tr>\n",
       "    <tr>\n",
       "      <th>pickup_datetime_year</th>\n",
       "      <td>9914.0</td>\n",
       "      <td>2011.815816</td>\n",
       "      <td>1.803347</td>\n",
       "      <td>2009.000000</td>\n",
       "      <td>2010.000000</td>\n",
       "      <td>2012.000000</td>\n",
       "      <td>2014.000000</td>\n",
       "      <td>2015.000000</td>\n",
       "    </tr>\n",
       "    <tr>\n",
       "      <th>pickup_datetime_month</th>\n",
       "      <td>9914.0</td>\n",
       "      <td>6.857979</td>\n",
       "      <td>3.353272</td>\n",
       "      <td>1.000000</td>\n",
       "      <td>4.000000</td>\n",
       "      <td>7.000000</td>\n",
       "      <td>10.000000</td>\n",
       "      <td>12.000000</td>\n",
       "    </tr>\n",
       "    <tr>\n",
       "      <th>pickup_datetime_day</th>\n",
       "      <td>9914.0</td>\n",
       "      <td>16.194170</td>\n",
       "      <td>8.838482</td>\n",
       "      <td>1.000000</td>\n",
       "      <td>9.000000</td>\n",
       "      <td>16.000000</td>\n",
       "      <td>25.000000</td>\n",
       "      <td>31.000000</td>\n",
       "    </tr>\n",
       "    <tr>\n",
       "      <th>pickup_datetime_weekday</th>\n",
       "      <td>9914.0</td>\n",
       "      <td>2.852834</td>\n",
       "      <td>1.994451</td>\n",
       "      <td>0.000000</td>\n",
       "      <td>1.000000</td>\n",
       "      <td>3.000000</td>\n",
       "      <td>5.000000</td>\n",
       "      <td>6.000000</td>\n",
       "    </tr>\n",
       "    <tr>\n",
       "      <th>pickup_datetime_hour</th>\n",
       "      <td>9914.0</td>\n",
       "      <td>13.467420</td>\n",
       "      <td>6.868584</td>\n",
       "      <td>0.000000</td>\n",
       "      <td>8.000000</td>\n",
       "      <td>15.000000</td>\n",
       "      <td>19.000000</td>\n",
       "      <td>23.000000</td>\n",
       "    </tr>\n",
       "    <tr>\n",
       "      <th>distance</th>\n",
       "      <td>9914.0</td>\n",
       "      <td>2.002324</td>\n",
       "      <td>0.000767</td>\n",
       "      <td>1.995723</td>\n",
       "      <td>2.002120</td>\n",
       "      <td>2.002442</td>\n",
       "      <td>2.002721</td>\n",
       "      <td>2.013310</td>\n",
       "    </tr>\n",
       "    <tr>\n",
       "      <th>jfk_drop_dist</th>\n",
       "      <td>9914.0</td>\n",
       "      <td>0.003235</td>\n",
       "      <td>0.000517</td>\n",
       "      <td>0.000022</td>\n",
       "      <td>0.003172</td>\n",
       "      <td>0.003276</td>\n",
       "      <td>0.003391</td>\n",
       "      <td>0.021084</td>\n",
       "    </tr>\n",
       "    <tr>\n",
       "      <th>lga_drop_dist</th>\n",
       "      <td>9914.0</td>\n",
       "      <td>0.001530</td>\n",
       "      <td>0.000511</td>\n",
       "      <td>0.000016</td>\n",
       "      <td>0.001328</td>\n",
       "      <td>0.001502</td>\n",
       "      <td>0.001725</td>\n",
       "      <td>0.019834</td>\n",
       "    </tr>\n",
       "    <tr>\n",
       "      <th>ewa_drop_dist</th>\n",
       "      <td>9914.0</td>\n",
       "      <td>0.002913</td>\n",
       "      <td>0.000634</td>\n",
       "      <td>0.000045</td>\n",
       "      <td>0.002595</td>\n",
       "      <td>0.002831</td>\n",
       "      <td>0.003122</td>\n",
       "      <td>0.023465</td>\n",
       "    </tr>\n",
       "    <tr>\n",
       "      <th>times_square_drop_dist</th>\n",
       "      <td>9914.0</td>\n",
       "      <td>0.000541</td>\n",
       "      <td>0.000628</td>\n",
       "      <td>0.000003</td>\n",
       "      <td>0.000201</td>\n",
       "      <td>0.000404</td>\n",
       "      <td>0.000648</td>\n",
       "      <td>0.020933</td>\n",
       "    </tr>\n",
       "    <tr>\n",
       "      <th>met_drop_dist</th>\n",
       "      <td>9914.0</td>\n",
       "      <td>0.000709</td>\n",
       "      <td>0.000631</td>\n",
       "      <td>0.000013</td>\n",
       "      <td>0.000334</td>\n",
       "      <td>0.000581</td>\n",
       "      <td>0.000930</td>\n",
       "      <td>0.020472</td>\n",
       "    </tr>\n",
       "    <tr>\n",
       "      <th>wtc_drop_dist</th>\n",
       "      <td>9914.0</td>\n",
       "      <td>0.000969</td>\n",
       "      <td>0.000670</td>\n",
       "      <td>0.000016</td>\n",
       "      <td>0.000597</td>\n",
       "      <td>0.000892</td>\n",
       "      <td>0.001240</td>\n",
       "      <td>0.021798</td>\n",
       "    </tr>\n",
       "    <tr>\n",
       "      <th>esb_drop_dist</th>\n",
       "      <td>9914.0</td>\n",
       "      <td>0.000538</td>\n",
       "      <td>0.000623</td>\n",
       "      <td>0.000003</td>\n",
       "      <td>0.000214</td>\n",
       "      <td>0.000380</td>\n",
       "      <td>0.000674</td>\n",
       "      <td>0.021082</td>\n",
       "    </tr>\n",
       "    <tr>\n",
       "      <th>liberty_drop_dist</th>\n",
       "      <td>9914.0</td>\n",
       "      <td>0.001508</td>\n",
       "      <td>0.000667</td>\n",
       "      <td>0.000408</td>\n",
       "      <td>0.001132</td>\n",
       "      <td>0.001438</td>\n",
       "      <td>0.001788</td>\n",
       "      <td>0.022375</td>\n",
       "    </tr>\n",
       "  </tbody>\n",
       "</table>\n",
       "</div>"
      ],
      "text/plain": [
       "                          count         mean       std          min  \\\n",
       "pickup_longitude         9914.0   -73.974716  0.042774   -74.252190   \n",
       "pickup_latitude          9914.0    40.751041  0.033541    40.573143   \n",
       "dropoff_longitude        9914.0   -73.973656  0.039072   -74.263245   \n",
       "dropoff_latitude         9914.0    40.751740  0.035435    40.568974   \n",
       "passenger_count          9914.0     1.671273  1.278747     1.000000   \n",
       "pickup_datetime_year     9914.0  2011.815816  1.803347  2009.000000   \n",
       "pickup_datetime_month    9914.0     6.857979  3.353272     1.000000   \n",
       "pickup_datetime_day      9914.0    16.194170  8.838482     1.000000   \n",
       "pickup_datetime_weekday  9914.0     2.852834  1.994451     0.000000   \n",
       "pickup_datetime_hour     9914.0    13.467420  6.868584     0.000000   \n",
       "distance                 9914.0     2.002324  0.000767     1.995723   \n",
       "jfk_drop_dist            9914.0     0.003235  0.000517     0.000022   \n",
       "lga_drop_dist            9914.0     0.001530  0.000511     0.000016   \n",
       "ewa_drop_dist            9914.0     0.002913  0.000634     0.000045   \n",
       "times_square_drop_dist   9914.0     0.000541  0.000628     0.000003   \n",
       "met_drop_dist            9914.0     0.000709  0.000631     0.000013   \n",
       "wtc_drop_dist            9914.0     0.000969  0.000670     0.000016   \n",
       "esb_drop_dist            9914.0     0.000538  0.000623     0.000003   \n",
       "liberty_drop_dist        9914.0     0.001508  0.000667     0.000408   \n",
       "\n",
       "                                 25%          50%          75%          max  \n",
       "pickup_longitude          -73.992500   -73.982327   -73.968012   -72.986534  \n",
       "pickup_latitude            40.736125    40.753052    40.767113    41.709557  \n",
       "dropoff_longitude         -73.991249   -73.980015   -73.964062   -72.990967  \n",
       "dropoff_latitude           40.735253    40.754065    40.768757    41.696682  \n",
       "passenger_count             1.000000     1.000000     2.000000     6.000000  \n",
       "pickup_datetime_year     2010.000000  2012.000000  2014.000000  2015.000000  \n",
       "pickup_datetime_month       4.000000     7.000000    10.000000    12.000000  \n",
       "pickup_datetime_day         9.000000    16.000000    25.000000    31.000000  \n",
       "pickup_datetime_weekday     1.000000     3.000000     5.000000     6.000000  \n",
       "pickup_datetime_hour        8.000000    15.000000    19.000000    23.000000  \n",
       "distance                    2.002120     2.002442     2.002721     2.013310  \n",
       "jfk_drop_dist               0.003172     0.003276     0.003391     0.021084  \n",
       "lga_drop_dist               0.001328     0.001502     0.001725     0.019834  \n",
       "ewa_drop_dist               0.002595     0.002831     0.003122     0.023465  \n",
       "times_square_drop_dist      0.000201     0.000404     0.000648     0.020933  \n",
       "met_drop_dist               0.000334     0.000581     0.000930     0.020472  \n",
       "wtc_drop_dist               0.000597     0.000892     0.001240     0.021798  \n",
       "esb_drop_dist               0.000214     0.000380     0.000674     0.021082  \n",
       "liberty_drop_dist           0.001132     0.001438     0.001788     0.022375  "
      ]
     },
     "execution_count": 73,
     "metadata": {},
     "output_type": "execute_result"
    }
   ],
   "source": [
    "test_data.describe().T"
   ]
  },
  {
   "cell_type": "markdown",
   "id": "ad642862",
   "metadata": {
    "papermill": {
     "duration": 0.031616,
     "end_time": "2024-04-05T17:59:16.641319",
     "exception": false,
     "start_time": "2024-04-05T17:59:16.609703",
     "status": "completed"
    },
    "tags": []
   },
   "source": [
    "### Exploring the relaion between the newly created data"
   ]
  },
  {
   "cell_type": "code",
   "execution_count": 74,
   "id": "56fa6537",
   "metadata": {
    "execution": {
     "iopub.execute_input": "2024-04-05T17:59:16.707136Z",
     "iopub.status.busy": "2024-04-05T17:59:16.706725Z",
     "iopub.status.idle": "2024-04-05T17:59:19.114975Z",
     "shell.execute_reply": "2024-04-05T17:59:19.114103Z"
    },
    "papermill": {
     "duration": 2.447474,
     "end_time": "2024-04-05T17:59:19.120745",
     "exception": false,
     "start_time": "2024-04-05T17:59:16.673271",
     "status": "completed"
    },
    "tags": []
   },
   "outputs": [
    {
     "data": {
      "text/plain": [
       "<Axes: >"
      ]
     },
     "execution_count": 74,
     "metadata": {},
     "output_type": "execute_result"
    },
    {
     "data": {
      "image/png": "[encoded data removed]",
      "text/plain": [
       "<Figure size 1300x800 with 2 Axes>"
      ]
     },
     "metadata": {},
     "output_type": "display_data"
    }
   ],
   "source": [
    "plt.figure(figsize=(13,8))\n",
    "sns.heatmap(train.corr(), cmap='RdBu', center = 0, annot = True, fmt = '.2f')"
   ]
  },
  {
   "cell_type": "markdown",
   "id": "929eec2c",
   "metadata": {
    "papermill": {
     "duration": 0.037974,
     "end_time": "2024-04-05T17:59:19.196645",
     "exception": false,
     "start_time": "2024-04-05T17:59:19.158671",
     "status": "completed"
    },
    "tags": []
   },
   "source": [
    "Many data like Months, Weekdays can be converted to Categorical Columns for better model, but as of now"
   ]
  },
  {
   "cell_type": "markdown",
   "id": "328339f7",
   "metadata": {
    "papermill": {
     "duration": 0.036548,
     "end_time": "2024-04-05T17:59:19.270355",
     "exception": false,
     "start_time": "2024-04-05T17:59:19.233807",
     "status": "completed"
    },
    "tags": []
   },
   "source": [
    "### Scaling and One Hot encoding\n",
    "\n",
    "**Encoding**<br>\n",
    "skipping this for now as there are no columns treated as Categoricals"
   ]
  },
  {
   "cell_type": "code",
   "execution_count": 75,
   "id": "4e70d74a",
   "metadata": {
    "execution": {
     "iopub.execute_input": "2024-04-05T17:59:19.346880Z",
     "iopub.status.busy": "2024-04-05T17:59:19.346500Z",
     "iopub.status.idle": "2024-04-05T17:59:19.350709Z",
     "shell.execute_reply": "2024-04-05T17:59:19.349784Z"
    },
    "papermill": {
     "duration": 0.045164,
     "end_time": "2024-04-05T17:59:19.352986",
     "exception": false,
     "start_time": "2024-04-05T17:59:19.307822",
     "status": "completed"
    },
    "tags": []
   },
   "outputs": [],
   "source": [
    "from sklearn.preprocessing import StandardScaler"
   ]
  },
  {
   "cell_type": "markdown",
   "id": "97b7b0ac",
   "metadata": {
    "papermill": {
     "duration": 0.037226,
     "end_time": "2024-04-05T17:59:19.428586",
     "exception": false,
     "start_time": "2024-04-05T17:59:19.391360",
     "status": "completed"
    },
    "tags": []
   },
   "source": [
    "Only considering the recently created columns for the predection"
   ]
  },
  {
   "cell_type": "code",
   "execution_count": 76,
   "id": "6d1b54a7",
   "metadata": {
    "execution": {
     "iopub.execute_input": "2024-04-05T17:59:19.504482Z",
     "iopub.status.busy": "2024-04-05T17:59:19.503720Z",
     "iopub.status.idle": "2024-04-05T17:59:19.508917Z",
     "shell.execute_reply": "2024-04-05T17:59:19.507832Z"
    },
    "papermill": {
     "duration": 0.045823,
     "end_time": "2024-04-05T17:59:19.511185",
     "exception": false,
     "start_time": "2024-04-05T17:59:19.465362",
     "status": "completed"
    },
    "tags": []
   },
   "outputs": [],
   "source": [
    "input_col = ['passenger_count', 'pickup_datetime_year', 'pickup_datetime_month', 'pickup_datetime_day', 'pickup_datetime_weekday', 'pickup_datetime_hour', 'distance', 'jfk_drop_dist', 'lga_drop_dist', 'ewa_drop_dist', 'times_square_drop_dist', 'met_drop_dist', 'wtc_drop_dist', 'esb_drop_dist', 'liberty_drop_dist']\n",
    "tar_col = 'fare_amount'"
   ]
  },
  {
   "cell_type": "code",
   "execution_count": 77,
   "id": "81756040",
   "metadata": {
    "execution": {
     "iopub.execute_input": "2024-04-05T17:59:19.590657Z",
     "iopub.status.busy": "2024-04-05T17:59:19.589335Z",
     "iopub.status.idle": "2024-04-05T17:59:19.595048Z",
     "shell.execute_reply": "2024-04-05T17:59:19.593999Z"
    },
    "papermill": {
     "duration": 0.04762,
     "end_time": "2024-04-05T17:59:19.597381",
     "exception": false,
     "start_time": "2024-04-05T17:59:19.549761",
     "status": "completed"
    },
    "tags": []
   },
   "outputs": [],
   "source": [
    "# scaler = StandardScaler().fit(train[input_col])"
   ]
  },
  {
   "cell_type": "code",
   "execution_count": 78,
   "id": "90798051",
   "metadata": {
    "execution": {
     "iopub.execute_input": "2024-04-05T17:59:19.672370Z",
     "iopub.status.busy": "2024-04-05T17:59:19.671941Z",
     "iopub.status.idle": "2024-04-05T17:59:19.675976Z",
     "shell.execute_reply": "2024-04-05T17:59:19.674894Z"
    },
    "papermill": {
     "duration": 0.044277,
     "end_time": "2024-04-05T17:59:19.678353",
     "exception": false,
     "start_time": "2024-04-05T17:59:19.634076",
     "status": "completed"
    },
    "tags": []
   },
   "outputs": [],
   "source": [
    "# train[input_col] = scaler.transform(train[input_col])\n",
    "# val[input_col] = scaler.transform(val[input_col])\n",
    "# test_data[input_col] = scaler.transform(test_data[input_col])"
   ]
  },
  {
   "cell_type": "markdown",
   "id": "19cb70ea",
   "metadata": {
    "papermill": {
     "duration": 0.036088,
     "end_time": "2024-04-05T17:59:19.751696",
     "exception": false,
     "start_time": "2024-04-05T17:59:19.715608",
     "status": "completed"
    },
    "tags": []
   },
   "source": [
    "## Train and evaluate the models\n",
    "\n",
    "- Linear regression\n",
    "- Random Forest\n",
    "- Gradient Boost\n",
    "- Ridge Regression"
   ]
  },
  {
   "cell_type": "code",
   "execution_count": 79,
   "id": "eb8df4b2",
   "metadata": {
    "execution": {
     "iopub.execute_input": "2024-04-05T17:59:19.827602Z",
     "iopub.status.busy": "2024-04-05T17:59:19.827198Z",
     "iopub.status.idle": "2024-04-05T17:59:19.833838Z",
     "shell.execute_reply": "2024-04-05T17:59:19.832650Z"
    },
    "papermill": {
     "duration": 0.047119,
     "end_time": "2024-04-05T17:59:19.835990",
     "exception": false,
     "start_time": "2024-04-05T17:59:19.788871",
     "status": "completed"
    },
    "tags": []
   },
   "outputs": [
    {
     "data": {
      "text/plain": [
       "Index(['fare_amount', 'pickup_datetime', 'pickup_longitude', 'pickup_latitude',\n",
       "       'dropoff_longitude', 'dropoff_latitude', 'passenger_count',\n",
       "       'pickup_datetime_year', 'pickup_datetime_month', 'pickup_datetime_day',\n",
       "       'pickup_datetime_weekday', 'pickup_datetime_hour', 'distance',\n",
       "       'jfk_drop_dist', 'lga_drop_dist', 'ewa_drop_dist',\n",
       "       'times_square_drop_dist', 'met_drop_dist', 'wtc_drop_dist',\n",
       "       'esb_drop_dist', 'liberty_drop_dist'],\n",
       "      dtype='object')"
      ]
     },
     "execution_count": 79,
     "metadata": {},
     "output_type": "execute_result"
    }
   ],
   "source": [
    "train.columns"
   ]
  },
  {
   "cell_type": "code",
   "execution_count": 80,
   "id": "4f679fc4",
   "metadata": {
    "execution": {
     "iopub.execute_input": "2024-04-05T17:59:19.911337Z",
     "iopub.status.busy": "2024-04-05T17:59:19.910260Z",
     "iopub.status.idle": "2024-04-05T17:59:19.956063Z",
     "shell.execute_reply": "2024-04-05T17:59:19.955138Z"
    },
    "papermill": {
     "duration": 0.086141,
     "end_time": "2024-04-05T17:59:19.958706",
     "exception": false,
     "start_time": "2024-04-05T17:59:19.872565",
     "status": "completed"
    },
    "tags": []
   },
   "outputs": [],
   "source": [
    "x_train = train[input_col]\n",
    "y_train = train[tar_col]\n",
    "\n",
    "x_val = val[input_col]\n",
    "y_val = val[tar_col]"
   ]
  },
  {
   "cell_type": "code",
   "execution_count": 81,
   "id": "c831c41e",
   "metadata": {
    "execution": {
     "iopub.execute_input": "2024-04-05T17:59:20.036006Z",
     "iopub.status.busy": "2024-04-05T17:59:20.035308Z",
     "iopub.status.idle": "2024-04-05T17:59:20.040024Z",
     "shell.execute_reply": "2024-04-05T17:59:20.039236Z"
    },
    "papermill": {
     "duration": 0.044953,
     "end_time": "2024-04-05T17:59:20.042290",
     "exception": false,
     "start_time": "2024-04-05T17:59:19.997337",
     "status": "completed"
    },
    "tags": []
   },
   "outputs": [],
   "source": [
    "def evaluate(model):\n",
    "    train_pre = model.predict(x_train)\n",
    "    train_rmse = rmse(train_pre, y_train)\n",
    "    val_pre = model.predict(x_val)\n",
    "    val_rmse = rmse(val_pre, y_val)\n",
    "    \n",
    "    return train_rmse, val_rmse"
   ]
  },
  {
   "cell_type": "code",
   "execution_count": 82,
   "id": "4433cec1",
   "metadata": {
    "execution": {
     "iopub.execute_input": "2024-04-05T17:59:20.120795Z",
     "iopub.status.busy": "2024-04-05T17:59:20.120178Z",
     "iopub.status.idle": "2024-04-05T17:59:20.886511Z",
     "shell.execute_reply": "2024-04-05T17:59:20.885096Z"
    },
    "papermill": {
     "duration": 0.808937,
     "end_time": "2024-04-05T17:59:20.890077",
     "exception": false,
     "start_time": "2024-04-05T17:59:20.081140",
     "status": "completed"
    },
    "tags": []
   },
   "outputs": [
    {
     "data": {
      "text/plain": [
       "(7.789443840951452, 7.791277270256758)"
      ]
     },
     "execution_count": 82,
     "metadata": {},
     "output_type": "execute_result"
    }
   ],
   "source": [
    "# .Using Linear Regression\n",
    "model = LinearRegression().fit(x_train, y_train)\n",
    "evaluate(model)"
   ]
  },
  {
   "cell_type": "code",
   "execution_count": 83,
   "id": "1155304f",
   "metadata": {
    "execution": {
     "iopub.execute_input": "2024-04-05T17:59:21.009773Z",
     "iopub.status.busy": "2024-04-05T17:59:21.009403Z",
     "iopub.status.idle": "2024-04-05T17:59:22.324474Z",
     "shell.execute_reply": "2024-04-05T17:59:22.323013Z"
    },
    "papermill": {
     "duration": 1.374244,
     "end_time": "2024-04-05T17:59:22.328066",
     "exception": false,
     "start_time": "2024-04-05T17:59:20.953822",
     "status": "completed"
    },
    "tags": []
   },
   "outputs": [
    {
     "name": "stdout",
     "output_type": "stream",
     "text": [
      "LinReg \t:\t (7.789443840951452, 7.791277270256758)\n",
      "Ridge \t:\t (8.882348784252725, 8.880702090210312)\n",
      "Lasso \t:\t (9.676073712208602, 9.681389226415401)\n"
     ]
    }
   ],
   "source": [
    "from sklearn.linear_model import LinearRegression, Ridge, Lasso\n",
    "\n",
    "m_name = ['LinReg', 'Ridge', 'Lasso']\n",
    "models_list = [LinearRegression, Ridge, Lasso]\n",
    "\n",
    "for i in range(len(models_list)):\n",
    "    model = models_list[i]().fit(x_train, y_train)\n",
    "    print(m_name[i], \"\\t:\\t\", evaluate(model))"
   ]
  },
  {
   "cell_type": "code",
   "execution_count": 84,
   "id": "a2dc4e18",
   "metadata": {
    "execution": {
     "iopub.execute_input": "2024-04-05T17:59:22.450161Z",
     "iopub.status.busy": "2024-04-05T17:59:22.449194Z",
     "iopub.status.idle": "2024-04-05T17:59:22.457495Z",
     "shell.execute_reply": "2024-04-05T17:59:22.455800Z"
    },
    "papermill": {
     "duration": 0.067493,
     "end_time": "2024-04-05T17:59:22.460475",
     "exception": true,
     "start_time": "2024-04-05T17:59:22.392982",
     "status": "failed"
    },
    "tags": []
   },
   "outputs": [
    {
     "name": "stderr",
     "output_type": "stream",
     "text": [
      "UsageError: Line magic function `%%time` not found.\n"
     ]
    }
   ],
   "source": [
    "# Uaing Radnom Foresr\n",
    "%%time\n",
    "from sklearn.ensemble import RandomForestRegressor\n",
    "model  = RandomForestRegressor(random_state = len(x_train), n_jobs = -1, max_depth = 10, n_estimators = 100, max_leaf_nodes = 500).fit(x_train, y_train)\n",
    "print(\"Random Forest \\t:\\t\", evaluate(model))"
   ]
  },
  {
   "cell_type": "markdown",
   "id": "f51ba77a",
   "metadata": {
    "papermill": {
     "duration": null,
     "end_time": null,
     "exception": null,
     "start_time": null,
     "status": "pending"
    },
    "tags": []
   },
   "source": [
    "## Results\n",
    "\n",
    "### 1% Data\n",
    "\n",
    "All the results are in above cell result\n",
    "<!-- | Model | Training | Val |\n",
    "|-------|----------|-----|\n",
    "|LinReg | 8.845480007470051 | 8.843641841809712 |\n",
    "|Ridge | 8.845480007470051 | 8.843641841809712 | -->"
   ]
  },
  {
   "cell_type": "markdown",
   "id": "52917f4b",
   "metadata": {
    "papermill": {
     "duration": null,
     "end_time": null,
     "exception": null,
     "start_time": null,
     "status": "pending"
    },
    "tags": []
   },
   "source": [
    "Now Lets submit the results obtained from LinReg model"
   ]
  },
  {
   "cell_type": "code",
   "execution_count": null,
   "id": "039d62f1",
   "metadata": {
    "execution": {
     "iopub.execute_input": "2024-04-05T17:12:22.317764Z",
     "iopub.status.busy": "2024-04-05T17:12:22.317239Z",
     "iopub.status.idle": "2024-04-05T17:12:22.805500Z",
     "shell.execute_reply": "2024-04-05T17:12:22.803906Z",
     "shell.execute_reply.started": "2024-04-05T17:12:22.317728Z"
    },
    "papermill": {
     "duration": null,
     "end_time": null,
     "exception": null,
     "start_time": null,
     "status": "pending"
    },
    "tags": []
   },
   "outputs": [],
   "source": [
    "# model = LinearRegression().fit(x_train, y_train)\n",
    "\n",
    "# submission(model, test_data[input_col], \"LinReg_predection.csv\")"
   ]
  },
  {
   "cell_type": "code",
   "execution_count": null,
   "id": "cf288a7c",
   "metadata": {
    "execution": {
     "iopub.execute_input": "2024-04-05T17:29:44.565371Z",
     "iopub.status.busy": "2024-04-05T17:29:44.564908Z",
     "iopub.status.idle": "2024-04-05T17:29:44.699878Z",
     "shell.execute_reply": "2024-04-05T17:29:44.698636Z",
     "shell.execute_reply.started": "2024-04-05T17:29:44.565338Z"
    },
    "papermill": {
     "duration": null,
     "end_time": null,
     "exception": null,
     "start_time": null,
     "status": "pending"
    },
    "tags": []
   },
   "outputs": [],
   "source": [
    "# For same Random Forest -> Not tunign the hyper params\n",
    "submission(model, test_data[input_col], \"RandFor.csv\")"
   ]
  },
  {
   "cell_type": "code",
   "execution_count": null,
   "id": "66bc14cd",
   "metadata": {
    "execution": {
     "iopub.execute_input": "2024-04-05T17:42:11.325471Z",
     "iopub.status.busy": "2024-04-05T17:42:11.324941Z",
     "iopub.status.idle": "2024-04-05T17:42:14.999844Z",
     "shell.execute_reply": "2024-04-05T17:42:14.997423Z",
     "shell.execute_reply.started": "2024-04-05T17:42:11.325435Z"
    },
    "papermill": {
     "duration": null,
     "end_time": null,
     "exception": null,
     "start_time": null,
     "status": "pending"
    },
    "tags": []
   },
   "outputs": [],
   "source": [
    "# Using XGBoost\n",
    "from xgboost import XGBRegressor\n",
    "model = XGBRegressor(max_depth = 5, objective = 'reg:squarederror', n_estimators = 150, random_state = len(x_train), n_jobs = -1).fit(x_train, y_train)\n",
    "evaluate(model)"
   ]
  },
  {
   "cell_type": "code",
   "execution_count": null,
   "id": "9ca1c677",
   "metadata": {
    "execution": {
     "iopub.execute_input": "2024-04-05T17:42:19.425016Z",
     "iopub.status.busy": "2024-04-05T17:42:19.424124Z",
     "iopub.status.idle": "2024-04-05T17:42:19.508639Z",
     "shell.execute_reply": "2024-04-05T17:42:19.507374Z",
     "shell.execute_reply.started": "2024-04-05T17:42:19.424974Z"
    },
    "papermill": {
     "duration": null,
     "end_time": null,
     "exception": null,
     "start_time": null,
     "status": "pending"
    },
    "tags": []
   },
   "outputs": [],
   "source": [
    "submission(model, test_data[input_col], \"XGB.csv\")"
   ]
  },
  {
   "cell_type": "code",
   "execution_count": null,
   "id": "04024b23",
   "metadata": {
    "papermill": {
     "duration": null,
     "end_time": null,
     "exception": null,
     "start_time": null,
     "status": "pending"
    },
    "tags": []
   },
   "outputs": [],
   "source": []
  }
 ],
 "metadata": {
  "kaggle": {
   "accelerator": "none",
   "dataSources": [
    {
     "databundleVersionId": 61318,
     "sourceId": 10170,
     "sourceType": "competition"
    }
   ],
   "dockerImageVersionId": 30673,
   "isGpuEnabled": false,
   "isInternetEnabled": true,
   "language": "python",
   "sourceType": "notebook"
  },
  "kernelspec": {
   "display_name": "Python 3",
   "language": "python",
   "name": "python3"
  },
  "language_info": {
   "codemirror_mode": {
    "name": "ipython",
    "version": 3
   },
   "file_extension": ".py",
   "mimetype": "text/x-python",
   "name": "python",
   "nbconvert_exporter": "python",
   "pygments_lexer": "ipython3",
   "version": "3.10.13"
  },
  "papermill": {
   "default_parameters": {},
   "duration": 127.741426,
   "end_time": "2024-04-05T17:59:23.323034",
   "environment_variables": {},
   "exception": true,
   "input_path": "__notebook__.ipynb",
   "output_path": "__notebook__.ipynb",
   "parameters": {},
   "start_time": "2024-04-05T17:57:15.581608",
   "version": "2.5.0"
  }
 },
 "nbformat": 4,
 "nbformat_minor": 5
}
