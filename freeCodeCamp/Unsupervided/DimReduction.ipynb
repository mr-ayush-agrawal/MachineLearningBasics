{
 "cells": [
  {
   "cell_type": "markdown",
   "metadata": {},
   "source": [
    "## Differnt Dimansionality Reduction Technique"
   ]
  },
  {
   "cell_type": "code",
   "execution_count": 1,
   "metadata": {},
   "outputs": [],
   "source": [
    "import pandas as pd\n",
    "import numpy as np\n",
    "import matplotlib.pyplot as plt\n",
    "import seaborn as sns"
   ]
  },
  {
   "cell_type": "code",
   "execution_count": 2,
   "metadata": {},
   "outputs": [
    {
     "data": {
      "text/html": [
       "<div>\n",
       "<style scoped>\n",
       "    .dataframe tbody tr th:only-of-type {\n",
       "        vertical-align: middle;\n",
       "    }\n",
       "\n",
       "    .dataframe tbody tr th {\n",
       "        vertical-align: top;\n",
       "    }\n",
       "\n",
       "    .dataframe thead th {\n",
       "        text-align: right;\n",
       "    }\n",
       "</style>\n",
       "<table border=\"1\" class=\"dataframe\">\n",
       "  <thead>\n",
       "    <tr style=\"text-align: right;\">\n",
       "      <th></th>\n",
       "      <th>sepal_length</th>\n",
       "      <th>sepal_width</th>\n",
       "      <th>petal_length</th>\n",
       "      <th>petal_width</th>\n",
       "      <th>species</th>\n",
       "    </tr>\n",
       "  </thead>\n",
       "  <tbody>\n",
       "    <tr>\n",
       "      <th>0</th>\n",
       "      <td>5.1</td>\n",
       "      <td>3.5</td>\n",
       "      <td>1.4</td>\n",
       "      <td>0.2</td>\n",
       "      <td>setosa</td>\n",
       "    </tr>\n",
       "    <tr>\n",
       "      <th>1</th>\n",
       "      <td>4.9</td>\n",
       "      <td>3.0</td>\n",
       "      <td>1.4</td>\n",
       "      <td>0.2</td>\n",
       "      <td>setosa</td>\n",
       "    </tr>\n",
       "    <tr>\n",
       "      <th>2</th>\n",
       "      <td>4.7</td>\n",
       "      <td>3.2</td>\n",
       "      <td>1.3</td>\n",
       "      <td>0.2</td>\n",
       "      <td>setosa</td>\n",
       "    </tr>\n",
       "    <tr>\n",
       "      <th>3</th>\n",
       "      <td>4.6</td>\n",
       "      <td>3.1</td>\n",
       "      <td>1.5</td>\n",
       "      <td>0.2</td>\n",
       "      <td>setosa</td>\n",
       "    </tr>\n",
       "    <tr>\n",
       "      <th>4</th>\n",
       "      <td>5.0</td>\n",
       "      <td>3.6</td>\n",
       "      <td>1.4</td>\n",
       "      <td>0.2</td>\n",
       "      <td>setosa</td>\n",
       "    </tr>\n",
       "  </tbody>\n",
       "</table>\n",
       "</div>"
      ],
      "text/plain": [
       "   sepal_length  sepal_width  petal_length  petal_width species\n",
       "0           5.1          3.5           1.4          0.2  setosa\n",
       "1           4.9          3.0           1.4          0.2  setosa\n",
       "2           4.7          3.2           1.3          0.2  setosa\n",
       "3           4.6          3.1           1.5          0.2  setosa\n",
       "4           5.0          3.6           1.4          0.2  setosa"
      ]
     },
     "execution_count": 2,
     "metadata": {},
     "output_type": "execute_result"
    }
   ],
   "source": [
    "iris = sns.load_dataset('iris')\n",
    "iris.head()"
   ]
  },
  {
   "cell_type": "code",
   "execution_count": 3,
   "metadata": {},
   "outputs": [
    {
     "data": {
      "text/plain": [
       "Index(['sepal_length', 'sepal_width', 'petal_length', 'petal_width'], dtype='object')"
      ]
     },
     "execution_count": 3,
     "metadata": {},
     "output_type": "execute_result"
    }
   ],
   "source": [
    "# Since we are doing this as the part of unsupervised learning we will not be using the species Cloumn\n",
    "species = iris.species\n",
    "iris.drop('species', axis=1, inplace=True)\n",
    "iris.columns"
   ]
  },
  {
   "cell_type": "code",
   "execution_count": 4,
   "metadata": {},
   "outputs": [
    {
     "data": {
      "text/plain": [
       "['sepal_length', 'sepal_width', 'petal_length', 'petal_width']"
      ]
     },
     "execution_count": 4,
     "metadata": {},
     "output_type": "execute_result"
    }
   ],
   "source": [
    "cols = iris.columns.tolist()\n",
    "cols"
   ]
  },
  {
   "cell_type": "markdown",
   "metadata": {},
   "source": [
    "### PCA\n",
    "Principal Component Analysis -> Here we are using The Iris Data Set"
   ]
  },
  {
   "cell_type": "code",
   "execution_count": 5,
   "metadata": {},
   "outputs": [
    {
     "name": "stdout",
     "output_type": "stream",
     "text": [
      "\u001b[1;31mInit signature:\u001b[0m\n",
      "\u001b[0mPCA\u001b[0m\u001b[1;33m(\u001b[0m\u001b[1;33m\n",
      "\u001b[0m    \u001b[0mn_components\u001b[0m\u001b[1;33m=\u001b[0m\u001b[1;32mNone\u001b[0m\u001b[1;33m,\u001b[0m\u001b[1;33m\n",
      "\u001b[0m    \u001b[1;33m*\u001b[0m\u001b[1;33m,\u001b[0m\u001b[1;33m\n",
      "\u001b[0m    \u001b[0mcopy\u001b[0m\u001b[1;33m=\u001b[0m\u001b[1;32mTrue\u001b[0m\u001b[1;33m,\u001b[0m\u001b[1;33m\n",
      "\u001b[0m    \u001b[0mwhiten\u001b[0m\u001b[1;33m=\u001b[0m\u001b[1;32mFalse\u001b[0m\u001b[1;33m,\u001b[0m\u001b[1;33m\n",
      "\u001b[0m    \u001b[0msvd_solver\u001b[0m\u001b[1;33m=\u001b[0m\u001b[1;34m'auto'\u001b[0m\u001b[1;33m,\u001b[0m\u001b[1;33m\n",
      "\u001b[0m    \u001b[0mtol\u001b[0m\u001b[1;33m=\u001b[0m\u001b[1;36m0.0\u001b[0m\u001b[1;33m,\u001b[0m\u001b[1;33m\n",
      "\u001b[0m    \u001b[0miterated_power\u001b[0m\u001b[1;33m=\u001b[0m\u001b[1;34m'auto'\u001b[0m\u001b[1;33m,\u001b[0m\u001b[1;33m\n",
      "\u001b[0m    \u001b[0mn_oversamples\u001b[0m\u001b[1;33m=\u001b[0m\u001b[1;36m10\u001b[0m\u001b[1;33m,\u001b[0m\u001b[1;33m\n",
      "\u001b[0m    \u001b[0mpower_iteration_normalizer\u001b[0m\u001b[1;33m=\u001b[0m\u001b[1;34m'auto'\u001b[0m\u001b[1;33m,\u001b[0m\u001b[1;33m\n",
      "\u001b[0m    \u001b[0mrandom_state\u001b[0m\u001b[1;33m=\u001b[0m\u001b[1;32mNone\u001b[0m\u001b[1;33m,\u001b[0m\u001b[1;33m\n",
      "\u001b[0m\u001b[1;33m)\u001b[0m\u001b[1;33m\u001b[0m\u001b[1;33m\u001b[0m\u001b[0m\n",
      "\u001b[1;31mDocstring:\u001b[0m     \n",
      "Principal component analysis (PCA).\n",
      "\n",
      "Linear dimensionality reduction using Singular Value Decomposition of the\n",
      "data to project it to a lower dimensional space. The input data is centered\n",
      "but not scaled for each feature before applying the SVD.\n",
      "\n",
      "It uses the LAPACK implementation of the full SVD or a randomized truncated\n",
      "SVD by the method of Halko et al. 2009, depending on the shape of the input\n",
      "data and the number of components to extract.\n",
      "\n",
      "It can also use the scipy.sparse.linalg ARPACK implementation of the\n",
      "truncated SVD.\n",
      "\n",
      "Notice that this class does not support sparse input. See\n",
      ":class:`TruncatedSVD` for an alternative with sparse data.\n",
      "\n",
      "Read more in the :ref:`User Guide <PCA>`.\n",
      "\n",
      "Parameters\n",
      "----------\n",
      "n_components : int, float or 'mle', default=None\n",
      "    Number of components to keep.\n",
      "    if n_components is not set all components are kept::\n",
      "\n",
      "        n_components == min(n_samples, n_features)\n",
      "\n",
      "    If ``n_components == 'mle'`` and ``svd_solver == 'full'``, Minka's\n",
      "    MLE is used to guess the dimension. Use of ``n_components == 'mle'``\n",
      "    will interpret ``svd_solver == 'auto'`` as ``svd_solver == 'full'``.\n",
      "\n",
      "    If ``0 < n_components < 1`` and ``svd_solver == 'full'``, select the\n",
      "    number of components such that the amount of variance that needs to be\n",
      "    explained is greater than the percentage specified by n_components.\n",
      "\n",
      "    If ``svd_solver == 'arpack'``, the number of components must be\n",
      "    strictly less than the minimum of n_features and n_samples.\n",
      "\n",
      "    Hence, the None case results in::\n",
      "\n",
      "        n_components == min(n_samples, n_features) - 1\n",
      "\n",
      "copy : bool, default=True\n",
      "    If False, data passed to fit are overwritten and running\n",
      "    fit(X).transform(X) will not yield the expected results,\n",
      "    use fit_transform(X) instead.\n",
      "\n",
      "whiten : bool, default=False\n",
      "    When True (False by default) the `components_` vectors are multiplied\n",
      "    by the square root of n_samples and then divided by the singular values\n",
      "    to ensure uncorrelated outputs with unit component-wise variances.\n",
      "\n",
      "    Whitening will remove some information from the transformed signal\n",
      "    (the relative variance scales of the components) but can sometime\n",
      "    improve the predictive accuracy of the downstream estimators by\n",
      "    making their data respect some hard-wired assumptions.\n",
      "\n",
      "svd_solver : {'auto', 'full', 'arpack', 'randomized'}, default='auto'\n",
      "    If auto :\n",
      "        The solver is selected by a default policy based on `X.shape` and\n",
      "        `n_components`: if the input data is larger than 500x500 and the\n",
      "        number of components to extract is lower than 80% of the smallest\n",
      "        dimension of the data, then the more efficient 'randomized'\n",
      "        method is enabled. Otherwise the exact full SVD is computed and\n",
      "        optionally truncated afterwards.\n",
      "    If full :\n",
      "        run exact full SVD calling the standard LAPACK solver via\n",
      "        `scipy.linalg.svd` and select the components by postprocessing\n",
      "    If arpack :\n",
      "        run SVD truncated to n_components calling ARPACK solver via\n",
      "        `scipy.sparse.linalg.svds`. It requires strictly\n",
      "        0 < n_components < min(X.shape)\n",
      "    If randomized :\n",
      "        run randomized SVD by the method of Halko et al.\n",
      "\n",
      "    .. versionadded:: 0.18.0\n",
      "\n",
      "tol : float, default=0.0\n",
      "    Tolerance for singular values computed by svd_solver == 'arpack'.\n",
      "    Must be of range [0.0, infinity).\n",
      "\n",
      "    .. versionadded:: 0.18.0\n",
      "\n",
      "iterated_power : int or 'auto', default='auto'\n",
      "    Number of iterations for the power method computed by\n",
      "    svd_solver == 'randomized'.\n",
      "    Must be of range [0, infinity).\n",
      "\n",
      "    .. versionadded:: 0.18.0\n",
      "\n",
      "n_oversamples : int, default=10\n",
      "    This parameter is only relevant when `svd_solver=\"randomized\"`.\n",
      "    It corresponds to the additional number of random vectors to sample the\n",
      "    range of `X` so as to ensure proper conditioning. See\n",
      "    :func:`~sklearn.utils.extmath.randomized_svd` for more details.\n",
      "\n",
      "    .. versionadded:: 1.1\n",
      "\n",
      "power_iteration_normalizer : {'auto', 'QR', 'LU', 'none'}, default='auto'\n",
      "    Power iteration normalizer for randomized SVD solver.\n",
      "    Not used by ARPACK. See :func:`~sklearn.utils.extmath.randomized_svd`\n",
      "    for more details.\n",
      "\n",
      "    .. versionadded:: 1.1\n",
      "\n",
      "random_state : int, RandomState instance or None, default=None\n",
      "    Used when the 'arpack' or 'randomized' solvers are used. Pass an int\n",
      "    for reproducible results across multiple function calls.\n",
      "    See :term:`Glossary <random_state>`.\n",
      "\n",
      "    .. versionadded:: 0.18.0\n",
      "\n",
      "Attributes\n",
      "----------\n",
      "components_ : ndarray of shape (n_components, n_features)\n",
      "    Principal axes in feature space, representing the directions of\n",
      "    maximum variance in the data. Equivalently, the right singular\n",
      "    vectors of the centered input data, parallel to its eigenvectors.\n",
      "    The components are sorted by decreasing ``explained_variance_``.\n",
      "\n",
      "explained_variance_ : ndarray of shape (n_components,)\n",
      "    The amount of variance explained by each of the selected components.\n",
      "    The variance estimation uses `n_samples - 1` degrees of freedom.\n",
      "\n",
      "    Equal to n_components largest eigenvalues\n",
      "    of the covariance matrix of X.\n",
      "\n",
      "    .. versionadded:: 0.18\n",
      "\n",
      "explained_variance_ratio_ : ndarray of shape (n_components,)\n",
      "    Percentage of variance explained by each of the selected components.\n",
      "\n",
      "    If ``n_components`` is not set then all components are stored and the\n",
      "    sum of the ratios is equal to 1.0.\n",
      "\n",
      "singular_values_ : ndarray of shape (n_components,)\n",
      "    The singular values corresponding to each of the selected components.\n",
      "    The singular values are equal to the 2-norms of the ``n_components``\n",
      "    variables in the lower-dimensional space.\n",
      "\n",
      "    .. versionadded:: 0.19\n",
      "\n",
      "mean_ : ndarray of shape (n_features,)\n",
      "    Per-feature empirical mean, estimated from the training set.\n",
      "\n",
      "    Equal to `X.mean(axis=0)`.\n",
      "\n",
      "n_components_ : int\n",
      "    The estimated number of components. When n_components is set\n",
      "    to 'mle' or a number between 0 and 1 (with svd_solver == 'full') this\n",
      "    number is estimated from input data. Otherwise it equals the parameter\n",
      "    n_components, or the lesser value of n_features and n_samples\n",
      "    if n_components is None.\n",
      "\n",
      "n_features_ : int\n",
      "    Number of features in the training data.\n",
      "\n",
      "n_samples_ : int\n",
      "    Number of samples in the training data.\n",
      "\n",
      "noise_variance_ : float\n",
      "    The estimated noise covariance following the Probabilistic PCA model\n",
      "    from Tipping and Bishop 1999. See \"Pattern Recognition and\n",
      "    Machine Learning\" by C. Bishop, 12.2.1 p. 574 or\n",
      "    http://www.miketipping.com/papers/met-mppca.pdf. It is required to\n",
      "    compute the estimated data covariance and score samples.\n",
      "\n",
      "    Equal to the average of (min(n_features, n_samples) - n_components)\n",
      "    smallest eigenvalues of the covariance matrix of X.\n",
      "\n",
      "n_features_in_ : int\n",
      "    Number of features seen during :term:`fit`.\n",
      "\n",
      "    .. versionadded:: 0.24\n",
      "\n",
      "feature_names_in_ : ndarray of shape (`n_features_in_`,)\n",
      "    Names of features seen during :term:`fit`. Defined only when `X`\n",
      "    has feature names that are all strings.\n",
      "\n",
      "    .. versionadded:: 1.0\n",
      "\n",
      "See Also\n",
      "--------\n",
      "KernelPCA : Kernel Principal Component Analysis.\n",
      "SparsePCA : Sparse Principal Component Analysis.\n",
      "TruncatedSVD : Dimensionality reduction using truncated SVD.\n",
      "IncrementalPCA : Incremental Principal Component Analysis.\n",
      "\n",
      "References\n",
      "----------\n",
      "For n_components == 'mle', this class uses the method from:\n",
      "`Minka, T. P.. \"Automatic choice of dimensionality for PCA\".\n",
      "In NIPS, pp. 598-604 <https://tminka.github.io/papers/pca/minka-pca.pdf>`_\n",
      "\n",
      "Implements the probabilistic PCA model from:\n",
      "`Tipping, M. E., and Bishop, C. M. (1999). \"Probabilistic principal\n",
      "component analysis\". Journal of the Royal Statistical Society:\n",
      "Series B (Statistical Methodology), 61(3), 611-622.\n",
      "<http://www.miketipping.com/papers/met-mppca.pdf>`_\n",
      "via the score and score_samples methods.\n",
      "\n",
      "For svd_solver == 'arpack', refer to `scipy.sparse.linalg.svds`.\n",
      "\n",
      "For svd_solver == 'randomized', see:\n",
      ":doi:`Halko, N., Martinsson, P. G., and Tropp, J. A. (2011).\n",
      "\"Finding structure with randomness: Probabilistic algorithms for\n",
      "constructing approximate matrix decompositions\".\n",
      "SIAM review, 53(2), 217-288.\n",
      "<10.1137/090771806>`\n",
      "and also\n",
      ":doi:`Martinsson, P. G., Rokhlin, V., and Tygert, M. (2011).\n",
      "\"A randomized algorithm for the decomposition of matrices\".\n",
      "Applied and Computational Harmonic Analysis, 30(1), 47-68.\n",
      "<10.1016/j.acha.2010.02.003>`\n",
      "\n",
      "Examples\n",
      "--------\n",
      ">>> import numpy as np\n",
      ">>> from sklearn.decomposition import PCA\n",
      ">>> X = np.array([[-1, -1], [-2, -1], [-3, -2], [1, 1], [2, 1], [3, 2]])\n",
      ">>> pca = PCA(n_components=2)\n",
      ">>> pca.fit(X)\n",
      "PCA(n_components=2)\n",
      ">>> print(pca.explained_variance_ratio_)\n",
      "[0.9924... 0.0075...]\n",
      ">>> print(pca.singular_values_)\n",
      "[6.30061... 0.54980...]\n",
      "\n",
      ">>> pca = PCA(n_components=2, svd_solver='full')\n",
      ">>> pca.fit(X)\n",
      "PCA(n_components=2, svd_solver='full')\n",
      ">>> print(pca.explained_variance_ratio_)\n",
      "[0.9924... 0.00755...]\n",
      ">>> print(pca.singular_values_)\n",
      "[6.30061... 0.54980...]\n",
      "\n",
      ">>> pca = PCA(n_components=1, svd_solver='arpack')\n",
      ">>> pca.fit(X)\n",
      "PCA(n_components=1, svd_solver='arpack')\n",
      ">>> print(pca.explained_variance_ratio_)\n",
      "[0.99244...]\n",
      ">>> print(pca.singular_values_)\n",
      "[6.30061...]\n",
      "\u001b[1;31mFile:\u001b[0m           c:\\python312\\lib\\site-packages\\sklearn\\decomposition\\_pca.py\n",
      "\u001b[1;31mType:\u001b[0m           ABCMeta\n",
      "\u001b[1;31mSubclasses:\u001b[0m     "
     ]
    }
   ],
   "source": [
    "from sklearn.decomposition import PCA\n",
    "?PCA"
   ]
  },
  {
   "cell_type": "code",
   "execution_count": 6,
   "metadata": {},
   "outputs": [
    {
     "data": {
      "text/plain": [
       "array([[-2.68412563,  0.31939725],\n",
       "       [-2.71414169, -0.17700123],\n",
       "       [-2.88899057, -0.14494943],\n",
       "       [-2.74534286, -0.31829898],\n",
       "       [-2.72871654,  0.32675451],\n",
       "       [-2.28085963,  0.74133045],\n",
       "       [-2.82053775, -0.08946138],\n",
       "       [-2.62614497,  0.16338496],\n",
       "       [-2.88638273, -0.57831175],\n",
       "       [-2.6727558 , -0.11377425],\n",
       "       [-2.50694709,  0.6450689 ],\n",
       "       [-2.61275523,  0.01472994],\n",
       "       [-2.78610927, -0.235112  ],\n",
       "       [-3.22380374, -0.51139459],\n",
       "       [-2.64475039,  1.17876464],\n",
       "       [-2.38603903,  1.33806233],\n",
       "       [-2.62352788,  0.81067951],\n",
       "       [-2.64829671,  0.31184914],\n",
       "       [-2.19982032,  0.87283904],\n",
       "       [-2.5879864 ,  0.51356031],\n",
       "       [-2.31025622,  0.39134594],\n",
       "       [-2.54370523,  0.43299606],\n",
       "       [-3.21593942,  0.13346807],\n",
       "       [-2.30273318,  0.09870885],\n",
       "       [-2.35575405, -0.03728186],\n",
       "       [-2.50666891, -0.14601688],\n",
       "       [-2.46882007,  0.13095149],\n",
       "       [-2.56231991,  0.36771886],\n",
       "       [-2.63953472,  0.31203998],\n",
       "       [-2.63198939, -0.19696122],\n",
       "       [-2.58739848, -0.20431849],\n",
       "       [-2.4099325 ,  0.41092426],\n",
       "       [-2.64886233,  0.81336382],\n",
       "       [-2.59873675,  1.09314576],\n",
       "       [-2.63692688, -0.12132235],\n",
       "       [-2.86624165,  0.06936447],\n",
       "       [-2.62523805,  0.59937002],\n",
       "       [-2.80068412,  0.26864374],\n",
       "       [-2.98050204, -0.48795834],\n",
       "       [-2.59000631,  0.22904384],\n",
       "       [-2.77010243,  0.26352753],\n",
       "       [-2.84936871, -0.94096057],\n",
       "       [-2.99740655, -0.34192606],\n",
       "       [-2.40561449,  0.18887143],\n",
       "       [-2.20948924,  0.43666314],\n",
       "       [-2.71445143, -0.2502082 ],\n",
       "       [-2.53814826,  0.50377114],\n",
       "       [-2.83946217, -0.22794557],\n",
       "       [-2.54308575,  0.57941002],\n",
       "       [-2.70335978,  0.10770608],\n",
       "       [ 1.28482569,  0.68516047],\n",
       "       [ 0.93248853,  0.31833364],\n",
       "       [ 1.46430232,  0.50426282],\n",
       "       [ 0.18331772, -0.82795901],\n",
       "       [ 1.08810326,  0.07459068],\n",
       "       [ 0.64166908, -0.41824687],\n",
       "       [ 1.09506066,  0.28346827],\n",
       "       [-0.74912267, -1.00489096],\n",
       "       [ 1.04413183,  0.2283619 ],\n",
       "       [-0.0087454 , -0.72308191],\n",
       "       [-0.50784088, -1.26597119],\n",
       "       [ 0.51169856, -0.10398124],\n",
       "       [ 0.26497651, -0.55003646],\n",
       "       [ 0.98493451, -0.12481785],\n",
       "       [-0.17392537, -0.25485421],\n",
       "       [ 0.92786078,  0.46717949],\n",
       "       [ 0.66028376, -0.35296967],\n",
       "       [ 0.23610499, -0.33361077],\n",
       "       [ 0.94473373, -0.54314555],\n",
       "       [ 0.04522698, -0.58383438],\n",
       "       [ 1.11628318, -0.08461685],\n",
       "       [ 0.35788842, -0.06892503],\n",
       "       [ 1.29818388, -0.32778731],\n",
       "       [ 0.92172892, -0.18273779],\n",
       "       [ 0.71485333,  0.14905594],\n",
       "       [ 0.90017437,  0.32850447],\n",
       "       [ 1.33202444,  0.24444088],\n",
       "       [ 1.55780216,  0.26749545],\n",
       "       [ 0.81329065, -0.1633503 ],\n",
       "       [-0.30558378, -0.36826219],\n",
       "       [-0.06812649, -0.70517213],\n",
       "       [-0.18962247, -0.68028676],\n",
       "       [ 0.13642871, -0.31403244],\n",
       "       [ 1.38002644, -0.42095429],\n",
       "       [ 0.58800644, -0.48428742],\n",
       "       [ 0.80685831,  0.19418231],\n",
       "       [ 1.22069088,  0.40761959],\n",
       "       [ 0.81509524, -0.37203706],\n",
       "       [ 0.24595768, -0.2685244 ],\n",
       "       [ 0.16641322, -0.68192672],\n",
       "       [ 0.46480029, -0.67071154],\n",
       "       [ 0.8908152 , -0.03446444],\n",
       "       [ 0.23054802, -0.40438585],\n",
       "       [-0.70453176, -1.01224823],\n",
       "       [ 0.35698149, -0.50491009],\n",
       "       [ 0.33193448, -0.21265468],\n",
       "       [ 0.37621565, -0.29321893],\n",
       "       [ 0.64257601,  0.01773819],\n",
       "       [-0.90646986, -0.75609337],\n",
       "       [ 0.29900084, -0.34889781],\n",
       "       [ 2.53119273, -0.00984911],\n",
       "       [ 1.41523588, -0.57491635],\n",
       "       [ 2.61667602,  0.34390315],\n",
       "       [ 1.97153105, -0.1797279 ],\n",
       "       [ 2.35000592, -0.04026095],\n",
       "       [ 3.39703874,  0.55083667],\n",
       "       [ 0.52123224, -1.19275873],\n",
       "       [ 2.93258707,  0.3555    ],\n",
       "       [ 2.32122882, -0.2438315 ],\n",
       "       [ 2.91675097,  0.78279195],\n",
       "       [ 1.66177415,  0.24222841],\n",
       "       [ 1.80340195, -0.21563762],\n",
       "       [ 2.1655918 ,  0.21627559],\n",
       "       [ 1.34616358, -0.77681835],\n",
       "       [ 1.58592822, -0.53964071],\n",
       "       [ 1.90445637,  0.11925069],\n",
       "       [ 1.94968906,  0.04194326],\n",
       "       [ 3.48705536,  1.17573933],\n",
       "       [ 3.79564542,  0.25732297],\n",
       "       [ 1.30079171, -0.76114964],\n",
       "       [ 2.42781791,  0.37819601],\n",
       "       [ 1.19900111, -0.60609153],\n",
       "       [ 3.49992004,  0.4606741 ],\n",
       "       [ 1.38876613, -0.20439933],\n",
       "       [ 2.2754305 ,  0.33499061],\n",
       "       [ 2.61409047,  0.56090136],\n",
       "       [ 1.25850816, -0.17970479],\n",
       "       [ 1.29113206, -0.11666865],\n",
       "       [ 2.12360872, -0.20972948],\n",
       "       [ 2.38800302,  0.4646398 ],\n",
       "       [ 2.84167278,  0.37526917],\n",
       "       [ 3.23067366,  1.37416509],\n",
       "       [ 2.15943764, -0.21727758],\n",
       "       [ 1.44416124, -0.14341341],\n",
       "       [ 1.78129481, -0.49990168],\n",
       "       [ 3.07649993,  0.68808568],\n",
       "       [ 2.14424331,  0.1400642 ],\n",
       "       [ 1.90509815,  0.04930053],\n",
       "       [ 1.16932634, -0.16499026],\n",
       "       [ 2.10761114,  0.37228787],\n",
       "       [ 2.31415471,  0.18365128],\n",
       "       [ 1.9222678 ,  0.40920347],\n",
       "       [ 1.41523588, -0.57491635],\n",
       "       [ 2.56301338,  0.2778626 ],\n",
       "       [ 2.41874618,  0.3047982 ],\n",
       "       [ 1.94410979,  0.1875323 ],\n",
       "       [ 1.52716661, -0.37531698],\n",
       "       [ 1.76434572,  0.07885885],\n",
       "       [ 1.90094161,  0.11662796],\n",
       "       [ 1.39018886, -0.28266094]])"
      ]
     },
     "execution_count": 6,
     "metadata": {},
     "output_type": "execute_result"
    }
   ],
   "source": [
    "pca = PCA(n_components=2)\n",
    "transformed = pca.fit_transform(iris[cols])\n",
    "transformed"
   ]
  },
  {
   "cell_type": "code",
   "execution_count": 8,
   "metadata": {},
   "outputs": [
    {
     "data": {
      "text/plain": [
       "<Axes: >"
      ]
     },
     "execution_count": 8,
     "metadata": {},
     "output_type": "execute_result"
    },
    {
     "data": {
      "image/png": "[encoded data removed]",
      "text/plain": [
       "<Figure size 640x480 with 1 Axes>"
      ]
     },
     "metadata": {},
     "output_type": "display_data"
    }
   ],
   "source": [
    "sns.scatterplot(x=transformed[:,0], y=transformed[:,1], hue=species)"
   ]
  },
  {
   "cell_type": "markdown",
   "metadata": {},
   "source": [
    "Even after reducing the number of columns from **4** to **2** we can still see the differnt categories as in the original dataset."
   ]
  },
  {
   "cell_type": "code",
   "execution_count": 9,
   "metadata": {},
   "outputs": [
    {
     "data": {
      "text/plain": [
       "array([[ 0.36138659, -0.08452251,  0.85667061,  0.3582892 ],\n",
       "       [ 0.65658877,  0.73016143, -0.17337266, -0.07548102]])"
      ]
     },
     "execution_count": 9,
     "metadata": {},
     "output_type": "execute_result"
    }
   ],
   "source": [
    "pca.components_"
   ]
  },
  {
   "cell_type": "markdown",
   "metadata": {},
   "source": [
    "### t-Distributed Stochastic Neighbor Embedding (t-SNE)"
   ]
  },
  {
   "cell_type": "code",
   "execution_count": 11,
   "metadata": {},
   "outputs": [],
   "source": [
    "from sklearn.manifold import TSNE\n",
    "\n",
    "tsne = TSNE(n_components=2)"
   ]
  },
  {
   "cell_type": "code",
   "execution_count": 13,
   "metadata": {},
   "outputs": [
    {
     "data": {
      "text/plain": [
       "(150, 2)"
      ]
     },
     "execution_count": 13,
     "metadata": {},
     "output_type": "execute_result"
    }
   ],
   "source": [
    "transformed = tsne.fit_transform(iris)\n",
    "transformed.shape"
   ]
  },
  {
   "cell_type": "code",
   "execution_count": 14,
   "metadata": {},
   "outputs": [
    {
     "data": {
      "text/plain": [
       "<Axes: >"
      ]
     },
     "execution_count": 14,
     "metadata": {},
     "output_type": "execute_result"
    },
    {
     "data": {
      "image/png": "[encoded data removed]",
      "text/plain": [
       "<Figure size 640x480 with 1 Axes>"
      ]
     },
     "metadata": {},
     "output_type": "display_data"
    }
   ],
   "source": [
    "sns.scatterplot(x=transformed[:,0], y=transformed[:,1], hue=species)"
   ]
  }
 ],
 "metadata": {
  "kernelspec": {
   "display_name": "Python 3",
   "language": "python",
   "name": "python3"
  },
  "language_info": {
   "codemirror_mode": {
    "name": "ipython",
    "version": 3
   },
   "file_extension": ".py",
   "mimetype": "text/x-python",
   "name": "python",
   "nbconvert_exporter": "python",
   "pygments_lexer": "ipython3",
   "version": "3.12.0"
  }
 },
 "nbformat": 4,
 "nbformat_minor": 2
}
